{
 "cells": [
  {
   "cell_type": "markdown",
   "metadata": {},
   "source": [
    "# Register of renewable energy power plants in Germany\n",
    "\n",
    "This is a Jupyter Notebook that downloads and cleans up the data from the project [EnergyMap.info](http://www.energymap.info/) and  the German Federal Network Agency for Electricity, Gas, Telecommunications, Posts and Railway [BNetzA](http://www.bundesnetzagentur.de/). EnergyMap.info provides a register of all renewable energy power plants in Germany.\n",
    "\n",
    "Since 2014 the BNetzA is responsible to publish the register of renewable power plants due to the [EEG 2014 (German)](http://www.gesetze-im-internet.de/eeg_2014/) [(English)](http://www.res-legal.eu/search-by-country/germany/single/s/res-e/t/promotion/aid/feed-in-tariff-eeg-feed-in-tariff/lastp/135/). Note: From June 2014 on all power plants are published in two seperated MS Excel-files for roof mounted PV systems and all other renewable power plants.\n",
    "\n",
    "The register includes all RE power plants which are eligible for the German feed-in tariff (according to the EEG law). EnergyMap.info collects all data which is mandatorily reported from the four German TSO's to the BNetzA and merges it. Additionally EnergyMap.info validates and converts the data to a standard format.\n",
    "\n",
    "\n",
    "New links:\n",
    "\n",
    "https://www.netztransparenz.de/de/Anlagenstammdaten.htm \n"
   ]
  },
  {
   "cell_type": "markdown",
   "metadata": {},
   "source": [
    "# License\n",
    "\n",
    "* This notebook is published under the GNU GPL v3 license. http://www.gnu.org/licenses/gpl-3.0.en.html.\n",
    "* This notebook is developed by the project OPSD\n",
    "* http://open-power-system-data.org/"
   ]
  },
  {
   "cell_type": "markdown",
   "metadata": {},
   "source": [
    "# Table of contents \n",
    "\n",
    "* [Register of renewable energy power plants in Germany](#Register-of-renewable-energy-power-plants-in-Germany)\n",
    "* [License](#Licence)\n",
    "* [Import python modules](#Import-python-modules)\n",
    "* [Data overview](#Data-overview)\n",
    "* [Download and extract data](#Download-an-extracting-data-from-data-sources)\n",
    "    * [Unzip and load data as Data Frame](#Unzip-and-load-data-as-data-frame)\n",
    "    * [Definition of column names](#Definition-of-column-names)\n",
    "    * [First look at the Data Frame structure and format](#First-look-at-the-Data-Frame-structure-and-format)\n",
    "    * [Rename values by own english standards](#Rename-values-by-own-english-standards)\n",
    "\n",
    "* [Find duplicantes and other suspect data](#Find-duplicantes-and-other-suspect-data)\n",
    "\n",
    "* [Georeferencing get coordinates](#Georeferencing-get-coordinates)\n",
    "* [Geoploting test](#Geoplot-testing)\n",
    "* [Documenting the data package in a JSON object](#Documenting-the-data-package-in-a-JSON-object)\n",
    "* [Write Data Package to disk](#Write-Data-Package-to-disk)\n"
   ]
  },
  {
   "cell_type": "markdown",
   "metadata": {},
   "source": [
    "# Import Python modules"
   ]
  },
  {
   "cell_type": "code",
   "execution_count": 1,
   "metadata": {
    "collapsed": false,
    "scrolled": true
   },
   "outputs": [],
   "source": [
    "%matplotlib inline\n",
    "\n",
    "\n",
    "from collections import OrderedDict\n",
    "import io\n",
    "import json\n",
    "import os\n",
    "import subprocess\n",
    "import zipfile\n",
    "import posixpath\n",
    "import urllib.parse\n",
    "import urllib.request\n",
    "import matplotlib.pyplot as plt\n",
    "from mpl_toolkits.basemap import Basemap\n",
    "import numpy as np\n",
    "import pandas as pd\n",
    "import requests\n",
    "import yaml  # http://pyyaml.org/, pip install pyyaml, conda install pyyaml\n",
    "import datetime  \n",
    "\n",
    "\n",
    "\n",
    "#create download and output folder if they do not exist\n",
    "if not os.path.exists('input/'): os.makedirs('input/')\n",
    "if not os.path.exists('output/'): os.makedirs('output/')\n",
    "if not os.path.exists('output/datapackage_renewables'): os.makedirs('output/datapackage_renewables')"
   ]
  },
  {
   "cell_type": "markdown",
   "metadata": {},
   "source": [
    "\n",
    "# Data overview\n",
    "\n",
    "## EnergyMap.info\n",
    "\n",
    "* Data discription from source: http://www.energymap.info/download/\n",
    "* Download from: http://www.energymap.info/download/eeg_anlagenregister_2015.08.utf8.csv.zip\n",
    "    * Last Update: 08.2015\n",
    "    * File sides: 51,9 MB\n",
    "\n",
    "## Netztransparenz.de \n",
    "\n",
    "German TSO transparenty page of 50Hertz, Amprion, TenneT and TransnetBW.\n",
    "* [Netztransparenz](https://www.netztransparenz.de/de/Anlagenstammdaten.htm)\n",
    "\n",
    "* Download: [zip-File](https://www.netztransparenz.de/de/file/UeNB-EEG-Anlagenstammdaten_2013.zip)\n",
    "    * Last Update: 06.11.2015\n",
    "    * File sides: 363,9 MB\n",
    "    \n",
    "##  Bundesnetzagentur (BNetzA)\n",
    "\n",
    "German Federal Network Agency for Electricity, Gas, Telecommunications, Posts and Railway (BNetzA) publish the renewable power plant register (\"Anlagenregister\"): [PV](http://www.bundesnetzagentur.de/cln_1422/DE/Sachgebiete/ElektrizitaetundGas/Unternehmen_Institutionen/ErneuerbareEnergien/Photovoltaik/DatenMeldgn_EEG-VergSaetze/DatenMeldgn_EEG-VergSaetze_node.html) and [other renewables](http://www.bundesnetzagentur.de/cln_1422/DE/Sachgebiete/ElektrizitaetundGas/Unternehmen_Institutionen/ErneuerbareEnergien/Datenerhebung_EEG/Datenerhebung_EEG-node.html) renewable energy power plants."
   ]
  },
  {
   "cell_type": "markdown",
   "metadata": {},
   "source": [
    "# Download an extracting data from data sources\n",
    "\n",
    "In the beginning we using EnergyMap.info for all historical data."
   ]
  },
  {
   "cell_type": "code",
   "execution_count": 2,
   "metadata": {
    "collapsed": false
   },
   "outputs": [],
   "source": [
    "# Energymap.info as referenc\n",
    "url_energymap = 'http://www.energymap.info/download/eeg_anlagenregister_2015.08.utf8.csv.zip'\n",
    "# netztransparenz.de\n",
    "url_netztransp  ='https://www.netztransparenz.de/de/file/Anlagenstammdaten_2014_4UeNB.zip'\n",
    "# BNetzA register\n",
    "url_bnetza ='http://www.bundesnetzagentur.de/SharedDocs/Downloads/DE/Sachgebiete/Energie/' \\\n",
    "            'Unternehmen_Institutionen/ErneuerbareEnergien/Anlagenregister/VOeFF_Anlagenregister/' \\\n",
    "            '2015_11_Veroeff_AnlReg.xls?__blob=publicationFile&v=1'\n",
    "# BNetzA PV register \n",
    "url_bnetza_pv = 'https://www.bundesnetzagentur.de/SharedDocs/Downloads/DE/' \\\n",
    "                'Sachgebiete/Energie/Unternehmen_Institutionen/ErneuerbareEnergien/' \\\n",
    "                'Photovoltaik/Datenmeldungen/Meldungen_Aug-Okt2015.xls?__blob=publicationFile&v=1'\n"
   ]
  },
  {
   "cell_type": "code",
   "execution_count": 3,
   "metadata": {
    "collapsed": false
   },
   "outputs": [],
   "source": [
    "# Download function from TU Berlin\n",
    "def downloadandcache(url):\n",
    "    \"\"\"This function downloads a file into a folder called \n",
    "    downloads and returns the local filepath.\"\"\"\n",
    "    path = urllib.parse.urlsplit(url).path\n",
    "    filename = posixpath.basename(path)\n",
    "    now = datetime.datetime.now()\n",
    "    datestring = \"\"\n",
    "    datestring = str(now.year)+\"-\"+str(now.month)\n",
    "    filepath = \"input/\"+datestring+\"-\"+filename\n",
    "    \n",
    "    #check if file exists, otherwise download it\n",
    "    if os.path.exists(filepath) == False:\n",
    "        print(\"Downloading file\", filename)\n",
    "        urllib.request.urlretrieve(url, filepath)\n",
    "    else:\n",
    "        print(\"Using local file from\", filepath)\n",
    "    filepath = ''+filepath\n",
    "    return filepath"
   ]
  },
  {
   "cell_type": "code",
   "execution_count": 4,
   "metadata": {
    "collapsed": false
   },
   "outputs": [
    {
     "name": "stdout",
     "output_type": "stream",
     "text": [
      "Using local file from input/2016-2-eeg_anlagenregister_2015.08.utf8.csv.zip\n",
      "Using local file from input/2016-2-2015_11_Veroeff_AnlReg.xls\n",
      "Using local file from input/2016-2-Meldungen_Aug-Okt2015.xls\n",
      "Using local file from input/2016-2-Anlagenstammdaten_2014_4UeNB.zip\n"
     ]
    }
   ],
   "source": [
    "# Use download function and get file path\n",
    "energymap_filepath = downloadandcache(url_energymap)\n",
    "bnetza_filepath = downloadandcache(url_bnetza)\n",
    "bnetza_pv_filepath = downloadandcache(url_bnetza_pv)\n",
    "netztransp_filepath = downloadandcache(url_netztransp)"
   ]
  },
  {
   "cell_type": "markdown",
   "metadata": {},
   "source": [
    "## Unzip and load data as data frame\n",
    "\n",
    "We are creating a [pandas DataFrame](http://pandas.pydata.org/pandas-docs/stable/dsintro.html#dataframe) in order to handle our data.\n",
    "\n",
    "--> Time for loading data: approx. 5-10 min."
   ]
  },
  {
   "cell_type": "code",
   "execution_count": 5,
   "metadata": {
    "collapsed": false
   },
   "outputs": [],
   "source": [
    "# unzip netztransparenz.de\n",
    "z = zipfile.ZipFile(netztransp_filepath)\n",
    "# read csv of Amprion\n",
    "amprion_df = pd.read_csv(z.open('Amprion_Anlagenstammdaten_2014.csv'),\n",
    "                       sep=';',        # CSV field separator, default is ','\n",
    "                       thousands='.',  # Thousands separator, default is ','\n",
    "                       decimal=',',    # Decimal separator, default is '.'\n",
    "                       header=0,\n",
    "                       parse_dates=[11,12,13,14], \n",
    "                       encoding = 'cp850',\n",
    "                       dayfirst=True, \n",
    "                       low_memory=False)"
   ]
  },
  {
   "cell_type": "code",
   "execution_count": 6,
   "metadata": {
    "collapsed": false
   },
   "outputs": [],
   "source": [
    "# read csv of 50Hertz\n",
    "hertz_df = pd.read_csv(z.open('50Hertz_Anlagenstammdaten_2014.csv'),\n",
    "                       sep=';',        # CSV field separator, default is ','\n",
    "                       thousands='.',  # Thousands separator, default is ','\n",
    "                       decimal=',',    # Decimal separator, default is '.'\n",
    "                       header=0,\n",
    "                       parse_dates=[11,12,13,14],  \n",
    "                       encoding = 'cp1252',\n",
    "                       dayfirst=True, \n",
    "                       low_memory=False)\n"
   ]
  },
  {
   "cell_type": "code",
   "execution_count": 7,
   "metadata": {
    "collapsed": false
   },
   "outputs": [],
   "source": [
    "# read csv of TenneT\n",
    "tennet_df = pd.read_csv(z.open('TenneT_Anlagenstammdaten_2014.csv'),\n",
    "                       sep=';',        # CSV field separator, default is ','\n",
    "                       thousands='.',  # Thousands separator, default is ','\n",
    "                       decimal=',',    # Decimal separator, default is '.'\n",
    "                       header=0,\n",
    "                       parse_dates=[11,12,13,14], \n",
    "                       encoding = 'cp1252',\n",
    "                       dayfirst=True, \n",
    "                       low_memory=False)"
   ]
  },
  {
   "cell_type": "code",
   "execution_count": 8,
   "metadata": {
    "collapsed": false
   },
   "outputs": [],
   "source": [
    "# read csv of TenneT\n",
    "transnetbw_df = pd.read_csv(z.open('TransnetBW_Anlagenstammdaten_2014.csv'),\n",
    "                       sep=';',        # CSV field separator, default is ','\n",
    "                       thousands='.',  # Thousands separator, default is ','\n",
    "                       decimal=',',    # Decimal separator, default is '.'\n",
    "                       header=0,\n",
    "                       parse_dates=[11,12,13,14], \n",
    "                       encoding = 'cp1252',\n",
    "                       dayfirst=True, \n",
    "                       low_memory=False)"
   ]
  },
  {
   "cell_type": "code",
   "execution_count": 9,
   "metadata": {
    "collapsed": false
   },
   "outputs": [],
   "source": [
    "# unzip energymap zip file\n",
    "zz = zipfile.ZipFile(energymap_filepath)\n",
    "# read csv of energymap\n",
    "enmap_df = pd.read_csv(zz.open('eeg_anlagenregister_2015.08.utf8.csv'),\n",
    "                       sep=';',        # CSV field separator, default is ','\n",
    "                       thousands='.',  # Thousands separator, default is ','\n",
    "                       decimal=',',    # Decimal separator, default is '.'\n",
    "                       header=None,\n",
    "                       names=None,\n",
    "                       parse_dates=[0], \n",
    "                       dayfirst=True, \n",
    "                       comment='#',\n",
    "                       low_memory=False)"
   ]
  },
  {
   "cell_type": "code",
   "execution_count": 10,
   "metadata": {
    "collapsed": false
   },
   "outputs": [],
   "source": [
    "# read BNetzA register\n",
    "bnetza = pd.ExcelFile(bnetza_filepath)\n",
    "#bnetza.sheet_names\n",
    "bnetza_df = bnetza.parse(\"Gesamtübersicht\")\n",
    "#list(bnetza1.columns)"
   ]
  },
  {
   "cell_type": "code",
   "execution_count": 11,
   "metadata": {
    "collapsed": false
   },
   "outputs": [
    {
     "data": {
      "text/plain": [
       "['August 2014',\n",
       " 'September 2014',\n",
       " 'Oktober 2014',\n",
       " 'November 2014',\n",
       " 'Dezember 2014',\n",
       " 'Januar 2015',\n",
       " 'Februar 2015',\n",
       " 'März 2015',\n",
       " 'April 2015',\n",
       " 'Mai 2015',\n",
       " 'Juni 2015',\n",
       " 'Juli 2015',\n",
       " 'August 2015',\n",
       " 'September 2015',\n",
       " 'Oktober 2015']"
      ]
     },
     "execution_count": 11,
     "metadata": {},
     "output_type": "execute_result"
    }
   ],
   "source": [
    "# read BNetzA PV roof mounted\n",
    "bnetza_pv = pd.ExcelFile(bnetza_pv_filepath)\n",
    "\n",
    "# Combine all sheets into one DataFrame\n",
    "bnetza_pv_df = pd.concat(bnetza_pv.parse(sheet, skiprows=10\n",
    "                         ) for sheet in bnetza_pv.sheet_names)\n",
    "# drop NULL \"Unnamed:\" column\n",
    "bnetza_pv_df = bnetza_pv_df.drop(bnetza_pv_df.columns[[7]], axis=1)\n",
    "# show sheet names\n",
    "bnetza_pv.sheet_names"
   ]
  },
  {
   "cell_type": "code",
   "execution_count": 12,
   "metadata": {
    "collapsed": false
   },
   "outputs": [],
   "source": [
    "#bnetza_df.Meldedatum.min()"
   ]
  },
  {
   "cell_type": "markdown",
   "metadata": {},
   "source": [
    "## Definition of column names\n",
    "\n",
    "Here we translate the original column names from EnergyMap.info, the four German TSO's and the BNetzA from German to English. The new English column names are assigned to our data frame. "
   ]
  },
  {
   "cell_type": "code",
   "execution_count": 13,
   "metadata": {
    "collapsed": false
   },
   "outputs": [],
   "source": [
    "# translation of column names by csv list\n",
    "columnnames =pd.read_csv('input/column_translation_list.csv',sep = \";\",\n",
    "                           header=0)\n",
    "columndict = columnnames.set_index('original_name')['column_naming'].to_dict()\n",
    "energymap_dict = columnnames.loc[columnnames['source'] == 'energymap',\n",
    "                                 'column_naming'].to_dict()"
   ]
  },
  {
   "cell_type": "code",
   "execution_count": 14,
   "metadata": {
    "collapsed": false
   },
   "outputs": [
    {
     "data": {
      "text/html": [
       "<div>\n",
       "<table border=\"1\" class=\"dataframe\">\n",
       "  <thead>\n",
       "    <tr style=\"text-align: right;\">\n",
       "      <th></th>\n",
       "      <th>original_name</th>\n",
       "      <th>column_naming</th>\n",
       "      <th>translation</th>\n",
       "      <th>source</th>\n",
       "    </tr>\n",
       "  </thead>\n",
       "  <tbody>\n",
       "    <tr>\n",
       "      <th>95</th>\n",
       "      <td>Anlage \\nBundesland</td>\n",
       "      <td>federal_state</td>\n",
       "      <td>federal state</td>\n",
       "      <td>bnetza_pv</td>\n",
       "    </tr>\n",
       "    <tr>\n",
       "      <th>96</th>\n",
       "      <td>Anlage \\nOrt oder Gemarkung</td>\n",
       "      <td>city</td>\n",
       "      <td>Place, city, village</td>\n",
       "      <td>bnetza_pv</td>\n",
       "    </tr>\n",
       "    <tr>\n",
       "      <th>97</th>\n",
       "      <td>Anlage \\nPLZ</td>\n",
       "      <td>postcode</td>\n",
       "      <td>Post code or ZIP</td>\n",
       "      <td>bnetza_pv</td>\n",
       "    </tr>\n",
       "    <tr>\n",
       "      <th>98</th>\n",
       "      <td>Anlage \\nStraße oder Flurstück *)</td>\n",
       "      <td>street_address</td>\n",
       "      <td>Street name and house number</td>\n",
       "      <td>bnetza_pv</td>\n",
       "    </tr>\n",
       "    <tr>\n",
       "      <th>99</th>\n",
       "      <td>Inbetriebnahmedatum **)</td>\n",
       "      <td>start_up_date</td>\n",
       "      <td>Start-up date</td>\n",
       "      <td>bnetza_pv</td>\n",
       "    </tr>\n",
       "    <tr>\n",
       "      <th>100</th>\n",
       "      <td>Installierte \\nNennleistung [kWp]</td>\n",
       "      <td>rated_power</td>\n",
       "      <td>Installed rated power</td>\n",
       "      <td>bnetza_pv</td>\n",
       "    </tr>\n",
       "    <tr>\n",
       "      <th>101</th>\n",
       "      <td>Meldungsdatum</td>\n",
       "      <td>notification_date</td>\n",
       "      <td>notification date</td>\n",
       "      <td>bnetza_pv</td>\n",
       "    </tr>\n",
       "  </tbody>\n",
       "</table>\n",
       "</div>"
      ],
      "text/plain": [
       "                         original_name      column_naming  \\\n",
       "95                 Anlage \\nBundesland      federal_state   \n",
       "96         Anlage \\nOrt oder Gemarkung               city   \n",
       "97                        Anlage \\nPLZ           postcode   \n",
       "98   Anlage \\nStraße oder Flurstück *)     street_address   \n",
       "99             Inbetriebnahmedatum **)      start_up_date   \n",
       "100  Installierte \\nNennleistung [kWp]        rated_power   \n",
       "101                      Meldungsdatum  notification_date   \n",
       "\n",
       "                      translation     source  \n",
       "95                  federal state  bnetza_pv  \n",
       "96           Place, city, village  bnetza_pv  \n",
       "97               Post code or ZIP  bnetza_pv  \n",
       "98   Street name and house number  bnetza_pv  \n",
       "99                  Start-up date  bnetza_pv  \n",
       "100         Installed rated power  bnetza_pv  \n",
       "101             notification date  bnetza_pv  "
      ]
     },
     "execution_count": 14,
     "metadata": {},
     "output_type": "execute_result"
    }
   ],
   "source": [
    "# get an overview of the list by source\n",
    "columnnames.loc[columnnames['source'] == 'bnetza_pv']\n",
    "#columnnames.groupby('source').count()"
   ]
  },
  {
   "cell_type": "code",
   "execution_count": 15,
   "metadata": {
    "collapsed": false
   },
   "outputs": [
    {
     "data": {
      "text/plain": [
       "Index(['federal_state', 'city', 'postcode', 'street_address', 'start_up_date',\n",
       "       'rated_power', 'notification_date'],\n",
       "      dtype='object')"
      ]
     },
     "execution_count": 15,
     "metadata": {},
     "output_type": "execute_result"
    }
   ],
   "source": [
    "# rename \n",
    "bnetza_pv_df.rename(columns = columndict , inplace=True)\n",
    "# because of douple backslash in a python dict we need a additional helping dict\n",
    "backslash ={'Anlage \\nBundesland': 'federal_state','Anlage \\nOrt oder Gemarkung': \n",
    "            'city','Anlage \\nPLZ': 'postcode','Anlage \\nStraße oder Flurstück *)': \n",
    "            'street_address', 'Installierte \\nNennleistung [kWp]': 'rated_power'}\n",
    "bnetza_pv_df.rename(columns = backslash, inplace=True)\n",
    "bnetza_pv_df.columns"
   ]
  },
  {
   "cell_type": "code",
   "execution_count": 16,
   "metadata": {
    "collapsed": false
   },
   "outputs": [],
   "source": [
    "# rename bnetza_df columns by the traslation dict\n",
    "bnetza_df.rename(columns = columndict , inplace=True)\n",
    "#bnetza_df.columns"
   ]
  },
  {
   "cell_type": "code",
   "execution_count": 17,
   "metadata": {
    "collapsed": false
   },
   "outputs": [],
   "source": [
    "# rename columns\n",
    "transnetbw_df.rename(columns = columndict , inplace=True)\n",
    "tennet_df.rename(columns = columndict , inplace=True)\n",
    "amprion_df.rename(columns = columndict , inplace=True)\n",
    "hertz_df.rename(columns = columndict , inplace=True)\n",
    "enmap_df.rename(columns = energymap_dict , inplace=True)"
   ]
  },
  {
   "cell_type": "markdown",
   "metadata": {
    "collapsed": false
   },
   "source": [
    "## Set original source to dataframe\n",
    "* Set Source names\n",
    "* Make changes with the PV solar roff mounted \n",
    "    * Add new eeg_id  "
   ]
  },
  {
   "cell_type": "code",
   "execution_count": 18,
   "metadata": {
    "collapsed": false
   },
   "outputs": [],
   "source": [
    "# set source names of each dataframe\n",
    "#enmap_df['source'] = 'EnergyMap'\n",
    "transnetbw_df['source'] = 'TransnetBW'\n",
    "tennet_df['source'] = 'TenneT'\n",
    "amprion_df['source'] = 'Amprion'\n",
    "hertz_df['source'] = '50Hertz'\n",
    "bnetza_df['source'] = 'BNetzA'\n",
    "bnetza_pv_df['source'] = 'BNetzA_PV'\n",
    "enmap_df['source'] = 'energymap'"
   ]
  },
  {
   "cell_type": "code",
   "execution_count": 19,
   "metadata": {
    "collapsed": true
   },
   "outputs": [],
   "source": [
    "# Add type of generation \n",
    "bnetza_pv_df['type_of_generation'] = 'solar_roof_mounted'\n",
    "# Add new id for eeg_id by the index\n",
    "bnetza_pv_df['eeg_id'] =  'pv_id' + bnetza_pv_df.index.astype(str)"
   ]
  },
  {
   "cell_type": "code",
   "execution_count": 20,
   "metadata": {
    "collapsed": false
   },
   "outputs": [],
   "source": [
    "# join dataframes together\n",
    "f_enmap = [enmap_df, bnetza_df, bnetza_pv_df]\n",
    "f_tso = [transnetbw_df,tennet_df, amprion_df, \n",
    "         hertz_df, bnetza_df, bnetza_pv_df]\n",
    "\n",
    "# keys?\n",
    "renewables = pd.concat(f_tso)#, keys=['TransnetBW','TenneT',\n",
    "                             #'Amprion','50Hertz','BNetzA','BNetzA_PV'])\n",
    "enmap = pd.concat(f_enmap) #, keys=['Energymap','BNetzA','BNetzA_PV'])\n"
   ]
  },
  {
   "cell_type": "markdown",
   "metadata": {},
   "source": [
    "## Select columns of our interest"
   ]
  },
  {
   "cell_type": "code",
   "execution_count": 21,
   "metadata": {
    "collapsed": false
   },
   "outputs": [],
   "source": [
    "# locate used columns\n",
    "column_interest = ['start_up_date', 'rated_power','type_of_generation',\n",
    "                   'subtype','thermal_capacity','city', 'postcode',\n",
    "                   'street_address','tso','utm_zone','utm_east', 'utm_north',\n",
    "                   'gps_lon','gps_lat', 'notification_reason', 'eeg_id',\n",
    "                   'dso_id', 'dso','voltage_level','decommissioning','source']\n"
   ]
  },
  {
   "cell_type": "code",
   "execution_count": 22,
   "metadata": {
    "collapsed": false
   },
   "outputs": [
    {
     "name": "stdout",
     "output_type": "stream",
     "text": [
      "done\n"
     ]
    }
   ],
   "source": [
    "renewables = renewables.loc[:, column_interest]\n",
    "energymap = enmap.loc[:, column_interest]\n",
    "\n",
    "# delete the rest of columns\n",
    "renewables.reset_index(drop=True)\n",
    "energymap.reset_index(drop=True)\n",
    "print('done')"
   ]
  },
  {
   "cell_type": "markdown",
   "metadata": {},
   "source": [
    "## Take a look of entries and source\n",
    " \n"
   ]
  },
  {
   "cell_type": "code",
   "execution_count": 23,
   "metadata": {
    "collapsed": false
   },
   "outputs": [
    {
     "data": {
      "text/plain": [
       "source\n",
       "50Hertz       145575\n",
       "Amprion       456292\n",
       "BNetzA          4675\n",
       "BNetzA_PV      68827\n",
       "TenneT        672226\n",
       "TransnetBW    309121\n",
       "Name: eeg_id, dtype: int64"
      ]
     },
     "execution_count": 23,
     "metadata": {},
     "output_type": "execute_result"
    }
   ],
   "source": [
    "renewables.groupby(['source'])['eeg_id'].count()"
   ]
  },
  {
   "cell_type": "code",
   "execution_count": 24,
   "metadata": {
    "collapsed": false
   },
   "outputs": [
    {
     "data": {
      "text/plain": [
       "source\n",
       "BNetzA          4675\n",
       "BNetzA_PV      68827\n",
       "energymap    1560376\n",
       "Name: eeg_id, dtype: int64"
      ]
     },
     "execution_count": 24,
     "metadata": {},
     "output_type": "execute_result"
    }
   ],
   "source": [
    "energymap.groupby(['source'])['eeg_id'].count()"
   ]
  },
  {
   "cell_type": "markdown",
   "metadata": {},
   "source": [
    "## First look at the Data Frame structure and format\n",
    "\n",
    "Here we look at the created Data Frame and the data formats of the different columns.\n",
    "\n",
    "`DataFrame.info()` shows us the number of non-null (non-NA) values in each column, which can serve as a first indicator that something went wrong in a column"
   ]
  },
  {
   "cell_type": "code",
   "execution_count": 25,
   "metadata": {
    "collapsed": false
   },
   "outputs": [
    {
     "name": "stdout",
     "output_type": "stream",
     "text": [
      "<class 'pandas.core.frame.DataFrame'>\n",
      "Int64Index: 1640770 entries, 0 to 4512\n",
      "Data columns (total 21 columns):\n",
      "start_up_date          1639585 non-null datetime64[ns]\n",
      "rated_power            1635687 non-null float64\n",
      "type_of_generation     1635690 non-null object\n",
      "subtype                1157532 non-null object\n",
      "thermal_capacity       1133 non-null float64\n",
      "city                   1640756 non-null object\n",
      "postcode               1640735 non-null object\n",
      "street_address         1286275 non-null object\n",
      "tso                    1559527 non-null object\n",
      "utm_zone               6239 non-null float64\n",
      "utm_east               6235 non-null float64\n",
      "utm_north              6235 non-null float64\n",
      "gps_lon                1551492 non-null float64\n",
      "gps_lat                1551492 non-null float64\n",
      "notification_reason    6505 non-null object\n",
      "eeg_id                 1633878 non-null object\n",
      "dso_id                 0 non-null float64\n",
      "dso                    1566788 non-null object\n",
      "voltage_level          1566819 non-null object\n",
      "decommissioning        498 non-null object\n",
      "source                 1640770 non-null object\n",
      "dtypes: datetime64[ns](1), float64(8), object(12)\n",
      "memory usage: 275.4+ MB\n"
     ]
    }
   ],
   "source": [
    "energymap.info()"
   ]
  },
  {
   "cell_type": "markdown",
   "metadata": {},
   "source": [
    "## Rename values by own english standards\n",
    "\n",
    "* use translation csv file\n",
    "* create subtypes of generation\n"
   ]
  },
  {
   "cell_type": "code",
   "execution_count": 26,
   "metadata": {
    "collapsed": false
   },
   "outputs": [],
   "source": [
    "# translation of entries values \n",
    "values =pd.read_csv('input/value_translation_list.csv',sep = \";\",\n",
    "                           header=0)\n",
    "# create dict in order change values \n",
    "valuedict = values.set_index('original_name')['subtype'].to_dict()\n",
    "# \n",
    "gentypedict = values.set_index('subtype')['type_of_generation'].to_dict()"
   ]
  },
  {
   "cell_type": "code",
   "execution_count": 27,
   "metadata": {
    "collapsed": false
   },
   "outputs": [
    {
     "name": "stdout",
     "output_type": "stream",
     "text": [
      "                   original_name                  subtype type_of_generation\n",
      "0                      Wind Land             wind_onshore               wind\n",
      "1                       Wind See            wind_offshore               wind\n",
      "2                        Klärgas               gas_sewage                gas\n",
      "3                      Grubengas                 gas_mine                gas\n",
      "4                  Freifläche PV     solar_ground_mounted              solar\n",
      "5                     Deponiegas             gas_landfill                gas\n",
      "6                       Biomasse                  biomass            biomass\n",
      "7                    Wasserkraft                    hydro              hydro\n",
      "8                            Gas                      gas                gas\n",
      "9                       Erdwärme               geothermal         geothermal\n",
      "10                   Wasserkraft                    hydro              hydro\n",
      "11                     Windkraft             wind_onshore               wind\n",
      "12                      Biomasse                  biomass            biomass\n",
      "13                    Solarstrom       solar_roof_mounted              solar\n",
      "14                       Onshore             wind_onshore               wind\n",
      "15                      Offshore            wind_offshore               wind\n",
      "16                          Holz                     wood            biomass\n",
      "17                       Gebäude       solar_roof_mounted              solar\n",
      "18                    Freifläche     solar_ground_mounted              solar\n",
      "19                Biotreibstoffe                  biofuel            biomass\n",
      "20  Biogas (Trockenfermentation)  biogas_dry_fermentation            biomass\n",
      "21                       Altholz               waste_wood            biomass\n",
      "22      Biogas (Gasnetzentnahme)         biogas_from_grid            biomass\n",
      "23                        Biogas                   biogas            biomass\n",
      "24                    Geothermie               geothermal         geothermal\n",
      "25          Windenergie Offshore            wind_offshore               wind\n",
      "26                         Solar       solar_roof_mounted              solar\n",
      "27                   Windenergie             wind_onshore               wind\n",
      "28           Windenergie an Land             wind_onshore               wind\n"
     ]
    }
   ],
   "source": [
    "print(values)"
   ]
  },
  {
   "cell_type": "code",
   "execution_count": 28,
   "metadata": {
    "collapsed": true
   },
   "outputs": [],
   "source": [
    "# replace values by standard values\n",
    "# running time ~ 10 min\n",
    "renewables.replace(valuedict, inplace=True)\n",
    "energymap.replace(valuedict, inplace=True)"
   ]
  },
  {
   "cell_type": "code",
   "execution_count": 29,
   "metadata": {
    "collapsed": false
   },
   "outputs": [],
   "source": [
    "# subtypes = type_of_generation\n",
    "renewables.subtype = renewables.type_of_generation"
   ]
  },
  {
   "cell_type": "code",
   "execution_count": 30,
   "metadata": {
    "collapsed": false
   },
   "outputs": [
    {
     "data": {
      "text/plain": [
       "type_of_generation\n",
       "#NV               8.002000\n",
       "biomass        7807.764700\n",
       "gas             621.206020\n",
       "geothermal       33.988500\n",
       "hydro          1773.302181\n",
       "solar         39531.409606\n",
       "wind          51528.177923\n",
       "Name: rated_power, dtype: float64"
      ]
     },
     "execution_count": 30,
     "metadata": {},
     "output_type": "execute_result"
    }
   ],
   "source": [
    "# replace subtypes by types\n",
    "renewables.type_of_generation.replace(gentypedict, inplace=True)\n",
    "energymap.type_of_generation.replace(gentypedict, inplace=True)\n",
    "# get an overview\n",
    "renewables.groupby(['type_of_generation'])['rated_power'].sum() / 1000"
   ]
  },
  {
   "cell_type": "code",
   "execution_count": 31,
   "metadata": {
    "collapsed": false
   },
   "outputs": [
    {
     "data": {
      "text/plain": [
       "subtype\n",
       "#NV                         8.002000\n",
       "biomass                  7807.764700\n",
       "gas_landfill              230.923120\n",
       "gas_mine                  288.110000\n",
       "gas_sewage                102.172900\n",
       "geothermal                 33.988500\n",
       "hydro                    1773.302181\n",
       "solar_ground_mounted      466.736481\n",
       "solar_roof_mounted      39064.673125\n",
       "wind_offshore            3967.176000\n",
       "wind_onshore            47561.001923\n",
       "Name: rated_power, dtype: float64"
      ]
     },
     "execution_count": 31,
     "metadata": {},
     "output_type": "execute_result"
    }
   ],
   "source": [
    "renewables.groupby(['subtype'])['rated_power'].sum() / 1000"
   ]
  },
  {
   "cell_type": "code",
   "execution_count": 32,
   "metadata": {
    "collapsed": false
   },
   "outputs": [
    {
     "data": {
      "text/plain": [
       "source\n",
       "50Hertz       145575\n",
       "Amprion       456292\n",
       "BNetzA          4675\n",
       "BNetzA_PV      68827\n",
       "TenneT        672226\n",
       "TransnetBW    309121\n",
       "Name: eeg_id, dtype: int64"
      ]
     },
     "execution_count": 32,
     "metadata": {},
     "output_type": "execute_result"
    }
   ],
   "source": [
    "renewables.groupby(['source'])['eeg_id'].count()"
   ]
  },
  {
   "cell_type": "code",
   "execution_count": 33,
   "metadata": {
    "collapsed": false
   },
   "outputs": [
    {
     "data": {
      "text/plain": [
       "source\n",
       "BNetzA          4675\n",
       "BNetzA_PV      68827\n",
       "energymap    1560376\n",
       "Name: eeg_id, dtype: int64"
      ]
     },
     "execution_count": 33,
     "metadata": {},
     "output_type": "execute_result"
    }
   ],
   "source": [
    "energymap.groupby(['source'])['eeg_id'].count()"
   ]
  },
  {
   "cell_type": "code",
   "execution_count": 34,
   "metadata": {
    "collapsed": false
   },
   "outputs": [
    {
     "data": {
      "text/plain": [
       "type_of_generation\n",
       "biomass        7848.673073\n",
       "gas             662.781140\n",
       "geothermal       33.643000\n",
       "hydro          1698.479681\n",
       "solar         38957.410956\n",
       "wind          54413.321300\n",
       "Name: rated_power, dtype: float64"
      ]
     },
     "execution_count": 34,
     "metadata": {},
     "output_type": "execute_result"
    }
   ],
   "source": [
    "energymap.groupby(['type_of_generation'])['rated_power'].sum()/1000"
   ]
  },
  {
   "cell_type": "markdown",
   "metadata": {},
   "source": [
    "# Find duplicantes and other suspect data\n",
    "\n",
    "* find duplicated power_plant_id\n",
    "* take the last entry of a duplicate \n",
    "* find and drop entries with decommissioning time\n",
    "* delete pv_roof_mounted <= 2014-12-31 from BNetzA_PV\n",
    "* postcode len() < 5 add zero\n",
    "* check notification_reason\n",
    "* delete #NV value for type of generation\n",
    "\n",
    "Post codes have to be a string value because some starts with a zero, so we remove any float type and check for invalid  post codes."
   ]
  },
  {
   "cell_type": "code",
   "execution_count": 35,
   "metadata": {
    "collapsed": true
   },
   "outputs": [],
   "source": [
    "# function for adding zero\n",
    "addzero = lambda a,b: b if (a !=4) else '0'+b"
   ]
  },
  {
   "cell_type": "code",
   "execution_count": 36,
   "metadata": {
    "collapsed": false
   },
   "outputs": [],
   "source": [
    "# change postcode               \n",
    "# convert int to string for postcode\n",
    "renewables['postcode']= renewables['postcode'].apply(str)\n",
    "renewables['postcode_new']= renewables['postcode'].apply(str)\n",
    "#count lenght of string\n",
    "renewables['postcode_len'] = renewables.postcode.str.len()\n",
    "\n",
    "# reset index\n",
    "renewables = renewables.reset_index()\n",
    "# locate len = 4 and add 0 to postcode\n",
    "renewables['postcode_new']=renewables[['postcode_len','postcode']\n",
    "                                      ].apply(lambda x: addzero(x[0], x[1]), axis=1)"
   ]
  },
  {
   "cell_type": "code",
   "execution_count": 37,
   "metadata": {
    "collapsed": false
   },
   "outputs": [],
   "source": [
    "# change postcode  \n",
    "# convert int to string for postcode\n",
    "energymap['postcode']= energymap['postcode'].apply(str)\n",
    "energymap['postcode_new']= energymap['postcode'].apply(str)\n",
    "#count lenght of string\n",
    "energymap['postcode_len'] = energymap.postcode.str.len()\n",
    "\n",
    "# reset index\n",
    "energymap = energymap.reset_index()\n",
    "# locate len = 4 and add 0 to postcode\n",
    "energymap['postcode_new']=energymap[['postcode_len','postcode']\n",
    "                                    ].apply(lambda x: addzero(x[0], x[1]), axis=1)"
   ]
  },
  {
   "cell_type": "code",
   "execution_count": 38,
   "metadata": {
    "collapsed": true
   },
   "outputs": [],
   "source": [
    "# drop and rename post code columns\n",
    "renewables.drop(['postcode_len','postcode','index'], axis=1, inplace=True)\n",
    "renewables.rename(columns={'postcode_new': 'postcode'}, inplace=True)\n",
    "\n",
    "energymap.drop(['postcode_len','postcode','index'], axis=1, inplace=True)\n",
    "energymap.rename(columns={'postcode_new': 'postcode'}, inplace=True)\n"
   ]
  },
  {
   "cell_type": "markdown",
   "metadata": {
    "collapsed": true
   },
   "source": [
    "## Drop suspect data \n",
    "\n",
    "* Order Dataframe by date in order to take the last given value if duplicates are given"
   ]
  },
  {
   "cell_type": "code",
   "execution_count": 39,
   "metadata": {
    "collapsed": false
   },
   "outputs": [
    {
     "name": "stderr",
     "output_type": "stream",
     "text": [
      "/home/leppi/anaconda3/lib/python3.4/site-packages/ipykernel/__main__.py:2: FutureWarning: order is deprecated, use sort_values(...)\n",
      "  from ipykernel import kernelapp as app\n"
     ]
    },
    {
     "data": {
      "text/html": [
       "<div>\n",
       "<table border=\"1\" class=\"dataframe\">\n",
       "  <thead>\n",
       "    <tr style=\"text-align: right;\">\n",
       "      <th></th>\n",
       "      <th>start_up_date</th>\n",
       "      <th>rated_power</th>\n",
       "      <th>type_of_generation</th>\n",
       "      <th>subtype</th>\n",
       "      <th>thermal_capacity</th>\n",
       "      <th>city</th>\n",
       "      <th>street_address</th>\n",
       "      <th>tso</th>\n",
       "      <th>utm_zone</th>\n",
       "      <th>utm_east</th>\n",
       "      <th>...</th>\n",
       "      <th>gps_lon</th>\n",
       "      <th>gps_lat</th>\n",
       "      <th>notification_reason</th>\n",
       "      <th>eeg_id</th>\n",
       "      <th>dso_id</th>\n",
       "      <th>dso</th>\n",
       "      <th>voltage_level</th>\n",
       "      <th>decommissioning</th>\n",
       "      <th>source</th>\n",
       "      <th>postcode</th>\n",
       "    </tr>\n",
       "  </thead>\n",
       "  <tbody>\n",
       "    <tr>\n",
       "      <th>250164</th>\n",
       "      <td>1895-11-16</td>\n",
       "      <td>70.000</td>\n",
       "      <td>hydro</td>\n",
       "      <td>hydro</td>\n",
       "      <td>NaN</td>\n",
       "      <td>NaN</td>\n",
       "      <td>NaN</td>\n",
       "      <td>TransnetBW GmbH</td>\n",
       "      <td>NaN</td>\n",
       "      <td>NaN</td>\n",
       "      <td>...</td>\n",
       "      <td>NaN</td>\n",
       "      <td>NaN</td>\n",
       "      <td>NaN</td>\n",
       "      <td>E16869000000000</td>\n",
       "      <td>10001553</td>\n",
       "      <td>Stadtwerke Mengen</td>\n",
       "      <td>NS</td>\n",
       "      <td>NaT</td>\n",
       "      <td>TransnetBW</td>\n",
       "      <td>885XX</td>\n",
       "    </tr>\n",
       "    <tr>\n",
       "      <th>1012695</th>\n",
       "      <td>1899-11-01</td>\n",
       "      <td>240.000</td>\n",
       "      <td>hydro</td>\n",
       "      <td>hydro</td>\n",
       "      <td>NaN</td>\n",
       "      <td>NaN</td>\n",
       "      <td>NaN</td>\n",
       "      <td>Amprion</td>\n",
       "      <td>NaN</td>\n",
       "      <td>NaN</td>\n",
       "      <td>...</td>\n",
       "      <td>NaN</td>\n",
       "      <td>NaN</td>\n",
       "      <td>NaN</td>\n",
       "      <td>E30000000242363</td>\n",
       "      <td>10001212</td>\n",
       "      <td>Stadtwerke Radevormwald GmbH</td>\n",
       "      <td>MS</td>\n",
       "      <td>NaT</td>\n",
       "      <td>Amprion</td>\n",
       "      <td>424XX</td>\n",
       "    </tr>\n",
       "    <tr>\n",
       "      <th>191311</th>\n",
       "      <td>1899-12-30</td>\n",
       "      <td>29.375</td>\n",
       "      <td>solar</td>\n",
       "      <td>solar_roof_mounted</td>\n",
       "      <td>NaN</td>\n",
       "      <td>NaN</td>\n",
       "      <td>NaN</td>\n",
       "      <td>TransnetBW GmbH</td>\n",
       "      <td>NaN</td>\n",
       "      <td>NaN</td>\n",
       "      <td>...</td>\n",
       "      <td>NaN</td>\n",
       "      <td>NaN</td>\n",
       "      <td>NaN</td>\n",
       "      <td>E16568363000000</td>\n",
       "      <td>10000843</td>\n",
       "      <td>Netze BW GmbH</td>\n",
       "      <td>NS</td>\n",
       "      <td>NaT</td>\n",
       "      <td>TransnetBW</td>\n",
       "      <td>735XX</td>\n",
       "    </tr>\n",
       "    <tr>\n",
       "      <th>1217592</th>\n",
       "      <td>1899-12-31</td>\n",
       "      <td>13.000</td>\n",
       "      <td>hydro</td>\n",
       "      <td>hydro</td>\n",
       "      <td>NaN</td>\n",
       "      <td>NaN</td>\n",
       "      <td>NaN</td>\n",
       "      <td>Amprion</td>\n",
       "      <td>NaN</td>\n",
       "      <td>NaN</td>\n",
       "      <td>...</td>\n",
       "      <td>NaN</td>\n",
       "      <td>NaN</td>\n",
       "      <td>NaN</td>\n",
       "      <td>E30000000060527</td>\n",
       "      <td>10003764</td>\n",
       "      <td>WESTNETZ GmbH</td>\n",
       "      <td>NS</td>\n",
       "      <td>NaT</td>\n",
       "      <td>Amprion</td>\n",
       "      <td>573XX</td>\n",
       "    </tr>\n",
       "    <tr>\n",
       "      <th>27213</th>\n",
       "      <td>1899-12-31</td>\n",
       "      <td>490.000</td>\n",
       "      <td>hydro</td>\n",
       "      <td>hydro</td>\n",
       "      <td>NaN</td>\n",
       "      <td>NaN</td>\n",
       "      <td>NaN</td>\n",
       "      <td>TransnetBW GmbH</td>\n",
       "      <td>NaN</td>\n",
       "      <td>NaN</td>\n",
       "      <td>...</td>\n",
       "      <td>NaN</td>\n",
       "      <td>NaN</td>\n",
       "      <td>NaN</td>\n",
       "      <td>E17149000000000</td>\n",
       "      <td>10000346</td>\n",
       "      <td>Stadtwerke Mühlacker GmbH</td>\n",
       "      <td>MS</td>\n",
       "      <td>NaT</td>\n",
       "      <td>TransnetBW</td>\n",
       "      <td>754XX</td>\n",
       "    </tr>\n",
       "  </tbody>\n",
       "</table>\n",
       "<p>5 rows × 21 columns</p>\n",
       "</div>"
      ],
      "text/plain": [
       "        start_up_date  rated_power type_of_generation             subtype  \\\n",
       "250164     1895-11-16       70.000              hydro               hydro   \n",
       "1012695    1899-11-01      240.000              hydro               hydro   \n",
       "191311     1899-12-30       29.375              solar  solar_roof_mounted   \n",
       "1217592    1899-12-31       13.000              hydro               hydro   \n",
       "27213      1899-12-31      490.000              hydro               hydro   \n",
       "\n",
       "         thermal_capacity city street_address              tso  utm_zone  \\\n",
       "250164                NaN  NaN            NaN  TransnetBW GmbH       NaN   \n",
       "1012695               NaN  NaN            NaN          Amprion       NaN   \n",
       "191311                NaN  NaN            NaN  TransnetBW GmbH       NaN   \n",
       "1217592               NaN  NaN            NaN          Amprion       NaN   \n",
       "27213                 NaN  NaN            NaN  TransnetBW GmbH       NaN   \n",
       "\n",
       "         utm_east   ...     gps_lon  gps_lat  notification_reason  \\\n",
       "250164        NaN   ...         NaN      NaN                  NaN   \n",
       "1012695       NaN   ...         NaN      NaN                  NaN   \n",
       "191311        NaN   ...         NaN      NaN                  NaN   \n",
       "1217592       NaN   ...         NaN      NaN                  NaN   \n",
       "27213         NaN   ...         NaN      NaN                  NaN   \n",
       "\n",
       "                  eeg_id    dso_id                           dso  \\\n",
       "250164   E16869000000000  10001553             Stadtwerke Mengen   \n",
       "1012695  E30000000242363  10001212  Stadtwerke Radevormwald GmbH   \n",
       "191311   E16568363000000  10000843                 Netze BW GmbH   \n",
       "1217592  E30000000060527  10003764                 WESTNETZ GmbH   \n",
       "27213    E17149000000000  10000346     Stadtwerke Mühlacker GmbH   \n",
       "\n",
       "        voltage_level decommissioning      source postcode  \n",
       "250164             NS             NaT  TransnetBW    885XX  \n",
       "1012695            MS             NaT     Amprion    424XX  \n",
       "191311             NS             NaT  TransnetBW    735XX  \n",
       "1217592            NS             NaT     Amprion    573XX  \n",
       "27213              MS             NaT  TransnetBW    754XX  \n",
       "\n",
       "[5 rows x 21 columns]"
      ]
     },
     "execution_count": 39,
     "metadata": {},
     "output_type": "execute_result"
    }
   ],
   "source": [
    "# sort index by start_up_date\n",
    "renewables = renewables.ix[pd.to_datetime(renewables.start_up_date).order().index]\n",
    "renewables.head()"
   ]
  },
  {
   "cell_type": "code",
   "execution_count": 40,
   "metadata": {
    "collapsed": false
   },
   "outputs": [
    {
     "name": "stdout",
     "output_type": "stream",
     "text": [
      "done\n"
     ]
    },
    {
     "name": "stderr",
     "output_type": "stream",
     "text": [
      "/home/leppi/anaconda3/lib/python3.4/site-packages/ipykernel/__main__.py:12: FutureWarning: the 'cols' keyword is deprecated, use 'subset' instead\n"
     ]
    }
   ],
   "source": [
    "# drop BNetzA data which are older 2014-12-31\n",
    "idx_date = renewables[(renewables['start_up_date'] <= '2014-12-31') \n",
    "                      & (renewables['source'] == 'BNetzA')].index\n",
    "renewables.drop(idx_date,inplace=True)  \n",
    "\n",
    "# Drop entires which are not installed jet\n",
    "idx_no = renewables[(renewables['notification_reason']== 'Genehmigung')].index\n",
    "renewables.drop(idx_no,inplace=True)\n",
    "\n",
    "#get all duplicated eeg_id and take last entry\n",
    "renewables.drop_duplicates(cols=['type_of_generation','start_up_date',\n",
    "                                 'eeg_id'], keep='last',inplace=True)\n",
    "\n",
    "# get all data from BNetzA_PV <= 2014-12-31 because of duplicated entries\n",
    "idx_pv = renewables[(renewables['start_up_date'] <= '2014-12-31') \n",
    "                    & (renewables['source'] == 'BNetzA_PV')].index\n",
    "renewables.drop(idx_pv,inplace=True)\n",
    "\n",
    "# drop all entries where decommissioning is not null\n",
    "idx_decom = renewables[renewables.decommissioning.notnull()].index\n",
    "renewables.drop(idx_decom,inplace=True)\n",
    "\n",
    "# delete #NV value for type of generation\n",
    "idx_nv = renewables[(renewables['type_of_generation'] == '#NV')].index\n",
    "renewables.drop(idx_nv,inplace=True)\n",
    "\n",
    "print('done')\n",
    "                                         "
   ]
  },
  {
   "cell_type": "code",
   "execution_count": 41,
   "metadata": {
    "collapsed": false
   },
   "outputs": [
    {
     "data": {
      "text/plain": [
       "type_of_generation\n",
       "biomass        6781.629540\n",
       "gas             552.477820\n",
       "geothermal       33.988500\n",
       "hydro          1624.171699\n",
       "solar         38479.259784\n",
       "wind          43440.678173\n",
       "Name: rated_power, dtype: float64"
      ]
     },
     "execution_count": 41,
     "metadata": {},
     "output_type": "execute_result"
    }
   ],
   "source": [
    "renewables.groupby(['type_of_generation'])['rated_power'].sum() / 1000"
   ]
  },
  {
   "cell_type": "code",
   "execution_count": 42,
   "metadata": {
    "collapsed": false
   },
   "outputs": [
    {
     "data": {
      "text/plain": [
       "subtype\n",
       "biomass                  6781.629540\n",
       "gas_landfill              218.750120\n",
       "gas_mine                  245.679000\n",
       "gas_sewage                 88.048700\n",
       "geothermal                 33.988500\n",
       "hydro                    1624.171699\n",
       "solar_ground_mounted      376.851555\n",
       "solar_roof_mounted      38102.408229\n",
       "wind_offshore            3478.276000\n",
       "wind_onshore            39962.402173\n",
       "Name: rated_power, dtype: float64"
      ]
     },
     "execution_count": 42,
     "metadata": {},
     "output_type": "execute_result"
    }
   ],
   "source": [
    "renewables.groupby(['subtype'])['rated_power'].sum() / 1000"
   ]
  },
  {
   "cell_type": "markdown",
   "metadata": {},
   "source": [
    "## Energymap dataframe as starting point\n",
    "\n",
    "* We delete all data from energymap >= 2014-07-31\n",
    "* Make new index by date"
   ]
  },
  {
   "cell_type": "code",
   "execution_count": 43,
   "metadata": {
    "collapsed": false
   },
   "outputs": [],
   "source": [
    "idx_date = energymap[(energymap['start_up_date'] >= '2014-07-31') \n",
    "                     & (energymap['source'] == 'energymap')].index\n",
    "energymap.drop(idx_date,inplace=True)     \n"
   ]
  },
  {
   "cell_type": "code",
   "execution_count": 44,
   "metadata": {
    "collapsed": false
   },
   "outputs": [
    {
     "name": "stderr",
     "output_type": "stream",
     "text": [
      "/home/leppi/anaconda3/lib/python3.4/site-packages/ipykernel/__main__.py:2: FutureWarning: order is deprecated, use sort_values(...)\n",
      "  from ipykernel import kernelapp as app\n"
     ]
    },
    {
     "data": {
      "text/html": [
       "<div>\n",
       "<table border=\"1\" class=\"dataframe\">\n",
       "  <thead>\n",
       "    <tr style=\"text-align: right;\">\n",
       "      <th></th>\n",
       "      <th>start_up_date</th>\n",
       "      <th>rated_power</th>\n",
       "      <th>type_of_generation</th>\n",
       "      <th>subtype</th>\n",
       "      <th>thermal_capacity</th>\n",
       "      <th>city</th>\n",
       "      <th>street_address</th>\n",
       "      <th>tso</th>\n",
       "      <th>utm_zone</th>\n",
       "      <th>utm_east</th>\n",
       "      <th>...</th>\n",
       "      <th>gps_lon</th>\n",
       "      <th>gps_lat</th>\n",
       "      <th>notification_reason</th>\n",
       "      <th>eeg_id</th>\n",
       "      <th>dso_id</th>\n",
       "      <th>dso</th>\n",
       "      <th>voltage_level</th>\n",
       "      <th>decommissioning</th>\n",
       "      <th>source</th>\n",
       "      <th>postcode</th>\n",
       "    </tr>\n",
       "  </thead>\n",
       "  <tbody>\n",
       "    <tr>\n",
       "      <th>261641</th>\n",
       "      <td>1895-11-16</td>\n",
       "      <td>70</td>\n",
       "      <td>hydro</td>\n",
       "      <td>NaN</td>\n",
       "      <td>NaN</td>\n",
       "      <td>Mengen</td>\n",
       "      <td>NaN</td>\n",
       "      <td>TransnetBW GmbH</td>\n",
       "      <td>NaN</td>\n",
       "      <td>NaN</td>\n",
       "      <td>...</td>\n",
       "      <td>9.346</td>\n",
       "      <td>48.069</td>\n",
       "      <td>NaN</td>\n",
       "      <td>E11553010100626210100001476300001</td>\n",
       "      <td>NaN</td>\n",
       "      <td>Stadtwerke Mengen</td>\n",
       "      <td>07 (NS)</td>\n",
       "      <td>NaN</td>\n",
       "      <td>energymap</td>\n",
       "      <td>88512</td>\n",
       "    </tr>\n",
       "    <tr>\n",
       "      <th>1345866</th>\n",
       "      <td>1898-07-01</td>\n",
       "      <td>400</td>\n",
       "      <td>hydro</td>\n",
       "      <td>NaN</td>\n",
       "      <td>NaN</td>\n",
       "      <td>Fachbach</td>\n",
       "      <td>Elektrizitätswerk 0</td>\n",
       "      <td>Amprion GmbH</td>\n",
       "      <td>NaN</td>\n",
       "      <td>NaN</td>\n",
       "      <td>...</td>\n",
       "      <td>7.683</td>\n",
       "      <td>50.333</td>\n",
       "      <td>NaN</td>\n",
       "      <td>E31495010000000000060208028500000</td>\n",
       "      <td>NaN</td>\n",
       "      <td>Syna GmbH</td>\n",
       "      <td>05 (MS)</td>\n",
       "      <td>NaN</td>\n",
       "      <td>energymap</td>\n",
       "      <td>56133</td>\n",
       "    </tr>\n",
       "    <tr>\n",
       "      <th>1246425</th>\n",
       "      <td>1899-11-01</td>\n",
       "      <td>240</td>\n",
       "      <td>hydro</td>\n",
       "      <td>NaN</td>\n",
       "      <td>NaN</td>\n",
       "      <td>Radevormwald</td>\n",
       "      <td>Wülfingstraße 6</td>\n",
       "      <td>Amprion GmbH</td>\n",
       "      <td>NaN</td>\n",
       "      <td>NaN</td>\n",
       "      <td>...</td>\n",
       "      <td>7.350</td>\n",
       "      <td>51.200</td>\n",
       "      <td>NaN</td>\n",
       "      <td>E3121201WA-WUELFINGSTRASSE--00001</td>\n",
       "      <td>NaN</td>\n",
       "      <td>Stadtwerke Radevormwald GmbH</td>\n",
       "      <td>05 (MS)</td>\n",
       "      <td>NaN</td>\n",
       "      <td>energymap</td>\n",
       "      <td>42477</td>\n",
       "    </tr>\n",
       "    <tr>\n",
       "      <th>117094</th>\n",
       "      <td>1899-11-01</td>\n",
       "      <td>24</td>\n",
       "      <td>hydro</td>\n",
       "      <td>NaN</td>\n",
       "      <td>NaN</td>\n",
       "      <td>Zuzenhausen</td>\n",
       "      <td>NaN</td>\n",
       "      <td>TransnetBW GmbH</td>\n",
       "      <td>NaN</td>\n",
       "      <td>NaN</td>\n",
       "      <td>...</td>\n",
       "      <td>8.827</td>\n",
       "      <td>49.296</td>\n",
       "      <td>NaN</td>\n",
       "      <td>E11495010000000000060208118500000</td>\n",
       "      <td>NaN</td>\n",
       "      <td>Syna GmbH</td>\n",
       "      <td>07 (NS)</td>\n",
       "      <td>NaN</td>\n",
       "      <td>energymap</td>\n",
       "      <td>74939</td>\n",
       "    </tr>\n",
       "    <tr>\n",
       "      <th>1555470</th>\n",
       "      <td>1899-12-30</td>\n",
       "      <td>400</td>\n",
       "      <td>hydro</td>\n",
       "      <td>NaN</td>\n",
       "      <td>NaN</td>\n",
       "      <td>Königshain-Wiederau, OT Stein</td>\n",
       "      <td>Chemnitztalstr. 1</td>\n",
       "      <td>50Hertz Transmission GmbH</td>\n",
       "      <td>NaN</td>\n",
       "      <td>NaN</td>\n",
       "      <td>...</td>\n",
       "      <td>NaN</td>\n",
       "      <td>NaN</td>\n",
       "      <td>NaN</td>\n",
       "      <td>E41081010000000000000000000006028</td>\n",
       "      <td>NaN</td>\n",
       "      <td>Mitteldeutsche Netzgesellschaft Strom mbH</td>\n",
       "      <td>05 (MS)</td>\n",
       "      <td>NaN</td>\n",
       "      <td>energymap</td>\n",
       "      <td>09306</td>\n",
       "    </tr>\n",
       "  </tbody>\n",
       "</table>\n",
       "<p>5 rows × 21 columns</p>\n",
       "</div>"
      ],
      "text/plain": [
       "        start_up_date  rated_power type_of_generation subtype  \\\n",
       "261641     1895-11-16           70              hydro     NaN   \n",
       "1345866    1898-07-01          400              hydro     NaN   \n",
       "1246425    1899-11-01          240              hydro     NaN   \n",
       "117094     1899-11-01           24              hydro     NaN   \n",
       "1555470    1899-12-30          400              hydro     NaN   \n",
       "\n",
       "         thermal_capacity                           city       street_address  \\\n",
       "261641                NaN                         Mengen                  NaN   \n",
       "1345866               NaN                       Fachbach  Elektrizitätswerk 0   \n",
       "1246425               NaN                   Radevormwald      Wülfingstraße 6   \n",
       "117094                NaN                    Zuzenhausen                  NaN   \n",
       "1555470               NaN  Königshain-Wiederau, OT Stein    Chemnitztalstr. 1   \n",
       "\n",
       "                               tso  utm_zone  utm_east   ...     gps_lon  \\\n",
       "261641             TransnetBW GmbH       NaN       NaN   ...       9.346   \n",
       "1345866               Amprion GmbH       NaN       NaN   ...       7.683   \n",
       "1246425               Amprion GmbH       NaN       NaN   ...       7.350   \n",
       "117094             TransnetBW GmbH       NaN       NaN   ...       8.827   \n",
       "1555470  50Hertz Transmission GmbH       NaN       NaN   ...         NaN   \n",
       "\n",
       "         gps_lat  notification_reason                             eeg_id  \\\n",
       "261641    48.069                  NaN  E11553010100626210100001476300001   \n",
       "1345866   50.333                  NaN  E31495010000000000060208028500000   \n",
       "1246425   51.200                  NaN  E3121201WA-WUELFINGSTRASSE--00001   \n",
       "117094    49.296                  NaN  E11495010000000000060208118500000   \n",
       "1555470      NaN                  NaN  E41081010000000000000000000006028   \n",
       "\n",
       "        dso_id                                        dso voltage_level  \\\n",
       "261641     NaN                          Stadtwerke Mengen       07 (NS)   \n",
       "1345866    NaN                                  Syna GmbH       05 (MS)   \n",
       "1246425    NaN               Stadtwerke Radevormwald GmbH       05 (MS)   \n",
       "117094     NaN                                  Syna GmbH       07 (NS)   \n",
       "1555470    NaN  Mitteldeutsche Netzgesellschaft Strom mbH       05 (MS)   \n",
       "\n",
       "        decommissioning     source postcode  \n",
       "261641              NaN  energymap    88512  \n",
       "1345866             NaN  energymap    56133  \n",
       "1246425             NaN  energymap    42477  \n",
       "117094              NaN  energymap    74939  \n",
       "1555470             NaN  energymap    09306  \n",
       "\n",
       "[5 rows x 21 columns]"
      ]
     },
     "execution_count": 44,
     "metadata": {},
     "output_type": "execute_result"
    }
   ],
   "source": [
    "# sort index by start_up_date\n",
    "energymap = energymap.ix[pd.to_datetime(energymap.start_up_date).order().index]\n",
    "energymap.head()"
   ]
  },
  {
   "cell_type": "code",
   "execution_count": 45,
   "metadata": {
    "collapsed": false
   },
   "outputs": [
    {
     "name": "stdout",
     "output_type": "stream",
     "text": [
      "done\n"
     ]
    },
    {
     "name": "stderr",
     "output_type": "stream",
     "text": [
      "/home/leppi/anaconda3/lib/python3.4/site-packages/ipykernel/__main__.py:12: FutureWarning: the 'cols' keyword is deprecated, use 'subset' instead\n"
     ]
    }
   ],
   "source": [
    "# drop BNetzA data which are older 2014-12-31\n",
    "idx_date = energymap[(energymap['start_up_date'] >= '2014-07-31') \n",
    "                     & (renewables['source'] == 'BNetzA')].index\n",
    "energymap.drop(idx_date,inplace=True)  \n",
    "\n",
    "# Drop entires which are not installed jet\n",
    "idx_no = energymap[(energymap['notification_reason']== 'Genehmigung')].index\n",
    "energymap.drop(idx_no,inplace=True)\n",
    "\n",
    "# get all duplicated eeg_id and take last entry\n",
    "energymap.drop_duplicates(cols=['type_of_generation','start_up_date',\n",
    "                                'eeg_id'], keep='last',inplace=True)\n",
    "\n",
    "# get all data from BNetzA_PV <= 2014-12-31 because of duplicated entries\n",
    "idx_pv = energymap[(energymap['start_up_date'] <= '2014-07-31') \n",
    "                   & (energymap['source'] == 'BNetzA_PV')].index\n",
    "energymap.drop(idx_pv,inplace=True)\n",
    "\n",
    "# drop all entries where decommissioning is not null\n",
    "idx_decom = energymap[energymap.decommissioning.notnull()].index\n",
    "energymap.drop(idx_decom,inplace=True)\n",
    "\n",
    "# delete #NV value for type of generation\n",
    "idx_nv = energymap[(energymap['type_of_generation'] == '#NV')].index\n",
    "energymap.drop(idx_nv,inplace=True)\n",
    "\n",
    "print('done')"
   ]
  },
  {
   "cell_type": "code",
   "execution_count": 46,
   "metadata": {
    "collapsed": false
   },
   "outputs": [
    {
     "data": {
      "text/plain": [
       "type_of_generation\n",
       "biomass        7234.954873\n",
       "gas             637.061440\n",
       "geothermal       30.143000\n",
       "hydro          1671.942241\n",
       "solar         38252.578274\n",
       "wind          42244.717640\n",
       "Name: rated_power, dtype: float64"
      ]
     },
     "execution_count": 46,
     "metadata": {},
     "output_type": "execute_result"
    }
   ],
   "source": [
    "energymap.groupby(['type_of_generation'])['rated_power'].sum() / 1000"
   ]
  },
  {
   "cell_type": "code",
   "execution_count": 47,
   "metadata": {
    "collapsed": false,
    "scrolled": true
   },
   "outputs": [
    {
     "name": "stdout",
     "output_type": "stream",
     "text": [
      "<class 'pandas.core.frame.DataFrame'>\n",
      "Int64Index: 1602989 entries, 250164 to 1589595\n",
      "Data columns (total 21 columns):\n",
      "start_up_date          1602982 non-null datetime64[ns]\n",
      "rated_power            1602989 non-null float64\n",
      "type_of_generation     1602989 non-null object\n",
      "subtype                1602989 non-null object\n",
      "thermal_capacity       78 non-null float64\n",
      "city                   39741 non-null object\n",
      "street_address         3773 non-null object\n",
      "tso                    1563248 non-null object\n",
      "utm_zone               1666 non-null float64\n",
      "utm_east               1666 non-null float64\n",
      "utm_north              1666 non-null float64\n",
      "gps_lon                0 non-null float64\n",
      "gps_lat                0 non-null float64\n",
      "notification_reason    1752 non-null object\n",
      "eeg_id                 1602809 non-null object\n",
      "dso_id                 1563248 non-null float64\n",
      "dso                    1565000 non-null object\n",
      "voltage_level          1564997 non-null object\n",
      "decommissioning        0 non-null object\n",
      "source                 1602989 non-null object\n",
      "postcode               1602989 non-null object\n",
      "dtypes: datetime64[ns](1), float64(8), object(12)\n",
      "memory usage: 269.1+ MB\n"
     ]
    }
   ],
   "source": [
    "renewables.info()"
   ]
  },
  {
   "cell_type": "code",
   "execution_count": 48,
   "metadata": {
    "collapsed": false
   },
   "outputs": [
    {
     "name": "stdout",
     "output_type": "stream",
     "text": [
      "<class 'pandas.core.frame.DataFrame'>\n",
      "Int64Index: 1605563 entries, 261641 to 1571819\n",
      "Data columns (total 21 columns):\n",
      "start_up_date          1605556 non-null datetime64[ns]\n",
      "rated_power            1603645 non-null float64\n",
      "type_of_generation     1603645 non-null object\n",
      "subtype                1148207 non-null object\n",
      "thermal_capacity       751 non-null float64\n",
      "city                   1605563 non-null object\n",
      "street_address         1260765 non-null object\n",
      "tso                    1541479 non-null object\n",
      "utm_zone               3847 non-null float64\n",
      "utm_east               3843 non-null float64\n",
      "utm_north              3843 non-null float64\n",
      "gps_lon                1533402 non-null float64\n",
      "gps_lat                1533402 non-null float64\n",
      "notification_reason    4052 non-null object\n",
      "eeg_id                 1603329 non-null object\n",
      "dso_id                 0 non-null float64\n",
      "dso                    1545582 non-null object\n",
      "voltage_level          1545578 non-null object\n",
      "decommissioning        0 non-null object\n",
      "source                 1605563 non-null object\n",
      "postcode               1605563 non-null object\n",
      "dtypes: datetime64[ns](1), float64(8), object(12)\n",
      "memory usage: 269.5+ MB\n"
     ]
    }
   ],
   "source": [
    "energymap.info()"
   ]
  },
  {
   "cell_type": "markdown",
   "metadata": {},
   "source": [
    "# Georeferencing get coordinates \n",
    "\n",
    "We are using the post code in order the make a rough geo-referencing. Since the TSO report only the first three digits of the poste code (e.g. 024xx) and no city or street name, we are only able to use the centroid of a post code region polygon as coordinates.\n",
    "\n",
    "We using the three (#TSOs) and five digits (#BNetzA) postcode regions which are offered by www.suche-postleitzahl.org.\n",
    "\n",
    "*  http://www.suche-postleitzahl.org/downloads?download=plz-gebiete.shp.zip\n",
    "*  http://www.suche-postleitzahl.org/downloads?download_file=plz-3stellig.shp.zip\n",
    "*  http://www.suche-postleitzahl.org/downloads#\n",
    "\n",
    "License:\n",
    "\n",
    "* http://www.suche-postleitzahl.org/downloads\n",
    "* Open Database Licence frei zur Verfügung. \n",
    "* Quelle der Rohdaten: © OpenStreetMap contributors\n",
    "\n",
    "With this data we have created a csv file with all kinds of post codes and created the gps latitude and longitude coordinates by using a PostgreSQL + PostGIS database. We added all possible TSO names to each post code including overlaps.\n",
    "* SQL Script (will follow by link here)"
   ]
  },
  {
   "cell_type": "code",
   "execution_count": 49,
   "metadata": {
    "collapsed": false
   },
   "outputs": [
    {
     "name": "stderr",
     "output_type": "stream",
     "text": [
      "/home/leppi/anaconda3/lib/python3.4/site-packages/ipykernel/__main__.py:6: FutureWarning: the 'cols' keyword is deprecated, use 'subset' instead\n"
     ]
    },
    {
     "data": {
      "text/html": [
       "<div>\n",
       "<table border=\"1\" class=\"dataframe\">\n",
       "  <thead>\n",
       "    <tr style=\"text-align: right;\">\n",
       "      <th></th>\n",
       "      <th>postcode</th>\n",
       "      <th>city</th>\n",
       "      <th>tso</th>\n",
       "      <th>gps_lon</th>\n",
       "      <th>gps_lat</th>\n",
       "      <th>geo_source</th>\n",
       "    </tr>\n",
       "  </thead>\n",
       "  <tbody>\n",
       "    <tr>\n",
       "      <th>0</th>\n",
       "      <td>392XX</td>\n",
       "      <td>NaN</td>\n",
       "      <td>50Hertz Transmission GmbH</td>\n",
       "      <td>11.975520</td>\n",
       "      <td>52.081599</td>\n",
       "      <td>plz_3_digits</td>\n",
       "    </tr>\n",
       "    <tr>\n",
       "      <th>1</th>\n",
       "      <td>010XX</td>\n",
       "      <td>NaN</td>\n",
       "      <td>50Hertz Transmission GmbH</td>\n",
       "      <td>13.807068</td>\n",
       "      <td>51.084020</td>\n",
       "      <td>plz_3_digits</td>\n",
       "    </tr>\n",
       "    <tr>\n",
       "      <th>2</th>\n",
       "      <td>011XX</td>\n",
       "      <td>NaN</td>\n",
       "      <td>50Hertz Transmission GmbH</td>\n",
       "      <td>13.700503</td>\n",
       "      <td>51.085923</td>\n",
       "      <td>plz_3_digits</td>\n",
       "    </tr>\n",
       "    <tr>\n",
       "      <th>3</th>\n",
       "      <td>012XX</td>\n",
       "      <td>NaN</td>\n",
       "      <td>50Hertz Transmission GmbH</td>\n",
       "      <td>13.801462</td>\n",
       "      <td>51.011209</td>\n",
       "      <td>plz_3_digits</td>\n",
       "    </tr>\n",
       "    <tr>\n",
       "      <th>4</th>\n",
       "      <td>013XX</td>\n",
       "      <td>NaN</td>\n",
       "      <td>50Hertz Transmission GmbH</td>\n",
       "      <td>13.877194</td>\n",
       "      <td>51.040878</td>\n",
       "      <td>plz_3_digits</td>\n",
       "    </tr>\n",
       "  </tbody>\n",
       "</table>\n",
       "</div>"
      ],
      "text/plain": [
       "  postcode city                        tso    gps_lon    gps_lat    geo_source\n",
       "0    392XX  NaN  50Hertz Transmission GmbH  11.975520  52.081599  plz_3_digits\n",
       "1    010XX  NaN  50Hertz Transmission GmbH  13.807068  51.084020  plz_3_digits\n",
       "2    011XX  NaN  50Hertz Transmission GmbH  13.700503  51.085923  plz_3_digits\n",
       "3    012XX  NaN  50Hertz Transmission GmbH  13.801462  51.011209  plz_3_digits\n",
       "4    013XX  NaN  50Hertz Transmission GmbH  13.877194  51.040878  plz_3_digits"
      ]
     },
     "execution_count": 49,
     "metadata": {},
     "output_type": "execute_result"
    }
   ],
   "source": [
    "# Get csv file\n",
    "postcode = pd.read_csv('input/de_tso_postcode_gps.csv',\n",
    "                       sep=';',        # CSV field separator, default is ','\n",
    "                       header=0)\n",
    "\n",
    "postcode.drop_duplicates(cols='postcode', keep='last',inplace=True)\n",
    "postcode.head()"
   ]
  },
  {
   "cell_type": "code",
   "execution_count": 50,
   "metadata": {
    "collapsed": false
   },
   "outputs": [],
   "source": [
    "# take postcode and lon lat infomations\n",
    "postcode= postcode[[0,1,3,4]]"
   ]
  },
  {
   "cell_type": "code",
   "execution_count": 51,
   "metadata": {
    "collapsed": false
   },
   "outputs": [
    {
     "name": "stdout",
     "output_type": "stream",
     "text": [
      "<class 'pandas.core.frame.DataFrame'>\n",
      "Int64Index: 1602989 entries, 250164 to 1589595\n",
      "Data columns (total 19 columns):\n",
      "start_up_date          1602982 non-null datetime64[ns]\n",
      "rated_power            1602989 non-null float64\n",
      "type_of_generation     1602989 non-null object\n",
      "subtype                1602989 non-null object\n",
      "thermal_capacity       78 non-null float64\n",
      "city                   39741 non-null object\n",
      "street_address         3773 non-null object\n",
      "tso                    1563248 non-null object\n",
      "utm_zone               1666 non-null float64\n",
      "utm_east               1666 non-null float64\n",
      "utm_north              1666 non-null float64\n",
      "notification_reason    1752 non-null object\n",
      "eeg_id                 1602809 non-null object\n",
      "dso_id                 1563248 non-null float64\n",
      "dso                    1565000 non-null object\n",
      "voltage_level          1564997 non-null object\n",
      "decommissioning        0 non-null object\n",
      "source                 1602989 non-null object\n",
      "postcode               1602989 non-null object\n",
      "dtypes: datetime64[ns](1), float64(6), object(12)\n",
      "memory usage: 244.6+ MB\n"
     ]
    }
   ],
   "source": [
    "# Clean dataframe\n",
    "renewables.drop(['gps_lon','gps_lat'], axis=1, inplace=True)\n",
    "renewables.info()"
   ]
  },
  {
   "cell_type": "code",
   "execution_count": 52,
   "metadata": {
    "collapsed": false
   },
   "outputs": [],
   "source": [
    "postcode = postcode.reset_index()\n",
    "renewables = renewables.reset_index()"
   ]
  },
  {
   "cell_type": "markdown",
   "metadata": {
    "collapsed": false
   },
   "source": [
    "#### Merge geometry information by using the postcode"
   ]
  },
  {
   "cell_type": "code",
   "execution_count": 53,
   "metadata": {
    "collapsed": false
   },
   "outputs": [],
   "source": [
    "ren_geo =pd.merge(renewables, postcode, on=['postcode','city'],  how='left')"
   ]
  },
  {
   "cell_type": "code",
   "execution_count": 54,
   "metadata": {
    "collapsed": true
   },
   "outputs": [],
   "source": [
    "# rename columes\n",
    "ren_geo.rename(columns={'gps_lon': 'longitude','gps_lat': 'latitude'}, inplace=True)\n"
   ]
  },
  {
   "cell_type": "code",
   "execution_count": 55,
   "metadata": {
    "collapsed": false
   },
   "outputs": [
    {
     "name": "stdout",
     "output_type": "stream",
     "text": [
      "Missing coordinates  8660\n"
     ]
    },
    {
     "data": {
      "text/plain": [
       "type_of_generation  subtype             \n",
       "biomass             biomass                   37\n",
       "gas                 gas_landfill               1\n",
       "hydro               hydro                      6\n",
       "solar               solar_ground_mounted      47\n",
       "                    solar_roof_mounted      7297\n",
       "wind                wind_offshore            801\n",
       "                    wind_onshore             471\n",
       "Name: source, dtype: int64"
      ]
     },
     "execution_count": 55,
     "metadata": {},
     "output_type": "execute_result"
    }
   ],
   "source": [
    "# How many couldn't be merged?\n",
    "print('Missing coordinates ',ren_geo.latitude.isnull().sum())\n",
    "# get an\n",
    "ren_geo[ren_geo.latitude.isnull()].groupby(['type_of_generation','subtype'])['source'].count()"
   ]
  },
  {
   "cell_type": "markdown",
   "metadata": {
    "collapsed": false
   },
   "source": [
    "### Energymap Data Frame\n"
   ]
  },
  {
   "cell_type": "code",
   "execution_count": 56,
   "metadata": {
    "collapsed": false
   },
   "outputs": [
    {
     "name": "stdout",
     "output_type": "stream",
     "text": [
      "<class 'pandas.core.frame.DataFrame'>\n",
      "Int64Index: 1605563 entries, 261641 to 1571819\n",
      "Data columns (total 21 columns):\n",
      "start_up_date          1605556 non-null datetime64[ns]\n",
      "rated_power            1603645 non-null float64\n",
      "type_of_generation     1603645 non-null object\n",
      "subtype                1148207 non-null object\n",
      "thermal_capacity       751 non-null float64\n",
      "city                   1605563 non-null object\n",
      "street_address         1260765 non-null object\n",
      "tso                    1541479 non-null object\n",
      "utm_zone               3847 non-null float64\n",
      "utm_east               3843 non-null float64\n",
      "utm_north              3843 non-null float64\n",
      "gps_lon                1533402 non-null float64\n",
      "gps_lat                1533402 non-null float64\n",
      "notification_reason    4052 non-null object\n",
      "eeg_id                 1603329 non-null object\n",
      "dso_id                 0 non-null float64\n",
      "dso                    1545582 non-null object\n",
      "voltage_level          1545578 non-null object\n",
      "decommissioning        0 non-null object\n",
      "source                 1605563 non-null object\n",
      "postcode               1605563 non-null object\n",
      "dtypes: datetime64[ns](1), float64(8), object(12)\n",
      "memory usage: 269.5+ MB\n"
     ]
    }
   ],
   "source": [
    "energymap.info()"
   ]
  },
  {
   "cell_type": "code",
   "execution_count": 57,
   "metadata": {
    "collapsed": true
   },
   "outputs": [],
   "source": [
    "# GEO REF energymap\n",
    "postcode = postcode.reset_index()\n",
    "energymap = energymap.reset_index()\n",
    "\n",
    "energ_geo =pd.merge(energymap, postcode, on=['postcode','city'],  how='left')"
   ]
  },
  {
   "cell_type": "code",
   "execution_count": 58,
   "metadata": {
    "collapsed": false
   },
   "outputs": [],
   "source": [
    "# function using selecting longitude and latitude data. If energymap = NULL take postcode referenz\n",
    "get_lonlat = lambda a,b: b if ( pd.isnull(a) == True) else a\n",
    "# \n",
    "energ_geo['longitude'] = energ_geo[['gps_lon_x','gps_lon_y']].apply(lambda x:\n",
    "                                    get_lonlat(x[0], x[1]), axis=1)\n",
    "energ_geo['latitude'] = energ_geo[['gps_lat_x','gps_lat_y']].apply(lambda x: \n",
    "                                    get_lonlat(x[0], x[1]), axis=1)"
   ]
  },
  {
   "cell_type": "code",
   "execution_count": 59,
   "metadata": {
    "collapsed": false
   },
   "outputs": [
    {
     "name": "stdout",
     "output_type": "stream",
     "text": [
      "Missing coordinates  21449\n"
     ]
    },
    {
     "data": {
      "text/plain": [
       "source     type_of_generation\n",
       "BNetzA     biomass                 276\n",
       "           gas                       2\n",
       "           hydro                    47\n",
       "           solar                    46\n",
       "           wind                   1863\n",
       "BNetzA_PV  solar                 11203\n",
       "energymap  biomass                 103\n",
       "           gas                       6\n",
       "           hydro                    27\n",
       "           solar                  6615\n",
       "           wind                    636\n",
       "Name: source, dtype: int64"
      ]
     },
     "execution_count": 59,
     "metadata": {},
     "output_type": "execute_result"
    }
   ],
   "source": [
    "# How many couldn't be merged?\n",
    "print('Missing coordinates ',energ_geo.longitude.isnull().sum())\n",
    "# get an\n",
    "energ_geo[energ_geo.longitude.isnull()].groupby(['source','type_of_generation'])['source'].count()"
   ]
  },
  {
   "cell_type": "markdown",
   "metadata": {},
   "source": [
    "#### ToDo:\n",
    "* update postcode csv"
   ]
  },
  {
   "cell_type": "code",
   "execution_count": 60,
   "metadata": {
    "collapsed": false
   },
   "outputs": [
    {
     "name": "stdout",
     "output_type": "stream",
     "text": [
      "<class 'pandas.core.frame.DataFrame'>\n",
      "Int64Index: 1605563 entries, 0 to 1605562\n",
      "Data columns (total 21 columns):\n",
      "start_up_date          1605556 non-null datetime64[ns]\n",
      "rated_power            1603645 non-null float64\n",
      "type_of_generation     1603645 non-null object\n",
      "subtype                1148207 non-null object\n",
      "thermal_capacity       751 non-null float64\n",
      "city                   1605563 non-null object\n",
      "street_address         1260765 non-null object\n",
      "tso                    1541479 non-null object\n",
      "utm_zone               3847 non-null float64\n",
      "utm_east               3843 non-null float64\n",
      "utm_north              3843 non-null float64\n",
      "notification_reason    4052 non-null object\n",
      "eeg_id                 1603329 non-null object\n",
      "dso_id                 0 non-null float64\n",
      "dso                    1545582 non-null object\n",
      "voltage_level          1545578 non-null object\n",
      "decommissioning        0 non-null object\n",
      "source                 1605563 non-null object\n",
      "postcode               1605563 non-null object\n",
      "longitude              1584114 non-null float64\n",
      "latitude               1584114 non-null float64\n",
      "dtypes: datetime64[ns](1), float64(8), object(12)\n",
      "memory usage: 269.5+ MB\n"
     ]
    }
   ],
   "source": [
    "# Clean Data Frame\n",
    "energ_geo.drop(['index_x','index_y','level_0','gps_lon_y',\n",
    "                'gps_lon_x','gps_lat_y','gps_lat_x'], axis=1, inplace=True)\n",
    "energ_geo.info()"
   ]
  },
  {
   "cell_type": "markdown",
   "metadata": {},
   "source": [
    "## More statistics for data valuation\n",
    "\n"
   ]
  },
  {
   "cell_type": "code",
   "execution_count": 61,
   "metadata": {
    "collapsed": false
   },
   "outputs": [
    {
     "data": {
      "text/plain": [
       "count    1603645.000000\n",
       "mean          56.166669\n",
       "std          367.893990\n",
       "min            0.000000\n",
       "25%            5.510000\n",
       "50%            9.180000\n",
       "75%           19.110000\n",
       "max       135000.000000\n",
       "Name: rated_power, dtype: float64"
      ]
     },
     "execution_count": 61,
     "metadata": {},
     "output_type": "execute_result"
    }
   ],
   "source": [
    "energ_geo['rated_power'].describe()\n",
    "# energ_geo.groupby(['type_of_generation'])['rated_power'].describe()"
   ]
  },
  {
   "cell_type": "code",
   "execution_count": 62,
   "metadata": {
    "collapsed": false
   },
   "outputs": [
    {
     "data": {
      "text/plain": [
       "count    1602989.000000\n",
       "mean          56.714179\n",
       "std          382.250203\n",
       "min            0.000000\n",
       "25%            5.510000\n",
       "50%            9.200000\n",
       "75%           19.200000\n",
       "max       135000.000000\n",
       "Name: rated_power, dtype: float64"
      ]
     },
     "execution_count": 62,
     "metadata": {},
     "output_type": "execute_result"
    }
   ],
   "source": [
    "ren_geo['rated_power'].describe()\n",
    "#ren_geo.groupby(['type_of_generation'])['rated_power'].describe()"
   ]
  },
  {
   "cell_type": "code",
   "execution_count": 63,
   "metadata": {
    "collapsed": false
   },
   "outputs": [
    {
     "data": {
      "text/plain": [
       "type_of_generation\n",
       "biomass      12.467700\n",
       "gas           1.186400\n",
       "hydro         3.148540\n",
       "solar      1086.271139\n",
       "wind       4786.010960\n",
       "Name: rated_power, dtype: float64"
      ]
     },
     "execution_count": 63,
     "metadata": {},
     "output_type": "execute_result"
    }
   ],
   "source": [
    "#activ['rated_power'].sum() / 1000\n",
    "ren_geo[(ren_geo['start_up_date'] >= '2014-12-31')].groupby(['type_of_generation'])['rated_power'].sum() / 1000"
   ]
  },
  {
   "cell_type": "code",
   "execution_count": 64,
   "metadata": {
    "collapsed": false
   },
   "outputs": [
    {
     "data": {
      "text/plain": [
       "type_of_generation\n",
       "biomass         14419\n",
       "gas               684\n",
       "geothermal         10\n",
       "hydro            7184\n",
       "solar         1516786\n",
       "wind            24112\n",
       "Name: rated_power, dtype: int64"
      ]
     },
     "execution_count": 64,
     "metadata": {},
     "output_type": "execute_result"
    }
   ],
   "source": [
    "\n",
    "ren_geo.query(\"start_up_date <= '2014-12-31'\").groupby(['type_of_generation'])['rated_power'].count()\n",
    "#renewables.query(\"start_up_date <= '2014-12-31' & source == 'BNetzA_PV'\").count()"
   ]
  },
  {
   "cell_type": "code",
   "execution_count": 65,
   "metadata": {
    "collapsed": false
   },
   "outputs": [
    {
     "data": {
      "text/plain": [
       "type_of_generation  source    \n",
       "biomass             50Hertz      1991-04-26\n",
       "                    Amprion      1978-01-01\n",
       "                    BNetzA       2015-01-01\n",
       "                    TenneT       1987-04-01\n",
       "                    TransnetBW   1966-09-01\n",
       "gas                 50Hertz      1995-02-15\n",
       "                    Amprion      1962-07-01\n",
       "                    BNetzA       2015-02-19\n",
       "                    TenneT       1981-06-01\n",
       "                    TransnetBW   1911-01-01\n",
       "geothermal          50Hertz      2004-08-13\n",
       "                    Amprion      2007-11-22\n",
       "                    TenneT       2009-02-03\n",
       "                    TransnetBW   2009-10-23\n",
       "hydro               50Hertz      1899-12-31\n",
       "                    Amprion      1899-11-01\n",
       "                    BNetzA       2015-01-14\n",
       "                    TenneT       1900-01-01\n",
       "                    TransnetBW   1895-11-16\n",
       "solar               50Hertz      1899-12-31\n",
       "                    Amprion      1988-02-01\n",
       "                    BNetzA       2015-02-25\n",
       "                    BNetzA_PV    2015-01-01\n",
       "                    TenneT       1985-07-01\n",
       "                    TransnetBW   1899-12-30\n",
       "wind                50Hertz      1989-10-11\n",
       "                    Amprion      1989-06-01\n",
       "                    BNetzA       2015-01-01\n",
       "                    TenneT       1983-11-01\n",
       "                    TransnetBW   1991-05-01\n",
       "Name: start_up_date, dtype: datetime64[ns]"
      ]
     },
     "execution_count": 65,
     "metadata": {},
     "output_type": "execute_result"
    }
   ],
   "source": [
    "# Generation type by source and min date\n",
    "ren_geo.groupby(['type_of_generation','source'])['start_up_date'].min()"
   ]
  },
  {
   "cell_type": "code",
   "execution_count": 66,
   "metadata": {
    "collapsed": false
   },
   "outputs": [
    {
     "data": {
      "text/plain": [
       "type_of_generation  source    \n",
       "biomass             50Hertz      2014-12-23\n",
       "                    Amprion      2014-12-18\n",
       "                    BNetzA       2015-11-24\n",
       "                    TenneT       2014-12-29\n",
       "                    TransnetBW   2015-12-19\n",
       "gas                 50Hertz      2013-07-24\n",
       "                    Amprion      2014-04-29\n",
       "                    BNetzA       2015-10-29\n",
       "                    TenneT       2014-06-26\n",
       "                    TransnetBW   2012-08-21\n",
       "geothermal          50Hertz      2004-08-13\n",
       "                    Amprion      2012-10-13\n",
       "                    TenneT       2014-09-25\n",
       "                    TransnetBW   2009-10-23\n",
       "hydro               50Hertz      2014-12-12\n",
       "                    Amprion      2014-11-14\n",
       "                    BNetzA       2015-11-19\n",
       "                    TenneT       2014-12-16\n",
       "                    TransnetBW   2014-11-07\n",
       "solar               50Hertz      2014-12-31\n",
       "                    Amprion      2014-12-31\n",
       "                    BNetzA       2015-08-31\n",
       "                    BNetzA_PV    2015-11-18\n",
       "                    TenneT       2014-12-31\n",
       "                    TransnetBW   2015-03-23\n",
       "wind                50Hertz      2014-12-31\n",
       "                    Amprion      2014-12-31\n",
       "                    BNetzA       2015-11-28\n",
       "                    TenneT       2014-12-31\n",
       "                    TransnetBW   2014-12-12\n",
       "Name: start_up_date, dtype: datetime64[ns]"
      ]
     },
     "execution_count": 66,
     "metadata": {},
     "output_type": "execute_result"
    }
   ],
   "source": [
    "# Generation type by source and max date\n",
    "ren_geo.groupby(['type_of_generation','source'])['start_up_date'].max()"
   ]
  },
  {
   "cell_type": "code",
   "execution_count": 67,
   "metadata": {
    "collapsed": false
   },
   "outputs": [
    {
     "data": {
      "text/plain": [
       "subtype\n",
       "biomass                211.586430\n",
       "gas_landfill             2.188000\n",
       "gas_sewage               0.259000\n",
       "geothermal               3.500000\n",
       "hydro                    5.952070\n",
       "solar_roof_mounted    1571.884318\n",
       "wind_offshore          371.900000\n",
       "wind_onshore          4431.750033\n",
       "Name: rated_power, dtype: float64"
      ]
     },
     "execution_count": 67,
     "metadata": {},
     "output_type": "execute_result"
    }
   ],
   "source": [
    "# growth rate 2014\n",
    "rate14 = (ren_geo['start_up_date'] > '2014-01-01') & (ren_geo['start_up_date']\n",
    "                                                      <= '2014-12-31')\n",
    "ren_geo.loc[rate14].groupby(['subtype'])['rated_power'].sum() / 1000"
   ]
  },
  {
   "cell_type": "code",
   "execution_count": 68,
   "metadata": {
    "collapsed": false
   },
   "outputs": [
    {
     "data": {
      "text/html": [
       "<div>\n",
       "<table border=\"1\" class=\"dataframe\">\n",
       "  <thead>\n",
       "    <tr style=\"text-align: right;\">\n",
       "      <th></th>\n",
       "      <th>index_x</th>\n",
       "      <th>start_up_date</th>\n",
       "      <th>rated_power</th>\n",
       "      <th>type_of_generation</th>\n",
       "      <th>subtype</th>\n",
       "      <th>thermal_capacity</th>\n",
       "      <th>city</th>\n",
       "      <th>street_address</th>\n",
       "      <th>tso</th>\n",
       "      <th>utm_zone</th>\n",
       "      <th>...</th>\n",
       "      <th>eeg_id</th>\n",
       "      <th>dso_id</th>\n",
       "      <th>dso</th>\n",
       "      <th>voltage_level</th>\n",
       "      <th>decommissioning</th>\n",
       "      <th>source</th>\n",
       "      <th>postcode</th>\n",
       "      <th>index_y</th>\n",
       "      <th>longitude</th>\n",
       "      <th>latitude</th>\n",
       "    </tr>\n",
       "  </thead>\n",
       "  <tbody>\n",
       "    <tr>\n",
       "      <th>2</th>\n",
       "      <td>191311</td>\n",
       "      <td>1899-12-30</td>\n",
       "      <td>29.375</td>\n",
       "      <td>solar</td>\n",
       "      <td>solar_roof_mounted</td>\n",
       "      <td>NaN</td>\n",
       "      <td>NaN</td>\n",
       "      <td>NaN</td>\n",
       "      <td>TransnetBW GmbH</td>\n",
       "      <td>NaN</td>\n",
       "      <td>...</td>\n",
       "      <td>E16568363000000</td>\n",
       "      <td>10000843</td>\n",
       "      <td>Netze BW GmbH</td>\n",
       "      <td>NS</td>\n",
       "      <td>NaT</td>\n",
       "      <td>TransnetBW</td>\n",
       "      <td>735XX</td>\n",
       "      <td>528</td>\n",
       "      <td>9.825670</td>\n",
       "      <td>48.819950</td>\n",
       "    </tr>\n",
       "    <tr>\n",
       "      <th>6</th>\n",
       "      <td>1530998</td>\n",
       "      <td>1899-12-31</td>\n",
       "      <td>6.010</td>\n",
       "      <td>solar</td>\n",
       "      <td>solar_roof_mounted</td>\n",
       "      <td>NaN</td>\n",
       "      <td>NaN</td>\n",
       "      <td>NaN</td>\n",
       "      <td>50hertz Transmission GmbH</td>\n",
       "      <td>NaN</td>\n",
       "      <td>...</td>\n",
       "      <td>E40000146905815</td>\n",
       "      <td>10001645</td>\n",
       "      <td>Mitteldeutsche Netzgesellschaft Strom mbH</td>\n",
       "      <td>NS</td>\n",
       "      <td>NaT</td>\n",
       "      <td>50Hertz</td>\n",
       "      <td>065XX</td>\n",
       "      <td>52</td>\n",
       "      <td>11.197351</td>\n",
       "      <td>51.477959</td>\n",
       "    </tr>\n",
       "    <tr>\n",
       "      <th>30</th>\n",
       "      <td>681</td>\n",
       "      <td>1905-07-01</td>\n",
       "      <td>5.700</td>\n",
       "      <td>solar</td>\n",
       "      <td>solar_roof_mounted</td>\n",
       "      <td>NaN</td>\n",
       "      <td>NaN</td>\n",
       "      <td>NaN</td>\n",
       "      <td>TransnetBW GmbH</td>\n",
       "      <td>NaN</td>\n",
       "      <td>...</td>\n",
       "      <td>E13485980000000</td>\n",
       "      <td>10000375</td>\n",
       "      <td>Technische Werke Friedrichshafen GmbH</td>\n",
       "      <td>NS</td>\n",
       "      <td>NaT</td>\n",
       "      <td>TransnetBW</td>\n",
       "      <td>880XX</td>\n",
       "      <td>625</td>\n",
       "      <td>9.558212</td>\n",
       "      <td>47.668658</td>\n",
       "    </tr>\n",
       "    <tr>\n",
       "      <th>59</th>\n",
       "      <td>29206</td>\n",
       "      <td>1911-01-01</td>\n",
       "      <td>500.000</td>\n",
       "      <td>gas</td>\n",
       "      <td>gas_sewage</td>\n",
       "      <td>NaN</td>\n",
       "      <td>NaN</td>\n",
       "      <td>NaN</td>\n",
       "      <td>TransnetBW GmbH</td>\n",
       "      <td>NaN</td>\n",
       "      <td>...</td>\n",
       "      <td>E11331000000000</td>\n",
       "      <td>10000386</td>\n",
       "      <td>Stadtwerke Bietigheim-Bissingen GmbH</td>\n",
       "      <td>MS</td>\n",
       "      <td>NaT</td>\n",
       "      <td>TransnetBW</td>\n",
       "      <td>743XX</td>\n",
       "      <td>534</td>\n",
       "      <td>9.092709</td>\n",
       "      <td>49.028082</td>\n",
       "    </tr>\n",
       "    <tr>\n",
       "      <th>749</th>\n",
       "      <td>1333777</td>\n",
       "      <td>1962-07-01</td>\n",
       "      <td>300.000</td>\n",
       "      <td>gas</td>\n",
       "      <td>gas_sewage</td>\n",
       "      <td>NaN</td>\n",
       "      <td>NaN</td>\n",
       "      <td>NaN</td>\n",
       "      <td>Amprion</td>\n",
       "      <td>NaN</td>\n",
       "      <td>...</td>\n",
       "      <td>E30000000421381</td>\n",
       "      <td>10002954</td>\n",
       "      <td>EWR Netz GmbH</td>\n",
       "      <td>NS</td>\n",
       "      <td>NaT</td>\n",
       "      <td>Amprion</td>\n",
       "      <td>686XX</td>\n",
       "      <td>492</td>\n",
       "      <td>8.460197</td>\n",
       "      <td>49.650652</td>\n",
       "    </tr>\n",
       "    <tr>\n",
       "      <th>1004</th>\n",
       "      <td>274275</td>\n",
       "      <td>1966-09-01</td>\n",
       "      <td>20000.000</td>\n",
       "      <td>biomass</td>\n",
       "      <td>biomass</td>\n",
       "      <td>NaN</td>\n",
       "      <td>NaN</td>\n",
       "      <td>NaN</td>\n",
       "      <td>TransnetBW GmbH</td>\n",
       "      <td>NaN</td>\n",
       "      <td>...</td>\n",
       "      <td>E11703160000000</td>\n",
       "      <td>10002846</td>\n",
       "      <td>Netrion GmbH</td>\n",
       "      <td>HS</td>\n",
       "      <td>NaT</td>\n",
       "      <td>TransnetBW</td>\n",
       "      <td>683XX</td>\n",
       "      <td>490</td>\n",
       "      <td>8.482258</td>\n",
       "      <td>49.544520</td>\n",
       "    </tr>\n",
       "    <tr>\n",
       "      <th>1287</th>\n",
       "      <td>1263747</td>\n",
       "      <td>1978-01-01</td>\n",
       "      <td>18910.000</td>\n",
       "      <td>biomass</td>\n",
       "      <td>biomass</td>\n",
       "      <td>NaN</td>\n",
       "      <td>NaN</td>\n",
       "      <td>NaN</td>\n",
       "      <td>Amprion</td>\n",
       "      <td>NaN</td>\n",
       "      <td>...</td>\n",
       "      <td>E30000000284698</td>\n",
       "      <td>10001624</td>\n",
       "      <td>Aschaffenburger Versorgungs-GmbH</td>\n",
       "      <td>HS</td>\n",
       "      <td>NaT</td>\n",
       "      <td>Amprion</td>\n",
       "      <td>638XX</td>\n",
       "      <td>452</td>\n",
       "      <td>9.261070</td>\n",
       "      <td>49.938397</td>\n",
       "    </tr>\n",
       "  </tbody>\n",
       "</table>\n",
       "<p>7 rows × 23 columns</p>\n",
       "</div>"
      ],
      "text/plain": [
       "      index_x start_up_date  rated_power type_of_generation  \\\n",
       "2      191311    1899-12-30       29.375              solar   \n",
       "6     1530998    1899-12-31        6.010              solar   \n",
       "30        681    1905-07-01        5.700              solar   \n",
       "59      29206    1911-01-01      500.000                gas   \n",
       "749   1333777    1962-07-01      300.000                gas   \n",
       "1004   274275    1966-09-01    20000.000            biomass   \n",
       "1287  1263747    1978-01-01    18910.000            biomass   \n",
       "\n",
       "                 subtype  thermal_capacity city street_address  \\\n",
       "2     solar_roof_mounted               NaN  NaN            NaN   \n",
       "6     solar_roof_mounted               NaN  NaN            NaN   \n",
       "30    solar_roof_mounted               NaN  NaN            NaN   \n",
       "59            gas_sewage               NaN  NaN            NaN   \n",
       "749           gas_sewage               NaN  NaN            NaN   \n",
       "1004             biomass               NaN  NaN            NaN   \n",
       "1287             biomass               NaN  NaN            NaN   \n",
       "\n",
       "                            tso  utm_zone    ...               eeg_id  \\\n",
       "2               TransnetBW GmbH       NaN    ...      E16568363000000   \n",
       "6     50hertz Transmission GmbH       NaN    ...      E40000146905815   \n",
       "30              TransnetBW GmbH       NaN    ...      E13485980000000   \n",
       "59              TransnetBW GmbH       NaN    ...      E11331000000000   \n",
       "749                     Amprion       NaN    ...      E30000000421381   \n",
       "1004            TransnetBW GmbH       NaN    ...      E11703160000000   \n",
       "1287                    Amprion       NaN    ...      E30000000284698   \n",
       "\n",
       "        dso_id                                        dso voltage_level  \\\n",
       "2     10000843                              Netze BW GmbH            NS   \n",
       "6     10001645  Mitteldeutsche Netzgesellschaft Strom mbH            NS   \n",
       "30    10000375      Technische Werke Friedrichshafen GmbH            NS   \n",
       "59    10000386       Stadtwerke Bietigheim-Bissingen GmbH            MS   \n",
       "749   10002954                              EWR Netz GmbH            NS   \n",
       "1004  10002846                               Netrion GmbH            HS   \n",
       "1287  10001624           Aschaffenburger Versorgungs-GmbH            HS   \n",
       "\n",
       "      decommissioning      source postcode index_y  longitude   latitude  \n",
       "2                 NaT  TransnetBW    735XX     528   9.825670  48.819950  \n",
       "6                 NaT     50Hertz    065XX      52  11.197351  51.477959  \n",
       "30                NaT  TransnetBW    880XX     625   9.558212  47.668658  \n",
       "59                NaT  TransnetBW    743XX     534   9.092709  49.028082  \n",
       "749               NaT     Amprion    686XX     492   8.460197  49.650652  \n",
       "1004              NaT  TransnetBW    683XX     490   8.482258  49.544520  \n",
       "1287              NaT     Amprion    638XX     452   9.261070  49.938397  \n",
       "\n",
       "[7 rows x 23 columns]"
      ]
     },
     "execution_count": 68,
     "metadata": {},
     "output_type": "execute_result"
    }
   ],
   "source": [
    "# Overview of early dates\n",
    "ren_geo.query(\"start_up_date < '1980-01-01' & type_of_generation != 'hydro'\")"
   ]
  },
  {
   "cell_type": "code",
   "execution_count": 69,
   "metadata": {
    "collapsed": false
   },
   "outputs": [
    {
     "data": {
      "text/html": [
       "<div>\n",
       "<table border=\"1\" class=\"dataframe\">\n",
       "  <thead>\n",
       "    <tr style=\"text-align: right;\">\n",
       "      <th></th>\n",
       "      <th>start_up_date</th>\n",
       "      <th>rated_power</th>\n",
       "      <th>type_of_generation</th>\n",
       "      <th>subtype</th>\n",
       "      <th>thermal_capacity</th>\n",
       "      <th>city</th>\n",
       "      <th>street_address</th>\n",
       "      <th>tso</th>\n",
       "      <th>utm_zone</th>\n",
       "      <th>utm_east</th>\n",
       "      <th>...</th>\n",
       "      <th>notification_reason</th>\n",
       "      <th>eeg_id</th>\n",
       "      <th>dso_id</th>\n",
       "      <th>dso</th>\n",
       "      <th>voltage_level</th>\n",
       "      <th>decommissioning</th>\n",
       "      <th>source</th>\n",
       "      <th>postcode</th>\n",
       "      <th>longitude</th>\n",
       "      <th>latitude</th>\n",
       "    </tr>\n",
       "  </thead>\n",
       "  <tbody>\n",
       "    <tr>\n",
       "      <th>11</th>\n",
       "      <td>1900-01-01</td>\n",
       "      <td>400.00</td>\n",
       "      <td>gas</td>\n",
       "      <td>NaN</td>\n",
       "      <td>NaN</td>\n",
       "      <td>Bietigheim-Bissingen</td>\n",
       "      <td>NaN</td>\n",
       "      <td>TransnetBW GmbH</td>\n",
       "      <td>NaN</td>\n",
       "      <td>NaN</td>\n",
       "      <td>...</td>\n",
       "      <td>NaN</td>\n",
       "      <td>E1038601X0247400001Kläranlag00001</td>\n",
       "      <td>NaN</td>\n",
       "      <td>Stadtwerke Bietigheim-Bissingen GmbH</td>\n",
       "      <td>05 (MS)</td>\n",
       "      <td>NaN</td>\n",
       "      <td>energymap</td>\n",
       "      <td>74321</td>\n",
       "      <td>9.133000</td>\n",
       "      <td>48.967000</td>\n",
       "    </tr>\n",
       "    <tr>\n",
       "      <th>33</th>\n",
       "      <td>1905-01-01</td>\n",
       "      <td>3.00</td>\n",
       "      <td>solar</td>\n",
       "      <td>solar_ground_mounted</td>\n",
       "      <td>NaN</td>\n",
       "      <td>Sindelfingen</td>\n",
       "      <td>NaN</td>\n",
       "      <td>TransnetBW GmbH</td>\n",
       "      <td>NaN</td>\n",
       "      <td>NaN</td>\n",
       "      <td>...</td>\n",
       "      <td>NaN</td>\n",
       "      <td>E10431010000105791045000S00300000</td>\n",
       "      <td>NaN</td>\n",
       "      <td>Stadtwerke Sindelfingen GmbH</td>\n",
       "      <td>07 (NS)</td>\n",
       "      <td>NaN</td>\n",
       "      <td>energymap</td>\n",
       "      <td>71063</td>\n",
       "      <td>9.017000</td>\n",
       "      <td>48.700000</td>\n",
       "    </tr>\n",
       "    <tr>\n",
       "      <th>34</th>\n",
       "      <td>1905-01-01</td>\n",
       "      <td>1471.00</td>\n",
       "      <td>biomass</td>\n",
       "      <td>biogas</td>\n",
       "      <td>NaN</td>\n",
       "      <td>Nördlingen</td>\n",
       "      <td>NaN</td>\n",
       "      <td>TransnetBW GmbH</td>\n",
       "      <td>NaN</td>\n",
       "      <td>NaN</td>\n",
       "      <td>...</td>\n",
       "      <td>NaN</td>\n",
       "      <td>E12974010000000000000032734500001</td>\n",
       "      <td>NaN</td>\n",
       "      <td>Netze NGO GmbH</td>\n",
       "      <td>05 (MS)</td>\n",
       "      <td>NaN</td>\n",
       "      <td>energymap</td>\n",
       "      <td>86720</td>\n",
       "      <td>10.500000</td>\n",
       "      <td>48.850000</td>\n",
       "    </tr>\n",
       "    <tr>\n",
       "      <th>35</th>\n",
       "      <td>1905-01-01</td>\n",
       "      <td>4.00</td>\n",
       "      <td>solar</td>\n",
       "      <td>solar_ground_mounted</td>\n",
       "      <td>NaN</td>\n",
       "      <td>Sigmaringen</td>\n",
       "      <td>NaN</td>\n",
       "      <td>TransnetBW GmbH</td>\n",
       "      <td>NaN</td>\n",
       "      <td>NaN</td>\n",
       "      <td>...</td>\n",
       "      <td>NaN</td>\n",
       "      <td>E11057010010101840014200501600016</td>\n",
       "      <td>NaN</td>\n",
       "      <td>Stadtwerke Sigmaringen</td>\n",
       "      <td>07 (NS)</td>\n",
       "      <td>NaN</td>\n",
       "      <td>energymap</td>\n",
       "      <td>72488</td>\n",
       "      <td>9.217000</td>\n",
       "      <td>48.083000</td>\n",
       "    </tr>\n",
       "    <tr>\n",
       "      <th>36</th>\n",
       "      <td>1905-01-01</td>\n",
       "      <td>20.00</td>\n",
       "      <td>solar</td>\n",
       "      <td>solar_ground_mounted</td>\n",
       "      <td>NaN</td>\n",
       "      <td>Waldshut / Waldshut</td>\n",
       "      <td>NaN</td>\n",
       "      <td>TransnetBW GmbH</td>\n",
       "      <td>NaN</td>\n",
       "      <td>NaN</td>\n",
       "      <td>...</td>\n",
       "      <td>NaN</td>\n",
       "      <td>E11346010050108079005000S99900001</td>\n",
       "      <td>NaN</td>\n",
       "      <td>Stadtwerke Waldshut-Tiengen GmbH</td>\n",
       "      <td>07 (NS)</td>\n",
       "      <td>NaN</td>\n",
       "      <td>energymap</td>\n",
       "      <td>79761</td>\n",
       "      <td>8.217000</td>\n",
       "      <td>47.617000</td>\n",
       "    </tr>\n",
       "    <tr>\n",
       "      <th>38</th>\n",
       "      <td>1905-01-01</td>\n",
       "      <td>5.00</td>\n",
       "      <td>solar</td>\n",
       "      <td>solar_ground_mounted</td>\n",
       "      <td>NaN</td>\n",
       "      <td>Lautern</td>\n",
       "      <td>NaN</td>\n",
       "      <td>TransnetBW GmbH</td>\n",
       "      <td>NaN</td>\n",
       "      <td>NaN</td>\n",
       "      <td>...</td>\n",
       "      <td>NaN</td>\n",
       "      <td>E12974010000000000000032774200001</td>\n",
       "      <td>NaN</td>\n",
       "      <td>Netze NGO GmbH</td>\n",
       "      <td>07 (NS)</td>\n",
       "      <td>NaN</td>\n",
       "      <td>energymap</td>\n",
       "      <td>73540</td>\n",
       "      <td>9.983000</td>\n",
       "      <td>48.800000</td>\n",
       "    </tr>\n",
       "    <tr>\n",
       "      <th>39</th>\n",
       "      <td>1905-01-01</td>\n",
       "      <td>6.00</td>\n",
       "      <td>solar</td>\n",
       "      <td>solar_ground_mounted</td>\n",
       "      <td>NaN</td>\n",
       "      <td>Emmendingen</td>\n",
       "      <td>NaN</td>\n",
       "      <td>TransnetBW GmbH</td>\n",
       "      <td>NaN</td>\n",
       "      <td>NaN</td>\n",
       "      <td>...</td>\n",
       "      <td>NaN</td>\n",
       "      <td>E1113701000ZE000000270473RA000001</td>\n",
       "      <td>NaN</td>\n",
       "      <td>Stadtwerke Emmendingen GmbH</td>\n",
       "      <td>07 (NS)</td>\n",
       "      <td>NaN</td>\n",
       "      <td>energymap</td>\n",
       "      <td>79312</td>\n",
       "      <td>7.850000</td>\n",
       "      <td>48.133000</td>\n",
       "    </tr>\n",
       "    <tr>\n",
       "      <th>40</th>\n",
       "      <td>1905-01-01</td>\n",
       "      <td>2.00</td>\n",
       "      <td>solar</td>\n",
       "      <td>solar_ground_mounted</td>\n",
       "      <td>NaN</td>\n",
       "      <td>Schorndorf</td>\n",
       "      <td>NaN</td>\n",
       "      <td>TransnetBW GmbH</td>\n",
       "      <td>NaN</td>\n",
       "      <td>NaN</td>\n",
       "      <td>...</td>\n",
       "      <td>NaN</td>\n",
       "      <td>E10060010736140000000000000050015</td>\n",
       "      <td>NaN</td>\n",
       "      <td>Stadtwerke Schorndorf GmbH</td>\n",
       "      <td>07 (NS)</td>\n",
       "      <td>NaN</td>\n",
       "      <td>energymap</td>\n",
       "      <td>73614</td>\n",
       "      <td>9.533000</td>\n",
       "      <td>48.800000</td>\n",
       "    </tr>\n",
       "    <tr>\n",
       "      <th>43</th>\n",
       "      <td>1905-01-01</td>\n",
       "      <td>4.00</td>\n",
       "      <td>solar</td>\n",
       "      <td>solar_ground_mounted</td>\n",
       "      <td>NaN</td>\n",
       "      <td>Wolpertshausen</td>\n",
       "      <td>NaN</td>\n",
       "      <td>TransnetBW GmbH</td>\n",
       "      <td>NaN</td>\n",
       "      <td>NaN</td>\n",
       "      <td>...</td>\n",
       "      <td>NaN</td>\n",
       "      <td>E10358010000000000000001120300005</td>\n",
       "      <td>NaN</td>\n",
       "      <td>Netze BW GmbH</td>\n",
       "      <td>07 (NS)</td>\n",
       "      <td>NaN</td>\n",
       "      <td>energymap</td>\n",
       "      <td>74549</td>\n",
       "      <td>9.845000</td>\n",
       "      <td>49.168000</td>\n",
       "    </tr>\n",
       "    <tr>\n",
       "      <th>54</th>\n",
       "      <td>1905-06-27</td>\n",
       "      <td>1053.00</td>\n",
       "      <td>biomass</td>\n",
       "      <td>NaN</td>\n",
       "      <td>NaN</td>\n",
       "      <td>Alerheim</td>\n",
       "      <td>NaN</td>\n",
       "      <td>TransnetBW GmbH</td>\n",
       "      <td>NaN</td>\n",
       "      <td>NaN</td>\n",
       "      <td>...</td>\n",
       "      <td>NaN</td>\n",
       "      <td>E1297401V000000000000034734000001</td>\n",
       "      <td>NaN</td>\n",
       "      <td>Netze NGO GmbH</td>\n",
       "      <td>05 (MS)</td>\n",
       "      <td>NaN</td>\n",
       "      <td>energymap</td>\n",
       "      <td>86733</td>\n",
       "      <td>10.642000</td>\n",
       "      <td>48.850000</td>\n",
       "    </tr>\n",
       "    <tr>\n",
       "      <th>205</th>\n",
       "      <td>1926-07-01</td>\n",
       "      <td>NaN</td>\n",
       "      <td>NaN</td>\n",
       "      <td>NaN</td>\n",
       "      <td>NaN</td>\n",
       "      <td>Driedorf</td>\n",
       "      <td>Neumühle</td>\n",
       "      <td>NaN</td>\n",
       "      <td>NaN</td>\n",
       "      <td>NaN</td>\n",
       "      <td>...</td>\n",
       "      <td>NaN</td>\n",
       "      <td>NaN</td>\n",
       "      <td>NaN</td>\n",
       "      <td>NaN</td>\n",
       "      <td>NaN</td>\n",
       "      <td>NaN</td>\n",
       "      <td>energymap</td>\n",
       "      <td>35759</td>\n",
       "      <td>NaN</td>\n",
       "      <td>NaN</td>\n",
       "    </tr>\n",
       "    <tr>\n",
       "      <th>216</th>\n",
       "      <td>1928-01-11</td>\n",
       "      <td>NaN</td>\n",
       "      <td>NaN</td>\n",
       "      <td>NaN</td>\n",
       "      <td>NaN</td>\n",
       "      <td>Northeim</td>\n",
       "      <td>Leinemühle</td>\n",
       "      <td>NaN</td>\n",
       "      <td>NaN</td>\n",
       "      <td>NaN</td>\n",
       "      <td>...</td>\n",
       "      <td>NaN</td>\n",
       "      <td>NaN</td>\n",
       "      <td>NaN</td>\n",
       "      <td>NaN</td>\n",
       "      <td>NaN</td>\n",
       "      <td>NaN</td>\n",
       "      <td>energymap</td>\n",
       "      <td>37154</td>\n",
       "      <td>NaN</td>\n",
       "      <td>NaN</td>\n",
       "    </tr>\n",
       "    <tr>\n",
       "      <th>223</th>\n",
       "      <td>1929-11-23</td>\n",
       "      <td>NaN</td>\n",
       "      <td>NaN</td>\n",
       "      <td>NaN</td>\n",
       "      <td>NaN</td>\n",
       "      <td>Herborn</td>\n",
       "      <td>Turbinenhaus</td>\n",
       "      <td>NaN</td>\n",
       "      <td>NaN</td>\n",
       "      <td>NaN</td>\n",
       "      <td>...</td>\n",
       "      <td>NaN</td>\n",
       "      <td>NaN</td>\n",
       "      <td>NaN</td>\n",
       "      <td>NaN</td>\n",
       "      <td>NaN</td>\n",
       "      <td>NaN</td>\n",
       "      <td>energymap</td>\n",
       "      <td>35745</td>\n",
       "      <td>8.285968</td>\n",
       "      <td>50.678636</td>\n",
       "    </tr>\n",
       "    <tr>\n",
       "      <th>248</th>\n",
       "      <td>1932-07-19</td>\n",
       "      <td>NaN</td>\n",
       "      <td>NaN</td>\n",
       "      <td>NaN</td>\n",
       "      <td>NaN</td>\n",
       "      <td>Driedorf</td>\n",
       "      <td>An der Staumauer</td>\n",
       "      <td>NaN</td>\n",
       "      <td>NaN</td>\n",
       "      <td>NaN</td>\n",
       "      <td>...</td>\n",
       "      <td>NaN</td>\n",
       "      <td>NaN</td>\n",
       "      <td>NaN</td>\n",
       "      <td>NaN</td>\n",
       "      <td>NaN</td>\n",
       "      <td>NaN</td>\n",
       "      <td>energymap</td>\n",
       "      <td>35759</td>\n",
       "      <td>NaN</td>\n",
       "      <td>NaN</td>\n",
       "    </tr>\n",
       "    <tr>\n",
       "      <th>397</th>\n",
       "      <td>1955-01-01</td>\n",
       "      <td>2660.00</td>\n",
       "      <td>gas</td>\n",
       "      <td>gas_sewage</td>\n",
       "      <td>NaN</td>\n",
       "      <td>Erlangen</td>\n",
       "      <td>Bayreuther Str. 105</td>\n",
       "      <td>TenneT TSO GmbH</td>\n",
       "      <td>NaN</td>\n",
       "      <td>NaN</td>\n",
       "      <td>...</td>\n",
       "      <td>NaN</td>\n",
       "      <td>E2148801GA000000000000134EEG00001</td>\n",
       "      <td>NaN</td>\n",
       "      <td>Erlanger Stadtwerke AG</td>\n",
       "      <td>05 (MS)</td>\n",
       "      <td>NaN</td>\n",
       "      <td>energymap</td>\n",
       "      <td>91054</td>\n",
       "      <td>11.004000</td>\n",
       "      <td>49.598000</td>\n",
       "    </tr>\n",
       "    <tr>\n",
       "      <th>594</th>\n",
       "      <td>1959-07-01</td>\n",
       "      <td>NaN</td>\n",
       "      <td>NaN</td>\n",
       "      <td>NaN</td>\n",
       "      <td>NaN</td>\n",
       "      <td>Brakel</td>\n",
       "      <td>Wasserkraftanlage</td>\n",
       "      <td>NaN</td>\n",
       "      <td>NaN</td>\n",
       "      <td>NaN</td>\n",
       "      <td>...</td>\n",
       "      <td>NaN</td>\n",
       "      <td>NaN</td>\n",
       "      <td>NaN</td>\n",
       "      <td>NaN</td>\n",
       "      <td>NaN</td>\n",
       "      <td>NaN</td>\n",
       "      <td>energymap</td>\n",
       "      <td>33034</td>\n",
       "      <td>9.180114</td>\n",
       "      <td>51.709462</td>\n",
       "    </tr>\n",
       "    <tr>\n",
       "      <th>657</th>\n",
       "      <td>1960-07-01</td>\n",
       "      <td>NaN</td>\n",
       "      <td>NaN</td>\n",
       "      <td>NaN</td>\n",
       "      <td>NaN</td>\n",
       "      <td>Weimar</td>\n",
       "      <td>Nehmühle</td>\n",
       "      <td>NaN</td>\n",
       "      <td>NaN</td>\n",
       "      <td>NaN</td>\n",
       "      <td>...</td>\n",
       "      <td>NaN</td>\n",
       "      <td>NaN</td>\n",
       "      <td>NaN</td>\n",
       "      <td>NaN</td>\n",
       "      <td>NaN</td>\n",
       "      <td>NaN</td>\n",
       "      <td>energymap</td>\n",
       "      <td>35096</td>\n",
       "      <td>8.697245</td>\n",
       "      <td>50.753134</td>\n",
       "    </tr>\n",
       "    <tr>\n",
       "      <th>768</th>\n",
       "      <td>1962-07-01</td>\n",
       "      <td>300.00</td>\n",
       "      <td>gas</td>\n",
       "      <td>gas_sewage</td>\n",
       "      <td>NaN</td>\n",
       "      <td>Bürstadt</td>\n",
       "      <td>Außerhalb *</td>\n",
       "      <td>Amprion GmbH</td>\n",
       "      <td>NaN</td>\n",
       "      <td>NaN</td>\n",
       "      <td>...</td>\n",
       "      <td>NaN</td>\n",
       "      <td>E32954010200000000002601200811185</td>\n",
       "      <td>NaN</td>\n",
       "      <td>EWR Netz GmbH</td>\n",
       "      <td>07 (NS)</td>\n",
       "      <td>NaN</td>\n",
       "      <td>energymap</td>\n",
       "      <td>68642</td>\n",
       "      <td>8.460000</td>\n",
       "      <td>49.644000</td>\n",
       "    </tr>\n",
       "    <tr>\n",
       "      <th>1035</th>\n",
       "      <td>1967-08-01</td>\n",
       "      <td>NaN</td>\n",
       "      <td>NaN</td>\n",
       "      <td>NaN</td>\n",
       "      <td>NaN</td>\n",
       "      <td>Friedland</td>\n",
       "      <td>Besenhausen</td>\n",
       "      <td>NaN</td>\n",
       "      <td>NaN</td>\n",
       "      <td>NaN</td>\n",
       "      <td>...</td>\n",
       "      <td>NaN</td>\n",
       "      <td>NaN</td>\n",
       "      <td>NaN</td>\n",
       "      <td>NaN</td>\n",
       "      <td>NaN</td>\n",
       "      <td>NaN</td>\n",
       "      <td>energymap</td>\n",
       "      <td>37133</td>\n",
       "      <td>9.928801</td>\n",
       "      <td>51.429770</td>\n",
       "    </tr>\n",
       "    <tr>\n",
       "      <th>1143</th>\n",
       "      <td>1970-07-01</td>\n",
       "      <td>NaN</td>\n",
       "      <td>NaN</td>\n",
       "      <td>NaN</td>\n",
       "      <td>NaN</td>\n",
       "      <td>Volkmarsen</td>\n",
       "      <td>Obermühle</td>\n",
       "      <td>NaN</td>\n",
       "      <td>NaN</td>\n",
       "      <td>NaN</td>\n",
       "      <td>...</td>\n",
       "      <td>NaN</td>\n",
       "      <td>NaN</td>\n",
       "      <td>NaN</td>\n",
       "      <td>NaN</td>\n",
       "      <td>NaN</td>\n",
       "      <td>NaN</td>\n",
       "      <td>energymap</td>\n",
       "      <td>34471</td>\n",
       "      <td>9.103627</td>\n",
       "      <td>51.410030</td>\n",
       "    </tr>\n",
       "    <tr>\n",
       "      <th>1185</th>\n",
       "      <td>1972-03-29</td>\n",
       "      <td>NaN</td>\n",
       "      <td>NaN</td>\n",
       "      <td>NaN</td>\n",
       "      <td>NaN</td>\n",
       "      <td>Hatzfeld</td>\n",
       "      <td>Reddighäuser Hammer</td>\n",
       "      <td>NaN</td>\n",
       "      <td>NaN</td>\n",
       "      <td>NaN</td>\n",
       "      <td>...</td>\n",
       "      <td>NaN</td>\n",
       "      <td>NaN</td>\n",
       "      <td>NaN</td>\n",
       "      <td>NaN</td>\n",
       "      <td>NaN</td>\n",
       "      <td>NaN</td>\n",
       "      <td>energymap</td>\n",
       "      <td>35116</td>\n",
       "      <td>8.554966</td>\n",
       "      <td>50.986270</td>\n",
       "    </tr>\n",
       "    <tr>\n",
       "      <th>1240</th>\n",
       "      <td>1975-07-01</td>\n",
       "      <td>NaN</td>\n",
       "      <td>NaN</td>\n",
       "      <td>NaN</td>\n",
       "      <td>NaN</td>\n",
       "      <td>Warburg</td>\n",
       "      <td>Friedrich-Böhlen-Str.</td>\n",
       "      <td>NaN</td>\n",
       "      <td>NaN</td>\n",
       "      <td>NaN</td>\n",
       "      <td>...</td>\n",
       "      <td>NaN</td>\n",
       "      <td>NaN</td>\n",
       "      <td>NaN</td>\n",
       "      <td>NaN</td>\n",
       "      <td>NaN</td>\n",
       "      <td>NaN</td>\n",
       "      <td>energymap</td>\n",
       "      <td>34414</td>\n",
       "      <td>9.092509</td>\n",
       "      <td>51.513468</td>\n",
       "    </tr>\n",
       "    <tr>\n",
       "      <th>1241</th>\n",
       "      <td>1975-07-02</td>\n",
       "      <td>1.62</td>\n",
       "      <td>solar</td>\n",
       "      <td>NaN</td>\n",
       "      <td>NaN</td>\n",
       "      <td>Burgdorf</td>\n",
       "      <td>Wilhelm-Henze-Weg 19</td>\n",
       "      <td>TenneT TSO GmbH</td>\n",
       "      <td>NaN</td>\n",
       "      <td>NaN</td>\n",
       "      <td>...</td>\n",
       "      <td>NaN</td>\n",
       "      <td>E228710100000E000B005591955700001</td>\n",
       "      <td>NaN</td>\n",
       "      <td>Stadtwerke Burgdorf Netz GmbH</td>\n",
       "      <td>07 (NS)</td>\n",
       "      <td>NaN</td>\n",
       "      <td>energymap</td>\n",
       "      <td>31303</td>\n",
       "      <td>9.995000</td>\n",
       "      <td>52.460000</td>\n",
       "    </tr>\n",
       "    <tr>\n",
       "      <th>1266</th>\n",
       "      <td>1976-10-19</td>\n",
       "      <td>50.00</td>\n",
       "      <td>gas</td>\n",
       "      <td>gas_sewage</td>\n",
       "      <td>NaN</td>\n",
       "      <td>Zwiesel</td>\n",
       "      <td>Zwieselberg</td>\n",
       "      <td>TenneT TSO GmbH</td>\n",
       "      <td>NaN</td>\n",
       "      <td>NaN</td>\n",
       "      <td>...</td>\n",
       "      <td>NaN</td>\n",
       "      <td>E2104101EA01000000000068729300001</td>\n",
       "      <td>NaN</td>\n",
       "      <td>Bayernwerk AG</td>\n",
       "      <td>05 (MS)</td>\n",
       "      <td>NaN</td>\n",
       "      <td>energymap</td>\n",
       "      <td>94227</td>\n",
       "      <td>13.225000</td>\n",
       "      <td>49.008000</td>\n",
       "    </tr>\n",
       "    <tr>\n",
       "      <th>1303</th>\n",
       "      <td>1979-07-01</td>\n",
       "      <td>NaN</td>\n",
       "      <td>NaN</td>\n",
       "      <td>NaN</td>\n",
       "      <td>NaN</td>\n",
       "      <td>Willebadessen</td>\n",
       "      <td>Wasserkraftanlage</td>\n",
       "      <td>NaN</td>\n",
       "      <td>NaN</td>\n",
       "      <td>NaN</td>\n",
       "      <td>...</td>\n",
       "      <td>NaN</td>\n",
       "      <td>NaN</td>\n",
       "      <td>NaN</td>\n",
       "      <td>NaN</td>\n",
       "      <td>NaN</td>\n",
       "      <td>NaN</td>\n",
       "      <td>energymap</td>\n",
       "      <td>34439</td>\n",
       "      <td>9.093784</td>\n",
       "      <td>51.604652</td>\n",
       "    </tr>\n",
       "  </tbody>\n",
       "</table>\n",
       "<p>25 rows × 21 columns</p>\n",
       "</div>"
      ],
      "text/plain": [
       "     start_up_date  rated_power type_of_generation               subtype  \\\n",
       "11      1900-01-01       400.00                gas                   NaN   \n",
       "33      1905-01-01         3.00              solar  solar_ground_mounted   \n",
       "34      1905-01-01      1471.00            biomass                biogas   \n",
       "35      1905-01-01         4.00              solar  solar_ground_mounted   \n",
       "36      1905-01-01        20.00              solar  solar_ground_mounted   \n",
       "38      1905-01-01         5.00              solar  solar_ground_mounted   \n",
       "39      1905-01-01         6.00              solar  solar_ground_mounted   \n",
       "40      1905-01-01         2.00              solar  solar_ground_mounted   \n",
       "43      1905-01-01         4.00              solar  solar_ground_mounted   \n",
       "54      1905-06-27      1053.00            biomass                   NaN   \n",
       "205     1926-07-01          NaN                NaN                   NaN   \n",
       "216     1928-01-11          NaN                NaN                   NaN   \n",
       "223     1929-11-23          NaN                NaN                   NaN   \n",
       "248     1932-07-19          NaN                NaN                   NaN   \n",
       "397     1955-01-01      2660.00                gas            gas_sewage   \n",
       "594     1959-07-01          NaN                NaN                   NaN   \n",
       "657     1960-07-01          NaN                NaN                   NaN   \n",
       "768     1962-07-01       300.00                gas            gas_sewage   \n",
       "1035    1967-08-01          NaN                NaN                   NaN   \n",
       "1143    1970-07-01          NaN                NaN                   NaN   \n",
       "1185    1972-03-29          NaN                NaN                   NaN   \n",
       "1240    1975-07-01          NaN                NaN                   NaN   \n",
       "1241    1975-07-02         1.62              solar                   NaN   \n",
       "1266    1976-10-19        50.00                gas            gas_sewage   \n",
       "1303    1979-07-01          NaN                NaN                   NaN   \n",
       "\n",
       "      thermal_capacity                  city          street_address  \\\n",
       "11                 NaN  Bietigheim-Bissingen                     NaN   \n",
       "33                 NaN          Sindelfingen                     NaN   \n",
       "34                 NaN            Nördlingen                     NaN   \n",
       "35                 NaN           Sigmaringen                     NaN   \n",
       "36                 NaN   Waldshut / Waldshut                     NaN   \n",
       "38                 NaN               Lautern                     NaN   \n",
       "39                 NaN           Emmendingen                     NaN   \n",
       "40                 NaN            Schorndorf                     NaN   \n",
       "43                 NaN        Wolpertshausen                     NaN   \n",
       "54                 NaN              Alerheim                     NaN   \n",
       "205                NaN              Driedorf               Neumühle    \n",
       "216                NaN              Northeim             Leinemühle    \n",
       "223                NaN               Herborn           Turbinenhaus    \n",
       "248                NaN              Driedorf       An der Staumauer    \n",
       "397                NaN              Erlangen     Bayreuther Str. 105   \n",
       "594                NaN                Brakel      Wasserkraftanlage    \n",
       "657                NaN                Weimar               Nehmühle    \n",
       "768                NaN              Bürstadt             Außerhalb *   \n",
       "1035               NaN             Friedland            Besenhausen    \n",
       "1143               NaN            Volkmarsen              Obermühle    \n",
       "1185               NaN              Hatzfeld    Reddighäuser Hammer    \n",
       "1240               NaN               Warburg  Friedrich-Böhlen-Str.    \n",
       "1241               NaN              Burgdorf    Wilhelm-Henze-Weg 19   \n",
       "1266               NaN               Zwiesel             Zwieselberg   \n",
       "1303               NaN         Willebadessen      Wasserkraftanlage    \n",
       "\n",
       "                  tso  utm_zone  utm_east    ...      notification_reason  \\\n",
       "11    TransnetBW GmbH       NaN       NaN    ...                      NaN   \n",
       "33    TransnetBW GmbH       NaN       NaN    ...                      NaN   \n",
       "34    TransnetBW GmbH       NaN       NaN    ...                      NaN   \n",
       "35    TransnetBW GmbH       NaN       NaN    ...                      NaN   \n",
       "36    TransnetBW GmbH       NaN       NaN    ...                      NaN   \n",
       "38    TransnetBW GmbH       NaN       NaN    ...                      NaN   \n",
       "39    TransnetBW GmbH       NaN       NaN    ...                      NaN   \n",
       "40    TransnetBW GmbH       NaN       NaN    ...                      NaN   \n",
       "43    TransnetBW GmbH       NaN       NaN    ...                      NaN   \n",
       "54    TransnetBW GmbH       NaN       NaN    ...                      NaN   \n",
       "205               NaN       NaN       NaN    ...                      NaN   \n",
       "216               NaN       NaN       NaN    ...                      NaN   \n",
       "223               NaN       NaN       NaN    ...                      NaN   \n",
       "248               NaN       NaN       NaN    ...                      NaN   \n",
       "397   TenneT TSO GmbH       NaN       NaN    ...                      NaN   \n",
       "594               NaN       NaN       NaN    ...                      NaN   \n",
       "657               NaN       NaN       NaN    ...                      NaN   \n",
       "768      Amprion GmbH       NaN       NaN    ...                      NaN   \n",
       "1035              NaN       NaN       NaN    ...                      NaN   \n",
       "1143              NaN       NaN       NaN    ...                      NaN   \n",
       "1185              NaN       NaN       NaN    ...                      NaN   \n",
       "1240              NaN       NaN       NaN    ...                      NaN   \n",
       "1241  TenneT TSO GmbH       NaN       NaN    ...                      NaN   \n",
       "1266  TenneT TSO GmbH       NaN       NaN    ...                      NaN   \n",
       "1303              NaN       NaN       NaN    ...                      NaN   \n",
       "\n",
       "                                 eeg_id dso_id  \\\n",
       "11    E1038601X0247400001Kläranlag00001    NaN   \n",
       "33    E10431010000105791045000S00300000    NaN   \n",
       "34    E12974010000000000000032734500001    NaN   \n",
       "35    E11057010010101840014200501600016    NaN   \n",
       "36    E11346010050108079005000S99900001    NaN   \n",
       "38    E12974010000000000000032774200001    NaN   \n",
       "39    E1113701000ZE000000270473RA000001    NaN   \n",
       "40    E10060010736140000000000000050015    NaN   \n",
       "43    E10358010000000000000001120300005    NaN   \n",
       "54    E1297401V000000000000034734000001    NaN   \n",
       "205                                 NaN    NaN   \n",
       "216                                 NaN    NaN   \n",
       "223                                 NaN    NaN   \n",
       "248                                 NaN    NaN   \n",
       "397   E2148801GA000000000000134EEG00001    NaN   \n",
       "594                                 NaN    NaN   \n",
       "657                                 NaN    NaN   \n",
       "768   E32954010200000000002601200811185    NaN   \n",
       "1035                                NaN    NaN   \n",
       "1143                                NaN    NaN   \n",
       "1185                                NaN    NaN   \n",
       "1240                                NaN    NaN   \n",
       "1241  E228710100000E000B005591955700001    NaN   \n",
       "1266  E2104101EA01000000000068729300001    NaN   \n",
       "1303                                NaN    NaN   \n",
       "\n",
       "                                       dso voltage_level decommissioning  \\\n",
       "11    Stadtwerke Bietigheim-Bissingen GmbH       05 (MS)             NaN   \n",
       "33            Stadtwerke Sindelfingen GmbH       07 (NS)             NaN   \n",
       "34                          Netze NGO GmbH       05 (MS)             NaN   \n",
       "35                  Stadtwerke Sigmaringen       07 (NS)             NaN   \n",
       "36        Stadtwerke Waldshut-Tiengen GmbH       07 (NS)             NaN   \n",
       "38                          Netze NGO GmbH       07 (NS)             NaN   \n",
       "39             Stadtwerke Emmendingen GmbH       07 (NS)             NaN   \n",
       "40              Stadtwerke Schorndorf GmbH       07 (NS)             NaN   \n",
       "43                           Netze BW GmbH       07 (NS)             NaN   \n",
       "54                          Netze NGO GmbH       05 (MS)             NaN   \n",
       "205                                    NaN           NaN             NaN   \n",
       "216                                    NaN           NaN             NaN   \n",
       "223                                    NaN           NaN             NaN   \n",
       "248                                    NaN           NaN             NaN   \n",
       "397                 Erlanger Stadtwerke AG       05 (MS)             NaN   \n",
       "594                                    NaN           NaN             NaN   \n",
       "657                                    NaN           NaN             NaN   \n",
       "768                          EWR Netz GmbH       07 (NS)             NaN   \n",
       "1035                                   NaN           NaN             NaN   \n",
       "1143                                   NaN           NaN             NaN   \n",
       "1185                                   NaN           NaN             NaN   \n",
       "1240                                   NaN           NaN             NaN   \n",
       "1241         Stadtwerke Burgdorf Netz GmbH       07 (NS)             NaN   \n",
       "1266                         Bayernwerk AG       05 (MS)             NaN   \n",
       "1303                                   NaN           NaN             NaN   \n",
       "\n",
       "         source postcode  longitude   latitude  \n",
       "11    energymap    74321   9.133000  48.967000  \n",
       "33    energymap    71063   9.017000  48.700000  \n",
       "34    energymap    86720  10.500000  48.850000  \n",
       "35    energymap    72488   9.217000  48.083000  \n",
       "36    energymap    79761   8.217000  47.617000  \n",
       "38    energymap    73540   9.983000  48.800000  \n",
       "39    energymap    79312   7.850000  48.133000  \n",
       "40    energymap    73614   9.533000  48.800000  \n",
       "43    energymap    74549   9.845000  49.168000  \n",
       "54    energymap    86733  10.642000  48.850000  \n",
       "205   energymap    35759        NaN        NaN  \n",
       "216   energymap    37154        NaN        NaN  \n",
       "223   energymap    35745   8.285968  50.678636  \n",
       "248   energymap    35759        NaN        NaN  \n",
       "397   energymap    91054  11.004000  49.598000  \n",
       "594   energymap    33034   9.180114  51.709462  \n",
       "657   energymap    35096   8.697245  50.753134  \n",
       "768   energymap    68642   8.460000  49.644000  \n",
       "1035  energymap    37133   9.928801  51.429770  \n",
       "1143  energymap    34471   9.103627  51.410030  \n",
       "1185  energymap    35116   8.554966  50.986270  \n",
       "1240  energymap    34414   9.092509  51.513468  \n",
       "1241  energymap    31303   9.995000  52.460000  \n",
       "1266  energymap    94227  13.225000  49.008000  \n",
       "1303  energymap    34439   9.093784  51.604652  \n",
       "\n",
       "[25 rows x 21 columns]"
      ]
     },
     "execution_count": 69,
     "metadata": {},
     "output_type": "execute_result"
    }
   ],
   "source": [
    "energ_geo.query(\"start_up_date < '1980-01-01' & type_of_generation != 'hydro'\")"
   ]
  },
  {
   "cell_type": "markdown",
   "metadata": {},
   "source": [
    "##  Plot  Overview of the first result"
   ]
  },
  {
   "cell_type": "code",
   "execution_count": 70,
   "metadata": {
    "collapsed": false
   },
   "outputs": [
    {
     "data": {
      "text/plain": [
       "<matplotlib.axes._subplots.AxesSubplot at 0x7fc052d5f908>"
      ]
     },
     "execution_count": 70,
     "metadata": {},
     "output_type": "execute_result"
    },
    {
     "data": {
      "image/png": "[encoded data removed]",
      "text/plain": [
       "<matplotlib.figure.Figure at 0x7fc052d614e0>"
      ]
     },
     "metadata": {},
     "output_type": "display_data"
    }
   ],
   "source": [
    "energ_geo['rated_power'].plot()"
   ]
  },
  {
   "cell_type": "code",
   "execution_count": 71,
   "metadata": {
    "collapsed": true
   },
   "outputs": [],
   "source": [
    "\n",
    "idx = pd.date_range(start='2005-01-01', end='2015-12-31', freq='D')\n",
    "data = pd.DataFrame(index=idx)\n",
    "data['capacity_pv_50Hertz']= 'Code für Summe über PV-Kapazität in 50Hertz Regelzone zu Stichtag einfügen'\n",
    "data_to_merge_with_other_timeseries = data.resample('15min', fill_method='ffill')"
   ]
  },
  {
   "cell_type": "markdown",
   "metadata": {},
   "source": [
    "## Take a look into the statistics of BMWI and BNetzA"
   ]
  },
  {
   "cell_type": "code",
   "execution_count": 72,
   "metadata": {
    "collapsed": false
   },
   "outputs": [
    {
     "data": {
      "text/plain": [
       "['Inhaltsverzeichnis',\n",
       " '1. Allgemeine Erläuterungen',\n",
       " '2.1 Überblick Deutschland',\n",
       " '2.2 Überblick Bundesländer',\n",
       " '2.3 Letzverbraucherabsatz',\n",
       " '2.4 Historische Entwicklung',\n",
       " '3.1 Wind onshore',\n",
       " '3.2 Wind offshore',\n",
       " '3.3 PV insgesamt',\n",
       " '3.4 PV Kategorien',\n",
       " '3.5 Biomasse',\n",
       " '3.6 Wasser',\n",
       " '3.7 Sonstige Energieträger',\n",
       " '4.1 Regelzonen',\n",
       " '4.2 Anschlussebenen',\n",
       " '4.3 Größenklassen',\n",
       " '5. Vermiedene NE']"
      ]
     },
     "execution_count": 72,
     "metadata": {},
     "output_type": "execute_result"
    }
   ],
   "source": [
    "# BNetzA\n",
    "url_eeg2013 ='http://www.bundesnetzagentur.de/SharedDocs/Downloads/DE/'\\\n",
    "             'Sachgebiete/Energie/Unternehmen_Institutionen/ErneuerbareEnergien/' \\\n",
    "              'ZahlenDatenInformationen/EEGinZahlen_2013.xls;?__blob=publicationFile&v=3'\n",
    "eeg2013 = pd.ExcelFile(url_eeg2013)\n",
    "eeg2013.sheet_names"
   ]
  },
  {
   "cell_type": "code",
   "execution_count": 73,
   "metadata": {
    "collapsed": false
   },
   "outputs": [
    {
     "data": {
      "text/html": [
       "<div>\n",
       "<table border=\"1\" class=\"dataframe\">\n",
       "  <thead>\n",
       "    <tr style=\"text-align: right;\">\n",
       "      <th></th>\n",
       "      <th>Unnamed: 0</th>\n",
       "      <th>Wasser</th>\n",
       "      <th>DKG-Gas*</th>\n",
       "      <th>Biomasse</th>\n",
       "      <th>Geothermie</th>\n",
       "      <th>Wind onshore</th>\n",
       "      <th>Wind offshore</th>\n",
       "      <th>Solar</th>\n",
       "      <th>Unnamed: 8</th>\n",
       "    </tr>\n",
       "  </thead>\n",
       "  <tbody>\n",
       "    <tr>\n",
       "      <th>0</th>\n",
       "      <td>Installierte Leistung ingesamt (in MW)</td>\n",
       "      <td>1487.23</td>\n",
       "      <td>551.15</td>\n",
       "      <td>6052.43</td>\n",
       "      <td>30.485</td>\n",
       "      <td>33456.7</td>\n",
       "      <td>508.3</td>\n",
       "      <td>36710.1</td>\n",
       "      <td>78796.4</td>\n",
       "    </tr>\n",
       "    <tr>\n",
       "      <th>1</th>\n",
       "      <td>Neuinbetriebnahmen (in MW)</td>\n",
       "      <td>76.0051</td>\n",
       "      <td>0.658</td>\n",
       "      <td>167.197</td>\n",
       "      <td>11.315</td>\n",
       "      <td>2900.46</td>\n",
       "      <td>240</td>\n",
       "      <td>2643.31</td>\n",
       "      <td>6038.94</td>\n",
       "    </tr>\n",
       "    <tr>\n",
       "      <th>2</th>\n",
       "      <td>Installierte Anlagen insgesamt (Anzahl)</td>\n",
       "      <td>6972</td>\n",
       "      <td>686</td>\n",
       "      <td>13420</td>\n",
       "      <td>8</td>\n",
       "      <td>22746</td>\n",
       "      <td>113</td>\n",
       "      <td>1429860</td>\n",
       "      <td>1473805</td>\n",
       "    </tr>\n",
       "    <tr>\n",
       "      <th>3</th>\n",
       "      <td>Eingespeiste Jahresarbeit (GWh)</td>\n",
       "      <td>6265.11</td>\n",
       "      <td>1775.74</td>\n",
       "      <td>36258.4</td>\n",
       "      <td>79.8633</td>\n",
       "      <td>50802.7</td>\n",
       "      <td>904.818</td>\n",
       "      <td>28785.1</td>\n",
       "      <td>124872</td>\n",
       "    </tr>\n",
       "    <tr>\n",
       "      <th>4</th>\n",
       "      <td>Vergütungszahlungen (Mio.€)</td>\n",
       "      <td>420.232</td>\n",
       "      <td>48.1669</td>\n",
       "      <td>6158.38</td>\n",
       "      <td>18.6547</td>\n",
       "      <td>3523.23</td>\n",
       "      <td>122.603</td>\n",
       "      <td>9346.04</td>\n",
       "      <td>19637.3</td>\n",
       "    </tr>\n",
       "    <tr>\n",
       "      <th>5</th>\n",
       "      <td>NaN</td>\n",
       "      <td>NaN</td>\n",
       "      <td>NaN</td>\n",
       "      <td>NaN</td>\n",
       "      <td>NaN</td>\n",
       "      <td>NaN</td>\n",
       "      <td>NaN</td>\n",
       "      <td>NaN</td>\n",
       "      <td>NaN</td>\n",
       "    </tr>\n",
       "    <tr>\n",
       "      <th>6</th>\n",
       "      <td>Angaben nach Vergütungsarten 2013</td>\n",
       "      <td>Erneuerbare Energieträger nach dem EEG</td>\n",
       "      <td>NaN</td>\n",
       "      <td>NaN</td>\n",
       "      <td>NaN</td>\n",
       "      <td>NaN</td>\n",
       "      <td>NaN</td>\n",
       "      <td>NaN</td>\n",
       "      <td>Summe</td>\n",
       "    </tr>\n",
       "    <tr>\n",
       "      <th>7</th>\n",
       "      <td>NaN</td>\n",
       "      <td>Wasser</td>\n",
       "      <td>DKG-Gas*</td>\n",
       "      <td>Biomasse</td>\n",
       "      <td>Geothermie</td>\n",
       "      <td>Wind onshore</td>\n",
       "      <td>Wind offshore</td>\n",
       "      <td>Solar</td>\n",
       "      <td>NaN</td>\n",
       "    </tr>\n",
       "    <tr>\n",
       "      <th>8</th>\n",
       "      <td>Feste Einspeisevergütung nach § 16 EEG 2012</td>\n",
       "      <td>NaN</td>\n",
       "      <td>NaN</td>\n",
       "      <td>NaN</td>\n",
       "      <td>NaN</td>\n",
       "      <td>NaN</td>\n",
       "      <td>NaN</td>\n",
       "      <td>NaN</td>\n",
       "      <td>NaN</td>\n",
       "    </tr>\n",
       "  </tbody>\n",
       "</table>\n",
       "</div>"
      ],
      "text/plain": [
       "                                    Unnamed: 0  \\\n",
       "0       Installierte Leistung ingesamt (in MW)   \n",
       "1                   Neuinbetriebnahmen (in MW)   \n",
       "2      Installierte Anlagen insgesamt (Anzahl)   \n",
       "3              Eingespeiste Jahresarbeit (GWh)   \n",
       "4                  Vergütungszahlungen (Mio.€)   \n",
       "5                                          NaN   \n",
       "6            Angaben nach Vergütungsarten 2013   \n",
       "7                                          NaN   \n",
       "8  Feste Einspeisevergütung nach § 16 EEG 2012   \n",
       "\n",
       "                                   Wasser  DKG-Gas*  Biomasse  Geothermie  \\\n",
       "0                                 1487.23    551.15   6052.43      30.485   \n",
       "1                                 76.0051     0.658   167.197      11.315   \n",
       "2                                    6972       686     13420           8   \n",
       "3                                 6265.11   1775.74   36258.4     79.8633   \n",
       "4                                 420.232   48.1669   6158.38     18.6547   \n",
       "5                                     NaN       NaN       NaN         NaN   \n",
       "6  Erneuerbare Energieträger nach dem EEG       NaN       NaN         NaN   \n",
       "7                                  Wasser  DKG-Gas*  Biomasse  Geothermie   \n",
       "8                                     NaN       NaN       NaN         NaN   \n",
       "\n",
       "   Wind onshore  Wind offshore    Solar Unnamed: 8  \n",
       "0       33456.7          508.3  36710.1    78796.4  \n",
       "1       2900.46            240  2643.31    6038.94  \n",
       "2         22746            113  1429860    1473805  \n",
       "3       50802.7        904.818  28785.1     124872  \n",
       "4       3523.23        122.603  9346.04    19637.3  \n",
       "5           NaN            NaN      NaN        NaN  \n",
       "6           NaN            NaN      NaN      Summe  \n",
       "7  Wind onshore  Wind offshore    Solar        NaN  \n",
       "8           NaN            NaN      NaN        NaN  "
      ]
     },
     "execution_count": 73,
     "metadata": {},
     "output_type": "execute_result"
    }
   ],
   "source": [
    "sta2013 = eeg2013.parse('2.1 Überblick Deutschland', skiprows=4, skip_footer=9)\n",
    "sta2013"
   ]
  },
  {
   "cell_type": "code",
   "execution_count": 74,
   "metadata": {
    "collapsed": false
   },
   "outputs": [],
   "source": [
    "url_reg2014  ='http://www.erneuerbare-energien.de/EE/Redaktion/DE/Downloads/zeitreihen-zur-entwicklung-der' \\\n",
    "             '-erneuerbaren-energien-in-deutschland-1990-2014-excel.xlsx;?__blob=publicationFile&v=5'\n",
    "\n",
    "reg2014 = pd.ExcelFile(url_reg2014)   \n",
    "sta2014 = reg2014.parse('4', skiprows=7, skip_footer=7)\n",
    "    "
   ]
  },
  {
   "cell_type": "code",
   "execution_count": 75,
   "metadata": {
    "collapsed": false
   },
   "outputs": [
    {
     "data": {
      "text/html": [
       "<div>\n",
       "<table border=\"1\" class=\"dataframe\">\n",
       "  <thead>\n",
       "    <tr style=\"text-align: right;\">\n",
       "      <th></th>\n",
       "      <th>0</th>\n",
       "      <th>1</th>\n",
       "      <th>2</th>\n",
       "      <th>3</th>\n",
       "      <th>4</th>\n",
       "      <th>5</th>\n",
       "      <th>6</th>\n",
       "      <th>7</th>\n",
       "      <th>8</th>\n",
       "      <th>9</th>\n",
       "      <th>10</th>\n",
       "      <th>11</th>\n",
       "    </tr>\n",
       "  </thead>\n",
       "  <tbody>\n",
       "    <tr>\n",
       "      <th>Angaben in [MW]</th>\n",
       "      <td>Wasserkraft 1)</td>\n",
       "      <td>Windenergie an Land</td>\n",
       "      <td>Windenergie auf See 2)</td>\n",
       "      <td>Photovoltaik</td>\n",
       "      <td>biogene Festbrennstoffe</td>\n",
       "      <td>biogene flüssige Brennstoffe</td>\n",
       "      <td>Biogas und Biomethan 3)</td>\n",
       "      <td>Klärgas 4)</td>\n",
       "      <td>Deponiegas</td>\n",
       "      <td>Geothermie</td>\n",
       "      <td>Gesamt</td>\n",
       "      <td>nachrichtlich: biogener Anteil des Abfalls 5)</td>\n",
       "    </tr>\n",
       "    <tr>\n",
       "      <th>1990</th>\n",
       "      <td>3982</td>\n",
       "      <td>55</td>\n",
       "      <td>0</td>\n",
       "      <td>2</td>\n",
       "      <td>64</td>\n",
       "      <td>0</td>\n",
       "      <td>1</td>\n",
       "      <td>5</td>\n",
       "      <td>59</td>\n",
       "      <td>0</td>\n",
       "      <td>4168</td>\n",
       "      <td>550</td>\n",
       "    </tr>\n",
       "    <tr>\n",
       "      <th>1991</th>\n",
       "      <td>4033</td>\n",
       "      <td>106</td>\n",
       "      <td>0</td>\n",
       "      <td>2</td>\n",
       "      <td>64</td>\n",
       "      <td>0</td>\n",
       "      <td>2</td>\n",
       "      <td>5</td>\n",
       "      <td>64</td>\n",
       "      <td>0</td>\n",
       "      <td>4276</td>\n",
       "      <td>550</td>\n",
       "    </tr>\n",
       "    <tr>\n",
       "      <th>1992</th>\n",
       "      <td>4049</td>\n",
       "      <td>174</td>\n",
       "      <td>0</td>\n",
       "      <td>6</td>\n",
       "      <td>65</td>\n",
       "      <td>0</td>\n",
       "      <td>2</td>\n",
       "      <td>4</td>\n",
       "      <td>68</td>\n",
       "      <td>0</td>\n",
       "      <td>4368</td>\n",
       "      <td>550</td>\n",
       "    </tr>\n",
       "    <tr>\n",
       "      <th>1993</th>\n",
       "      <td>4117</td>\n",
       "      <td>326</td>\n",
       "      <td>0</td>\n",
       "      <td>9</td>\n",
       "      <td>72</td>\n",
       "      <td>0</td>\n",
       "      <td>3</td>\n",
       "      <td>4</td>\n",
       "      <td>95</td>\n",
       "      <td>0</td>\n",
       "      <td>4626</td>\n",
       "      <td>564</td>\n",
       "    </tr>\n",
       "    <tr>\n",
       "      <th>1994</th>\n",
       "      <td>4211</td>\n",
       "      <td>618</td>\n",
       "      <td>0</td>\n",
       "      <td>12</td>\n",
       "      <td>80</td>\n",
       "      <td>0</td>\n",
       "      <td>4</td>\n",
       "      <td>5</td>\n",
       "      <td>119</td>\n",
       "      <td>0</td>\n",
       "      <td>5049</td>\n",
       "      <td>499</td>\n",
       "    </tr>\n",
       "    <tr>\n",
       "      <th>1995</th>\n",
       "      <td>4348</td>\n",
       "      <td>1121</td>\n",
       "      <td>0</td>\n",
       "      <td>18</td>\n",
       "      <td>80</td>\n",
       "      <td>0</td>\n",
       "      <td>9</td>\n",
       "      <td>6</td>\n",
       "      <td>132</td>\n",
       "      <td>0</td>\n",
       "      <td>5714</td>\n",
       "      <td>509</td>\n",
       "    </tr>\n",
       "    <tr>\n",
       "      <th>1996</th>\n",
       "      <td>4305</td>\n",
       "      <td>1549</td>\n",
       "      <td>0</td>\n",
       "      <td>28</td>\n",
       "      <td>93</td>\n",
       "      <td>0</td>\n",
       "      <td>15</td>\n",
       "      <td>8</td>\n",
       "      <td>145</td>\n",
       "      <td>0</td>\n",
       "      <td>6143</td>\n",
       "      <td>551</td>\n",
       "    </tr>\n",
       "    <tr>\n",
       "      <th>1997</th>\n",
       "      <td>4296</td>\n",
       "      <td>2089</td>\n",
       "      <td>0</td>\n",
       "      <td>42</td>\n",
       "      <td>115</td>\n",
       "      <td>0</td>\n",
       "      <td>19</td>\n",
       "      <td>9</td>\n",
       "      <td>158</td>\n",
       "      <td>0</td>\n",
       "      <td>6728</td>\n",
       "      <td>527</td>\n",
       "    </tr>\n",
       "    <tr>\n",
       "      <th>1998</th>\n",
       "      <td>4369</td>\n",
       "      <td>2877</td>\n",
       "      <td>0</td>\n",
       "      <td>54</td>\n",
       "      <td>135</td>\n",
       "      <td>0</td>\n",
       "      <td>43</td>\n",
       "      <td>115</td>\n",
       "      <td>168</td>\n",
       "      <td>0</td>\n",
       "      <td>7761</td>\n",
       "      <td>540</td>\n",
       "    </tr>\n",
       "    <tr>\n",
       "      <th>1999</th>\n",
       "      <td>4547</td>\n",
       "      <td>4435</td>\n",
       "      <td>0</td>\n",
       "      <td>70</td>\n",
       "      <td>194</td>\n",
       "      <td>0</td>\n",
       "      <td>49</td>\n",
       "      <td>132</td>\n",
       "      <td>173</td>\n",
       "      <td>0</td>\n",
       "      <td>9600</td>\n",
       "      <td>555</td>\n",
       "    </tr>\n",
       "    <tr>\n",
       "      <th>2000</th>\n",
       "      <td>4831</td>\n",
       "      <td>6097</td>\n",
       "      <td>0</td>\n",
       "      <td>114</td>\n",
       "      <td>304</td>\n",
       "      <td>0</td>\n",
       "      <td>78</td>\n",
       "      <td>128</td>\n",
       "      <td>193</td>\n",
       "      <td>0</td>\n",
       "      <td>11745</td>\n",
       "      <td>585</td>\n",
       "    </tr>\n",
       "    <tr>\n",
       "      <th>2001</th>\n",
       "      <td>4831</td>\n",
       "      <td>8738</td>\n",
       "      <td>0</td>\n",
       "      <td>176</td>\n",
       "      <td>384</td>\n",
       "      <td>5</td>\n",
       "      <td>111</td>\n",
       "      <td>134</td>\n",
       "      <td>193</td>\n",
       "      <td>0</td>\n",
       "      <td>14572</td>\n",
       "      <td>585</td>\n",
       "    </tr>\n",
       "    <tr>\n",
       "      <th>2002</th>\n",
       "      <td>4937</td>\n",
       "      <td>11976</td>\n",
       "      <td>0</td>\n",
       "      <td>296</td>\n",
       "      <td>523</td>\n",
       "      <td>6</td>\n",
       "      <td>160</td>\n",
       "      <td>141</td>\n",
       "      <td>200</td>\n",
       "      <td>0</td>\n",
       "      <td>18239</td>\n",
       "      <td>585</td>\n",
       "    </tr>\n",
       "    <tr>\n",
       "      <th>2003</th>\n",
       "      <td>4953</td>\n",
       "      <td>14593</td>\n",
       "      <td>0</td>\n",
       "      <td>435</td>\n",
       "      <td>859</td>\n",
       "      <td>18</td>\n",
       "      <td>190</td>\n",
       "      <td>149</td>\n",
       "      <td>212</td>\n",
       "      <td>0</td>\n",
       "      <td>21409</td>\n",
       "      <td>902</td>\n",
       "    </tr>\n",
       "    <tr>\n",
       "      <th>2004</th>\n",
       "      <td>5186</td>\n",
       "      <td>16612</td>\n",
       "      <td>0</td>\n",
       "      <td>1105</td>\n",
       "      <td>1020</td>\n",
       "      <td>21</td>\n",
       "      <td>249</td>\n",
       "      <td>157</td>\n",
       "      <td>240</td>\n",
       "      <td>0</td>\n",
       "      <td>24590</td>\n",
       "      <td>943</td>\n",
       "    </tr>\n",
       "    <tr>\n",
       "      <th>2005</th>\n",
       "      <td>5210</td>\n",
       "      <td>18375</td>\n",
       "      <td>0</td>\n",
       "      <td>2056</td>\n",
       "      <td>1218</td>\n",
       "      <td>60</td>\n",
       "      <td>665</td>\n",
       "      <td>161</td>\n",
       "      <td>248</td>\n",
       "      <td>0</td>\n",
       "      <td>27993</td>\n",
       "      <td>1174</td>\n",
       "    </tr>\n",
       "    <tr>\n",
       "      <th>2006</th>\n",
       "      <td>5193</td>\n",
       "      <td>20568</td>\n",
       "      <td>0</td>\n",
       "      <td>2899</td>\n",
       "      <td>1411</td>\n",
       "      <td>177</td>\n",
       "      <td>1000</td>\n",
       "      <td>170</td>\n",
       "      <td>252</td>\n",
       "      <td>0</td>\n",
       "      <td>31670</td>\n",
       "      <td>1273</td>\n",
       "    </tr>\n",
       "    <tr>\n",
       "      <th>2007</th>\n",
       "      <td>5137</td>\n",
       "      <td>22183</td>\n",
       "      <td>0</td>\n",
       "      <td>4170</td>\n",
       "      <td>1524</td>\n",
       "      <td>295</td>\n",
       "      <td>1242</td>\n",
       "      <td>177</td>\n",
       "      <td>257</td>\n",
       "      <td>2</td>\n",
       "      <td>34987</td>\n",
       "      <td>1228</td>\n",
       "    </tr>\n",
       "    <tr>\n",
       "      <th>2008</th>\n",
       "      <td>5164</td>\n",
       "      <td>23815</td>\n",
       "      <td>0</td>\n",
       "      <td>6120</td>\n",
       "      <td>1663</td>\n",
       "      <td>341</td>\n",
       "      <td>1455</td>\n",
       "      <td>186</td>\n",
       "      <td>272</td>\n",
       "      <td>2</td>\n",
       "      <td>39018</td>\n",
       "      <td>1351</td>\n",
       "    </tr>\n",
       "    <tr>\n",
       "      <th>2009</th>\n",
       "      <td>5340</td>\n",
       "      <td>25632</td>\n",
       "      <td>30</td>\n",
       "      <td>10566</td>\n",
       "      <td>1843</td>\n",
       "      <td>345</td>\n",
       "      <td>1910</td>\n",
       "      <td>192</td>\n",
       "      <td>268</td>\n",
       "      <td>5</td>\n",
       "      <td>46131</td>\n",
       "      <td>1441</td>\n",
       "    </tr>\n",
       "    <tr>\n",
       "      <th>2010</th>\n",
       "      <td>5407</td>\n",
       "      <td>27012</td>\n",
       "      <td>80</td>\n",
       "      <td>17944</td>\n",
       "      <td>1913</td>\n",
       "      <td>333</td>\n",
       "      <td>2395</td>\n",
       "      <td>200</td>\n",
       "      <td>245</td>\n",
       "      <td>5</td>\n",
       "      <td>55534</td>\n",
       "      <td>1526</td>\n",
       "    </tr>\n",
       "    <tr>\n",
       "      <th>2011</th>\n",
       "      <td>5625</td>\n",
       "      <td>28857</td>\n",
       "      <td>188</td>\n",
       "      <td>25429</td>\n",
       "      <td>1966</td>\n",
       "      <td>304</td>\n",
       "      <td>3025</td>\n",
       "      <td>233</td>\n",
       "      <td>243</td>\n",
       "      <td>5</td>\n",
       "      <td>65875</td>\n",
       "      <td>1486</td>\n",
       "    </tr>\n",
       "    <tr>\n",
       "      <th>2012</th>\n",
       "      <td>5607</td>\n",
       "      <td>30996</td>\n",
       "      <td>268</td>\n",
       "      <td>33033</td>\n",
       "      <td>2018</td>\n",
       "      <td>250</td>\n",
       "      <td>3450</td>\n",
       "      <td>236</td>\n",
       "      <td>225</td>\n",
       "      <td>18</td>\n",
       "      <td>76101</td>\n",
       "      <td>1429</td>\n",
       "    </tr>\n",
       "    <tr>\n",
       "      <th>2013</th>\n",
       "      <td>5590</td>\n",
       "      <td>33763</td>\n",
       "      <td>508</td>\n",
       "      <td>36337</td>\n",
       "      <td>2057</td>\n",
       "      <td>250</td>\n",
       "      <td>3750</td>\n",
       "      <td>240</td>\n",
       "      <td>220</td>\n",
       "      <td>24</td>\n",
       "      <td>82739</td>\n",
       "      <td>1860</td>\n",
       "    </tr>\n",
       "    <tr>\n",
       "      <th>2014</th>\n",
       "      <td>5580</td>\n",
       "      <td>38156</td>\n",
       "      <td>1037</td>\n",
       "      <td>38236</td>\n",
       "      <td>2074</td>\n",
       "      <td>195</td>\n",
       "      <td>4244</td>\n",
       "      <td>245</td>\n",
       "      <td>211</td>\n",
       "      <td>24</td>\n",
       "      <td>90002</td>\n",
       "      <td>1888</td>\n",
       "    </tr>\n",
       "  </tbody>\n",
       "</table>\n",
       "</div>"
      ],
      "text/plain": [
       "                             0                    1                       2   \\\n",
       "Angaben in [MW]  Wasserkraft 1)  Windenergie an Land  Windenergie auf See 2)   \n",
       "1990                       3982                   55                       0   \n",
       "1991                       4033                  106                       0   \n",
       "1992                       4049                  174                       0   \n",
       "1993                       4117                  326                       0   \n",
       "1994                       4211                  618                       0   \n",
       "1995                       4348                 1121                       0   \n",
       "1996                       4305                 1549                       0   \n",
       "1997                       4296                 2089                       0   \n",
       "1998                       4369                 2877                       0   \n",
       "1999                       4547                 4435                       0   \n",
       "2000                       4831                 6097                       0   \n",
       "2001                       4831                 8738                       0   \n",
       "2002                       4937                11976                       0   \n",
       "2003                       4953                14593                       0   \n",
       "2004                       5186                16612                       0   \n",
       "2005                       5210                18375                       0   \n",
       "2006                       5193                20568                       0   \n",
       "2007                       5137                22183                       0   \n",
       "2008                       5164                23815                       0   \n",
       "2009                       5340                25632                      30   \n",
       "2010                       5407                27012                      80   \n",
       "2011                       5625                28857                     188   \n",
       "2012                       5607                30996                     268   \n",
       "2013                       5590                33763                     508   \n",
       "2014                       5580                38156                    1037   \n",
       "\n",
       "                           3                        4   \\\n",
       "Angaben in [MW]  Photovoltaik  biogene Festbrennstoffe   \n",
       "1990                        2                       64   \n",
       "1991                        2                       64   \n",
       "1992                        6                       65   \n",
       "1993                        9                       72   \n",
       "1994                       12                       80   \n",
       "1995                       18                       80   \n",
       "1996                       28                       93   \n",
       "1997                       42                      115   \n",
       "1998                       54                      135   \n",
       "1999                       70                      194   \n",
       "2000                      114                      304   \n",
       "2001                      176                      384   \n",
       "2002                      296                      523   \n",
       "2003                      435                      859   \n",
       "2004                     1105                     1020   \n",
       "2005                     2056                     1218   \n",
       "2006                     2899                     1411   \n",
       "2007                     4170                     1524   \n",
       "2008                     6120                     1663   \n",
       "2009                    10566                     1843   \n",
       "2010                    17944                     1913   \n",
       "2011                    25429                     1966   \n",
       "2012                    33033                     2018   \n",
       "2013                    36337                     2057   \n",
       "2014                    38236                     2074   \n",
       "\n",
       "                                           5                        6   \\\n",
       "Angaben in [MW]  biogene flüssige Brennstoffe  Biogas und Biomethan 3)   \n",
       "1990                                        0                        1   \n",
       "1991                                        0                        2   \n",
       "1992                                        0                        2   \n",
       "1993                                        0                        3   \n",
       "1994                                        0                        4   \n",
       "1995                                        0                        9   \n",
       "1996                                        0                       15   \n",
       "1997                                        0                       19   \n",
       "1998                                        0                       43   \n",
       "1999                                        0                       49   \n",
       "2000                                        0                       78   \n",
       "2001                                        5                      111   \n",
       "2002                                        6                      160   \n",
       "2003                                       18                      190   \n",
       "2004                                       21                      249   \n",
       "2005                                       60                      665   \n",
       "2006                                      177                     1000   \n",
       "2007                                      295                     1242   \n",
       "2008                                      341                     1455   \n",
       "2009                                      345                     1910   \n",
       "2010                                      333                     2395   \n",
       "2011                                      304                     3025   \n",
       "2012                                      250                     3450   \n",
       "2013                                      250                     3750   \n",
       "2014                                      195                     4244   \n",
       "\n",
       "                         7           8           9       10  \\\n",
       "Angaben in [MW]  Klärgas 4)  Deponiegas  Geothermie  Gesamt   \n",
       "1990                      5          59           0    4168   \n",
       "1991                      5          64           0    4276   \n",
       "1992                      4          68           0    4368   \n",
       "1993                      4          95           0    4626   \n",
       "1994                      5         119           0    5049   \n",
       "1995                      6         132           0    5714   \n",
       "1996                      8         145           0    6143   \n",
       "1997                      9         158           0    6728   \n",
       "1998                    115         168           0    7761   \n",
       "1999                    132         173           0    9600   \n",
       "2000                    128         193           0   11745   \n",
       "2001                    134         193           0   14572   \n",
       "2002                    141         200           0   18239   \n",
       "2003                    149         212           0   21409   \n",
       "2004                    157         240           0   24590   \n",
       "2005                    161         248           0   27993   \n",
       "2006                    170         252           0   31670   \n",
       "2007                    177         257           2   34987   \n",
       "2008                    186         272           2   39018   \n",
       "2009                    192         268           5   46131   \n",
       "2010                    200         245           5   55534   \n",
       "2011                    233         243           5   65875   \n",
       "2012                    236         225          18   76101   \n",
       "2013                    240         220          24   82739   \n",
       "2014                    245         211          24   90002   \n",
       "\n",
       "                                                            11  \n",
       "Angaben in [MW]  nachrichtlich: biogener Anteil des Abfalls 5)  \n",
       "1990                                                       550  \n",
       "1991                                                       550  \n",
       "1992                                                       550  \n",
       "1993                                                       564  \n",
       "1994                                                       499  \n",
       "1995                                                       509  \n",
       "1996                                                       551  \n",
       "1997                                                       527  \n",
       "1998                                                       540  \n",
       "1999                                                       555  \n",
       "2000                                                       585  \n",
       "2001                                                       585  \n",
       "2002                                                       585  \n",
       "2003                                                       902  \n",
       "2004                                                       943  \n",
       "2005                                                      1174  \n",
       "2006                                                      1273  \n",
       "2007                                                      1228  \n",
       "2008                                                      1351  \n",
       "2009                                                      1441  \n",
       "2010                                                      1526  \n",
       "2011                                                      1486  \n",
       "2012                                                      1429  \n",
       "2013                                                      1860  \n",
       "2014                                                      1888  "
      ]
     },
     "execution_count": 75,
     "metadata": {},
     "output_type": "execute_result"
    }
   ],
   "source": [
    "sta2014.T"
   ]
  },
  {
   "cell_type": "markdown",
   "metadata": {},
   "source": [
    "# Create finale dataframe\n",
    "\n"
   ]
  },
  {
   "cell_type": "code",
   "execution_count": 76,
   "metadata": {
    "collapsed": false
   },
   "outputs": [],
   "source": [
    "df_columns = ['start_up_date','rated_power','type_of_generation',\n",
    "              'subtype','thermal_capacity','city', 'postcode',\n",
    "              'tso','longitude','latitude','eeg_id',\n",
    "              'voltage_level','source']"
   ]
  },
  {
   "cell_type": "code",
   "execution_count": 77,
   "metadata": {
    "collapsed": false
   },
   "outputs": [
    {
     "name": "stdout",
     "output_type": "stream",
     "text": [
      "done\n"
     ]
    }
   ],
   "source": [
    "transp_data = ren_geo.loc[:, df_columns]\n",
    "energymap_data = energ_geo.loc[:, df_columns]\n",
    "\n",
    "# delete the rest of columns\n",
    "transp_data.reset_index(drop=True)\n",
    "energymap_data.reset_index(drop=True)\n",
    "print('done')"
   ]
  },
  {
   "cell_type": "code",
   "execution_count": 78,
   "metadata": {
    "collapsed": false
   },
   "outputs": [
    {
     "data": {
      "text/html": [
       "<div>\n",
       "<table border=\"1\" class=\"dataframe\">\n",
       "  <thead>\n",
       "    <tr style=\"text-align: right;\">\n",
       "      <th></th>\n",
       "      <th>start_up_date</th>\n",
       "      <th>rated_power</th>\n",
       "      <th>type_of_generation</th>\n",
       "      <th>subtype</th>\n",
       "      <th>thermal_capacity</th>\n",
       "      <th>city</th>\n",
       "      <th>postcode</th>\n",
       "      <th>tso</th>\n",
       "      <th>longitude</th>\n",
       "      <th>latitude</th>\n",
       "      <th>eeg_id</th>\n",
       "      <th>voltage_level</th>\n",
       "      <th>source</th>\n",
       "    </tr>\n",
       "  </thead>\n",
       "  <tbody>\n",
       "    <tr>\n",
       "      <th>0</th>\n",
       "      <td>1895-11-16</td>\n",
       "      <td>70.000</td>\n",
       "      <td>hydro</td>\n",
       "      <td>hydro</td>\n",
       "      <td>NaN</td>\n",
       "      <td>NaN</td>\n",
       "      <td>885XX</td>\n",
       "      <td>TransnetBW GmbH</td>\n",
       "      <td>9.443120</td>\n",
       "      <td>48.135032</td>\n",
       "      <td>E16869000000000</td>\n",
       "      <td>NS</td>\n",
       "      <td>TransnetBW</td>\n",
       "    </tr>\n",
       "    <tr>\n",
       "      <th>1</th>\n",
       "      <td>1899-11-01</td>\n",
       "      <td>240.000</td>\n",
       "      <td>hydro</td>\n",
       "      <td>hydro</td>\n",
       "      <td>NaN</td>\n",
       "      <td>NaN</td>\n",
       "      <td>424XX</td>\n",
       "      <td>Amprion</td>\n",
       "      <td>7.272179</td>\n",
       "      <td>51.207199</td>\n",
       "      <td>E30000000242363</td>\n",
       "      <td>MS</td>\n",
       "      <td>Amprion</td>\n",
       "    </tr>\n",
       "    <tr>\n",
       "      <th>2</th>\n",
       "      <td>1899-12-30</td>\n",
       "      <td>29.375</td>\n",
       "      <td>solar</td>\n",
       "      <td>solar_roof_mounted</td>\n",
       "      <td>NaN</td>\n",
       "      <td>NaN</td>\n",
       "      <td>735XX</td>\n",
       "      <td>TransnetBW GmbH</td>\n",
       "      <td>9.825670</td>\n",
       "      <td>48.819950</td>\n",
       "      <td>E16568363000000</td>\n",
       "      <td>NS</td>\n",
       "      <td>TransnetBW</td>\n",
       "    </tr>\n",
       "    <tr>\n",
       "      <th>3</th>\n",
       "      <td>1899-12-31</td>\n",
       "      <td>13.000</td>\n",
       "      <td>hydro</td>\n",
       "      <td>hydro</td>\n",
       "      <td>NaN</td>\n",
       "      <td>NaN</td>\n",
       "      <td>573XX</td>\n",
       "      <td>Amprion</td>\n",
       "      <td>8.281027</td>\n",
       "      <td>51.080677</td>\n",
       "      <td>E30000000060527</td>\n",
       "      <td>NS</td>\n",
       "      <td>Amprion</td>\n",
       "    </tr>\n",
       "    <tr>\n",
       "      <th>4</th>\n",
       "      <td>1899-12-31</td>\n",
       "      <td>490.000</td>\n",
       "      <td>hydro</td>\n",
       "      <td>hydro</td>\n",
       "      <td>NaN</td>\n",
       "      <td>NaN</td>\n",
       "      <td>754XX</td>\n",
       "      <td>TransnetBW GmbH</td>\n",
       "      <td>8.845985</td>\n",
       "      <td>48.966367</td>\n",
       "      <td>E17149000000000</td>\n",
       "      <td>MS</td>\n",
       "      <td>TransnetBW</td>\n",
       "    </tr>\n",
       "  </tbody>\n",
       "</table>\n",
       "</div>"
      ],
      "text/plain": [
       "  start_up_date  rated_power type_of_generation             subtype  \\\n",
       "0    1895-11-16       70.000              hydro               hydro   \n",
       "1    1899-11-01      240.000              hydro               hydro   \n",
       "2    1899-12-30       29.375              solar  solar_roof_mounted   \n",
       "3    1899-12-31       13.000              hydro               hydro   \n",
       "4    1899-12-31      490.000              hydro               hydro   \n",
       "\n",
       "   thermal_capacity city postcode              tso  longitude   latitude  \\\n",
       "0               NaN  NaN    885XX  TransnetBW GmbH   9.443120  48.135032   \n",
       "1               NaN  NaN    424XX          Amprion   7.272179  51.207199   \n",
       "2               NaN  NaN    735XX  TransnetBW GmbH   9.825670  48.819950   \n",
       "3               NaN  NaN    573XX          Amprion   8.281027  51.080677   \n",
       "4               NaN  NaN    754XX  TransnetBW GmbH   8.845985  48.966367   \n",
       "\n",
       "            eeg_id voltage_level      source  \n",
       "0  E16869000000000            NS  TransnetBW  \n",
       "1  E30000000242363            MS     Amprion  \n",
       "2  E16568363000000            NS  TransnetBW  \n",
       "3  E30000000060527            NS     Amprion  \n",
       "4  E17149000000000            MS  TransnetBW  "
      ]
     },
     "execution_count": 78,
     "metadata": {},
     "output_type": "execute_result"
    }
   ],
   "source": [
    "transp_data.head()"
   ]
  },
  {
   "cell_type": "markdown",
   "metadata": {},
   "source": [
    "# Geoplot testing\n",
    "\n",
    "* use energy map to get gps by eeg_id\n",
    "* transform UTM to GPS by https://pypi.python.org/pypi/utm\n",
    "* use plz.sql to find the rest\n"
   ]
  },
  {
   "cell_type": "code",
   "execution_count": 79,
   "metadata": {
    "collapsed": true
   },
   "outputs": [],
   "source": [
    "def draw_germany():\n",
    "    \"\"\"Returns a basemap centered on Germany\"\"\"\n",
    "    plt.figure(figsize=(14, 10))\n",
    "    return Basemap(projection='lcc', resolution='l',\n",
    "                   llcrnrlon= 5.87, urcrnrlon=16.04,\n",
    "                   llcrnrlat= 47, urcrnrlat= 55.1,\n",
    "                   lat_1=47.26, lat_2=56, lon_0=6,\n",
    "                   area_thresh=10000)\n"
   ]
  },
  {
   "cell_type": "code",
   "execution_count": 81,
   "metadata": {
    "collapsed": false
   },
   "outputs": [
    {
     "data": {
      "text/plain": [
       "<matplotlib.legend.Legend at 0x7fc04c530d30>"
      ]
     },
     "execution_count": 81,
     "metadata": {},
     "output_type": "execute_result"
    },
    {
     "name": "stderr",
     "output_type": "stream",
     "text": [
      "/home/leppi/anaconda3/lib/python3.4/site-packages/matplotlib/collections.py:590: FutureWarning: elementwise comparison failed; returning scalar instead, but in the future will perform elementwise comparison\n",
      "  if self._edgecolors == str('face'):\n"
     ]
    },
    {
     "data": {
      "image/png": "[encoded data removed]",
      "text/plain": [
       "<matplotlib.figure.Figure at 0x7fc04ffa6160>"
      ]
     },
     "metadata": {},
     "output_type": "display_data"
    }
   ],
   "source": [
    "m = draw_germany()\n",
    "# Draw map background\n",
    "m.fillcontinents(color='white', lake_color='#eeeeee')\n",
    "m.drawstates(color='lightgray')\n",
    "m.drawcoastlines(color='lightgray')\n",
    "m.drawcountries(color='lightgray')\n",
    "m.drawmapboundary(fill_color='#eeeeee')\n",
    "\n",
    "# get coordinates\n",
    "lon = np.array(energymap_data.longitude)\n",
    "lat = np.array(energymap_data.latitude)\n",
    "\n",
    "# Plot PV systems entries\n",
    "style = dict(s=5, marker='o', alpha=0.5, zorder=2)\n",
    "m.scatter(lon,lat, latlon=True,\n",
    "          label='Renewable Power plants based on BNetzA and TSO',\n",
    "          color='#00592D', **style)\n",
    "\n",
    "plt.legend(loc='lower left', frameon=False)"
   ]
  },
  {
   "cell_type": "markdown",
   "metadata": {
    "collapsed": true
   },
   "source": [
    "# Documenting the data package (meta data)\n",
    "\n",
    "We document the data packages meta data in the specific format JSON as proposed by the Open Knowledge Foundation. See the Frictionless Data project by OKFN (http://data.okfn.org/) and the Data Package specifications (http://dataprotocols.org/data-packages/) for more details.\n",
    "\n",
    "In order to keep the notebook more readable, we first formulate the metadata in the human-readable YAML format using a multi-line string. We then parse the string into a Python dictionary and save that to disk as a JSON file."
   ]
  },
  {
   "cell_type": "code",
   "execution_count": 82,
   "metadata": {
    "collapsed": false
   },
   "outputs": [],
   "source": [
    "# Here we define meta data of the resulting data package.\n",
    "# The meta data follows the specification at:\n",
    "# http://dataprotocols.org/data-packages/\n",
    "\n",
    "metadata = \"\"\"\n",
    "name: opsd-renewable-master-register-germany\n",
    "title: Test data for master data register of renewable power plants in Germany.\n",
    "description: This dataset is just for OPSD testing and contains the master data of Germany.\n",
    "version: 0.0.2\n",
    "keywords: [master data register,power plants,renewables,germany]\n",
    "resources:\n",
    "      path: renewable_power-plants_germany.csv\n",
    "      format: csv\n",
    "      mediatype: text/csv\n",
    "      schema:  # Schema according to: http://dataprotocols.org/json-table-schema/        \n",
    "          fields:\n",
    "            - name: start_up_date\n",
    "              description: Date of start up\n",
    "              type: datetime\n",
    "              format: YYYY-MM-DDThh:mm:ssZ  # This MUST be in ISO 8601 format of YYYY-MM-DDThh:mm:ssZ in UTC time according to http://dataprotocols.org/json-table-schema/\n",
    "            - name: rated_power\n",
    "              description: Rated power in kW\n",
    "              type: number\n",
    "              format: float\n",
    "            - name: type_of_generation\n",
    "              description: Type of generation / energy source\n",
    "              type: number\n",
    "            - name: subtype,\n",
    "              description: subtype of generation\n",
    "              type: text\n",
    "            - name: thermal_capacity\n",
    "              description: Installed thermal capacity in kW\n",
    "              type: number\n",
    "            - name: city\n",
    "              description: City name of location\n",
    "              type: text\n",
    "            - name: tso\n",
    "              description: Name of TSO  \n",
    "              type: text    \n",
    "            - name: longitude\n",
    "              description: GPS Longitude coordinates\n",
    "              type: number             \n",
    "            - name: latitude\n",
    "              description: GPS Latitude coordinates \n",
    "              type: number\n",
    "            - name: eeg_id\n",
    "              description: eeg remuneration number\n",
    "              type: text\n",
    "            - name: voltage_level\n",
    "              description: Volatage level of grid connection\n",
    "              type: text             \n",
    "            - name: source\n",
    "              description: Source name of entry\n",
    "              type: text\n",
    "licenses:\n",
    "    - url: http://example.com/license/url/here\n",
    "      name: License Name Here\n",
    "      version: 1.0\n",
    "      id: license-id-from-open\n",
    "sources:\n",
    "    - name: EnergyMap.info,\n",
    "      web: http://www.energymap.info/download.html\n",
    "    - name: Bundesnetzagentur - Veröffentlichung von im Anlagenregister registrierten Daten,\n",
    "      web: http://www.bundesnetzagentur.de/cln_1422/DE/Sachgebiete/ElektrizitaetundGas/Unternehmen_Institutionen/ErneuerbareEnergien/Anlagenregister/Anlagenregister_Veroeffentlichung/Anlagenregister_Veroeffentlichungen_node.html\n",
    "    - name: Bundesnetzagentur - Datenmeldungen und EEG-Vergütungssätze für Photovoltaikanlagen,\n",
    "      web: http://www.bundesnetzagentur.de/cln_1431/DE/Sachgebiete/ElektrizitaetundGas/Unternehmen_Institutionen/ErneuerbareEnergien/Photovoltaik/DatenMeldgn_EEG-VergSaetze/DatenMeldgn_EEG-VergSaetze_node.html    \n",
    "    - name: Netz-transparenz.de Informationsplattform der deutschen Übertragungsnetzbetreiber, \n",
    "      web: https://www.netztransparenz.de/de/Anlagenstammdaten.htm\n",
    "maintainers:\n",
    "    - name: OPSD Project,\n",
    "      email: wolf-dieter.bunke@uni-flensburg.de,\n",
    "      web: http://open-power-system-data.org/\n",
    "views:\n",
    "    # You can put hints here which kind of graphs or maps make sense to display your data. This makes the \n",
    "    # Data Package Viewer at http://data.okfn.org/tools/view automatically display visualazations of your data.\n",
    "    # See http://data.okfn.org/doc/data-package#views for more details.    \n",
    "# extend your datapackage.json with attributes that are not\n",
    "# part of the data package spec\n",
    "# you can add your own attributes to a datapackage.json, too\n",
    "openpowersystemdata-enable-listing: True  # This is just an example we don't actually make use of yet.\n",
    "\"\"\"\n",
    "\n",
    "metadata = yaml.load(metadata)\n",
    "\n",
    "datapackage_json = json.dumps(metadata, indent=4, separators=(',', ': '))"
   ]
  },
  {
   "cell_type": "markdown",
   "metadata": {},
   "source": [
    "# Write Data Package to disk\n",
    "\n",
    "Again, we follow the Frictionless Data project's suggestions (see http://data.okfn.org/) to write a data package.\n",
    "\n",
    "The data package consists of:\n",
    " * **datapackage.json** A file containing meta data of the data package\n",
    " * ***.csv** One or multiple CSV data files\n",
    " * **README.md** A readme (which is a copy of this Jupyter Notebook converted to Markdown format)\n",
    "\n",
    "Following this file structure allows to use a number of tools (http://data.okfn.org/tools) designed specifically for data packages."
   ]
  },
  {
   "cell_type": "code",
   "execution_count": 83,
   "metadata": {
    "collapsed": false
   },
   "outputs": [
    {
     "ename": "FileNotFoundError",
     "evalue": "[Errno 2] No such file or directory: 'renewable-energy-power-plants_DE.md' -> 'output/datapackage_renewables/README.md'",
     "output_type": "error",
     "traceback": [
      "\u001b[1;31m---------------------------------------------------------------------------\u001b[0m",
      "\u001b[1;31mFileNotFoundError\u001b[0m                         Traceback (most recent call last)",
      "\u001b[1;32m<ipython-input-83-df44e285f896>\u001b[0m in \u001b[0;36m<module>\u001b[1;34m()\u001b[0m\n\u001b[0;32m     21\u001b[0m \u001b[1;32mexcept\u001b[0m \u001b[0mException\u001b[0m\u001b[1;33m:\u001b[0m\u001b[1;33m\u001b[0m\u001b[0m\n\u001b[0;32m     22\u001b[0m     \u001b[1;32mpass\u001b[0m\u001b[1;33m\u001b[0m\u001b[0m\n\u001b[1;32m---> 23\u001b[1;33m \u001b[0mos\u001b[0m\u001b[1;33m.\u001b[0m\u001b[0mrename\u001b[0m\u001b[1;33m(\u001b[0m\u001b[0mnb_filename\u001b[0m\u001b[1;33m.\u001b[0m\u001b[0mreplace\u001b[0m\u001b[1;33m(\u001b[0m\u001b[1;34m'.ipynb'\u001b[0m\u001b[1;33m,\u001b[0m \u001b[1;34m'.md'\u001b[0m\u001b[1;33m)\u001b[0m\u001b[1;33m,\u001b[0m \u001b[0mpath_readme\u001b[0m\u001b[1;33m)\u001b[0m\u001b[1;33m\u001b[0m\u001b[0m\n\u001b[0m",
      "\u001b[1;31mFileNotFoundError\u001b[0m: [Errno 2] No such file or directory: 'renewable-energy-power-plants_DE.md' -> 'output/datapackage_renewables/README.md'"
     ]
    }
   ],
   "source": [
    "path_package = 'output/datapackage_renewables'\n",
    "\n",
    "os.makedirs(path_package, exist_ok=True)\n",
    "    \n",
    "energymap_data.to_csv(os.path.join(path_package,\n",
    "                            'renewable_power-plants_germany.csv'))\n",
    "\n",
    "with open(os.path.join(path_package, 'datapackage.json'), 'w') as f:\n",
    "    f.write(datapackage_json)\n",
    "    \n",
    "##\n",
    "# Make sure the filename here matches the filename of the notebook itself\n",
    "##\n",
    "nb_filename = 'renewable-energy-power-plants_DE.ipynb'\n",
    "\n",
    "# Save a copy of the notebook to markdown, to serve as the package README file\n",
    "subprocess.call(['jupyter', 'nbconvert', '--to', 'markdown', nb_filename])\n",
    "path_readme = os.path.join(path_package, 'README.md')\n",
    "try:\n",
    "    os.remove(path_readme)\n",
    "except Exception:\n",
    "    pass\n",
    "os.rename(nb_filename.replace('.ipynb', '.md'), path_readme)"
   ]
  },
  {
   "cell_type": "code",
   "execution_count": null,
   "metadata": {
    "collapsed": true
   },
   "outputs": [],
   "source": []
  }
 ],
 "metadata": {
  "kernelspec": {
   "display_name": "Python 3",
   "language": "python",
   "name": "python3"
  },
  "language_info": {
   "codemirror_mode": {
    "name": "ipython",
    "version": 3
   },
   "file_extension": ".py",
   "mimetype": "text/x-python",
   "name": "python",
   "nbconvert_exporter": "python",
   "pygments_lexer": "ipython3",
   "version": "3.4.3"
  }
 },
 "nbformat": 4,
 "nbformat_minor": 0
}
