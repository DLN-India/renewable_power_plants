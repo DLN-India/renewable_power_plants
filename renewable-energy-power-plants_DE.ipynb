{
 "cells": [
  {
   "cell_type": "markdown",
   "metadata": {},
   "source": [
    "# Register of renewable energy power plants in Germany\n",
    "\n",
    "This Jupyter Notebook is part of the \"Open Power System Data\" Project. The aim is to extract, merge, clean and verify different sources with data of renewable energy (RE) power plants in Germany. The data is downloaded from three diffrent sources:\n",
    "* [BNetzA](http://www.bundesnetzagentur.de/) - The German Federal Network Agency for Electricity, Gas, Telecommunications, Posts and Railway \n",
    "* [EnergyMap.info](http://www.energymap.info/) - The German Society for Solarpower e.V. \n",
    "* [Netztransparenz.de](https://www.netztransparenz.de/de/Anlagenstammdaten.htm) - Information platform from the german TSOs\n",
    "\n",
    "In Germany all data is mandatorily reported by the four TSOs (50 Herz, Amprion, Tennet, TransnetBW). The BNetzA merges them and EnergyMap.info additionally validates and converts the data into a standard format. The EnergyMap.info register includes all RE power plants which are eligible for the German feed-in tariff (according to the EEG law). EnergyMap.info is the main source for all historical data (installed until July 2014)\n",
    "\n",
    "Note: Since 2014 the BNetzA itself is responsible to publish the renewable power plants register. The legal framework for the register is  specified in the [EEG 2014 (German)](http://www.gesetze-im-internet.de/eeg_2014/) [(English)](http://www.res-legal.eu/search-by-country/germany/single/s/res-e/t/promotion/aid/feed-in-tariff-eeg-feed-in-tariff/lastp/135/). From June 2014 on all power plants are published in two separated MS Excel files (roof mounted PV systems and all other renewable power plants). Additionaly the Data from [Netztransparenz.de](https://www.netztransparenz.de/de/Anlagenstammdaten.htm) is included in the script to eliminate missing values and timelines.\n"
   ]
  },
  {
   "cell_type": "markdown",
   "metadata": {},
   "source": [
    "# License\n",
    "\n",
    "* This notebook is published under the GNU GPL v3 license. http://www.gnu.org/licenses/gpl-3.0.en.html.\n",
    "* This notebook is developed by the project Open Power System Date (OPSD.) http://open-power-system-data.org/"
   ]
  },
  {
   "cell_type": "markdown",
   "metadata": {},
   "source": [
    "# Table of contents \n",
    "\n",
    "\n",
    "(work in progress)\n",
    "* [Register of renewable energy power plants in Germany](#Register-of-renewable-energy-power-plants-in-Germany)\n",
    "* [License](#Licence)\n",
    "* [Import python modules](#Import-python-modules)\n",
    "* [Data overview](#Data-overview)\n",
    "* [Download and extract data](#Download-an-extracting-data-from-data-sources)\n",
    "    * [Unzip and load data as Data Frame](#Unzip-and-load-data-as-data-frame)\n",
    "    * [Definition of column names](#Definition-of-column-names)\n",
    "    * [First look at the Data Frame structure and format](#First-look-at-the-Data-Frame-structure-and-format)\n",
    "    * [Rename values by own english standards](#Rename-values-by-own-english-standards)\n",
    "\n",
    "* [Find duplicantes and other suspect data](#Find-duplicantes-and-other-suspect-data)\n",
    "\n",
    "* [Georeferencing get coordinates](#Georeferencing-get-coordinates)\n",
    "* [Geoploting test](#Geoplot-testing)\n",
    "* [Documenting the data package in a JSON object](#Documenting-the-data-package-in-a-JSON-object)\n",
    "* [Write Data Package to disk](#Write-Data-Package-to-disk)\n"
   ]
  },
  {
   "cell_type": "markdown",
   "metadata": {},
   "source": [
    "# Import Python modules"
   ]
  },
  {
   "cell_type": "code",
   "execution_count": null,
   "metadata": {
    "collapsed": false,
    "scrolled": true
   },
   "outputs": [],
   "source": [
    "%matplotlib inline\n",
    "\n",
    "from collections import OrderedDict\n",
    "import io\n",
    "import json\n",
    "import os\n",
    "import subprocess\n",
    "import zipfile\n",
    "import posixpath\n",
    "import urllib.parse\n",
    "import urllib.request\n",
    "import matplotlib.pyplot as plt\n",
    "from mpl_toolkits.basemap import Basemap\n",
    "import numpy as np\n",
    "import pandas as pd\n",
    "import requests\n",
    "import yaml  # http://pyyaml.org/, pip install pyyaml, conda install pyyaml\n",
    "import datetime  \n",
    "\n",
    "import logging\n",
    "logger = logging.getLogger('notebook')\n",
    "logger.setLevel('INFO')\n",
    "nb_root_logger = logging.getLogger()\n",
    "formatter = logging.Formatter('%(asctime)s - %(name)s - %(levelname)s'\\\n",
    "                              '- %(message)s',datefmt='%d %b %Y %H:%M:%S')\n",
    "nb_root_logger.handlers[0].setFormatter(formatter)\n",
    "\n",
    "\n",
    "\n",
    "#create download and output folders if they don't exist\n",
    "if not os.path.exists('input/'): os.makedirs('input/')\n",
    "if not os.path.exists('output/'): os.makedirs('output/')\n",
    "if not os.path.exists('output/datapackage_renewables'): os.makedirs('output/ \\\n",
    "                                                      datapackage_renewables')"
   ]
  },
  {
   "cell_type": "markdown",
   "metadata": {},
   "source": [
    "\n",
    "# Data overview\n",
    "\n",
    "The data processed in this notebook is provided by and downloaded from three different sources. This is done due to the fact, that all sources have different timeperiods, missing data and are inaccurate or imcomplete.\n",
    "\n",
    "####  Bundesnetzagentur (BNetzA)\n",
    "\n",
    "The German Federal Network Agency for Electricity, Gas, Telecommunications, Posts and Railway (BNetzA) publishes the renewable power plant register (\"Anlagenregister\"):\n",
    "\n",
    "* Data discription from source: BNetzA for [renewable power plants](http://www.bundesnetzagentur.de/cln_1422/DE/Sachgebiete/ElektrizitaetundGas/Unternehmen_Institutionen/ErneuerbareEnergien/Photovoltaik/DatenMeldgn_EEG-VergSaetze/DatenMeldgn_EEG-VergSaetze_node.html) and [PV](http://www.bundesnetzagentur.de/cln_1422/DE/Sachgebiete/ElektrizitaetundGas/Unternehmen_Institutionen/ErneuerbareEnergien/Photovoltaik/DatenMeldgn_EEG-VergSaetze/DatenMeldgn_EEG-VergSaetze_node.html)\n",
    "* Download from: \n",
    "    * Renewable Power Plants without PV [xls-File]('http://www.bundesnetzagentur.de/SharedDocs/Downloads/DE/Sachgebiete/Energie/Unternehmen_Institutionen/ErneuerbareEnergien/Anlagenregister/VOeFF_Anlagenregister/2015_11_Veroeff_AnlReg.xls?__blob=publicationFile&v=1) \n",
    "    * PV [csv-File](http://www.bundesnetzagentur.de/SharedDocs/Downloads/DE/Sachgebiete/Energie/Unternehmen_Institutionen/ErneuerbareEnergien/Photovoltaik/Datenmeldungen/Meldungen_CSV.csv?__blob=publicationFile&v=14)\n",
    "        \n",
    "\n",
    "#### EnergyMap.info\n",
    "\n",
    "The webpage is owned by the Deutsche Gesellschaft für Sonnenenergie e.V. (DGS)\n",
    "* Data discription from source: [EnergyMap](http://www.energymap.info/download/)\n",
    "* Download from: [zip-File](http://www.energymap.info/download/eeg_anlagenregister_2015.08.utf8.csv.zip)\n",
    "    * Last Update: 08.2015\n",
    "    * File size: 51,9 MB\n",
    "   \n",
    "EnergyMap.info is the main source for all historical data (installed until July 2014).\n",
    "\n",
    "#### Netztransparenz.de \n",
    "\n",
    "Official grid transparency platform from the German TSOs (50Hertz, Amprion, TenneT and TransnetBW).\n",
    "* Data discription from source: [Netztransparenz](https://www.netztransparenz.de/de/Anlagenstammdaten.htm)\n",
    "* Download from: [zip-File](https://www.netztransparenz.de/de/file/UeNB-EEG-Anlagenstammdaten_2013.zip)\n",
    "    * Last Update: 06.11.2015\n",
    "    * File size: 363,9 MB\n"
   ]
  },
  {
   "cell_type": "markdown",
   "metadata": {},
   "source": [
    "# Download an extracting data from data sources\n",
    "\n"
   ]
  },
  {
   "cell_type": "code",
   "execution_count": null,
   "metadata": {
    "collapsed": false
   },
   "outputs": [],
   "source": [
    "# Energymap.info as\n",
    "url_energymap = 'http://www.energymap.info/download/eeg_anlagenregister_2015.'\\\n",
    "                 '08.utf8.csv.zip'\n",
    "# netztransparenz.de\n",
    "url_netztransp  ='https://www.netztransparenz.de/de/file/'\\\n",
    "                  'Anlagenstammdaten_2014_4UeNB.zip'\n",
    "# BNetzA PV register\n",
    "url_bnetza_pv = 'https://www.bundesnetzagentur.de/SharedDocs/Downloads/DE/'\\\n",
    "                'Sachgebiete/Energie/Unternehmen_Institutionen/'\\\n",
    "                'ErneuerbareEnergien/Photovoltaik/Datenmeldungen/'\\\n",
    "                'Meldungen_Aug-Okt2015.xls?__blob=publicationFile&v=1'\n",
    "# BNetzA (all other power plants) register\n",
    "url_bnetza ='http://www.bundesnetzagentur.de/SharedDocs/Downloads/DE/Sachgebiete/'\\\n",
    "            'Energie/Unternehmen_Institutionen/ErneuerbareEnergien/Anlagenregister/'\\\n",
    "            'VOeFF_Anlagenregister/2015_11_Veroeff_AnlReg.xls?__blob=publicationFile&v=1'\n",
    "\n"
   ]
  },
  {
   "cell_type": "code",
   "execution_count": null,
   "metadata": {
    "collapsed": false
   },
   "outputs": [],
   "source": [
    "# Download function from TU Berlin\n",
    "def downloadandcache(url):\n",
    "    \"\"\"This function downloads a file into a folder called \n",
    "    downloads and returns the local filepath.\"\"\"\n",
    "    path = urllib.parse.urlsplit(url).path\n",
    "    filename = posixpath.basename(path)\n",
    "    now = datetime.datetime.now()\n",
    "    datestring = \"\"\n",
    "    datestring = str(now.year)+\"-\"+str(now.month)\n",
    "    filepath = \"input/\"+datestring+\"-\"+filename\n",
    "    \n",
    "    #check if file exists, otherwise download it\n",
    "    if os.path.exists(filepath) == False:\n",
    "        print(\"Downloading file\", filename)\n",
    "        urllib.request.urlretrieve(url, filepath)\n",
    "    else:\n",
    "        print(\"Using local file from\", filepath)\n",
    "    filepath = ''+filepath\n",
    "    return filepath"
   ]
  },
  {
   "cell_type": "code",
   "execution_count": null,
   "metadata": {
    "collapsed": false
   },
   "outputs": [],
   "source": [
    "# Use download function and get file path\n",
    "energymap_filepath = downloadandcache(url_energymap)\n",
    "bnetza_filepath = downloadandcache(url_bnetza)\n",
    "bnetza_pv_filepath = downloadandcache(url_bnetza_pv)\n",
    "netztransp_filepath = downloadandcache(url_netztransp)"
   ]
  },
  {
   "cell_type": "markdown",
   "metadata": {},
   "source": [
    "## Unzip and load data as data frame\n",
    "\n",
    "To handle the provided data a [pandas DataFrame](http://pandas.pydata.org/pandas-docs/stable/dsintro.html#dataframe) is established.\n",
    "\n",
    "--> Time for loading data: approx. 5-10 min."
   ]
  },
  {
   "cell_type": "code",
   "execution_count": null,
   "metadata": {
    "collapsed": false
   },
   "outputs": [],
   "source": [
    "# unzip netztransparenz.de\n",
    "z = zipfile.ZipFile(netztransp_filepath)\n",
    "# read csv of Amprion\n",
    "amprion_df = pd.read_csv(z.open('Amprion_Anlagenstammdaten_2014.csv'),\n",
    "                       sep=';',        # CSV field separator, default is ','\n",
    "                       thousands='.',  # Thousands separator, default is ','\n",
    "                       decimal=',',    # Decimal separator, default is '.'\n",
    "                       header=0,\n",
    "                       parse_dates=[11,12,13,14], \n",
    "                       encoding = 'cp850',\n",
    "                       dayfirst=True, \n",
    "                       low_memory=False)"
   ]
  },
  {
   "cell_type": "code",
   "execution_count": null,
   "metadata": {
    "collapsed": false
   },
   "outputs": [],
   "source": [
    "# read csv of 50Hertz\n",
    "hertz_df = pd.read_csv(z.open('50Hertz_Anlagenstammdaten_2014.csv'),\n",
    "                       sep=';',        # CSV field separator, default is ','\n",
    "                       thousands='.',  # Thousands separator, default is ','\n",
    "                       decimal=',',    # Decimal separator, default is '.'\n",
    "                       header=0,\n",
    "                       parse_dates=[11,12,13,14],  \n",
    "                       encoding = 'cp1252',\n",
    "                       dayfirst=True, \n",
    "                       low_memory=False)\n"
   ]
  },
  {
   "cell_type": "code",
   "execution_count": null,
   "metadata": {
    "collapsed": false
   },
   "outputs": [],
   "source": [
    "# read csv of TenneT\n",
    "tennet_df = pd.read_csv(z.open('TenneT_Anlagenstammdaten_2014.csv'),\n",
    "                       sep=';',        # CSV field separator, default is ','\n",
    "                       thousands='.',  # Thousands separator, default is ','\n",
    "                       decimal=',',    # Decimal separator, default is '.'\n",
    "                       header=0,\n",
    "                       parse_dates=[11,12,13,14], \n",
    "                       encoding = 'cp1252',\n",
    "                       dayfirst=True, \n",
    "                       low_memory=False)"
   ]
  },
  {
   "cell_type": "code",
   "execution_count": null,
   "metadata": {
    "collapsed": false
   },
   "outputs": [],
   "source": [
    "# read csv of TransnetBW\n",
    "transnetbw_df = pd.read_csv(z.open('TransnetBW_Anlagenstammdaten_2014.csv'),\n",
    "                       sep=';',        # CSV field separator, default is ','\n",
    "                       thousands='.',  # Thousands separator, default is ','\n",
    "                       decimal=',',    # Decimal separator, default is '.'\n",
    "                       header=0,\n",
    "                       parse_dates=[11,12,13,14], \n",
    "                       encoding = 'cp1252',\n",
    "                       dayfirst=True, \n",
    "                       low_memory=False)"
   ]
  },
  {
   "cell_type": "code",
   "execution_count": null,
   "metadata": {
    "collapsed": false
   },
   "outputs": [],
   "source": [
    "# unzip energymap zip file\n",
    "zz = zipfile.ZipFile(energymap_filepath)\n",
    "# read csv of energymap\n",
    "enmap_df = pd.read_csv(zz.open('eeg_anlagenregister_2015.08.utf8.csv'),\n",
    "                       sep=';',        # CSV field separator, default is ','\n",
    "                       thousands='.',  # Thousands separator, default is ','\n",
    "                       decimal=',',    # Decimal separator, default is '.'\n",
    "                       header=None,\n",
    "                       names=None,\n",
    "                       parse_dates=[0], \n",
    "                       dayfirst=True, \n",
    "                       comment='#',\n",
    "                       low_memory=False)"
   ]
  },
  {
   "cell_type": "code",
   "execution_count": null,
   "metadata": {
    "collapsed": false
   },
   "outputs": [],
   "source": [
    "# read BNetzA register\n",
    "bnetza = pd.ExcelFile(bnetza_filepath)\n",
    "#bnetza.sheet_names\n",
    "bnetza_df = bnetza.parse(\"Gesamtübersicht\")\n",
    "#list(bnetza1.columns)"
   ]
  },
  {
   "cell_type": "code",
   "execution_count": null,
   "metadata": {
    "collapsed": false
   },
   "outputs": [],
   "source": [
    "# read BNetzA PV roof mounted\n",
    "bnetza_pv = pd.ExcelFile(bnetza_pv_filepath)\n",
    "\n",
    "# Combine all BNetzA sheets into one data frame\n",
    "bnetza_pv_df = pd.concat(bnetza_pv.parse(sheet, skiprows=10\n",
    "                         ) for sheet in bnetza_pv.sheet_names)\n",
    "# drop NULL \"Unnamed:\" column\n",
    "bnetza_pv_df = bnetza_pv_df.drop(bnetza_pv_df.columns[[7]], axis=1)\n",
    "# show sheet names\n",
    "bnetza_pv.sheet_names"
   ]
  },
  {
   "cell_type": "markdown",
   "metadata": {},
   "source": [
    "## Definition of column names\n",
    "\n",
    "The original column names from EnergyMap.info, the German TSOs and the BNetzA need to be translated. The new english column names are assigned to the data frame. "
   ]
  },
  {
   "cell_type": "code",
   "execution_count": null,
   "metadata": {
    "collapsed": false
   },
   "outputs": [],
   "source": [
    "# translation of column names by existing csv list\n",
    "columnnames =pd.read_csv('input/column_translation_list.csv',sep = \";\",\n",
    "                           header=0)\n",
    "columndict = columnnames.set_index('original_name')['column_naming'].to_dict()\n",
    "energymap_dict = columnnames.loc[columnnames['source'] == 'EnergyMap',\n",
    "                                 'column_naming'].to_dict()"
   ]
  },
  {
   "cell_type": "code",
   "execution_count": null,
   "metadata": {
    "collapsed": false
   },
   "outputs": [],
   "source": [
    "# rename \n",
    "bnetza_pv_df.rename(columns = columndict , inplace=True)\n",
    "# because of douple backslash in a python dict a additional helping dict is introduced\n",
    "backslash ={'Anlage \\nBundesland': 'federal_state','Anlage \\nOrt oder Gemarkung': \n",
    "            'city','Anlage \\nPLZ': 'postcode','Anlage \\nStraße oder Flurstück *)': \n",
    "            'address', 'Installierte \\nNennleistung [kWp]': 'rated_power'}\n",
    "bnetza_pv_df.rename(columns = backslash, inplace=True)\n",
    "bnetza_pv_df.columns"
   ]
  },
  {
   "cell_type": "code",
   "execution_count": null,
   "metadata": {
    "collapsed": false
   },
   "outputs": [],
   "source": [
    "# get an overview of the list by source\n",
    "columnnames.loc[columnnames['source'] == 'BNetzA_PV']\n",
    "#columnnames.groupby('source').count()"
   ]
  },
  {
   "cell_type": "code",
   "execution_count": null,
   "metadata": {
    "collapsed": false
   },
   "outputs": [],
   "source": [
    "# rename bnetza_df columns by the traslation dict\n",
    "bnetza_df.rename(columns = columndict , inplace=True)\n",
    "#bnetza_df.columns"
   ]
  },
  {
   "cell_type": "code",
   "execution_count": null,
   "metadata": {
    "collapsed": false
   },
   "outputs": [],
   "source": [
    "# rename columns\n",
    "transnetbw_df.rename(columns = columndict , inplace=True)\n",
    "tennet_df.rename(columns = columndict , inplace=True)\n",
    "amprion_df.rename(columns = columndict , inplace=True)\n",
    "hertz_df.rename(columns = columndict , inplace=True)\n",
    "enmap_df.rename(columns = energymap_dict , inplace=True)"
   ]
  },
  {
   "cell_type": "markdown",
   "metadata": {
    "collapsed": false
   },
   "source": [
    "## Set original source to dataframe\n",
    "* Set source names\n",
    "* Make changes with the PV solar roof mounted data\n",
    "    * Add new eeg_id  "
   ]
  },
  {
   "cell_type": "code",
   "execution_count": null,
   "metadata": {
    "collapsed": false
   },
   "outputs": [],
   "source": [
    "# set source names of each dataframe\n",
    "enmap_df['source'] = 'EnergyMap'\n",
    "transnetbw_df['source'] = 'TransnetBW'\n",
    "tennet_df['source'] = 'TenneT'\n",
    "amprion_df['source'] = 'Amprion'\n",
    "hertz_df['source'] = '50Hertz'\n",
    "bnetza_df['source'] = 'BNetzA'\n",
    "bnetza_pv_df['source'] = 'BNetzA_PV'"
   ]
  },
  {
   "cell_type": "code",
   "execution_count": null,
   "metadata": {
    "collapsed": true
   },
   "outputs": [],
   "source": [
    "# add type of generation \n",
    "bnetza_pv_df['generation_type'] = 'solar_roof_mounted'\n",
    "# add new id for eeg_id by the index\n",
    "bnetza_pv_df['eeg_id'] =  'pv_id' + bnetza_pv_df.index.astype(str)"
   ]
  },
  {
   "cell_type": "code",
   "execution_count": null,
   "metadata": {
    "collapsed": false
   },
   "outputs": [],
   "source": [
    "# join dataframes together\n",
    "f_enmap = [enmap_df, bnetza_df, bnetza_pv_df]\n",
    "f_tso = [transnetbw_df,tennet_df, amprion_df, \n",
    "         hertz_df, bnetza_df, bnetza_pv_df]\n",
    "# \n",
    "renewables = pd.concat(f_tso)                      \n",
    "enmap = pd.concat(f_enmap) "
   ]
  },
  {
   "cell_type": "markdown",
   "metadata": {},
   "source": [
    "## Select columns of our interest"
   ]
  },
  {
   "cell_type": "code",
   "execution_count": null,
   "metadata": {
    "collapsed": false
   },
   "outputs": [],
   "source": [
    "# locate columns\n",
    "column_interest = ['start_up_date', 'rated_power','generation_type',\n",
    "                   'generation_subtype','thermal_capacity','city', 'postcode',\n",
    "                   'address','tso','utm_zone','utm_east', 'utm_north',\n",
    "                   'gps_lon','gps_lat', 'notification_reason', 'eeg_id',\n",
    "                   'dso_id', 'dso','voltage_level','decommission_date',\n",
    "                   'power_plant_id','source']"
   ]
  },
  {
   "cell_type": "code",
   "execution_count": null,
   "metadata": {
    "collapsed": false
   },
   "outputs": [],
   "source": [
    "renewables = renewables.loc[:, column_interest]\n",
    "energymap = enmap.loc[:, column_interest]\n",
    "\n",
    "# delete the rest of the columns\n",
    "renewables.reset_index(drop=True)\n",
    "energymap.reset_index(drop=True)\n",
    "print('done')"
   ]
  },
  {
   "cell_type": "markdown",
   "metadata": {},
   "source": [
    "## Take a look at entries and source"
   ]
  },
  {
   "cell_type": "code",
   "execution_count": null,
   "metadata": {
    "collapsed": false
   },
   "outputs": [],
   "source": [
    "renewables.groupby(['source'])['eeg_id'].count()"
   ]
  },
  {
   "cell_type": "code",
   "execution_count": null,
   "metadata": {
    "collapsed": false
   },
   "outputs": [],
   "source": [
    "energymap.groupby(['source'])['eeg_id'].count()"
   ]
  },
  {
   "cell_type": "markdown",
   "metadata": {},
   "source": [
    "## First look at the dataframe structure and format\n",
    "\n",
    "A first validation of the created dataframe and the data formats of the different columns.\n",
    "\n",
    "`DataFrame.info()` shows us the number of non-null (non-NA) values in each column, which can serve as a first indicator."
   ]
  },
  {
   "cell_type": "code",
   "execution_count": null,
   "metadata": {
    "collapsed": false
   },
   "outputs": [],
   "source": [
    "energymap.info()"
   ]
  },
  {
   "cell_type": "code",
   "execution_count": null,
   "metadata": {
    "collapsed": false
   },
   "outputs": [],
   "source": [
    "renewables.info()"
   ]
  },
  {
   "cell_type": "markdown",
   "metadata": {},
   "source": [
    "## Rename values by own english standards\n",
    "\n",
    "* use translation csv file\n",
    "* create subtypes of generation\n"
   ]
  },
  {
   "cell_type": "code",
   "execution_count": null,
   "metadata": {
    "collapsed": false
   },
   "outputs": [],
   "source": [
    "# translation of entries values \n",
    "values =pd.read_csv('input/value_translation_list.csv',sep = \";\",\n",
    "                           header=0)\n",
    "# create dict in order change values \n",
    "valuedict = values.set_index('original_name')['generation_subtype'].to_dict()\n",
    "# \n",
    "gentypedict = values.set_index('generation_subtype')['generation_type'].to_dict()"
   ]
  },
  {
   "cell_type": "code",
   "execution_count": null,
   "metadata": {
    "collapsed": false
   },
   "outputs": [],
   "source": [
    "print(values)"
   ]
  },
  {
   "cell_type": "code",
   "execution_count": null,
   "metadata": {
    "collapsed": false
   },
   "outputs": [],
   "source": [
    "# replace values by standard values\n",
    "# running time ~ 10 min\n",
    "renewables.replace(valuedict, inplace=True)\n",
    "energymap.replace(valuedict, inplace=True)"
   ]
  },
  {
   "cell_type": "code",
   "execution_count": null,
   "metadata": {
    "collapsed": false
   },
   "outputs": [],
   "source": [
    "# subtypes = type_of_generation\n",
    "renewables.generation_subtype = renewables.generation_type"
   ]
  },
  {
   "cell_type": "code",
   "execution_count": null,
   "metadata": {
    "collapsed": false
   },
   "outputs": [],
   "source": [
    "# replace subtypes by types\n",
    "renewables.generation_type.replace(gentypedict, inplace=True)\n",
    "energymap.generation_type.replace(gentypedict, inplace=True)\n",
    "# get an overview\n",
    "renewables.groupby(['generation_type'])['rated_power'].sum() / 1000"
   ]
  },
  {
   "cell_type": "code",
   "execution_count": null,
   "metadata": {
    "collapsed": false
   },
   "outputs": [],
   "source": [
    "renewables.groupby(['generation_subtype'])['rated_power'].sum() / 1000"
   ]
  },
  {
   "cell_type": "code",
   "execution_count": null,
   "metadata": {
    "collapsed": false
   },
   "outputs": [],
   "source": [
    "renewables.groupby(['source'])['eeg_id'].count()"
   ]
  },
  {
   "cell_type": "code",
   "execution_count": null,
   "metadata": {
    "collapsed": false
   },
   "outputs": [],
   "source": [
    "energymap.groupby(['source'])['eeg_id'].count()"
   ]
  },
  {
   "cell_type": "code",
   "execution_count": null,
   "metadata": {
    "collapsed": false
   },
   "outputs": [],
   "source": [
    "energymap.groupby(['generation_type'])['rated_power'].sum()/1000"
   ]
  },
  {
   "cell_type": "markdown",
   "metadata": {},
   "source": [
    "# Data Validation \n",
    "Correction of Duplicates and other suspect data:\n",
    "\n",
    "(incomplet  - work in progress)\n",
    "* for postcode len() < 5: add zero\n",
    "* delete #NV value for type of generation\n",
    "* find duplicates in power_plant_id\n",
    "* take the last entry of a duplicate \n",
    "* find and drop entries with decommissioning time (power plants no longer running)\n",
    "* delete entries in pv_roof_mounted <= 2014-12-31 from BNetzA_PV\n",
    "* check notification_reason\n",
    "\n",
    "\n",
    "## Post Code Corrections\n",
    "Post codes have to be a string value. As some start with a zero, we remove any float type and check for invalid post codes."
   ]
  },
  {
   "cell_type": "code",
   "execution_count": null,
   "metadata": {
    "collapsed": true
   },
   "outputs": [],
   "source": [
    "# function for adding zero\n",
    "addzero = lambda a,b: b if (a !=4) else '0'+b"
   ]
  },
  {
   "cell_type": "code",
   "execution_count": null,
   "metadata": {
    "collapsed": false
   },
   "outputs": [],
   "source": [
    "# change postcode in BNetzA list           \n",
    "# convert int to string for postcode\n",
    "renewables['postcode']= renewables['postcode'].apply(str)\n",
    "renewables['postcode_new']= renewables['postcode'].apply(str)\n",
    "#count lenght of string\n",
    "renewables['postcode_len'] = renewables.postcode.str.len()\n",
    "\n",
    "# reset index\n",
    "renewables = renewables.reset_index()\n",
    "# locate len = 4 and add 0 to postcode\n",
    "renewables['postcode_new']=renewables[['postcode_len','postcode']\n",
    "                                      ].apply(lambda x: addzero(x[0], x[1]), axis=1)"
   ]
  },
  {
   "cell_type": "code",
   "execution_count": null,
   "metadata": {
    "collapsed": false
   },
   "outputs": [],
   "source": [
    "# change postcode  in energymap.info list\n",
    "# convert int to string for postcode\n",
    "energymap['postcode']= energymap['postcode'].apply(str)\n",
    "energymap['postcode_new']= energymap['postcode'].apply(str)\n",
    "#count lenght of string\n",
    "energymap['postcode_len'] = energymap.postcode.str.len()\n",
    "\n",
    "# reset index\n",
    "energymap = energymap.reset_index()\n",
    "# locate len = 4 and add 0 to postcode\n",
    "energymap['postcode_new']=energymap[['postcode_len','postcode']\n",
    "                                    ].apply(lambda x: addzero(x[0], x[1]), \n",
    "                                            axis=1)"
   ]
  },
  {
   "cell_type": "code",
   "execution_count": null,
   "metadata": {
    "collapsed": true
   },
   "outputs": [],
   "source": [
    "# drop and rename post code columns\n",
    "renewables.drop(['postcode_len','postcode','index'], axis=1, inplace=True)\n",
    "renewables.rename(columns={'postcode_new': 'postcode'}, inplace=True)\n",
    "\n",
    "energymap.drop(['postcode_len','postcode','index'], axis=1, inplace=True)\n",
    "energymap.rename(columns={'postcode_new': 'postcode'}, inplace=True)\n"
   ]
  },
  {
   "cell_type": "markdown",
   "metadata": {
    "collapsed": true
   },
   "source": [
    "## Drop suspect data \n",
    "\n",
    "* Order Dataframe by date in order to take the last given value if duplicates are given"
   ]
  },
  {
   "cell_type": "code",
   "execution_count": null,
   "metadata": {
    "collapsed": false
   },
   "outputs": [],
   "source": [
    "# sort index by start_up_date\n",
    "renewables = renewables.ix[pd.to_datetime(renewables.start_up_date).order().index]\n",
    "renewables.head()"
   ]
  },
  {
   "cell_type": "code",
   "execution_count": null,
   "metadata": {
    "collapsed": false
   },
   "outputs": [],
   "source": [
    "# drop BNetzA data which are older than 2014-12-31\n",
    "idx_date = renewables[(renewables['start_up_date'] <= '2014-12-31') \n",
    "                      & (renewables['source'] == 'BNetzA')].index\n",
    "renewables.drop(idx_date,inplace=True)  \n",
    "\n",
    "# drop entires which are not installed yet\n",
    "idx_no = renewables[(renewables['notification_reason']== 'Genehmigung')].index\n",
    "renewables.drop(idx_no,inplace=True)\n",
    "\n",
    "#get all duplicate eeg_ids and take the last entry\n",
    "renewables.drop_duplicates(cols=['generation_type','start_up_date',\n",
    "                                 'eeg_id'], keep='last',inplace=True)\n",
    "\n",
    "# get all data from BNetzA_PV <= 2014-12-31 because of duplicated entries\n",
    "idx_pv = renewables[(renewables['start_up_date'] <= '2014-12-31') \n",
    "                    & (renewables['source'] == 'BNetzA_PV')].index\n",
    "renewables.drop(idx_pv,inplace=True)\n",
    "\n",
    "# drop all entries where decommissioning is not null\n",
    "idx_decom = renewables[renewables.decommission_date.notnull()].index\n",
    "renewables.drop(idx_decom,inplace=True)\n",
    "\n",
    "# delete #NV value for type of generation\n",
    "idx_nv = renewables[(renewables['generation_type'] == '#NV')].index\n",
    "renewables.drop(idx_nv,inplace=True)\n",
    "\n",
    "print('done')\n",
    "                                         "
   ]
  },
  {
   "cell_type": "code",
   "execution_count": null,
   "metadata": {
    "collapsed": false
   },
   "outputs": [],
   "source": [
    "renewables.groupby(['generation_type'])['rated_power'].sum() / 1000"
   ]
  },
  {
   "cell_type": "code",
   "execution_count": null,
   "metadata": {
    "collapsed": false
   },
   "outputs": [],
   "source": [
    "renewables.groupby(['generation_subtype'])['rated_power'].sum() / 1000"
   ]
  },
  {
   "cell_type": "markdown",
   "metadata": {},
   "source": [
    "## Using the Energymap dataframe\n",
    "\n",
    "* We delete all data from energymap >= 2014-07-31\n",
    "* Make new index by date"
   ]
  },
  {
   "cell_type": "code",
   "execution_count": null,
   "metadata": {
    "collapsed": false
   },
   "outputs": [],
   "source": [
    "idx_date = energymap[(energymap['start_up_date'] >= '2014-07-31') \n",
    "                     & (energymap['source'] == 'EnergyMap')].index\n",
    "energymap.drop(idx_date,inplace=True)     \n"
   ]
  },
  {
   "cell_type": "code",
   "execution_count": null,
   "metadata": {
    "collapsed": false
   },
   "outputs": [],
   "source": [
    "# sort index by start_up_date\n",
    "energymap = energymap.ix[pd.to_datetime(energymap.start_up_date).order().index]\n",
    "energymap.head()"
   ]
  },
  {
   "cell_type": "code",
   "execution_count": null,
   "metadata": {
    "collapsed": false
   },
   "outputs": [],
   "source": [
    "# drop BNetzA data which are older 2014-12-31\n",
    "idx_date = energymap[(energymap['start_up_date'] >= '2014-07-31') \n",
    "                     & (renewables['source'] == 'BNetzA')].index\n",
    "energymap.drop(idx_date,inplace=True)  \n",
    "\n",
    "# Drop entires which are not installed yet\n",
    "idx_no = energymap[(energymap['notification_reason']== 'Genehmigung')].index\n",
    "energymap.drop(idx_no,inplace=True)\n",
    "\n",
    "# get all duplicated eeg_ids and take last entry\n",
    "energymap.drop_duplicates(cols=['generation_type','start_up_date',\n",
    "                                'eeg_id'], keep='last',inplace=True)\n",
    "\n",
    "# get all data from BNetzA_PV <= 2014-12-31 because of duplicated entries\n",
    "idx_pv = energymap[(energymap['start_up_date'] <= '2014-07-31') \n",
    "                   & (energymap['source'] == 'BNetzA_PV')].index\n",
    "energymap.drop(idx_pv,inplace=True)\n",
    "\n",
    "# drop all entries where decommissioning is not null\n",
    "idx_decom = energymap[energymap.decommission_date .notnull()].index\n",
    "energymap.drop(idx_decom,inplace=True)\n",
    "\n",
    "# delete #NV value for type of generation\n",
    "idx_nv = energymap[(energymap['generation_type'] == '#NV')].index\n",
    "energymap.drop(idx_nv,inplace=True)\n",
    "\n",
    "print('done')"
   ]
  },
  {
   "cell_type": "code",
   "execution_count": null,
   "metadata": {
    "collapsed": false
   },
   "outputs": [],
   "source": [
    "energymap.groupby(['generation_type'])['rated_power'].sum() / 1000"
   ]
  },
  {
   "cell_type": "code",
   "execution_count": null,
   "metadata": {
    "collapsed": false,
    "scrolled": true
   },
   "outputs": [],
   "source": [
    "renewables.info()"
   ]
  },
  {
   "cell_type": "code",
   "execution_count": null,
   "metadata": {
    "collapsed": false
   },
   "outputs": [],
   "source": [
    "energymap.info()"
   ]
  },
  {
   "cell_type": "markdown",
   "metadata": {},
   "source": [
    "# Georeferencing\n",
    "## Get coordinates\n",
    "\n",
    "The post code provides a first approximation of the power plants geo coordinates. Since the TSOs only report the first three digits of the poste code (e.g. 024xx) and no city or street names are provided. Accordingly, a centroid of the post code region polygon is established to find the coordinates.\n",
    "\n",
    "For the approximation of the data postcode regions with three (from TSOs) and five digits (from BNetzA) are offered by http://www.suche-postleitzahl.org.\n",
    "\n",
    "*  http://www.suche-postleitzahl.org/downloads?download=plz-gebiete.shp.zip\n",
    "*  http://www.suche-postleitzahl.org/downloads?download_file=plz-3stellig.shp.zip\n",
    "*  http://www.suche-postleitzahl.org/downloads#\n",
    "\n",
    "License:\n",
    "\n",
    "* http://www.suche-postleitzahl.org/downloads\n",
    "* Open Database Licence for free use. \n",
    "* Source of data: © OpenStreetMap contributors\n",
    "\n",
    "With this data we compiled a csv file for all existing German post codes. We generated the latitude and longitude coordinates by running a PostgreSQL + PostGIS database. We added all possible TSO names to each post code including overlaps.\n",
    "* SQL Script (link will follow here)"
   ]
  },
  {
   "cell_type": "code",
   "execution_count": null,
   "metadata": {
    "collapsed": false
   },
   "outputs": [],
   "source": [
    "# Get csv file\n",
    "postcode = pd.read_csv('input/de_tso_postcode_gps.csv',\n",
    "                       sep=';',        # CSV field separator, default is ','\n",
    "                       header=0)\n",
    "\n",
    "postcode.drop_duplicates(cols='postcode', keep='last',inplace=True)\n",
    "postcode.head()"
   ]
  },
  {
   "cell_type": "code",
   "execution_count": null,
   "metadata": {
    "collapsed": false
   },
   "outputs": [],
   "source": [
    "# take postcode and longitude/latitude infomations\n",
    "postcode= postcode[[0,3,4]]"
   ]
  },
  {
   "cell_type": "code",
   "execution_count": null,
   "metadata": {
    "collapsed": false
   },
   "outputs": [],
   "source": [
    "# Clean dataframe\n",
    "renewables.drop(['gps_lon','gps_lat'], axis=1, inplace=True)\n",
    "renewables.info()"
   ]
  },
  {
   "cell_type": "code",
   "execution_count": null,
   "metadata": {
    "collapsed": false
   },
   "outputs": [],
   "source": [
    "postcode = postcode.reset_index()\n",
    "renewables = renewables.reset_index()"
   ]
  },
  {
   "cell_type": "markdown",
   "metadata": {
    "collapsed": false
   },
   "source": [
    "### Merge geometry information by using the postcode"
   ]
  },
  {
   "cell_type": "code",
   "execution_count": null,
   "metadata": {
    "collapsed": false
   },
   "outputs": [],
   "source": [
    "ren_geo =pd.merge(renewables, postcode, on=['postcode'],  how='left')"
   ]
  },
  {
   "cell_type": "code",
   "execution_count": null,
   "metadata": {
    "collapsed": true
   },
   "outputs": [],
   "source": [
    "# rename columes\n",
    "ren_geo.rename(columns={'gps_lon': 'longitude','gps_lat': 'latitude'}, inplace=True)"
   ]
  },
  {
   "cell_type": "code",
   "execution_count": null,
   "metadata": {
    "collapsed": false
   },
   "outputs": [],
   "source": [
    "# how many couldn't be merged?\n",
    "print('Missing coordinates ',ren_geo.latitude.isnull().sum())\n",
    "# get an\n",
    "ren_geo[ren_geo.latitude.isnull()].groupby(['generation_type',\n",
    "                                            'generation_subtype']\n",
    "                                          )['source'].count()"
   ]
  },
  {
   "cell_type": "markdown",
   "metadata": {
    "collapsed": false
   },
   "source": [
    "### Energymap Data Frame\n"
   ]
  },
  {
   "cell_type": "code",
   "execution_count": null,
   "metadata": {
    "collapsed": false
   },
   "outputs": [],
   "source": [
    "energymap.info()"
   ]
  },
  {
   "cell_type": "code",
   "execution_count": null,
   "metadata": {
    "collapsed": true
   },
   "outputs": [],
   "source": [
    "# GEO REF energymap\n",
    "postcode = postcode.reset_index()\n",
    "energymap = energymap.reset_index()\n",
    "\n",
    "energ_geo =pd.merge(energymap, postcode, on=['postcode'],  how='left')"
   ]
  },
  {
   "cell_type": "code",
   "execution_count": null,
   "metadata": {
    "collapsed": false
   },
   "outputs": [],
   "source": [
    "# function using selecting longitude and latitude data. \n",
    "# If energymap = NULL take postcode referenz\n",
    "get_lonlat = lambda a,b: b if ( pd.isnull(a) == True) else a\n",
    "# \n",
    "energ_geo['longitude'] = energ_geo[['gps_lon_x','gps_lon_y']].apply(lambda x:\n",
    "                                    get_lonlat(x[0], x[1]), axis=1)\n",
    "energ_geo['latitude'] = energ_geo[['gps_lat_x','gps_lat_y']].apply(lambda x: \n",
    "                                    get_lonlat(x[0], x[1]), axis=1)"
   ]
  },
  {
   "cell_type": "code",
   "execution_count": null,
   "metadata": {
    "collapsed": false
   },
   "outputs": [],
   "source": [
    "# How many couldn't be merged?\n",
    "print('Missing coordinates ',energ_geo.longitude.isnull().sum())\n",
    "# get an\n",
    "energ_geo[energ_geo.longitude.isnull()].groupby(['source','generation_type'\n",
    "                                                ])['source'].count()"
   ]
  },
  {
   "cell_type": "markdown",
   "metadata": {},
   "source": [
    "#### ToDo:\n",
    "* update postcode csv"
   ]
  },
  {
   "cell_type": "code",
   "execution_count": null,
   "metadata": {
    "collapsed": false
   },
   "outputs": [],
   "source": [
    "energ_geo.info()"
   ]
  },
  {
   "cell_type": "code",
   "execution_count": null,
   "metadata": {
    "collapsed": false
   },
   "outputs": [],
   "source": [
    "# Clean Data Frame\n",
    "energ_geo.drop(['index_x','index_y','level_0','gps_lon_y',\n",
    "                'gps_lon_x','gps_lat_y','gps_lat_x'], axis=1, inplace=True)\n",
    "energ_geo.info()"
   ]
  },
  {
   "cell_type": "markdown",
   "metadata": {},
   "source": [
    "## Statistics for data valuation"
   ]
  },
  {
   "cell_type": "code",
   "execution_count": null,
   "metadata": {
    "collapsed": false
   },
   "outputs": [],
   "source": [
    "energ_geo['rated_power'].describe()\n",
    "# energ_geo.groupby(['type_of_generation'])['rated_power'].describe()"
   ]
  },
  {
   "cell_type": "code",
   "execution_count": null,
   "metadata": {
    "collapsed": false
   },
   "outputs": [],
   "source": [
    "ren_geo['rated_power'].describe()\n",
    "#ren_geo.groupby(['type_of_generation'])['rated_power'].describe()"
   ]
  },
  {
   "cell_type": "code",
   "execution_count": null,
   "metadata": {
    "collapsed": false
   },
   "outputs": [],
   "source": [
    "#activ['rated_power'].sum() / 1000\n",
    "ren_geo[(ren_geo['start_up_date'] >= '2014-12-31')].groupby([\n",
    "        'generation_type'])['rated_power'].sum() / 1000"
   ]
  },
  {
   "cell_type": "code",
   "execution_count": null,
   "metadata": {
    "collapsed": false
   },
   "outputs": [],
   "source": [
    "ren_geo.query(\"start_up_date <= '2014-12-31'\").groupby(['generation_type']\n",
    "                                                      )['rated_power'].count()"
   ]
  },
  {
   "cell_type": "code",
   "execution_count": null,
   "metadata": {
    "collapsed": false
   },
   "outputs": [],
   "source": [
    "# Generation type by source and min date\n",
    "ren_geo.groupby(['generation_type','source'])['start_up_date'].min()"
   ]
  },
  {
   "cell_type": "code",
   "execution_count": null,
   "metadata": {
    "collapsed": false
   },
   "outputs": [],
   "source": [
    "# Generation type by source and max date\n",
    "ren_geo.groupby(['generation_type','source'])['start_up_date'].max()"
   ]
  },
  {
   "cell_type": "code",
   "execution_count": null,
   "metadata": {
    "collapsed": false
   },
   "outputs": [],
   "source": [
    "# growth rate 2014\n",
    "rate14 = (ren_geo['start_up_date'] > '2014-01-01') & (ren_geo['start_up_date']\n",
    "                                                      <= '2014-12-31')\n",
    "ren_geo.loc[rate14].groupby(['generation_subtype'])['rated_power'].sum() / 1000"
   ]
  },
  {
   "cell_type": "code",
   "execution_count": null,
   "metadata": {
    "collapsed": false
   },
   "outputs": [],
   "source": [
    "# Overview of early dates\n",
    "ren_geo.query(\"start_up_date < '1980-01-01' &  generation_type!= 'hydro'\")"
   ]
  },
  {
   "cell_type": "code",
   "execution_count": null,
   "metadata": {
    "collapsed": false
   },
   "outputs": [],
   "source": [
    "energ_geo.query(\"start_up_date < '1980-01-01'\"\\\n",
    "                \"& generation_type != 'hydro' \").head()"
   ]
  },
  {
   "cell_type": "markdown",
   "metadata": {},
   "source": [
    "##  Plot overview of the first result"
   ]
  },
  {
   "cell_type": "code",
   "execution_count": null,
   "metadata": {
    "collapsed": true
   },
   "outputs": [],
   "source": [
    "energ_geo['rated_power'].plot()"
   ]
  },
  {
   "cell_type": "code",
   "execution_count": null,
   "metadata": {
    "collapsed": true
   },
   "outputs": [],
   "source": []
  },
  {
   "cell_type": "markdown",
   "metadata": {},
   "source": [
    "## Take a look into the statistics of BMWi and BNetzA"
   ]
  },
  {
   "cell_type": "code",
   "execution_count": null,
   "metadata": {
    "collapsed": false
   },
   "outputs": [],
   "source": [
    "# BNetzA\n",
    "url_eeg2013 ='http://www.bundesnetzagentur.de/SharedDocs/Downloads/DE/'\\\n",
    "             'Sachgebiete/Energie/Unternehmen_Institutionen/ErneuerbareEnergien/' \\\n",
    "              'ZahlenDatenInformationen/EEGinZahlen_2013.xls;?__blob=publicationFile&v=3'\n",
    "eeg2013 = pd.ExcelFile(url_eeg2013)\n",
    "eeg2013.sheet_names"
   ]
  },
  {
   "cell_type": "code",
   "execution_count": null,
   "metadata": {
    "collapsed": false
   },
   "outputs": [],
   "source": [
    "sta2013 = eeg2013.parse('2.1 Überblick Deutschland', skiprows=4, skip_footer=9)\n",
    "sta2013"
   ]
  },
  {
   "cell_type": "code",
   "execution_count": null,
   "metadata": {
    "collapsed": false
   },
   "outputs": [],
   "source": [
    "url_reg2014  ='http://www.erneuerbare-energien.de/EE/Redaktion/DE/Downloads/zeitreihen-zur-entwicklung-der' \\\n",
    "             '-erneuerbaren-energien-in-deutschland-1990-2014-excel.xlsx;?__blob=publicationFile&v=5'\n",
    "\n",
    "reg2014 = pd.ExcelFile(url_reg2014)   \n",
    "sta2014 = reg2014.parse('4', skiprows=7, skip_footer=7)\n",
    "    "
   ]
  },
  {
   "cell_type": "code",
   "execution_count": null,
   "metadata": {
    "collapsed": false
   },
   "outputs": [],
   "source": [
    "sta2014.T"
   ]
  },
  {
   "cell_type": "markdown",
   "metadata": {},
   "source": [
    "# Create final dataframe"
   ]
  },
  {
   "cell_type": "code",
   "execution_count": null,
   "metadata": {
    "collapsed": false
   },
   "outputs": [],
   "source": [
    "df_columns = ['start_up_date','rated_power','generation_type',\n",
    "              'subtype','thermal_capacity','city', 'postcode',\n",
    "              'tso','longitude','latitude','eeg_id',\n",
    "              'voltage_level','source']"
   ]
  },
  {
   "cell_type": "code",
   "execution_count": null,
   "metadata": {
    "collapsed": false
   },
   "outputs": [],
   "source": [
    "transp_data = ren_geo.loc[:, df_columns]\n",
    "energymap_data = energ_geo.loc[:, df_columns]\n",
    "\n",
    "# delete the rest of columns\n",
    "transp_data.reset_index(drop=True)\n",
    "energymap_data.reset_index(drop=True)\n",
    "print('done')"
   ]
  },
  {
   "cell_type": "code",
   "execution_count": null,
   "metadata": {
    "collapsed": false
   },
   "outputs": [],
   "source": [
    "transp_data.head()"
   ]
  },
  {
   "cell_type": "markdown",
   "metadata": {},
   "source": [
    "# Geoplot testing\n",
    "\n",
    "* use energy map to get gps by eeg_id\n",
    "* transform UTM to GPS by https://pypi.python.org/pypi/utm\n",
    "* use plz.sql to find the rest\n"
   ]
  },
  {
   "cell_type": "code",
   "execution_count": null,
   "metadata": {
    "collapsed": true
   },
   "outputs": [],
   "source": [
    "def draw_germany():\n",
    "    \"\"\"Returns a basemap centered on Germany\"\"\"\n",
    "    plt.figure(figsize=(14, 10))\n",
    "    return Basemap(projection='lcc', resolution='l',\n",
    "                   llcrnrlon= 5.87, urcrnrlon=16.04,\n",
    "                   llcrnrlat= 47, urcrnrlat= 55.1,\n",
    "                   lat_1=47.26, lat_2=56, lon_0=6,\n",
    "                   area_thresh=10000)\n"
   ]
  },
  {
   "cell_type": "code",
   "execution_count": null,
   "metadata": {
    "collapsed": true
   },
   "outputs": [],
   "source": [
    "m = draw_germany()\n",
    "# Draw map background\n",
    "m.fillcontinents(color='white', lake_color='#eeeeee')\n",
    "m.drawstates(color='lightgray')\n",
    "m.drawcoastlines(color='lightgray')\n",
    "m.drawcountries(color='lightgray')\n",
    "m.drawmapboundary(fill_color='#eeeeee')\n",
    "\n",
    "# get coordinates\n",
    "lon = np.array(energymap_data.longitude)\n",
    "lat = np.array(energymap_data.latitude)\n",
    "\n",
    "# Make plot settings\n",
    "style = dict(s=5, marker='o', alpha=0.5, zorder=2)\n",
    "m.scatter(lon,lat, latlon=True,\n",
    "          label='Renewable Power plants based on BNetzA and EnergyMap',\n",
    "          color='#00592D', **style)\n",
    "\n",
    "plt.legend(loc='lower left', frameon=False)"
   ]
  },
  {
   "cell_type": "code",
   "execution_count": null,
   "metadata": {
    "collapsed": true
   },
   "outputs": [],
   "source": [
    "m = draw_germany()\n",
    "# Draw map background\n",
    "m.fillcontinents(color='white', lake_color='#eeeeee')\n",
    "m.drawstates(color='lightgray')\n",
    "m.drawcoastlines(color='lightgray')\n",
    "m.drawcountries(color='lightgray')\n",
    "m.drawmapboundary(fill_color='#eeeeee')\n",
    "\n",
    "# get coordinates\n",
    "lon = np.array(transp_data.longitude)\n",
    "lat = np.array(transp_data.latitude)\n",
    "\n",
    "# Make plot settings\n",
    "style = dict(s=5, marker='o', alpha=0.5, zorder=2)\n",
    "m.scatter(lon,lat, latlon=True,\n",
    "          label='Renewable Power plants based on BNetzA and TSO',\n",
    "          color='#00592D', **style)\n",
    "\n",
    "plt.legend(loc='lower left', frameon=False)"
   ]
  },
  {
   "cell_type": "markdown",
   "metadata": {
    "collapsed": true
   },
   "source": [
    "# Documenting the meta data\n",
    "\n",
    "The data packages meta data are provided in the specific format JSON, as proposed by the Open Knowledge Foundation. Please see the Frictionless Data project by OKFN (http://data.okfn.org/) and the Data Package specifications (http://dataprotocols.org/data-packages/) for more details.\n",
    "\n",
    "In order to keep the notebook more readable, we formulate the metadata in the human-readable YAML format using a multi-line string and then parse the string into a Python dictionary and save that as a JSON file."
   ]
  },
  {
   "cell_type": "code",
   "execution_count": null,
   "metadata": {
    "collapsed": false
   },
   "outputs": [],
   "source": [
    "# Here we define the meta data of the resulting data package.\n",
    "\n",
    "metadata = \"\"\"\n",
    "name: opsd-renewable-master-register-germany\n",
    "title: List of renewable power plants DE\n",
    "description: This dataset is for OPSD testing purposes and contains the master data of renewable power plants Germany.\n",
    "version: \"2016-02-10\"\n",
    "keywords: [master data register,power plants,renewables,germany]\n",
    "resources:\n",
    "    - path: renewable_power_plants_germany.csv\n",
    "    - format: csv\n",
    "    - mediatype: text/csv\n",
    "      schema:  # Schema according to: http://dataprotocols.org/json-table-schema/        \n",
    "          fields:\n",
    "            - name: start_up_date\n",
    "              description: Date of start up\n",
    "              type: datetime\n",
    "              format: YYYY-MM-DDThh:mm:ssZ  # This MUST be in ISO 8601 format of YYYY-MM-DDThh:mm:ssZ in UTC time according to http://dataprotocols.org/json-table-schema/\n",
    "            - name: rated_power\n",
    "              description: Rated power in kW\n",
    "              type: number\n",
    "              format: float\n",
    "            - name: generation_type\n",
    "              description: Type of generation / energy source\n",
    "              type: number\n",
    "            - name: subtype,\n",
    "              description: subtype of generation\n",
    "              type: text\n",
    "            - name: thermal_capacity\n",
    "              description: Installed thermal capacity in kW\n",
    "              type: number\n",
    "            - name: city\n",
    "              description: City name of location\n",
    "              type: text\n",
    "            - name: tso\n",
    "              description: Name of TSO  \n",
    "              type: text    \n",
    "            - name: longitude\n",
    "              description: GPS Longitude coordinates\n",
    "              type: number             \n",
    "            - name: latitude\n",
    "              description: GPS Latitude coordinates \n",
    "              type: number\n",
    "            - name: eeg_id\n",
    "              description: eeg remuneration number\n",
    "              type: text\n",
    "            - name: voltage_level\n",
    "              description: Volatage level of grid connection\n",
    "              type: text             \n",
    "            - name: source\n",
    "              description: Source name of entry\n",
    "              type: text\n",
    "licenses:\n",
    "    - url: http://example.com/license/url/here\n",
    "      name: License Name Here\n",
    "      version: 1.0\n",
    "      id: license-id-from-open\n",
    "sources:\n",
    "    - name: EnergyMap.info,\n",
    "      web: http://www.energymap.info/download.html\n",
    "    - name: Bundesnetzagentur - Veröffentlichung von im Anlagenregister registrierten Daten,\n",
    "      web: http://www.bundesnetzagentur.de/cln_1422/DE/Sachgebiete/ElektrizitaetundGas/Unternehmen_Institutionen/ErneuerbareEnergien/Anlagenregister/Anlagenregister_Veroeffentlichung/Anlagenregister_Veroeffentlichungen_node.html\n",
    "    - name: Bundesnetzagentur - Datenmeldungen und EEG-Vergütungssätze für Photovoltaikanlagen,\n",
    "      web: http://www.bundesnetzagentur.de/cln_1431/DE/Sachgebiete/ElektrizitaetundGas/Unternehmen_Institutionen/ErneuerbareEnergien/Photovoltaik/DatenMeldgn_EEG-VergSaetze/DatenMeldgn_EEG-VergSaetze_node.html    \n",
    "    - name: Netz-transparenz.de Informationsplattform der deutschen Übertragungsnetzbetreiber, \n",
    "      web: https://www.netztransparenz.de/de/Anlagenstammdaten.htm\n",
    "maintainers:\n",
    "    - name: OPSD Project,\n",
    "      email: wolf-dieter.bunke@uni-flensburg.de,\n",
    "      web: http://open-power-system-data.org/\n",
    "views: null\n",
    "    # You can put hints here which kind of graphs or maps make sense to display your data. \n",
    "    # Data Package Viewer at http://data.okfn.org/tools/view automatically display visualazations of your data.\n",
    "    # See http://data.okfn.org/doc/data-package#views for more details.    \n",
    "# extend your datapackage.json with attributes that are not\n",
    "# part of the data package spec\n",
    "# you can add your own attributes to a datapackage.json, too\n",
    "openpowersystemdata-enable-listing: True  # This is just an example we don't actually make use of yet.\n",
    "opsd-jupyter-notebook-url: https://github.com/Open-Power-System-Data/datapackage_renewable_power_plants/blob/master/renewable-energy-power-plants_DE.ipynb\n",
    "\"\"\"\n",
    "\n",
    "metadata = yaml.load(metadata)\n",
    "\n",
    "datapackage_json = json.dumps(metadata, indent=4, separators=(',', ': '))"
   ]
  },
  {
   "cell_type": "markdown",
   "metadata": {},
   "source": [
    "# Write Data Package to local memory\n",
    "\n",
    "The Frictionless Data project's suggestions (see http://data.okfn.org/) are followed to write a data package to the local memory.\n",
    "\n",
    "The data package consists of:\n",
    " * **datapackage.json** A file containing the meta data of the data package\n",
    " * ***.csv** One or multiple CSV data files\n",
    " * **README.md** A readme (which is a copy of this Jupyter Notebook converted to markdown format)\n",
    "\n",
    "Following this file structure allows a number of tools (http://data.okfn.org/tools) designed specifically for data packages."
   ]
  },
  {
   "cell_type": "code",
   "execution_count": null,
   "metadata": {
    "collapsed": false
   },
   "outputs": [],
   "source": [
    "path_package = 'output/datapackage_renewables'\n",
    "\n",
    "os.makedirs(path_package, exist_ok=True)\n",
    "    \n",
    "energymap_data.to_csv(os.path.join(path_package,\n",
    "                            'renewable_power_plants_germany.csv'))\n",
    "\n",
    "with open(os.path.join(path_package, 'datapackage.json'), 'w') as f:\n",
    "    f.write(datapackage_json)\n",
    "    \n",
    "##\n",
    "# Make sure the filename matches the filename of the notebook itself\n",
    "##\n",
    "nb_filename = 'renewable-energy-power-plants_DE.ipynb'\n",
    "\n",
    "# Save a copy of the notebook to markdown, to serve as the package README file\n",
    "subprocess.call(['jupyter', 'nbconvert', '--to', 'markdown', nb_filename])\n",
    "path_readme = os.path.join(path_package, 'README.md')\n",
    "try:\n",
    "    os.remove(path_readme)\n",
    "except Exception:\n",
    "    pass\n",
    "os.rename(nb_filename.replace('.ipynb', '.md'), path_readme)"
   ]
  },
  {
   "cell_type": "code",
   "execution_count": null,
   "metadata": {
    "collapsed": true
   },
   "outputs": [],
   "source": []
  }
 ],
 "metadata": {
  "kernelspec": {
   "display_name": "Python 3",
   "language": "python",
   "name": "python3"
  },
  "language_info": {
   "codemirror_mode": {
    "name": "ipython",
    "version": 3
   },
   "file_extension": ".py",
   "mimetype": "text/x-python",
   "name": "python",
   "nbconvert_exporter": "python",
   "pygments_lexer": "ipython3",
   "version": "3.4.3"
  },
  "latex_envs": {
   "bibliofile": "biblio.bib",
   "cite_by": "apalike",
   "current_citInitial": 1,
   "eqLabelWithNumbers": true,
   "eqNumInitial": 0
  }
 },
 "nbformat": 4,
 "nbformat_minor": 0
}
