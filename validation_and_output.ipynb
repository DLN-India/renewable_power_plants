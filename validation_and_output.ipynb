{
 "cells": [
  {
   "cell_type": "markdown",
   "metadata": {},
   "source": [
    "# Open Power System Data: Renewable power plants\n",
    "\n",
    "## Part 2: Validation and output\n",
    "\n",
    "Part 1 of the script has downloaded and merged the original data from the sources.\n",
    "\n",
    "Part 2 subsequently checks, validates the list of renewable power plants and creates CSV/XLSX/SQLite files. It also generates a daily timeseries of cumulated installed capacities by energy source.\n",
    "\n",
    "*(Before running this script make sure you ran Part 1, so that the renewables.pickle files for each country exist in the same folder as the scripts)*\n"
   ]
  },
  {
   "cell_type": "markdown",
   "metadata": {},
   "source": [
    "# Table of contents \n",
    "\n",
    "* [Part 1: Download and process](download_and_process.ipynb)\n",
    "* [Script setup](#Script-setup)\n",
    "* [4. Load data](#4.-Load-data)\n",
    "* [5. Validation](#5.-Validation)\n",
    "    * [5.1 Germany DE](#5.1-Germany DE)\n",
    "* [6. Capacity time series](#6.-Capacity-time-series)\n",
    "* [7. Plots](#7.-Plots)\n",
    "    * [7.1 Cumulated capacity validation](#7.1-Cumulated-capacity-validation)\n",
    "        * [7.1.1 Download and read data for validaion](#7.1.1-Download-and-read-data-for-validation)\n",
    "        * [7.1.2 Prepare cumulated capacity for comparison](#7.1.2-Prepare-cumulated-capacity-for-comparison)\n",
    "        * [7.1.3 Plot cumulated capacity](#7.1.3-Plot-cumulated-capacity)\n",
    "    * [7.2 Capacity time series DE validation](#7.2-Capacity-time-series-DE-validation)\n",
    "* [8. Harmonize format for output files](#8.-Harmonize-format-for-output-files)\n",
    "    * [8.1 Columns](#8.1-Columns)\n",
    "    * [8.2 Accurancy of numbers](#8.2-Accurancy-of-numbers)\n",
    "    * [8.3 Sort](#8.3-Sort)\n",
    "    * [8.4 Merge country data for SQL-output](#8.4-Merge-country-data-for-SQL-output)\n",
    "* [9. Output](#9.-Output)\n",
    "    * [9.1 Settings](#9.1-Settings)\n",
    "    * [9.2 Write power plant lists](#9.2-Write-power-plant-list)\n",
    "    * [9.3 Write time series](#9.3-Write-time-series)\n",
    "    * [9.4 Write meta data](#9.4-Writing-meta-data)"
   ]
  },
  {
   "cell_type": "markdown",
   "metadata": {},
   "source": [
    "# Script setup"
   ]
  },
  {
   "cell_type": "code",
   "execution_count": 2,
   "metadata": {
    "collapsed": false,
    "scrolled": true
   },
   "outputs": [
    {
     "data": {
      "text/html": [
       "\n",
       "    <div class=\"bk-root\">\n",
       "        <a href=\"http://bokeh.pydata.org\" target=\"_blank\" class=\"bk-logo bk-logo-small bk-logo-notebook\"></a>\n",
       "        <span id=\"72a566ba-0016-42a1-ae22-126764f17ac3\">Loading BokehJS ...</span>\n",
       "    </div>"
      ]
     },
     "metadata": {},
     "output_type": "display_data"
    },
    {
     "data": {
      "application/javascript": [
       "\n",
       "(function(global) {\n",
       "  function now() {\n",
       "    return new Date();\n",
       "  }\n",
       "\n",
       "  if (typeof (window._bokeh_onload_callbacks) === \"undefined\") {\n",
       "    window._bokeh_onload_callbacks = [];\n",
       "  }\n",
       "\n",
       "  function run_callbacks() {\n",
       "    window._bokeh_onload_callbacks.forEach(function(callback) { callback() });\n",
       "    delete window._bokeh_onload_callbacks\n",
       "    console.info(\"Bokeh: all callbacks have finished\");\n",
       "  }\n",
       "\n",
       "  function load_libs(js_urls, callback) {\n",
       "    window._bokeh_onload_callbacks.push(callback);\n",
       "    if (window._bokeh_is_loading > 0) {\n",
       "      console.log(\"Bokeh: BokehJS is being loaded, scheduling callback at\", now());\n",
       "      return null;\n",
       "    }\n",
       "    if (js_urls == null || js_urls.length === 0) {\n",
       "      run_callbacks();\n",
       "      return null;\n",
       "    }\n",
       "    console.log(\"Bokeh: BokehJS not loaded, scheduling load and callback at\", now());\n",
       "    window._bokeh_is_loading = js_urls.length;\n",
       "    for (var i = 0; i < js_urls.length; i++) {\n",
       "      var url = js_urls[i];\n",
       "      var s = document.createElement('script');\n",
       "      s.src = url;\n",
       "      s.async = false;\n",
       "      s.onreadystatechange = s.onload = function() {\n",
       "        window._bokeh_is_loading--;\n",
       "        if (window._bokeh_is_loading === 0) {\n",
       "          console.log(\"Bokeh: all BokehJS libraries loaded\");\n",
       "          run_callbacks()\n",
       "        }\n",
       "      };\n",
       "      s.onerror = function() {\n",
       "        console.warn(\"failed to load library \" + url);\n",
       "      };\n",
       "      console.log(\"Bokeh: injecting script tag for BokehJS library: \", url);\n",
       "      document.getElementsByTagName(\"head\")[0].appendChild(s);\n",
       "    }\n",
       "  };\n",
       "\n",
       "  var js_urls = ['https://cdn.pydata.org/bokeh/release/bokeh-0.12.0.min.js', 'https://cdn.pydata.org/bokeh/release/bokeh-widgets-0.12.0.min.js', 'https://cdn.pydata.org/bokeh/release/bokeh-compiler-0.12.0.min.js'];\n",
       "\n",
       "  var inline_js = [\n",
       "    function(Bokeh) {\n",
       "      Bokeh.set_log_level(\"info\");\n",
       "    },\n",
       "    \n",
       "    function(Bokeh) {\n",
       "      Bokeh.$(\"#72a566ba-0016-42a1-ae22-126764f17ac3\").text(\"BokehJS successfully loaded\");\n",
       "    },\n",
       "    function(Bokeh) {\n",
       "      console.log(\"Bokeh: injecting CSS: https://cdn.pydata.org/bokeh/release/bokeh-0.12.0.min.css\");\n",
       "      Bokeh.embed.inject_css(\"https://cdn.pydata.org/bokeh/release/bokeh-0.12.0.min.css\");\n",
       "      console.log(\"Bokeh: injecting CSS: https://cdn.pydata.org/bokeh/release/bokeh-widgets-0.12.0.min.css\");\n",
       "      Bokeh.embed.inject_css(\"https://cdn.pydata.org/bokeh/release/bokeh-widgets-0.12.0.min.css\");\n",
       "    }\n",
       "  ];\n",
       "\n",
       "  function run_inline_js() {\n",
       "    for (var i = 0; i < inline_js.length; i++) {\n",
       "      inline_js[i](window.Bokeh);\n",
       "    }\n",
       "  }\n",
       "\n",
       "  if (window._bokeh_is_loading === 0) {\n",
       "    console.log(\"Bokeh: BokehJS loaded, going straight to plotting\");\n",
       "    run_inline_js();\n",
       "  } else {\n",
       "    load_libs(js_urls, function() {\n",
       "      console.log(\"Bokeh: BokehJS plotting callback run at\", now());\n",
       "      run_inline_js();\n",
       "    });\n",
       "  }\n",
       "}(this));"
      ]
     },
     "metadata": {},
     "output_type": "display_data"
    }
   ],
   "source": [
    "# importing all necessary Python libraries for this Script\n",
    "\n",
    "import json\n",
    "import yaml\n",
    "import os\n",
    "import pandas as pd\n",
    "import sqlite3\n",
    "import logging\n",
    "from bokeh.charts import Scatter, Line, Bar, show, output_file\n",
    "from bokeh.io import output_notebook\n",
    "\n",
    "output_notebook()\n",
    "\n",
    "# Set up a log\n",
    "logger = logging.getLogger('notebook')\n",
    "logger.setLevel('INFO')\n",
    "nb_root_logger = logging.getLogger()\n",
    "formatter = logging.Formatter('%(asctime)s - %(name)s - %(levelname)s'\\\n",
    "                              '- %(message)s', datefmt='%d %b %Y %H:%M:%S')\n",
    "\n",
    "# Create input and output folders if they don't exist\n",
    "os.makedirs('input/original_data', exist_ok=True)\n",
    "os.makedirs('output', exist_ok=True)\n",
    "os.makedirs('output/datapackage_renewables', exist_ok=True)"
   ]
  },
  {
   "cell_type": "markdown",
   "metadata": {},
   "source": [
    "# 4. Load data"
   ]
  },
  {
   "cell_type": "code",
   "execution_count": 3,
   "metadata": {
    "collapsed": false
   },
   "outputs": [],
   "source": [
    "# Read data from script Part 1\n",
    "DE_re = pd.read_pickle('DE_renewables.pickle')\n",
    "DK_re = pd.read_pickle('DK_renewables.pickle')\n",
    "FR_re = pd.read_pickle('FR_renewables.pickle')\n",
    "PL_re = pd.read_pickle('PL_renewables.pickle')"
   ]
  },
  {
   "cell_type": "markdown",
   "metadata": {
    "collapsed": true
   },
   "source": [
    "# 5. Validation \n",
    "\n",
    "-- *Work in progress - all information on suspect data is welcome!* --\n",
    "\n",
    "This section checks the data frame for a set of pre-defined criteria and adds markers to the entries in an additional column. The marked data will be included in the output files, but marked, so that they can be easiliy filtered out. For creating the validation plots and the timeseries, suspect data is skipped."
   ]
  },
  {
   "cell_type": "code",
   "execution_count": 4,
   "metadata": {
    "collapsed": false
   },
   "outputs": [
    {
     "data": {
      "text/html": [
       "<div>\n",
       "<table border=\"1\" class=\"dataframe\">\n",
       "  <thead>\n",
       "    <tr style=\"text-align: right;\">\n",
       "      <th></th>\n",
       "      <th>Validation marker</th>\n",
       "      <th>Explanation</th>\n",
       "    </tr>\n",
       "  </thead>\n",
       "  <tbody>\n",
       "    <tr>\n",
       "      <th>0</th>\n",
       "      <td>R_1</td>\n",
       "      <td>The data frame overlaps in date of the record ...</td>\n",
       "    </tr>\n",
       "    <tr>\n",
       "      <th>1</th>\n",
       "      <td>R_2</td>\n",
       "      <td>The start_up_date column has no entry (NA/Null)</td>\n",
       "    </tr>\n",
       "    <tr>\n",
       "      <th>2</th>\n",
       "      <td>R_3</td>\n",
       "      <td>All power plant entries which do not have \"sta...</td>\n",
       "    </tr>\n",
       "    <tr>\n",
       "      <th>3</th>\n",
       "      <td>R_4</td>\n",
       "      <td>start_up_date of PV system is older than 1975.</td>\n",
       "    </tr>\n",
       "    <tr>\n",
       "      <th>4</th>\n",
       "      <td>R_5</td>\n",
       "      <td>energy_source contains '#NV' value.</td>\n",
       "    </tr>\n",
       "    <tr>\n",
       "      <th>5</th>\n",
       "      <td>R_6</td>\n",
       "      <td>electrical_capacity is not specified.</td>\n",
       "    </tr>\n",
       "  </tbody>\n",
       "</table>\n",
       "</div>"
      ],
      "text/plain": [
       "  Validation marker                                        Explanation\n",
       "0               R_1  The data frame overlaps in date of the record ...\n",
       "1               R_2    The start_up_date column has no entry (NA/Null)\n",
       "2               R_3  All power plant entries which do not have \"sta...\n",
       "3               R_4     start_up_date of PV system is older than 1975.\n",
       "4               R_5                energy_source contains '#NV' value.\n",
       "5               R_6              electrical_capacity is not specified."
      ]
     },
     "execution_count": 4,
     "metadata": {},
     "output_type": "execute_result"
    }
   ],
   "source": [
    "# Read csv of Marker Explanations\n",
    "validation = pd.read_csv('input/validation_marker.csv',\n",
    "                         sep=',', header=0)\n",
    "validation"
   ]
  },
  {
   "cell_type": "markdown",
   "metadata": {},
   "source": [
    "## 5.1 Germany DE\n",
    "**Main issue:** Due to the shortened zip-Code (5 to 3 digits) and eeg_id (33 to 15 characters) in the data from Netztransparenz (until end of 2015), we are not able to identify which of the power plants are also in the BNetzA-data. Thus the duplicate entries from August 2014 - end 2015 are not filtered, but all BNetzA-entries in this timespan marked."
   ]
  },
  {
   "cell_type": "markdown",
   "metadata": {},
   "source": [
    "**Add marker to data according to criteria (see above)**"
   ]
  },
  {
   "cell_type": "code",
   "execution_count": 5,
   "metadata": {
    "collapsed": false
   },
   "outputs": [],
   "source": [
    "# Create empty marker column\n",
    "DE_re['comment'] = \"\"\n",
    "\n",
    "# Validation criteria (R_1) for data source BNetzA\n",
    "idx_date = DE_re[(DE_re['commissioning_date'] <= '2015-12-31') & (\n",
    "                  DE_re['data_source'] == 'BNetzA')].index\n",
    "\n",
    "# this can be replaced by renewables.loc[idx_date,'comment'] += \"R_1, \".\n",
    "# The same goes for the expressions below\n",
    "DE_re.loc[idx_date, 'comment'] = DE_re.loc[idx_date, 'comment'] + \"R_1, \"\n",
    "\n",
    "# Validation criteria (R_1) for source BNetzA_PV\n",
    "idx_date_pv = DE_re[(DE_re['commissioning_date'] <= '2015-12-31')& (\n",
    "              DE_re['data_source'] == 'BNetzA_PV')].index\n",
    "\n",
    "DE_re.loc[idx_date_pv, 'comment'] += \"R_1, \"\n",
    "\n",
    "# Validation criteria (R_2)\n",
    "idx_date_null = DE_re[(DE_re['commissioning_date'].isnull())].index\n",
    "\n",
    "DE_re.loc[idx_date_null, 'comment'] += \"R_2, \"\n",
    "\n",
    "# Validation criteria (R_3)\n",
    "idx_not_inst = DE_re[(DE_re['notification_reason'] != 'Inbetriebnahme') & (\n",
    "                      DE_re['data_source'] == 'BNetzA')].index\n",
    "\n",
    "DE_re.loc[idx_not_inst, 'comment'] += \"R_3, \"\n",
    "\n",
    "# Validation criteria (R_4)\n",
    "idx_pv_date = DE_re[(DE_re['commissioning_date'] < '1975-01-01') & (\n",
    "                     DE_re['energy_source'] == 'solar')].index\n",
    "\n",
    "DE_re.loc[idx_pv_date, 'comment'] += \"R_4, \"\n",
    "\n",
    "# Validation criteria (R_5)\n",
    "idx_nv = DE_re[DE_re['energy_source'] == '#NV'].index\n",
    "\n",
    "DE_re.loc[idx_nv, 'comment'] += \"R_5, \"\n",
    "\n",
    "# Validation criteria (R_6)\n",
    "idx_capacity = DE_re[DE_re.electrical_capacity_kW <= 0.0].index\n",
    "\n",
    "DE_re.loc[idx_capacity, 'comment'] += \"R_6, \""
   ]
  },
  {
   "cell_type": "markdown",
   "metadata": {},
   "source": [
    "**Create cleaned DataFrame**\n",
    "All marked entries are deleted for the cleaned version of the DataFrame that is utilized for creating time series of installation and for the validation plots."
   ]
  },
  {
   "cell_type": "code",
   "execution_count": 6,
   "metadata": {
    "collapsed": true
   },
   "outputs": [],
   "source": [
    "# Locate suspect entires\n",
    "idx_suspect = DE_re[DE_re.comment.str.len() > 1].index\n",
    "\n",
    "# create new data frame without suspect entries\n",
    "DE_re_clean = DE_re.drop(idx_suspect)"
   ]
  },
  {
   "cell_type": "markdown",
   "metadata": {},
   "source": [
    "**Overview suspect entries - cleaned data**"
   ]
  },
  {
   "cell_type": "code",
   "execution_count": 7,
   "metadata": {
    "collapsed": false
   },
   "outputs": [
    {
     "data": {
      "text/plain": [
       "comment     data_source\n",
       "            50Hertz        152187\n",
       "            Amprion        471730\n",
       "            BNetzA            868\n",
       "            BNetzA_PV       17134\n",
       "            TenneT         693798\n",
       "            TransnetBW     322693\n",
       "R_1,        BNetzA           3512\n",
       "            BNetzA_PV       78521\n",
       "R_1, R_3,   BNetzA           3580\n",
       "R_2, R_3,   BNetzA           1276\n",
       "R_3,        BNetzA              4\n",
       "R_6,        50Hertz             3\n",
       "            TransnetBW          5\n",
       "Name: comment, dtype: int64"
      ]
     },
     "execution_count": 7,
     "metadata": {},
     "output_type": "execute_result"
    }
   ],
   "source": [
    "# Count marked entries\n",
    "DE_re.groupby(['comment','data_source'])['comment'].count()"
   ]
  },
  {
   "cell_type": "code",
   "execution_count": 8,
   "metadata": {
    "collapsed": false
   },
   "outputs": [
    {
     "data": {
      "text/plain": [
       "comment     energy_source                \n",
       "            Bioenergy and renewable waste     7234.835684\n",
       "            Geothermal                          38.935000\n",
       "            Hydro                             1564.354359\n",
       "            Other fossil fuels                 246.818000\n",
       "            Solar                            39410.769831\n",
       "            Wind                             46634.729013\n",
       "            solar                              279.792455\n",
       "R_1,        Bioenergy and renewable waste       62.684100\n",
       "            Geothermal                           3.800000\n",
       "            Hydro                                6.281050\n",
       "            Other fossil fuels                   0.006000\n",
       "            Solar                              477.533366\n",
       "            Wind                              8860.719460\n",
       "            solar                             1597.011551\n",
       "R_1, R_3,   Bioenergy and renewable waste     1020.468990\n",
       "            Hydro                               83.317700\n",
       "            Other fossil fuels                  20.188000\n",
       "            Solar                               25.873540\n",
       "            Wind                              2716.989000\n",
       "R_2, R_3,   Bioenergy and renewable waste       61.666000\n",
       "            Hydro                                5.200300\n",
       "            Other fossil fuels                   0.680000\n",
       "            Solar                               19.528765\n",
       "            Wind                              3417.550000\n",
       "R_3,        Bioenergy and renewable waste        0.056000\n",
       "            Hydro                                0.030000\n",
       "            Wind                                 0.600000\n",
       "R_6,        Solar                                0.000000\n",
       "Name: electrical_capacity_kW, dtype: float64"
      ]
     },
     "execution_count": 8,
     "metadata": {},
     "output_type": "execute_result"
    }
   ],
   "source": [
    "# Summarize electrical capacity per energy source of suspect data\n",
    "DE_re.groupby(['comment', 'energy_source'])['electrical_capacity_kW'].sum() / 1000"
   ]
  },
  {
   "cell_type": "code",
   "execution_count": 11,
   "metadata": {
    "collapsed": false
   },
   "outputs": [
    {
     "data": {
      "text/plain": [
       "energy_source\n",
       "Bioenergy and renewable waste     7234.835684\n",
       "Geothermal                          38.935000\n",
       "Hydro                             1564.354359\n",
       "Other fossil fuels                 246.818000\n",
       "Solar                            39410.769831\n",
       "Wind                             46634.729013\n",
       "solar                              279.792455\n",
       "Name: electrical_capacity_kW, dtype: float64"
      ]
     },
     "execution_count": 11,
     "metadata": {},
     "output_type": "execute_result"
    }
   ],
   "source": [
    "# Summarize electrical capacity per energy source of cleaned data (MW)\n",
    "DE_re_clean.groupby(['energy_source'])['electrical_capacity_kW'].sum() / 1000"
   ]
  },
  {
   "cell_type": "markdown",
   "metadata": {},
   "source": [
    "# 6. Capacity time series\n",
    "\n",
    "This section creates a daily and yearly time series of the cumulated installed capacity by energy source. This data will be part of the output and will be compared in a plot for validation in the next section."
   ]
  },
  {
   "cell_type": "code",
   "execution_count": 12,
   "metadata": {
    "collapsed": true
   },
   "outputs": [],
   "source": [
    "# Additional column for chosing energy sources for timeseries\n",
    "DE_re_clean['temp_energy_source'] = DE_re_clean['energy_source']\n",
    "\n",
    "# Time series for on- and offshore wind should be separated\n",
    "idx_wind = DE_re_clean[DE_re_clean.energy_source == 'Wind'].index\n",
    "DE_re_clean.loc[idx_wind, 'temp_energy_source'] = DE_re_clean.loc[\n",
    "                                                  idx_wind, 'energy_source_subtype']\n",
    "\n",
    "# Set energy source for which time series should be generated\n",
    "energy_sources = ['Bioenergy and renewable waste', 'Onshore', 'Offshore', 'Solar',\n",
    "                  'Geothermal', 'Hydro']"
   ]
  },
  {
   "cell_type": "code",
   "execution_count": 13,
   "metadata": {
    "collapsed": false
   },
   "outputs": [],
   "source": [
    "# Set date range for which the time series should be generated\n",
    "range_yearly = pd.date_range(start='1990-01-01', end='2016-01-01', freq='A')\n",
    "range_daily = pd.date_range(start='2005-01-01', end='2016-01-31', freq='D')\n",
    "\n",
    "# Set range of time series as index\n",
    "timeseries_yearly = pd.DataFrame(index=range_yearly)\n",
    "timeseries_daily = pd.DataFrame(index=range_daily)"
   ]
  },
  {
   "cell_type": "code",
   "execution_count": 14,
   "metadata": {
    "collapsed": false
   },
   "outputs": [
    {
     "name": "stderr",
     "output_type": "stream",
     "text": [
      "/home/frauke/.local/lib/python3.5/site-packages/IPython/kernel/__main__.py:10: FutureWarning: how in .resample() is deprecated\n",
      "the new syntax is .resample(...).sum()\n",
      "/home/frauke/.local/lib/python3.5/site-packages/IPython/kernel/__main__.py:14: FutureWarning: how in .resample() is deprecated\n",
      "the new syntax is .resample(...).sum()\n"
     ]
    }
   ],
   "source": [
    "# Create cumulated time series per energy source for both yearly and daily time series\n",
    "for gtype in energy_sources:\n",
    "    temp = (DE_re_clean[['commissioning_date', 'electrical_capacity_kW']]\n",
    "            .loc[DE_re_clean['temp_energy_source'].isin([gtype])])\n",
    "    \n",
    "    temp_timeseries = temp.set_index('commissioning_date')\n",
    "    \n",
    "    # Create cumulated time series per energy_source and year\n",
    "    timeseries_yearly['{0}_DE_capacity'.format(gtype)] = temp_timeseries.resample(\n",
    "        'A', how='sum').cumsum().fillna(method='ffill') / 1000\n",
    "\n",
    "    # Create cumulated time series per energy_source and day\n",
    "    timeseries_daily['{0}_DE_capacity'.format(gtype)] = temp_timeseries.resample(\n",
    "        'D', how='sum').cumsum().fillna(method='ffill') / 1000"
   ]
  },
  {
   "cell_type": "code",
   "execution_count": 15,
   "metadata": {
    "collapsed": false
   },
   "outputs": [],
   "source": [
    "# Set index name\n",
    "timeseries_yearly.columns.rename('timestamp', inplace=True)\n",
    "timeseries_daily.columns.rename('timestamp', inplace=True)\n",
    "\n",
    "# Shorten timestamp to year for the yearly timeseries    \n",
    "timeseries_yearly.index = pd.to_datetime(timeseries_yearly.index, format=\"%Y\").year"
   ]
  },
  {
   "cell_type": "markdown",
   "metadata": {},
   "source": [
    "# 7. Plots"
   ]
  },
  {
   "cell_type": "markdown",
   "metadata": {},
   "source": [
    "## 7.1 Cumulated capacity validation"
   ]
  },
  {
   "cell_type": "markdown",
   "metadata": {},
   "source": [
    "Compare cumulated capacity per country and energy source of the power plant list to data from the International Renewable Energy Agency (IRENA) and data from ENTSO-E and Eurostat, already compiled in another OPSD datapackage."
   ]
  },
  {
   "cell_type": "markdown",
   "metadata": {},
   "source": [
    "### 7.1.1 Download and read data for validaion"
   ]
  },
  {
   "cell_type": "markdown",
   "metadata": {},
   "source": [
    "#### IRENA\n",
    "Automatic Download of IRENA data does not work yet, so download the file Europe.csv manually with this link and put the file into the folder _input_:\n",
    "http://public.tableau.com/profile/irena.resource#!/vizhome/ExportIRENAData/Europe.csv"
   ]
  },
  {
   "cell_type": "code",
   "execution_count": 16,
   "metadata": {
    "collapsed": false
   },
   "outputs": [],
   "source": [
    "irena_df = pd.read_csv('input/Europe.csv',\n",
    "                       sep = \",\",\n",
    "                       decimal = \".\",\n",
    "                       thousands = \",\",\n",
    "                       encoding = 'UTF8',\n",
    "                       header = 0)"
   ]
  },
  {
   "cell_type": "code",
   "execution_count": 17,
   "metadata": {
    "collapsed": false
   },
   "outputs": [],
   "source": [
    "# Select just the required values for capacity\n",
    "idx_irena = irena_df[(irena_df['Flow'] == 'Total capacity (MWe)')].index\n",
    "irena_df = irena_df.loc[idx_irena,('Country / Area','Sub Technology','Year','Value')]"
   ]
  },
  {
   "cell_type": "code",
   "execution_count": 18,
   "metadata": {
    "collapsed": false
   },
   "outputs": [],
   "source": [
    "# Read column and value translation list\n",
    "columnnames = pd.read_csv('input/column_translation_list.csv')\n",
    "valuenames = pd.read_csv('input/value_translation_list.csv')"
   ]
  },
  {
   "cell_type": "code",
   "execution_count": 19,
   "metadata": {
    "collapsed": false
   },
   "outputs": [
    {
     "data": {
      "text/plain": [
       "{'Biomass and biogas': 'Bioenergy and renewable waste',\n",
       " 'Concentrated solar power': 'Solar',\n",
       " 'DE': nan,\n",
       " 'DK': nan,\n",
       " 'FR': nan,\n",
       " 'Geothermal': 'Geothermal',\n",
       " 'Hydro': 'Hydro',\n",
       " 'Marine': 'Marine',\n",
       " 'Offshore': 'Wind',\n",
       " 'Onshore': 'Wind',\n",
       " 'PL': nan,\n",
       " 'Photovoltaics': 'Solar'}"
      ]
     },
     "execution_count": 19,
     "metadata": {},
     "output_type": "execute_result"
    }
   ],
   "source": [
    "# Create dictionary for column translation\n",
    "idx_Europe = columnnames[columnnames['country'] == 'Europe'].index\n",
    "column_dict = columnnames.loc[idx_Europe].set_index('original_name')[\n",
    "                                                           'opsd_name'].to_dict()\n",
    "\n",
    "# Create dictionnary in order to adapt energy_source_subtype names\n",
    "idx_Europe = valuenames[valuenames['data_source'] == 'IRENA'].index\n",
    "value_dict = valuenames.loc[idx_Europe].set_index('original_name')[\n",
    "                                                  'opsd_name'].to_dict()\n",
    "\n",
    "# Create dictionnary in order to assign energy_source to its subtype\n",
    "energy_source_dict = valuenames.loc[idx_Europe].set_index('opsd_name')[\n",
    "                                                          'energy_source'].to_dict()\n",
    "energy_source_dict"
   ]
  },
  {
   "cell_type": "code",
   "execution_count": 20,
   "metadata": {
    "collapsed": false
   },
   "outputs": [],
   "source": [
    "# Translate columns by list \n",
    "irena_df.rename(columns = column_dict, inplace = True)\n",
    "\n",
    "# Replace energy_source names\n",
    "irena_df.replace(value_dict, inplace=True)\n",
    "\n",
    "# Create new column for energy_source\n",
    "irena_df['energy_source'] = irena_df['energy_source_subtype']\n",
    "\n",
    "# Fill this with the energy source instead of subtype information\n",
    "irena_df.energy_source.replace(energy_source_dict, inplace=True)"
   ]
  },
  {
   "cell_type": "code",
   "execution_count": 21,
   "metadata": {
    "collapsed": false
   },
   "outputs": [],
   "source": [
    "# Group and summarize data frame by generation type and installed capacity\n",
    "irena_sum_df = irena_df.groupby(['country','energy_source','year'],\n",
    "                                as_index = False)['electrical_capacity_MW'].sum()"
   ]
  },
  {
   "cell_type": "code",
   "execution_count": 22,
   "metadata": {
    "collapsed": true
   },
   "outputs": [],
   "source": [
    "# Add column to keep track of the source\n",
    "irena_sum_df['data_source'] = 'IRENA'"
   ]
  },
  {
   "cell_type": "markdown",
   "metadata": {
    "collapsed": true
   },
   "source": [
    "#### Aggregated capacity from OPSD datapackage\n",
    "Download csv-file from OPSD-page which includes ENTSO-E and Eurostat data of cumulated capacity per source of European countries and put it into the folder _input_: <br>\n",
    "http://data.open-power-system-data.org/national_generation_capacities/ <br>\n",
    "_This will be done automatically as soon as the passwords are not utilized anymore_"
   ]
  },
  {
   "cell_type": "code",
   "execution_count": 23,
   "metadata": {
    "collapsed": false
   },
   "outputs": [],
   "source": [
    "opsd_df = pd.read_csv('input/aggregated_capacity.csv',\n",
    "                      sep = \",\",\n",
    "                      decimal = \".\",\n",
    "                      encoding = 'UTF8',\n",
    "                      header = 0)"
   ]
  },
  {
   "cell_type": "code",
   "execution_count": 24,
   "metadata": {
    "collapsed": true
   },
   "outputs": [],
   "source": [
    "# Translate columns by list \n",
    "opsd_df.rename(columns = column_dict, inplace = True)\n",
    "\n",
    "# Choose just the required translation terms for this data source\n",
    "idx_opsd = valuenames[valuenames['data_source'] == 'OPSD'].index\n",
    "\n",
    "# Create dictionnary in order to change install_type names \n",
    "value_dict = valuenames.loc[idx_opsd].set_index('original_name')['opsd_name'].to_dict()\n",
    "\n",
    "# Replace energy_source names\n",
    "opsd_df.replace(value_dict, inplace = True)"
   ]
  },
  {
   "cell_type": "code",
   "execution_count": 25,
   "metadata": {
    "collapsed": true
   },
   "outputs": [],
   "source": [
    "# Group and summarize data frame by generation type and installed capacity\n",
    "e_source = pd.Series(['Biomass and biogas','Wind','Solar','Geothermal','Hydro','Marine'])\n",
    "recent_years = (2014,2015)"
   ]
  },
  {
   "cell_type": "code",
   "execution_count": 26,
   "metadata": {
    "collapsed": true
   },
   "outputs": [],
   "source": [
    "idx_opsd = opsd_df[(opsd_df['year'].isin(recent_years))\n",
    "                    & (opsd_df['energy_source'].isin(e_source))].index"
   ]
  },
  {
   "cell_type": "code",
   "execution_count": 27,
   "metadata": {
    "collapsed": true
   },
   "outputs": [],
   "source": [
    "# only required columns are chosen, and only rows of recent years\n",
    "opsd_df = opsd_df.loc[idx_opsd].drop(['Unnamed: 0','source_type',\n",
    "                      'type','technology_level_0','technology_level_1',\n",
    "                      'technology_level_2','technology_level_3'], axis = 1)\n",
    "\n",
    "# index is not required any more\n",
    "opsd_df = opsd_df.reset_index(drop = True)"
   ]
  },
  {
   "cell_type": "markdown",
   "metadata": {},
   "source": [
    "### 7.1.2 Prepare cumulated capacity for comparison\n",
    "Installed capacity is summed per country and energy source to compare it to the other sources for cumulated capacity. This gives an impression how complete the country power plant list datasets are."
   ]
  },
  {
   "cell_type": "markdown",
   "metadata": {},
   "source": [
    "Germany DE"
   ]
  },
  {
   "cell_type": "code",
   "execution_count": 28,
   "metadata": {
    "collapsed": false
   },
   "outputs": [
    {
     "data": {
      "text/html": [
       "<div>\n",
       "<table border=\"1\" class=\"dataframe\">\n",
       "  <thead>\n",
       "    <tr style=\"text-align: right;\">\n",
       "      <th></th>\n",
       "      <th>energy_source</th>\n",
       "      <th>electrical_capacity_MW</th>\n",
       "      <th>year</th>\n",
       "      <th>country</th>\n",
       "      <th>data_source</th>\n",
       "    </tr>\n",
       "  </thead>\n",
       "  <tbody>\n",
       "    <tr>\n",
       "      <th>0</th>\n",
       "      <td>Bioenergy and renewable waste</td>\n",
       "      <td>7223.201684</td>\n",
       "      <td>2015</td>\n",
       "      <td>DE</td>\n",
       "      <td>German TSOs</td>\n",
       "    </tr>\n",
       "    <tr>\n",
       "      <th>1</th>\n",
       "      <td>Geothermal</td>\n",
       "      <td>33.435000</td>\n",
       "      <td>2015</td>\n",
       "      <td>DE</td>\n",
       "      <td>German TSOs</td>\n",
       "    </tr>\n",
       "    <tr>\n",
       "      <th>2</th>\n",
       "      <td>Hydro</td>\n",
       "      <td>1563.121819</td>\n",
       "      <td>2015</td>\n",
       "      <td>DE</td>\n",
       "      <td>German TSOs</td>\n",
       "    </tr>\n",
       "    <tr>\n",
       "      <th>3</th>\n",
       "      <td>Other fossil fuels</td>\n",
       "      <td>244.102000</td>\n",
       "      <td>2015</td>\n",
       "      <td>DE</td>\n",
       "      <td>German TSOs</td>\n",
       "    </tr>\n",
       "    <tr>\n",
       "      <th>4</th>\n",
       "      <td>Solar</td>\n",
       "      <td>39337.659026</td>\n",
       "      <td>2015</td>\n",
       "      <td>DE</td>\n",
       "      <td>German TSOs</td>\n",
       "    </tr>\n",
       "    <tr>\n",
       "      <th>5</th>\n",
       "      <td>Wind</td>\n",
       "      <td>44547.715513</td>\n",
       "      <td>2015</td>\n",
       "      <td>DE</td>\n",
       "      <td>German TSOs</td>\n",
       "    </tr>\n",
       "  </tbody>\n",
       "</table>\n",
       "</div>"
      ],
      "text/plain": [
       "                   energy_source  electrical_capacity_MW  year country  \\\n",
       "0  Bioenergy and renewable waste             7223.201684  2015      DE   \n",
       "1                     Geothermal               33.435000  2015      DE   \n",
       "2                          Hydro             1563.121819  2015      DE   \n",
       "3             Other fossil fuels              244.102000  2015      DE   \n",
       "4                          Solar            39337.659026  2015      DE   \n",
       "5                           Wind            44547.715513  2015      DE   \n",
       "\n",
       "   data_source  \n",
       "0  German TSOs  \n",
       "1  German TSOs  \n",
       "2  German TSOs  \n",
       "3  German TSOs  \n",
       "4  German TSOs  \n",
       "5  German TSOs  "
      ]
     },
     "execution_count": 28,
     "metadata": {},
     "output_type": "execute_result"
    }
   ],
   "source": [
    "# Summarize per energy_source until end of 2015 without marked entries\n",
    "DE_re_sum = DE_re_clean[(DE_re_clean['commissioning_date'] <= '2015-12-31')].groupby([\n",
    "        'energy_source'], as_index = False)['electrical_capacity_kW'].sum()\n",
    "\n",
    "# Transform kW to MW\n",
    "DE_re_sum['electrical_capacity_kW'] /= 1000\n",
    "\n",
    "# Adapt column name\n",
    "DE_re_sum.rename(columns={'electrical_capacity_kW': 'electrical_capacity_MW'},\n",
    "                inplace=True)\n",
    "\n",
    "# Add information until which year (including) the capacity is summarized\n",
    "DE_re_sum['year'] = 2015\n",
    "DE_re_sum['country'] = 'DE'\n",
    "\n",
    "DE_re_sum['data_source'] = 'German TSOs'\n",
    "\n",
    "DE_re_sum"
   ]
  },
  {
   "cell_type": "markdown",
   "metadata": {},
   "source": [
    "Denmark DK"
   ]
  },
  {
   "cell_type": "code",
   "execution_count": 29,
   "metadata": {
    "collapsed": false
   },
   "outputs": [
    {
     "data": {
      "text/html": [
       "<div>\n",
       "<table border=\"1\" class=\"dataframe\">\n",
       "  <thead>\n",
       "    <tr style=\"text-align: right;\">\n",
       "      <th></th>\n",
       "      <th>energy_source</th>\n",
       "      <th>data_source</th>\n",
       "      <th>electrical_capacity_MW</th>\n",
       "      <th>year</th>\n",
       "      <th>country</th>\n",
       "    </tr>\n",
       "  </thead>\n",
       "  <tbody>\n",
       "    <tr>\n",
       "      <th>0</th>\n",
       "      <td>solar</td>\n",
       "      <td>Energinet.dk</td>\n",
       "      <td>NaN</td>\n",
       "      <td>2015</td>\n",
       "      <td>DK</td>\n",
       "    </tr>\n",
       "    <tr>\n",
       "      <th>1</th>\n",
       "      <td>wind</td>\n",
       "      <td>Energistyrelsen</td>\n",
       "      <td>5059.535</td>\n",
       "      <td>2015</td>\n",
       "      <td>DK</td>\n",
       "    </tr>\n",
       "  </tbody>\n",
       "</table>\n",
       "</div>"
      ],
      "text/plain": [
       "  energy_source      data_source  electrical_capacity_MW  year country\n",
       "0         solar     Energinet.dk                     NaN  2015      DK\n",
       "1          wind  Energistyrelsen                5059.535  2015      DK"
      ]
     },
     "execution_count": 29,
     "metadata": {},
     "output_type": "execute_result"
    }
   ],
   "source": [
    "# Summarize per energy_source until end of 2015\n",
    "DK_re_sum = DK_re[(DK_re['commissioning_date'] <= '2015-12-31')].groupby([\n",
    "                   'energy_source','data_source'], as_index = False)[\n",
    "                  'electrical_capacity_kW'].sum()\n",
    "\n",
    "# Transform kW to MW\n",
    "DK_re_sum['electrical_capacity_kW'] /= 1000\n",
    "\n",
    "# Adapt column name\n",
    "DK_re_sum.rename(columns={'electrical_capacity_kW': 'electrical_capacity_MW'},\n",
    "                inplace=True)\n",
    "\n",
    "# Add information until which year (including) the capacity is summarized\n",
    "DK_re_sum['year'] = 2015\n",
    "DK_re_sum['country'] = 'DK'\n",
    "\n",
    "DK_re_sum"
   ]
  },
  {
   "cell_type": "markdown",
   "metadata": {
    "collapsed": true
   },
   "source": [
    "France FR"
   ]
  },
  {
   "cell_type": "code",
   "execution_count": 30,
   "metadata": {
    "collapsed": false
   },
   "outputs": [
    {
     "data": {
      "text/html": [
       "<div>\n",
       "<table border=\"1\" class=\"dataframe\">\n",
       "  <thead>\n",
       "    <tr style=\"text-align: right;\">\n",
       "      <th></th>\n",
       "      <th>energy_source</th>\n",
       "      <th>data_source</th>\n",
       "      <th>electrical_capacity_MW</th>\n",
       "      <th>year</th>\n",
       "      <th>country</th>\n",
       "    </tr>\n",
       "  </thead>\n",
       "  <tbody>\n",
       "    <tr>\n",
       "      <th>0</th>\n",
       "      <td>Biomass and biogas</td>\n",
       "      <td>gouv.fr</td>\n",
       "      <td>1343.799800</td>\n",
       "      <td>2014</td>\n",
       "      <td>FR</td>\n",
       "    </tr>\n",
       "    <tr>\n",
       "      <th>1</th>\n",
       "      <td>Geothermal</td>\n",
       "      <td>gouv.fr</td>\n",
       "      <td>9.000000</td>\n",
       "      <td>2014</td>\n",
       "      <td>FR</td>\n",
       "    </tr>\n",
       "    <tr>\n",
       "      <th>2</th>\n",
       "      <td>Hydro</td>\n",
       "      <td>gouv.fr</td>\n",
       "      <td>2074.297880</td>\n",
       "      <td>2014</td>\n",
       "      <td>FR</td>\n",
       "    </tr>\n",
       "    <tr>\n",
       "      <th>3</th>\n",
       "      <td>Photovoltaics</td>\n",
       "      <td>gouv.fr</td>\n",
       "      <td>8602.080614</td>\n",
       "      <td>2014</td>\n",
       "      <td>FR</td>\n",
       "    </tr>\n",
       "    <tr>\n",
       "      <th>4</th>\n",
       "      <td>Wind</td>\n",
       "      <td>gouv.fr</td>\n",
       "      <td>10573.327000</td>\n",
       "      <td>2014</td>\n",
       "      <td>FR</td>\n",
       "    </tr>\n",
       "  </tbody>\n",
       "</table>\n",
       "</div>"
      ],
      "text/plain": [
       "        energy_source data_source  electrical_capacity_MW  year country\n",
       "0  Biomass and biogas     gouv.fr             1343.799800  2014      FR\n",
       "1          Geothermal     gouv.fr                9.000000  2014      FR\n",
       "2               Hydro     gouv.fr             2074.297880  2014      FR\n",
       "3       Photovoltaics     gouv.fr             8602.080614  2014      FR\n",
       "4                Wind     gouv.fr            10573.327000  2014      FR"
      ]
     },
     "execution_count": 30,
     "metadata": {},
     "output_type": "execute_result"
    }
   ],
   "source": [
    "# Summarize per energy_source. Data until 31.12.2014 is provided by the data source\n",
    "FR_re_sum = FR_re.groupby(['energy_source','data_source'], as_index = False)[\n",
    "                           'electrical_capacity_kW'].sum()\n",
    "\n",
    "# Transform kW to MW\n",
    "FR_re_sum['electrical_capacity_kW'] /= 1000\n",
    "\n",
    "# Adapt column name\n",
    "FR_re_sum.rename(columns={'electrical_capacity_kW': 'electrical_capacity_MW'},\n",
    "                inplace=True)\n",
    "\n",
    "# Add information until which year (including) the capacity is summarized\n",
    "FR_re_sum['year'] = 2014\n",
    "FR_re_sum['country'] = 'FR'\n",
    "\n",
    "FR_re_sum"
   ]
  },
  {
   "cell_type": "markdown",
   "metadata": {},
   "source": [
    "Poland PL"
   ]
  },
  {
   "cell_type": "code",
   "execution_count": 31,
   "metadata": {
    "collapsed": false
   },
   "outputs": [
    {
     "data": {
      "text/html": [
       "<div>\n",
       "<table border=\"1\" class=\"dataframe\">\n",
       "  <thead>\n",
       "    <tr style=\"text-align: right;\">\n",
       "      <th></th>\n",
       "      <th>energy_source</th>\n",
       "      <th>data_source</th>\n",
       "      <th>electrical_capacity_MW</th>\n",
       "      <th>year</th>\n",
       "      <th>country</th>\n",
       "    </tr>\n",
       "  </thead>\n",
       "  <tbody>\n",
       "    <tr>\n",
       "      <th>0</th>\n",
       "      <td>Bioenergy and renewable waste</td>\n",
       "      <td>Urzad Regulacji Energetyki</td>\n",
       "      <td>802.459</td>\n",
       "      <td>2015</td>\n",
       "      <td>PL</td>\n",
       "    </tr>\n",
       "    <tr>\n",
       "      <th>1</th>\n",
       "      <td>Hydro</td>\n",
       "      <td>Urzad Regulacji Energetyki</td>\n",
       "      <td>328.498</td>\n",
       "      <td>2015</td>\n",
       "      <td>PL</td>\n",
       "    </tr>\n",
       "    <tr>\n",
       "      <th>2</th>\n",
       "      <td>Solar</td>\n",
       "      <td>Urzad Regulacji Energetyki</td>\n",
       "      <td>46.592</td>\n",
       "      <td>2015</td>\n",
       "      <td>PL</td>\n",
       "    </tr>\n",
       "    <tr>\n",
       "      <th>3</th>\n",
       "      <td>Wind</td>\n",
       "      <td>Urzad Regulacji Energetyki</td>\n",
       "      <td>3361.635</td>\n",
       "      <td>2015</td>\n",
       "      <td>PL</td>\n",
       "    </tr>\n",
       "  </tbody>\n",
       "</table>\n",
       "</div>"
      ],
      "text/plain": [
       "                   energy_source                 data_source  \\\n",
       "0  Bioenergy and renewable waste  Urzad Regulacji Energetyki   \n",
       "1                          Hydro  Urzad Regulacji Energetyki   \n",
       "2                          Solar  Urzad Regulacji Energetyki   \n",
       "3                           Wind  Urzad Regulacji Energetyki   \n",
       "\n",
       "   electrical_capacity_MW  year country  \n",
       "0                 802.459  2015      PL  \n",
       "1                 328.498  2015      PL  \n",
       "2                  46.592  2015      PL  \n",
       "3                3361.635  2015      PL  "
      ]
     },
     "execution_count": 31,
     "metadata": {},
     "output_type": "execute_result"
    }
   ],
   "source": [
    "# Summarize per energy_source. Data until 31.12.2015 is provided by the data source\n",
    "PL_re_sum = PL_re.groupby(['energy_source','data_source'], as_index = False)[\n",
    "                           'electrical_capacity_kW'].sum()\n",
    "\n",
    "# Transform kW to MW\n",
    "PL_re_sum['electrical_capacity_kW'] /= 1000\n",
    "\n",
    "# Adapt column name\n",
    "PL_re_sum.rename(columns={'electrical_capacity_kW': 'electrical_capacity_MW'},\n",
    "                inplace=True)\n",
    "\n",
    "# Add information until which year (including) the capacity is summarized\n",
    "PL_re_sum['year'] = 2015\n",
    "PL_re_sum['country'] = 'PL'\n",
    "\n",
    "PL_re_sum"
   ]
  },
  {
   "cell_type": "code",
   "execution_count": 32,
   "metadata": {
    "collapsed": true
   },
   "outputs": [],
   "source": [
    "# Merge dataframes\n",
    "capacities = pd.concat([irena_sum_df, opsd_df,\n",
    "                        DE_re_sum, DK_re_sum, FR_re_sum, PL_re_sum])\n",
    "\n",
    "# Get rid von all indices\n",
    "capacities = capacities.reset_index(drop = True)"
   ]
  },
  {
   "cell_type": "markdown",
   "metadata": {},
   "source": [
    "### 7.1.3 Plot cumulated capacity\n",
    "One comparison plot for each country: Cumulated capacity in MW per energy source from different sources."
   ]
  },
  {
   "cell_type": "code",
   "execution_count": 33,
   "metadata": {
    "collapsed": true
   },
   "outputs": [],
   "source": [
    "plot_country = 'DE'"
   ]
  },
  {
   "cell_type": "code",
   "execution_count": 34,
   "metadata": {
    "collapsed": false
   },
   "outputs": [
    {
     "data": {
      "text/html": [
       "<div>\n",
       "<table border=\"1\" class=\"dataframe\">\n",
       "  <thead>\n",
       "    <tr style=\"text-align: right;\">\n",
       "      <th></th>\n",
       "      <th>data_source</th>\n",
       "      <th>electrical_capacity_MW</th>\n",
       "      <th>energy_source</th>\n",
       "      <th>year</th>\n",
       "    </tr>\n",
       "  </thead>\n",
       "  <tbody>\n",
       "    <tr>\n",
       "      <th>0</th>\n",
       "      <td>IRENA</td>\n",
       "      <td>8977.000000</td>\n",
       "      <td>Bioenergy and renewable waste</td>\n",
       "      <td>2014</td>\n",
       "    </tr>\n",
       "    <tr>\n",
       "      <th>1</th>\n",
       "      <td>IRENA</td>\n",
       "      <td>9132.000000</td>\n",
       "      <td>Bioenergy and renewable waste</td>\n",
       "      <td>2015</td>\n",
       "    </tr>\n",
       "    <tr>\n",
       "      <th>2</th>\n",
       "      <td>IRENA</td>\n",
       "      <td>24.000000</td>\n",
       "      <td>Geothermal</td>\n",
       "      <td>2014</td>\n",
       "    </tr>\n",
       "    <tr>\n",
       "      <th>3</th>\n",
       "      <td>IRENA</td>\n",
       "      <td>37.700000</td>\n",
       "      <td>Geothermal</td>\n",
       "      <td>2015</td>\n",
       "    </tr>\n",
       "    <tr>\n",
       "      <th>4</th>\n",
       "      <td>IRENA</td>\n",
       "      <td>11234.000000</td>\n",
       "      <td>Hydro</td>\n",
       "      <td>2014</td>\n",
       "    </tr>\n",
       "    <tr>\n",
       "      <th>5</th>\n",
       "      <td>IRENA</td>\n",
       "      <td>11234.000000</td>\n",
       "      <td>Hydro</td>\n",
       "      <td>2015</td>\n",
       "    </tr>\n",
       "    <tr>\n",
       "      <th>6</th>\n",
       "      <td>IRENA</td>\n",
       "      <td>38235.500000</td>\n",
       "      <td>Solar</td>\n",
       "      <td>2014</td>\n",
       "    </tr>\n",
       "    <tr>\n",
       "      <th>7</th>\n",
       "      <td>IRENA</td>\n",
       "      <td>39635.500000</td>\n",
       "      <td>Solar</td>\n",
       "      <td>2015</td>\n",
       "    </tr>\n",
       "    <tr>\n",
       "      <th>8</th>\n",
       "      <td>IRENA</td>\n",
       "      <td>39193.000000</td>\n",
       "      <td>Wind</td>\n",
       "      <td>2014</td>\n",
       "    </tr>\n",
       "    <tr>\n",
       "      <th>9</th>\n",
       "      <td>IRENA</td>\n",
       "      <td>44947.000000</td>\n",
       "      <td>Wind</td>\n",
       "      <td>2015</td>\n",
       "    </tr>\n",
       "    <tr>\n",
       "      <th>10</th>\n",
       "      <td>BMWi</td>\n",
       "      <td>10319.500000</td>\n",
       "      <td>Hydro</td>\n",
       "      <td>2014</td>\n",
       "    </tr>\n",
       "    <tr>\n",
       "      <th>11</th>\n",
       "      <td>entsoe</td>\n",
       "      <td>10750.000000</td>\n",
       "      <td>Hydro</td>\n",
       "      <td>2014</td>\n",
       "    </tr>\n",
       "    <tr>\n",
       "      <th>12</th>\n",
       "      <td>BMWi</td>\n",
       "      <td>10319.500000</td>\n",
       "      <td>Hydro</td>\n",
       "      <td>2014</td>\n",
       "    </tr>\n",
       "    <tr>\n",
       "      <th>13</th>\n",
       "      <td>entsoe</td>\n",
       "      <td>10750.000000</td>\n",
       "      <td>Hydro</td>\n",
       "      <td>2014</td>\n",
       "    </tr>\n",
       "    <tr>\n",
       "      <th>14</th>\n",
       "      <td>BMWi</td>\n",
       "      <td>39193.000000</td>\n",
       "      <td>Wind</td>\n",
       "      <td>2014</td>\n",
       "    </tr>\n",
       "    <tr>\n",
       "      <th>15</th>\n",
       "      <td>entsoe</td>\n",
       "      <td>34720.000000</td>\n",
       "      <td>Wind</td>\n",
       "      <td>2014</td>\n",
       "    </tr>\n",
       "    <tr>\n",
       "      <th>16</th>\n",
       "      <td>BMWi</td>\n",
       "      <td>38236.000000</td>\n",
       "      <td>Solar</td>\n",
       "      <td>2014</td>\n",
       "    </tr>\n",
       "    <tr>\n",
       "      <th>17</th>\n",
       "      <td>entsoe</td>\n",
       "      <td>36330.000000</td>\n",
       "      <td>Solar</td>\n",
       "      <td>2014</td>\n",
       "    </tr>\n",
       "    <tr>\n",
       "      <th>18</th>\n",
       "      <td>BMWi</td>\n",
       "      <td>24.000000</td>\n",
       "      <td>Geothermal</td>\n",
       "      <td>2014</td>\n",
       "    </tr>\n",
       "    <tr>\n",
       "      <th>19</th>\n",
       "      <td>entsoe</td>\n",
       "      <td>0.000000</td>\n",
       "      <td>Geothermal</td>\n",
       "      <td>2014</td>\n",
       "    </tr>\n",
       "    <tr>\n",
       "      <th>20</th>\n",
       "      <td>BMWi</td>\n",
       "      <td>0.000000</td>\n",
       "      <td>Marine</td>\n",
       "      <td>2014</td>\n",
       "    </tr>\n",
       "    <tr>\n",
       "      <th>21</th>\n",
       "      <td>entsoe</td>\n",
       "      <td>0.000000</td>\n",
       "      <td>Marine</td>\n",
       "      <td>2014</td>\n",
       "    </tr>\n",
       "    <tr>\n",
       "      <th>22</th>\n",
       "      <td>BMWi</td>\n",
       "      <td>6867.000000</td>\n",
       "      <td>Biomass and biogas</td>\n",
       "      <td>2014</td>\n",
       "    </tr>\n",
       "    <tr>\n",
       "      <th>23</th>\n",
       "      <td>entsoe</td>\n",
       "      <td>5880.000000</td>\n",
       "      <td>Biomass and biogas</td>\n",
       "      <td>2014</td>\n",
       "    </tr>\n",
       "    <tr>\n",
       "      <th>24</th>\n",
       "      <td>German TSOs</td>\n",
       "      <td>7223.201684</td>\n",
       "      <td>Bioenergy and renewable waste</td>\n",
       "      <td>2015</td>\n",
       "    </tr>\n",
       "    <tr>\n",
       "      <th>25</th>\n",
       "      <td>German TSOs</td>\n",
       "      <td>33.435000</td>\n",
       "      <td>Geothermal</td>\n",
       "      <td>2015</td>\n",
       "    </tr>\n",
       "    <tr>\n",
       "      <th>26</th>\n",
       "      <td>German TSOs</td>\n",
       "      <td>1563.121819</td>\n",
       "      <td>Hydro</td>\n",
       "      <td>2015</td>\n",
       "    </tr>\n",
       "    <tr>\n",
       "      <th>27</th>\n",
       "      <td>German TSOs</td>\n",
       "      <td>244.102000</td>\n",
       "      <td>Other fossil fuels</td>\n",
       "      <td>2015</td>\n",
       "    </tr>\n",
       "    <tr>\n",
       "      <th>28</th>\n",
       "      <td>German TSOs</td>\n",
       "      <td>39337.659026</td>\n",
       "      <td>Solar</td>\n",
       "      <td>2015</td>\n",
       "    </tr>\n",
       "    <tr>\n",
       "      <th>29</th>\n",
       "      <td>German TSOs</td>\n",
       "      <td>44547.715513</td>\n",
       "      <td>Wind</td>\n",
       "      <td>2015</td>\n",
       "    </tr>\n",
       "  </tbody>\n",
       "</table>\n",
       "</div>"
      ],
      "text/plain": [
       "    data_source  electrical_capacity_MW                  energy_source  year\n",
       "0         IRENA             8977.000000  Bioenergy and renewable waste  2014\n",
       "1         IRENA             9132.000000  Bioenergy and renewable waste  2015\n",
       "2         IRENA               24.000000                     Geothermal  2014\n",
       "3         IRENA               37.700000                     Geothermal  2015\n",
       "4         IRENA            11234.000000                          Hydro  2014\n",
       "5         IRENA            11234.000000                          Hydro  2015\n",
       "6         IRENA            38235.500000                          Solar  2014\n",
       "7         IRENA            39635.500000                          Solar  2015\n",
       "8         IRENA            39193.000000                           Wind  2014\n",
       "9         IRENA            44947.000000                           Wind  2015\n",
       "10         BMWi            10319.500000                          Hydro  2014\n",
       "11       entsoe            10750.000000                          Hydro  2014\n",
       "12         BMWi            10319.500000                          Hydro  2014\n",
       "13       entsoe            10750.000000                          Hydro  2014\n",
       "14         BMWi            39193.000000                           Wind  2014\n",
       "15       entsoe            34720.000000                           Wind  2014\n",
       "16         BMWi            38236.000000                          Solar  2014\n",
       "17       entsoe            36330.000000                          Solar  2014\n",
       "18         BMWi               24.000000                     Geothermal  2014\n",
       "19       entsoe                0.000000                     Geothermal  2014\n",
       "20         BMWi                0.000000                         Marine  2014\n",
       "21       entsoe                0.000000                         Marine  2014\n",
       "22         BMWi             6867.000000             Biomass and biogas  2014\n",
       "23       entsoe             5880.000000             Biomass and biogas  2014\n",
       "24  German TSOs             7223.201684  Bioenergy and renewable waste  2015\n",
       "25  German TSOs               33.435000                     Geothermal  2015\n",
       "26  German TSOs             1563.121819                          Hydro  2015\n",
       "27  German TSOs              244.102000             Other fossil fuels  2015\n",
       "28  German TSOs            39337.659026                          Solar  2015\n",
       "29  German TSOs            44547.715513                           Wind  2015"
      ]
     },
     "execution_count": 34,
     "metadata": {},
     "output_type": "execute_result"
    }
   ],
   "source": [
    "# chose capacities of respective country and recent years\n",
    "idx_country = capacities[(capacities['country'] == plot_country) \n",
    "                        & (capacities['year'].isin(recent_years))].index\n",
    "\n",
    "# prepare data frame for plotting\n",
    "cap_country = capacities.loc[idx_country].drop(['country',\n",
    "                                                'capacity_definition'],\n",
    "                                               axis = 1)\n",
    "\n",
    "cap_country = cap_country.reset_index(drop = True)\n",
    "\n",
    "cap_country"
   ]
  },
  {
   "cell_type": "code",
   "execution_count": 35,
   "metadata": {
    "collapsed": false
   },
   "outputs": [
    {
     "data": {
      "text/html": [
       "\n",
       "\n",
       "    <div class=\"bk-root\">\n",
       "        <div class=\"plotdiv\" id=\"ecc94488-97ed-42d9-b4a9-0139746007d4\"></div>\n",
       "    </div>\n",
       "<script type=\"text/javascript\">\n",
       "  \n",
       "  (function(global) {\n",
       "    function now() {\n",
       "      return new Date();\n",
       "    }\n",
       "  \n",
       "    if (typeof (window._bokeh_onload_callbacks) === \"undefined\") {\n",
       "      window._bokeh_onload_callbacks = [];\n",
       "    }\n",
       "  \n",
       "    function run_callbacks() {\n",
       "      window._bokeh_onload_callbacks.forEach(function(callback) { callback() });\n",
       "      delete window._bokeh_onload_callbacks\n",
       "      console.info(\"Bokeh: all callbacks have finished\");\n",
       "    }\n",
       "  \n",
       "    function load_libs(js_urls, callback) {\n",
       "      window._bokeh_onload_callbacks.push(callback);\n",
       "      if (window._bokeh_is_loading > 0) {\n",
       "        console.log(\"Bokeh: BokehJS is being loaded, scheduling callback at\", now());\n",
       "        return null;\n",
       "      }\n",
       "      if (js_urls == null || js_urls.length === 0) {\n",
       "        run_callbacks();\n",
       "        return null;\n",
       "      }\n",
       "      console.log(\"Bokeh: BokehJS not loaded, scheduling load and callback at\", now());\n",
       "      window._bokeh_is_loading = js_urls.length;\n",
       "      for (var i = 0; i < js_urls.length; i++) {\n",
       "        var url = js_urls[i];\n",
       "        var s = document.createElement('script');\n",
       "        s.src = url;\n",
       "        s.async = false;\n",
       "        s.onreadystatechange = s.onload = function() {\n",
       "          window._bokeh_is_loading--;\n",
       "          if (window._bokeh_is_loading === 0) {\n",
       "            console.log(\"Bokeh: all BokehJS libraries loaded\");\n",
       "            run_callbacks()\n",
       "          }\n",
       "        };\n",
       "        s.onerror = function() {\n",
       "          console.warn(\"failed to load library \" + url);\n",
       "        };\n",
       "        console.log(\"Bokeh: injecting script tag for BokehJS library: \", url);\n",
       "        document.getElementsByTagName(\"head\")[0].appendChild(s);\n",
       "      }\n",
       "    };var element = document.getElementById(\"ecc94488-97ed-42d9-b4a9-0139746007d4\");\n",
       "    if (element == null) {\n",
       "      console.log(\"Bokeh: ERROR: autoload.js configured with elementid 'ecc94488-97ed-42d9-b4a9-0139746007d4' but no matching script tag was found. \")\n",
       "      return false;\n",
       "    }\n",
       "  \n",
       "    var js_urls = [];\n",
       "  \n",
       "    var inline_js = [\n",
       "      function(Bokeh) {\n",
       "        Bokeh.$(function() {\n",
       "            var docs_json = {\"c74223ab-65fe-4ea5-8c6b-5eaaad104298\":{\"roots\":{\"references\":[{\"attributes\":{\"axis_label\":\"Sum( Electrical_Capacity_Mw )\",\"formatter\":{\"id\":\"d31ad061-64f1-4f3e-82dc-a8b46b8c7a68\",\"type\":\"BasicTickFormatter\"},\"plot\":{\"id\":\"f0270c1f-6309-4f52-b646-a2a666ff1e2a\",\"subtype\":\"Chart\",\"type\":\"Plot\"},\"ticker\":{\"id\":\"2aa86169-5c11-468a-95a4-f9ca98ed2641\",\"type\":\"BasicTicker\"}},\"id\":\"dbbd1bf4-1937-4081-9bcf-ef3c9f9dd432\",\"type\":\"LinearAxis\"},{\"attributes\":{\"fill_alpha\":{\"field\":\"fill_alpha\"},\"fill_color\":{\"field\":\"color\"},\"height\":{\"field\":\"height\",\"units\":\"data\"},\"line_color\":{\"field\":\"line_color\"},\"width\":{\"field\":\"width\",\"units\":\"data\"},\"x\":{\"field\":\"x\"},\"y\":{\"field\":\"y\"}},\"id\":\"b712d1f1-3f78-4d1b-80de-fab95e65602a\",\"type\":\"Rect\"},{\"attributes\":{\"callback\":null,\"column_names\":[\"width\",\"x\",\"height\",\"color\",\"y\",\"line_alpha\",\"line_color\",\"fill_alpha\",\"label\"],\"data\":{\"chart_index\":[{\"data_source\":\"BMWi\",\"energy_source\":\"Wind\",\"year\":2014}],\"color\":[\"#f22c40\"],\"data_source\":[\"BMWi\"],\"energy_source\":[\"Wind\"],\"fill_alpha\":[0.8],\"height\":[39193.0],\"label\":[{\"data_source\":\"BMWi\",\"energy_source\":\"Wind\",\"year\":2014}],\"line_alpha\":[1.0],\"line_color\":[\"white\"],\"width\":[0.1702679845041569],\"x\":[\"Wind:0.5\"],\"y\":[19596.5],\"year\":[2014]}},\"id\":\"0e6273d4-37ce-4218-add2-dff29e42d55d\",\"type\":\"ColumnDataSource\"},{\"attributes\":{\"callback\":null,\"column_names\":[\"width\",\"x\",\"height\",\"color\",\"y\",\"line_alpha\",\"line_color\",\"fill_alpha\",\"label\"],\"data\":{\"chart_index\":[{\"data_source\":\"IRENA\",\"energy_source\":\"Bioenergy and renewable waste\",\"year\":2015}],\"color\":[\"#df5320\"],\"data_source\":[\"IRENA\"],\"energy_source\":[\"Bioenergy and renewable waste\"],\"fill_alpha\":[0.8],\"height\":[9132.0],\"label\":[{\"data_source\":\"IRENA\",\"energy_source\":\"Bioenergy and renewable waste\",\"year\":2015}],\"line_alpha\":[1.0],\"line_color\":[\"white\"],\"width\":[0.1702679845041569],\"x\":[\"Bioenergy and renewable waste:0.333333333333\"],\"y\":[4566.0],\"year\":[2015]}},\"id\":\"ac56e9a9-c525-4203-863d-088e1d669dd7\",\"type\":\"ColumnDataSource\"},{\"attributes\":{},\"id\":\"84547ca8-1580-45e0-9336-ca2ebb236cea\",\"type\":\"CategoricalTicker\"},{\"attributes\":{\"callback\":null,\"column_names\":[\"width\",\"x\",\"height\",\"color\",\"y\",\"line_alpha\",\"line_color\",\"fill_alpha\",\"label\"],\"data\":{\"chart_index\":[{\"data_source\":\"IRENA\",\"energy_source\":\"Hydro\",\"year\":2014}],\"color\":[\"#407ee7\"],\"data_source\":[\"IRENA\"],\"energy_source\":[\"Hydro\"],\"fill_alpha\":[0.8],\"height\":[11234.0],\"label\":[{\"data_source\":\"IRENA\",\"energy_source\":\"Hydro\",\"year\":2014}],\"line_alpha\":[1.0],\"line_color\":[\"white\"],\"width\":[0.1702679845041569],\"x\":[\"Hydro:0.166666666667\"],\"y\":[5617.0],\"year\":[2014]}},\"id\":\"757ee63a-2cd0-48f6-916e-e01facc2ac4d\",\"type\":\"ColumnDataSource\"},{\"attributes\":{\"fill_alpha\":{\"field\":\"fill_alpha\"},\"fill_color\":{\"field\":\"color\"},\"height\":{\"field\":\"height\",\"units\":\"data\"},\"line_color\":{\"field\":\"line_color\"},\"width\":{\"field\":\"width\",\"units\":\"data\"},\"x\":{\"field\":\"x\"},\"y\":{\"field\":\"y\"}},\"id\":\"38aa801e-4ec5-4a8a-a3ba-c64548161039\",\"type\":\"Rect\"},{\"attributes\":{\"fill_alpha\":{\"field\":\"fill_alpha\"},\"fill_color\":{\"field\":\"color\"},\"height\":{\"field\":\"height\",\"units\":\"data\"},\"line_color\":{\"field\":\"line_color\"},\"width\":{\"field\":\"width\",\"units\":\"data\"},\"x\":{\"field\":\"x\"},\"y\":{\"field\":\"y\"}},\"id\":\"0f8d5abe-c5f5-445e-bb5b-ebb8ea714650\",\"type\":\"Rect\"},{\"attributes\":{\"callback\":null,\"column_names\":[\"width\",\"x\",\"height\",\"color\",\"y\",\"line_alpha\",\"line_color\",\"fill_alpha\",\"label\"],\"data\":{\"chart_index\":[{\"data_source\":\"BMWi\",\"energy_source\":\"Marine\",\"year\":2014}],\"color\":[\"#f22c40\"],\"data_source\":[\"BMWi\"],\"energy_source\":[\"Marine\"],\"fill_alpha\":[0.8],\"height\":[0.0],\"label\":[{\"data_source\":\"BMWi\",\"energy_source\":\"Marine\",\"year\":2014}],\"line_alpha\":[1.0],\"line_color\":[\"white\"],\"width\":[0.1702679845041569],\"x\":[\"Marine:0.5\"],\"y\":[0.0],\"year\":[2014]}},\"id\":\"1f629d5b-88de-4d9e-a062-5f7b07d0ada8\",\"type\":\"ColumnDataSource\"},{\"attributes\":{\"callback\":null,\"column_names\":[\"width\",\"x\",\"height\",\"color\",\"y\",\"line_alpha\",\"line_color\",\"fill_alpha\",\"label\"],\"data\":{\"chart_index\":[{\"data_source\":\"IRENA\",\"energy_source\":\"Bioenergy and renewable waste\",\"year\":2014}],\"color\":[\"#407ee7\"],\"data_source\":[\"IRENA\"],\"energy_source\":[\"Bioenergy and renewable waste\"],\"fill_alpha\":[0.8],\"height\":[8977.0],\"label\":[{\"data_source\":\"IRENA\",\"energy_source\":\"Bioenergy and renewable waste\",\"year\":2014}],\"line_alpha\":[1.0],\"line_color\":[\"white\"],\"width\":[0.1702679845041569],\"x\":[\"Bioenergy and renewable waste:0.166666666667\"],\"y\":[4488.5],\"year\":[2014]}},\"id\":\"865ffbc6-8455-4b40-8410-7daac05b83b3\",\"type\":\"ColumnDataSource\"},{\"attributes\":{\"data_source\":{\"id\":\"8456afee-6e10-4a5b-80f2-23b776c12971\",\"type\":\"ColumnDataSource\"},\"glyph\":{\"id\":\"b712d1f1-3f78-4d1b-80de-fab95e65602a\",\"type\":\"Rect\"},\"hover_glyph\":null,\"nonselection_glyph\":null,\"selection_glyph\":null},\"id\":\"c57cf2c0-e725-4576-a472-63e11fc60986\",\"type\":\"GlyphRenderer\"},{\"attributes\":{},\"id\":\"f1b16e1f-6d39-45c9-a98e-72e88e285443\",\"type\":\"ToolEvents\"},{\"attributes\":{\"plot\":{\"id\":\"f0270c1f-6309-4f52-b646-a2a666ff1e2a\",\"subtype\":\"Chart\",\"type\":\"Plot\"}},\"id\":\"af09af6e-26c4-48d4-a897-a4ce5aa509ac\",\"type\":\"PanTool\"},{\"attributes\":{\"callback\":null,\"column_names\":[\"width\",\"x\",\"height\",\"color\",\"y\",\"line_alpha\",\"line_color\",\"fill_alpha\",\"label\"],\"data\":{\"chart_index\":[{\"data_source\":\"BMWi\",\"energy_source\":\"Geothermal\",\"year\":2014}],\"color\":[\"#f22c40\"],\"data_source\":[\"BMWi\"],\"energy_source\":[\"Geothermal\"],\"fill_alpha\":[0.8],\"height\":[24.0],\"label\":[{\"data_source\":\"BMWi\",\"energy_source\":\"Geothermal\",\"year\":2014}],\"line_alpha\":[1.0],\"line_color\":[\"white\"],\"width\":[0.1702679845041569],\"x\":[\"Geothermal:0.5\"],\"y\":[12.0],\"year\":[2014]}},\"id\":\"8456afee-6e10-4a5b-80f2-23b776c12971\",\"type\":\"ColumnDataSource\"},{\"attributes\":{\"data_source\":{\"id\":\"8912d6f5-816c-4a39-b5c9-34f8b0c8ac0b\",\"type\":\"ColumnDataSource\"},\"glyph\":{\"id\":\"38aa801e-4ec5-4a8a-a3ba-c64548161039\",\"type\":\"Rect\"},\"hover_glyph\":null,\"nonselection_glyph\":null,\"selection_glyph\":null},\"id\":\"59b4b7e6-46b4-4b6e-9c9e-0c3a8cd5ea86\",\"type\":\"GlyphRenderer\"},{\"attributes\":{\"fill_alpha\":{\"field\":\"fill_alpha\"},\"fill_color\":{\"field\":\"color\"},\"height\":{\"field\":\"height\",\"units\":\"data\"},\"line_color\":{\"field\":\"line_color\"},\"width\":{\"field\":\"width\",\"units\":\"data\"},\"x\":{\"field\":\"x\"},\"y\":{\"field\":\"y\"}},\"id\":\"a9a86dd7-d845-4626-a2ab-a59b09bf0edd\",\"type\":\"Rect\"},{\"attributes\":{\"fill_alpha\":{\"field\":\"fill_alpha\"},\"fill_color\":{\"field\":\"color\"},\"height\":{\"field\":\"height\",\"units\":\"data\"},\"line_color\":{\"field\":\"line_color\"},\"width\":{\"field\":\"width\",\"units\":\"data\"},\"x\":{\"field\":\"x\"},\"y\":{\"field\":\"y\"}},\"id\":\"7f70fe66-0e03-48b0-9c2f-a7a9b22910fc\",\"type\":\"Rect\"},{\"attributes\":{\"data_source\":{\"id\":\"98d6adfd-2b20-4660-812c-388b7cc75b9c\",\"type\":\"ColumnDataSource\"},\"glyph\":{\"id\":\"6e4c1af4-8f60-4b90-a404-4eb05574f3f0\",\"type\":\"Rect\"},\"hover_glyph\":null,\"nonselection_glyph\":null,\"selection_glyph\":null},\"id\":\"7268ee22-1fd5-4f18-9cf0-b2070e015a9b\",\"type\":\"GlyphRenderer\"},{\"attributes\":{\"data_source\":{\"id\":\"03ebb4b8-154b-41cc-bdbb-89806f1aab6f\",\"type\":\"ColumnDataSource\"},\"glyph\":{\"id\":\"92f974d2-faa7-4501-a9e4-fd58fd823354\",\"type\":\"Rect\"},\"hover_glyph\":null,\"nonselection_glyph\":null,\"selection_glyph\":null},\"id\":\"cb4a3dbd-2167-4ecb-8d82-9a6fe14b18c2\",\"type\":\"GlyphRenderer\"},{\"attributes\":{\"fill_alpha\":{\"field\":\"fill_alpha\"},\"fill_color\":{\"field\":\"color\"},\"height\":{\"field\":\"height\",\"units\":\"data\"},\"line_color\":{\"field\":\"line_color\"},\"width\":{\"field\":\"width\",\"units\":\"data\"},\"x\":{\"field\":\"x\"},\"y\":{\"field\":\"y\"}},\"id\":\"01fc59b8-7289-40d6-aa0b-d064c4de3eb9\",\"type\":\"Rect\"},{\"attributes\":{\"fill_alpha\":{\"field\":\"fill_alpha\"},\"fill_color\":{\"field\":\"color\"},\"height\":{\"field\":\"height\",\"units\":\"data\"},\"line_color\":{\"field\":\"line_color\"},\"width\":{\"field\":\"width\",\"units\":\"data\"},\"x\":{\"field\":\"x\"},\"y\":{\"field\":\"y\"}},\"id\":\"5dd58433-6732-4a9c-a882-aab692f677d4\",\"type\":\"Rect\"},{\"attributes\":{\"legends\":[[\"('IRENA', 2014)\",[{\"id\":\"d0ef43b5-968a-4e9b-9c6f-dbc3d9762715\",\"type\":\"GlyphRenderer\"}]],[\"('IRENA', 2015)\",[{\"id\":\"2b194ee5-6a2c-4d21-981a-a9cd6cbd9276\",\"type\":\"GlyphRenderer\"}]],[\"('BMWi', 2014)\",[{\"id\":\"8f78f81b-3c30-40cb-a74f-228716c09a17\",\"type\":\"GlyphRenderer\"}]],[\"('entsoe', 2014)\",[{\"id\":\"881de733-66d1-4e55-b2c2-2d200284ea81\",\"type\":\"GlyphRenderer\"}]],[\"('German TSOs', 2015)\",[{\"id\":\"d620f6a3-5bc5-468c-8f83-d16400915dd5\",\"type\":\"GlyphRenderer\"}]]],\"location\":\"top_left\",\"plot\":{\"id\":\"f0270c1f-6309-4f52-b646-a2a666ff1e2a\",\"subtype\":\"Chart\",\"type\":\"Plot\"}},\"id\":\"31e1607c-82e7-4d42-888d-691059c88ea3\",\"type\":\"Legend\"},{\"attributes\":{\"data_source\":{\"id\":\"7ebc4b30-b8ad-4536-bc9e-cdf0398e7d3e\",\"type\":\"ColumnDataSource\"},\"glyph\":{\"id\":\"01fc59b8-7289-40d6-aa0b-d064c4de3eb9\",\"type\":\"Rect\"},\"hover_glyph\":null,\"nonselection_glyph\":null,\"selection_glyph\":null},\"id\":\"5ce94aa4-009d-4d9e-9fbc-55aa2f4e7e47\",\"type\":\"GlyphRenderer\"},{\"attributes\":{\"data_source\":{\"id\":\"74d98ae1-dba0-40a5-9991-717e96f3fe23\",\"type\":\"ColumnDataSource\"},\"glyph\":{\"id\":\"a8ac4e82-7b59-469d-85f3-d7351a85c48e\",\"type\":\"Rect\"},\"hover_glyph\":null,\"nonselection_glyph\":null,\"selection_glyph\":null},\"id\":\"38856616-f664-44c8-9d8f-194458252e14\",\"type\":\"GlyphRenderer\"},{\"attributes\":{\"data_source\":{\"id\":\"41c38d6a-834f-40c2-85e4-e75e09458e84\",\"type\":\"ColumnDataSource\"},\"glyph\":{\"id\":\"ebbfb9ce-4e6e-41cb-b73b-cfba2ea5b7b9\",\"type\":\"Rect\"},\"hover_glyph\":null,\"nonselection_glyph\":null,\"selection_glyph\":null},\"id\":\"bdafc229-f4ed-43d5-9979-d4f35d874197\",\"type\":\"GlyphRenderer\"},{\"attributes\":{\"overlay\":{\"id\":\"eb686d92-9e65-48c6-b796-a51d771a804e\",\"type\":\"BoxAnnotation\"},\"plot\":{\"id\":\"f0270c1f-6309-4f52-b646-a2a666ff1e2a\",\"subtype\":\"Chart\",\"type\":\"Plot\"}},\"id\":\"f5a959cf-b06b-4192-9ef6-ba617ffd38c4\",\"type\":\"BoxZoomTool\"},{\"attributes\":{\"data_source\":{\"id\":\"0fc554ca-7fac-42b0-95f0-cfe05c2bef73\",\"type\":\"ColumnDataSource\"},\"glyph\":{\"id\":\"31e5683f-7fdf-4ddc-87f7-4211bdcf2c84\",\"type\":\"Rect\"},\"hover_glyph\":null,\"nonselection_glyph\":null,\"selection_glyph\":null},\"id\":\"242ba8f6-eccc-4db2-8378-a43c51931236\",\"type\":\"GlyphRenderer\"},{\"attributes\":{\"data_source\":{\"id\":\"617ce1bb-e5c2-437e-9b64-1a1dc62c5466\",\"type\":\"ColumnDataSource\"},\"glyph\":{\"id\":\"db1b5f31-9c15-468a-bc28-e805b7081ecd\",\"type\":\"Rect\"},\"hover_glyph\":null,\"nonselection_glyph\":null,\"selection_glyph\":null},\"id\":\"bd617335-953a-4900-94ca-3368f2a3622f\",\"type\":\"GlyphRenderer\"},{\"attributes\":{\"fill_alpha\":{\"field\":\"fill_alpha\"},\"fill_color\":{\"field\":\"color\"},\"height\":{\"field\":\"height\",\"units\":\"data\"},\"line_color\":{\"field\":\"line_color\"},\"width\":{\"field\":\"width\",\"units\":\"data\"},\"x\":{\"field\":\"x\"},\"y\":{\"field\":\"y\"}},\"id\":\"9739883c-511f-430b-a6d1-002bd481e81a\",\"type\":\"Rect\"},{\"attributes\":{\"data_source\":{\"id\":\"0e6273d4-37ce-4218-add2-dff29e42d55d\",\"type\":\"ColumnDataSource\"},\"glyph\":{\"id\":\"ac80ab36-79a9-4cda-aa6e-5e942920cab2\",\"type\":\"Rect\"},\"hover_glyph\":null,\"nonselection_glyph\":null,\"selection_glyph\":null},\"id\":\"f1fb1ac5-3654-4793-b2fa-bdd6733f36fa\",\"type\":\"GlyphRenderer\"},{\"attributes\":{\"fill_alpha\":{\"field\":\"fill_alpha\"},\"fill_color\":{\"field\":\"color\"},\"height\":{\"field\":\"height\",\"units\":\"data\"},\"line_color\":{\"field\":\"line_color\"},\"width\":{\"field\":\"width\",\"units\":\"data\"},\"x\":{\"field\":\"x\"},\"y\":{\"field\":\"y\"}},\"id\":\"f7f3b876-c3b3-479d-91c0-a738647fd7fd\",\"type\":\"Rect\"},{\"attributes\":{\"callback\":null,\"column_names\":[\"width\",\"x\",\"height\",\"color\",\"y\",\"line_alpha\",\"line_color\",\"fill_alpha\",\"label\"],\"data\":{\"chart_index\":[{\"data_source\":\"German TSOs\",\"energy_source\":\"Wind\",\"year\":2015}],\"color\":[\"#5ab738\"],\"data_source\":[\"German TSOs\"],\"energy_source\":[\"Wind\"],\"fill_alpha\":[0.8],\"height\":[44547.71551300006],\"label\":[{\"data_source\":\"German TSOs\",\"energy_source\":\"Wind\",\"year\":2015}],\"line_alpha\":[1.0],\"line_color\":[\"white\"],\"width\":[0.1702679845041569],\"x\":[\"Wind:0.833333333333\"],\"y\":[22273.85775650003],\"year\":[2015]}},\"id\":\"f2f9d93e-fcd4-4c32-84f3-1976430ada4b\",\"type\":\"ColumnDataSource\"},{\"attributes\":{\"data_source\":{\"id\":\"757ee63a-2cd0-48f6-916e-e01facc2ac4d\",\"type\":\"ColumnDataSource\"},\"glyph\":{\"id\":\"396557c9-249e-4b40-96d3-ed15fde27ed8\",\"type\":\"Rect\"},\"hover_glyph\":null,\"nonselection_glyph\":null,\"selection_glyph\":null},\"id\":\"1d932560-e7f5-4ee0-82c9-cc847d9a6585\",\"type\":\"GlyphRenderer\"},{\"attributes\":{\"fill_alpha\":{\"field\":\"fill_alpha\"},\"fill_color\":{\"field\":\"color\"},\"height\":{\"field\":\"height\",\"units\":\"data\"},\"line_color\":{\"field\":\"line_color\"},\"width\":{\"field\":\"width\",\"units\":\"data\"},\"x\":{\"field\":\"x\"},\"y\":{\"field\":\"y\"}},\"id\":\"c631fc23-8a1e-40d6-b93d-e941722056bd\",\"type\":\"Rect\"},{\"attributes\":{\"callback\":null,\"column_names\":[\"width\",\"x\",\"height\",\"color\",\"y\",\"line_alpha\",\"line_color\",\"fill_alpha\",\"label\"],\"data\":{\"chart_index\":[{\"data_source\":\"IRENA\",\"energy_source\":\"Hydro\",\"year\":2015}],\"color\":[\"#df5320\"],\"data_source\":[\"IRENA\"],\"energy_source\":[\"Hydro\"],\"fill_alpha\":[0.8],\"height\":[11234.0],\"label\":[{\"data_source\":\"IRENA\",\"energy_source\":\"Hydro\",\"year\":2015}],\"line_alpha\":[1.0],\"line_color\":[\"white\"],\"width\":[0.1702679845041569],\"x\":[\"Hydro:0.333333333333\"],\"y\":[5617.0],\"year\":[2015]}},\"id\":\"74d98ae1-dba0-40a5-9991-717e96f3fe23\",\"type\":\"ColumnDataSource\"},{\"attributes\":{\"callback\":null,\"column_names\":[\"width\",\"x\",\"height\",\"color\",\"y\",\"line_alpha\",\"line_color\",\"fill_alpha\",\"label\"],\"data\":{\"chart_index\":[{\"data_source\":\"entsoe\",\"energy_source\":\"Marine\",\"year\":2014}],\"color\":[\"#00ad9c\"],\"data_source\":[\"entsoe\"],\"energy_source\":[\"Marine\"],\"fill_alpha\":[0.8],\"height\":[0.0],\"label\":[{\"data_source\":\"entsoe\",\"energy_source\":\"Marine\",\"year\":2014}],\"line_alpha\":[1.0],\"line_color\":[\"white\"],\"width\":[0.1702679845041569],\"x\":[\"Marine:0.666666666667\"],\"y\":[0.0],\"year\":[2014]}},\"id\":\"402b22f7-875c-49d6-bad4-5908689f3de8\",\"type\":\"ColumnDataSource\"},{\"attributes\":{\"fill_alpha\":{\"field\":\"fill_alpha\"},\"fill_color\":{\"field\":\"color\"},\"height\":{\"field\":\"height\",\"units\":\"data\"},\"line_color\":{\"field\":\"line_color\"},\"width\":{\"field\":\"width\",\"units\":\"data\"},\"x\":{\"field\":\"x\"},\"y\":{\"field\":\"y\"}},\"id\":\"ebbfb9ce-4e6e-41cb-b73b-cfba2ea5b7b9\",\"type\":\"Rect\"},{\"attributes\":{\"callback\":null,\"column_names\":[\"width\",\"x\",\"height\",\"color\",\"y\",\"line_alpha\",\"line_color\",\"fill_alpha\",\"label\"],\"data\":{\"chart_index\":[{\"data_source\":\"IRENA\",\"energy_source\":\"Solar\",\"year\":2014}],\"color\":[\"#407ee7\"],\"data_source\":[\"IRENA\"],\"energy_source\":[\"Solar\"],\"fill_alpha\":[0.8],\"height\":[38235.5],\"label\":[{\"data_source\":\"IRENA\",\"energy_source\":\"Solar\",\"year\":2014}],\"line_alpha\":[1.0],\"line_color\":[\"white\"],\"width\":[0.1702679845041569],\"x\":[\"Solar:0.166666666667\"],\"y\":[19117.75],\"year\":[2014]}},\"id\":\"03ebb4b8-154b-41cc-bdbb-89806f1aab6f\",\"type\":\"ColumnDataSource\"},{\"attributes\":{\"fill_alpha\":{\"field\":\"fill_alpha\"},\"fill_color\":{\"field\":\"color\"},\"height\":{\"field\":\"height\",\"units\":\"data\"},\"line_color\":{\"field\":\"line_color\"},\"width\":{\"field\":\"width\",\"units\":\"data\"},\"x\":{\"field\":\"x\"},\"y\":{\"field\":\"y\"}},\"id\":\"31e5683f-7fdf-4ddc-87f7-4211bdcf2c84\",\"type\":\"Rect\"},{\"attributes\":{\"callback\":null,\"column_names\":[\"width\",\"x\",\"height\",\"color\",\"y\",\"line_alpha\",\"line_color\",\"fill_alpha\",\"label\"],\"data\":{\"chart_index\":[{\"data_source\":\"German TSOs\",\"energy_source\":\"Bioenergy and renewable waste\",\"year\":2015}],\"color\":[\"#5ab738\"],\"data_source\":[\"German TSOs\"],\"energy_source\":[\"Bioenergy and renewable waste\"],\"fill_alpha\":[0.8],\"height\":[7223.201684000023],\"label\":[{\"data_source\":\"German TSOs\",\"energy_source\":\"Bioenergy and renewable waste\",\"year\":2015}],\"line_alpha\":[1.0],\"line_color\":[\"white\"],\"width\":[0.1702679845041569],\"x\":[\"Bioenergy and renewable waste:0.833333333333\"],\"y\":[3611.6008420000117],\"year\":[2015]}},\"id\":\"378cd235-18e2-4904-9be4-88597f6d7440\",\"type\":\"ColumnDataSource\"},{\"attributes\":{\"callback\":null,\"column_names\":[\"width\",\"x\",\"height\",\"color\",\"y\",\"line_alpha\",\"line_color\",\"fill_alpha\",\"label\"],\"data\":{\"chart_index\":[{\"data_source\":\"BMWi\",\"energy_source\":\"Biomass and biogas\",\"year\":2014}],\"color\":[\"#f22c40\"],\"data_source\":[\"BMWi\"],\"energy_source\":[\"Biomass and biogas\"],\"fill_alpha\":[0.8],\"height\":[6867.0],\"label\":[{\"data_source\":\"BMWi\",\"energy_source\":\"Biomass and biogas\",\"year\":2014}],\"line_alpha\":[1.0],\"line_color\":[\"white\"],\"width\":[0.1702679845041569],\"x\":[\"Biomass and biogas:0.5\"],\"y\":[3433.5],\"year\":[2014]}},\"id\":\"6e1bdba9-7c29-4991-9734-fa80beeb26bb\",\"type\":\"ColumnDataSource\"},{\"attributes\":{\"fill_alpha\":{\"field\":\"fill_alpha\"},\"fill_color\":{\"field\":\"color\"},\"height\":{\"field\":\"height\",\"units\":\"data\"},\"line_color\":{\"field\":\"line_color\"},\"width\":{\"field\":\"width\",\"units\":\"data\"},\"x\":{\"field\":\"x\"},\"y\":{\"field\":\"y\"}},\"id\":\"ac80ab36-79a9-4cda-aa6e-5e942920cab2\",\"type\":\"Rect\"},{\"attributes\":{\"data_source\":{\"id\":\"402b22f7-875c-49d6-bad4-5908689f3de8\",\"type\":\"ColumnDataSource\"},\"glyph\":{\"id\":\"ad8154ba-54a6-40d6-9823-1a47d1aff257\",\"type\":\"Rect\"},\"hover_glyph\":null,\"nonselection_glyph\":null,\"selection_glyph\":null},\"id\":\"cd6860e5-8d77-4ff0-8045-cacbd0403241\",\"type\":\"GlyphRenderer\"},{\"attributes\":{\"fill_alpha\":{\"field\":\"fill_alpha\"},\"fill_color\":{\"field\":\"color\"},\"height\":{\"field\":\"height\",\"units\":\"data\"},\"line_color\":{\"field\":\"line_color\"},\"width\":{\"field\":\"width\",\"units\":\"data\"},\"x\":{\"field\":\"x\"},\"y\":{\"field\":\"y\"}},\"id\":\"3deeb5f5-7a4c-437d-97ed-17d1fcb62c7a\",\"type\":\"Rect\"},{\"attributes\":{\"fill_alpha\":{\"field\":\"fill_alpha\"},\"fill_color\":{\"field\":\"color\"},\"height\":{\"field\":\"height\",\"units\":\"data\"},\"line_color\":{\"field\":\"line_color\"},\"width\":{\"field\":\"width\",\"units\":\"data\"},\"x\":{\"field\":\"x\"},\"y\":{\"field\":\"y\"}},\"id\":\"6e4c1af4-8f60-4b90-a404-4eb05574f3f0\",\"type\":\"Rect\"},{\"attributes\":{\"plot\":{\"id\":\"f0270c1f-6309-4f52-b646-a2a666ff1e2a\",\"subtype\":\"Chart\",\"type\":\"Plot\"}},\"id\":\"321fbdc7-c966-47f9-b591-cc3d432c233c\",\"type\":\"SaveTool\"},{\"attributes\":{\"fill_alpha\":{\"field\":\"fill_alpha\"},\"fill_color\":{\"field\":\"color\"},\"height\":{\"field\":\"height\",\"units\":\"data\"},\"line_color\":{\"field\":\"line_color\"},\"width\":{\"field\":\"width\",\"units\":\"data\"},\"x\":{\"field\":\"x\"},\"y\":{\"field\":\"y\"}},\"id\":\"41d15393-c84b-4408-bcba-2bf609e6ce0a\",\"type\":\"Rect\"},{\"attributes\":{\"data_source\":{\"id\":\"99494101-8408-4b17-b650-af8bba33e214\",\"type\":\"ColumnDataSource\"},\"glyph\":{\"id\":\"0c55d8df-7a61-4cfb-ac87-26c86e2156e9\",\"type\":\"Rect\"},\"hover_glyph\":null,\"nonselection_glyph\":null,\"selection_glyph\":null},\"id\":\"d25559a0-9f63-40df-8a4a-92d3d7d25d46\",\"type\":\"GlyphRenderer\"},{\"attributes\":{\"active_drag\":\"auto\",\"active_scroll\":\"auto\",\"active_tap\":\"auto\",\"tools\":[{\"id\":\"af09af6e-26c4-48d4-a897-a4ce5aa509ac\",\"type\":\"PanTool\"},{\"id\":\"cfa9fa82-4f5d-4c40-9b1e-c0fa85c33704\",\"type\":\"WheelZoomTool\"},{\"id\":\"f5a959cf-b06b-4192-9ef6-ba617ffd38c4\",\"type\":\"BoxZoomTool\"},{\"id\":\"321fbdc7-c966-47f9-b591-cc3d432c233c\",\"type\":\"SaveTool\"},{\"id\":\"938372d4-46b6-4909-a35a-5aba761c4630\",\"type\":\"ResetTool\"},{\"id\":\"03d86b87-aa6a-4e3d-b861-d3a20240f575\",\"type\":\"HelpTool\"}]},\"id\":\"b0fca4b9-7335-456a-bbef-f38bbcb15217\",\"type\":\"Toolbar\"},{\"attributes\":{\"plot\":{\"id\":\"f0270c1f-6309-4f52-b646-a2a666ff1e2a\",\"subtype\":\"Chart\",\"type\":\"Plot\"}},\"id\":\"938372d4-46b6-4909-a35a-5aba761c4630\",\"type\":\"ResetTool\"},{\"attributes\":{\"data_source\":{\"id\":\"378cd235-18e2-4904-9be4-88597f6d7440\",\"type\":\"ColumnDataSource\"},\"glyph\":{\"id\":\"c631fc23-8a1e-40d6-b93d-e941722056bd\",\"type\":\"Rect\"},\"hover_glyph\":null,\"nonselection_glyph\":null,\"selection_glyph\":null},\"id\":\"d620f6a3-5bc5-468c-8f83-d16400915dd5\",\"type\":\"GlyphRenderer\"},{\"attributes\":{\"data_source\":{\"id\":\"35271cdb-51f0-445f-b037-5e3a78edf025\",\"type\":\"ColumnDataSource\"},\"glyph\":{\"id\":\"5dd58433-6732-4a9c-a882-aab692f677d4\",\"type\":\"Rect\"},\"hover_glyph\":null,\"nonselection_glyph\":null,\"selection_glyph\":null},\"id\":\"8f78f81b-3c30-40cb-a74f-228716c09a17\",\"type\":\"GlyphRenderer\"},{\"attributes\":{\"plot\":{\"id\":\"f0270c1f-6309-4f52-b646-a2a666ff1e2a\",\"subtype\":\"Chart\",\"type\":\"Plot\"}},\"id\":\"03d86b87-aa6a-4e3d-b861-d3a20240f575\",\"type\":\"HelpTool\"},{\"attributes\":{\"dimension\":1,\"plot\":{\"id\":\"f0270c1f-6309-4f52-b646-a2a666ff1e2a\",\"subtype\":\"Chart\",\"type\":\"Plot\"},\"ticker\":{\"id\":\"2aa86169-5c11-468a-95a4-f9ca98ed2641\",\"type\":\"BasicTicker\"}},\"id\":\"0e3d9b1e-faee-4729-95d0-2a34eb74d62d\",\"type\":\"Grid\"},{\"attributes\":{\"callback\":null,\"factors\":[\"Bioenergy and renewable waste\",\"Biomass and biogas\",\"Geothermal\",\"Hydro\",\"Marine\",\"Other fossil fuels\",\"Solar\",\"Wind\"]},\"id\":\"1fe46aa3-320b-4b92-8766-e4427172e0bd\",\"type\":\"FactorRange\"},{\"attributes\":{},\"id\":\"5e9ccef1-3759-42e0-b969-95fde84142e0\",\"type\":\"CategoricalTickFormatter\"},{\"attributes\":{\"fill_alpha\":{\"field\":\"fill_alpha\"},\"fill_color\":{\"field\":\"color\"},\"height\":{\"field\":\"height\",\"units\":\"data\"},\"line_color\":{\"field\":\"line_color\"},\"width\":{\"field\":\"width\",\"units\":\"data\"},\"x\":{\"field\":\"x\"},\"y\":{\"field\":\"y\"}},\"id\":\"db1b5f31-9c15-468a-bc28-e805b7081ecd\",\"type\":\"Rect\"},{\"attributes\":{\"callback\":null,\"column_names\":[\"width\",\"x\",\"height\",\"color\",\"y\",\"line_alpha\",\"line_color\",\"fill_alpha\",\"label\"],\"data\":{\"chart_index\":[{\"data_source\":\"entsoe\",\"energy_source\":\"Biomass and biogas\",\"year\":2014}],\"color\":[\"#00ad9c\"],\"data_source\":[\"entsoe\"],\"energy_source\":[\"Biomass and biogas\"],\"fill_alpha\":[0.8],\"height\":[5880.0],\"label\":[{\"data_source\":\"entsoe\",\"energy_source\":\"Biomass and biogas\",\"year\":2014}],\"line_alpha\":[1.0],\"line_color\":[\"white\"],\"width\":[0.1702679845041569],\"x\":[\"Biomass and biogas:0.666666666667\"],\"y\":[2940.0],\"year\":[2014]}},\"id\":\"0fc554ca-7fac-42b0-95f0-cfe05c2bef73\",\"type\":\"ColumnDataSource\"},{\"attributes\":{\"data_source\":{\"id\":\"d552bc3c-f97f-40c7-b1db-67be60674af9\",\"type\":\"ColumnDataSource\"},\"glyph\":{\"id\":\"7f70fe66-0e03-48b0-9c2f-a7a9b22910fc\",\"type\":\"Rect\"},\"hover_glyph\":null,\"nonselection_glyph\":null,\"selection_glyph\":null},\"id\":\"1b0a3a30-48b7-4a19-a56e-c4dfb9cf3c3c\",\"type\":\"GlyphRenderer\"},{\"attributes\":{\"data_source\":{\"id\":\"6e1bdba9-7c29-4991-9734-fa80beeb26bb\",\"type\":\"ColumnDataSource\"},\"glyph\":{\"id\":\"b48a41ad-4a8c-41b4-9032-faed8c98020e\",\"type\":\"Rect\"},\"hover_glyph\":null,\"nonselection_glyph\":null,\"selection_glyph\":null},\"id\":\"cf978ede-07af-4eaa-84c2-0a1f9ff9ea1d\",\"type\":\"GlyphRenderer\"},{\"attributes\":{\"fill_alpha\":{\"field\":\"fill_alpha\"},\"fill_color\":{\"field\":\"color\"},\"height\":{\"field\":\"height\",\"units\":\"data\"},\"line_color\":{\"field\":\"line_color\"},\"width\":{\"field\":\"width\",\"units\":\"data\"},\"x\":{\"field\":\"x\"},\"y\":{\"field\":\"y\"}},\"id\":\"8e565df4-b091-4f55-bca4-0cb9163b716f\",\"type\":\"Rect\"},{\"attributes\":{\"axis_label\":\"Energy_Source\",\"formatter\":{\"id\":\"5e9ccef1-3759-42e0-b969-95fde84142e0\",\"type\":\"CategoricalTickFormatter\"},\"major_label_orientation\":0.7853981633974483,\"plot\":{\"id\":\"f0270c1f-6309-4f52-b646-a2a666ff1e2a\",\"subtype\":\"Chart\",\"type\":\"Plot\"},\"ticker\":{\"id\":\"84547ca8-1580-45e0-9336-ca2ebb236cea\",\"type\":\"CategoricalTicker\"}},\"id\":\"9946e1b2-8d4f-488e-8932-4637784378b4\",\"type\":\"CategoricalAxis\"},{\"attributes\":{\"data_source\":{\"id\":\"1f629d5b-88de-4d9e-a062-5f7b07d0ada8\",\"type\":\"ColumnDataSource\"},\"glyph\":{\"id\":\"3deeb5f5-7a4c-437d-97ed-17d1fcb62c7a\",\"type\":\"Rect\"},\"hover_glyph\":null,\"nonselection_glyph\":null,\"selection_glyph\":null},\"id\":\"f1a9bee4-3452-4437-b4b0-16470820c3a0\",\"type\":\"GlyphRenderer\"},{\"attributes\":{\"callback\":null,\"column_names\":[\"width\",\"x\",\"height\",\"color\",\"y\",\"line_alpha\",\"line_color\",\"fill_alpha\",\"label\"],\"data\":{\"chart_index\":[{\"data_source\":\"IRENA\",\"energy_source\":\"Wind\",\"year\":2014}],\"color\":[\"#407ee7\"],\"data_source\":[\"IRENA\"],\"energy_source\":[\"Wind\"],\"fill_alpha\":[0.8],\"height\":[39193.0],\"label\":[{\"data_source\":\"IRENA\",\"energy_source\":\"Wind\",\"year\":2014}],\"line_alpha\":[1.0],\"line_color\":[\"white\"],\"width\":[0.1702679845041569],\"x\":[\"Wind:0.166666666667\"],\"y\":[19596.5],\"year\":[2014]}},\"id\":\"7768c04d-44e6-46a9-9e65-96fab4932932\",\"type\":\"ColumnDataSource\"},{\"attributes\":{\"below\":[{\"id\":\"9946e1b2-8d4f-488e-8932-4637784378b4\",\"type\":\"CategoricalAxis\"}],\"left\":[{\"id\":\"dbbd1bf4-1937-4081-9bcf-ef3c9f9dd432\",\"type\":\"LinearAxis\"}],\"renderers\":[{\"id\":\"eb686d92-9e65-48c6-b796-a51d771a804e\",\"type\":\"BoxAnnotation\"},{\"id\":\"d0ef43b5-968a-4e9b-9c6f-dbc3d9762715\",\"type\":\"GlyphRenderer\"},{\"id\":\"2b194ee5-6a2c-4d21-981a-a9cd6cbd9276\",\"type\":\"GlyphRenderer\"},{\"id\":\"0b74af09-0d64-4b42-9eb4-22b695defe7d\",\"type\":\"GlyphRenderer\"},{\"id\":\"d25559a0-9f63-40df-8a4a-92d3d7d25d46\",\"type\":\"GlyphRenderer\"},{\"id\":\"1d932560-e7f5-4ee0-82c9-cc847d9a6585\",\"type\":\"GlyphRenderer\"},{\"id\":\"38856616-f664-44c8-9d8f-194458252e14\",\"type\":\"GlyphRenderer\"},{\"id\":\"cb4a3dbd-2167-4ecb-8d82-9a6fe14b18c2\",\"type\":\"GlyphRenderer\"},{\"id\":\"59b4b7e6-46b4-4b6e-9c9e-0c3a8cd5ea86\",\"type\":\"GlyphRenderer\"},{\"id\":\"2c0d7482-41db-4901-9461-f4d140b4f497\",\"type\":\"GlyphRenderer\"},{\"id\":\"1b0a3a30-48b7-4a19-a56e-c4dfb9cf3c3c\",\"type\":\"GlyphRenderer\"},{\"id\":\"8f78f81b-3c30-40cb-a74f-228716c09a17\",\"type\":\"GlyphRenderer\"},{\"id\":\"881de733-66d1-4e55-b2c2-2d200284ea81\",\"type\":\"GlyphRenderer\"},{\"id\":\"f1fb1ac5-3654-4793-b2fa-bdd6733f36fa\",\"type\":\"GlyphRenderer\"},{\"id\":\"e06845ea-a07b-4264-a99d-beb63b395e1b\",\"type\":\"GlyphRenderer\"},{\"id\":\"de72c71b-9398-4f0d-9294-3f66ecf920c9\",\"type\":\"GlyphRenderer\"},{\"id\":\"ed2569ad-1560-44d1-bcdc-6c70c5ac64ec\",\"type\":\"GlyphRenderer\"},{\"id\":\"c57cf2c0-e725-4576-a472-63e11fc60986\",\"type\":\"GlyphRenderer\"},{\"id\":\"7268ee22-1fd5-4f18-9cf0-b2070e015a9b\",\"type\":\"GlyphRenderer\"},{\"id\":\"f1a9bee4-3452-4437-b4b0-16470820c3a0\",\"type\":\"GlyphRenderer\"},{\"id\":\"cd6860e5-8d77-4ff0-8045-cacbd0403241\",\"type\":\"GlyphRenderer\"},{\"id\":\"cf978ede-07af-4eaa-84c2-0a1f9ff9ea1d\",\"type\":\"GlyphRenderer\"},{\"id\":\"242ba8f6-eccc-4db2-8378-a43c51931236\",\"type\":\"GlyphRenderer\"},{\"id\":\"d620f6a3-5bc5-468c-8f83-d16400915dd5\",\"type\":\"GlyphRenderer\"},{\"id\":\"4ee2ea8e-e7f5-4470-ba71-42d1e448e34b\",\"type\":\"GlyphRenderer\"},{\"id\":\"bdafc229-f4ed-43d5-9979-d4f35d874197\",\"type\":\"GlyphRenderer\"},{\"id\":\"bd617335-953a-4900-94ca-3368f2a3622f\",\"type\":\"GlyphRenderer\"},{\"id\":\"5ce94aa4-009d-4d9e-9fbc-55aa2f4e7e47\",\"type\":\"GlyphRenderer\"},{\"id\":\"2c7bcf90-e393-44f9-aaa3-3cd36e3471f7\",\"type\":\"GlyphRenderer\"},{\"id\":\"31e1607c-82e7-4d42-888d-691059c88ea3\",\"type\":\"Legend\"},{\"id\":\"9946e1b2-8d4f-488e-8932-4637784378b4\",\"type\":\"CategoricalAxis\"},{\"id\":\"dbbd1bf4-1937-4081-9bcf-ef3c9f9dd432\",\"type\":\"LinearAxis\"},{\"id\":\"0e3d9b1e-faee-4729-95d0-2a34eb74d62d\",\"type\":\"Grid\"}],\"title\":{\"id\":\"e48f4351-b36a-42db-a09f-6ca38f416511\",\"type\":\"Title\"},\"tool_events\":{\"id\":\"f1b16e1f-6d39-45c9-a98e-72e88e285443\",\"type\":\"ToolEvents\"},\"toolbar\":{\"id\":\"b0fca4b9-7335-456a-bbef-f38bbcb15217\",\"type\":\"Toolbar\"},\"x_mapper_type\":\"auto\",\"x_range\":{\"id\":\"1fe46aa3-320b-4b92-8766-e4427172e0bd\",\"type\":\"FactorRange\"},\"y_mapper_type\":\"auto\",\"y_range\":{\"id\":\"ed290fbc-f01f-40dd-b3bf-9eda1087b21f\",\"type\":\"Range1d\"}},\"id\":\"f0270c1f-6309-4f52-b646-a2a666ff1e2a\",\"subtype\":\"Chart\",\"type\":\"Plot\"},{\"attributes\":{},\"id\":\"2aa86169-5c11-468a-95a4-f9ca98ed2641\",\"type\":\"BasicTicker\"},{\"attributes\":{\"callback\":null,\"column_names\":[\"width\",\"x\",\"height\",\"color\",\"y\",\"line_alpha\",\"line_color\",\"fill_alpha\",\"label\"],\"data\":{\"chart_index\":[{\"data_source\":\"entsoe\",\"energy_source\":\"Geothermal\",\"year\":2014}],\"color\":[\"#00ad9c\"],\"data_source\":[\"entsoe\"],\"energy_source\":[\"Geothermal\"],\"fill_alpha\":[0.8],\"height\":[0.0],\"label\":[{\"data_source\":\"entsoe\",\"energy_source\":\"Geothermal\",\"year\":2014}],\"line_alpha\":[1.0],\"line_color\":[\"white\"],\"width\":[0.1702679845041569],\"x\":[\"Geothermal:0.666666666667\"],\"y\":[0.0],\"year\":[2014]}},\"id\":\"98d6adfd-2b20-4660-812c-388b7cc75b9c\",\"type\":\"ColumnDataSource\"},{\"attributes\":{\"callback\":null,\"column_names\":[\"width\",\"x\",\"height\",\"color\",\"y\",\"line_alpha\",\"line_color\",\"fill_alpha\",\"label\"],\"data\":{\"chart_index\":[{\"data_source\":\"IRENA\",\"energy_source\":\"Solar\",\"year\":2015}],\"color\":[\"#df5320\"],\"data_source\":[\"IRENA\"],\"energy_source\":[\"Solar\"],\"fill_alpha\":[0.8],\"height\":[39635.5],\"label\":[{\"data_source\":\"IRENA\",\"energy_source\":\"Solar\",\"year\":2015}],\"line_alpha\":[1.0],\"line_color\":[\"white\"],\"width\":[0.1702679845041569],\"x\":[\"Solar:0.333333333333\"],\"y\":[19817.75],\"year\":[2015]}},\"id\":\"8912d6f5-816c-4a39-b5c9-34f8b0c8ac0b\",\"type\":\"ColumnDataSource\"},{\"attributes\":{\"callback\":null,\"column_names\":[\"width\",\"x\",\"height\",\"color\",\"y\",\"line_alpha\",\"line_color\",\"fill_alpha\",\"label\"],\"data\":{\"chart_index\":[{\"data_source\":\"BMWi\",\"energy_source\":\"Hydro\",\"year\":2014}],\"color\":[\"#f22c40\"],\"data_source\":[\"BMWi\"],\"energy_source\":[\"Hydro\"],\"fill_alpha\":[0.8],\"height\":[20639.0],\"label\":[{\"data_source\":\"BMWi\",\"energy_source\":\"Hydro\",\"year\":2014}],\"line_alpha\":[1.0],\"line_color\":[\"white\"],\"width\":[0.1702679845041569],\"x\":[\"Hydro:0.5\"],\"y\":[10319.5],\"year\":[2014]}},\"id\":\"35271cdb-51f0-445f-b037-5e3a78edf025\",\"type\":\"ColumnDataSource\"},{\"attributes\":{\"bottom_units\":\"screen\",\"fill_alpha\":{\"value\":0.5},\"fill_color\":{\"value\":\"lightgrey\"},\"left_units\":\"screen\",\"level\":\"overlay\",\"line_alpha\":{\"value\":1.0},\"line_color\":{\"value\":\"black\"},\"line_dash\":[4,4],\"line_width\":{\"value\":2},\"plot\":null,\"render_mode\":\"css\",\"right_units\":\"screen\",\"top_units\":\"screen\"},\"id\":\"eb686d92-9e65-48c6-b796-a51d771a804e\",\"type\":\"BoxAnnotation\"},{\"attributes\":{\"callback\":null,\"column_names\":[\"width\",\"x\",\"height\",\"color\",\"y\",\"line_alpha\",\"line_color\",\"fill_alpha\",\"label\"],\"data\":{\"chart_index\":[{\"data_source\":\"German TSOs\",\"energy_source\":\"Other fossil fuels\",\"year\":2015}],\"color\":[\"#5ab738\"],\"data_source\":[\"German TSOs\"],\"energy_source\":[\"Other fossil fuels\"],\"fill_alpha\":[0.8],\"height\":[244.102],\"label\":[{\"data_source\":\"German TSOs\",\"energy_source\":\"Other fossil fuels\",\"year\":2015}],\"line_alpha\":[1.0],\"line_color\":[\"white\"],\"width\":[0.1702679845041569],\"x\":[\"Other fossil fuels:0.833333333333\"],\"y\":[122.051],\"year\":[2015]}},\"id\":\"617ce1bb-e5c2-437e-9b64-1a1dc62c5466\",\"type\":\"ColumnDataSource\"},{\"attributes\":{\"callback\":null,\"column_names\":[\"width\",\"x\",\"height\",\"color\",\"y\",\"line_alpha\",\"line_color\",\"fill_alpha\",\"label\"],\"data\":{\"chart_index\":[{\"data_source\":\"entsoe\",\"energy_source\":\"Solar\",\"year\":2014}],\"color\":[\"#00ad9c\"],\"data_source\":[\"entsoe\"],\"energy_source\":[\"Solar\"],\"fill_alpha\":[0.8],\"height\":[36330.0],\"label\":[{\"data_source\":\"entsoe\",\"energy_source\":\"Solar\",\"year\":2014}],\"line_alpha\":[1.0],\"line_color\":[\"white\"],\"width\":[0.1702679845041569],\"x\":[\"Solar:0.666666666667\"],\"y\":[18165.0],\"year\":[2014]}},\"id\":\"41ebcbd1-5b3a-497b-b775-c1d25a92b276\",\"type\":\"ColumnDataSource\"},{\"attributes\":{\"fill_alpha\":{\"field\":\"fill_alpha\"},\"fill_color\":{\"field\":\"color\"},\"height\":{\"field\":\"height\",\"units\":\"data\"},\"line_color\":{\"field\":\"line_color\"},\"width\":{\"field\":\"width\",\"units\":\"data\"},\"x\":{\"field\":\"x\"},\"y\":{\"field\":\"y\"}},\"id\":\"ad8154ba-54a6-40d6-9823-1a47d1aff257\",\"type\":\"Rect\"},{\"attributes\":{\"callback\":null,\"column_names\":[\"width\",\"x\",\"height\",\"color\",\"y\",\"line_alpha\",\"line_color\",\"fill_alpha\",\"label\"],\"data\":{\"chart_index\":[{\"data_source\":\"BMWi\",\"energy_source\":\"Solar\",\"year\":2014}],\"color\":[\"#f22c40\"],\"data_source\":[\"BMWi\"],\"energy_source\":[\"Solar\"],\"fill_alpha\":[0.8],\"height\":[38236.0],\"label\":[{\"data_source\":\"BMWi\",\"energy_source\":\"Solar\",\"year\":2014}],\"line_alpha\":[1.0],\"line_color\":[\"white\"],\"width\":[0.1702679845041569],\"x\":[\"Solar:0.5\"],\"y\":[19118.0],\"year\":[2014]}},\"id\":\"d5ceaf03-5f01-404c-b0ae-f2a28f506427\",\"type\":\"ColumnDataSource\"},{\"attributes\":{\"fill_alpha\":{\"field\":\"fill_alpha\"},\"fill_color\":{\"field\":\"color\"},\"height\":{\"field\":\"height\",\"units\":\"data\"},\"line_color\":{\"field\":\"line_color\"},\"width\":{\"field\":\"width\",\"units\":\"data\"},\"x\":{\"field\":\"x\"},\"y\":{\"field\":\"y\"}},\"id\":\"206b6694-1bc7-419f-a26c-b1206b34ea52\",\"type\":\"Rect\"},{\"attributes\":{\"data_source\":{\"id\":\"41ebcbd1-5b3a-497b-b775-c1d25a92b276\",\"type\":\"ColumnDataSource\"},\"glyph\":{\"id\":\"9739883c-511f-430b-a6d1-002bd481e81a\",\"type\":\"Rect\"},\"hover_glyph\":null,\"nonselection_glyph\":null,\"selection_glyph\":null},\"id\":\"ed2569ad-1560-44d1-bcdc-6c70c5ac64ec\",\"type\":\"GlyphRenderer\"},{\"attributes\":{\"fill_alpha\":{\"field\":\"fill_alpha\"},\"fill_color\":{\"field\":\"color\"},\"height\":{\"field\":\"height\",\"units\":\"data\"},\"line_color\":{\"field\":\"line_color\"},\"width\":{\"field\":\"width\",\"units\":\"data\"},\"x\":{\"field\":\"x\"},\"y\":{\"field\":\"y\"}},\"id\":\"5879aacf-9311-4153-b740-7cad3b16229c\",\"type\":\"Rect\"},{\"attributes\":{\"data_source\":{\"id\":\"865ffbc6-8455-4b40-8410-7daac05b83b3\",\"type\":\"ColumnDataSource\"},\"glyph\":{\"id\":\"8e565df4-b091-4f55-bca4-0cb9163b716f\",\"type\":\"Rect\"},\"hover_glyph\":null,\"nonselection_glyph\":null,\"selection_glyph\":null},\"id\":\"d0ef43b5-968a-4e9b-9c6f-dbc3d9762715\",\"type\":\"GlyphRenderer\"},{\"attributes\":{\"callback\":null,\"column_names\":[\"width\",\"x\",\"height\",\"color\",\"y\",\"line_alpha\",\"line_color\",\"fill_alpha\",\"label\"],\"data\":{\"chart_index\":[{\"data_source\":\"German TSOs\",\"energy_source\":\"Geothermal\",\"year\":2015}],\"color\":[\"#5ab738\"],\"data_source\":[\"German TSOs\"],\"energy_source\":[\"Geothermal\"],\"fill_alpha\":[0.8],\"height\":[33.435],\"label\":[{\"data_source\":\"German TSOs\",\"energy_source\":\"Geothermal\",\"year\":2015}],\"line_alpha\":[1.0],\"line_color\":[\"white\"],\"width\":[0.1702679845041569],\"x\":[\"Geothermal:0.833333333333\"],\"y\":[16.7175],\"year\":[2015]}},\"id\":\"ab053761-019c-4d17-b70e-cee6497a1d1a\",\"type\":\"ColumnDataSource\"},{\"attributes\":{\"data_source\":{\"id\":\"30e04a9b-2176-48e8-a839-4486e77bef8d\",\"type\":\"ColumnDataSource\"},\"glyph\":{\"id\":\"206b6694-1bc7-419f-a26c-b1206b34ea52\",\"type\":\"Rect\"},\"hover_glyph\":null,\"nonselection_glyph\":null,\"selection_glyph\":null},\"id\":\"e06845ea-a07b-4264-a99d-beb63b395e1b\",\"type\":\"GlyphRenderer\"},{\"attributes\":{\"callback\":null,\"end\":47194.35},\"id\":\"ed290fbc-f01f-40dd-b3bf-9eda1087b21f\",\"type\":\"Range1d\"},{\"attributes\":{\"callback\":null,\"column_names\":[\"width\",\"x\",\"height\",\"color\",\"y\",\"line_alpha\",\"line_color\",\"fill_alpha\",\"label\"],\"data\":{\"chart_index\":[{\"data_source\":\"entsoe\",\"energy_source\":\"Hydro\",\"year\":2014}],\"color\":[\"#00ad9c\"],\"data_source\":[\"entsoe\"],\"energy_source\":[\"Hydro\"],\"fill_alpha\":[0.8],\"height\":[21500.0],\"label\":[{\"data_source\":\"entsoe\",\"energy_source\":\"Hydro\",\"year\":2014}],\"line_alpha\":[1.0],\"line_color\":[\"white\"],\"width\":[0.1702679845041569],\"x\":[\"Hydro:0.666666666667\"],\"y\":[10750.0],\"year\":[2014]}},\"id\":\"32cd1a03-1224-4716-85f2-a4038007de5a\",\"type\":\"ColumnDataSource\"},{\"attributes\":{\"callback\":null,\"column_names\":[\"width\",\"x\",\"height\",\"color\",\"y\",\"line_alpha\",\"line_color\",\"fill_alpha\",\"label\"],\"data\":{\"chart_index\":[{\"data_source\":\"IRENA\",\"energy_source\":\"Geothermal\",\"year\":2015}],\"color\":[\"#df5320\"],\"data_source\":[\"IRENA\"],\"energy_source\":[\"Geothermal\"],\"fill_alpha\":[0.8],\"height\":[37.7],\"label\":[{\"data_source\":\"IRENA\",\"energy_source\":\"Geothermal\",\"year\":2015}],\"line_alpha\":[1.0],\"line_color\":[\"white\"],\"width\":[0.1702679845041569],\"x\":[\"Geothermal:0.333333333333\"],\"y\":[18.85],\"year\":[2015]}},\"id\":\"99494101-8408-4b17-b650-af8bba33e214\",\"type\":\"ColumnDataSource\"},{\"attributes\":{\"callback\":null,\"column_names\":[\"width\",\"x\",\"height\",\"color\",\"y\",\"line_alpha\",\"line_color\",\"fill_alpha\",\"label\"],\"data\":{\"chart_index\":[{\"data_source\":\"IRENA\",\"energy_source\":\"Wind\",\"year\":2015}],\"color\":[\"#df5320\"],\"data_source\":[\"IRENA\"],\"energy_source\":[\"Wind\"],\"fill_alpha\":[0.8],\"height\":[44947.0],\"label\":[{\"data_source\":\"IRENA\",\"energy_source\":\"Wind\",\"year\":2015}],\"line_alpha\":[1.0],\"line_color\":[\"white\"],\"width\":[0.1702679845041569],\"x\":[\"Wind:0.333333333333\"],\"y\":[22473.5],\"year\":[2015]}},\"id\":\"d552bc3c-f97f-40c7-b1db-67be60674af9\",\"type\":\"ColumnDataSource\"},{\"attributes\":{\"fill_alpha\":{\"field\":\"fill_alpha\"},\"fill_color\":{\"field\":\"color\"},\"height\":{\"field\":\"height\",\"units\":\"data\"},\"line_color\":{\"field\":\"line_color\"},\"width\":{\"field\":\"width\",\"units\":\"data\"},\"x\":{\"field\":\"x\"},\"y\":{\"field\":\"y\"}},\"id\":\"396557c9-249e-4b40-96d3-ed15fde27ed8\",\"type\":\"Rect\"},{\"attributes\":{\"fill_alpha\":{\"field\":\"fill_alpha\"},\"fill_color\":{\"field\":\"color\"},\"height\":{\"field\":\"height\",\"units\":\"data\"},\"line_color\":{\"field\":\"line_color\"},\"width\":{\"field\":\"width\",\"units\":\"data\"},\"x\":{\"field\":\"x\"},\"y\":{\"field\":\"y\"}},\"id\":\"0c55d8df-7a61-4cfb-ac87-26c86e2156e9\",\"type\":\"Rect\"},{\"attributes\":{\"callback\":null,\"column_names\":[\"width\",\"x\",\"height\",\"color\",\"y\",\"line_alpha\",\"line_color\",\"fill_alpha\",\"label\"],\"data\":{\"chart_index\":[{\"data_source\":\"entsoe\",\"energy_source\":\"Wind\",\"year\":2014}],\"color\":[\"#00ad9c\"],\"data_source\":[\"entsoe\"],\"energy_source\":[\"Wind\"],\"fill_alpha\":[0.8],\"height\":[34720.0],\"label\":[{\"data_source\":\"entsoe\",\"energy_source\":\"Wind\",\"year\":2014}],\"line_alpha\":[1.0],\"line_color\":[\"white\"],\"width\":[0.1702679845041569],\"x\":[\"Wind:0.666666666667\"],\"y\":[17360.0],\"year\":[2014]}},\"id\":\"30e04a9b-2176-48e8-a839-4486e77bef8d\",\"type\":\"ColumnDataSource\"},{\"attributes\":{\"data_source\":{\"id\":\"ff85ee59-28ae-448e-a6f5-e14c38f4e8d3\",\"type\":\"ColumnDataSource\"},\"glyph\":{\"id\":\"a9a86dd7-d845-4626-a2ab-a59b09bf0edd\",\"type\":\"Rect\"},\"hover_glyph\":null,\"nonselection_glyph\":null,\"selection_glyph\":null},\"id\":\"0b74af09-0d64-4b42-9eb4-22b695defe7d\",\"type\":\"GlyphRenderer\"},{\"attributes\":{},\"id\":\"d31ad061-64f1-4f3e-82dc-a8b46b8c7a68\",\"type\":\"BasicTickFormatter\"},{\"attributes\":{\"callback\":null,\"column_names\":[\"width\",\"x\",\"height\",\"color\",\"y\",\"line_alpha\",\"line_color\",\"fill_alpha\",\"label\"],\"data\":{\"chart_index\":[{\"data_source\":\"German TSOs\",\"energy_source\":\"Hydro\",\"year\":2015}],\"color\":[\"#5ab738\"],\"data_source\":[\"German TSOs\"],\"energy_source\":[\"Hydro\"],\"fill_alpha\":[0.8],\"height\":[1563.121819000001],\"label\":[{\"data_source\":\"German TSOs\",\"energy_source\":\"Hydro\",\"year\":2015}],\"line_alpha\":[1.0],\"line_color\":[\"white\"],\"width\":[0.1702679845041569],\"x\":[\"Hydro:0.833333333333\"],\"y\":[781.5609095000005],\"year\":[2015]}},\"id\":\"41c38d6a-834f-40c2-85e4-e75e09458e84\",\"type\":\"ColumnDataSource\"},{\"attributes\":{\"data_source\":{\"id\":\"32cd1a03-1224-4716-85f2-a4038007de5a\",\"type\":\"ColumnDataSource\"},\"glyph\":{\"id\":\"6c50b8e4-3074-4f4a-ad7d-2623e6cae9c1\",\"type\":\"Rect\"},\"hover_glyph\":null,\"nonselection_glyph\":null,\"selection_glyph\":null},\"id\":\"881de733-66d1-4e55-b2c2-2d200284ea81\",\"type\":\"GlyphRenderer\"},{\"attributes\":{\"data_source\":{\"id\":\"ac56e9a9-c525-4203-863d-088e1d669dd7\",\"type\":\"ColumnDataSource\"},\"glyph\":{\"id\":\"f7f3b876-c3b3-479d-91c0-a738647fd7fd\",\"type\":\"Rect\"},\"hover_glyph\":null,\"nonselection_glyph\":null,\"selection_glyph\":null},\"id\":\"2b194ee5-6a2c-4d21-981a-a9cd6cbd9276\",\"type\":\"GlyphRenderer\"},{\"attributes\":{\"data_source\":{\"id\":\"f2f9d93e-fcd4-4c32-84f3-1976430ada4b\",\"type\":\"ColumnDataSource\"},\"glyph\":{\"id\":\"0f8d5abe-c5f5-445e-bb5b-ebb8ea714650\",\"type\":\"Rect\"},\"hover_glyph\":null,\"nonselection_glyph\":null,\"selection_glyph\":null},\"id\":\"2c7bcf90-e393-44f9-aaa3-3cd36e3471f7\",\"type\":\"GlyphRenderer\"},{\"attributes\":{\"data_source\":{\"id\":\"d5ceaf03-5f01-404c-b0ae-f2a28f506427\",\"type\":\"ColumnDataSource\"},\"glyph\":{\"id\":\"5879aacf-9311-4153-b740-7cad3b16229c\",\"type\":\"Rect\"},\"hover_glyph\":null,\"nonselection_glyph\":null,\"selection_glyph\":null},\"id\":\"de72c71b-9398-4f0d-9294-3f66ecf920c9\",\"type\":\"GlyphRenderer\"},{\"attributes\":{\"callback\":null,\"column_names\":[\"width\",\"x\",\"height\",\"color\",\"y\",\"line_alpha\",\"line_color\",\"fill_alpha\",\"label\"],\"data\":{\"chart_index\":[{\"data_source\":\"German TSOs\",\"energy_source\":\"Solar\",\"year\":2015}],\"color\":[\"#5ab738\"],\"data_source\":[\"German TSOs\"],\"energy_source\":[\"Solar\"],\"fill_alpha\":[0.8],\"height\":[39337.65902648604],\"label\":[{\"data_source\":\"German TSOs\",\"energy_source\":\"Solar\",\"year\":2015}],\"line_alpha\":[1.0],\"line_color\":[\"white\"],\"width\":[0.1702679845041569],\"x\":[\"Solar:0.833333333333\"],\"y\":[19668.82951324302],\"year\":[2015]}},\"id\":\"7ebc4b30-b8ad-4536-bc9e-cdf0398e7d3e\",\"type\":\"ColumnDataSource\"},{\"attributes\":{\"fill_alpha\":{\"field\":\"fill_alpha\"},\"fill_color\":{\"field\":\"color\"},\"height\":{\"field\":\"height\",\"units\":\"data\"},\"line_color\":{\"field\":\"line_color\"},\"width\":{\"field\":\"width\",\"units\":\"data\"},\"x\":{\"field\":\"x\"},\"y\":{\"field\":\"y\"}},\"id\":\"6d102a17-86f7-4bbd-bb6b-2fda5ed6dd09\",\"type\":\"Rect\"},{\"attributes\":{\"plot\":{\"id\":\"f0270c1f-6309-4f52-b646-a2a666ff1e2a\",\"subtype\":\"Chart\",\"type\":\"Plot\"}},\"id\":\"cfa9fa82-4f5d-4c40-9b1e-c0fa85c33704\",\"type\":\"WheelZoomTool\"},{\"attributes\":{\"plot\":null,\"text\":\"DE\"},\"id\":\"e48f4351-b36a-42db-a09f-6ca38f416511\",\"type\":\"Title\"},{\"attributes\":{\"data_source\":{\"id\":\"ab053761-019c-4d17-b70e-cee6497a1d1a\",\"type\":\"ColumnDataSource\"},\"glyph\":{\"id\":\"6d102a17-86f7-4bbd-bb6b-2fda5ed6dd09\",\"type\":\"Rect\"},\"hover_glyph\":null,\"nonselection_glyph\":null,\"selection_glyph\":null},\"id\":\"4ee2ea8e-e7f5-4470-ba71-42d1e448e34b\",\"type\":\"GlyphRenderer\"},{\"attributes\":{\"data_source\":{\"id\":\"7768c04d-44e6-46a9-9e65-96fab4932932\",\"type\":\"ColumnDataSource\"},\"glyph\":{\"id\":\"41d15393-c84b-4408-bcba-2bf609e6ce0a\",\"type\":\"Rect\"},\"hover_glyph\":null,\"nonselection_glyph\":null,\"selection_glyph\":null},\"id\":\"2c0d7482-41db-4901-9461-f4d140b4f497\",\"type\":\"GlyphRenderer\"},{\"attributes\":{\"fill_alpha\":{\"field\":\"fill_alpha\"},\"fill_color\":{\"field\":\"color\"},\"height\":{\"field\":\"height\",\"units\":\"data\"},\"line_color\":{\"field\":\"line_color\"},\"width\":{\"field\":\"width\",\"units\":\"data\"},\"x\":{\"field\":\"x\"},\"y\":{\"field\":\"y\"}},\"id\":\"b48a41ad-4a8c-41b4-9032-faed8c98020e\",\"type\":\"Rect\"},{\"attributes\":{\"fill_alpha\":{\"field\":\"fill_alpha\"},\"fill_color\":{\"field\":\"color\"},\"height\":{\"field\":\"height\",\"units\":\"data\"},\"line_color\":{\"field\":\"line_color\"},\"width\":{\"field\":\"width\",\"units\":\"data\"},\"x\":{\"field\":\"x\"},\"y\":{\"field\":\"y\"}},\"id\":\"92f974d2-faa7-4501-a9e4-fd58fd823354\",\"type\":\"Rect\"},{\"attributes\":{\"fill_alpha\":{\"field\":\"fill_alpha\"},\"fill_color\":{\"field\":\"color\"},\"height\":{\"field\":\"height\",\"units\":\"data\"},\"line_color\":{\"field\":\"line_color\"},\"width\":{\"field\":\"width\",\"units\":\"data\"},\"x\":{\"field\":\"x\"},\"y\":{\"field\":\"y\"}},\"id\":\"a8ac4e82-7b59-469d-85f3-d7351a85c48e\",\"type\":\"Rect\"},{\"attributes\":{\"fill_alpha\":{\"field\":\"fill_alpha\"},\"fill_color\":{\"field\":\"color\"},\"height\":{\"field\":\"height\",\"units\":\"data\"},\"line_color\":{\"field\":\"line_color\"},\"width\":{\"field\":\"width\",\"units\":\"data\"},\"x\":{\"field\":\"x\"},\"y\":{\"field\":\"y\"}},\"id\":\"6c50b8e4-3074-4f4a-ad7d-2623e6cae9c1\",\"type\":\"Rect\"},{\"attributes\":{\"callback\":null,\"column_names\":[\"width\",\"x\",\"height\",\"color\",\"y\",\"line_alpha\",\"line_color\",\"fill_alpha\",\"label\"],\"data\":{\"chart_index\":[{\"data_source\":\"IRENA\",\"energy_source\":\"Geothermal\",\"year\":2014}],\"color\":[\"#407ee7\"],\"data_source\":[\"IRENA\"],\"energy_source\":[\"Geothermal\"],\"fill_alpha\":[0.8],\"height\":[24.0],\"label\":[{\"data_source\":\"IRENA\",\"energy_source\":\"Geothermal\",\"year\":2014}],\"line_alpha\":[1.0],\"line_color\":[\"white\"],\"width\":[0.1702679845041569],\"x\":[\"Geothermal:0.166666666667\"],\"y\":[12.0],\"year\":[2014]}},\"id\":\"ff85ee59-28ae-448e-a6f5-e14c38f4e8d3\",\"type\":\"ColumnDataSource\"}],\"root_ids\":[\"f0270c1f-6309-4f52-b646-a2a666ff1e2a\"]},\"title\":\"Bokeh Application\",\"version\":\"0.12.0\"}};\n",
       "            var render_items = [{\"docid\":\"c74223ab-65fe-4ea5-8c6b-5eaaad104298\",\"elementid\":\"ecc94488-97ed-42d9-b4a9-0139746007d4\",\"modelid\":\"f0270c1f-6309-4f52-b646-a2a666ff1e2a\",\"notebook_comms_target\":\"538e560d-4420-4140-957b-177ad1e0b52a\"}];\n",
       "            \n",
       "            Bokeh.embed.embed_items(docs_json, render_items);\n",
       "        });\n",
       "      },\n",
       "      function(Bokeh) {\n",
       "      }\n",
       "    ];\n",
       "  \n",
       "    function run_inline_js() {\n",
       "      for (var i = 0; i < inline_js.length; i++) {\n",
       "        inline_js[i](window.Bokeh);\n",
       "      }\n",
       "    }\n",
       "  \n",
       "    if (window._bokeh_is_loading === 0) {\n",
       "      console.log(\"Bokeh: BokehJS loaded, going straight to plotting\");\n",
       "      run_inline_js();\n",
       "    } else {\n",
       "      load_libs(js_urls, function() {\n",
       "        console.log(\"Bokeh: BokehJS plotting callback run at\", now());\n",
       "        run_inline_js();\n",
       "      });\n",
       "    }\n",
       "  }(this));\n",
       "</script>"
      ]
     },
     "metadata": {},
     "output_type": "display_data"
    },
    {
     "data": {
      "text/html": [
       "<p><code>&lt;Bokeh Notebook handle for <strong>In[35]</strong>&gt;</code></p>"
      ],
      "text/plain": [
       "<bokeh.io._CommsHandle at 0x7fd144169e80>"
      ]
     },
     "execution_count": 35,
     "metadata": {},
     "output_type": "execute_result"
    }
   ],
   "source": [
    "# plot\n",
    "p = Bar(cap_country, label='energy_source', values='electrical_capacity_MW',\n",
    "        group=['data_source','year'], legend='top_left', \n",
    "        title=plot_country)\n",
    "\n",
    "show(p)"
   ]
  },
  {
   "cell_type": "code",
   "execution_count": 36,
   "metadata": {
    "collapsed": true
   },
   "outputs": [],
   "source": [
    "plot_country = 'DK'"
   ]
  },
  {
   "cell_type": "code",
   "execution_count": 37,
   "metadata": {
    "collapsed": false
   },
   "outputs": [
    {
     "data": {
      "text/html": [
       "<div>\n",
       "<table border=\"1\" class=\"dataframe\">\n",
       "  <thead>\n",
       "    <tr style=\"text-align: right;\">\n",
       "      <th></th>\n",
       "      <th>data_source</th>\n",
       "      <th>electrical_capacity_MW</th>\n",
       "      <th>energy_source</th>\n",
       "      <th>year</th>\n",
       "    </tr>\n",
       "  </thead>\n",
       "  <tbody>\n",
       "    <tr>\n",
       "      <th>0</th>\n",
       "      <td>IRENA</td>\n",
       "      <td>1267.000</td>\n",
       "      <td>Bioenergy and renewable waste</td>\n",
       "      <td>2014</td>\n",
       "    </tr>\n",
       "    <tr>\n",
       "      <th>1</th>\n",
       "      <td>IRENA</td>\n",
       "      <td>1267.000</td>\n",
       "      <td>Bioenergy and renewable waste</td>\n",
       "      <td>2015</td>\n",
       "    </tr>\n",
       "    <tr>\n",
       "      <th>2</th>\n",
       "      <td>IRENA</td>\n",
       "      <td>9.000</td>\n",
       "      <td>Hydro</td>\n",
       "      <td>2014</td>\n",
       "    </tr>\n",
       "    <tr>\n",
       "      <th>3</th>\n",
       "      <td>IRENA</td>\n",
       "      <td>9.000</td>\n",
       "      <td>Hydro</td>\n",
       "      <td>2015</td>\n",
       "    </tr>\n",
       "    <tr>\n",
       "      <th>4</th>\n",
       "      <td>IRENA</td>\n",
       "      <td>607.000</td>\n",
       "      <td>Solar</td>\n",
       "      <td>2014</td>\n",
       "    </tr>\n",
       "    <tr>\n",
       "      <th>5</th>\n",
       "      <td>IRENA</td>\n",
       "      <td>790.000</td>\n",
       "      <td>Solar</td>\n",
       "      <td>2015</td>\n",
       "    </tr>\n",
       "    <tr>\n",
       "      <th>6</th>\n",
       "      <td>IRENA</td>\n",
       "      <td>4887.000</td>\n",
       "      <td>Wind</td>\n",
       "      <td>2014</td>\n",
       "    </tr>\n",
       "    <tr>\n",
       "      <th>7</th>\n",
       "      <td>IRENA</td>\n",
       "      <td>5063.000</td>\n",
       "      <td>Wind</td>\n",
       "      <td>2015</td>\n",
       "    </tr>\n",
       "    <tr>\n",
       "      <th>8</th>\n",
       "      <td>entsoe</td>\n",
       "      <td>10.000</td>\n",
       "      <td>Hydro</td>\n",
       "      <td>2014</td>\n",
       "    </tr>\n",
       "    <tr>\n",
       "      <th>9</th>\n",
       "      <td>entsoe</td>\n",
       "      <td>10.000</td>\n",
       "      <td>Hydro</td>\n",
       "      <td>2014</td>\n",
       "    </tr>\n",
       "    <tr>\n",
       "      <th>10</th>\n",
       "      <td>entsoe</td>\n",
       "      <td>4800.000</td>\n",
       "      <td>Wind</td>\n",
       "      <td>2014</td>\n",
       "    </tr>\n",
       "    <tr>\n",
       "      <th>11</th>\n",
       "      <td>entsoe</td>\n",
       "      <td>560.000</td>\n",
       "      <td>Solar</td>\n",
       "      <td>2014</td>\n",
       "    </tr>\n",
       "    <tr>\n",
       "      <th>12</th>\n",
       "      <td>entsoe</td>\n",
       "      <td>0.000</td>\n",
       "      <td>Geothermal</td>\n",
       "      <td>2014</td>\n",
       "    </tr>\n",
       "    <tr>\n",
       "      <th>13</th>\n",
       "      <td>entsoe</td>\n",
       "      <td>0.000</td>\n",
       "      <td>Marine</td>\n",
       "      <td>2014</td>\n",
       "    </tr>\n",
       "    <tr>\n",
       "      <th>14</th>\n",
       "      <td>entsoe</td>\n",
       "      <td>1420.000</td>\n",
       "      <td>Biomass and biogas</td>\n",
       "      <td>2014</td>\n",
       "    </tr>\n",
       "    <tr>\n",
       "      <th>15</th>\n",
       "      <td>Energinet.dk</td>\n",
       "      <td>NaN</td>\n",
       "      <td>solar</td>\n",
       "      <td>2015</td>\n",
       "    </tr>\n",
       "    <tr>\n",
       "      <th>16</th>\n",
       "      <td>Energistyrelsen</td>\n",
       "      <td>5059.535</td>\n",
       "      <td>wind</td>\n",
       "      <td>2015</td>\n",
       "    </tr>\n",
       "  </tbody>\n",
       "</table>\n",
       "</div>"
      ],
      "text/plain": [
       "        data_source  electrical_capacity_MW                  energy_source  \\\n",
       "0             IRENA                1267.000  Bioenergy and renewable waste   \n",
       "1             IRENA                1267.000  Bioenergy and renewable waste   \n",
       "2             IRENA                   9.000                          Hydro   \n",
       "3             IRENA                   9.000                          Hydro   \n",
       "4             IRENA                 607.000                          Solar   \n",
       "5             IRENA                 790.000                          Solar   \n",
       "6             IRENA                4887.000                           Wind   \n",
       "7             IRENA                5063.000                           Wind   \n",
       "8            entsoe                  10.000                          Hydro   \n",
       "9            entsoe                  10.000                          Hydro   \n",
       "10           entsoe                4800.000                           Wind   \n",
       "11           entsoe                 560.000                          Solar   \n",
       "12           entsoe                   0.000                     Geothermal   \n",
       "13           entsoe                   0.000                         Marine   \n",
       "14           entsoe                1420.000             Biomass and biogas   \n",
       "15     Energinet.dk                     NaN                          solar   \n",
       "16  Energistyrelsen                5059.535                           wind   \n",
       "\n",
       "    year  \n",
       "0   2014  \n",
       "1   2015  \n",
       "2   2014  \n",
       "3   2015  \n",
       "4   2014  \n",
       "5   2015  \n",
       "6   2014  \n",
       "7   2015  \n",
       "8   2014  \n",
       "9   2014  \n",
       "10  2014  \n",
       "11  2014  \n",
       "12  2014  \n",
       "13  2014  \n",
       "14  2014  \n",
       "15  2015  \n",
       "16  2015  "
      ]
     },
     "execution_count": 37,
     "metadata": {},
     "output_type": "execute_result"
    }
   ],
   "source": [
    "# chose capacities of respective country and recent years\n",
    "idx_country = capacities[(capacities['country'] == plot_country) \n",
    "                        & (capacities['year'].isin(recent_years))].index\n",
    "\n",
    "# prepare data frame for plotting\n",
    "cap_country = capacities.loc[idx_country].drop(['country',\n",
    "                                                'capacity_definition'],\n",
    "                                               axis = 1)\n",
    "\n",
    "cap_country = cap_country.reset_index(drop = True)\n",
    "\n",
    "cap_country"
   ]
  },
  {
   "cell_type": "code",
   "execution_count": 38,
   "metadata": {
    "collapsed": false
   },
   "outputs": [
    {
     "data": {
      "text/html": [
       "\n",
       "\n",
       "    <div class=\"bk-root\">\n",
       "        <div class=\"plotdiv\" id=\"09978b5a-aec9-4d9e-a759-1126d0d59e42\"></div>\n",
       "    </div>\n",
       "<script type=\"text/javascript\">\n",
       "  \n",
       "  (function(global) {\n",
       "    function now() {\n",
       "      return new Date();\n",
       "    }\n",
       "  \n",
       "    if (typeof (window._bokeh_onload_callbacks) === \"undefined\") {\n",
       "      window._bokeh_onload_callbacks = [];\n",
       "    }\n",
       "  \n",
       "    function run_callbacks() {\n",
       "      window._bokeh_onload_callbacks.forEach(function(callback) { callback() });\n",
       "      delete window._bokeh_onload_callbacks\n",
       "      console.info(\"Bokeh: all callbacks have finished\");\n",
       "    }\n",
       "  \n",
       "    function load_libs(js_urls, callback) {\n",
       "      window._bokeh_onload_callbacks.push(callback);\n",
       "      if (window._bokeh_is_loading > 0) {\n",
       "        console.log(\"Bokeh: BokehJS is being loaded, scheduling callback at\", now());\n",
       "        return null;\n",
       "      }\n",
       "      if (js_urls == null || js_urls.length === 0) {\n",
       "        run_callbacks();\n",
       "        return null;\n",
       "      }\n",
       "      console.log(\"Bokeh: BokehJS not loaded, scheduling load and callback at\", now());\n",
       "      window._bokeh_is_loading = js_urls.length;\n",
       "      for (var i = 0; i < js_urls.length; i++) {\n",
       "        var url = js_urls[i];\n",
       "        var s = document.createElement('script');\n",
       "        s.src = url;\n",
       "        s.async = false;\n",
       "        s.onreadystatechange = s.onload = function() {\n",
       "          window._bokeh_is_loading--;\n",
       "          if (window._bokeh_is_loading === 0) {\n",
       "            console.log(\"Bokeh: all BokehJS libraries loaded\");\n",
       "            run_callbacks()\n",
       "          }\n",
       "        };\n",
       "        s.onerror = function() {\n",
       "          console.warn(\"failed to load library \" + url);\n",
       "        };\n",
       "        console.log(\"Bokeh: injecting script tag for BokehJS library: \", url);\n",
       "        document.getElementsByTagName(\"head\")[0].appendChild(s);\n",
       "      }\n",
       "    };var element = document.getElementById(\"09978b5a-aec9-4d9e-a759-1126d0d59e42\");\n",
       "    if (element == null) {\n",
       "      console.log(\"Bokeh: ERROR: autoload.js configured with elementid '09978b5a-aec9-4d9e-a759-1126d0d59e42' but no matching script tag was found. \")\n",
       "      return false;\n",
       "    }\n",
       "  \n",
       "    var js_urls = [];\n",
       "  \n",
       "    var inline_js = [\n",
       "      function(Bokeh) {\n",
       "        Bokeh.$(function() {\n",
       "            var docs_json = {\"6a7e75b7-5733-4250-a215-ead79bd5bb74\":{\"roots\":{\"references\":[{\"attributes\":{\"data_source\":{\"id\":\"66cb8485-dd1b-415c-a125-1482c62de578\",\"type\":\"ColumnDataSource\"},\"glyph\":{\"id\":\"451211fa-5d02-42a9-84dc-993887771e02\",\"type\":\"Rect\"},\"hover_glyph\":null,\"nonselection_glyph\":null,\"selection_glyph\":null},\"id\":\"cd9ea707-b51b-4e02-8680-1fbb70532257\",\"type\":\"GlyphRenderer\"},{\"attributes\":{\"fill_alpha\":{\"field\":\"fill_alpha\"},\"fill_color\":{\"field\":\"color\"},\"height\":{\"field\":\"height\",\"units\":\"data\"},\"line_color\":{\"field\":\"line_color\"},\"width\":{\"field\":\"width\",\"units\":\"data\"},\"x\":{\"field\":\"x\"},\"y\":{\"field\":\"y\"}},\"id\":\"c460a0c4-7313-49df-924f-25a767bdf8fc\",\"type\":\"Rect\"},{\"attributes\":{},\"id\":\"06b630a3-ec68-4305-9e44-642d7b7621c8\",\"type\":\"ToolEvents\"},{\"attributes\":{\"plot\":{\"id\":\"49b218e9-bb71-4084-af7b-b8ba41df62c0\",\"subtype\":\"Chart\",\"type\":\"Plot\"}},\"id\":\"9a71b6db-515e-4429-a42e-87a2cad6fb44\",\"type\":\"SaveTool\"},{\"attributes\":{\"axis_label\":\"Sum( Electrical_Capacity_Mw )\",\"formatter\":{\"id\":\"10f557d8-6a72-412d-a9c3-a77ff7be7285\",\"type\":\"BasicTickFormatter\"},\"plot\":{\"id\":\"49b218e9-bb71-4084-af7b-b8ba41df62c0\",\"subtype\":\"Chart\",\"type\":\"Plot\"},\"ticker\":{\"id\":\"3d2de4e1-f78d-4c57-ae5d-0a6a6a867691\",\"type\":\"BasicTicker\"}},\"id\":\"dde753c3-1b1f-434f-9e27-685394382594\",\"type\":\"LinearAxis\"},{\"attributes\":{\"data_source\":{\"id\":\"c95dd322-9d0d-4e56-b425-236ba8db67ae\",\"type\":\"ColumnDataSource\"},\"glyph\":{\"id\":\"38c47fd7-bc0f-47ed-9457-f8d71f1e5713\",\"type\":\"Rect\"},\"hover_glyph\":null,\"nonselection_glyph\":null,\"selection_glyph\":null},\"id\":\"6fe86607-a359-4856-8944-9609ee5971ed\",\"type\":\"GlyphRenderer\"},{\"attributes\":{\"callback\":null,\"column_names\":[\"width\",\"x\",\"height\",\"color\",\"y\",\"line_alpha\",\"line_color\",\"fill_alpha\",\"label\"],\"data\":{\"chart_index\":[{\"data_source\":\"entsoe\",\"energy_source\":\"Hydro\",\"year\":2014}],\"color\":[\"#00ad9c\"],\"data_source\":[\"entsoe\"],\"energy_source\":[\"Hydro\"],\"fill_alpha\":[0.8],\"height\":[20.0],\"label\":[{\"data_source\":\"entsoe\",\"energy_source\":\"Hydro\",\"year\":2014}],\"line_alpha\":[1.0],\"line_color\":[\"white\"],\"width\":[0.1702679845041569],\"x\":[\"Hydro:0.5\"],\"y\":[10.0],\"year\":[2014]}},\"id\":\"0eb8c262-7db9-43b5-894a-6bb79e4a18ee\",\"type\":\"ColumnDataSource\"},{\"attributes\":{\"bottom_units\":\"screen\",\"fill_alpha\":{\"value\":0.5},\"fill_color\":{\"value\":\"lightgrey\"},\"left_units\":\"screen\",\"level\":\"overlay\",\"line_alpha\":{\"value\":1.0},\"line_color\":{\"value\":\"black\"},\"line_dash\":[4,4],\"line_width\":{\"value\":2},\"plot\":null,\"render_mode\":\"css\",\"right_units\":\"screen\",\"top_units\":\"screen\"},\"id\":\"e9640c6d-c72d-4d6c-ac61-07597efdef3b\",\"type\":\"BoxAnnotation\"},{\"attributes\":{},\"id\":\"9f152025-296b-4ab2-8d23-b6df7a9c6a99\",\"type\":\"CategoricalTicker\"},{\"attributes\":{\"callback\":null,\"column_names\":[\"width\",\"x\",\"height\",\"color\",\"y\",\"line_alpha\",\"line_color\",\"fill_alpha\",\"label\"],\"data\":{\"chart_index\":[{\"data_source\":\"entsoe\",\"energy_source\":\"Biomass and biogas\",\"year\":2014}],\"color\":[\"#00ad9c\"],\"data_source\":[\"entsoe\"],\"energy_source\":[\"Biomass and biogas\"],\"fill_alpha\":[0.8],\"height\":[1420.0],\"label\":[{\"data_source\":\"entsoe\",\"energy_source\":\"Biomass and biogas\",\"year\":2014}],\"line_alpha\":[1.0],\"line_color\":[\"white\"],\"width\":[0.1702679845041569],\"x\":[\"Biomass and biogas:0.5\"],\"y\":[710.0],\"year\":[2014]}},\"id\":\"213a13d4-7282-4dc7-8f75-89e91cd0c4c8\",\"type\":\"ColumnDataSource\"},{\"attributes\":{\"callback\":null,\"column_names\":[\"width\",\"x\",\"height\",\"color\",\"y\",\"line_alpha\",\"line_color\",\"fill_alpha\",\"label\"],\"data\":{\"chart_index\":[{\"data_source\":\"entsoe\",\"energy_source\":\"Marine\",\"year\":2014}],\"color\":[\"#00ad9c\"],\"data_source\":[\"entsoe\"],\"energy_source\":[\"Marine\"],\"fill_alpha\":[0.8],\"height\":[0.0],\"label\":[{\"data_source\":\"entsoe\",\"energy_source\":\"Marine\",\"year\":2014}],\"line_alpha\":[1.0],\"line_color\":[\"white\"],\"width\":[0.1702679845041569],\"x\":[\"Marine:0.5\"],\"y\":[0.0],\"year\":[2014]}},\"id\":\"1345534a-8df6-4d45-b8d6-ea69569d378f\",\"type\":\"ColumnDataSource\"},{\"attributes\":{\"fill_alpha\":{\"field\":\"fill_alpha\"},\"fill_color\":{\"field\":\"color\"},\"height\":{\"field\":\"height\",\"units\":\"data\"},\"line_color\":{\"field\":\"line_color\"},\"width\":{\"field\":\"width\",\"units\":\"data\"},\"x\":{\"field\":\"x\"},\"y\":{\"field\":\"y\"}},\"id\":\"74f2413e-91de-422f-8bfa-f1d73b9b0ce1\",\"type\":\"Rect\"},{\"attributes\":{\"callback\":null,\"column_names\":[\"width\",\"x\",\"height\",\"color\",\"y\",\"line_alpha\",\"line_color\",\"fill_alpha\",\"label\"],\"data\":{\"chart_index\":[{\"data_source\":\"Energistyrelsen\",\"energy_source\":\"wind\",\"year\":2015}],\"color\":[\"#5ab738\"],\"data_source\":[\"Energistyrelsen\"],\"energy_source\":[\"wind\"],\"fill_alpha\":[0.8],\"height\":[5059.535],\"label\":[{\"data_source\":\"Energistyrelsen\",\"energy_source\":\"wind\",\"year\":2015}],\"line_alpha\":[1.0],\"line_color\":[\"white\"],\"width\":[0.1702679845041569],\"x\":[\"wind:0.833333333333\"],\"y\":[2529.7675],\"year\":[2015]}},\"id\":\"e77d091a-0186-4741-bd1a-3419d50ffdc4\",\"type\":\"ColumnDataSource\"},{\"attributes\":{\"callback\":null,\"column_names\":[\"width\",\"x\",\"height\",\"color\",\"y\",\"line_alpha\",\"line_color\",\"fill_alpha\",\"label\"],\"data\":{\"chart_index\":[{\"data_source\":\"IRENA\",\"energy_source\":\"Hydro\",\"year\":2014}],\"color\":[\"#407ee7\"],\"data_source\":[\"IRENA\"],\"energy_source\":[\"Hydro\"],\"fill_alpha\":[0.8],\"height\":[9.0],\"label\":[{\"data_source\":\"IRENA\",\"energy_source\":\"Hydro\",\"year\":2014}],\"line_alpha\":[1.0],\"line_color\":[\"white\"],\"width\":[0.1702679845041569],\"x\":[\"Hydro:0.166666666667\"],\"y\":[4.5],\"year\":[2014]}},\"id\":\"5a37353e-5f7f-4626-a05c-a8448772bfd3\",\"type\":\"ColumnDataSource\"},{\"attributes\":{\"fill_alpha\":{\"field\":\"fill_alpha\"},\"fill_color\":{\"field\":\"color\"},\"height\":{\"field\":\"height\",\"units\":\"data\"},\"line_color\":{\"field\":\"line_color\"},\"width\":{\"field\":\"width\",\"units\":\"data\"},\"x\":{\"field\":\"x\"},\"y\":{\"field\":\"y\"}},\"id\":\"762225eb-a03d-4657-a105-948e534de62d\",\"type\":\"Rect\"},{\"attributes\":{\"data_source\":{\"id\":\"bb41b537-ac22-4c14-88bb-7f3bc2611039\",\"type\":\"ColumnDataSource\"},\"glyph\":{\"id\":\"2d513bb6-cbc5-448a-9f40-292488437aa4\",\"type\":\"Rect\"},\"hover_glyph\":null,\"nonselection_glyph\":null,\"selection_glyph\":null},\"id\":\"626b7e43-52ee-4e50-aeee-a0bbb2d00a03\",\"type\":\"GlyphRenderer\"},{\"attributes\":{\"plot\":{\"id\":\"49b218e9-bb71-4084-af7b-b8ba41df62c0\",\"subtype\":\"Chart\",\"type\":\"Plot\"}},\"id\":\"1649bcea-d723-4c47-930a-cae4ea6b0e36\",\"type\":\"HelpTool\"},{\"attributes\":{\"fill_alpha\":{\"field\":\"fill_alpha\"},\"fill_color\":{\"field\":\"color\"},\"height\":{\"field\":\"height\",\"units\":\"data\"},\"line_color\":{\"field\":\"line_color\"},\"width\":{\"field\":\"width\",\"units\":\"data\"},\"x\":{\"field\":\"x\"},\"y\":{\"field\":\"y\"}},\"id\":\"c69b4ffb-f87b-4dc4-991d-2ceb2577f1d1\",\"type\":\"Rect\"},{\"attributes\":{\"fill_alpha\":{\"field\":\"fill_alpha\"},\"fill_color\":{\"field\":\"color\"},\"height\":{\"field\":\"height\",\"units\":\"data\"},\"line_color\":{\"field\":\"line_color\"},\"width\":{\"field\":\"width\",\"units\":\"data\"},\"x\":{\"field\":\"x\"},\"y\":{\"field\":\"y\"}},\"id\":\"a50f4a49-2e6d-4218-bf49-2d2a69be03fc\",\"type\":\"Rect\"},{\"attributes\":{\"plot\":{\"id\":\"49b218e9-bb71-4084-af7b-b8ba41df62c0\",\"subtype\":\"Chart\",\"type\":\"Plot\"}},\"id\":\"482ca545-8739-4192-8f7b-f4702457887f\",\"type\":\"PanTool\"},{\"attributes\":{\"axis_label\":\"Energy_Source\",\"formatter\":{\"id\":\"e2acdfa9-de53-4c2e-a175-02313c8c85ec\",\"type\":\"CategoricalTickFormatter\"},\"major_label_orientation\":0.7853981633974483,\"plot\":{\"id\":\"49b218e9-bb71-4084-af7b-b8ba41df62c0\",\"subtype\":\"Chart\",\"type\":\"Plot\"},\"ticker\":{\"id\":\"9f152025-296b-4ab2-8d23-b6df7a9c6a99\",\"type\":\"CategoricalTicker\"}},\"id\":\"aeb4a5ee-d2db-472c-a321-62e2cb8df58d\",\"type\":\"CategoricalAxis\"},{\"attributes\":{\"callback\":null,\"column_names\":[\"width\",\"x\",\"height\",\"color\",\"y\",\"line_alpha\",\"line_color\",\"fill_alpha\",\"label\"],\"data\":{\"chart_index\":[{\"data_source\":\"IRENA\",\"energy_source\":\"Bioenergy and renewable waste\",\"year\":2015}],\"color\":[\"#df5320\"],\"data_source\":[\"IRENA\"],\"energy_source\":[\"Bioenergy and renewable waste\"],\"fill_alpha\":[0.8],\"height\":[1267.0],\"label\":[{\"data_source\":\"IRENA\",\"energy_source\":\"Bioenergy and renewable waste\",\"year\":2015}],\"line_alpha\":[1.0],\"line_color\":[\"white\"],\"width\":[0.1702679845041569],\"x\":[\"Bioenergy and renewable waste:0.333333333333\"],\"y\":[633.5],\"year\":[2015]}},\"id\":\"fdd7d994-3fba-4a27-896d-0e09069b7351\",\"type\":\"ColumnDataSource\"},{\"attributes\":{\"callback\":null,\"column_names\":[\"width\",\"x\",\"height\",\"color\",\"y\",\"line_alpha\",\"line_color\",\"fill_alpha\",\"label\"],\"data\":{\"chart_index\":[{\"data_source\":\"entsoe\",\"energy_source\":\"Geothermal\",\"year\":2014}],\"color\":[\"#00ad9c\"],\"data_source\":[\"entsoe\"],\"energy_source\":[\"Geothermal\"],\"fill_alpha\":[0.8],\"height\":[0.0],\"label\":[{\"data_source\":\"entsoe\",\"energy_source\":\"Geothermal\",\"year\":2014}],\"line_alpha\":[1.0],\"line_color\":[\"white\"],\"width\":[0.1702679845041569],\"x\":[\"Geothermal:0.5\"],\"y\":[0.0],\"year\":[2014]}},\"id\":\"c95dd322-9d0d-4e56-b425-236ba8db67ae\",\"type\":\"ColumnDataSource\"},{\"attributes\":{\"data_source\":{\"id\":\"e77d091a-0186-4741-bd1a-3419d50ffdc4\",\"type\":\"ColumnDataSource\"},\"glyph\":{\"id\":\"380e1862-7af9-46ea-bd6c-c6db1e7dc84f\",\"type\":\"Rect\"},\"hover_glyph\":null,\"nonselection_glyph\":null,\"selection_glyph\":null},\"id\":\"bab11fbc-ff10-463f-a1c5-0a295ee7ac62\",\"type\":\"GlyphRenderer\"},{\"attributes\":{\"fill_alpha\":{\"field\":\"fill_alpha\"},\"fill_color\":{\"field\":\"color\"},\"height\":{\"field\":\"height\",\"units\":\"data\"},\"line_color\":{\"field\":\"line_color\"},\"width\":{\"field\":\"width\",\"units\":\"data\"},\"x\":{\"field\":\"x\"},\"y\":{\"field\":\"y\"}},\"id\":\"0b97700a-fe85-4517-8ac5-dec3ad008fee\",\"type\":\"Rect\"},{\"attributes\":{\"data_source\":{\"id\":\"5a37353e-5f7f-4626-a05c-a8448772bfd3\",\"type\":\"ColumnDataSource\"},\"glyph\":{\"id\":\"b42458ec-fbd3-4f35-b89d-b3f83f8ab77f\",\"type\":\"Rect\"},\"hover_glyph\":null,\"nonselection_glyph\":null,\"selection_glyph\":null},\"id\":\"d52eb4b0-01f1-473c-9df6-528cf5d4fea2\",\"type\":\"GlyphRenderer\"},{\"attributes\":{\"fill_alpha\":{\"field\":\"fill_alpha\"},\"fill_color\":{\"field\":\"color\"},\"height\":{\"field\":\"height\",\"units\":\"data\"},\"line_color\":{\"field\":\"line_color\"},\"width\":{\"field\":\"width\",\"units\":\"data\"},\"x\":{\"field\":\"x\"},\"y\":{\"field\":\"y\"}},\"id\":\"ea2c492f-e9ee-4c21-aec8-1f97b2b314a2\",\"type\":\"Rect\"},{\"attributes\":{\"data_source\":{\"id\":\"6c9a8438-2267-4974-8054-09b07559da01\",\"type\":\"ColumnDataSource\"},\"glyph\":{\"id\":\"762225eb-a03d-4657-a105-948e534de62d\",\"type\":\"Rect\"},\"hover_glyph\":null,\"nonselection_glyph\":null,\"selection_glyph\":null},\"id\":\"ff2a42c7-ccd2-4fdd-9385-d4f28835a953\",\"type\":\"GlyphRenderer\"},{\"attributes\":{\"callback\":null,\"column_names\":[\"width\",\"x\",\"height\",\"color\",\"y\",\"line_alpha\",\"line_color\",\"fill_alpha\",\"label\"],\"data\":{\"chart_index\":[{\"data_source\":\"IRENA\",\"energy_source\":\"Solar\",\"year\":2015}],\"color\":[\"#df5320\"],\"data_source\":[\"IRENA\"],\"energy_source\":[\"Solar\"],\"fill_alpha\":[0.8],\"height\":[790.0],\"label\":[{\"data_source\":\"IRENA\",\"energy_source\":\"Solar\",\"year\":2015}],\"line_alpha\":[1.0],\"line_color\":[\"white\"],\"width\":[0.1702679845041569],\"x\":[\"Solar:0.333333333333\"],\"y\":[395.0],\"year\":[2015]}},\"id\":\"4d23b995-861f-48c5-9be2-e56232a52b55\",\"type\":\"ColumnDataSource\"},{\"attributes\":{\"callback\":null,\"column_names\":[\"width\",\"x\",\"height\",\"color\",\"y\",\"line_alpha\",\"line_color\",\"fill_alpha\",\"label\"],\"data\":{\"chart_index\":[{\"data_source\":\"IRENA\",\"energy_source\":\"Solar\",\"year\":2014}],\"color\":[\"#407ee7\"],\"data_source\":[\"IRENA\"],\"energy_source\":[\"Solar\"],\"fill_alpha\":[0.8],\"height\":[607.0],\"label\":[{\"data_source\":\"IRENA\",\"energy_source\":\"Solar\",\"year\":2014}],\"line_alpha\":[1.0],\"line_color\":[\"white\"],\"width\":[0.1702679845041569],\"x\":[\"Solar:0.166666666667\"],\"y\":[303.5],\"year\":[2014]}},\"id\":\"b472674a-a758-4403-942c-de762473e363\",\"type\":\"ColumnDataSource\"},{\"attributes\":{\"fill_alpha\":{\"field\":\"fill_alpha\"},\"fill_color\":{\"field\":\"color\"},\"height\":{\"field\":\"height\",\"units\":\"data\"},\"line_color\":{\"field\":\"line_color\"},\"width\":{\"field\":\"width\",\"units\":\"data\"},\"x\":{\"field\":\"x\"},\"y\":{\"field\":\"y\"}},\"id\":\"3c75c47a-18ff-43cd-92c5-abc55e0914b0\",\"type\":\"Rect\"},{\"attributes\":{\"callback\":null,\"end\":5316.15},\"id\":\"598d2ed3-68ea-4b99-b321-a007ca10227f\",\"type\":\"Range1d\"},{\"attributes\":{\"below\":[{\"id\":\"aeb4a5ee-d2db-472c-a321-62e2cb8df58d\",\"type\":\"CategoricalAxis\"}],\"left\":[{\"id\":\"dde753c3-1b1f-434f-9e27-685394382594\",\"type\":\"LinearAxis\"}],\"renderers\":[{\"id\":\"e9640c6d-c72d-4d6c-ac61-07597efdef3b\",\"type\":\"BoxAnnotation\"},{\"id\":\"cb64304b-2cad-4f22-acd3-61eb184a4d89\",\"type\":\"GlyphRenderer\"},{\"id\":\"84e0e09a-db14-4690-a552-c75c0300c177\",\"type\":\"GlyphRenderer\"},{\"id\":\"d52eb4b0-01f1-473c-9df6-528cf5d4fea2\",\"type\":\"GlyphRenderer\"},{\"id\":\"2390c842-73bb-4523-a220-8c6d2764b5ed\",\"type\":\"GlyphRenderer\"},{\"id\":\"c44fafe0-cf1a-43e7-b438-3093d9b58084\",\"type\":\"GlyphRenderer\"},{\"id\":\"0893c0df-c3e3-425e-90e7-1e1fa78a3692\",\"type\":\"GlyphRenderer\"},{\"id\":\"cd9ea707-b51b-4e02-8680-1fbb70532257\",\"type\":\"GlyphRenderer\"},{\"id\":\"d44d96e7-158e-42c9-9e77-72a1616eca7f\",\"type\":\"GlyphRenderer\"},{\"id\":\"bff0a138-b779-43e1-8e82-8027c955614a\",\"type\":\"GlyphRenderer\"},{\"id\":\"d7d0affb-ce6e-471f-8870-b75f06dcdf1b\",\"type\":\"GlyphRenderer\"},{\"id\":\"ff2a42c7-ccd2-4fdd-9385-d4f28835a953\",\"type\":\"GlyphRenderer\"},{\"id\":\"6fe86607-a359-4856-8944-9609ee5971ed\",\"type\":\"GlyphRenderer\"},{\"id\":\"4c9282cb-8389-4bce-b434-e03acfc86fc2\",\"type\":\"GlyphRenderer\"},{\"id\":\"ece166ad-0996-43f9-995c-3ffc40192c95\",\"type\":\"GlyphRenderer\"},{\"id\":\"626b7e43-52ee-4e50-aeee-a0bbb2d00a03\",\"type\":\"GlyphRenderer\"},{\"id\":\"bab11fbc-ff10-463f-a1c5-0a295ee7ac62\",\"type\":\"GlyphRenderer\"},{\"id\":\"b8241eae-5ebb-4e52-bc54-0978ed5dc977\",\"type\":\"Legend\"},{\"id\":\"aeb4a5ee-d2db-472c-a321-62e2cb8df58d\",\"type\":\"CategoricalAxis\"},{\"id\":\"dde753c3-1b1f-434f-9e27-685394382594\",\"type\":\"LinearAxis\"},{\"id\":\"5345e804-a5c5-4ff7-9b6b-9a6be75eb842\",\"type\":\"Grid\"}],\"title\":{\"id\":\"33819945-7d19-4f73-b985-5f4343c373da\",\"type\":\"Title\"},\"tool_events\":{\"id\":\"06b630a3-ec68-4305-9e44-642d7b7621c8\",\"type\":\"ToolEvents\"},\"toolbar\":{\"id\":\"ad6d023e-155b-473a-993f-ec8bdc336fd0\",\"type\":\"Toolbar\"},\"x_mapper_type\":\"auto\",\"x_range\":{\"id\":\"44e4f97a-978b-40b8-8076-1bdb05aef5a3\",\"type\":\"FactorRange\"},\"y_mapper_type\":\"auto\",\"y_range\":{\"id\":\"598d2ed3-68ea-4b99-b321-a007ca10227f\",\"type\":\"Range1d\"}},\"id\":\"49b218e9-bb71-4084-af7b-b8ba41df62c0\",\"subtype\":\"Chart\",\"type\":\"Plot\"},{\"attributes\":{\"data_source\":{\"id\":\"9983eb0c-8519-4c6a-8b3e-dc671e573097\",\"type\":\"ColumnDataSource\"},\"glyph\":{\"id\":\"0b97700a-fe85-4517-8ac5-dec3ad008fee\",\"type\":\"Rect\"},\"hover_glyph\":null,\"nonselection_glyph\":null,\"selection_glyph\":null},\"id\":\"cb64304b-2cad-4f22-acd3-61eb184a4d89\",\"type\":\"GlyphRenderer\"},{\"attributes\":{\"fill_alpha\":{\"field\":\"fill_alpha\"},\"fill_color\":{\"field\":\"color\"},\"height\":{\"field\":\"height\",\"units\":\"data\"},\"line_color\":{\"field\":\"line_color\"},\"width\":{\"field\":\"width\",\"units\":\"data\"},\"x\":{\"field\":\"x\"},\"y\":{\"field\":\"y\"}},\"id\":\"aeb096ab-c812-475d-8bed-fd5dc7c14b47\",\"type\":\"Rect\"},{\"attributes\":{\"fill_alpha\":{\"field\":\"fill_alpha\"},\"fill_color\":{\"field\":\"color\"},\"height\":{\"field\":\"height\",\"units\":\"data\"},\"line_color\":{\"field\":\"line_color\"},\"width\":{\"field\":\"width\",\"units\":\"data\"},\"x\":{\"field\":\"x\"},\"y\":{\"field\":\"y\"}},\"id\":\"38c47fd7-bc0f-47ed-9457-f8d71f1e5713\",\"type\":\"Rect\"},{\"attributes\":{\"callback\":null,\"column_names\":[\"width\",\"x\",\"height\",\"color\",\"y\",\"line_alpha\",\"line_color\",\"fill_alpha\",\"label\"],\"data\":{\"chart_index\":[{\"data_source\":\"IRENA\",\"energy_source\":\"Hydro\",\"year\":2015}],\"color\":[\"#df5320\"],\"data_source\":[\"IRENA\"],\"energy_source\":[\"Hydro\"],\"fill_alpha\":[0.8],\"height\":[9.0],\"label\":[{\"data_source\":\"IRENA\",\"energy_source\":\"Hydro\",\"year\":2015}],\"line_alpha\":[1.0],\"line_color\":[\"white\"],\"width\":[0.1702679845041569],\"x\":[\"Hydro:0.333333333333\"],\"y\":[4.5],\"year\":[2015]}},\"id\":\"ba217e13-3f25-4e59-8c1a-08763a52170e\",\"type\":\"ColumnDataSource\"},{\"attributes\":{\"callback\":null,\"column_names\":[\"width\",\"x\",\"height\",\"color\",\"y\",\"line_alpha\",\"line_color\",\"fill_alpha\",\"label\"],\"data\":{\"chart_index\":[{\"data_source\":\"entsoe\",\"energy_source\":\"Solar\",\"year\":2014}],\"color\":[\"#00ad9c\"],\"data_source\":[\"entsoe\"],\"energy_source\":[\"Solar\"],\"fill_alpha\":[0.8],\"height\":[560.0],\"label\":[{\"data_source\":\"entsoe\",\"energy_source\":\"Solar\",\"year\":2014}],\"line_alpha\":[1.0],\"line_color\":[\"white\"],\"width\":[0.1702679845041569],\"x\":[\"Solar:0.5\"],\"y\":[280.0],\"year\":[2014]}},\"id\":\"6c9a8438-2267-4974-8054-09b07559da01\",\"type\":\"ColumnDataSource\"},{\"attributes\":{\"dimension\":1,\"plot\":{\"id\":\"49b218e9-bb71-4084-af7b-b8ba41df62c0\",\"subtype\":\"Chart\",\"type\":\"Plot\"},\"ticker\":{\"id\":\"3d2de4e1-f78d-4c57-ae5d-0a6a6a867691\",\"type\":\"BasicTicker\"}},\"id\":\"5345e804-a5c5-4ff7-9b6b-9a6be75eb842\",\"type\":\"Grid\"},{\"attributes\":{\"callback\":null,\"column_names\":[\"width\",\"x\",\"height\",\"color\",\"y\",\"line_alpha\",\"line_color\",\"fill_alpha\",\"label\"],\"data\":{\"chart_index\":[{\"data_source\":\"Energinet.dk\",\"energy_source\":\"solar\",\"year\":2015}],\"color\":[\"#f22c40\"],\"data_source\":[\"Energinet.dk\"],\"energy_source\":[\"solar\"],\"fill_alpha\":[0.8],\"height\":[\"NaN\"],\"label\":[{\"data_source\":\"Energinet.dk\",\"energy_source\":\"solar\",\"year\":2015}],\"line_alpha\":[1.0],\"line_color\":[\"white\"],\"width\":[0.1702679845041569],\"x\":[\"solar:0.666666666667\"],\"y\":[\"NaN\"],\"year\":[2015]}},\"id\":\"bb41b537-ac22-4c14-88bb-7f3bc2611039\",\"type\":\"ColumnDataSource\"},{\"attributes\":{\"data_source\":{\"id\":\"213a13d4-7282-4dc7-8f75-89e91cd0c4c8\",\"type\":\"ColumnDataSource\"},\"glyph\":{\"id\":\"5f69be77-2ba9-43c5-99e8-a82f96e108d6\",\"type\":\"Rect\"},\"hover_glyph\":null,\"nonselection_glyph\":null,\"selection_glyph\":null},\"id\":\"ece166ad-0996-43f9-995c-3ffc40192c95\",\"type\":\"GlyphRenderer\"},{\"attributes\":{\"callback\":null,\"column_names\":[\"width\",\"x\",\"height\",\"color\",\"y\",\"line_alpha\",\"line_color\",\"fill_alpha\",\"label\"],\"data\":{\"chart_index\":[{\"data_source\":\"IRENA\",\"energy_source\":\"Wind\",\"year\":2015}],\"color\":[\"#df5320\"],\"data_source\":[\"IRENA\"],\"energy_source\":[\"Wind\"],\"fill_alpha\":[0.8],\"height\":[5063.0],\"label\":[{\"data_source\":\"IRENA\",\"energy_source\":\"Wind\",\"year\":2015}],\"line_alpha\":[1.0],\"line_color\":[\"white\"],\"width\":[0.1702679845041569],\"x\":[\"Wind:0.333333333333\"],\"y\":[2531.5],\"year\":[2015]}},\"id\":\"a3ca13f2-6c01-413b-ab06-aca95b944fda\",\"type\":\"ColumnDataSource\"},{\"attributes\":{\"plot\":{\"id\":\"49b218e9-bb71-4084-af7b-b8ba41df62c0\",\"subtype\":\"Chart\",\"type\":\"Plot\"}},\"id\":\"1828cb33-84f4-4a0e-84ad-393ec1b13f3e\",\"type\":\"WheelZoomTool\"},{\"attributes\":{},\"id\":\"10f557d8-6a72-412d-a9c3-a77ff7be7285\",\"type\":\"BasicTickFormatter\"},{\"attributes\":{\"callback\":null,\"column_names\":[\"width\",\"x\",\"height\",\"color\",\"y\",\"line_alpha\",\"line_color\",\"fill_alpha\",\"label\"],\"data\":{\"chart_index\":[{\"data_source\":\"IRENA\",\"energy_source\":\"Wind\",\"year\":2014}],\"color\":[\"#407ee7\"],\"data_source\":[\"IRENA\"],\"energy_source\":[\"Wind\"],\"fill_alpha\":[0.8],\"height\":[4887.0],\"label\":[{\"data_source\":\"IRENA\",\"energy_source\":\"Wind\",\"year\":2014}],\"line_alpha\":[1.0],\"line_color\":[\"white\"],\"width\":[0.1702679845041569],\"x\":[\"Wind:0.166666666667\"],\"y\":[2443.5],\"year\":[2014]}},\"id\":\"66cb8485-dd1b-415c-a125-1482c62de578\",\"type\":\"ColumnDataSource\"},{\"attributes\":{},\"id\":\"3d2de4e1-f78d-4c57-ae5d-0a6a6a867691\",\"type\":\"BasicTicker\"},{\"attributes\":{\"fill_alpha\":{\"field\":\"fill_alpha\"},\"fill_color\":{\"field\":\"color\"},\"height\":{\"field\":\"height\",\"units\":\"data\"},\"line_color\":{\"field\":\"line_color\"},\"width\":{\"field\":\"width\",\"units\":\"data\"},\"x\":{\"field\":\"x\"},\"y\":{\"field\":\"y\"}},\"id\":\"8e734541-4314-4fb4-b622-418f85f8e27f\",\"type\":\"Rect\"},{\"attributes\":{\"callback\":null,\"column_names\":[\"width\",\"x\",\"height\",\"color\",\"y\",\"line_alpha\",\"line_color\",\"fill_alpha\",\"label\"],\"data\":{\"chart_index\":[{\"data_source\":\"entsoe\",\"energy_source\":\"Wind\",\"year\":2014}],\"color\":[\"#00ad9c\"],\"data_source\":[\"entsoe\"],\"energy_source\":[\"Wind\"],\"fill_alpha\":[0.8],\"height\":[4800.0],\"label\":[{\"data_source\":\"entsoe\",\"energy_source\":\"Wind\",\"year\":2014}],\"line_alpha\":[1.0],\"line_color\":[\"white\"],\"width\":[0.1702679845041569],\"x\":[\"Wind:0.5\"],\"y\":[2400.0],\"year\":[2014]}},\"id\":\"b31f131d-b577-4e87-970e-1b7c44b0311c\",\"type\":\"ColumnDataSource\"},{\"attributes\":{\"fill_alpha\":{\"field\":\"fill_alpha\"},\"fill_color\":{\"field\":\"color\"},\"height\":{\"field\":\"height\",\"units\":\"data\"},\"line_color\":{\"field\":\"line_color\"},\"width\":{\"field\":\"width\",\"units\":\"data\"},\"x\":{\"field\":\"x\"},\"y\":{\"field\":\"y\"}},\"id\":\"380e1862-7af9-46ea-bd6c-c6db1e7dc84f\",\"type\":\"Rect\"},{\"attributes\":{\"data_source\":{\"id\":\"1345534a-8df6-4d45-b8d6-ea69569d378f\",\"type\":\"ColumnDataSource\"},\"glyph\":{\"id\":\"a50f4a49-2e6d-4218-bf49-2d2a69be03fc\",\"type\":\"Rect\"},\"hover_glyph\":null,\"nonselection_glyph\":null,\"selection_glyph\":null},\"id\":\"4c9282cb-8389-4bce-b434-e03acfc86fc2\",\"type\":\"GlyphRenderer\"},{\"attributes\":{\"data_source\":{\"id\":\"a3ca13f2-6c01-413b-ab06-aca95b944fda\",\"type\":\"ColumnDataSource\"},\"glyph\":{\"id\":\"aeb096ab-c812-475d-8bed-fd5dc7c14b47\",\"type\":\"Rect\"},\"hover_glyph\":null,\"nonselection_glyph\":null,\"selection_glyph\":null},\"id\":\"d44d96e7-158e-42c9-9e77-72a1616eca7f\",\"type\":\"GlyphRenderer\"},{\"attributes\":{},\"id\":\"e2acdfa9-de53-4c2e-a175-02313c8c85ec\",\"type\":\"CategoricalTickFormatter\"},{\"attributes\":{\"fill_alpha\":{\"field\":\"fill_alpha\"},\"fill_color\":{\"field\":\"color\"},\"height\":{\"field\":\"height\",\"units\":\"data\"},\"line_color\":{\"field\":\"line_color\"},\"width\":{\"field\":\"width\",\"units\":\"data\"},\"x\":{\"field\":\"x\"},\"y\":{\"field\":\"y\"}},\"id\":\"5f69be77-2ba9-43c5-99e8-a82f96e108d6\",\"type\":\"Rect\"},{\"attributes\":{\"callback\":null,\"factors\":[\"Bioenergy and renewable waste\",\"Biomass and biogas\",\"Geothermal\",\"Hydro\",\"Marine\",\"Solar\",\"Wind\",\"solar\",\"wind\"]},\"id\":\"44e4f97a-978b-40b8-8076-1bdb05aef5a3\",\"type\":\"FactorRange\"},{\"attributes\":{\"callback\":null,\"column_names\":[\"width\",\"x\",\"height\",\"color\",\"y\",\"line_alpha\",\"line_color\",\"fill_alpha\",\"label\"],\"data\":{\"chart_index\":[{\"data_source\":\"IRENA\",\"energy_source\":\"Bioenergy and renewable waste\",\"year\":2014}],\"color\":[\"#407ee7\"],\"data_source\":[\"IRENA\"],\"energy_source\":[\"Bioenergy and renewable waste\"],\"fill_alpha\":[0.8],\"height\":[1267.0],\"label\":[{\"data_source\":\"IRENA\",\"energy_source\":\"Bioenergy and renewable waste\",\"year\":2014}],\"line_alpha\":[1.0],\"line_color\":[\"white\"],\"width\":[0.1702679845041569],\"x\":[\"Bioenergy and renewable waste:0.166666666667\"],\"y\":[633.5],\"year\":[2014]}},\"id\":\"9983eb0c-8519-4c6a-8b3e-dc671e573097\",\"type\":\"ColumnDataSource\"},{\"attributes\":{\"plot\":null,\"text\":\"DK\"},\"id\":\"33819945-7d19-4f73-b985-5f4343c373da\",\"type\":\"Title\"},{\"attributes\":{\"fill_alpha\":{\"field\":\"fill_alpha\"},\"fill_color\":{\"field\":\"color\"},\"height\":{\"field\":\"height\",\"units\":\"data\"},\"line_color\":{\"field\":\"line_color\"},\"width\":{\"field\":\"width\",\"units\":\"data\"},\"x\":{\"field\":\"x\"},\"y\":{\"field\":\"y\"}},\"id\":\"b42458ec-fbd3-4f35-b89d-b3f83f8ab77f\",\"type\":\"Rect\"},{\"attributes\":{\"fill_alpha\":{\"field\":\"fill_alpha\"},\"fill_color\":{\"field\":\"color\"},\"height\":{\"field\":\"height\",\"units\":\"data\"},\"line_color\":{\"field\":\"line_color\"},\"width\":{\"field\":\"width\",\"units\":\"data\"},\"x\":{\"field\":\"x\"},\"y\":{\"field\":\"y\"}},\"id\":\"2d513bb6-cbc5-448a-9f40-292488437aa4\",\"type\":\"Rect\"},{\"attributes\":{\"data_source\":{\"id\":\"b472674a-a758-4403-942c-de762473e363\",\"type\":\"ColumnDataSource\"},\"glyph\":{\"id\":\"c69b4ffb-f87b-4dc4-991d-2ceb2577f1d1\",\"type\":\"Rect\"},\"hover_glyph\":null,\"nonselection_glyph\":null,\"selection_glyph\":null},\"id\":\"c44fafe0-cf1a-43e7-b438-3093d9b58084\",\"type\":\"GlyphRenderer\"},{\"attributes\":{\"data_source\":{\"id\":\"ba217e13-3f25-4e59-8c1a-08763a52170e\",\"type\":\"ColumnDataSource\"},\"glyph\":{\"id\":\"8e734541-4314-4fb4-b622-418f85f8e27f\",\"type\":\"Rect\"},\"hover_glyph\":null,\"nonselection_glyph\":null,\"selection_glyph\":null},\"id\":\"2390c842-73bb-4523-a220-8c6d2764b5ed\",\"type\":\"GlyphRenderer\"},{\"attributes\":{\"legends\":[[\"('IRENA', 2014)\",[{\"id\":\"cb64304b-2cad-4f22-acd3-61eb184a4d89\",\"type\":\"GlyphRenderer\"}]],[\"('IRENA', 2015)\",[{\"id\":\"84e0e09a-db14-4690-a552-c75c0300c177\",\"type\":\"GlyphRenderer\"}]],[\"('entsoe', 2014)\",[{\"id\":\"bff0a138-b779-43e1-8e82-8027c955614a\",\"type\":\"GlyphRenderer\"}]],[\"('Energinet.dk', 2015)\",[{\"id\":\"626b7e43-52ee-4e50-aeee-a0bbb2d00a03\",\"type\":\"GlyphRenderer\"}]],[\"('Energistyrelsen', 2015)\",[{\"id\":\"bab11fbc-ff10-463f-a1c5-0a295ee7ac62\",\"type\":\"GlyphRenderer\"}]]],\"location\":\"top_left\",\"plot\":{\"id\":\"49b218e9-bb71-4084-af7b-b8ba41df62c0\",\"subtype\":\"Chart\",\"type\":\"Plot\"}},\"id\":\"b8241eae-5ebb-4e52-bc54-0978ed5dc977\",\"type\":\"Legend\"},{\"attributes\":{\"plot\":{\"id\":\"49b218e9-bb71-4084-af7b-b8ba41df62c0\",\"subtype\":\"Chart\",\"type\":\"Plot\"}},\"id\":\"d43e3503-4440-4cce-b568-ff12e77908d3\",\"type\":\"ResetTool\"},{\"attributes\":{\"fill_alpha\":{\"field\":\"fill_alpha\"},\"fill_color\":{\"field\":\"color\"},\"height\":{\"field\":\"height\",\"units\":\"data\"},\"line_color\":{\"field\":\"line_color\"},\"width\":{\"field\":\"width\",\"units\":\"data\"},\"x\":{\"field\":\"x\"},\"y\":{\"field\":\"y\"}},\"id\":\"451211fa-5d02-42a9-84dc-993887771e02\",\"type\":\"Rect\"},{\"attributes\":{\"data_source\":{\"id\":\"0eb8c262-7db9-43b5-894a-6bb79e4a18ee\",\"type\":\"ColumnDataSource\"},\"glyph\":{\"id\":\"ea2c492f-e9ee-4c21-aec8-1f97b2b314a2\",\"type\":\"Rect\"},\"hover_glyph\":null,\"nonselection_glyph\":null,\"selection_glyph\":null},\"id\":\"bff0a138-b779-43e1-8e82-8027c955614a\",\"type\":\"GlyphRenderer\"},{\"attributes\":{\"data_source\":{\"id\":\"4d23b995-861f-48c5-9be2-e56232a52b55\",\"type\":\"ColumnDataSource\"},\"glyph\":{\"id\":\"3c75c47a-18ff-43cd-92c5-abc55e0914b0\",\"type\":\"Rect\"},\"hover_glyph\":null,\"nonselection_glyph\":null,\"selection_glyph\":null},\"id\":\"0893c0df-c3e3-425e-90e7-1e1fa78a3692\",\"type\":\"GlyphRenderer\"},{\"attributes\":{\"active_drag\":\"auto\",\"active_scroll\":\"auto\",\"active_tap\":\"auto\",\"tools\":[{\"id\":\"482ca545-8739-4192-8f7b-f4702457887f\",\"type\":\"PanTool\"},{\"id\":\"1828cb33-84f4-4a0e-84ad-393ec1b13f3e\",\"type\":\"WheelZoomTool\"},{\"id\":\"96b9ead0-fc74-4174-9392-f008df8c2641\",\"type\":\"BoxZoomTool\"},{\"id\":\"9a71b6db-515e-4429-a42e-87a2cad6fb44\",\"type\":\"SaveTool\"},{\"id\":\"d43e3503-4440-4cce-b568-ff12e77908d3\",\"type\":\"ResetTool\"},{\"id\":\"1649bcea-d723-4c47-930a-cae4ea6b0e36\",\"type\":\"HelpTool\"}]},\"id\":\"ad6d023e-155b-473a-993f-ec8bdc336fd0\",\"type\":\"Toolbar\"},{\"attributes\":{\"data_source\":{\"id\":\"b31f131d-b577-4e87-970e-1b7c44b0311c\",\"type\":\"ColumnDataSource\"},\"glyph\":{\"id\":\"74f2413e-91de-422f-8bfa-f1d73b9b0ce1\",\"type\":\"Rect\"},\"hover_glyph\":null,\"nonselection_glyph\":null,\"selection_glyph\":null},\"id\":\"d7d0affb-ce6e-471f-8870-b75f06dcdf1b\",\"type\":\"GlyphRenderer\"},{\"attributes\":{\"data_source\":{\"id\":\"fdd7d994-3fba-4a27-896d-0e09069b7351\",\"type\":\"ColumnDataSource\"},\"glyph\":{\"id\":\"c460a0c4-7313-49df-924f-25a767bdf8fc\",\"type\":\"Rect\"},\"hover_glyph\":null,\"nonselection_glyph\":null,\"selection_glyph\":null},\"id\":\"84e0e09a-db14-4690-a552-c75c0300c177\",\"type\":\"GlyphRenderer\"},{\"attributes\":{\"overlay\":{\"id\":\"e9640c6d-c72d-4d6c-ac61-07597efdef3b\",\"type\":\"BoxAnnotation\"},\"plot\":{\"id\":\"49b218e9-bb71-4084-af7b-b8ba41df62c0\",\"subtype\":\"Chart\",\"type\":\"Plot\"}},\"id\":\"96b9ead0-fc74-4174-9392-f008df8c2641\",\"type\":\"BoxZoomTool\"}],\"root_ids\":[\"49b218e9-bb71-4084-af7b-b8ba41df62c0\"]},\"title\":\"Bokeh Application\",\"version\":\"0.12.0\"}};\n",
       "            var render_items = [{\"docid\":\"6a7e75b7-5733-4250-a215-ead79bd5bb74\",\"elementid\":\"09978b5a-aec9-4d9e-a759-1126d0d59e42\",\"modelid\":\"49b218e9-bb71-4084-af7b-b8ba41df62c0\",\"notebook_comms_target\":\"d651da36-5871-4927-baf3-e546d3b94b1c\"}];\n",
       "            \n",
       "            Bokeh.embed.embed_items(docs_json, render_items);\n",
       "        });\n",
       "      },\n",
       "      function(Bokeh) {\n",
       "      }\n",
       "    ];\n",
       "  \n",
       "    function run_inline_js() {\n",
       "      for (var i = 0; i < inline_js.length; i++) {\n",
       "        inline_js[i](window.Bokeh);\n",
       "      }\n",
       "    }\n",
       "  \n",
       "    if (window._bokeh_is_loading === 0) {\n",
       "      console.log(\"Bokeh: BokehJS loaded, going straight to plotting\");\n",
       "      run_inline_js();\n",
       "    } else {\n",
       "      load_libs(js_urls, function() {\n",
       "        console.log(\"Bokeh: BokehJS plotting callback run at\", now());\n",
       "        run_inline_js();\n",
       "      });\n",
       "    }\n",
       "  }(this));\n",
       "</script>"
      ]
     },
     "metadata": {},
     "output_type": "display_data"
    },
    {
     "data": {
      "text/html": [
       "<p><code>&lt;Bokeh Notebook handle for <strong>In[38]</strong>&gt;</code></p>"
      ],
      "text/plain": [
       "<bokeh.io._CommsHandle at 0x7fd1440933c8>"
      ]
     },
     "execution_count": 38,
     "metadata": {},
     "output_type": "execute_result"
    }
   ],
   "source": [
    "# plot\n",
    "p = Bar(cap_country, label='energy_source', values='electrical_capacity_MW',\n",
    "        group=['data_source','year'], legend='top_left', \n",
    "        title=plot_country)\n",
    "\n",
    "show(p)"
   ]
  },
  {
   "cell_type": "code",
   "execution_count": 39,
   "metadata": {
    "collapsed": true
   },
   "outputs": [],
   "source": [
    "plot_country = 'FR'"
   ]
  },
  {
   "cell_type": "code",
   "execution_count": 40,
   "metadata": {
    "collapsed": false
   },
   "outputs": [
    {
     "data": {
      "text/html": [
       "<div>\n",
       "<table border=\"1\" class=\"dataframe\">\n",
       "  <thead>\n",
       "    <tr style=\"text-align: right;\">\n",
       "      <th></th>\n",
       "      <th>data_source</th>\n",
       "      <th>electrical_capacity_MW</th>\n",
       "      <th>energy_source</th>\n",
       "      <th>year</th>\n",
       "    </tr>\n",
       "  </thead>\n",
       "  <tbody>\n",
       "    <tr>\n",
       "      <th>0</th>\n",
       "      <td>IRENA</td>\n",
       "      <td>1115.000000</td>\n",
       "      <td>Bioenergy and renewable waste</td>\n",
       "      <td>2014</td>\n",
       "    </tr>\n",
       "    <tr>\n",
       "      <th>1</th>\n",
       "      <td>IRENA</td>\n",
       "      <td>1267.000000</td>\n",
       "      <td>Bioenergy and renewable waste</td>\n",
       "      <td>2015</td>\n",
       "    </tr>\n",
       "    <tr>\n",
       "      <th>2</th>\n",
       "      <td>IRENA</td>\n",
       "      <td>25294.000000</td>\n",
       "      <td>Hydro</td>\n",
       "      <td>2014</td>\n",
       "    </tr>\n",
       "    <tr>\n",
       "      <th>3</th>\n",
       "      <td>IRENA</td>\n",
       "      <td>25421.000000</td>\n",
       "      <td>Hydro</td>\n",
       "      <td>2015</td>\n",
       "    </tr>\n",
       "    <tr>\n",
       "      <th>4</th>\n",
       "      <td>IRENA</td>\n",
       "      <td>240.000000</td>\n",
       "      <td>Marine</td>\n",
       "      <td>2014</td>\n",
       "    </tr>\n",
       "    <tr>\n",
       "      <th>5</th>\n",
       "      <td>IRENA</td>\n",
       "      <td>241.000000</td>\n",
       "      <td>Marine</td>\n",
       "      <td>2015</td>\n",
       "    </tr>\n",
       "    <tr>\n",
       "      <th>6</th>\n",
       "      <td>IRENA</td>\n",
       "      <td>5654.300000</td>\n",
       "      <td>Solar</td>\n",
       "      <td>2014</td>\n",
       "    </tr>\n",
       "    <tr>\n",
       "      <th>7</th>\n",
       "      <td>IRENA</td>\n",
       "      <td>6549.300000</td>\n",
       "      <td>Solar</td>\n",
       "      <td>2015</td>\n",
       "    </tr>\n",
       "    <tr>\n",
       "      <th>8</th>\n",
       "      <td>IRENA</td>\n",
       "      <td>9068.000000</td>\n",
       "      <td>Wind</td>\n",
       "      <td>2014</td>\n",
       "    </tr>\n",
       "    <tr>\n",
       "      <th>9</th>\n",
       "      <td>IRENA</td>\n",
       "      <td>10358.000000</td>\n",
       "      <td>Wind</td>\n",
       "      <td>2015</td>\n",
       "    </tr>\n",
       "    <tr>\n",
       "      <th>10</th>\n",
       "      <td>RTE</td>\n",
       "      <td>25502.160000</td>\n",
       "      <td>Hydro</td>\n",
       "      <td>2014</td>\n",
       "    </tr>\n",
       "    <tr>\n",
       "      <th>11</th>\n",
       "      <td>entsoe</td>\n",
       "      <td>25200.000000</td>\n",
       "      <td>Hydro</td>\n",
       "      <td>2014</td>\n",
       "    </tr>\n",
       "    <tr>\n",
       "      <th>12</th>\n",
       "      <td>RTE</td>\n",
       "      <td>25502.160000</td>\n",
       "      <td>Hydro</td>\n",
       "      <td>2014</td>\n",
       "    </tr>\n",
       "    <tr>\n",
       "      <th>13</th>\n",
       "      <td>entsoe</td>\n",
       "      <td>25200.000000</td>\n",
       "      <td>Hydro</td>\n",
       "      <td>2014</td>\n",
       "    </tr>\n",
       "    <tr>\n",
       "      <th>14</th>\n",
       "      <td>RTE</td>\n",
       "      <td>4330.000000</td>\n",
       "      <td>Wind</td>\n",
       "      <td>2014</td>\n",
       "    </tr>\n",
       "    <tr>\n",
       "      <th>15</th>\n",
       "      <td>entsoe</td>\n",
       "      <td>9000.000000</td>\n",
       "      <td>Wind</td>\n",
       "      <td>2014</td>\n",
       "    </tr>\n",
       "    <tr>\n",
       "      <th>16</th>\n",
       "      <td>RTE</td>\n",
       "      <td>4350.970000</td>\n",
       "      <td>Solar</td>\n",
       "      <td>2014</td>\n",
       "    </tr>\n",
       "    <tr>\n",
       "      <th>17</th>\n",
       "      <td>entsoe</td>\n",
       "      <td>5100.000000</td>\n",
       "      <td>Solar</td>\n",
       "      <td>2014</td>\n",
       "    </tr>\n",
       "    <tr>\n",
       "      <th>18</th>\n",
       "      <td>RTE</td>\n",
       "      <td>0.000000</td>\n",
       "      <td>Geothermal</td>\n",
       "      <td>2014</td>\n",
       "    </tr>\n",
       "    <tr>\n",
       "      <th>19</th>\n",
       "      <td>entsoe</td>\n",
       "      <td>0.000000</td>\n",
       "      <td>Geothermal</td>\n",
       "      <td>2014</td>\n",
       "    </tr>\n",
       "    <tr>\n",
       "      <th>20</th>\n",
       "      <td>RTE</td>\n",
       "      <td>0.000000</td>\n",
       "      <td>Marine</td>\n",
       "      <td>2014</td>\n",
       "    </tr>\n",
       "    <tr>\n",
       "      <th>21</th>\n",
       "      <td>entsoe</td>\n",
       "      <td>0.000000</td>\n",
       "      <td>Marine</td>\n",
       "      <td>2014</td>\n",
       "    </tr>\n",
       "    <tr>\n",
       "      <th>22</th>\n",
       "      <td>RTE</td>\n",
       "      <td>0.000000</td>\n",
       "      <td>Biomass and biogas</td>\n",
       "      <td>2014</td>\n",
       "    </tr>\n",
       "    <tr>\n",
       "      <th>23</th>\n",
       "      <td>entsoe</td>\n",
       "      <td>1500.000000</td>\n",
       "      <td>Biomass and biogas</td>\n",
       "      <td>2014</td>\n",
       "    </tr>\n",
       "    <tr>\n",
       "      <th>24</th>\n",
       "      <td>gouv.fr</td>\n",
       "      <td>1343.799800</td>\n",
       "      <td>Biomass and biogas</td>\n",
       "      <td>2014</td>\n",
       "    </tr>\n",
       "    <tr>\n",
       "      <th>25</th>\n",
       "      <td>gouv.fr</td>\n",
       "      <td>9.000000</td>\n",
       "      <td>Geothermal</td>\n",
       "      <td>2014</td>\n",
       "    </tr>\n",
       "    <tr>\n",
       "      <th>26</th>\n",
       "      <td>gouv.fr</td>\n",
       "      <td>2074.297880</td>\n",
       "      <td>Hydro</td>\n",
       "      <td>2014</td>\n",
       "    </tr>\n",
       "    <tr>\n",
       "      <th>27</th>\n",
       "      <td>gouv.fr</td>\n",
       "      <td>8602.080614</td>\n",
       "      <td>Photovoltaics</td>\n",
       "      <td>2014</td>\n",
       "    </tr>\n",
       "    <tr>\n",
       "      <th>28</th>\n",
       "      <td>gouv.fr</td>\n",
       "      <td>10573.327000</td>\n",
       "      <td>Wind</td>\n",
       "      <td>2014</td>\n",
       "    </tr>\n",
       "  </tbody>\n",
       "</table>\n",
       "</div>"
      ],
      "text/plain": [
       "   data_source  electrical_capacity_MW                  energy_source  year\n",
       "0        IRENA             1115.000000  Bioenergy and renewable waste  2014\n",
       "1        IRENA             1267.000000  Bioenergy and renewable waste  2015\n",
       "2        IRENA            25294.000000                          Hydro  2014\n",
       "3        IRENA            25421.000000                          Hydro  2015\n",
       "4        IRENA              240.000000                         Marine  2014\n",
       "5        IRENA              241.000000                         Marine  2015\n",
       "6        IRENA             5654.300000                          Solar  2014\n",
       "7        IRENA             6549.300000                          Solar  2015\n",
       "8        IRENA             9068.000000                           Wind  2014\n",
       "9        IRENA            10358.000000                           Wind  2015\n",
       "10         RTE            25502.160000                          Hydro  2014\n",
       "11      entsoe            25200.000000                          Hydro  2014\n",
       "12         RTE            25502.160000                          Hydro  2014\n",
       "13      entsoe            25200.000000                          Hydro  2014\n",
       "14         RTE             4330.000000                           Wind  2014\n",
       "15      entsoe             9000.000000                           Wind  2014\n",
       "16         RTE             4350.970000                          Solar  2014\n",
       "17      entsoe             5100.000000                          Solar  2014\n",
       "18         RTE                0.000000                     Geothermal  2014\n",
       "19      entsoe                0.000000                     Geothermal  2014\n",
       "20         RTE                0.000000                         Marine  2014\n",
       "21      entsoe                0.000000                         Marine  2014\n",
       "22         RTE                0.000000             Biomass and biogas  2014\n",
       "23      entsoe             1500.000000             Biomass and biogas  2014\n",
       "24     gouv.fr             1343.799800             Biomass and biogas  2014\n",
       "25     gouv.fr                9.000000                     Geothermal  2014\n",
       "26     gouv.fr             2074.297880                          Hydro  2014\n",
       "27     gouv.fr             8602.080614                  Photovoltaics  2014\n",
       "28     gouv.fr            10573.327000                           Wind  2014"
      ]
     },
     "execution_count": 40,
     "metadata": {},
     "output_type": "execute_result"
    }
   ],
   "source": [
    "# chose capacities of respective country and recent years\n",
    "idx_country = capacities[(capacities['country'] == plot_country) \n",
    "                        & (capacities['year'].isin(recent_years))].index\n",
    "\n",
    "# prepare data frame for plotting\n",
    "cap_country = capacities.loc[idx_country].drop(['country',\n",
    "                                                'capacity_definition'],\n",
    "                                               axis = 1)\n",
    "\n",
    "cap_country = cap_country.reset_index(drop = True)\n",
    "\n",
    "cap_country"
   ]
  },
  {
   "cell_type": "code",
   "execution_count": 41,
   "metadata": {
    "collapsed": false
   },
   "outputs": [
    {
     "data": {
      "text/html": [
       "\n",
       "\n",
       "    <div class=\"bk-root\">\n",
       "        <div class=\"plotdiv\" id=\"8dd97216-400a-4410-91e4-53736669931e\"></div>\n",
       "    </div>\n",
       "<script type=\"text/javascript\">\n",
       "  \n",
       "  (function(global) {\n",
       "    function now() {\n",
       "      return new Date();\n",
       "    }\n",
       "  \n",
       "    if (typeof (window._bokeh_onload_callbacks) === \"undefined\") {\n",
       "      window._bokeh_onload_callbacks = [];\n",
       "    }\n",
       "  \n",
       "    function run_callbacks() {\n",
       "      window._bokeh_onload_callbacks.forEach(function(callback) { callback() });\n",
       "      delete window._bokeh_onload_callbacks\n",
       "      console.info(\"Bokeh: all callbacks have finished\");\n",
       "    }\n",
       "  \n",
       "    function load_libs(js_urls, callback) {\n",
       "      window._bokeh_onload_callbacks.push(callback);\n",
       "      if (window._bokeh_is_loading > 0) {\n",
       "        console.log(\"Bokeh: BokehJS is being loaded, scheduling callback at\", now());\n",
       "        return null;\n",
       "      }\n",
       "      if (js_urls == null || js_urls.length === 0) {\n",
       "        run_callbacks();\n",
       "        return null;\n",
       "      }\n",
       "      console.log(\"Bokeh: BokehJS not loaded, scheduling load and callback at\", now());\n",
       "      window._bokeh_is_loading = js_urls.length;\n",
       "      for (var i = 0; i < js_urls.length; i++) {\n",
       "        var url = js_urls[i];\n",
       "        var s = document.createElement('script');\n",
       "        s.src = url;\n",
       "        s.async = false;\n",
       "        s.onreadystatechange = s.onload = function() {\n",
       "          window._bokeh_is_loading--;\n",
       "          if (window._bokeh_is_loading === 0) {\n",
       "            console.log(\"Bokeh: all BokehJS libraries loaded\");\n",
       "            run_callbacks()\n",
       "          }\n",
       "        };\n",
       "        s.onerror = function() {\n",
       "          console.warn(\"failed to load library \" + url);\n",
       "        };\n",
       "        console.log(\"Bokeh: injecting script tag for BokehJS library: \", url);\n",
       "        document.getElementsByTagName(\"head\")[0].appendChild(s);\n",
       "      }\n",
       "    };var element = document.getElementById(\"8dd97216-400a-4410-91e4-53736669931e\");\n",
       "    if (element == null) {\n",
       "      console.log(\"Bokeh: ERROR: autoload.js configured with elementid '8dd97216-400a-4410-91e4-53736669931e' but no matching script tag was found. \")\n",
       "      return false;\n",
       "    }\n",
       "  \n",
       "    var js_urls = [];\n",
       "  \n",
       "    var inline_js = [\n",
       "      function(Bokeh) {\n",
       "        Bokeh.$(function() {\n",
       "            var docs_json = {\"172f1a9a-1f9f-4f6f-826e-c5234b651802\":{\"roots\":{\"references\":[{\"attributes\":{\"fill_alpha\":{\"field\":\"fill_alpha\"},\"fill_color\":{\"field\":\"color\"},\"height\":{\"field\":\"height\",\"units\":\"data\"},\"line_color\":{\"field\":\"line_color\"},\"width\":{\"field\":\"width\",\"units\":\"data\"},\"x\":{\"field\":\"x\"},\"y\":{\"field\":\"y\"}},\"id\":\"3dfac7f9-b287-4f8b-a800-848d931f982f\",\"type\":\"Rect\"},{\"attributes\":{\"bottom_units\":\"screen\",\"fill_alpha\":{\"value\":0.5},\"fill_color\":{\"value\":\"lightgrey\"},\"left_units\":\"screen\",\"level\":\"overlay\",\"line_alpha\":{\"value\":1.0},\"line_color\":{\"value\":\"black\"},\"line_dash\":[4,4],\"line_width\":{\"value\":2},\"plot\":null,\"render_mode\":\"css\",\"right_units\":\"screen\",\"top_units\":\"screen\"},\"id\":\"0ec30426-354c-4ce7-bd4c-a6f0865b277f\",\"type\":\"BoxAnnotation\"},{\"attributes\":{\"callback\":null,\"column_names\":[\"width\",\"x\",\"height\",\"color\",\"y\",\"line_alpha\",\"line_color\",\"fill_alpha\",\"label\"],\"data\":{\"chart_index\":[{\"data_source\":\"IRENA\",\"energy_source\":\"Hydro\",\"year\":2015}],\"color\":[\"#5ab738\"],\"data_source\":[\"IRENA\"],\"energy_source\":[\"Hydro\"],\"fill_alpha\":[0.8],\"height\":[25421.0],\"label\":[{\"data_source\":\"IRENA\",\"energy_source\":\"Hydro\",\"year\":2015}],\"line_alpha\":[1.0],\"line_color\":[\"white\"],\"width\":[0.1702679845041569],\"x\":[\"Hydro:0.333333333333\"],\"y\":[12710.5],\"year\":[2015]}},\"id\":\"78dfffdd-62fb-4ae8-8b73-6c217b5d40a6\",\"type\":\"ColumnDataSource\"},{\"attributes\":{\"callback\":null,\"column_names\":[\"width\",\"x\",\"height\",\"color\",\"y\",\"line_alpha\",\"line_color\",\"fill_alpha\",\"label\"],\"data\":{\"chart_index\":[{\"data_source\":\"gouv.fr\",\"energy_source\":\"Biomass and biogas\",\"year\":2014}],\"color\":[\"#00ad9c\"],\"data_source\":[\"gouv.fr\"],\"energy_source\":[\"Biomass and biogas\"],\"fill_alpha\":[0.8],\"height\":[1343.7998000030518],\"label\":[{\"data_source\":\"gouv.fr\",\"energy_source\":\"Biomass and biogas\",\"year\":2014}],\"line_alpha\":[1.0],\"line_color\":[\"white\"],\"width\":[0.1702679845041569],\"x\":[\"Biomass and biogas:0.833333333333\"],\"y\":[671.8999000015259],\"year\":[2014]}},\"id\":\"52956bad-96a0-4b5d-b5e2-0baedbe393ad\",\"type\":\"ColumnDataSource\"},{\"attributes\":{\"data_source\":{\"id\":\"f2758952-30e6-4961-ba2c-48d227f2f043\",\"type\":\"ColumnDataSource\"},\"glyph\":{\"id\":\"515cf35d-2284-45f7-9dd8-fba5d7ebe4a1\",\"type\":\"Rect\"},\"hover_glyph\":null,\"nonselection_glyph\":null,\"selection_glyph\":null},\"id\":\"c4a180ec-f0e3-4292-bce9-398c0978dd53\",\"type\":\"GlyphRenderer\"},{\"attributes\":{\"fill_alpha\":{\"field\":\"fill_alpha\"},\"fill_color\":{\"field\":\"color\"},\"height\":{\"field\":\"height\",\"units\":\"data\"},\"line_color\":{\"field\":\"line_color\"},\"width\":{\"field\":\"width\",\"units\":\"data\"},\"x\":{\"field\":\"x\"},\"y\":{\"field\":\"y\"}},\"id\":\"1269d57a-2526-4bee-a9ea-46fe2f86a08e\",\"type\":\"Rect\"},{\"attributes\":{\"data_source\":{\"id\":\"85a3711a-ffde-4072-af9b-03af8a5aa506\",\"type\":\"ColumnDataSource\"},\"glyph\":{\"id\":\"e526fb41-5a3a-48ed-8f91-5dc4003eb198\",\"type\":\"Rect\"},\"hover_glyph\":null,\"nonselection_glyph\":null,\"selection_glyph\":null},\"id\":\"2893907a-9133-48b4-a341-724532b57f66\",\"type\":\"GlyphRenderer\"},{\"attributes\":{\"callback\":null,\"column_names\":[\"width\",\"x\",\"height\",\"color\",\"y\",\"line_alpha\",\"line_color\",\"fill_alpha\",\"label\"],\"data\":{\"chart_index\":[{\"data_source\":\"IRENA\",\"energy_source\":\"Marine\",\"year\":2015}],\"color\":[\"#5ab738\"],\"data_source\":[\"IRENA\"],\"energy_source\":[\"Marine\"],\"fill_alpha\":[0.8],\"height\":[241.0],\"label\":[{\"data_source\":\"IRENA\",\"energy_source\":\"Marine\",\"year\":2015}],\"line_alpha\":[1.0],\"line_color\":[\"white\"],\"width\":[0.1702679845041569],\"x\":[\"Marine:0.333333333333\"],\"y\":[120.5],\"year\":[2015]}},\"id\":\"8063dac4-398b-488b-afa9-46caee4b7311\",\"type\":\"ColumnDataSource\"},{\"attributes\":{\"callback\":null,\"column_names\":[\"width\",\"x\",\"height\",\"color\",\"y\",\"line_alpha\",\"line_color\",\"fill_alpha\",\"label\"],\"data\":{\"chart_index\":[{\"data_source\":\"entsoe\",\"energy_source\":\"Hydro\",\"year\":2014}],\"color\":[\"#df5320\"],\"data_source\":[\"entsoe\"],\"energy_source\":[\"Hydro\"],\"fill_alpha\":[0.8],\"height\":[50400.0],\"label\":[{\"data_source\":\"entsoe\",\"energy_source\":\"Hydro\",\"year\":2014}],\"line_alpha\":[1.0],\"line_color\":[\"white\"],\"width\":[0.1702679845041569],\"x\":[\"Hydro:0.666666666667\"],\"y\":[25200.0],\"year\":[2014]}},\"id\":\"60ace413-d986-40ef-aa1d-927f11456707\",\"type\":\"ColumnDataSource\"},{\"attributes\":{\"callback\":null,\"column_names\":[\"width\",\"x\",\"height\",\"color\",\"y\",\"line_alpha\",\"line_color\",\"fill_alpha\",\"label\"],\"data\":{\"chart_index\":[{\"data_source\":\"entsoe\",\"energy_source\":\"Wind\",\"year\":2014}],\"color\":[\"#df5320\"],\"data_source\":[\"entsoe\"],\"energy_source\":[\"Wind\"],\"fill_alpha\":[0.8],\"height\":[9000.0],\"label\":[{\"data_source\":\"entsoe\",\"energy_source\":\"Wind\",\"year\":2014}],\"line_alpha\":[1.0],\"line_color\":[\"white\"],\"width\":[0.1702679845041569],\"x\":[\"Wind:0.666666666667\"],\"y\":[4500.0],\"year\":[2014]}},\"id\":\"5bf56644-489e-4902-8581-5741761bfc80\",\"type\":\"ColumnDataSource\"},{\"attributes\":{\"callback\":null,\"column_names\":[\"width\",\"x\",\"height\",\"color\",\"y\",\"line_alpha\",\"line_color\",\"fill_alpha\",\"label\"],\"data\":{\"chart_index\":[{\"data_source\":\"gouv.fr\",\"energy_source\":\"Photovoltaics\",\"year\":2014}],\"color\":[\"#00ad9c\"],\"data_source\":[\"gouv.fr\"],\"energy_source\":[\"Photovoltaics\"],\"fill_alpha\":[0.8],\"height\":[8602.080614193901],\"label\":[{\"data_source\":\"gouv.fr\",\"energy_source\":\"Photovoltaics\",\"year\":2014}],\"line_alpha\":[1.0],\"line_color\":[\"white\"],\"width\":[0.1702679845041569],\"x\":[\"Photovoltaics:0.833333333333\"],\"y\":[4301.0403070969505],\"year\":[2014]}},\"id\":\"3d447aa1-e170-433c-8dd9-b584aeb67523\",\"type\":\"ColumnDataSource\"},{\"attributes\":{\"callback\":null,\"column_names\":[\"width\",\"x\",\"height\",\"color\",\"y\",\"line_alpha\",\"line_color\",\"fill_alpha\",\"label\"],\"data\":{\"chart_index\":[{\"data_source\":\"IRENA\",\"energy_source\":\"Hydro\",\"year\":2014}],\"color\":[\"#f22c40\"],\"data_source\":[\"IRENA\"],\"energy_source\":[\"Hydro\"],\"fill_alpha\":[0.8],\"height\":[25294.0],\"label\":[{\"data_source\":\"IRENA\",\"energy_source\":\"Hydro\",\"year\":2014}],\"line_alpha\":[1.0],\"line_color\":[\"white\"],\"width\":[0.1702679845041569],\"x\":[\"Hydro:0.166666666667\"],\"y\":[12647.0],\"year\":[2014]}},\"id\":\"d1034deb-ce56-4254-bfa4-d102700aa8b8\",\"type\":\"ColumnDataSource\"},{\"attributes\":{\"plot\":{\"id\":\"82391b0e-02b7-4dbd-bb79-dc4c4106f6d0\",\"subtype\":\"Chart\",\"type\":\"Plot\"}},\"id\":\"6abdf188-6abc-4b51-8fa2-0ea26f74346a\",\"type\":\"WheelZoomTool\"},{\"attributes\":{\"fill_alpha\":{\"field\":\"fill_alpha\"},\"fill_color\":{\"field\":\"color\"},\"height\":{\"field\":\"height\",\"units\":\"data\"},\"line_color\":{\"field\":\"line_color\"},\"width\":{\"field\":\"width\",\"units\":\"data\"},\"x\":{\"field\":\"x\"},\"y\":{\"field\":\"y\"}},\"id\":\"ad3b9743-535d-4137-88e0-267145f53655\",\"type\":\"Rect\"},{\"attributes\":{\"fill_alpha\":{\"field\":\"fill_alpha\"},\"fill_color\":{\"field\":\"color\"},\"height\":{\"field\":\"height\",\"units\":\"data\"},\"line_color\":{\"field\":\"line_color\"},\"width\":{\"field\":\"width\",\"units\":\"data\"},\"x\":{\"field\":\"x\"},\"y\":{\"field\":\"y\"}},\"id\":\"b738793f-3bdd-4347-91c8-0e37e671177f\",\"type\":\"Rect\"},{\"attributes\":{\"callback\":null,\"column_names\":[\"width\",\"x\",\"height\",\"color\",\"y\",\"line_alpha\",\"line_color\",\"fill_alpha\",\"label\"],\"data\":{\"chart_index\":[{\"data_source\":\"gouv.fr\",\"energy_source\":\"Wind\",\"year\":2014}],\"color\":[\"#00ad9c\"],\"data_source\":[\"gouv.fr\"],\"energy_source\":[\"Wind\"],\"fill_alpha\":[0.8],\"height\":[10573.326999999523],\"label\":[{\"data_source\":\"gouv.fr\",\"energy_source\":\"Wind\",\"year\":2014}],\"line_alpha\":[1.0],\"line_color\":[\"white\"],\"width\":[0.1702679845041569],\"x\":[\"Wind:0.833333333333\"],\"y\":[5286.663499999761],\"year\":[2014]}},\"id\":\"72432359-81ab-46fb-a346-4fc8a3c08e41\",\"type\":\"ColumnDataSource\"},{\"attributes\":{\"data_source\":{\"id\":\"d1034deb-ce56-4254-bfa4-d102700aa8b8\",\"type\":\"ColumnDataSource\"},\"glyph\":{\"id\":\"8ef8362f-bf18-444a-b92d-0d78d282ebe7\",\"type\":\"Rect\"},\"hover_glyph\":null,\"nonselection_glyph\":null,\"selection_glyph\":null},\"id\":\"36fbfae0-2d86-4523-94d0-02ea9149a55c\",\"type\":\"GlyphRenderer\"},{\"attributes\":{\"fill_alpha\":{\"field\":\"fill_alpha\"},\"fill_color\":{\"field\":\"color\"},\"height\":{\"field\":\"height\",\"units\":\"data\"},\"line_color\":{\"field\":\"line_color\"},\"width\":{\"field\":\"width\",\"units\":\"data\"},\"x\":{\"field\":\"x\"},\"y\":{\"field\":\"y\"}},\"id\":\"641a3035-c2fa-4f28-9afa-aaa57926cd09\",\"type\":\"Rect\"},{\"attributes\":{\"data_source\":{\"id\":\"92d7769f-1c95-4389-b6bf-1e101e5a31c9\",\"type\":\"ColumnDataSource\"},\"glyph\":{\"id\":\"0341fc61-1eef-4822-8e35-7fe239eaf9b7\",\"type\":\"Rect\"},\"hover_glyph\":null,\"nonselection_glyph\":null,\"selection_glyph\":null},\"id\":\"b1601470-e82c-47a7-979d-0e614d140a6e\",\"type\":\"GlyphRenderer\"},{\"attributes\":{\"data_source\":{\"id\":\"6ff0e18d-0ba0-4ee3-abcd-d4b18f83a703\",\"type\":\"ColumnDataSource\"},\"glyph\":{\"id\":\"a9e43cc6-89f3-4c54-b968-064c4099ef9b\",\"type\":\"Rect\"},\"hover_glyph\":null,\"nonselection_glyph\":null,\"selection_glyph\":null},\"id\":\"e0db58da-ba93-4747-9db7-d849417bf85c\",\"type\":\"GlyphRenderer\"},{\"attributes\":{\"data_source\":{\"id\":\"ed336e5b-d71e-44ff-a1fa-e0a13a8aab5d\",\"type\":\"ColumnDataSource\"},\"glyph\":{\"id\":\"ad3b9743-535d-4137-88e0-267145f53655\",\"type\":\"Rect\"},\"hover_glyph\":null,\"nonselection_glyph\":null,\"selection_glyph\":null},\"id\":\"922310ea-91bf-4ef1-ad78-50a27076e854\",\"type\":\"GlyphRenderer\"},{\"attributes\":{\"data_source\":{\"id\":\"52956bad-96a0-4b5d-b5e2-0baedbe393ad\",\"type\":\"ColumnDataSource\"},\"glyph\":{\"id\":\"65b4ba28-e3d4-441b-811e-2d96f60ee18f\",\"type\":\"Rect\"},\"hover_glyph\":null,\"nonselection_glyph\":null,\"selection_glyph\":null},\"id\":\"dfa84ceb-ccb3-4fb1-8479-575d086617c7\",\"type\":\"GlyphRenderer\"},{\"attributes\":{\"fill_alpha\":{\"field\":\"fill_alpha\"},\"fill_color\":{\"field\":\"color\"},\"height\":{\"field\":\"height\",\"units\":\"data\"},\"line_color\":{\"field\":\"line_color\"},\"width\":{\"field\":\"width\",\"units\":\"data\"},\"x\":{\"field\":\"x\"},\"y\":{\"field\":\"y\"}},\"id\":\"8128342a-3692-4579-bc46-025ef43e3345\",\"type\":\"Rect\"},{\"attributes\":{\"fill_alpha\":{\"field\":\"fill_alpha\"},\"fill_color\":{\"field\":\"color\"},\"height\":{\"field\":\"height\",\"units\":\"data\"},\"line_color\":{\"field\":\"line_color\"},\"width\":{\"field\":\"width\",\"units\":\"data\"},\"x\":{\"field\":\"x\"},\"y\":{\"field\":\"y\"}},\"id\":\"76c6b81a-647b-4cb3-ae02-f4b5127836a1\",\"type\":\"Rect\"},{\"attributes\":{},\"id\":\"2ea76987-ab5e-4221-8150-196e7ced35dc\",\"type\":\"CategoricalTicker\"},{\"attributes\":{\"fill_alpha\":{\"field\":\"fill_alpha\"},\"fill_color\":{\"field\":\"color\"},\"height\":{\"field\":\"height\",\"units\":\"data\"},\"line_color\":{\"field\":\"line_color\"},\"width\":{\"field\":\"width\",\"units\":\"data\"},\"x\":{\"field\":\"x\"},\"y\":{\"field\":\"y\"}},\"id\":\"e526fb41-5a3a-48ed-8f91-5dc4003eb198\",\"type\":\"Rect\"},{\"attributes\":{\"plot\":{\"id\":\"82391b0e-02b7-4dbd-bb79-dc4c4106f6d0\",\"subtype\":\"Chart\",\"type\":\"Plot\"}},\"id\":\"0b7240f6-5933-4f3f-8164-305707f05da4\",\"type\":\"SaveTool\"},{\"attributes\":{\"callback\":null,\"column_names\":[\"width\",\"x\",\"height\",\"color\",\"y\",\"line_alpha\",\"line_color\",\"fill_alpha\",\"label\"],\"data\":{\"chart_index\":[{\"data_source\":\"gouv.fr\",\"energy_source\":\"Hydro\",\"year\":2014}],\"color\":[\"#00ad9c\"],\"data_source\":[\"gouv.fr\"],\"energy_source\":[\"Hydro\"],\"fill_alpha\":[0.8],\"height\":[2074.297879989624],\"label\":[{\"data_source\":\"gouv.fr\",\"energy_source\":\"Hydro\",\"year\":2014}],\"line_alpha\":[1.0],\"line_color\":[\"white\"],\"width\":[0.1702679845041569],\"x\":[\"Hydro:0.833333333333\"],\"y\":[1037.148939994812],\"year\":[2014]}},\"id\":\"5a082006-8ed7-436d-a7e1-7335bbe83331\",\"type\":\"ColumnDataSource\"},{\"attributes\":{\"dimension\":1,\"plot\":{\"id\":\"82391b0e-02b7-4dbd-bb79-dc4c4106f6d0\",\"subtype\":\"Chart\",\"type\":\"Plot\"},\"ticker\":{\"id\":\"695a2cc7-3d0f-4fce-9599-8b987edc9c29\",\"type\":\"BasicTicker\"}},\"id\":\"cb694d5b-ab77-4a39-84b6-507d1656056e\",\"type\":\"Grid\"},{\"attributes\":{\"plot\":{\"id\":\"82391b0e-02b7-4dbd-bb79-dc4c4106f6d0\",\"subtype\":\"Chart\",\"type\":\"Plot\"}},\"id\":\"d5410244-572a-450c-9a76-c6997720a3d2\",\"type\":\"HelpTool\"},{\"attributes\":{\"data_source\":{\"id\":\"ac2b48dc-ebbe-4583-b880-138172e18c74\",\"type\":\"ColumnDataSource\"},\"glyph\":{\"id\":\"d59b0ee8-930f-4f9a-a66e-9296ac48def2\",\"type\":\"Rect\"},\"hover_glyph\":null,\"nonselection_glyph\":null,\"selection_glyph\":null},\"id\":\"baffebc7-083c-40d8-b814-82ebff730f1a\",\"type\":\"GlyphRenderer\"},{\"attributes\":{\"callback\":null,\"column_names\":[\"width\",\"x\",\"height\",\"color\",\"y\",\"line_alpha\",\"line_color\",\"fill_alpha\",\"label\"],\"data\":{\"chart_index\":[{\"data_source\":\"RTE\",\"energy_source\":\"Wind\",\"year\":2014}],\"color\":[\"#407ee7\"],\"data_source\":[\"RTE\"],\"energy_source\":[\"Wind\"],\"fill_alpha\":[0.8],\"height\":[4330.0],\"label\":[{\"data_source\":\"RTE\",\"energy_source\":\"Wind\",\"year\":2014}],\"line_alpha\":[1.0],\"line_color\":[\"white\"],\"width\":[0.1702679845041569],\"x\":[\"Wind:0.5\"],\"y\":[2165.0],\"year\":[2014]}},\"id\":\"6ff0e18d-0ba0-4ee3-abcd-d4b18f83a703\",\"type\":\"ColumnDataSource\"},{\"attributes\":{\"data_source\":{\"id\":\"472827a2-17f1-4c96-9a95-048d92a96073\",\"type\":\"ColumnDataSource\"},\"glyph\":{\"id\":\"641a3035-c2fa-4f28-9afa-aaa57926cd09\",\"type\":\"Rect\"},\"hover_glyph\":null,\"nonselection_glyph\":null,\"selection_glyph\":null},\"id\":\"567f6b3b-e04e-4620-ba55-5fb5fc53a1f0\",\"type\":\"GlyphRenderer\"},{\"attributes\":{\"plot\":{\"id\":\"82391b0e-02b7-4dbd-bb79-dc4c4106f6d0\",\"subtype\":\"Chart\",\"type\":\"Plot\"}},\"id\":\"18fa6e00-5954-4c8a-a9dd-730f8533363d\",\"type\":\"PanTool\"},{\"attributes\":{\"fill_alpha\":{\"field\":\"fill_alpha\"},\"fill_color\":{\"field\":\"color\"},\"height\":{\"field\":\"height\",\"units\":\"data\"},\"line_color\":{\"field\":\"line_color\"},\"width\":{\"field\":\"width\",\"units\":\"data\"},\"x\":{\"field\":\"x\"},\"y\":{\"field\":\"y\"}},\"id\":\"67b826eb-51fd-4ecf-9cd0-fc7d9597ecd7\",\"type\":\"Rect\"},{\"attributes\":{\"data_source\":{\"id\":\"5bf56644-489e-4902-8581-5741761bfc80\",\"type\":\"ColumnDataSource\"},\"glyph\":{\"id\":\"8128342a-3692-4579-bc46-025ef43e3345\",\"type\":\"Rect\"},\"hover_glyph\":null,\"nonselection_glyph\":null,\"selection_glyph\":null},\"id\":\"016c373e-1507-47a4-8c5d-47db38b1a2f2\",\"type\":\"GlyphRenderer\"},{\"attributes\":{\"axis_label\":\"Energy_Source\",\"formatter\":{\"id\":\"c5f2af20-676c-429c-90c0-b21163fa2898\",\"type\":\"CategoricalTickFormatter\"},\"major_label_orientation\":0.7853981633974483,\"plot\":{\"id\":\"82391b0e-02b7-4dbd-bb79-dc4c4106f6d0\",\"subtype\":\"Chart\",\"type\":\"Plot\"},\"ticker\":{\"id\":\"2ea76987-ab5e-4221-8150-196e7ced35dc\",\"type\":\"CategoricalTicker\"}},\"id\":\"a7727dd7-2d31-4578-ba49-e192f431fe1c\",\"type\":\"CategoricalAxis\"},{\"attributes\":{\"data_source\":{\"id\":\"ba5f137e-37a3-4c74-84aa-0bc3ae03a6c5\",\"type\":\"ColumnDataSource\"},\"glyph\":{\"id\":\"9c3572b2-0420-45c8-afb4-3d4252b35854\",\"type\":\"Rect\"},\"hover_glyph\":null,\"nonselection_glyph\":null,\"selection_glyph\":null},\"id\":\"86a26212-b74a-484f-999c-d45c779a264f\",\"type\":\"GlyphRenderer\"},{\"attributes\":{\"callback\":null,\"column_names\":[\"width\",\"x\",\"height\",\"color\",\"y\",\"line_alpha\",\"line_color\",\"fill_alpha\",\"label\"],\"data\":{\"chart_index\":[{\"data_source\":\"IRENA\",\"energy_source\":\"Bioenergy and renewable waste\",\"year\":2015}],\"color\":[\"#5ab738\"],\"data_source\":[\"IRENA\"],\"energy_source\":[\"Bioenergy and renewable waste\"],\"fill_alpha\":[0.8],\"height\":[1267.0],\"label\":[{\"data_source\":\"IRENA\",\"energy_source\":\"Bioenergy and renewable waste\",\"year\":2015}],\"line_alpha\":[1.0],\"line_color\":[\"white\"],\"width\":[0.1702679845041569],\"x\":[\"Bioenergy and renewable waste:0.333333333333\"],\"y\":[633.5],\"year\":[2015]}},\"id\":\"62b4b64f-0e28-4bc4-b76f-841ea77cd4c4\",\"type\":\"ColumnDataSource\"},{\"attributes\":{\"fill_alpha\":{\"field\":\"fill_alpha\"},\"fill_color\":{\"field\":\"color\"},\"height\":{\"field\":\"height\",\"units\":\"data\"},\"line_color\":{\"field\":\"line_color\"},\"width\":{\"field\":\"width\",\"units\":\"data\"},\"x\":{\"field\":\"x\"},\"y\":{\"field\":\"y\"}},\"id\":\"3477a86f-8d59-4ba4-befd-96a6b7816252\",\"type\":\"Rect\"},{\"attributes\":{\"data_source\":{\"id\":\"544f944b-e83e-4f22-b859-3f8a4bf4b469\",\"type\":\"ColumnDataSource\"},\"glyph\":{\"id\":\"b738793f-3bdd-4347-91c8-0e37e671177f\",\"type\":\"Rect\"},\"hover_glyph\":null,\"nonselection_glyph\":null,\"selection_glyph\":null},\"id\":\"8110790a-e103-41dd-9bc2-b301a5a7fed5\",\"type\":\"GlyphRenderer\"},{\"attributes\":{\"data_source\":{\"id\":\"6a77210f-57ae-4087-9aa8-b10ddefae736\",\"type\":\"ColumnDataSource\"},\"glyph\":{\"id\":\"1269d57a-2526-4bee-a9ea-46fe2f86a08e\",\"type\":\"Rect\"},\"hover_glyph\":null,\"nonselection_glyph\":null,\"selection_glyph\":null},\"id\":\"f72a5c6d-0070-4f39-a592-fb8938d225de\",\"type\":\"GlyphRenderer\"},{\"attributes\":{\"callback\":null,\"column_names\":[\"width\",\"x\",\"height\",\"color\",\"y\",\"line_alpha\",\"line_color\",\"fill_alpha\",\"label\"],\"data\":{\"chart_index\":[{\"data_source\":\"RTE\",\"energy_source\":\"Geothermal\",\"year\":2014}],\"color\":[\"#407ee7\"],\"data_source\":[\"RTE\"],\"energy_source\":[\"Geothermal\"],\"fill_alpha\":[0.8],\"height\":[0.0],\"label\":[{\"data_source\":\"RTE\",\"energy_source\":\"Geothermal\",\"year\":2014}],\"line_alpha\":[1.0],\"line_color\":[\"white\"],\"width\":[0.1702679845041569],\"x\":[\"Geothermal:0.5\"],\"y\":[0.0],\"year\":[2014]}},\"id\":\"544f944b-e83e-4f22-b859-3f8a4bf4b469\",\"type\":\"ColumnDataSource\"},{\"attributes\":{\"callback\":null,\"column_names\":[\"width\",\"x\",\"height\",\"color\",\"y\",\"line_alpha\",\"line_color\",\"fill_alpha\",\"label\"],\"data\":{\"chart_index\":[{\"data_source\":\"RTE\",\"energy_source\":\"Hydro\",\"year\":2014}],\"color\":[\"#407ee7\"],\"data_source\":[\"RTE\"],\"energy_source\":[\"Hydro\"],\"fill_alpha\":[0.8],\"height\":[51004.32],\"label\":[{\"data_source\":\"RTE\",\"energy_source\":\"Hydro\",\"year\":2014}],\"line_alpha\":[1.0],\"line_color\":[\"white\"],\"width\":[0.1702679845041569],\"x\":[\"Hydro:0.5\"],\"y\":[25502.16],\"year\":[2014]}},\"id\":\"e601614c-d9c7-4b3e-8eb6-373079c7a819\",\"type\":\"ColumnDataSource\"},{\"attributes\":{\"callback\":null,\"column_names\":[\"width\",\"x\",\"height\",\"color\",\"y\",\"line_alpha\",\"line_color\",\"fill_alpha\",\"label\"],\"data\":{\"chart_index\":[{\"data_source\":\"entsoe\",\"energy_source\":\"Geothermal\",\"year\":2014}],\"color\":[\"#df5320\"],\"data_source\":[\"entsoe\"],\"energy_source\":[\"Geothermal\"],\"fill_alpha\":[0.8],\"height\":[0.0],\"label\":[{\"data_source\":\"entsoe\",\"energy_source\":\"Geothermal\",\"year\":2014}],\"line_alpha\":[1.0],\"line_color\":[\"white\"],\"width\":[0.1702679845041569],\"x\":[\"Geothermal:0.666666666667\"],\"y\":[0.0],\"year\":[2014]}},\"id\":\"3cbb4b5f-b8ce-4515-8bcb-adb769a01586\",\"type\":\"ColumnDataSource\"},{\"attributes\":{},\"id\":\"6ac19ceb-fb4e-476e-bb18-15a81eb46a93\",\"type\":\"BasicTickFormatter\"},{\"attributes\":{\"data_source\":{\"id\":\"aef7ac10-d7b5-4c7d-b6aa-4648326c0f2c\",\"type\":\"ColumnDataSource\"},\"glyph\":{\"id\":\"3477a86f-8d59-4ba4-befd-96a6b7816252\",\"type\":\"Rect\"},\"hover_glyph\":null,\"nonselection_glyph\":null,\"selection_glyph\":null},\"id\":\"73910f28-b972-4d9f-ba4a-15da31e98b92\",\"type\":\"GlyphRenderer\"},{\"attributes\":{\"fill_alpha\":{\"field\":\"fill_alpha\"},\"fill_color\":{\"field\":\"color\"},\"height\":{\"field\":\"height\",\"units\":\"data\"},\"line_color\":{\"field\":\"line_color\"},\"width\":{\"field\":\"width\",\"units\":\"data\"},\"x\":{\"field\":\"x\"},\"y\":{\"field\":\"y\"}},\"id\":\"8ef8362f-bf18-444a-b92d-0d78d282ebe7\",\"type\":\"Rect\"},{\"attributes\":{\"fill_alpha\":{\"field\":\"fill_alpha\"},\"fill_color\":{\"field\":\"color\"},\"height\":{\"field\":\"height\",\"units\":\"data\"},\"line_color\":{\"field\":\"line_color\"},\"width\":{\"field\":\"width\",\"units\":\"data\"},\"x\":{\"field\":\"x\"},\"y\":{\"field\":\"y\"}},\"id\":\"9c3572b2-0420-45c8-afb4-3d4252b35854\",\"type\":\"Rect\"},{\"attributes\":{\"data_source\":{\"id\":\"3d447aa1-e170-433c-8dd9-b584aeb67523\",\"type\":\"ColumnDataSource\"},\"glyph\":{\"id\":\"f2ad4552-288c-44de-9b0c-37cd30082be8\",\"type\":\"Rect\"},\"hover_glyph\":null,\"nonselection_glyph\":null,\"selection_glyph\":null},\"id\":\"71ebbda4-27c8-488a-ad20-4b321c342293\",\"type\":\"GlyphRenderer\"},{\"attributes\":{\"callback\":null,\"column_names\":[\"width\",\"x\",\"height\",\"color\",\"y\",\"line_alpha\",\"line_color\",\"fill_alpha\",\"label\"],\"data\":{\"chart_index\":[{\"data_source\":\"entsoe\",\"energy_source\":\"Biomass and biogas\",\"year\":2014}],\"color\":[\"#df5320\"],\"data_source\":[\"entsoe\"],\"energy_source\":[\"Biomass and biogas\"],\"fill_alpha\":[0.8],\"height\":[1500.0],\"label\":[{\"data_source\":\"entsoe\",\"energy_source\":\"Biomass and biogas\",\"year\":2014}],\"line_alpha\":[1.0],\"line_color\":[\"white\"],\"width\":[0.1702679845041569],\"x\":[\"Biomass and biogas:0.666666666667\"],\"y\":[750.0],\"year\":[2014]}},\"id\":\"ac2b48dc-ebbe-4583-b880-138172e18c74\",\"type\":\"ColumnDataSource\"},{\"attributes\":{},\"id\":\"695a2cc7-3d0f-4fce-9599-8b987edc9c29\",\"type\":\"BasicTicker\"},{\"attributes\":{\"callback\":null,\"column_names\":[\"width\",\"x\",\"height\",\"color\",\"y\",\"line_alpha\",\"line_color\",\"fill_alpha\",\"label\"],\"data\":{\"chart_index\":[{\"data_source\":\"RTE\",\"energy_source\":\"Marine\",\"year\":2014}],\"color\":[\"#407ee7\"],\"data_source\":[\"RTE\"],\"energy_source\":[\"Marine\"],\"fill_alpha\":[0.8],\"height\":[0.0],\"label\":[{\"data_source\":\"RTE\",\"energy_source\":\"Marine\",\"year\":2014}],\"line_alpha\":[1.0],\"line_color\":[\"white\"],\"width\":[0.1702679845041569],\"x\":[\"Marine:0.5\"],\"y\":[0.0],\"year\":[2014]}},\"id\":\"4ce72d7f-b69f-4981-8b28-2edd96f84fac\",\"type\":\"ColumnDataSource\"},{\"attributes\":{\"plot\":{\"id\":\"82391b0e-02b7-4dbd-bb79-dc4c4106f6d0\",\"subtype\":\"Chart\",\"type\":\"Plot\"}},\"id\":\"4916b60c-bbeb-4aad-ae5b-3d16411ad4ad\",\"type\":\"ResetTool\"},{\"attributes\":{\"fill_alpha\":{\"field\":\"fill_alpha\"},\"fill_color\":{\"field\":\"color\"},\"height\":{\"field\":\"height\",\"units\":\"data\"},\"line_color\":{\"field\":\"line_color\"},\"width\":{\"field\":\"width\",\"units\":\"data\"},\"x\":{\"field\":\"x\"},\"y\":{\"field\":\"y\"}},\"id\":\"3dae1052-c6d4-478f-82e7-f3fca8b1de88\",\"type\":\"Rect\"},{\"attributes\":{\"fill_alpha\":{\"field\":\"fill_alpha\"},\"fill_color\":{\"field\":\"color\"},\"height\":{\"field\":\"height\",\"units\":\"data\"},\"line_color\":{\"field\":\"line_color\"},\"width\":{\"field\":\"width\",\"units\":\"data\"},\"x\":{\"field\":\"x\"},\"y\":{\"field\":\"y\"}},\"id\":\"f2ad4552-288c-44de-9b0c-37cd30082be8\",\"type\":\"Rect\"},{\"attributes\":{\"callback\":null,\"column_names\":[\"width\",\"x\",\"height\",\"color\",\"y\",\"line_alpha\",\"line_color\",\"fill_alpha\",\"label\"],\"data\":{\"chart_index\":[{\"data_source\":\"entsoe\",\"energy_source\":\"Solar\",\"year\":2014}],\"color\":[\"#df5320\"],\"data_source\":[\"entsoe\"],\"energy_source\":[\"Solar\"],\"fill_alpha\":[0.8],\"height\":[5100.0],\"label\":[{\"data_source\":\"entsoe\",\"energy_source\":\"Solar\",\"year\":2014}],\"line_alpha\":[1.0],\"line_color\":[\"white\"],\"width\":[0.1702679845041569],\"x\":[\"Solar:0.666666666667\"],\"y\":[2550.0],\"year\":[2014]}},\"id\":\"f2758952-30e6-4961-ba2c-48d227f2f043\",\"type\":\"ColumnDataSource\"},{\"attributes\":{\"legends\":[[\"('IRENA', 2014)\",[{\"id\":\"f6522d01-a30c-490a-b909-7bb403cbb311\",\"type\":\"GlyphRenderer\"}]],[\"('IRENA', 2015)\",[{\"id\":\"63c159b6-9123-4953-8ef0-53ce01017ea0\",\"type\":\"GlyphRenderer\"}]],[\"('RTE', 2014)\",[{\"id\":\"ed67b877-0dbc-4cc7-a49f-c88f41917d3b\",\"type\":\"GlyphRenderer\"}]],[\"('entsoe', 2014)\",[{\"id\":\"0f323ec4-e042-4178-8e8c-4eb802f64d72\",\"type\":\"GlyphRenderer\"}]],[\"('gouv.fr', 2014)\",[{\"id\":\"dfa84ceb-ccb3-4fb1-8479-575d086617c7\",\"type\":\"GlyphRenderer\"}]]],\"location\":\"top_left\",\"plot\":{\"id\":\"82391b0e-02b7-4dbd-bb79-dc4c4106f6d0\",\"subtype\":\"Chart\",\"type\":\"Plot\"}},\"id\":\"62b1bdea-422e-47e3-810f-17a6dc67100c\",\"type\":\"Legend\"},{\"attributes\":{},\"id\":\"c5f2af20-676c-429c-90c0-b21163fa2898\",\"type\":\"CategoricalTickFormatter\"},{\"attributes\":{\"fill_alpha\":{\"field\":\"fill_alpha\"},\"fill_color\":{\"field\":\"color\"},\"height\":{\"field\":\"height\",\"units\":\"data\"},\"line_color\":{\"field\":\"line_color\"},\"width\":{\"field\":\"width\",\"units\":\"data\"},\"x\":{\"field\":\"x\"},\"y\":{\"field\":\"y\"}},\"id\":\"65b4ba28-e3d4-441b-811e-2d96f60ee18f\",\"type\":\"Rect\"},{\"attributes\":{\"fill_alpha\":{\"field\":\"fill_alpha\"},\"fill_color\":{\"field\":\"color\"},\"height\":{\"field\":\"height\",\"units\":\"data\"},\"line_color\":{\"field\":\"line_color\"},\"width\":{\"field\":\"width\",\"units\":\"data\"},\"x\":{\"field\":\"x\"},\"y\":{\"field\":\"y\"}},\"id\":\"e67611e0-b0cb-4b08-9bf9-dbcc7f3c2701\",\"type\":\"Rect\"},{\"attributes\":{\"fill_alpha\":{\"field\":\"fill_alpha\"},\"fill_color\":{\"field\":\"color\"},\"height\":{\"field\":\"height\",\"units\":\"data\"},\"line_color\":{\"field\":\"line_color\"},\"width\":{\"field\":\"width\",\"units\":\"data\"},\"x\":{\"field\":\"x\"},\"y\":{\"field\":\"y\"}},\"id\":\"a9e43cc6-89f3-4c54-b968-064c4099ef9b\",\"type\":\"Rect\"},{\"attributes\":{\"callback\":null,\"column_names\":[\"width\",\"x\",\"height\",\"color\",\"y\",\"line_alpha\",\"line_color\",\"fill_alpha\",\"label\"],\"data\":{\"chart_index\":[{\"data_source\":\"RTE\",\"energy_source\":\"Biomass and biogas\",\"year\":2014}],\"color\":[\"#407ee7\"],\"data_source\":[\"RTE\"],\"energy_source\":[\"Biomass and biogas\"],\"fill_alpha\":[0.8],\"height\":[0.0],\"label\":[{\"data_source\":\"RTE\",\"energy_source\":\"Biomass and biogas\",\"year\":2014}],\"line_alpha\":[1.0],\"line_color\":[\"white\"],\"width\":[0.1702679845041569],\"x\":[\"Biomass and biogas:0.5\"],\"y\":[0.0],\"year\":[2014]}},\"id\":\"472827a2-17f1-4c96-9a95-048d92a96073\",\"type\":\"ColumnDataSource\"},{\"attributes\":{\"callback\":null,\"column_names\":[\"width\",\"x\",\"height\",\"color\",\"y\",\"line_alpha\",\"line_color\",\"fill_alpha\",\"label\"],\"data\":{\"chart_index\":[{\"data_source\":\"IRENA\",\"energy_source\":\"Solar\",\"year\":2014}],\"color\":[\"#f22c40\"],\"data_source\":[\"IRENA\"],\"energy_source\":[\"Solar\"],\"fill_alpha\":[0.8],\"height\":[5654.3],\"label\":[{\"data_source\":\"IRENA\",\"energy_source\":\"Solar\",\"year\":2014}],\"line_alpha\":[1.0],\"line_color\":[\"white\"],\"width\":[0.1702679845041569],\"x\":[\"Solar:0.166666666667\"],\"y\":[2827.15],\"year\":[2014]}},\"id\":\"6a77210f-57ae-4087-9aa8-b10ddefae736\",\"type\":\"ColumnDataSource\"},{\"attributes\":{\"fill_alpha\":{\"field\":\"fill_alpha\"},\"fill_color\":{\"field\":\"color\"},\"height\":{\"field\":\"height\",\"units\":\"data\"},\"line_color\":{\"field\":\"line_color\"},\"width\":{\"field\":\"width\",\"units\":\"data\"},\"x\":{\"field\":\"x\"},\"y\":{\"field\":\"y\"}},\"id\":\"e884a71c-9eab-40d8-89c8-0b5cbc420ad9\",\"type\":\"Rect\"},{\"attributes\":{\"data_source\":{\"id\":\"8063dac4-398b-488b-afa9-46caee4b7311\",\"type\":\"ColumnDataSource\"},\"glyph\":{\"id\":\"13f212e9-837c-4b16-a7c8-01af35ed4e25\",\"type\":\"Rect\"},\"hover_glyph\":null,\"nonselection_glyph\":null,\"selection_glyph\":null},\"id\":\"668c5fbf-0104-4718-af7f-3b17566fa384\",\"type\":\"GlyphRenderer\"},{\"attributes\":{\"fill_alpha\":{\"field\":\"fill_alpha\"},\"fill_color\":{\"field\":\"color\"},\"height\":{\"field\":\"height\",\"units\":\"data\"},\"line_color\":{\"field\":\"line_color\"},\"width\":{\"field\":\"width\",\"units\":\"data\"},\"x\":{\"field\":\"x\"},\"y\":{\"field\":\"y\"}},\"id\":\"beb0c8f8-52a6-4772-88f4-b09057b46d0b\",\"type\":\"Rect\"},{\"attributes\":{\"axis_label\":\"Sum( Electrical_Capacity_Mw )\",\"formatter\":{\"id\":\"6ac19ceb-fb4e-476e-bb18-15a81eb46a93\",\"type\":\"BasicTickFormatter\"},\"plot\":{\"id\":\"82391b0e-02b7-4dbd-bb79-dc4c4106f6d0\",\"subtype\":\"Chart\",\"type\":\"Plot\"},\"ticker\":{\"id\":\"695a2cc7-3d0f-4fce-9599-8b987edc9c29\",\"type\":\"BasicTicker\"}},\"id\":\"c0f397d7-7f46-479e-8de2-d0d829f714bf\",\"type\":\"LinearAxis\"},{\"attributes\":{\"data_source\":{\"id\":\"62b4b64f-0e28-4bc4-b76f-841ea77cd4c4\",\"type\":\"ColumnDataSource\"},\"glyph\":{\"id\":\"67b826eb-51fd-4ecf-9cd0-fc7d9597ecd7\",\"type\":\"Rect\"},\"hover_glyph\":null,\"nonselection_glyph\":null,\"selection_glyph\":null},\"id\":\"63c159b6-9123-4953-8ef0-53ce01017ea0\",\"type\":\"GlyphRenderer\"},{\"attributes\":{\"callback\":null,\"column_names\":[\"width\",\"x\",\"height\",\"color\",\"y\",\"line_alpha\",\"line_color\",\"fill_alpha\",\"label\"],\"data\":{\"chart_index\":[{\"data_source\":\"IRENA\",\"energy_source\":\"Solar\",\"year\":2015}],\"color\":[\"#5ab738\"],\"data_source\":[\"IRENA\"],\"energy_source\":[\"Solar\"],\"fill_alpha\":[0.8],\"height\":[6549.3],\"label\":[{\"data_source\":\"IRENA\",\"energy_source\":\"Solar\",\"year\":2015}],\"line_alpha\":[1.0],\"line_color\":[\"white\"],\"width\":[0.1702679845041569],\"x\":[\"Solar:0.333333333333\"],\"y\":[3274.65],\"year\":[2015]}},\"id\":\"ed336e5b-d71e-44ff-a1fa-e0a13a8aab5d\",\"type\":\"ColumnDataSource\"},{\"attributes\":{\"data_source\":{\"id\":\"cf240d48-83a6-462c-b9eb-44ab9ce2ee8e\",\"type\":\"ColumnDataSource\"},\"glyph\":{\"id\":\"e884a71c-9eab-40d8-89c8-0b5cbc420ad9\",\"type\":\"Rect\"},\"hover_glyph\":null,\"nonselection_glyph\":null,\"selection_glyph\":null},\"id\":\"6c4ae7c7-b9a8-4cb7-9b13-e8ded4220267\",\"type\":\"GlyphRenderer\"},{\"attributes\":{\"data_source\":{\"id\":\"362cf842-c594-4153-8a65-eddb4b2ca37a\",\"type\":\"ColumnDataSource\"},\"glyph\":{\"id\":\"7e8cf87d-e803-4385-922f-b63d10ba9ee7\",\"type\":\"Rect\"},\"hover_glyph\":null,\"nonselection_glyph\":null,\"selection_glyph\":null},\"id\":\"f6522d01-a30c-490a-b909-7bb403cbb311\",\"type\":\"GlyphRenderer\"},{\"attributes\":{\"data_source\":{\"id\":\"e601614c-d9c7-4b3e-8eb6-373079c7a819\",\"type\":\"ColumnDataSource\"},\"glyph\":{\"id\":\"8c86aebc-4924-4cdd-bbf9-c6291234a134\",\"type\":\"Rect\"},\"hover_glyph\":null,\"nonselection_glyph\":null,\"selection_glyph\":null},\"id\":\"ed67b877-0dbc-4cc7-a49f-c88f41917d3b\",\"type\":\"GlyphRenderer\"},{\"attributes\":{\"data_source\":{\"id\":\"60ace413-d986-40ef-aa1d-927f11456707\",\"type\":\"ColumnDataSource\"},\"glyph\":{\"id\":\"e67611e0-b0cb-4b08-9bf9-dbcc7f3c2701\",\"type\":\"Rect\"},\"hover_glyph\":null,\"nonselection_glyph\":null,\"selection_glyph\":null},\"id\":\"0f323ec4-e042-4178-8e8c-4eb802f64d72\",\"type\":\"GlyphRenderer\"},{\"attributes\":{\"data_source\":{\"id\":\"7e27de42-045a-4f80-9629-a77532a5cfc0\",\"type\":\"ColumnDataSource\"},\"glyph\":{\"id\":\"beb0c8f8-52a6-4772-88f4-b09057b46d0b\",\"type\":\"Rect\"},\"hover_glyph\":null,\"nonselection_glyph\":null,\"selection_glyph\":null},\"id\":\"e5a82c7c-99a6-41f3-adc4-d046e8c9889a\",\"type\":\"GlyphRenderer\"},{\"attributes\":{\"fill_alpha\":{\"field\":\"fill_alpha\"},\"fill_color\":{\"field\":\"color\"},\"height\":{\"field\":\"height\",\"units\":\"data\"},\"line_color\":{\"field\":\"line_color\"},\"width\":{\"field\":\"width\",\"units\":\"data\"},\"x\":{\"field\":\"x\"},\"y\":{\"field\":\"y\"}},\"id\":\"515cf35d-2284-45f7-9dd8-fba5d7ebe4a1\",\"type\":\"Rect\"},{\"attributes\":{\"plot\":null,\"text\":\"FR\"},\"id\":\"cb1c480c-3819-4d3d-8a8a-e1d383000126\",\"type\":\"Title\"},{\"attributes\":{\"below\":[{\"id\":\"a7727dd7-2d31-4578-ba49-e192f431fe1c\",\"type\":\"CategoricalAxis\"}],\"left\":[{\"id\":\"c0f397d7-7f46-479e-8de2-d0d829f714bf\",\"type\":\"LinearAxis\"}],\"renderers\":[{\"id\":\"0ec30426-354c-4ce7-bd4c-a6f0865b277f\",\"type\":\"BoxAnnotation\"},{\"id\":\"f6522d01-a30c-490a-b909-7bb403cbb311\",\"type\":\"GlyphRenderer\"},{\"id\":\"63c159b6-9123-4953-8ef0-53ce01017ea0\",\"type\":\"GlyphRenderer\"},{\"id\":\"36fbfae0-2d86-4523-94d0-02ea9149a55c\",\"type\":\"GlyphRenderer\"},{\"id\":\"fa050317-bcb9-4325-a761-3a7cc063f679\",\"type\":\"GlyphRenderer\"},{\"id\":\"b1601470-e82c-47a7-979d-0e614d140a6e\",\"type\":\"GlyphRenderer\"},{\"id\":\"668c5fbf-0104-4718-af7f-3b17566fa384\",\"type\":\"GlyphRenderer\"},{\"id\":\"f72a5c6d-0070-4f39-a592-fb8938d225de\",\"type\":\"GlyphRenderer\"},{\"id\":\"922310ea-91bf-4ef1-ad78-50a27076e854\",\"type\":\"GlyphRenderer\"},{\"id\":\"e5a82c7c-99a6-41f3-adc4-d046e8c9889a\",\"type\":\"GlyphRenderer\"},{\"id\":\"2893907a-9133-48b4-a341-724532b57f66\",\"type\":\"GlyphRenderer\"},{\"id\":\"ed67b877-0dbc-4cc7-a49f-c88f41917d3b\",\"type\":\"GlyphRenderer\"},{\"id\":\"0f323ec4-e042-4178-8e8c-4eb802f64d72\",\"type\":\"GlyphRenderer\"},{\"id\":\"e0db58da-ba93-4747-9db7-d849417bf85c\",\"type\":\"GlyphRenderer\"},{\"id\":\"016c373e-1507-47a4-8c5d-47db38b1a2f2\",\"type\":\"GlyphRenderer\"},{\"id\":\"86a26212-b74a-484f-999c-d45c779a264f\",\"type\":\"GlyphRenderer\"},{\"id\":\"c4a180ec-f0e3-4292-bce9-398c0978dd53\",\"type\":\"GlyphRenderer\"},{\"id\":\"8110790a-e103-41dd-9bc2-b301a5a7fed5\",\"type\":\"GlyphRenderer\"},{\"id\":\"8562ba56-8a0e-4b2d-ab33-36ba4935cc89\",\"type\":\"GlyphRenderer\"},{\"id\":\"8ffca255-c591-4f77-bd15-32338a3dda22\",\"type\":\"GlyphRenderer\"},{\"id\":\"73910f28-b972-4d9f-ba4a-15da31e98b92\",\"type\":\"GlyphRenderer\"},{\"id\":\"567f6b3b-e04e-4620-ba55-5fb5fc53a1f0\",\"type\":\"GlyphRenderer\"},{\"id\":\"baffebc7-083c-40d8-b814-82ebff730f1a\",\"type\":\"GlyphRenderer\"},{\"id\":\"dfa84ceb-ccb3-4fb1-8479-575d086617c7\",\"type\":\"GlyphRenderer\"},{\"id\":\"6c4ae7c7-b9a8-4cb7-9b13-e8ded4220267\",\"type\":\"GlyphRenderer\"},{\"id\":\"66b32aef-102f-4ba2-833d-3a5901ecebef\",\"type\":\"GlyphRenderer\"},{\"id\":\"71ebbda4-27c8-488a-ad20-4b321c342293\",\"type\":\"GlyphRenderer\"},{\"id\":\"f80c72cc-e8c4-4a75-addc-522c9fb9ef69\",\"type\":\"GlyphRenderer\"},{\"id\":\"62b1bdea-422e-47e3-810f-17a6dc67100c\",\"type\":\"Legend\"},{\"id\":\"a7727dd7-2d31-4578-ba49-e192f431fe1c\",\"type\":\"CategoricalAxis\"},{\"id\":\"c0f397d7-7f46-479e-8de2-d0d829f714bf\",\"type\":\"LinearAxis\"},{\"id\":\"cb694d5b-ab77-4a39-84b6-507d1656056e\",\"type\":\"Grid\"}],\"title\":{\"id\":\"cb1c480c-3819-4d3d-8a8a-e1d383000126\",\"type\":\"Title\"},\"tool_events\":{\"id\":\"a4252caa-6533-4f72-a4cc-c46356bc9847\",\"type\":\"ToolEvents\"},\"toolbar\":{\"id\":\"180df25c-fdfc-464f-85ef-63cc748d80b6\",\"type\":\"Toolbar\"},\"x_mapper_type\":\"auto\",\"x_range\":{\"id\":\"16c7ebcc-0616-408c-869e-5a8545683b85\",\"type\":\"FactorRange\"},\"y_mapper_type\":\"auto\",\"y_range\":{\"id\":\"35af1c2e-29b1-4db6-9b85-4240b9969275\",\"type\":\"Range1d\"}},\"id\":\"82391b0e-02b7-4dbd-bb79-dc4c4106f6d0\",\"subtype\":\"Chart\",\"type\":\"Plot\"},{\"attributes\":{\"callback\":null,\"column_names\":[\"width\",\"x\",\"height\",\"color\",\"y\",\"line_alpha\",\"line_color\",\"fill_alpha\",\"label\"],\"data\":{\"chart_index\":[{\"data_source\":\"RTE\",\"energy_source\":\"Solar\",\"year\":2014}],\"color\":[\"#407ee7\"],\"data_source\":[\"RTE\"],\"energy_source\":[\"Solar\"],\"fill_alpha\":[0.8],\"height\":[4350.97],\"label\":[{\"data_source\":\"RTE\",\"energy_source\":\"Solar\",\"year\":2014}],\"line_alpha\":[1.0],\"line_color\":[\"white\"],\"width\":[0.1702679845041569],\"x\":[\"Solar:0.5\"],\"y\":[2175.485],\"year\":[2014]}},\"id\":\"ba5f137e-37a3-4c74-84aa-0bc3ae03a6c5\",\"type\":\"ColumnDataSource\"},{\"attributes\":{\"fill_alpha\":{\"field\":\"fill_alpha\"},\"fill_color\":{\"field\":\"color\"},\"height\":{\"field\":\"height\",\"units\":\"data\"},\"line_color\":{\"field\":\"line_color\"},\"width\":{\"field\":\"width\",\"units\":\"data\"},\"x\":{\"field\":\"x\"},\"y\":{\"field\":\"y\"}},\"id\":\"8c86aebc-4924-4cdd-bbf9-c6291234a134\",\"type\":\"Rect\"},{\"attributes\":{\"fill_alpha\":{\"field\":\"fill_alpha\"},\"fill_color\":{\"field\":\"color\"},\"height\":{\"field\":\"height\",\"units\":\"data\"},\"line_color\":{\"field\":\"line_color\"},\"width\":{\"field\":\"width\",\"units\":\"data\"},\"x\":{\"field\":\"x\"},\"y\":{\"field\":\"y\"}},\"id\":\"7e8cf87d-e803-4385-922f-b63d10ba9ee7\",\"type\":\"Rect\"},{\"attributes\":{\"callback\":null,\"end\":53554.536},\"id\":\"35af1c2e-29b1-4db6-9b85-4240b9969275\",\"type\":\"Range1d\"},{\"attributes\":{\"fill_alpha\":{\"field\":\"fill_alpha\"},\"fill_color\":{\"field\":\"color\"},\"height\":{\"field\":\"height\",\"units\":\"data\"},\"line_color\":{\"field\":\"line_color\"},\"width\":{\"field\":\"width\",\"units\":\"data\"},\"x\":{\"field\":\"x\"},\"y\":{\"field\":\"y\"}},\"id\":\"225bbfad-76bf-4c2e-b4ca-c5f02a061c47\",\"type\":\"Rect\"},{\"attributes\":{\"callback\":null,\"column_names\":[\"width\",\"x\",\"height\",\"color\",\"y\",\"line_alpha\",\"line_color\",\"fill_alpha\",\"label\"],\"data\":{\"chart_index\":[{\"data_source\":\"IRENA\",\"energy_source\":\"Marine\",\"year\":2014}],\"color\":[\"#f22c40\"],\"data_source\":[\"IRENA\"],\"energy_source\":[\"Marine\"],\"fill_alpha\":[0.8],\"height\":[240.0],\"label\":[{\"data_source\":\"IRENA\",\"energy_source\":\"Marine\",\"year\":2014}],\"line_alpha\":[1.0],\"line_color\":[\"white\"],\"width\":[0.1702679845041569],\"x\":[\"Marine:0.166666666667\"],\"y\":[120.0],\"year\":[2014]}},\"id\":\"92d7769f-1c95-4389-b6bf-1e101e5a31c9\",\"type\":\"ColumnDataSource\"},{\"attributes\":{},\"id\":\"a4252caa-6533-4f72-a4cc-c46356bc9847\",\"type\":\"ToolEvents\"},{\"attributes\":{\"data_source\":{\"id\":\"78dfffdd-62fb-4ae8-8b73-6c217b5d40a6\",\"type\":\"ColumnDataSource\"},\"glyph\":{\"id\":\"3dfac7f9-b287-4f8b-a800-848d931f982f\",\"type\":\"Rect\"},\"hover_glyph\":null,\"nonselection_glyph\":null,\"selection_glyph\":null},\"id\":\"fa050317-bcb9-4325-a761-3a7cc063f679\",\"type\":\"GlyphRenderer\"},{\"attributes\":{\"data_source\":{\"id\":\"3cbb4b5f-b8ce-4515-8bcb-adb769a01586\",\"type\":\"ColumnDataSource\"},\"glyph\":{\"id\":\"225bbfad-76bf-4c2e-b4ca-c5f02a061c47\",\"type\":\"Rect\"},\"hover_glyph\":null,\"nonselection_glyph\":null,\"selection_glyph\":null},\"id\":\"8562ba56-8a0e-4b2d-ab33-36ba4935cc89\",\"type\":\"GlyphRenderer\"},{\"attributes\":{\"callback\":null,\"column_names\":[\"width\",\"x\",\"height\",\"color\",\"y\",\"line_alpha\",\"line_color\",\"fill_alpha\",\"label\"],\"data\":{\"chart_index\":[{\"data_source\":\"gouv.fr\",\"energy_source\":\"Geothermal\",\"year\":2014}],\"color\":[\"#00ad9c\"],\"data_source\":[\"gouv.fr\"],\"energy_source\":[\"Geothermal\"],\"fill_alpha\":[0.8],\"height\":[9.0],\"label\":[{\"data_source\":\"gouv.fr\",\"energy_source\":\"Geothermal\",\"year\":2014}],\"line_alpha\":[1.0],\"line_color\":[\"white\"],\"width\":[0.1702679845041569],\"x\":[\"Geothermal:0.833333333333\"],\"y\":[4.5],\"year\":[2014]}},\"id\":\"cf240d48-83a6-462c-b9eb-44ab9ce2ee8e\",\"type\":\"ColumnDataSource\"},{\"attributes\":{\"callback\":null,\"column_names\":[\"width\",\"x\",\"height\",\"color\",\"y\",\"line_alpha\",\"line_color\",\"fill_alpha\",\"label\"],\"data\":{\"chart_index\":[{\"data_source\":\"entsoe\",\"energy_source\":\"Marine\",\"year\":2014}],\"color\":[\"#df5320\"],\"data_source\":[\"entsoe\"],\"energy_source\":[\"Marine\"],\"fill_alpha\":[0.8],\"height\":[0.0],\"label\":[{\"data_source\":\"entsoe\",\"energy_source\":\"Marine\",\"year\":2014}],\"line_alpha\":[1.0],\"line_color\":[\"white\"],\"width\":[0.1702679845041569],\"x\":[\"Marine:0.666666666667\"],\"y\":[0.0],\"year\":[2014]}},\"id\":\"aef7ac10-d7b5-4c7d-b6aa-4648326c0f2c\",\"type\":\"ColumnDataSource\"},{\"attributes\":{\"data_source\":{\"id\":\"4ce72d7f-b69f-4981-8b28-2edd96f84fac\",\"type\":\"ColumnDataSource\"},\"glyph\":{\"id\":\"76c6b81a-647b-4cb3-ae02-f4b5127836a1\",\"type\":\"Rect\"},\"hover_glyph\":null,\"nonselection_glyph\":null,\"selection_glyph\":null},\"id\":\"8ffca255-c591-4f77-bd15-32338a3dda22\",\"type\":\"GlyphRenderer\"},{\"attributes\":{\"fill_alpha\":{\"field\":\"fill_alpha\"},\"fill_color\":{\"field\":\"color\"},\"height\":{\"field\":\"height\",\"units\":\"data\"},\"line_color\":{\"field\":\"line_color\"},\"width\":{\"field\":\"width\",\"units\":\"data\"},\"x\":{\"field\":\"x\"},\"y\":{\"field\":\"y\"}},\"id\":\"13f212e9-837c-4b16-a7c8-01af35ed4e25\",\"type\":\"Rect\"},{\"attributes\":{\"callback\":null,\"factors\":[\"Bioenergy and renewable waste\",\"Biomass and biogas\",\"Geothermal\",\"Hydro\",\"Marine\",\"Photovoltaics\",\"Solar\",\"Wind\"]},\"id\":\"16c7ebcc-0616-408c-869e-5a8545683b85\",\"type\":\"FactorRange\"},{\"attributes\":{\"data_source\":{\"id\":\"5a082006-8ed7-436d-a7e1-7335bbe83331\",\"type\":\"ColumnDataSource\"},\"glyph\":{\"id\":\"a1affad8-1fef-4f16-bbfd-eb912a5040ca\",\"type\":\"Rect\"},\"hover_glyph\":null,\"nonselection_glyph\":null,\"selection_glyph\":null},\"id\":\"66b32aef-102f-4ba2-833d-3a5901ecebef\",\"type\":\"GlyphRenderer\"},{\"attributes\":{\"fill_alpha\":{\"field\":\"fill_alpha\"},\"fill_color\":{\"field\":\"color\"},\"height\":{\"field\":\"height\",\"units\":\"data\"},\"line_color\":{\"field\":\"line_color\"},\"width\":{\"field\":\"width\",\"units\":\"data\"},\"x\":{\"field\":\"x\"},\"y\":{\"field\":\"y\"}},\"id\":\"a1affad8-1fef-4f16-bbfd-eb912a5040ca\",\"type\":\"Rect\"},{\"attributes\":{\"callback\":null,\"column_names\":[\"width\",\"x\",\"height\",\"color\",\"y\",\"line_alpha\",\"line_color\",\"fill_alpha\",\"label\"],\"data\":{\"chart_index\":[{\"data_source\":\"IRENA\",\"energy_source\":\"Wind\",\"year\":2014}],\"color\":[\"#f22c40\"],\"data_source\":[\"IRENA\"],\"energy_source\":[\"Wind\"],\"fill_alpha\":[0.8],\"height\":[9068.0],\"label\":[{\"data_source\":\"IRENA\",\"energy_source\":\"Wind\",\"year\":2014}],\"line_alpha\":[1.0],\"line_color\":[\"white\"],\"width\":[0.1702679845041569],\"x\":[\"Wind:0.166666666667\"],\"y\":[4534.0],\"year\":[2014]}},\"id\":\"7e27de42-045a-4f80-9629-a77532a5cfc0\",\"type\":\"ColumnDataSource\"},{\"attributes\":{\"active_drag\":\"auto\",\"active_scroll\":\"auto\",\"active_tap\":\"auto\",\"tools\":[{\"id\":\"18fa6e00-5954-4c8a-a9dd-730f8533363d\",\"type\":\"PanTool\"},{\"id\":\"6abdf188-6abc-4b51-8fa2-0ea26f74346a\",\"type\":\"WheelZoomTool\"},{\"id\":\"dde4c05a-b69d-4b78-9f87-4ed8713ad329\",\"type\":\"BoxZoomTool\"},{\"id\":\"0b7240f6-5933-4f3f-8164-305707f05da4\",\"type\":\"SaveTool\"},{\"id\":\"4916b60c-bbeb-4aad-ae5b-3d16411ad4ad\",\"type\":\"ResetTool\"},{\"id\":\"d5410244-572a-450c-9a76-c6997720a3d2\",\"type\":\"HelpTool\"}]},\"id\":\"180df25c-fdfc-464f-85ef-63cc748d80b6\",\"type\":\"Toolbar\"},{\"attributes\":{\"callback\":null,\"column_names\":[\"width\",\"x\",\"height\",\"color\",\"y\",\"line_alpha\",\"line_color\",\"fill_alpha\",\"label\"],\"data\":{\"chart_index\":[{\"data_source\":\"IRENA\",\"energy_source\":\"Bioenergy and renewable waste\",\"year\":2014}],\"color\":[\"#f22c40\"],\"data_source\":[\"IRENA\"],\"energy_source\":[\"Bioenergy and renewable waste\"],\"fill_alpha\":[0.8],\"height\":[1115.0],\"label\":[{\"data_source\":\"IRENA\",\"energy_source\":\"Bioenergy and renewable waste\",\"year\":2014}],\"line_alpha\":[1.0],\"line_color\":[\"white\"],\"width\":[0.1702679845041569],\"x\":[\"Bioenergy and renewable waste:0.166666666667\"],\"y\":[557.5],\"year\":[2014]}},\"id\":\"362cf842-c594-4153-8a65-eddb4b2ca37a\",\"type\":\"ColumnDataSource\"},{\"attributes\":{\"fill_alpha\":{\"field\":\"fill_alpha\"},\"fill_color\":{\"field\":\"color\"},\"height\":{\"field\":\"height\",\"units\":\"data\"},\"line_color\":{\"field\":\"line_color\"},\"width\":{\"field\":\"width\",\"units\":\"data\"},\"x\":{\"field\":\"x\"},\"y\":{\"field\":\"y\"}},\"id\":\"0341fc61-1eef-4822-8e35-7fe239eaf9b7\",\"type\":\"Rect\"},{\"attributes\":{\"callback\":null,\"column_names\":[\"width\",\"x\",\"height\",\"color\",\"y\",\"line_alpha\",\"line_color\",\"fill_alpha\",\"label\"],\"data\":{\"chart_index\":[{\"data_source\":\"IRENA\",\"energy_source\":\"Wind\",\"year\":2015}],\"color\":[\"#5ab738\"],\"data_source\":[\"IRENA\"],\"energy_source\":[\"Wind\"],\"fill_alpha\":[0.8],\"height\":[10358.0],\"label\":[{\"data_source\":\"IRENA\",\"energy_source\":\"Wind\",\"year\":2015}],\"line_alpha\":[1.0],\"line_color\":[\"white\"],\"width\":[0.1702679845041569],\"x\":[\"Wind:0.333333333333\"],\"y\":[5179.0],\"year\":[2015]}},\"id\":\"85a3711a-ffde-4072-af9b-03af8a5aa506\",\"type\":\"ColumnDataSource\"},{\"attributes\":{\"overlay\":{\"id\":\"0ec30426-354c-4ce7-bd4c-a6f0865b277f\",\"type\":\"BoxAnnotation\"},\"plot\":{\"id\":\"82391b0e-02b7-4dbd-bb79-dc4c4106f6d0\",\"subtype\":\"Chart\",\"type\":\"Plot\"}},\"id\":\"dde4c05a-b69d-4b78-9f87-4ed8713ad329\",\"type\":\"BoxZoomTool\"},{\"attributes\":{\"fill_alpha\":{\"field\":\"fill_alpha\"},\"fill_color\":{\"field\":\"color\"},\"height\":{\"field\":\"height\",\"units\":\"data\"},\"line_color\":{\"field\":\"line_color\"},\"width\":{\"field\":\"width\",\"units\":\"data\"},\"x\":{\"field\":\"x\"},\"y\":{\"field\":\"y\"}},\"id\":\"d59b0ee8-930f-4f9a-a66e-9296ac48def2\",\"type\":\"Rect\"},{\"attributes\":{\"data_source\":{\"id\":\"72432359-81ab-46fb-a346-4fc8a3c08e41\",\"type\":\"ColumnDataSource\"},\"glyph\":{\"id\":\"3dae1052-c6d4-478f-82e7-f3fca8b1de88\",\"type\":\"Rect\"},\"hover_glyph\":null,\"nonselection_glyph\":null,\"selection_glyph\":null},\"id\":\"f80c72cc-e8c4-4a75-addc-522c9fb9ef69\",\"type\":\"GlyphRenderer\"}],\"root_ids\":[\"82391b0e-02b7-4dbd-bb79-dc4c4106f6d0\"]},\"title\":\"Bokeh Application\",\"version\":\"0.12.0\"}};\n",
       "            var render_items = [{\"docid\":\"172f1a9a-1f9f-4f6f-826e-c5234b651802\",\"elementid\":\"8dd97216-400a-4410-91e4-53736669931e\",\"modelid\":\"82391b0e-02b7-4dbd-bb79-dc4c4106f6d0\",\"notebook_comms_target\":\"58cd372e-0d09-48dc-a0ef-1d04028ab141\"}];\n",
       "            \n",
       "            Bokeh.embed.embed_items(docs_json, render_items);\n",
       "        });\n",
       "      },\n",
       "      function(Bokeh) {\n",
       "      }\n",
       "    ];\n",
       "  \n",
       "    function run_inline_js() {\n",
       "      for (var i = 0; i < inline_js.length; i++) {\n",
       "        inline_js[i](window.Bokeh);\n",
       "      }\n",
       "    }\n",
       "  \n",
       "    if (window._bokeh_is_loading === 0) {\n",
       "      console.log(\"Bokeh: BokehJS loaded, going straight to plotting\");\n",
       "      run_inline_js();\n",
       "    } else {\n",
       "      load_libs(js_urls, function() {\n",
       "        console.log(\"Bokeh: BokehJS plotting callback run at\", now());\n",
       "        run_inline_js();\n",
       "      });\n",
       "    }\n",
       "  }(this));\n",
       "</script>"
      ]
     },
     "metadata": {},
     "output_type": "display_data"
    },
    {
     "data": {
      "text/html": [
       "<p><code>&lt;Bokeh Notebook handle for <strong>In[41]</strong>&gt;</code></p>"
      ],
      "text/plain": [
       "<bokeh.io._CommsHandle at 0x7fd14407e9b0>"
      ]
     },
     "execution_count": 41,
     "metadata": {},
     "output_type": "execute_result"
    }
   ],
   "source": [
    "# plot\n",
    "p = Bar(cap_country, label='energy_source', values='electrical_capacity_MW',\n",
    "        group=['data_source','year'], legend='top_left', \n",
    "        title=plot_country)\n",
    "\n",
    "show(p)"
   ]
  },
  {
   "cell_type": "code",
   "execution_count": 42,
   "metadata": {
    "collapsed": true
   },
   "outputs": [],
   "source": [
    "plot_country = 'PL'"
   ]
  },
  {
   "cell_type": "code",
   "execution_count": 43,
   "metadata": {
    "collapsed": true
   },
   "outputs": [],
   "source": [
    "# chose capacities of respective country and recent years\n",
    "idx_country = capacities[(capacities['country'] == plot_country) \n",
    "                        & (capacities['year'].isin(recent_years))].index\n",
    "\n",
    "# prepare data fraem for plotting\n",
    "cap_country = capacities.loc[idx_country].drop(['country',\n",
    "                                                'capacity_definition'],\n",
    "                                               axis = 1)\n",
    "\n",
    "cap_country = cap_country.reset_index(drop = True)"
   ]
  },
  {
   "cell_type": "code",
   "execution_count": 44,
   "metadata": {
    "collapsed": false
   },
   "outputs": [
    {
     "data": {
      "text/html": [
       "\n",
       "\n",
       "    <div class=\"bk-root\">\n",
       "        <div class=\"plotdiv\" id=\"5e8858f4-19d4-4e70-85af-cd8054625b41\"></div>\n",
       "    </div>\n",
       "<script type=\"text/javascript\">\n",
       "  \n",
       "  (function(global) {\n",
       "    function now() {\n",
       "      return new Date();\n",
       "    }\n",
       "  \n",
       "    if (typeof (window._bokeh_onload_callbacks) === \"undefined\") {\n",
       "      window._bokeh_onload_callbacks = [];\n",
       "    }\n",
       "  \n",
       "    function run_callbacks() {\n",
       "      window._bokeh_onload_callbacks.forEach(function(callback) { callback() });\n",
       "      delete window._bokeh_onload_callbacks\n",
       "      console.info(\"Bokeh: all callbacks have finished\");\n",
       "    }\n",
       "  \n",
       "    function load_libs(js_urls, callback) {\n",
       "      window._bokeh_onload_callbacks.push(callback);\n",
       "      if (window._bokeh_is_loading > 0) {\n",
       "        console.log(\"Bokeh: BokehJS is being loaded, scheduling callback at\", now());\n",
       "        return null;\n",
       "      }\n",
       "      if (js_urls == null || js_urls.length === 0) {\n",
       "        run_callbacks();\n",
       "        return null;\n",
       "      }\n",
       "      console.log(\"Bokeh: BokehJS not loaded, scheduling load and callback at\", now());\n",
       "      window._bokeh_is_loading = js_urls.length;\n",
       "      for (var i = 0; i < js_urls.length; i++) {\n",
       "        var url = js_urls[i];\n",
       "        var s = document.createElement('script');\n",
       "        s.src = url;\n",
       "        s.async = false;\n",
       "        s.onreadystatechange = s.onload = function() {\n",
       "          window._bokeh_is_loading--;\n",
       "          if (window._bokeh_is_loading === 0) {\n",
       "            console.log(\"Bokeh: all BokehJS libraries loaded\");\n",
       "            run_callbacks()\n",
       "          }\n",
       "        };\n",
       "        s.onerror = function() {\n",
       "          console.warn(\"failed to load library \" + url);\n",
       "        };\n",
       "        console.log(\"Bokeh: injecting script tag for BokehJS library: \", url);\n",
       "        document.getElementsByTagName(\"head\")[0].appendChild(s);\n",
       "      }\n",
       "    };var element = document.getElementById(\"5e8858f4-19d4-4e70-85af-cd8054625b41\");\n",
       "    if (element == null) {\n",
       "      console.log(\"Bokeh: ERROR: autoload.js configured with elementid '5e8858f4-19d4-4e70-85af-cd8054625b41' but no matching script tag was found. \")\n",
       "      return false;\n",
       "    }\n",
       "  \n",
       "    var js_urls = [];\n",
       "  \n",
       "    var inline_js = [\n",
       "      function(Bokeh) {\n",
       "        Bokeh.$(function() {\n",
       "            var docs_json = {\"aa1f991b-4927-405f-9cd5-35a3adb6fb3f\":{\"roots\":{\"references\":[{\"attributes\":{},\"id\":\"8ae96c4f-ba88-401d-8e4d-f64969d19c4a\",\"type\":\"BasicTickFormatter\"},{\"attributes\":{},\"id\":\"bdd02cd1-2f01-41f8-86d0-ac3634ec1692\",\"type\":\"CategoricalTicker\"},{\"attributes\":{\"callback\":null,\"column_names\":[\"width\",\"x\",\"height\",\"color\",\"y\",\"line_alpha\",\"line_color\",\"fill_alpha\",\"label\"],\"data\":{\"chart_index\":[{\"data_source\":\"IRENA\",\"energy_source\":\"Solar\",\"year\":2015}],\"color\":[\"#407ee7\"],\"data_source\":[\"IRENA\"],\"energy_source\":[\"Solar\"],\"fill_alpha\":[0.8],\"height\":[71.0],\"label\":[{\"data_source\":\"IRENA\",\"energy_source\":\"Solar\",\"year\":2015}],\"line_alpha\":[1.0],\"line_color\":[\"white\"],\"width\":[0.1702679845041569],\"x\":[\"Solar:0.333333333333\"],\"y\":[35.5],\"year\":[2015]}},\"id\":\"ac0a5060-3e21-4f2b-9c86-36e880fde2a8\",\"type\":\"ColumnDataSource\"},{\"attributes\":{\"fill_alpha\":{\"field\":\"fill_alpha\"},\"fill_color\":{\"field\":\"color\"},\"height\":{\"field\":\"height\",\"units\":\"data\"},\"line_color\":{\"field\":\"line_color\"},\"width\":{\"field\":\"width\",\"units\":\"data\"},\"x\":{\"field\":\"x\"},\"y\":{\"field\":\"y\"}},\"id\":\"9d20c4b1-9092-40da-97c2-d4b151785d94\",\"type\":\"Rect\"},{\"attributes\":{\"fill_alpha\":{\"field\":\"fill_alpha\"},\"fill_color\":{\"field\":\"color\"},\"height\":{\"field\":\"height\",\"units\":\"data\"},\"line_color\":{\"field\":\"line_color\"},\"width\":{\"field\":\"width\",\"units\":\"data\"},\"x\":{\"field\":\"x\"},\"y\":{\"field\":\"y\"}},\"id\":\"fd2549d9-ef24-4430-b6ae-4eb607f54300\",\"type\":\"Rect\"},{\"attributes\":{\"data_source\":{\"id\":\"2f5a4580-2af8-4aae-a77c-45d4da51375c\",\"type\":\"ColumnDataSource\"},\"glyph\":{\"id\":\"eac522a6-85e0-46fa-9eb4-4b8ee361931d\",\"type\":\"Rect\"},\"hover_glyph\":null,\"nonselection_glyph\":null,\"selection_glyph\":null},\"id\":\"799433e2-3eca-4c8a-a17a-a5e3b3025108\",\"type\":\"GlyphRenderer\"},{\"attributes\":{\"callback\":null,\"column_names\":[\"width\",\"x\",\"height\",\"color\",\"y\",\"line_alpha\",\"line_color\",\"fill_alpha\",\"label\"],\"data\":{\"chart_index\":[{\"data_source\":\"CIRE\",\"energy_source\":\"Solar\",\"year\":2014}],\"color\":[\"#f22c40\"],\"data_source\":[\"CIRE\"],\"energy_source\":[\"Solar\"],\"fill_alpha\":[0.8],\"height\":[0.0],\"label\":[{\"data_source\":\"CIRE\",\"energy_source\":\"Solar\",\"year\":2014}],\"line_alpha\":[1.0],\"line_color\":[\"white\"],\"width\":[0.1702679845041569],\"x\":[\"Solar:0.5\"],\"y\":[0.0],\"year\":[2014]}},\"id\":\"0e013399-5ace-4569-baad-f24581a927c0\",\"type\":\"ColumnDataSource\"},{\"attributes\":{\"dimension\":1,\"plot\":{\"id\":\"ce9ebb82-aba1-4dc2-b2ae-e417fe1ebbf5\",\"subtype\":\"Chart\",\"type\":\"Plot\"},\"ticker\":{\"id\":\"bff2432e-c15b-4074-9e18-c506e3d31030\",\"type\":\"BasicTicker\"}},\"id\":\"67849bd0-e239-43dc-83e0-01d785511cd2\",\"type\":\"Grid\"},{\"attributes\":{\"data_source\":{\"id\":\"1cfa14ee-113d-4686-9048-3c99a324ad4d\",\"type\":\"ColumnDataSource\"},\"glyph\":{\"id\":\"e68582de-2266-4af8-8851-a10c19ca81d5\",\"type\":\"Rect\"},\"hover_glyph\":null,\"nonselection_glyph\":null,\"selection_glyph\":null},\"id\":\"1ab05180-97e1-4118-8957-096abcb7b227\",\"type\":\"GlyphRenderer\"},{\"attributes\":{\"callback\":null,\"column_names\":[\"width\",\"x\",\"height\",\"color\",\"y\",\"line_alpha\",\"line_color\",\"fill_alpha\",\"label\"],\"data\":{\"chart_index\":[{\"data_source\":\"entsoe\",\"energy_source\":\"Hydro\",\"year\":2014}],\"color\":[\"#00ad9c\"],\"data_source\":[\"entsoe\"],\"energy_source\":[\"Hydro\"],\"fill_alpha\":[0.8],\"height\":[4720.0],\"label\":[{\"data_source\":\"entsoe\",\"energy_source\":\"Hydro\",\"year\":2014}],\"line_alpha\":[1.0],\"line_color\":[\"white\"],\"width\":[0.1702679845041569],\"x\":[\"Hydro:0.666666666667\"],\"y\":[2360.0],\"year\":[2014]}},\"id\":\"fd4e2405-9162-43c9-8949-f8f014c0aebc\",\"type\":\"ColumnDataSource\"},{\"attributes\":{\"callback\":null,\"column_names\":[\"width\",\"x\",\"height\",\"color\",\"y\",\"line_alpha\",\"line_color\",\"fill_alpha\",\"label\"],\"data\":{\"chart_index\":[{\"data_source\":\"entsoe\",\"energy_source\":\"Solar\",\"year\":2014}],\"color\":[\"#00ad9c\"],\"data_source\":[\"entsoe\"],\"energy_source\":[\"Solar\"],\"fill_alpha\":[0.8],\"height\":[0.0],\"label\":[{\"data_source\":\"entsoe\",\"energy_source\":\"Solar\",\"year\":2014}],\"line_alpha\":[1.0],\"line_color\":[\"white\"],\"width\":[0.1702679845041569],\"x\":[\"Solar:0.666666666667\"],\"y\":[0.0],\"year\":[2014]}},\"id\":\"da145f73-9d26-4820-adf6-87e0396965f4\",\"type\":\"ColumnDataSource\"},{\"attributes\":{\"fill_alpha\":{\"field\":\"fill_alpha\"},\"fill_color\":{\"field\":\"color\"},\"height\":{\"field\":\"height\",\"units\":\"data\"},\"line_color\":{\"field\":\"line_color\"},\"width\":{\"field\":\"width\",\"units\":\"data\"},\"x\":{\"field\":\"x\"},\"y\":{\"field\":\"y\"}},\"id\":\"60d7418e-9b9f-4ff8-97b9-d99317cd36bb\",\"type\":\"Rect\"},{\"attributes\":{\"callback\":null,\"column_names\":[\"width\",\"x\",\"height\",\"color\",\"y\",\"line_alpha\",\"line_color\",\"fill_alpha\",\"label\"],\"data\":{\"chart_index\":[{\"data_source\":\"entsoe\",\"energy_source\":\"Wind\",\"year\":2014}],\"color\":[\"#00ad9c\"],\"data_source\":[\"entsoe\"],\"energy_source\":[\"Wind\"],\"fill_alpha\":[0.8],\"height\":[3440.0],\"label\":[{\"data_source\":\"entsoe\",\"energy_source\":\"Wind\",\"year\":2014}],\"line_alpha\":[1.0],\"line_color\":[\"white\"],\"width\":[0.1702679845041569],\"x\":[\"Wind:0.666666666667\"],\"y\":[1720.0],\"year\":[2014]}},\"id\":\"905bcf83-4f9e-438d-9a98-716e57b43229\",\"type\":\"ColumnDataSource\"},{\"attributes\":{\"callback\":null,\"column_names\":[\"width\",\"x\",\"height\",\"color\",\"y\",\"line_alpha\",\"line_color\",\"fill_alpha\",\"label\"],\"data\":{\"chart_index\":[{\"data_source\":\"CIRE\",\"energy_source\":\"Wind\",\"year\":2014}],\"color\":[\"#f22c40\"],\"data_source\":[\"CIRE\"],\"energy_source\":[\"Wind\"],\"fill_alpha\":[0.8],\"height\":[3866.0],\"label\":[{\"data_source\":\"CIRE\",\"energy_source\":\"Wind\",\"year\":2014}],\"line_alpha\":[1.0],\"line_color\":[\"white\"],\"width\":[0.1702679845041569],\"x\":[\"Wind:0.5\"],\"y\":[1933.0],\"year\":[2014]}},\"id\":\"214103e0-b4cb-483c-b205-d4006ee545e8\",\"type\":\"ColumnDataSource\"},{\"attributes\":{\"callback\":null,\"column_names\":[\"width\",\"x\",\"height\",\"color\",\"y\",\"line_alpha\",\"line_color\",\"fill_alpha\",\"label\"],\"data\":{\"chart_index\":[{\"data_source\":\"IRENA\",\"energy_source\":\"Hydro\",\"year\":2014}],\"color\":[\"#5ab738\"],\"data_source\":[\"IRENA\"],\"energy_source\":[\"Hydro\"],\"fill_alpha\":[0.8],\"height\":[2364.0],\"label\":[{\"data_source\":\"IRENA\",\"energy_source\":\"Hydro\",\"year\":2014}],\"line_alpha\":[1.0],\"line_color\":[\"white\"],\"width\":[0.1702679845041569],\"x\":[\"Hydro:0.166666666667\"],\"y\":[1182.0],\"year\":[2014]}},\"id\":\"9ec457ce-408a-41cc-8534-1ed19fa67f96\",\"type\":\"ColumnDataSource\"},{\"attributes\":{\"callback\":null,\"column_names\":[\"width\",\"x\",\"height\",\"color\",\"y\",\"line_alpha\",\"line_color\",\"fill_alpha\",\"label\"],\"data\":{\"chart_index\":[{\"data_source\":\"entsoe\",\"energy_source\":\"Geothermal\",\"year\":2014}],\"color\":[\"#00ad9c\"],\"data_source\":[\"entsoe\"],\"energy_source\":[\"Geothermal\"],\"fill_alpha\":[0.8],\"height\":[0.0],\"label\":[{\"data_source\":\"entsoe\",\"energy_source\":\"Geothermal\",\"year\":2014}],\"line_alpha\":[1.0],\"line_color\":[\"white\"],\"width\":[0.1702679845041569],\"x\":[\"Geothermal:0.666666666667\"],\"y\":[0.0],\"year\":[2014]}},\"id\":\"214980f8-b8a9-4561-9d30-71676ad33ba4\",\"type\":\"ColumnDataSource\"},{\"attributes\":{\"below\":[{\"id\":\"14df3e2b-ccf1-43a3-9894-d89e7ea571cd\",\"type\":\"CategoricalAxis\"}],\"left\":[{\"id\":\"c46b5b5c-15a1-4d62-8ec8-9a327710413d\",\"type\":\"LinearAxis\"}],\"renderers\":[{\"id\":\"578de83a-3867-4c61-9620-a1f71b89406e\",\"type\":\"BoxAnnotation\"},{\"id\":\"5f602c83-2754-4100-9e38-c6277ccf5e78\",\"type\":\"GlyphRenderer\"},{\"id\":\"799433e2-3eca-4c8a-a17a-a5e3b3025108\",\"type\":\"GlyphRenderer\"},{\"id\":\"0cfec34f-0bdc-4a55-8c0d-e8e20e4d1ca7\",\"type\":\"GlyphRenderer\"},{\"id\":\"094847d1-e61a-4acc-8fe8-f5425ce3eb6e\",\"type\":\"GlyphRenderer\"},{\"id\":\"b6ea3acc-30a4-4091-b848-6f12c38cde05\",\"type\":\"GlyphRenderer\"},{\"id\":\"06218712-3754-4239-911e-42afdb383a58\",\"type\":\"GlyphRenderer\"},{\"id\":\"387c7f2c-b489-45d7-b142-4f8e568eac47\",\"type\":\"GlyphRenderer\"},{\"id\":\"100ebc70-f9d6-460c-a2af-b387a27c9be1\",\"type\":\"GlyphRenderer\"},{\"id\":\"b97f3c8e-24f5-47fc-a60e-1c2e8b917012\",\"type\":\"GlyphRenderer\"},{\"id\":\"faaeaf2a-58aa-4b67-bf13-e62236f3abad\",\"type\":\"GlyphRenderer\"},{\"id\":\"7a95df9e-c558-4356-9a45-27f7951f862f\",\"type\":\"GlyphRenderer\"},{\"id\":\"ee0f0bfb-9de7-45f6-bdad-202add7a4b18\",\"type\":\"GlyphRenderer\"},{\"id\":\"b3111bc5-8c4f-4d24-a0ff-750958fb9e89\",\"type\":\"GlyphRenderer\"},{\"id\":\"d613fbcd-028c-4947-8acf-c3d0fac74c28\",\"type\":\"GlyphRenderer\"},{\"id\":\"a49702c0-18ca-4d0e-8ac8-b5123605e994\",\"type\":\"GlyphRenderer\"},{\"id\":\"9553c725-0b74-4543-97db-6a6e113a63c9\",\"type\":\"GlyphRenderer\"},{\"id\":\"52cd9bb8-17c5-4cd4-8f60-d2eb454ea596\",\"type\":\"GlyphRenderer\"},{\"id\":\"49ee2163-8f30-4941-8890-09d3258f570c\",\"type\":\"GlyphRenderer\"},{\"id\":\"a248eabb-6c19-49dc-96ac-00acfa0b47b9\",\"type\":\"GlyphRenderer\"},{\"id\":\"8e384221-0f50-4b68-bf10-db18aba6ef9f\",\"type\":\"GlyphRenderer\"},{\"id\":\"c5a5dfba-2457-46b4-8afc-7e50a8df8904\",\"type\":\"GlyphRenderer\"},{\"id\":\"b940ec52-8ebb-4040-9733-081dd1af94bb\",\"type\":\"GlyphRenderer\"},{\"id\":\"1ab05180-97e1-4118-8957-096abcb7b227\",\"type\":\"GlyphRenderer\"},{\"id\":\"ad9e25b4-31a8-459a-a8f5-07395d2e7265\",\"type\":\"GlyphRenderer\"},{\"id\":\"2800c5d2-5b2c-4cd4-9aae-a56838a4d117\",\"type\":\"Legend\"},{\"id\":\"14df3e2b-ccf1-43a3-9894-d89e7ea571cd\",\"type\":\"CategoricalAxis\"},{\"id\":\"c46b5b5c-15a1-4d62-8ec8-9a327710413d\",\"type\":\"LinearAxis\"},{\"id\":\"67849bd0-e239-43dc-83e0-01d785511cd2\",\"type\":\"Grid\"}],\"title\":{\"id\":\"3758c84e-cda2-4d25-a335-f83f3ccd60c1\",\"type\":\"Title\"},\"tool_events\":{\"id\":\"532a0553-3165-46d2-b950-7e07418ec4c8\",\"type\":\"ToolEvents\"},\"toolbar\":{\"id\":\"6eb6739c-d96e-457c-8465-5f31bc1862b6\",\"type\":\"Toolbar\"},\"x_mapper_type\":\"auto\",\"x_range\":{\"id\":\"ac35ee59-38c6-4118-b557-d8c14c99828c\",\"type\":\"FactorRange\"},\"y_mapper_type\":\"auto\",\"y_range\":{\"id\":\"7d9cd9a5-8279-4257-a2c1-2f47fe7c1ec4\",\"type\":\"Range1d\"}},\"id\":\"ce9ebb82-aba1-4dc2-b2ae-e417fe1ebbf5\",\"subtype\":\"Chart\",\"type\":\"Plot\"},{\"attributes\":{\"fill_alpha\":{\"field\":\"fill_alpha\"},\"fill_color\":{\"field\":\"color\"},\"height\":{\"field\":\"height\",\"units\":\"data\"},\"line_color\":{\"field\":\"line_color\"},\"width\":{\"field\":\"width\",\"units\":\"data\"},\"x\":{\"field\":\"x\"},\"y\":{\"field\":\"y\"}},\"id\":\"766d95dd-8447-4665-a155-02708da013e8\",\"type\":\"Rect\"},{\"attributes\":{\"callback\":null,\"factors\":[\"Bioenergy and renewable waste\",\"Biomass and biogas\",\"Geothermal\",\"Hydro\",\"Marine\",\"Solar\",\"Wind\"]},\"id\":\"ac35ee59-38c6-4118-b557-d8c14c99828c\",\"type\":\"FactorRange\"},{\"attributes\":{\"fill_alpha\":{\"field\":\"fill_alpha\"},\"fill_color\":{\"field\":\"color\"},\"height\":{\"field\":\"height\",\"units\":\"data\"},\"line_color\":{\"field\":\"line_color\"},\"width\":{\"field\":\"width\",\"units\":\"data\"},\"x\":{\"field\":\"x\"},\"y\":{\"field\":\"y\"}},\"id\":\"ea83dbe0-19f9-4c44-9951-bdb7f3d8d374\",\"type\":\"Rect\"},{\"attributes\":{\"callback\":null,\"column_names\":[\"width\",\"x\",\"height\",\"color\",\"y\",\"line_alpha\",\"line_color\",\"fill_alpha\",\"label\"],\"data\":{\"chart_index\":[{\"data_source\":\"IRENA\",\"energy_source\":\"Solar\",\"year\":2014}],\"color\":[\"#5ab738\"],\"data_source\":[\"IRENA\"],\"energy_source\":[\"Solar\"],\"fill_alpha\":[0.8],\"height\":[27.0],\"label\":[{\"data_source\":\"IRENA\",\"energy_source\":\"Solar\",\"year\":2014}],\"line_alpha\":[1.0],\"line_color\":[\"white\"],\"width\":[0.1702679845041569],\"x\":[\"Solar:0.166666666667\"],\"y\":[13.5],\"year\":[2014]}},\"id\":\"4d0afcc4-7842-497a-938f-cf8710a96547\",\"type\":\"ColumnDataSource\"},{\"attributes\":{\"callback\":null,\"column_names\":[\"width\",\"x\",\"height\",\"color\",\"y\",\"line_alpha\",\"line_color\",\"fill_alpha\",\"label\"],\"data\":{\"chart_index\":[{\"data_source\":\"CIRE\",\"energy_source\":\"Geothermal\",\"year\":2014}],\"color\":[\"#f22c40\"],\"data_source\":[\"CIRE\"],\"energy_source\":[\"Geothermal\"],\"fill_alpha\":[0.8],\"height\":[0.0],\"label\":[{\"data_source\":\"CIRE\",\"energy_source\":\"Geothermal\",\"year\":2014}],\"line_alpha\":[1.0],\"line_color\":[\"white\"],\"width\":[0.1702679845041569],\"x\":[\"Geothermal:0.5\"],\"y\":[0.0],\"year\":[2014]}},\"id\":\"ddefa28d-eed2-42fb-bc06-61b5be50fc3b\",\"type\":\"ColumnDataSource\"},{\"attributes\":{\"fill_alpha\":{\"field\":\"fill_alpha\"},\"fill_color\":{\"field\":\"color\"},\"height\":{\"field\":\"height\",\"units\":\"data\"},\"line_color\":{\"field\":\"line_color\"},\"width\":{\"field\":\"width\",\"units\":\"data\"},\"x\":{\"field\":\"x\"},\"y\":{\"field\":\"y\"}},\"id\":\"84050013-9e44-4e19-b9bf-9824d4ddaa95\",\"type\":\"Rect\"},{\"attributes\":{\"fill_alpha\":{\"field\":\"fill_alpha\"},\"fill_color\":{\"field\":\"color\"},\"height\":{\"field\":\"height\",\"units\":\"data\"},\"line_color\":{\"field\":\"line_color\"},\"width\":{\"field\":\"width\",\"units\":\"data\"},\"x\":{\"field\":\"x\"},\"y\":{\"field\":\"y\"}},\"id\":\"9842641a-05de-4130-aa6b-3a02f468a904\",\"type\":\"Rect\"},{\"attributes\":{\"legends\":[[\"('IRENA', 2014)\",[{\"id\":\"5f602c83-2754-4100-9e38-c6277ccf5e78\",\"type\":\"GlyphRenderer\"}]],[\"('IRENA', 2015)\",[{\"id\":\"799433e2-3eca-4c8a-a17a-a5e3b3025108\",\"type\":\"GlyphRenderer\"}]],[\"('CIRE', 2014)\",[{\"id\":\"b97f3c8e-24f5-47fc-a60e-1c2e8b917012\",\"type\":\"GlyphRenderer\"}]],[\"('entsoe', 2014)\",[{\"id\":\"faaeaf2a-58aa-4b67-bf13-e62236f3abad\",\"type\":\"GlyphRenderer\"}]],[\"('Urzad Regulacji Energetyki', 2015)\",[{\"id\":\"c5a5dfba-2457-46b4-8afc-7e50a8df8904\",\"type\":\"GlyphRenderer\"}]]],\"location\":\"top_left\",\"plot\":{\"id\":\"ce9ebb82-aba1-4dc2-b2ae-e417fe1ebbf5\",\"subtype\":\"Chart\",\"type\":\"Plot\"}},\"id\":\"2800c5d2-5b2c-4cd4-9aae-a56838a4d117\",\"type\":\"Legend\"},{\"attributes\":{\"data_source\":{\"id\":\"ddefa28d-eed2-42fb-bc06-61b5be50fc3b\",\"type\":\"ColumnDataSource\"},\"glyph\":{\"id\":\"ebf874a9-1ba7-4790-933c-34c0fc3f98e4\",\"type\":\"Rect\"},\"hover_glyph\":null,\"nonselection_glyph\":null,\"selection_glyph\":null},\"id\":\"a49702c0-18ca-4d0e-8ac8-b5123605e994\",\"type\":\"GlyphRenderer\"},{\"attributes\":{\"callback\":null,\"column_names\":[\"width\",\"x\",\"height\",\"color\",\"y\",\"line_alpha\",\"line_color\",\"fill_alpha\",\"label\"],\"data\":{\"chart_index\":[{\"data_source\":\"CIRE\",\"energy_source\":\"Biomass and biogas\",\"year\":2014}],\"color\":[\"#f22c40\"],\"data_source\":[\"CIRE\"],\"energy_source\":[\"Biomass and biogas\"],\"fill_alpha\":[0.8],\"height\":[0.0],\"label\":[{\"data_source\":\"CIRE\",\"energy_source\":\"Biomass and biogas\",\"year\":2014}],\"line_alpha\":[1.0],\"line_color\":[\"white\"],\"width\":[0.1702679845041569],\"x\":[\"Biomass and biogas:0.5\"],\"y\":[0.0],\"year\":[2014]}},\"id\":\"fe811ac8-839a-4d2c-9e15-d29569a32877\",\"type\":\"ColumnDataSource\"},{\"attributes\":{\"data_source\":{\"id\":\"0e013399-5ace-4569-baad-f24581a927c0\",\"type\":\"ColumnDataSource\"},\"glyph\":{\"id\":\"fd2549d9-ef24-4430-b6ae-4eb607f54300\",\"type\":\"Rect\"},\"hover_glyph\":null,\"nonselection_glyph\":null,\"selection_glyph\":null},\"id\":\"b3111bc5-8c4f-4d24-a0ff-750958fb9e89\",\"type\":\"GlyphRenderer\"},{\"attributes\":{\"axis_label\":\"Sum( Electrical_Capacity_Mw )\",\"formatter\":{\"id\":\"8ae96c4f-ba88-401d-8e4d-f64969d19c4a\",\"type\":\"BasicTickFormatter\"},\"plot\":{\"id\":\"ce9ebb82-aba1-4dc2-b2ae-e417fe1ebbf5\",\"subtype\":\"Chart\",\"type\":\"Plot\"},\"ticker\":{\"id\":\"bff2432e-c15b-4074-9e18-c506e3d31030\",\"type\":\"BasicTicker\"}},\"id\":\"c46b5b5c-15a1-4d62-8ec8-9a327710413d\",\"type\":\"LinearAxis\"},{\"attributes\":{},\"id\":\"a099abbb-2248-4187-90b3-c40ed0ba65fe\",\"type\":\"CategoricalTickFormatter\"},{\"attributes\":{\"fill_alpha\":{\"field\":\"fill_alpha\"},\"fill_color\":{\"field\":\"color\"},\"height\":{\"field\":\"height\",\"units\":\"data\"},\"line_color\":{\"field\":\"line_color\"},\"width\":{\"field\":\"width\",\"units\":\"data\"},\"x\":{\"field\":\"x\"},\"y\":{\"field\":\"y\"}},\"id\":\"5a36e5db-2709-4706-99b8-be6987586524\",\"type\":\"Rect\"},{\"attributes\":{\"fill_alpha\":{\"field\":\"fill_alpha\"},\"fill_color\":{\"field\":\"color\"},\"height\":{\"field\":\"height\",\"units\":\"data\"},\"line_color\":{\"field\":\"line_color\"},\"width\":{\"field\":\"width\",\"units\":\"data\"},\"x\":{\"field\":\"x\"},\"y\":{\"field\":\"y\"}},\"id\":\"f1726024-6ad4-44a9-8d5e-b95933779a2b\",\"type\":\"Rect\"},{\"attributes\":{\"callback\":null,\"end\":5355.0},\"id\":\"7d9cd9a5-8279-4257-a2c1-2f47fe7c1ec4\",\"type\":\"Range1d\"},{\"attributes\":{\"callback\":null,\"column_names\":[\"width\",\"x\",\"height\",\"color\",\"y\",\"line_alpha\",\"line_color\",\"fill_alpha\",\"label\"],\"data\":{\"chart_index\":[{\"data_source\":\"entsoe\",\"energy_source\":\"Biomass and biogas\",\"year\":2014}],\"color\":[\"#00ad9c\"],\"data_source\":[\"entsoe\"],\"energy_source\":[\"Biomass and biogas\"],\"fill_alpha\":[0.8],\"height\":[720.0],\"label\":[{\"data_source\":\"entsoe\",\"energy_source\":\"Biomass and biogas\",\"year\":2014}],\"line_alpha\":[1.0],\"line_color\":[\"white\"],\"width\":[0.1702679845041569],\"x\":[\"Biomass and biogas:0.666666666667\"],\"y\":[360.0],\"year\":[2014]}},\"id\":\"26170515-68dc-44c7-84a5-1ee48155dc32\",\"type\":\"ColumnDataSource\"},{\"attributes\":{\"plot\":{\"id\":\"ce9ebb82-aba1-4dc2-b2ae-e417fe1ebbf5\",\"subtype\":\"Chart\",\"type\":\"Plot\"}},\"id\":\"af339b6c-b98d-4519-b549-81f0ff094989\",\"type\":\"WheelZoomTool\"},{\"attributes\":{\"active_drag\":\"auto\",\"active_scroll\":\"auto\",\"active_tap\":\"auto\",\"tools\":[{\"id\":\"afdeb90d-1fc1-4698-9d9e-5db8a391e9b2\",\"type\":\"PanTool\"},{\"id\":\"af339b6c-b98d-4519-b549-81f0ff094989\",\"type\":\"WheelZoomTool\"},{\"id\":\"f7070d49-a176-46a6-9751-b6052c8c537e\",\"type\":\"BoxZoomTool\"},{\"id\":\"1be77fc0-85c3-4e14-80cb-b1a25371e1e2\",\"type\":\"SaveTool\"},{\"id\":\"1ec94f35-6087-48ac-8be5-07f603bc9ea2\",\"type\":\"ResetTool\"},{\"id\":\"add268ad-8419-487e-8b6c-6af73ce8039e\",\"type\":\"HelpTool\"}]},\"id\":\"6eb6739c-d96e-457c-8465-5f31bc1862b6\",\"type\":\"Toolbar\"},{\"attributes\":{\"bottom_units\":\"screen\",\"fill_alpha\":{\"value\":0.5},\"fill_color\":{\"value\":\"lightgrey\"},\"left_units\":\"screen\",\"level\":\"overlay\",\"line_alpha\":{\"value\":1.0},\"line_color\":{\"value\":\"black\"},\"line_dash\":[4,4],\"line_width\":{\"value\":2},\"plot\":null,\"render_mode\":\"css\",\"right_units\":\"screen\",\"top_units\":\"screen\"},\"id\":\"578de83a-3867-4c61-9620-a1f71b89406e\",\"type\":\"BoxAnnotation\"},{\"attributes\":{\"data_source\":{\"id\":\"da145f73-9d26-4820-adf6-87e0396965f4\",\"type\":\"ColumnDataSource\"},\"glyph\":{\"id\":\"2baf4e22-e633-40f5-af5b-596b3477a104\",\"type\":\"Rect\"},\"hover_glyph\":null,\"nonselection_glyph\":null,\"selection_glyph\":null},\"id\":\"d613fbcd-028c-4947-8acf-c3d0fac74c28\",\"type\":\"GlyphRenderer\"},{\"attributes\":{\"data_source\":{\"id\":\"fe811ac8-839a-4d2c-9e15-d29569a32877\",\"type\":\"ColumnDataSource\"},\"glyph\":{\"id\":\"46a7f622-7746-4203-82a0-07e0ad417347\",\"type\":\"Rect\"},\"hover_glyph\":null,\"nonselection_glyph\":null,\"selection_glyph\":null},\"id\":\"a248eabb-6c19-49dc-96ac-00acfa0b47b9\",\"type\":\"GlyphRenderer\"},{\"attributes\":{\"axis_label\":\"Energy_Source\",\"formatter\":{\"id\":\"a099abbb-2248-4187-90b3-c40ed0ba65fe\",\"type\":\"CategoricalTickFormatter\"},\"major_label_orientation\":0.7853981633974483,\"plot\":{\"id\":\"ce9ebb82-aba1-4dc2-b2ae-e417fe1ebbf5\",\"subtype\":\"Chart\",\"type\":\"Plot\"},\"ticker\":{\"id\":\"bdd02cd1-2f01-41f8-86d0-ac3634ec1692\",\"type\":\"CategoricalTicker\"}},\"id\":\"14df3e2b-ccf1-43a3-9894-d89e7ea571cd\",\"type\":\"CategoricalAxis\"},{\"attributes\":{\"fill_alpha\":{\"field\":\"fill_alpha\"},\"fill_color\":{\"field\":\"color\"},\"height\":{\"field\":\"height\",\"units\":\"data\"},\"line_color\":{\"field\":\"line_color\"},\"width\":{\"field\":\"width\",\"units\":\"data\"},\"x\":{\"field\":\"x\"},\"y\":{\"field\":\"y\"}},\"id\":\"1100c268-8848-4220-8939-8e8eabfb9dcc\",\"type\":\"Rect\"},{\"attributes\":{\"callback\":null,\"column_names\":[\"width\",\"x\",\"height\",\"color\",\"y\",\"line_alpha\",\"line_color\",\"fill_alpha\",\"label\"],\"data\":{\"chart_index\":[{\"data_source\":\"CIRE\",\"energy_source\":\"Hydro\",\"year\":2014}],\"color\":[\"#f22c40\"],\"data_source\":[\"CIRE\"],\"energy_source\":[\"Hydro\"],\"fill_alpha\":[0.8],\"height\":[3085.3999999999996],\"label\":[{\"data_source\":\"CIRE\",\"energy_source\":\"Hydro\",\"year\":2014}],\"line_alpha\":[1.0],\"line_color\":[\"white\"],\"width\":[0.1702679845041569],\"x\":[\"Hydro:0.5\"],\"y\":[1542.6999999999998],\"year\":[2014]}},\"id\":\"b2d6f3bb-c033-4b7f-ab74-2998ba4a2078\",\"type\":\"ColumnDataSource\"},{\"attributes\":{\"fill_alpha\":{\"field\":\"fill_alpha\"},\"fill_color\":{\"field\":\"color\"},\"height\":{\"field\":\"height\",\"units\":\"data\"},\"line_color\":{\"field\":\"line_color\"},\"width\":{\"field\":\"width\",\"units\":\"data\"},\"x\":{\"field\":\"x\"},\"y\":{\"field\":\"y\"}},\"id\":\"f4c414e8-c526-469c-8e5e-a34de8c0962f\",\"type\":\"Rect\"},{\"attributes\":{\"plot\":{\"id\":\"ce9ebb82-aba1-4dc2-b2ae-e417fe1ebbf5\",\"subtype\":\"Chart\",\"type\":\"Plot\"}},\"id\":\"1be77fc0-85c3-4e14-80cb-b1a25371e1e2\",\"type\":\"SaveTool\"},{\"attributes\":{\"data_source\":{\"id\":\"a3e4f86b-6096-460b-b022-528def164106\",\"type\":\"ColumnDataSource\"},\"glyph\":{\"id\":\"9d20c4b1-9092-40da-97c2-d4b151785d94\",\"type\":\"Rect\"},\"hover_glyph\":null,\"nonselection_glyph\":null,\"selection_glyph\":null},\"id\":\"49ee2163-8f30-4941-8890-09d3258f570c\",\"type\":\"GlyphRenderer\"},{\"attributes\":{\"plot\":null,\"text\":\"PL\"},\"id\":\"3758c84e-cda2-4d25-a335-f83f3ccd60c1\",\"type\":\"Title\"},{\"attributes\":{\"callback\":null,\"column_names\":[\"width\",\"x\",\"height\",\"color\",\"y\",\"line_alpha\",\"line_color\",\"fill_alpha\",\"label\"],\"data\":{\"chart_index\":[{\"data_source\":\"IRENA\",\"energy_source\":\"Bioenergy and renewable waste\",\"year\":2015}],\"color\":[\"#407ee7\"],\"data_source\":[\"IRENA\"],\"energy_source\":[\"Bioenergy and renewable waste\"],\"fill_alpha\":[0.8],\"height\":[840.4],\"label\":[{\"data_source\":\"IRENA\",\"energy_source\":\"Bioenergy and renewable waste\",\"year\":2015}],\"line_alpha\":[1.0],\"line_color\":[\"white\"],\"width\":[0.1702679845041569],\"x\":[\"Bioenergy and renewable waste:0.333333333333\"],\"y\":[420.2],\"year\":[2015]}},\"id\":\"2f5a4580-2af8-4aae-a77c-45d4da51375c\",\"type\":\"ColumnDataSource\"},{\"attributes\":{\"plot\":{\"id\":\"ce9ebb82-aba1-4dc2-b2ae-e417fe1ebbf5\",\"subtype\":\"Chart\",\"type\":\"Plot\"}},\"id\":\"add268ad-8419-487e-8b6c-6af73ce8039e\",\"type\":\"HelpTool\"},{\"attributes\":{\"data_source\":{\"id\":\"ac0a5060-3e21-4f2b-9c86-36e880fde2a8\",\"type\":\"ColumnDataSource\"},\"glyph\":{\"id\":\"5a36e5db-2709-4706-99b8-be6987586524\",\"type\":\"Rect\"},\"hover_glyph\":null,\"nonselection_glyph\":null,\"selection_glyph\":null},\"id\":\"06218712-3754-4239-911e-42afdb383a58\",\"type\":\"GlyphRenderer\"},{\"attributes\":{\"callback\":null,\"column_names\":[\"width\",\"x\",\"height\",\"color\",\"y\",\"line_alpha\",\"line_color\",\"fill_alpha\",\"label\"],\"data\":{\"chart_index\":[{\"data_source\":\"CIRE\",\"energy_source\":\"Marine\",\"year\":2014}],\"color\":[\"#f22c40\"],\"data_source\":[\"CIRE\"],\"energy_source\":[\"Marine\"],\"fill_alpha\":[0.8],\"height\":[0.0],\"label\":[{\"data_source\":\"CIRE\",\"energy_source\":\"Marine\",\"year\":2014}],\"line_alpha\":[1.0],\"line_color\":[\"white\"],\"width\":[0.1702679845041569],\"x\":[\"Marine:0.5\"],\"y\":[0.0],\"year\":[2014]}},\"id\":\"0a310233-a06b-40e9-9c84-e05cb56fd6ce\",\"type\":\"ColumnDataSource\"},{\"attributes\":{\"fill_alpha\":{\"field\":\"fill_alpha\"},\"fill_color\":{\"field\":\"color\"},\"height\":{\"field\":\"height\",\"units\":\"data\"},\"line_color\":{\"field\":\"line_color\"},\"width\":{\"field\":\"width\",\"units\":\"data\"},\"x\":{\"field\":\"x\"},\"y\":{\"field\":\"y\"}},\"id\":\"eac522a6-85e0-46fa-9eb4-4b8ee361931d\",\"type\":\"Rect\"},{\"attributes\":{\"data_source\":{\"id\":\"4d0afcc4-7842-497a-938f-cf8710a96547\",\"type\":\"ColumnDataSource\"},\"glyph\":{\"id\":\"f4c414e8-c526-469c-8e5e-a34de8c0962f\",\"type\":\"Rect\"},\"hover_glyph\":null,\"nonselection_glyph\":null,\"selection_glyph\":null},\"id\":\"b6ea3acc-30a4-4091-b848-6f12c38cde05\",\"type\":\"GlyphRenderer\"},{\"attributes\":{\"callback\":null,\"column_names\":[\"width\",\"x\",\"height\",\"color\",\"y\",\"line_alpha\",\"line_color\",\"fill_alpha\",\"label\"],\"data\":{\"chart_index\":[{\"data_source\":\"entsoe\",\"energy_source\":\"Marine\",\"year\":2014}],\"color\":[\"#00ad9c\"],\"data_source\":[\"entsoe\"],\"energy_source\":[\"Marine\"],\"fill_alpha\":[0.8],\"height\":[0.0],\"label\":[{\"data_source\":\"entsoe\",\"energy_source\":\"Marine\",\"year\":2014}],\"line_alpha\":[1.0],\"line_color\":[\"white\"],\"width\":[0.1702679845041569],\"x\":[\"Marine:0.666666666667\"],\"y\":[0.0],\"year\":[2014]}},\"id\":\"a3e4f86b-6096-460b-b022-528def164106\",\"type\":\"ColumnDataSource\"},{\"attributes\":{\"fill_alpha\":{\"field\":\"fill_alpha\"},\"fill_color\":{\"field\":\"color\"},\"height\":{\"field\":\"height\",\"units\":\"data\"},\"line_color\":{\"field\":\"line_color\"},\"width\":{\"field\":\"width\",\"units\":\"data\"},\"x\":{\"field\":\"x\"},\"y\":{\"field\":\"y\"}},\"id\":\"c2ba84c1-8f6e-47dc-84a9-f400ca925ace\",\"type\":\"Rect\"},{\"attributes\":{\"fill_alpha\":{\"field\":\"fill_alpha\"},\"fill_color\":{\"field\":\"color\"},\"height\":{\"field\":\"height\",\"units\":\"data\"},\"line_color\":{\"field\":\"line_color\"},\"width\":{\"field\":\"width\",\"units\":\"data\"},\"x\":{\"field\":\"x\"},\"y\":{\"field\":\"y\"}},\"id\":\"c38acf09-62d1-4096-aa3d-0a7c7668c920\",\"type\":\"Rect\"},{\"attributes\":{\"data_source\":{\"id\":\"3bb4bcf4-96e9-41c2-97f5-d307e471b3dc\",\"type\":\"ColumnDataSource\"},\"glyph\":{\"id\":\"f1726024-6ad4-44a9-8d5e-b95933779a2b\",\"type\":\"Rect\"},\"hover_glyph\":null,\"nonselection_glyph\":null,\"selection_glyph\":null},\"id\":\"100ebc70-f9d6-460c-a2af-b387a27c9be1\",\"type\":\"GlyphRenderer\"},{\"attributes\":{\"overlay\":{\"id\":\"578de83a-3867-4c61-9620-a1f71b89406e\",\"type\":\"BoxAnnotation\"},\"plot\":{\"id\":\"ce9ebb82-aba1-4dc2-b2ae-e417fe1ebbf5\",\"subtype\":\"Chart\",\"type\":\"Plot\"}},\"id\":\"f7070d49-a176-46a6-9751-b6052c8c537e\",\"type\":\"BoxZoomTool\"},{\"attributes\":{\"callback\":null,\"column_names\":[\"width\",\"x\",\"height\",\"color\",\"y\",\"line_alpha\",\"line_color\",\"fill_alpha\",\"label\"],\"data\":{\"chart_index\":[{\"data_source\":\"Urzad Regulacji Energetyki\",\"energy_source\":\"Bioenergy and renewable waste\",\"year\":2015}],\"color\":[\"#df5320\"],\"data_source\":[\"Urzad Regulacji Energetyki\"],\"energy_source\":[\"Bioenergy and renewable waste\"],\"fill_alpha\":[0.8],\"height\":[802.459],\"label\":[{\"data_source\":\"Urzad Regulacji Energetyki\",\"energy_source\":\"Bioenergy and renewable waste\",\"year\":2015}],\"line_alpha\":[1.0],\"line_color\":[\"white\"],\"width\":[0.1702679845041569],\"x\":[\"Bioenergy and renewable waste:0.833333333333\"],\"y\":[401.2295],\"year\":[2015]}},\"id\":\"261fcf3e-0420-481b-901b-9cc5b10ed13d\",\"type\":\"ColumnDataSource\"},{\"attributes\":{\"callback\":null,\"column_names\":[\"width\",\"x\",\"height\",\"color\",\"y\",\"line_alpha\",\"line_color\",\"fill_alpha\",\"label\"],\"data\":{\"chart_index\":[{\"data_source\":\"Urzad Regulacji Energetyki\",\"energy_source\":\"Solar\",\"year\":2015}],\"color\":[\"#df5320\"],\"data_source\":[\"Urzad Regulacji Energetyki\"],\"energy_source\":[\"Solar\"],\"fill_alpha\":[0.8],\"height\":[46.592],\"label\":[{\"data_source\":\"Urzad Regulacji Energetyki\",\"energy_source\":\"Solar\",\"year\":2015}],\"line_alpha\":[1.0],\"line_color\":[\"white\"],\"width\":[0.1702679845041569],\"x\":[\"Solar:0.833333333333\"],\"y\":[23.296],\"year\":[2015]}},\"id\":\"1cfa14ee-113d-4686-9048-3c99a324ad4d\",\"type\":\"ColumnDataSource\"},{\"attributes\":{\"fill_alpha\":{\"field\":\"fill_alpha\"},\"fill_color\":{\"field\":\"color\"},\"height\":{\"field\":\"height\",\"units\":\"data\"},\"line_color\":{\"field\":\"line_color\"},\"width\":{\"field\":\"width\",\"units\":\"data\"},\"x\":{\"field\":\"x\"},\"y\":{\"field\":\"y\"}},\"id\":\"2baf4e22-e633-40f5-af5b-596b3477a104\",\"type\":\"Rect\"},{\"attributes\":{\"data_source\":{\"id\":\"fd4e2405-9162-43c9-8949-f8f014c0aebc\",\"type\":\"ColumnDataSource\"},\"glyph\":{\"id\":\"c38acf09-62d1-4096-aa3d-0a7c7668c920\",\"type\":\"Rect\"},\"hover_glyph\":null,\"nonselection_glyph\":null,\"selection_glyph\":null},\"id\":\"faaeaf2a-58aa-4b67-bf13-e62236f3abad\",\"type\":\"GlyphRenderer\"},{\"attributes\":{\"fill_alpha\":{\"field\":\"fill_alpha\"},\"fill_color\":{\"field\":\"color\"},\"height\":{\"field\":\"height\",\"units\":\"data\"},\"line_color\":{\"field\":\"line_color\"},\"width\":{\"field\":\"width\",\"units\":\"data\"},\"x\":{\"field\":\"x\"},\"y\":{\"field\":\"y\"}},\"id\":\"fde0c9dc-5774-4ef9-b74f-4632a8405f03\",\"type\":\"Rect\"},{\"attributes\":{\"fill_alpha\":{\"field\":\"fill_alpha\"},\"fill_color\":{\"field\":\"color\"},\"height\":{\"field\":\"height\",\"units\":\"data\"},\"line_color\":{\"field\":\"line_color\"},\"width\":{\"field\":\"width\",\"units\":\"data\"},\"x\":{\"field\":\"x\"},\"y\":{\"field\":\"y\"}},\"id\":\"2972d077-e0c8-416e-92a3-7bca9594c7c6\",\"type\":\"Rect\"},{\"attributes\":{\"data_source\":{\"id\":\"26170515-68dc-44c7-84a5-1ee48155dc32\",\"type\":\"ColumnDataSource\"},\"glyph\":{\"id\":\"1100c268-8848-4220-8939-8e8eabfb9dcc\",\"type\":\"Rect\"},\"hover_glyph\":null,\"nonselection_glyph\":null,\"selection_glyph\":null},\"id\":\"8e384221-0f50-4b68-bf10-db18aba6ef9f\",\"type\":\"GlyphRenderer\"},{\"attributes\":{\"data_source\":{\"id\":\"7722143a-9a7b-483d-bfe5-3eef0428c27f\",\"type\":\"ColumnDataSource\"},\"glyph\":{\"id\":\"d4068415-664d-4c8f-9ced-80a42d339382\",\"type\":\"Rect\"},\"hover_glyph\":null,\"nonselection_glyph\":null,\"selection_glyph\":null},\"id\":\"387c7f2c-b489-45d7-b142-4f8e568eac47\",\"type\":\"GlyphRenderer\"},{\"attributes\":{\"plot\":{\"id\":\"ce9ebb82-aba1-4dc2-b2ae-e417fe1ebbf5\",\"subtype\":\"Chart\",\"type\":\"Plot\"}},\"id\":\"1ec94f35-6087-48ac-8be5-07f603bc9ea2\",\"type\":\"ResetTool\"},{\"attributes\":{\"fill_alpha\":{\"field\":\"fill_alpha\"},\"fill_color\":{\"field\":\"color\"},\"height\":{\"field\":\"height\",\"units\":\"data\"},\"line_color\":{\"field\":\"line_color\"},\"width\":{\"field\":\"width\",\"units\":\"data\"},\"x\":{\"field\":\"x\"},\"y\":{\"field\":\"y\"}},\"id\":\"d4068415-664d-4c8f-9ced-80a42d339382\",\"type\":\"Rect\"},{\"attributes\":{\"data_source\":{\"id\":\"0a310233-a06b-40e9-9c84-e05cb56fd6ce\",\"type\":\"ColumnDataSource\"},\"glyph\":{\"id\":\"766d95dd-8447-4665-a155-02708da013e8\",\"type\":\"Rect\"},\"hover_glyph\":null,\"nonselection_glyph\":null,\"selection_glyph\":null},\"id\":\"52cd9bb8-17c5-4cd4-8f60-d2eb454ea596\",\"type\":\"GlyphRenderer\"},{\"attributes\":{\"data_source\":{\"id\":\"6d1e710b-16d6-4ff6-90b2-5855bef810a7\",\"type\":\"ColumnDataSource\"},\"glyph\":{\"id\":\"9842641a-05de-4130-aa6b-3a02f468a904\",\"type\":\"Rect\"},\"hover_glyph\":null,\"nonselection_glyph\":null,\"selection_glyph\":null},\"id\":\"ad9e25b4-31a8-459a-a8f5-07395d2e7265\",\"type\":\"GlyphRenderer\"},{\"attributes\":{\"fill_alpha\":{\"field\":\"fill_alpha\"},\"fill_color\":{\"field\":\"color\"},\"height\":{\"field\":\"height\",\"units\":\"data\"},\"line_color\":{\"field\":\"line_color\"},\"width\":{\"field\":\"width\",\"units\":\"data\"},\"x\":{\"field\":\"x\"},\"y\":{\"field\":\"y\"}},\"id\":\"5dc25161-906f-4245-8965-791bf6925718\",\"type\":\"Rect\"},{\"attributes\":{\"data_source\":{\"id\":\"2c858190-2306-4820-b68e-5b25197f0cbd\",\"type\":\"ColumnDataSource\"},\"glyph\":{\"id\":\"ea83dbe0-19f9-4c44-9951-bdb7f3d8d374\",\"type\":\"Rect\"},\"hover_glyph\":null,\"nonselection_glyph\":null,\"selection_glyph\":null},\"id\":\"5f602c83-2754-4100-9e38-c6277ccf5e78\",\"type\":\"GlyphRenderer\"},{\"attributes\":{\"fill_alpha\":{\"field\":\"fill_alpha\"},\"fill_color\":{\"field\":\"color\"},\"height\":{\"field\":\"height\",\"units\":\"data\"},\"line_color\":{\"field\":\"line_color\"},\"width\":{\"field\":\"width\",\"units\":\"data\"},\"x\":{\"field\":\"x\"},\"y\":{\"field\":\"y\"}},\"id\":\"e68582de-2266-4af8-8851-a10c19ca81d5\",\"type\":\"Rect\"},{\"attributes\":{\"data_source\":{\"id\":\"fb032396-85a1-40d4-a7de-edce5c2cd5ec\",\"type\":\"ColumnDataSource\"},\"glyph\":{\"id\":\"c2ba84c1-8f6e-47dc-84a9-f400ca925ace\",\"type\":\"Rect\"},\"hover_glyph\":null,\"nonselection_glyph\":null,\"selection_glyph\":null},\"id\":\"b940ec52-8ebb-4040-9733-081dd1af94bb\",\"type\":\"GlyphRenderer\"},{\"attributes\":{\"fill_alpha\":{\"field\":\"fill_alpha\"},\"fill_color\":{\"field\":\"color\"},\"height\":{\"field\":\"height\",\"units\":\"data\"},\"line_color\":{\"field\":\"line_color\"},\"width\":{\"field\":\"width\",\"units\":\"data\"},\"x\":{\"field\":\"x\"},\"y\":{\"field\":\"y\"}},\"id\":\"16159277-016e-4849-ba2f-52a8d62b89d3\",\"type\":\"Rect\"},{\"attributes\":{\"data_source\":{\"id\":\"9ec457ce-408a-41cc-8534-1ed19fa67f96\",\"type\":\"ColumnDataSource\"},\"glyph\":{\"id\":\"5dc25161-906f-4245-8965-791bf6925718\",\"type\":\"Rect\"},\"hover_glyph\":null,\"nonselection_glyph\":null,\"selection_glyph\":null},\"id\":\"0cfec34f-0bdc-4a55-8c0d-e8e20e4d1ca7\",\"type\":\"GlyphRenderer\"},{\"attributes\":{\"data_source\":{\"id\":\"261fcf3e-0420-481b-901b-9cc5b10ed13d\",\"type\":\"ColumnDataSource\"},\"glyph\":{\"id\":\"60d7418e-9b9f-4ff8-97b9-d99317cd36bb\",\"type\":\"Rect\"},\"hover_glyph\":null,\"nonselection_glyph\":null,\"selection_glyph\":null},\"id\":\"c5a5dfba-2457-46b4-8afc-7e50a8df8904\",\"type\":\"GlyphRenderer\"},{\"attributes\":{\"fill_alpha\":{\"field\":\"fill_alpha\"},\"fill_color\":{\"field\":\"color\"},\"height\":{\"field\":\"height\",\"units\":\"data\"},\"line_color\":{\"field\":\"line_color\"},\"width\":{\"field\":\"width\",\"units\":\"data\"},\"x\":{\"field\":\"x\"},\"y\":{\"field\":\"y\"}},\"id\":\"e40c3be2-1a3b-4dd1-9aad-9246579cff26\",\"type\":\"Rect\"},{\"attributes\":{\"data_source\":{\"id\":\"214103e0-b4cb-483c-b205-d4006ee545e8\",\"type\":\"ColumnDataSource\"},\"glyph\":{\"id\":\"2972d077-e0c8-416e-92a3-7bca9594c7c6\",\"type\":\"Rect\"},\"hover_glyph\":null,\"nonselection_glyph\":null,\"selection_glyph\":null},\"id\":\"7a95df9e-c558-4356-9a45-27f7951f862f\",\"type\":\"GlyphRenderer\"},{\"attributes\":{\"callback\":null,\"column_names\":[\"width\",\"x\",\"height\",\"color\",\"y\",\"line_alpha\",\"line_color\",\"fill_alpha\",\"label\"],\"data\":{\"chart_index\":[{\"data_source\":\"IRENA\",\"energy_source\":\"Bioenergy and renewable waste\",\"year\":2014}],\"color\":[\"#5ab738\"],\"data_source\":[\"IRENA\"],\"energy_source\":[\"Bioenergy and renewable waste\"],\"fill_alpha\":[0.8],\"height\":[816.4],\"label\":[{\"data_source\":\"IRENA\",\"energy_source\":\"Bioenergy and renewable waste\",\"year\":2014}],\"line_alpha\":[1.0],\"line_color\":[\"white\"],\"width\":[0.1702679845041569],\"x\":[\"Bioenergy and renewable waste:0.166666666667\"],\"y\":[408.2],\"year\":[2014]}},\"id\":\"2c858190-2306-4820-b68e-5b25197f0cbd\",\"type\":\"ColumnDataSource\"},{\"attributes\":{\"data_source\":{\"id\":\"214980f8-b8a9-4561-9d30-71676ad33ba4\",\"type\":\"ColumnDataSource\"},\"glyph\":{\"id\":\"16159277-016e-4849-ba2f-52a8d62b89d3\",\"type\":\"Rect\"},\"hover_glyph\":null,\"nonselection_glyph\":null,\"selection_glyph\":null},\"id\":\"9553c725-0b74-4543-97db-6a6e113a63c9\",\"type\":\"GlyphRenderer\"},{\"attributes\":{\"data_source\":{\"id\":\"905bcf83-4f9e-438d-9a98-716e57b43229\",\"type\":\"ColumnDataSource\"},\"glyph\":{\"id\":\"fde0c9dc-5774-4ef9-b74f-4632a8405f03\",\"type\":\"Rect\"},\"hover_glyph\":null,\"nonselection_glyph\":null,\"selection_glyph\":null},\"id\":\"ee0f0bfb-9de7-45f6-bdad-202add7a4b18\",\"type\":\"GlyphRenderer\"},{\"attributes\":{\"callback\":null,\"column_names\":[\"width\",\"x\",\"height\",\"color\",\"y\",\"line_alpha\",\"line_color\",\"fill_alpha\",\"label\"],\"data\":{\"chart_index\":[{\"data_source\":\"IRENA\",\"energy_source\":\"Wind\",\"year\":2015}],\"color\":[\"#407ee7\"],\"data_source\":[\"IRENA\"],\"energy_source\":[\"Wind\"],\"fill_alpha\":[0.8],\"height\":[5100.0],\"label\":[{\"data_source\":\"IRENA\",\"energy_source\":\"Wind\",\"year\":2015}],\"line_alpha\":[1.0],\"line_color\":[\"white\"],\"width\":[0.1702679845041569],\"x\":[\"Wind:0.333333333333\"],\"y\":[2550.0],\"year\":[2015]}},\"id\":\"3bb4bcf4-96e9-41c2-97f5-d307e471b3dc\",\"type\":\"ColumnDataSource\"},{\"attributes\":{},\"id\":\"bff2432e-c15b-4074-9e18-c506e3d31030\",\"type\":\"BasicTicker\"},{\"attributes\":{\"data_source\":{\"id\":\"5a449e45-613f-4c30-9a99-418ac924a4cf\",\"type\":\"ColumnDataSource\"},\"glyph\":{\"id\":\"84050013-9e44-4e19-b9bf-9824d4ddaa95\",\"type\":\"Rect\"},\"hover_glyph\":null,\"nonselection_glyph\":null,\"selection_glyph\":null},\"id\":\"094847d1-e61a-4acc-8fe8-f5425ce3eb6e\",\"type\":\"GlyphRenderer\"},{\"attributes\":{\"callback\":null,\"column_names\":[\"width\",\"x\",\"height\",\"color\",\"y\",\"line_alpha\",\"line_color\",\"fill_alpha\",\"label\"],\"data\":{\"chart_index\":[{\"data_source\":\"IRENA\",\"energy_source\":\"Hydro\",\"year\":2015}],\"color\":[\"#407ee7\"],\"data_source\":[\"IRENA\"],\"energy_source\":[\"Hydro\"],\"fill_alpha\":[0.8],\"height\":[2364.0],\"label\":[{\"data_source\":\"IRENA\",\"energy_source\":\"Hydro\",\"year\":2015}],\"line_alpha\":[1.0],\"line_color\":[\"white\"],\"width\":[0.1702679845041569],\"x\":[\"Hydro:0.333333333333\"],\"y\":[1182.0],\"year\":[2015]}},\"id\":\"5a449e45-613f-4c30-9a99-418ac924a4cf\",\"type\":\"ColumnDataSource\"},{\"attributes\":{\"data_source\":{\"id\":\"b2d6f3bb-c033-4b7f-ab74-2998ba4a2078\",\"type\":\"ColumnDataSource\"},\"glyph\":{\"id\":\"e40c3be2-1a3b-4dd1-9aad-9246579cff26\",\"type\":\"Rect\"},\"hover_glyph\":null,\"nonselection_glyph\":null,\"selection_glyph\":null},\"id\":\"b97f3c8e-24f5-47fc-a60e-1c2e8b917012\",\"type\":\"GlyphRenderer\"},{\"attributes\":{},\"id\":\"532a0553-3165-46d2-b950-7e07418ec4c8\",\"type\":\"ToolEvents\"},{\"attributes\":{\"fill_alpha\":{\"field\":\"fill_alpha\"},\"fill_color\":{\"field\":\"color\"},\"height\":{\"field\":\"height\",\"units\":\"data\"},\"line_color\":{\"field\":\"line_color\"},\"width\":{\"field\":\"width\",\"units\":\"data\"},\"x\":{\"field\":\"x\"},\"y\":{\"field\":\"y\"}},\"id\":\"ebf874a9-1ba7-4790-933c-34c0fc3f98e4\",\"type\":\"Rect\"},{\"attributes\":{\"callback\":null,\"column_names\":[\"width\",\"x\",\"height\",\"color\",\"y\",\"line_alpha\",\"line_color\",\"fill_alpha\",\"label\"],\"data\":{\"chart_index\":[{\"data_source\":\"IRENA\",\"energy_source\":\"Wind\",\"year\":2014}],\"color\":[\"#5ab738\"],\"data_source\":[\"IRENA\"],\"energy_source\":[\"Wind\"],\"fill_alpha\":[0.8],\"height\":[3836.0],\"label\":[{\"data_source\":\"IRENA\",\"energy_source\":\"Wind\",\"year\":2014}],\"line_alpha\":[1.0],\"line_color\":[\"white\"],\"width\":[0.1702679845041569],\"x\":[\"Wind:0.166666666667\"],\"y\":[1918.0],\"year\":[2014]}},\"id\":\"7722143a-9a7b-483d-bfe5-3eef0428c27f\",\"type\":\"ColumnDataSource\"},{\"attributes\":{\"plot\":{\"id\":\"ce9ebb82-aba1-4dc2-b2ae-e417fe1ebbf5\",\"subtype\":\"Chart\",\"type\":\"Plot\"}},\"id\":\"afdeb90d-1fc1-4698-9d9e-5db8a391e9b2\",\"type\":\"PanTool\"},{\"attributes\":{\"callback\":null,\"column_names\":[\"width\",\"x\",\"height\",\"color\",\"y\",\"line_alpha\",\"line_color\",\"fill_alpha\",\"label\"],\"data\":{\"chart_index\":[{\"data_source\":\"Urzad Regulacji Energetyki\",\"energy_source\":\"Hydro\",\"year\":2015}],\"color\":[\"#df5320\"],\"data_source\":[\"Urzad Regulacji Energetyki\"],\"energy_source\":[\"Hydro\"],\"fill_alpha\":[0.8],\"height\":[328.498],\"label\":[{\"data_source\":\"Urzad Regulacji Energetyki\",\"energy_source\":\"Hydro\",\"year\":2015}],\"line_alpha\":[1.0],\"line_color\":[\"white\"],\"width\":[0.1702679845041569],\"x\":[\"Hydro:0.833333333333\"],\"y\":[164.249],\"year\":[2015]}},\"id\":\"fb032396-85a1-40d4-a7de-edce5c2cd5ec\",\"type\":\"ColumnDataSource\"},{\"attributes\":{\"callback\":null,\"column_names\":[\"width\",\"x\",\"height\",\"color\",\"y\",\"line_alpha\",\"line_color\",\"fill_alpha\",\"label\"],\"data\":{\"chart_index\":[{\"data_source\":\"Urzad Regulacji Energetyki\",\"energy_source\":\"Wind\",\"year\":2015}],\"color\":[\"#df5320\"],\"data_source\":[\"Urzad Regulacji Energetyki\"],\"energy_source\":[\"Wind\"],\"fill_alpha\":[0.8],\"height\":[3361.635],\"label\":[{\"data_source\":\"Urzad Regulacji Energetyki\",\"energy_source\":\"Wind\",\"year\":2015}],\"line_alpha\":[1.0],\"line_color\":[\"white\"],\"width\":[0.1702679845041569],\"x\":[\"Wind:0.833333333333\"],\"y\":[1680.8175],\"year\":[2015]}},\"id\":\"6d1e710b-16d6-4ff6-90b2-5855bef810a7\",\"type\":\"ColumnDataSource\"},{\"attributes\":{\"fill_alpha\":{\"field\":\"fill_alpha\"},\"fill_color\":{\"field\":\"color\"},\"height\":{\"field\":\"height\",\"units\":\"data\"},\"line_color\":{\"field\":\"line_color\"},\"width\":{\"field\":\"width\",\"units\":\"data\"},\"x\":{\"field\":\"x\"},\"y\":{\"field\":\"y\"}},\"id\":\"46a7f622-7746-4203-82a0-07e0ad417347\",\"type\":\"Rect\"}],\"root_ids\":[\"ce9ebb82-aba1-4dc2-b2ae-e417fe1ebbf5\"]},\"title\":\"Bokeh Application\",\"version\":\"0.12.0\"}};\n",
       "            var render_items = [{\"docid\":\"aa1f991b-4927-405f-9cd5-35a3adb6fb3f\",\"elementid\":\"5e8858f4-19d4-4e70-85af-cd8054625b41\",\"modelid\":\"ce9ebb82-aba1-4dc2-b2ae-e417fe1ebbf5\",\"notebook_comms_target\":\"c8bc4955-b5a4-4489-9c6b-5a827e6ed759\"}];\n",
       "            \n",
       "            Bokeh.embed.embed_items(docs_json, render_items);\n",
       "        });\n",
       "      },\n",
       "      function(Bokeh) {\n",
       "      }\n",
       "    ];\n",
       "  \n",
       "    function run_inline_js() {\n",
       "      for (var i = 0; i < inline_js.length; i++) {\n",
       "        inline_js[i](window.Bokeh);\n",
       "      }\n",
       "    }\n",
       "  \n",
       "    if (window._bokeh_is_loading === 0) {\n",
       "      console.log(\"Bokeh: BokehJS loaded, going straight to plotting\");\n",
       "      run_inline_js();\n",
       "    } else {\n",
       "      load_libs(js_urls, function() {\n",
       "        console.log(\"Bokeh: BokehJS plotting callback run at\", now());\n",
       "        run_inline_js();\n",
       "      });\n",
       "    }\n",
       "  }(this));\n",
       "</script>"
      ]
     },
     "metadata": {},
     "output_type": "display_data"
    },
    {
     "data": {
      "text/html": [
       "<p><code>&lt;Bokeh Notebook handle for <strong>In[44]</strong>&gt;</code></p>"
      ],
      "text/plain": [
       "<bokeh.io._CommsHandle at 0x7fd143ff35f8>"
      ]
     },
     "execution_count": 44,
     "metadata": {},
     "output_type": "execute_result"
    }
   ],
   "source": [
    "# plot\n",
    "p = Bar(cap_country, label='energy_source', values='electrical_capacity_MW',\n",
    "        group=['data_source','year'], legend='top_left', \n",
    "        title=plot_country)\n",
    "\n",
    "show(p)"
   ]
  },
  {
   "cell_type": "markdown",
   "metadata": {},
   "source": [
    "## 7.2 Capacity time series DE - validation\n",
    "The yearly capacity time series by energy source derived from the power plant list is validated plotting it in comparison to a timeseries published by the German Federal Ministry for Economic Affairs and Energy (BMWi, Bundesministeriums für Wirtschaft und Energie) [Time series for the development of renewable energies in Germany](http://www.erneuerbare-energien.de/EE/Navigation/DE/Service/Erneuerbare_Energien_in_Zahlen/Zeitreihen/zeitreihen.html)"
   ]
  },
  {
   "cell_type": "markdown",
   "metadata": {},
   "source": [
    "**Download BMWi time series** *(If an error message is shown, check if the url_bmwi_stat is still correct.)*"
   ]
  },
  {
   "cell_type": "code",
   "execution_count": 45,
   "metadata": {
    "collapsed": false
   },
   "outputs": [],
   "source": [
    "# Defining URL\n",
    "url_bmwi_stat = 'http://www.erneuerbare-energien.de/EE/Redaktion/DE/'\\\n",
    "                'Downloads/zeitreihen-zur-entwicklung-der-erneuerbaren-'\\\n",
    "                'energien-in-deutschland-1990-2015-excel.xlsx;jsessionid='\\\n",
    "                'FFE958ADA709DCBFDD437C8A8FF7D90B?__blob=publicationFile&v=6'\n",
    "\n",
    "# Reading BMWi data\n",
    "bmwi_stat = pd.read_excel(url_bmwi_stat,\n",
    "                          sheetname='4', \n",
    "                          header=7,\n",
    "                          skip_footer=8,\n",
    "                          index_col=0)\n",
    "\n",
    "# Transpose data frame and set column names\n",
    "bmwi_df = bmwi_stat.T\n",
    "bmwi_df.columns = ['bmwi_hydro', 'bmwi_wind_onshore', 'bmwi_wind_offshore',\n",
    "                   'bmwi_solar', 'bmwi_biomass', 'bmwi_biomass_liquid',\n",
    "                   'bmwi_biomass_gas', 'bmwi_sewage_gas', 'bmwi_landfill_gas',\n",
    "                   'bmwi_geothermal', 'bmwi_total']\n",
    "\n",
    "# Set year as index\n",
    "bmwi_df.index = pd.to_datetime(bmwi_df.index, format=\"%Y\").year"
   ]
  },
  {
   "cell_type": "markdown",
   "metadata": {},
   "source": [
    "** Calculate the absolute deviation between BMWi and OPSD timeseries**"
   ]
  },
  {
   "cell_type": "code",
   "execution_count": 46,
   "metadata": {
    "collapsed": false
   },
   "outputs": [],
   "source": [
    "valuation = pd.concat([bmwi_df, timeseries_yearly], axis=1)\n",
    "valuation = valuation.fillna(0)"
   ]
  },
  {
   "cell_type": "code",
   "execution_count": 47,
   "metadata": {
    "collapsed": false
   },
   "outputs": [
    {
     "data": {
      "text/html": [
       "<div>\n",
       "<table border=\"1\" class=\"dataframe\">\n",
       "  <thead>\n",
       "    <tr style=\"text-align: right;\">\n",
       "      <th></th>\n",
       "      <th>bmwi_hydro</th>\n",
       "      <th>bmwi_wind_onshore</th>\n",
       "      <th>bmwi_wind_offshore</th>\n",
       "      <th>bmwi_solar</th>\n",
       "      <th>bmwi_biomass</th>\n",
       "      <th>bmwi_biomass_liquid</th>\n",
       "      <th>bmwi_biomass_gas</th>\n",
       "      <th>bmwi_sewage_gas</th>\n",
       "      <th>bmwi_landfill_gas</th>\n",
       "      <th>bmwi_geothermal</th>\n",
       "      <th>bmwi_total</th>\n",
       "      <th>Bioenergy and renewable waste_DE_capacity</th>\n",
       "      <th>Onshore_DE_capacity</th>\n",
       "      <th>Offshore_DE_capacity</th>\n",
       "      <th>Solar_DE_capacity</th>\n",
       "      <th>Geothermal_DE_capacity</th>\n",
       "      <th>Hydro_DE_capacity</th>\n",
       "    </tr>\n",
       "  </thead>\n",
       "  <tbody>\n",
       "    <tr>\n",
       "      <th>1990</th>\n",
       "      <td>3982</td>\n",
       "      <td>55</td>\n",
       "      <td>0</td>\n",
       "      <td>2</td>\n",
       "      <td>64</td>\n",
       "      <td>0</td>\n",
       "      <td>1</td>\n",
       "      <td>5</td>\n",
       "      <td>59</td>\n",
       "      <td>0</td>\n",
       "      <td>4168</td>\n",
       "      <td>68.989</td>\n",
       "      <td>11.461</td>\n",
       "      <td>0.0</td>\n",
       "      <td>0.529209</td>\n",
       "      <td>0.0</td>\n",
       "      <td>428.58394</td>\n",
       "    </tr>\n",
       "    <tr>\n",
       "      <th>1991</th>\n",
       "      <td>4033</td>\n",
       "      <td>106</td>\n",
       "      <td>0</td>\n",
       "      <td>2</td>\n",
       "      <td>64</td>\n",
       "      <td>0</td>\n",
       "      <td>2</td>\n",
       "      <td>5</td>\n",
       "      <td>64</td>\n",
       "      <td>0</td>\n",
       "      <td>4276</td>\n",
       "      <td>75.205</td>\n",
       "      <td>21.646</td>\n",
       "      <td>0.0</td>\n",
       "      <td>1.357654</td>\n",
       "      <td>0.0</td>\n",
       "      <td>448.47634</td>\n",
       "    </tr>\n",
       "  </tbody>\n",
       "</table>\n",
       "</div>"
      ],
      "text/plain": [
       "      bmwi_hydro  bmwi_wind_onshore  bmwi_wind_offshore  bmwi_solar  \\\n",
       "1990        3982                 55                   0           2   \n",
       "1991        4033                106                   0           2   \n",
       "\n",
       "      bmwi_biomass  bmwi_biomass_liquid  bmwi_biomass_gas  bmwi_sewage_gas  \\\n",
       "1990            64                    0                 1                5   \n",
       "1991            64                    0                 2                5   \n",
       "\n",
       "      bmwi_landfill_gas  bmwi_geothermal  bmwi_total  \\\n",
       "1990                 59                0        4168   \n",
       "1991                 64                0        4276   \n",
       "\n",
       "      Bioenergy and renewable waste_DE_capacity  Onshore_DE_capacity  \\\n",
       "1990                                     68.989               11.461   \n",
       "1991                                     75.205               21.646   \n",
       "\n",
       "      Offshore_DE_capacity  Solar_DE_capacity  Geothermal_DE_capacity  \\\n",
       "1990                   0.0           0.529209                     0.0   \n",
       "1991                   0.0           1.357654                     0.0   \n",
       "\n",
       "      Hydro_DE_capacity  \n",
       "1990          428.58394  \n",
       "1991          448.47634  "
      ]
     },
     "execution_count": 47,
     "metadata": {},
     "output_type": "execute_result"
    }
   ],
   "source": [
    "valuation.head(2)"
   ]
  },
  {
   "cell_type": "code",
   "execution_count": 48,
   "metadata": {
    "collapsed": false
   },
   "outputs": [],
   "source": [
    "# Calculate absolute deviation for each year and energy source\n",
    "\n",
    "valuation['absolute_wind_onshore'] = (valuation['Onshore_DE_capacity']\n",
    "                                      - valuation['bmwi_wind_onshore']).fillna(0)\n",
    "\n",
    "valuation['absolute_wind_offshore'] = (valuation['Offshore_DE_capacity']\n",
    "                                       - valuation['bmwi_wind_offshore']).fillna(0)\n",
    "\n",
    "valuation['absolute_solar'] = (valuation['Solar_DE_capacity']\n",
    "                               - valuation['bmwi_solar']).fillna(0)\n",
    "\n",
    "valuation['absolute_hydro'] = (valuation['Hydro_DE_capacity']\n",
    "                               - valuation['bmwi_hydro']).fillna(0)\n",
    "\n",
    "valuation['absolute_geothermal'] = (valuation['Geothermal_DE_capacity']\n",
    "                                    - valuation['bmwi_geothermal']).fillna(0)\n",
    "\n",
    "valuation['absolute_biomass'] = (valuation['Bioenergy and renewable waste_DE_capacity']\n",
    "                                 - (valuation['bmwi_biomass']\n",
    "                                    + valuation['bmwi_biomass_liquid']\n",
    "                                    + valuation['bmwi_biomass_gas']\n",
    "                                    + valuation['bmwi_sewage_gas']\n",
    "                                    + valuation['bmwi_landfill_gas'])).fillna(0)\n",
    "\n",
    "valuation['absolute_total'] = ((valuation['Bioenergy and renewable waste_DE_capacity']\n",
    "                                + valuation['Onshore_DE_capacity']\n",
    "                                + valuation['Offshore_DE_capacity']\n",
    "                                + valuation['Solar_DE_capacity']\n",
    "                                + valuation['Geothermal_DE_capacity']\n",
    "                                + valuation['Hydro_DE_capacity']\n",
    "                                ) - (valuation['bmwi_total'])).fillna(0)"
   ]
  },
  {
   "cell_type": "markdown",
   "metadata": {},
   "source": [
    "**Plotting the absolute deviation**\n",
    "\n",
    "The graph shows the cumulative absolute deviation of the electrical capacity in MW between the OPSD data set of renewable power plants and the BMWI statistic from 1990 until 2015.<br>\n",
    "*A positive deviation means the OPSD data set has more capacity than the BMWI statistics.*"
   ]
  },
  {
   "cell_type": "code",
   "execution_count": 49,
   "metadata": {
    "collapsed": false
   },
   "outputs": [],
   "source": [
    "#Plot settings for absolute deviation\n",
    "deviation_columns = ['absolute_wind_onshore','absolute_wind_offshore',\n",
    "                     'absolute_solar','absolute_hydro','absolute_biomass',\n",
    "                     'absolute_geothermal','absolute_total']\n",
    "\n",
    "dataplot = valuation[deviation_columns]\n",
    "\n",
    "deviation = Line(dataplot,\n",
    "                 y=deviation_columns,\n",
    "                 dash=deviation_columns,\n",
    "                 color=deviation_columns,\n",
    "                 title=\"Deviation between data set and BMWI statistic (negative => BMWI value higher)\",\n",
    "                 ylabel='Deviation in MW',\n",
    "                 xlabel='From 1990 till 2015',\n",
    "                 legend=True)"
   ]
  },
  {
   "cell_type": "code",
   "execution_count": 50,
   "metadata": {
    "collapsed": false
   },
   "outputs": [
    {
     "data": {
      "text/html": [
       "\n",
       "\n",
       "    <div class=\"bk-root\">\n",
       "        <div class=\"plotdiv\" id=\"28331599-9a0c-4a4b-9c77-2133bbe727a0\"></div>\n",
       "    </div>\n",
       "<script type=\"text/javascript\">\n",
       "  \n",
       "  (function(global) {\n",
       "    function now() {\n",
       "      return new Date();\n",
       "    }\n",
       "  \n",
       "    if (typeof (window._bokeh_onload_callbacks) === \"undefined\") {\n",
       "      window._bokeh_onload_callbacks = [];\n",
       "    }\n",
       "  \n",
       "    function run_callbacks() {\n",
       "      window._bokeh_onload_callbacks.forEach(function(callback) { callback() });\n",
       "      delete window._bokeh_onload_callbacks\n",
       "      console.info(\"Bokeh: all callbacks have finished\");\n",
       "    }\n",
       "  \n",
       "    function load_libs(js_urls, callback) {\n",
       "      window._bokeh_onload_callbacks.push(callback);\n",
       "      if (window._bokeh_is_loading > 0) {\n",
       "        console.log(\"Bokeh: BokehJS is being loaded, scheduling callback at\", now());\n",
       "        return null;\n",
       "      }\n",
       "      if (js_urls == null || js_urls.length === 0) {\n",
       "        run_callbacks();\n",
       "        return null;\n",
       "      }\n",
       "      console.log(\"Bokeh: BokehJS not loaded, scheduling load and callback at\", now());\n",
       "      window._bokeh_is_loading = js_urls.length;\n",
       "      for (var i = 0; i < js_urls.length; i++) {\n",
       "        var url = js_urls[i];\n",
       "        var s = document.createElement('script');\n",
       "        s.src = url;\n",
       "        s.async = false;\n",
       "        s.onreadystatechange = s.onload = function() {\n",
       "          window._bokeh_is_loading--;\n",
       "          if (window._bokeh_is_loading === 0) {\n",
       "            console.log(\"Bokeh: all BokehJS libraries loaded\");\n",
       "            run_callbacks()\n",
       "          }\n",
       "        };\n",
       "        s.onerror = function() {\n",
       "          console.warn(\"failed to load library \" + url);\n",
       "        };\n",
       "        console.log(\"Bokeh: injecting script tag for BokehJS library: \", url);\n",
       "        document.getElementsByTagName(\"head\")[0].appendChild(s);\n",
       "      }\n",
       "    };var element = document.getElementById(\"28331599-9a0c-4a4b-9c77-2133bbe727a0\");\n",
       "    if (element == null) {\n",
       "      console.log(\"Bokeh: ERROR: autoload.js configured with elementid '28331599-9a0c-4a4b-9c77-2133bbe727a0' but no matching script tag was found. \")\n",
       "      return false;\n",
       "    }\n",
       "  \n",
       "    var js_urls = [];\n",
       "  \n",
       "    var inline_js = [\n",
       "      function(Bokeh) {\n",
       "        Bokeh.$(function() {\n",
       "            var docs_json = {\"1e02862b-1822-4366-8655-b3d862931ab9\":{\"roots\":{\"references\":[{\"attributes\":{\"overlay\":{\"id\":\"2592b010-8916-44bf-9086-50a89d984475\",\"type\":\"BoxAnnotation\"},\"plot\":{\"id\":\"428b4ca4-bc12-42f9-a312-4be9fd92a77d\",\"subtype\":\"Chart\",\"type\":\"Plot\"}},\"id\":\"9c7debc2-9093-402c-97b6-3e4d8febdede\",\"type\":\"BoxZoomTool\"},{\"attributes\":{\"callback\":null,\"end\":2017.5,\"start\":1987.5},\"id\":\"3848832b-3bf2-4a95-b254-57bf2f3b4923\",\"type\":\"Range1d\"},{\"attributes\":{},\"id\":\"f222a1fb-6c00-42e5-b4ab-12d01fc33d26\",\"type\":\"BasicTickFormatter\"},{\"attributes\":{\"plot\":null,\"text\":\"Deviation between data set and BMWI statistic (negative => BMWI value higher)\"},\"id\":\"6f1eaa76-5d9b-4661-ae20-7d5f7c56ff2a\",\"type\":\"Title\"},{\"attributes\":{},\"id\":\"62d4f18e-a6f9-4147-a8ed-026e14e447d2\",\"type\":\"BasicTicker\"},{\"attributes\":{\"line_color\":{\"value\":\"#f22c40\"},\"line_dash\":[6],\"line_width\":{\"value\":2},\"x\":{\"field\":\"x_values\"},\"y\":{\"field\":\"y_values\"}},\"id\":\"129c41d6-834d-4f7d-a6b5-97da7a837efc\",\"type\":\"Line\"},{\"attributes\":{\"callback\":null,\"column_names\":[\"x_values\",\"y_values\"],\"data\":{\"chart_index\":[{\"series\":\"absolute_hydro\"},{\"series\":\"absolute_hydro\"},{\"series\":\"absolute_hydro\"},{\"series\":\"absolute_hydro\"},{\"series\":\"absolute_hydro\"},{\"series\":\"absolute_hydro\"},{\"series\":\"absolute_hydro\"},{\"series\":\"absolute_hydro\"},{\"series\":\"absolute_hydro\"},{\"series\":\"absolute_hydro\"},{\"series\":\"absolute_hydro\"},{\"series\":\"absolute_hydro\"},{\"series\":\"absolute_hydro\"},{\"series\":\"absolute_hydro\"},{\"series\":\"absolute_hydro\"},{\"series\":\"absolute_hydro\"},{\"series\":\"absolute_hydro\"},{\"series\":\"absolute_hydro\"},{\"series\":\"absolute_hydro\"},{\"series\":\"absolute_hydro\"},{\"series\":\"absolute_hydro\"},{\"series\":\"absolute_hydro\"},{\"series\":\"absolute_hydro\"},{\"series\":\"absolute_hydro\"},{\"series\":\"absolute_hydro\"},{\"series\":\"absolute_hydro\"}],\"series\":[\"absolute_hydro\",\"absolute_hydro\",\"absolute_hydro\",\"absolute_hydro\",\"absolute_hydro\",\"absolute_hydro\",\"absolute_hydro\",\"absolute_hydro\",\"absolute_hydro\",\"absolute_hydro\",\"absolute_hydro\",\"absolute_hydro\",\"absolute_hydro\",\"absolute_hydro\",\"absolute_hydro\",\"absolute_hydro\",\"absolute_hydro\",\"absolute_hydro\",\"absolute_hydro\",\"absolute_hydro\",\"absolute_hydro\",\"absolute_hydro\",\"absolute_hydro\",\"absolute_hydro\",\"absolute_hydro\",\"absolute_hydro\"],\"x_values\":[1990,1991,1992,1993,1994,1995,1996,1997,1998,1999,2000,2001,2002,2003,2004,2005,2006,2007,2008,2009,2010,2011,2012,2013,2014,2015],\"y_values\":[-3553.41606,-3584.52366,-3586.41491,-3642.53841,-3723.92051,-3844.6823,-3787.1949999999997,-3759.810381,-3813.752281,-3972.600301,-4126.686331,-3912.837951,-4008.589951,-4008.813451,-4203.142201,-4191.600651,-4144.762391,-4048.308321,-4063.046501,-4123.739271,-4086.592881,-4229.390231,-4168.194081000001,-4045.660241,-4023.156871,-4024.878181]}},\"id\":\"afcf784c-09aa-4505-913f-69c66fd5fd9f\",\"type\":\"ColumnDataSource\"},{\"attributes\":{\"line_color\":{\"value\":\"#5ab738\"},\"line_dash\":[6],\"line_width\":{\"value\":2},\"x\":{\"field\":\"x_values\"},\"y\":{\"field\":\"y_values\"}},\"id\":\"3f2831d1-d999-4dbd-8592-3bfccff08504\",\"type\":\"Line\"},{\"attributes\":{\"axis_label\":\"From 1990 till 2015\",\"formatter\":{\"id\":\"f222a1fb-6c00-42e5-b4ab-12d01fc33d26\",\"type\":\"BasicTickFormatter\"},\"plot\":{\"id\":\"428b4ca4-bc12-42f9-a312-4be9fd92a77d\",\"subtype\":\"Chart\",\"type\":\"Plot\"},\"ticker\":{\"id\":\"0ef6e47b-0828-49ee-9444-590ec4505f31\",\"type\":\"BasicTicker\"}},\"id\":\"74019812-f69c-4646-998d-91583ecbaf3f\",\"type\":\"LinearAxis\"},{\"attributes\":{\"dimension\":1,\"plot\":{\"id\":\"428b4ca4-bc12-42f9-a312-4be9fd92a77d\",\"subtype\":\"Chart\",\"type\":\"Plot\"},\"ticker\":{\"id\":\"62d4f18e-a6f9-4147-a8ed-026e14e447d2\",\"type\":\"BasicTicker\"}},\"id\":\"7e9735c9-211e-42c8-8af8-701e79b69f24\",\"type\":\"Grid\"},{\"attributes\":{},\"id\":\"5b77a615-d9dc-40f4-af35-4e972a06abfd\",\"type\":\"ToolEvents\"},{\"attributes\":{\"plot\":{\"id\":\"428b4ca4-bc12-42f9-a312-4be9fd92a77d\",\"subtype\":\"Chart\",\"type\":\"Plot\"}},\"id\":\"1715e7fa-0bc2-456f-87f8-73fdecac7b68\",\"type\":\"WheelZoomTool\"},{\"attributes\":{\"axis_label\":\"Deviation in MW\",\"formatter\":{\"id\":\"13c7af8f-97f5-44ad-964b-f0f46da45b57\",\"type\":\"BasicTickFormatter\"},\"plot\":{\"id\":\"428b4ca4-bc12-42f9-a312-4be9fd92a77d\",\"subtype\":\"Chart\",\"type\":\"Plot\"},\"ticker\":{\"id\":\"62d4f18e-a6f9-4147-a8ed-026e14e447d2\",\"type\":\"BasicTicker\"}},\"id\":\"feaec904-7c9d-40ec-aa09-3704c7115958\",\"type\":\"LinearAxis\"},{\"attributes\":{\"data_source\":{\"id\":\"92e85bb3-db9f-4200-9529-5f4cd61e6d84\",\"type\":\"ColumnDataSource\"},\"glyph\":{\"id\":\"3f2831d1-d999-4dbd-8592-3bfccff08504\",\"type\":\"Line\"},\"hover_glyph\":null,\"nonselection_glyph\":null,\"selection_glyph\":null},\"id\":\"a896a830-23c1-425a-a746-441fae02a699\",\"type\":\"GlyphRenderer\"},{\"attributes\":{\"data_source\":{\"id\":\"89154e81-aa64-4f3f-92ed-81bb7e5c93d4\",\"type\":\"ColumnDataSource\"},\"glyph\":{\"id\":\"799b9e2f-ba62-411a-affe-ce26c9c7ee60\",\"type\":\"Line\"},\"hover_glyph\":null,\"nonselection_glyph\":null,\"selection_glyph\":null},\"id\":\"6befb75f-30c8-4ec5-b874-6a64ff48c979\",\"type\":\"GlyphRenderer\"},{\"attributes\":{\"plot\":{\"id\":\"428b4ca4-bc12-42f9-a312-4be9fd92a77d\",\"subtype\":\"Chart\",\"type\":\"Plot\"}},\"id\":\"278e69a9-e0dd-4e82-a2f4-6d7de30c7e3e\",\"type\":\"SaveTool\"},{\"attributes\":{\"plot\":{\"id\":\"428b4ca4-bc12-42f9-a312-4be9fd92a77d\",\"subtype\":\"Chart\",\"type\":\"Plot\"}},\"id\":\"ba81c7cf-0c10-4705-a28b-01f4f8ff614a\",\"type\":\"HelpTool\"},{\"attributes\":{\"callback\":null,\"column_names\":[\"x_values\",\"y_values\"],\"data\":{\"chart_index\":[{\"series\":\"absolute_solar\"},{\"series\":\"absolute_solar\"},{\"series\":\"absolute_solar\"},{\"series\":\"absolute_solar\"},{\"series\":\"absolute_solar\"},{\"series\":\"absolute_solar\"},{\"series\":\"absolute_solar\"},{\"series\":\"absolute_solar\"},{\"series\":\"absolute_solar\"},{\"series\":\"absolute_solar\"},{\"series\":\"absolute_solar\"},{\"series\":\"absolute_solar\"},{\"series\":\"absolute_solar\"},{\"series\":\"absolute_solar\"},{\"series\":\"absolute_solar\"},{\"series\":\"absolute_solar\"},{\"series\":\"absolute_solar\"},{\"series\":\"absolute_solar\"},{\"series\":\"absolute_solar\"},{\"series\":\"absolute_solar\"},{\"series\":\"absolute_solar\"},{\"series\":\"absolute_solar\"},{\"series\":\"absolute_solar\"},{\"series\":\"absolute_solar\"},{\"series\":\"absolute_solar\"},{\"series\":\"absolute_solar\"}],\"series\":[\"absolute_solar\",\"absolute_solar\",\"absolute_solar\",\"absolute_solar\",\"absolute_solar\",\"absolute_solar\",\"absolute_solar\",\"absolute_solar\",\"absolute_solar\",\"absolute_solar\",\"absolute_solar\",\"absolute_solar\",\"absolute_solar\",\"absolute_solar\",\"absolute_solar\",\"absolute_solar\",\"absolute_solar\",\"absolute_solar\",\"absolute_solar\",\"absolute_solar\",\"absolute_solar\",\"absolute_solar\",\"absolute_solar\",\"absolute_solar\",\"absolute_solar\",\"absolute_solar\"],\"x_values\":[1990,1991,1992,1993,1994,1995,1996,1997,1998,1999,2000,2001,2002,2003,2004,2005,2006,2007,2008,2009,2010,2011,2012,2013,2014,2015],\"y_values\":[-1.4707910000000002,-0.6423460000000001,-3.064518000000001,-4.349646000000002,-5.579839999876001,-10.188381999604003,-15.960129999730011,-23.342964998936992,-29.691029996875,-36.542874995872985,-40.350534995085894,6.429917005547907,-3.0010969945006423,1.7143660052125824,-8.157641994795995,-30.01964199494546,-26.35360299484637,-40.74590149550386,-12.958127995353607,34.04014879422539,370.1816792950958,949.5072298067134,208.63959398092265,88.95176348236419,-160.46511651608307,-360.34097351254604]}},\"id\":\"bb9cbfe1-3bc2-4f4a-bc26-db39c8e6ee88\",\"type\":\"ColumnDataSource\"},{\"attributes\":{\"bottom_units\":\"screen\",\"fill_alpha\":{\"value\":0.5},\"fill_color\":{\"value\":\"lightgrey\"},\"left_units\":\"screen\",\"level\":\"overlay\",\"line_alpha\":{\"value\":1.0},\"line_color\":{\"value\":\"black\"},\"line_dash\":[4,4],\"line_width\":{\"value\":2},\"plot\":null,\"render_mode\":\"css\",\"right_units\":\"screen\",\"top_units\":\"screen\"},\"id\":\"2592b010-8916-44bf-9086-50a89d984475\",\"type\":\"BoxAnnotation\"},{\"attributes\":{\"plot\":{\"id\":\"428b4ca4-bc12-42f9-a312-4be9fd92a77d\",\"subtype\":\"Chart\",\"type\":\"Plot\"}},\"id\":\"a5d33634-c169-4412-ac88-a781dbc3041b\",\"type\":\"ResetTool\"},{\"attributes\":{\"data_source\":{\"id\":\"64da027d-7ea0-472c-ad97-6c4caf28b6d8\",\"type\":\"ColumnDataSource\"},\"glyph\":{\"id\":\"129c41d6-834d-4f7d-a6b5-97da7a837efc\",\"type\":\"Line\"},\"hover_glyph\":null,\"nonselection_glyph\":null,\"selection_glyph\":null},\"id\":\"647baf4e-05e6-460f-9abf-e34c6dbd3a85\",\"type\":\"GlyphRenderer\"},{\"attributes\":{\"plot\":{\"id\":\"428b4ca4-bc12-42f9-a312-4be9fd92a77d\",\"subtype\":\"Chart\",\"type\":\"Plot\"}},\"id\":\"7617fec6-38f1-4953-b08c-6461ea72a207\",\"type\":\"PanTool\"},{\"attributes\":{\"active_drag\":\"auto\",\"active_scroll\":\"auto\",\"active_tap\":\"auto\",\"tools\":[{\"id\":\"7617fec6-38f1-4953-b08c-6461ea72a207\",\"type\":\"PanTool\"},{\"id\":\"1715e7fa-0bc2-456f-87f8-73fdecac7b68\",\"type\":\"WheelZoomTool\"},{\"id\":\"9c7debc2-9093-402c-97b6-3e4d8febdede\",\"type\":\"BoxZoomTool\"},{\"id\":\"278e69a9-e0dd-4e82-a2f4-6d7de30c7e3e\",\"type\":\"SaveTool\"},{\"id\":\"a5d33634-c169-4412-ac88-a781dbc3041b\",\"type\":\"ResetTool\"},{\"id\":\"ba81c7cf-0c10-4705-a28b-01f4f8ff614a\",\"type\":\"HelpTool\"}]},\"id\":\"1195077c-464a-441c-8581-50584dea6c8b\",\"type\":\"Toolbar\"},{\"attributes\":{\"line_color\":{\"value\":\"#00ad9c\"},\"line_dash\":[6,4,2,4],\"line_width\":{\"value\":2},\"x\":{\"field\":\"x_values\"},\"y\":{\"field\":\"y_values\"}},\"id\":\"799b9e2f-ba62-411a-affe-ce26c9c7ee60\",\"type\":\"Line\"},{\"attributes\":{\"data_source\":{\"id\":\"afcf784c-09aa-4505-913f-69c66fd5fd9f\",\"type\":\"ColumnDataSource\"},\"glyph\":{\"id\":\"2a6ec0f2-b94b-49f3-aa6c-4188cd722f84\",\"type\":\"Line\"},\"hover_glyph\":null,\"nonselection_glyph\":null,\"selection_glyph\":null},\"id\":\"e4fecb4c-78c7-4976-a172-6c3dd332f932\",\"type\":\"GlyphRenderer\"},{\"attributes\":{\"legends\":[[\"absolute_wind_onshore\",[{\"id\":\"647baf4e-05e6-460f-9abf-e34c6dbd3a85\",\"type\":\"GlyphRenderer\"}]],[\"absolute_wind_offshore\",[{\"id\":\"f2e496d7-d945-4b45-9bb0-53a9666d362a\",\"type\":\"GlyphRenderer\"}]],[\"absolute_solar\",[{\"id\":\"8910617f-2dd6-48da-a16f-907ce7ac60aa\",\"type\":\"GlyphRenderer\"}]],[\"absolute_hydro\",[{\"id\":\"e4fecb4c-78c7-4976-a172-6c3dd332f932\",\"type\":\"GlyphRenderer\"}]],[\"absolute_biomass\",[{\"id\":\"c08480fa-3ee5-4553-b0b2-584ff4c34d95\",\"type\":\"GlyphRenderer\"}]],[\"absolute_geothermal\",[{\"id\":\"a896a830-23c1-425a-a746-441fae02a699\",\"type\":\"GlyphRenderer\"}]],[\"absolute_total\",[{\"id\":\"6befb75f-30c8-4ec5-b874-6a64ff48c979\",\"type\":\"GlyphRenderer\"}]]],\"location\":\"top_left\",\"plot\":{\"id\":\"428b4ca4-bc12-42f9-a312-4be9fd92a77d\",\"subtype\":\"Chart\",\"type\":\"Plot\"}},\"id\":\"7bc2a9c9-e674-4c11-876b-ff1744027a24\",\"type\":\"Legend\"},{\"attributes\":{\"callback\":null,\"column_names\":[\"x_values\",\"y_values\"],\"data\":{\"chart_index\":[{\"series\":\"absolute_total\"},{\"series\":\"absolute_total\"},{\"series\":\"absolute_total\"},{\"series\":\"absolute_total\"},{\"series\":\"absolute_total\"},{\"series\":\"absolute_total\"},{\"series\":\"absolute_total\"},{\"series\":\"absolute_total\"},{\"series\":\"absolute_total\"},{\"series\":\"absolute_total\"},{\"series\":\"absolute_total\"},{\"series\":\"absolute_total\"},{\"series\":\"absolute_total\"},{\"series\":\"absolute_total\"},{\"series\":\"absolute_total\"},{\"series\":\"absolute_total\"},{\"series\":\"absolute_total\"},{\"series\":\"absolute_total\"},{\"series\":\"absolute_total\"},{\"series\":\"absolute_total\"},{\"series\":\"absolute_total\"},{\"series\":\"absolute_total\"},{\"series\":\"absolute_total\"},{\"series\":\"absolute_total\"},{\"series\":\"absolute_total\"},{\"series\":\"absolute_total\"}],\"series\":[\"absolute_total\",\"absolute_total\",\"absolute_total\",\"absolute_total\",\"absolute_total\",\"absolute_total\",\"absolute_total\",\"absolute_total\",\"absolute_total\",\"absolute_total\",\"absolute_total\",\"absolute_total\",\"absolute_total\",\"absolute_total\",\"absolute_total\",\"absolute_total\",\"absolute_total\",\"absolute_total\",\"absolute_total\",\"absolute_total\",\"absolute_total\",\"absolute_total\",\"absolute_total\",\"absolute_total\",\"absolute_total\",\"absolute_total\"],\"x_values\":[1990,1991,1992,1993,1994,1995,1996,1997,1998,1999,2000,2001,2002,2003,2004,2005,2006,2007,2008,2009,2010,2011,2012,2013,2014,2015],\"y_values\":[-3658.436851,-3729.315006,-3782.500428,-3931.564536,-4177.659229999876,-4494.010561999604,-4604.57196999973,-4799.834085998937,-5231.697850996875,-5815.680665995873,-5949.700155995086,-5580.806913994453,-5889.972127994502,-5868.886214994787,-5717.124582994795,-5638.044232994944,-5373.164933994845,-5050.964691495505,-5955.088296995345,-5266.906730205774,-4764.578909704898,-3930.1885191932743,-4407.761285019078,-4220.740641517623,-4428.96877051609,-4689.866957512539]}},\"id\":\"89154e81-aa64-4f3f-92ed-81bb7e5c93d4\",\"type\":\"ColumnDataSource\"},{\"attributes\":{},\"id\":\"13c7af8f-97f5-44ad-964b-f0f46da45b57\",\"type\":\"BasicTickFormatter\"},{\"attributes\":{\"plot\":{\"id\":\"428b4ca4-bc12-42f9-a312-4be9fd92a77d\",\"subtype\":\"Chart\",\"type\":\"Plot\"},\"ticker\":{\"id\":\"0ef6e47b-0828-49ee-9444-590ec4505f31\",\"type\":\"BasicTicker\"}},\"id\":\"fbde7bc8-7af7-4311-a787-d5b426ad0b78\",\"type\":\"Grid\"},{\"attributes\":{\"line_color\":{\"value\":\"#407ee7\"},\"line_dash\":[2,4],\"line_width\":{\"value\":2},\"x\":{\"field\":\"x_values\"},\"y\":{\"field\":\"y_values\"}},\"id\":\"2a6ec0f2-b94b-49f3-aa6c-4188cd722f84\",\"type\":\"Line\"},{\"attributes\":{\"data_source\":{\"id\":\"9e567622-17a4-400c-9668-2e4e1b0a57c9\",\"type\":\"ColumnDataSource\"},\"glyph\":{\"id\":\"f22c2634-e19f-4d27-8e8f-c409fbc89225\",\"type\":\"Line\"},\"hover_glyph\":null,\"nonselection_glyph\":null,\"selection_glyph\":null},\"id\":\"f2e496d7-d945-4b45-9bb0-53a9666d362a\",\"type\":\"GlyphRenderer\"},{\"attributes\":{\"callback\":null,\"column_names\":[\"x_values\",\"y_values\"],\"data\":{\"chart_index\":[{\"series\":\"absolute_wind_onshore\"},{\"series\":\"absolute_wind_onshore\"},{\"series\":\"absolute_wind_onshore\"},{\"series\":\"absolute_wind_onshore\"},{\"series\":\"absolute_wind_onshore\"},{\"series\":\"absolute_wind_onshore\"},{\"series\":\"absolute_wind_onshore\"},{\"series\":\"absolute_wind_onshore\"},{\"series\":\"absolute_wind_onshore\"},{\"series\":\"absolute_wind_onshore\"},{\"series\":\"absolute_wind_onshore\"},{\"series\":\"absolute_wind_onshore\"},{\"series\":\"absolute_wind_onshore\"},{\"series\":\"absolute_wind_onshore\"},{\"series\":\"absolute_wind_onshore\"},{\"series\":\"absolute_wind_onshore\"},{\"series\":\"absolute_wind_onshore\"},{\"series\":\"absolute_wind_onshore\"},{\"series\":\"absolute_wind_onshore\"},{\"series\":\"absolute_wind_onshore\"},{\"series\":\"absolute_wind_onshore\"},{\"series\":\"absolute_wind_onshore\"},{\"series\":\"absolute_wind_onshore\"},{\"series\":\"absolute_wind_onshore\"},{\"series\":\"absolute_wind_onshore\"},{\"series\":\"absolute_wind_onshore\"}],\"series\":[\"absolute_wind_onshore\",\"absolute_wind_onshore\",\"absolute_wind_onshore\",\"absolute_wind_onshore\",\"absolute_wind_onshore\",\"absolute_wind_onshore\",\"absolute_wind_onshore\",\"absolute_wind_onshore\",\"absolute_wind_onshore\",\"absolute_wind_onshore\",\"absolute_wind_onshore\",\"absolute_wind_onshore\",\"absolute_wind_onshore\",\"absolute_wind_onshore\",\"absolute_wind_onshore\",\"absolute_wind_onshore\",\"absolute_wind_onshore\",\"absolute_wind_onshore\",\"absolute_wind_onshore\",\"absolute_wind_onshore\",\"absolute_wind_onshore\",\"absolute_wind_onshore\",\"absolute_wind_onshore\",\"absolute_wind_onshore\",\"absolute_wind_onshore\",\"absolute_wind_onshore\"],\"x_values\":[1990,1991,1992,1993,1994,1995,1996,1997,1998,1999,2000,2001,2002,2003,2004,2005,2006,2007,2008,2009,2010,2011,2012,2013,2014,2015],\"y_values\":[-43.539,-84.354,-133.024,-225.27468,-380.05808,-570.81408,-721.30404,-945.23894,-1194.6585400000001,-1581.1557900000003,-1628.4213900000004,-1630.0815900000007,-1789.4277500000007,-1655.0837499999998,-1615.1127500000002,-1553.3021499999995,-1514.3641499999976,-1430.6179499999998,-2283.2523999999976,-1399.485779999999,-1364.969729999997,-1321.552069999998,-997.9188899999972,-732.9220699999933,-451.87073699999746,-470.6344869999957]}},\"id\":\"64da027d-7ea0-472c-ad97-6c4caf28b6d8\",\"type\":\"ColumnDataSource\"},{\"attributes\":{\"data_source\":{\"id\":\"bb9cbfe1-3bc2-4f4a-bc26-db39c8e6ee88\",\"type\":\"ColumnDataSource\"},\"glyph\":{\"id\":\"e6363ce7-8b99-4794-84b8-0da807db8935\",\"type\":\"Line\"},\"hover_glyph\":null,\"nonselection_glyph\":null,\"selection_glyph\":null},\"id\":\"8910617f-2dd6-48da-a16f-907ce7ac60aa\",\"type\":\"GlyphRenderer\"},{\"attributes\":{},\"id\":\"0ef6e47b-0828-49ee-9444-590ec4505f31\",\"type\":\"BasicTicker\"},{\"attributes\":{\"callback\":null,\"column_names\":[\"x_values\",\"y_values\"],\"data\":{\"chart_index\":[{\"series\":\"absolute_biomass\"},{\"series\":\"absolute_biomass\"},{\"series\":\"absolute_biomass\"},{\"series\":\"absolute_biomass\"},{\"series\":\"absolute_biomass\"},{\"series\":\"absolute_biomass\"},{\"series\":\"absolute_biomass\"},{\"series\":\"absolute_biomass\"},{\"series\":\"absolute_biomass\"},{\"series\":\"absolute_biomass\"},{\"series\":\"absolute_biomass\"},{\"series\":\"absolute_biomass\"},{\"series\":\"absolute_biomass\"},{\"series\":\"absolute_biomass\"},{\"series\":\"absolute_biomass\"},{\"series\":\"absolute_biomass\"},{\"series\":\"absolute_biomass\"},{\"series\":\"absolute_biomass\"},{\"series\":\"absolute_biomass\"},{\"series\":\"absolute_biomass\"},{\"series\":\"absolute_biomass\"},{\"series\":\"absolute_biomass\"},{\"series\":\"absolute_biomass\"},{\"series\":\"absolute_biomass\"},{\"series\":\"absolute_biomass\"},{\"series\":\"absolute_biomass\"}],\"series\":[\"absolute_biomass\",\"absolute_biomass\",\"absolute_biomass\",\"absolute_biomass\",\"absolute_biomass\",\"absolute_biomass\",\"absolute_biomass\",\"absolute_biomass\",\"absolute_biomass\",\"absolute_biomass\",\"absolute_biomass\",\"absolute_biomass\",\"absolute_biomass\",\"absolute_biomass\",\"absolute_biomass\",\"absolute_biomass\",\"absolute_biomass\",\"absolute_biomass\",\"absolute_biomass\",\"absolute_biomass\",\"absolute_biomass\",\"absolute_biomass\",\"absolute_biomass\",\"absolute_biomass\",\"absolute_biomass\",\"absolute_biomass\"],\"x_values\":[1990,1991,1992,1993,1994,1995,1996,1997,1998,1999,2000,2001,2002,2003,2004,2005,2006,2007,2008,2009,2010,2011,2012,2013,2014,2015],\"y_values\":[-60.010999999999996,-59.795,-59.997,-59.40180000000001,-68.10079999999999,-68.32579999999999,-80.1128,-71.4418,-193.596,-225.38170000000002,-154.2419,-44.31729000000007,-88.95333000000005,-206.70338000000015,109.06800999999973,136.65821000000005,312.09520999999995,467.4874810000001,402.94873199999984,215.45817200000056,314.98202200000105,669.1265520000006,548.7920920000015,462.6549060000016,240.4889540000022,156.2016840000024]}},\"id\":\"7a74d41f-31a8-49be-bc44-686a6502c260\",\"type\":\"ColumnDataSource\"},{\"attributes\":{\"line_color\":{\"value\":\"#f22c40\"},\"line_width\":{\"value\":2},\"x\":{\"field\":\"x_values\"},\"y\":{\"field\":\"y_values\"}},\"id\":\"faa24d16-f1c5-4b38-9022-e15272090d98\",\"type\":\"Line\"},{\"attributes\":{\"data_source\":{\"id\":\"7a74d41f-31a8-49be-bc44-686a6502c260\",\"type\":\"ColumnDataSource\"},\"glyph\":{\"id\":\"faa24d16-f1c5-4b38-9022-e15272090d98\",\"type\":\"Line\"},\"hover_glyph\":null,\"nonselection_glyph\":null,\"selection_glyph\":null},\"id\":\"c08480fa-3ee5-4553-b0b2-584ff4c34d95\",\"type\":\"GlyphRenderer\"},{\"attributes\":{\"callback\":null,\"column_names\":[\"x_values\",\"y_values\"],\"data\":{\"chart_index\":[{\"series\":\"absolute_wind_offshore\"},{\"series\":\"absolute_wind_offshore\"},{\"series\":\"absolute_wind_offshore\"},{\"series\":\"absolute_wind_offshore\"},{\"series\":\"absolute_wind_offshore\"},{\"series\":\"absolute_wind_offshore\"},{\"series\":\"absolute_wind_offshore\"},{\"series\":\"absolute_wind_offshore\"},{\"series\":\"absolute_wind_offshore\"},{\"series\":\"absolute_wind_offshore\"},{\"series\":\"absolute_wind_offshore\"},{\"series\":\"absolute_wind_offshore\"},{\"series\":\"absolute_wind_offshore\"},{\"series\":\"absolute_wind_offshore\"},{\"series\":\"absolute_wind_offshore\"},{\"series\":\"absolute_wind_offshore\"},{\"series\":\"absolute_wind_offshore\"},{\"series\":\"absolute_wind_offshore\"},{\"series\":\"absolute_wind_offshore\"},{\"series\":\"absolute_wind_offshore\"},{\"series\":\"absolute_wind_offshore\"},{\"series\":\"absolute_wind_offshore\"},{\"series\":\"absolute_wind_offshore\"},{\"series\":\"absolute_wind_offshore\"},{\"series\":\"absolute_wind_offshore\"},{\"series\":\"absolute_wind_offshore\"}],\"series\":[\"absolute_wind_offshore\",\"absolute_wind_offshore\",\"absolute_wind_offshore\",\"absolute_wind_offshore\",\"absolute_wind_offshore\",\"absolute_wind_offshore\",\"absolute_wind_offshore\",\"absolute_wind_offshore\",\"absolute_wind_offshore\",\"absolute_wind_offshore\",\"absolute_wind_offshore\",\"absolute_wind_offshore\",\"absolute_wind_offshore\",\"absolute_wind_offshore\",\"absolute_wind_offshore\",\"absolute_wind_offshore\",\"absolute_wind_offshore\",\"absolute_wind_offshore\",\"absolute_wind_offshore\",\"absolute_wind_offshore\",\"absolute_wind_offshore\",\"absolute_wind_offshore\",\"absolute_wind_offshore\",\"absolute_wind_offshore\",\"absolute_wind_offshore\",\"absolute_wind_offshore\"],\"x_values\":[1990,1991,1992,1993,1994,1995,1996,1997,1998,1999,2000,2001,2002,2003,2004,2005,2006,2007,2008,2009,2010,2011,2012,2013,2014,2015],\"y_values\":[0.0,0.0,0.0,0.0,0.0,0.0,0.0,0.0,0.0,0.0,0.0,0.0,0.0,0.0,0.0,0.0,0.0,0.0,0.0,5.0,0.0,0.30000000000001137,0.30000000000001137,0.30000000000001137,-43.39999999999998,0.34999999999990905]}},\"id\":\"9e567622-17a4-400c-9668-2e4e1b0a57c9\",\"type\":\"ColumnDataSource\"},{\"attributes\":{\"callback\":null,\"column_names\":[\"x_values\",\"y_values\"],\"data\":{\"chart_index\":[{\"series\":\"absolute_geothermal\"},{\"series\":\"absolute_geothermal\"},{\"series\":\"absolute_geothermal\"},{\"series\":\"absolute_geothermal\"},{\"series\":\"absolute_geothermal\"},{\"series\":\"absolute_geothermal\"},{\"series\":\"absolute_geothermal\"},{\"series\":\"absolute_geothermal\"},{\"series\":\"absolute_geothermal\"},{\"series\":\"absolute_geothermal\"},{\"series\":\"absolute_geothermal\"},{\"series\":\"absolute_geothermal\"},{\"series\":\"absolute_geothermal\"},{\"series\":\"absolute_geothermal\"},{\"series\":\"absolute_geothermal\"},{\"series\":\"absolute_geothermal\"},{\"series\":\"absolute_geothermal\"},{\"series\":\"absolute_geothermal\"},{\"series\":\"absolute_geothermal\"},{\"series\":\"absolute_geothermal\"},{\"series\":\"absolute_geothermal\"},{\"series\":\"absolute_geothermal\"},{\"series\":\"absolute_geothermal\"},{\"series\":\"absolute_geothermal\"},{\"series\":\"absolute_geothermal\"},{\"series\":\"absolute_geothermal\"}],\"series\":[\"absolute_geothermal\",\"absolute_geothermal\",\"absolute_geothermal\",\"absolute_geothermal\",\"absolute_geothermal\",\"absolute_geothermal\",\"absolute_geothermal\",\"absolute_geothermal\",\"absolute_geothermal\",\"absolute_geothermal\",\"absolute_geothermal\",\"absolute_geothermal\",\"absolute_geothermal\",\"absolute_geothermal\",\"absolute_geothermal\",\"absolute_geothermal\",\"absolute_geothermal\",\"absolute_geothermal\",\"absolute_geothermal\",\"absolute_geothermal\",\"absolute_geothermal\",\"absolute_geothermal\",\"absolute_geothermal\",\"absolute_geothermal\",\"absolute_geothermal\",\"absolute_geothermal\"],\"x_values\":[1990,1991,1992,1993,1994,1995,1996,1997,1998,1999,2000,2001,2002,2003,2004,2005,2006,2007,2008,2009,2010,2011,2012,2013,2014,2015],\"y_values\":[0.0,0.0,0.0,0.0,0.0,0.0,0.0,0.0,0.0,0.0,0.0,0.0,0.0,0.0,0.22,0.22,0.22,1.2200000000000002,1.2200000000000002,1.8200000000000003,1.8200000000000003,1.8200000000000003,0.620000000000001,5.934999999999999,9.435000000000002,9.435000000000002]}},\"id\":\"92e85bb3-db9f-4200-9529-5f4cd61e6d84\",\"type\":\"ColumnDataSource\"},{\"attributes\":{\"line_color\":{\"value\":\"#c33ff3\"},\"line_width\":{\"value\":2},\"x\":{\"field\":\"x_values\"},\"y\":{\"field\":\"y_values\"}},\"id\":\"f22c2634-e19f-4d27-8e8f-c409fbc89225\",\"type\":\"Line\"},{\"attributes\":{\"line_color\":{\"value\":\"#df5320\"},\"line_dash\":[2,4,6,4],\"line_width\":{\"value\":2},\"x\":{\"field\":\"x_values\"},\"y\":{\"field\":\"y_values\"}},\"id\":\"e6363ce7-8b99-4794-84b8-0da807db8935\",\"type\":\"Line\"},{\"attributes\":{\"below\":[{\"id\":\"74019812-f69c-4646-998d-91583ecbaf3f\",\"type\":\"LinearAxis\"}],\"left\":[{\"id\":\"feaec904-7c9d-40ec-aa09-3704c7115958\",\"type\":\"LinearAxis\"}],\"renderers\":[{\"id\":\"2592b010-8916-44bf-9086-50a89d984475\",\"type\":\"BoxAnnotation\"},{\"id\":\"647baf4e-05e6-460f-9abf-e34c6dbd3a85\",\"type\":\"GlyphRenderer\"},{\"id\":\"f2e496d7-d945-4b45-9bb0-53a9666d362a\",\"type\":\"GlyphRenderer\"},{\"id\":\"8910617f-2dd6-48da-a16f-907ce7ac60aa\",\"type\":\"GlyphRenderer\"},{\"id\":\"e4fecb4c-78c7-4976-a172-6c3dd332f932\",\"type\":\"GlyphRenderer\"},{\"id\":\"c08480fa-3ee5-4553-b0b2-584ff4c34d95\",\"type\":\"GlyphRenderer\"},{\"id\":\"a896a830-23c1-425a-a746-441fae02a699\",\"type\":\"GlyphRenderer\"},{\"id\":\"6befb75f-30c8-4ec5-b874-6a64ff48c979\",\"type\":\"GlyphRenderer\"},{\"id\":\"7bc2a9c9-e674-4c11-876b-ff1744027a24\",\"type\":\"Legend\"},{\"id\":\"74019812-f69c-4646-998d-91583ecbaf3f\",\"type\":\"LinearAxis\"},{\"id\":\"feaec904-7c9d-40ec-aa09-3704c7115958\",\"type\":\"LinearAxis\"},{\"id\":\"fbde7bc8-7af7-4311-a787-d5b426ad0b78\",\"type\":\"Grid\"},{\"id\":\"7e9735c9-211e-42c8-8af8-701e79b69f24\",\"type\":\"Grid\"}],\"title\":{\"id\":\"6f1eaa76-5d9b-4661-ae20-7d5f7c56ff2a\",\"type\":\"Title\"},\"tool_events\":{\"id\":\"5b77a615-d9dc-40f4-af35-4e972a06abfd\",\"type\":\"ToolEvents\"},\"toolbar\":{\"id\":\"1195077c-464a-441c-8581-50584dea6c8b\",\"type\":\"Toolbar\"},\"x_mapper_type\":\"auto\",\"x_range\":{\"id\":\"3848832b-3bf2-4a95-b254-57bf2f3b4923\",\"type\":\"Range1d\"},\"y_mapper_type\":\"auto\",\"y_range\":{\"id\":\"ca089960-72c4-42b7-8f30-c3b5b4dab094\",\"type\":\"Range1d\"}},\"id\":\"428b4ca4-bc12-42f9-a312-4be9fd92a77d\",\"subtype\":\"Chart\",\"type\":\"Plot\"},{\"attributes\":{\"callback\":null,\"end\":1639.9667824869193,\"start\":-6645.547849675551},\"id\":\"ca089960-72c4-42b7-8f30-c3b5b4dab094\",\"type\":\"Range1d\"}],\"root_ids\":[\"428b4ca4-bc12-42f9-a312-4be9fd92a77d\"]},\"title\":\"Bokeh Application\",\"version\":\"0.12.0\"}};\n",
       "            var render_items = [{\"docid\":\"1e02862b-1822-4366-8655-b3d862931ab9\",\"elementid\":\"28331599-9a0c-4a4b-9c77-2133bbe727a0\",\"modelid\":\"428b4ca4-bc12-42f9-a312-4be9fd92a77d\",\"notebook_comms_target\":\"0838e1e6-9546-4e83-b337-75e00354aad2\"}];\n",
       "            \n",
       "            Bokeh.embed.embed_items(docs_json, render_items);\n",
       "        });\n",
       "      },\n",
       "      function(Bokeh) {\n",
       "      }\n",
       "    ];\n",
       "  \n",
       "    function run_inline_js() {\n",
       "      for (var i = 0; i < inline_js.length; i++) {\n",
       "        inline_js[i](window.Bokeh);\n",
       "      }\n",
       "    }\n",
       "  \n",
       "    if (window._bokeh_is_loading === 0) {\n",
       "      console.log(\"Bokeh: BokehJS loaded, going straight to plotting\");\n",
       "      run_inline_js();\n",
       "    } else {\n",
       "      load_libs(js_urls, function() {\n",
       "        console.log(\"Bokeh: BokehJS plotting callback run at\", now());\n",
       "        run_inline_js();\n",
       "      });\n",
       "    }\n",
       "  }(this));\n",
       "</script>"
      ]
     },
     "metadata": {},
     "output_type": "display_data"
    },
    {
     "data": {
      "text/html": [
       "<p><code>&lt;Bokeh Notebook handle for <strong>In[50]</strong>&gt;</code></p>"
      ],
      "text/plain": [
       "<bokeh.io._CommsHandle at 0x7fd14342d128>"
      ]
     },
     "execution_count": 50,
     "metadata": {},
     "output_type": "execute_result"
    }
   ],
   "source": [
    "# Show Plot for absolute deviation\n",
    "show(deviation)"
   ]
  },
  {
   "cell_type": "markdown",
   "metadata": {},
   "source": [
    "** Calculate the relative deviation between both timeseries**"
   ]
  },
  {
   "cell_type": "code",
   "execution_count": 51,
   "metadata": {
    "collapsed": false
   },
   "outputs": [],
   "source": [
    "# Relative deviation\n",
    "valuation['relative_wind_onshore'] = (valuation['absolute_wind_onshore'] / valuation['bmwi_wind_onshore']).fillna(0)\n",
    "\n",
    "valuation['relative_wind_offshore'] = (valuation['absolute_wind_offshore'] / valuation['bmwi_wind_offshore']).fillna(0)\n",
    "\n",
    "valuation['relative_solar'] = (valuation['absolute_solar'] / (valuation['bmwi_solar'])).fillna(0)\n",
    "\n",
    "valuation['relative_hydro'] = (valuation['absolute_hydro'] / (valuation['bmwi_hydro'])).fillna(0)\n",
    "\n",
    "valuation['relative_geothermal'] = (valuation['absolute_geothermal'] / (valuation['bmwi_geothermal'])).fillna(0)\n",
    "\n",
    "valuation['relative_biomass'] = (valuation['absolute_biomass'] / (valuation['bmwi_biomass'])).fillna(0)\n",
    "\n",
    "valuation['relative_total'] = (valuation['absolute_total'] / (valuation['bmwi_total'])).fillna(0)"
   ]
  },
  {
   "cell_type": "code",
   "execution_count": 52,
   "metadata": {
    "collapsed": false
   },
   "outputs": [],
   "source": [
    "# Plot settings relative deviation\n",
    "relative_column = ['relative_wind_onshore','relative_wind_offshore',\n",
    "                   'relative_solar','relative_hydro','relative_biomass',\n",
    "                   'relative_total']\n",
    "\n",
    "dataplot2 = valuation[relative_column]\n",
    "\n",
    "relative = Line(dataplot2 * 100,\n",
    "                y=relative_column,\n",
    "                dash=relative_column,\n",
    "                color=relative_column,\n",
    "                title=\"Deviation between data set and BMWI statistic (negative => BMWI value higher)\",\n",
    "                ylabel='Relative difference in percent',\n",
    "                xlabel='From 1990 till 2015',\n",
    "                legend=True)"
   ]
  },
  {
   "cell_type": "markdown",
   "metadata": {},
   "source": [
    "**Plotting the relative deviation**\n",
    "\n",
    "The graph shows the relative difference of the electrical capacity between the OPSD data set of renewable power plants and the BMWI statistic from 1990 until 2015.<br>\n",
    "*A positive value means the OPSD data set has more capacity than the BMWI statistics.*"
   ]
  },
  {
   "cell_type": "code",
   "execution_count": 8,
   "metadata": {
    "collapsed": false
   },
   "outputs": [
    {
     "ename": "NameError",
     "evalue": "name 'relative' is not defined",
     "output_type": "error",
     "traceback": [
      "\u001b[0;31m---------------------------------------------------------------------------\u001b[0m",
      "\u001b[0;31mNameError\u001b[0m                                 Traceback (most recent call last)",
      "\u001b[0;32m<ipython-input-8-0f79a324a36d>\u001b[0m in \u001b[0;36m<module>\u001b[0;34m()\u001b[0m\n\u001b[1;32m      1\u001b[0m \u001b[0;31m# Show Plot for relative deviation\u001b[0m\u001b[0;34m\u001b[0m\u001b[0;34m\u001b[0m\u001b[0m\n\u001b[0;32m----> 2\u001b[0;31m \u001b[0mshow\u001b[0m\u001b[0;34m(\u001b[0m\u001b[0mrelative\u001b[0m\u001b[0;34m)\u001b[0m\u001b[0;34m\u001b[0m\u001b[0m\n\u001b[0m",
      "\u001b[0;31mNameError\u001b[0m: name 'relative' is not defined"
     ]
    }
   ],
   "source": [
    "# Show Plot for relative deviation\n",
    "show(relative)"
   ]
  },
  {
   "cell_type": "markdown",
   "metadata": {},
   "source": [
    "**Saving deviation results in XLSX-file**"
   ]
  },
  {
   "cell_type": "code",
   "execution_count": 54,
   "metadata": {
    "collapsed": true
   },
   "outputs": [],
   "source": [
    "# write results as Excel file\n",
    "valuation.to_excel('validation_report.xlsx', sheet_name='Capacities_1990_2015')"
   ]
  },
  {
   "cell_type": "markdown",
   "metadata": {},
   "source": [
    "# 8. Harmonize format for output files"
   ]
  },
  {
   "cell_type": "markdown",
   "metadata": {},
   "source": [
    "## 8.1 Columns\n",
    "A similar order of columns is pursued for all country lists."
   ]
  },
  {
   "cell_type": "code",
   "execution_count": 11,
   "metadata": {
    "collapsed": false
   },
   "outputs": [],
   "source": [
    "DE_re = DE_re.loc[:,('commissioning_date','decommissioning_date',\n",
    "                     'energy_source','energy_source_subtype',\n",
    "                     'electrical_capacity_kW','thermal_capacity_kW',\n",
    "                     'voltage_level','tso','dso','dso_id', 'eeg_id','bnetza_id',\n",
    "                     'federal_state','postcode','municipality_code','municipality',\n",
    "                     'address','address_number',\n",
    "                     'utm_zone','utm_east','utm_north','latitude','longitude',\n",
    "                     'data_source','comment')]"
   ]
  },
  {
   "cell_type": "code",
   "execution_count": 12,
   "metadata": {
    "collapsed": false
   },
   "outputs": [],
   "source": [
    "DK_re = DK_re.loc[:,('commissioning_date',\n",
    "                     'energy_source','energy_source_subtype',\n",
    "                     'electrical_capacity_kW',\n",
    "                     'tso','dso','gsrn_id',\n",
    "                     'postcode','municipality_code','municipality',\n",
    "                     'address','address_number',\n",
    "                     'utm_east','utm_north','latitude','longitude',\n",
    "                     'hub_height','rotor_diameter','manufacturer','model',\n",
    "                     'data_source')]"
   ]
  },
  {
   "cell_type": "code",
   "execution_count": 13,
   "metadata": {
    "collapsed": false
   },
   "outputs": [],
   "source": [
    "FR_re = FR_re.loc[:,('municipality_code','municipality',\n",
    "                     'energy_source','energy_source_subtype',\n",
    "                     'electrical_capacity_kW','number_of_installations',\n",
    "                     'latitude','longitude',\n",
    "                     'data_source')]"
   ]
  },
  {
   "cell_type": "code",
   "execution_count": 14,
   "metadata": {
    "collapsed": false
   },
   "outputs": [],
   "source": [
    "PL_re = PL_re.loc[:,('district',\n",
    "                     'energy_source','energy_source_subtype',\n",
    "                     'electrical_capacity_kW','number_of_installations',\n",
    "                     'latitude','longitude',\n",
    "                     'data_source')]"
   ]
  },
  {
   "cell_type": "markdown",
   "metadata": {},
   "source": [
    "## 8.2 Accuracy of numbers"
   ]
  },
  {
   "cell_type": "markdown",
   "metadata": {},
   "source": [
    "**One digit behind the comma for electrical_capacity_kW.**"
   ]
  },
  {
   "cell_type": "code",
   "execution_count": 15,
   "metadata": {
    "collapsed": false
   },
   "outputs": [],
   "source": [
    "DE_re['electrical_capacity_kW'] = DE_re['electrical_capacity_kW'\n",
    "                                       ].map(lambda x: '%.1f' % x)\n",
    "DE_re['thermal_capacity_kW'] = DE_re['thermal_capacity_kW'\n",
    "                                    ].map(lambda x: '%.1f' % x)\n",
    "\n",
    "DK_re['electrical_capacity_kW'] = DK_re['electrical_capacity_kW'\n",
    "                                       ].map(lambda x: '%.1f' % x)\n",
    "\n",
    "FR_re['electrical_capacity_kW'] = FR_re['electrical_capacity_kW'\n",
    "                                       ].map(lambda x: '%.1f' % x)\n",
    "\n",
    "PL_re['electrical_capacity_kW'] = PL_re['electrical_capacity_kW'\n",
    "                                       ].map(lambda x: '%.1f' % x)"
   ]
  },
  {
   "cell_type": "markdown",
   "metadata": {},
   "source": [
    "**Five digits behind the comma for coordinates.**"
   ]
  },
  {
   "cell_type": "code",
   "execution_count": 16,
   "metadata": {
    "collapsed": false
   },
   "outputs": [],
   "source": [
    "DE_re['latitude'] = pd.to_numeric(DE_re['latitude'], errors='coerce')\n",
    "DE_re['longitude'] = pd.to_numeric(DE_re['longitude'], errors='coerce')\n",
    "DE_re['latitude'] = DE_re['latitude'].map(lambda x: '%.5f' % x)\n",
    "DE_re['longitude'] = DE_re['longitude'].map(lambda x: '%.5f' % x)\n",
    "DE_re['utm_east'] = DE_re['utm_east'].map(lambda x: '%.5f' % x)\n",
    "DE_re['utm_north'] = DE_re['utm_north'].map(lambda x: '%.5f' % x)\n",
    "\n",
    "# Zone value has to be an integer, thus no digits after the comma\n",
    "DE_re['utm_zone'] = pd.to_numeric(DE_re['utm_zone'], errors='coerce')\n",
    "DE_re['utm_zone'] = DE_re['utm_zone'].map(lambda x: '%.0f' % x)\n",
    "\n",
    "DK_re['latitude'] = pd.to_numeric(DK_re['latitude'], errors='coerce')\n",
    "DK_re['longitude'] = pd.to_numeric(DK_re['longitude'], errors='coerce')\n",
    "DK_re['latitude'] = DK_re['latitude'].map(lambda x: '%.5f' % x)\n",
    "DK_re['longitude'] = DK_re['longitude'].map(lambda x: '%.5f' % x)\n",
    "DK_re['utm_east'] = DK_re['utm_east'].map(lambda x: '%.5f' % x)\n",
    "DK_re['utm_north'] = DK_re['utm_north'].map(lambda x: '%.5f' % x)\n",
    "\n",
    "FR_re['latitude'] = pd.to_numeric(FR_re['latitude'], errors='coerce')\n",
    "FR_re['longitude'] = pd.to_numeric(FR_re['longitude'], errors='coerce')\n",
    "FR_re['longitude'] = FR_re['longitude'].map(lambda x: '%.5f' % x)\n",
    "FR_re['latitude'] = FR_re['latitude'].map(lambda x: '%.5f' % x)"
   ]
  },
  {
   "cell_type": "markdown",
   "metadata": {},
   "source": [
    "**Dates in the output should be without a timestamp.**"
   ]
  },
  {
   "cell_type": "code",
   "execution_count": 17,
   "metadata": {
    "collapsed": false
   },
   "outputs": [],
   "source": [
    "DE_re['commissioning_date'] = DE_re['commissioning_date'].apply(lambda x: x.date())\n",
    "\n",
    "DK_re['commissioning_date'] = DK_re['commissioning_date'].apply(lambda x: x.date())"
   ]
  },
  {
   "cell_type": "code",
   "execution_count": 64,
   "metadata": {
    "collapsed": false
   },
   "outputs": [
    {
     "ename": "ValueError",
     "evalue": "Unknown string format",
     "output_type": "error",
     "traceback": [
      "\u001b[0;31m---------------------------------------------------------------------------\u001b[0m",
      "\u001b[0;31mTypeError\u001b[0m                                 Traceback (most recent call last)",
      "\u001b[0;32m/home/frauke/.local/lib/python3.5/site-packages/pandas/tseries/tools.py\u001b[0m in \u001b[0;36m_convert_listlike\u001b[0;34m(arg, box, format, name)\u001b[0m\n\u001b[1;32m    408\u001b[0m             \u001b[0;32mtry\u001b[0m\u001b[0;34m:\u001b[0m\u001b[0;34m\u001b[0m\u001b[0m\n\u001b[0;32m--> 409\u001b[0;31m                 \u001b[0mvalues\u001b[0m\u001b[0;34m,\u001b[0m \u001b[0mtz\u001b[0m \u001b[0;34m=\u001b[0m \u001b[0mtslib\u001b[0m\u001b[0;34m.\u001b[0m\u001b[0mdatetime_to_datetime64\u001b[0m\u001b[0;34m(\u001b[0m\u001b[0marg\u001b[0m\u001b[0;34m)\u001b[0m\u001b[0;34m\u001b[0m\u001b[0m\n\u001b[0m\u001b[1;32m    410\u001b[0m                 \u001b[0;32mreturn\u001b[0m \u001b[0mDatetimeIndex\u001b[0m\u001b[0;34m.\u001b[0m\u001b[0m_simple_new\u001b[0m\u001b[0;34m(\u001b[0m\u001b[0mvalues\u001b[0m\u001b[0;34m,\u001b[0m \u001b[0mname\u001b[0m\u001b[0;34m=\u001b[0m\u001b[0mname\u001b[0m\u001b[0;34m,\u001b[0m \u001b[0mtz\u001b[0m\u001b[0;34m=\u001b[0m\u001b[0mtz\u001b[0m\u001b[0;34m)\u001b[0m\u001b[0;34m\u001b[0m\u001b[0m\n",
      "\u001b[0;32mpandas/tslib.pyx\u001b[0m in \u001b[0;36mpandas.tslib.datetime_to_datetime64 (pandas/tslib.c:29768)\u001b[0;34m()\u001b[0m\n",
      "\u001b[0;31mTypeError\u001b[0m: Unrecognized value type: <class 'str'>",
      "\nDuring handling of the above exception, another exception occurred:\n",
      "\u001b[0;31mValueError\u001b[0m                                Traceback (most recent call last)",
      "\u001b[0;32m<ipython-input-64-ee7822c1a0e0>\u001b[0m in \u001b[0;36m<module>\u001b[0;34m()\u001b[0m\n\u001b[0;32m----> 1\u001b[0;31m DE_re_clean['decommissioning_date'] = DE_re_clean[pd.to_datetime('decommissioning_date'\n\u001b[0m\u001b[1;32m      2\u001b[0m                                                  )].apply(lambda x: x.date())\n",
      "\u001b[0;32m/home/frauke/.local/lib/python3.5/site-packages/pandas/util/decorators.py\u001b[0m in \u001b[0;36mwrapper\u001b[0;34m(*args, **kwargs)\u001b[0m\n\u001b[1;32m     89\u001b[0m                 \u001b[0;32melse\u001b[0m\u001b[0;34m:\u001b[0m\u001b[0;34m\u001b[0m\u001b[0m\n\u001b[1;32m     90\u001b[0m                     \u001b[0mkwargs\u001b[0m\u001b[0;34m[\u001b[0m\u001b[0mnew_arg_name\u001b[0m\u001b[0;34m]\u001b[0m \u001b[0;34m=\u001b[0m \u001b[0mnew_arg_value\u001b[0m\u001b[0;34m\u001b[0m\u001b[0m\n\u001b[0;32m---> 91\u001b[0;31m             \u001b[0;32mreturn\u001b[0m \u001b[0mfunc\u001b[0m\u001b[0;34m(\u001b[0m\u001b[0;34m*\u001b[0m\u001b[0margs\u001b[0m\u001b[0;34m,\u001b[0m \u001b[0;34m**\u001b[0m\u001b[0mkwargs\u001b[0m\u001b[0;34m)\u001b[0m\u001b[0;34m\u001b[0m\u001b[0m\n\u001b[0m\u001b[1;32m     92\u001b[0m         \u001b[0;32mreturn\u001b[0m \u001b[0mwrapper\u001b[0m\u001b[0;34m\u001b[0m\u001b[0m\n\u001b[1;32m     93\u001b[0m     \u001b[0;32mreturn\u001b[0m \u001b[0m_deprecate_kwarg\u001b[0m\u001b[0;34m\u001b[0m\u001b[0m\n",
      "\u001b[0;32m/home/frauke/.local/lib/python3.5/site-packages/pandas/tseries/tools.py\u001b[0m in \u001b[0;36mto_datetime\u001b[0;34m(arg, errors, dayfirst, yearfirst, utc, box, format, exact, coerce, unit, infer_datetime_format)\u001b[0m\n\u001b[1;32m    289\u001b[0m                         \u001b[0myearfirst\u001b[0m\u001b[0;34m=\u001b[0m\u001b[0myearfirst\u001b[0m\u001b[0;34m,\u001b[0m\u001b[0;34m\u001b[0m\u001b[0m\n\u001b[1;32m    290\u001b[0m                         \u001b[0mutc\u001b[0m\u001b[0;34m=\u001b[0m\u001b[0mutc\u001b[0m\u001b[0;34m,\u001b[0m \u001b[0mbox\u001b[0m\u001b[0;34m=\u001b[0m\u001b[0mbox\u001b[0m\u001b[0;34m,\u001b[0m \u001b[0mformat\u001b[0m\u001b[0;34m=\u001b[0m\u001b[0mformat\u001b[0m\u001b[0;34m,\u001b[0m \u001b[0mexact\u001b[0m\u001b[0;34m=\u001b[0m\u001b[0mexact\u001b[0m\u001b[0;34m,\u001b[0m\u001b[0;34m\u001b[0m\u001b[0m\n\u001b[0;32m--> 291\u001b[0;31m                         unit=unit, infer_datetime_format=infer_datetime_format)\n\u001b[0m\u001b[1;32m    292\u001b[0m \u001b[0;34m\u001b[0m\u001b[0m\n\u001b[1;32m    293\u001b[0m \u001b[0;34m\u001b[0m\u001b[0m\n",
      "\u001b[0;32m/home/frauke/.local/lib/python3.5/site-packages/pandas/tseries/tools.py\u001b[0m in \u001b[0;36m_to_datetime\u001b[0;34m(arg, errors, dayfirst, yearfirst, utc, box, format, exact, unit, freq, infer_datetime_format)\u001b[0m\n\u001b[1;32m    427\u001b[0m         \u001b[0;32mreturn\u001b[0m \u001b[0m_convert_listlike\u001b[0m\u001b[0;34m(\u001b[0m\u001b[0marg\u001b[0m\u001b[0;34m,\u001b[0m \u001b[0mbox\u001b[0m\u001b[0;34m,\u001b[0m \u001b[0mformat\u001b[0m\u001b[0;34m)\u001b[0m\u001b[0;34m\u001b[0m\u001b[0m\n\u001b[1;32m    428\u001b[0m \u001b[0;34m\u001b[0m\u001b[0m\n\u001b[0;32m--> 429\u001b[0;31m     \u001b[0;32mreturn\u001b[0m \u001b[0m_convert_listlike\u001b[0m\u001b[0;34m(\u001b[0m\u001b[0mnp\u001b[0m\u001b[0;34m.\u001b[0m\u001b[0marray\u001b[0m\u001b[0;34m(\u001b[0m\u001b[0;34m[\u001b[0m\u001b[0marg\u001b[0m\u001b[0;34m]\u001b[0m\u001b[0;34m)\u001b[0m\u001b[0;34m,\u001b[0m \u001b[0mbox\u001b[0m\u001b[0;34m,\u001b[0m \u001b[0mformat\u001b[0m\u001b[0;34m)\u001b[0m\u001b[0;34m[\u001b[0m\u001b[0;36m0\u001b[0m\u001b[0;34m]\u001b[0m\u001b[0;34m\u001b[0m\u001b[0m\n\u001b[0m\u001b[1;32m    430\u001b[0m \u001b[0;34m\u001b[0m\u001b[0m\n\u001b[1;32m    431\u001b[0m \u001b[0;31m# mappings for assembling units\u001b[0m\u001b[0;34m\u001b[0m\u001b[0;34m\u001b[0m\u001b[0m\n",
      "\u001b[0;32m/home/frauke/.local/lib/python3.5/site-packages/pandas/tseries/tools.py\u001b[0m in \u001b[0;36m_convert_listlike\u001b[0;34m(arg, box, format, name)\u001b[0m\n\u001b[1;32m    410\u001b[0m                 \u001b[0;32mreturn\u001b[0m \u001b[0mDatetimeIndex\u001b[0m\u001b[0;34m.\u001b[0m\u001b[0m_simple_new\u001b[0m\u001b[0;34m(\u001b[0m\u001b[0mvalues\u001b[0m\u001b[0;34m,\u001b[0m \u001b[0mname\u001b[0m\u001b[0;34m=\u001b[0m\u001b[0mname\u001b[0m\u001b[0;34m,\u001b[0m \u001b[0mtz\u001b[0m\u001b[0;34m=\u001b[0m\u001b[0mtz\u001b[0m\u001b[0;34m)\u001b[0m\u001b[0;34m\u001b[0m\u001b[0m\n\u001b[1;32m    411\u001b[0m             \u001b[0;32mexcept\u001b[0m \u001b[0;34m(\u001b[0m\u001b[0mValueError\u001b[0m\u001b[0;34m,\u001b[0m \u001b[0mTypeError\u001b[0m\u001b[0;34m)\u001b[0m\u001b[0;34m:\u001b[0m\u001b[0;34m\u001b[0m\u001b[0m\n\u001b[0;32m--> 412\u001b[0;31m                 \u001b[0;32mraise\u001b[0m \u001b[0me\u001b[0m\u001b[0;34m\u001b[0m\u001b[0m\n\u001b[0m\u001b[1;32m    413\u001b[0m \u001b[0;34m\u001b[0m\u001b[0m\n\u001b[1;32m    414\u001b[0m     \u001b[0;32mif\u001b[0m \u001b[0marg\u001b[0m \u001b[0;32mis\u001b[0m \u001b[0;32mNone\u001b[0m\u001b[0;34m:\u001b[0m\u001b[0;34m\u001b[0m\u001b[0m\n",
      "\u001b[0;32m/home/frauke/.local/lib/python3.5/site-packages/pandas/tseries/tools.py\u001b[0m in \u001b[0;36m_convert_listlike\u001b[0;34m(arg, box, format, name)\u001b[0m\n\u001b[1;32m    396\u001b[0m                     \u001b[0myearfirst\u001b[0m\u001b[0;34m=\u001b[0m\u001b[0myearfirst\u001b[0m\u001b[0;34m,\u001b[0m\u001b[0;34m\u001b[0m\u001b[0m\n\u001b[1;32m    397\u001b[0m                     \u001b[0mfreq\u001b[0m\u001b[0;34m=\u001b[0m\u001b[0mfreq\u001b[0m\u001b[0;34m,\u001b[0m\u001b[0;34m\u001b[0m\u001b[0m\n\u001b[0;32m--> 398\u001b[0;31m                     \u001b[0mrequire_iso8601\u001b[0m\u001b[0;34m=\u001b[0m\u001b[0mrequire_iso8601\u001b[0m\u001b[0;34m\u001b[0m\u001b[0m\n\u001b[0m\u001b[1;32m    399\u001b[0m                 )\n\u001b[1;32m    400\u001b[0m \u001b[0;34m\u001b[0m\u001b[0m\n",
      "\u001b[0;32mpandas/tslib.pyx\u001b[0m in \u001b[0;36mpandas.tslib.array_to_datetime (pandas/tslib.c:41972)\u001b[0;34m()\u001b[0m\n",
      "\u001b[0;32mpandas/tslib.pyx\u001b[0m in \u001b[0;36mpandas.tslib.array_to_datetime (pandas/tslib.c:41577)\u001b[0;34m()\u001b[0m\n",
      "\u001b[0;32mpandas/tslib.pyx\u001b[0m in \u001b[0;36mpandas.tslib.array_to_datetime (pandas/tslib.c:41466)\u001b[0;34m()\u001b[0m\n",
      "\u001b[0;32mpandas/tslib.pyx\u001b[0m in \u001b[0;36mpandas.tslib.parse_datetime_string (pandas/tslib.c:31806)\u001b[0;34m()\u001b[0m\n",
      "\u001b[0;32m/home/frauke/.local/lib/python3.5/site-packages/dateutil/parser.py\u001b[0m in \u001b[0;36mparse\u001b[0;34m(timestr, parserinfo, **kwargs)\u001b[0m\n\u001b[1;32m   1162\u001b[0m         \u001b[0;32mreturn\u001b[0m \u001b[0mparser\u001b[0m\u001b[0;34m(\u001b[0m\u001b[0mparserinfo\u001b[0m\u001b[0;34m)\u001b[0m\u001b[0;34m.\u001b[0m\u001b[0mparse\u001b[0m\u001b[0;34m(\u001b[0m\u001b[0mtimestr\u001b[0m\u001b[0;34m,\u001b[0m \u001b[0;34m**\u001b[0m\u001b[0mkwargs\u001b[0m\u001b[0;34m)\u001b[0m\u001b[0;34m\u001b[0m\u001b[0m\n\u001b[1;32m   1163\u001b[0m     \u001b[0;32melse\u001b[0m\u001b[0;34m:\u001b[0m\u001b[0;34m\u001b[0m\u001b[0m\n\u001b[0;32m-> 1164\u001b[0;31m         \u001b[0;32mreturn\u001b[0m \u001b[0mDEFAULTPARSER\u001b[0m\u001b[0;34m.\u001b[0m\u001b[0mparse\u001b[0m\u001b[0;34m(\u001b[0m\u001b[0mtimestr\u001b[0m\u001b[0;34m,\u001b[0m \u001b[0;34m**\u001b[0m\u001b[0mkwargs\u001b[0m\u001b[0;34m)\u001b[0m\u001b[0;34m\u001b[0m\u001b[0m\n\u001b[0m\u001b[1;32m   1165\u001b[0m \u001b[0;34m\u001b[0m\u001b[0m\n\u001b[1;32m   1166\u001b[0m \u001b[0;34m\u001b[0m\u001b[0m\n",
      "\u001b[0;32m/home/frauke/.local/lib/python3.5/site-packages/dateutil/parser.py\u001b[0m in \u001b[0;36mparse\u001b[0;34m(self, timestr, default, ignoretz, tzinfos, **kwargs)\u001b[0m\n\u001b[1;32m    553\u001b[0m \u001b[0;34m\u001b[0m\u001b[0m\n\u001b[1;32m    554\u001b[0m         \u001b[0;32mif\u001b[0m \u001b[0mres\u001b[0m \u001b[0;32mis\u001b[0m \u001b[0;32mNone\u001b[0m\u001b[0;34m:\u001b[0m\u001b[0;34m\u001b[0m\u001b[0m\n\u001b[0;32m--> 555\u001b[0;31m             \u001b[0;32mraise\u001b[0m \u001b[0mValueError\u001b[0m\u001b[0;34m(\u001b[0m\u001b[0;34m\"Unknown string format\"\u001b[0m\u001b[0;34m)\u001b[0m\u001b[0;34m\u001b[0m\u001b[0m\n\u001b[0m\u001b[1;32m    556\u001b[0m \u001b[0;34m\u001b[0m\u001b[0m\n\u001b[1;32m    557\u001b[0m         \u001b[0;32mif\u001b[0m \u001b[0mlen\u001b[0m\u001b[0;34m(\u001b[0m\u001b[0mres\u001b[0m\u001b[0;34m)\u001b[0m \u001b[0;34m==\u001b[0m \u001b[0;36m0\u001b[0m\u001b[0;34m:\u001b[0m\u001b[0;34m\u001b[0m\u001b[0m\n",
      "\u001b[0;31mValueError\u001b[0m: Unknown string format"
     ]
    }
   ],
   "source": [
    "#DE_re_clean['decommissioning_date'] = DE_re_clean[pd.to_datetime('decommissioning_date'\n",
    " #                                                )].apply(lambda x: x.date())"
   ]
  },
  {
   "cell_type": "markdown",
   "metadata": {},
   "source": [
    "## 8.3 Sort"
   ]
  },
  {
   "cell_type": "code",
   "execution_count": 18,
   "metadata": {
    "collapsed": true
   },
   "outputs": [],
   "source": [
    "# Sort German data frame by commissioning date\n",
    "DE_re = DE_re.ix[DE_re_clean.commissioning_date.sort_values().index]\n",
    "\n",
    "# Sort Danish data frame by commissioning date\n",
    "DK_re = DK_re.ix[DK_re.commissioning_date.sort_values().index]\n",
    "\n",
    "# Sort French data frame by municipality_code\n",
    "FR_re = FR_re.ix[FR_re.municipality_code.sort_values().index]\n",
    "\n",
    "# Sort Polish data frame by district\n",
    "PL_re = PL_re.ix[PL_re.district.sort_values().index]"
   ]
  },
  {
   "cell_type": "markdown",
   "metadata": {},
   "source": [
    "## 8.4 Merge country data for SQL-output"
   ]
  },
  {
   "cell_type": "code",
   "execution_count": 19,
   "metadata": {
    "collapsed": true
   },
   "outputs": [],
   "source": [
    "# Merge country DataFrames for SQLlite-file\n",
    "EU_re = pd.concat([DE_re, DK_re, FR_re, PL_re])"
   ]
  },
  {
   "cell_type": "markdown",
   "metadata": {},
   "source": [
    "# 9. Output\n",
    "This section finally writes the data package:\n",
    "* CSV + XLSX + SQLite of the power plant lists\n",
    "* CSV of the time series\n",
    "* Meta data (JSON)"
   ]
  },
  {
   "cell_type": "markdown",
   "metadata": {},
   "source": [
    "## 9.1 Settings"
   ]
  },
  {
   "cell_type": "code",
   "execution_count": 20,
   "metadata": {
    "collapsed": true
   },
   "outputs": [],
   "source": [
    "path_package = 'output/renewable_power_plants'\n",
    "\n",
    "os.makedirs(path_package, exist_ok=True)"
   ]
  },
  {
   "cell_type": "markdown",
   "metadata": {},
   "source": [
    "## 9.2 Write power plant lists"
   ]
  },
  {
   "cell_type": "markdown",
   "metadata": {},
   "source": [
    "** Write CSV-files**\n",
    "\n",
    "_This process will take some time: ~10-15 minutes_\n",
    "\n",
    "One csv-file for each country. "
   ]
  },
  {
   "cell_type": "code",
   "execution_count": 10,
   "metadata": {
    "collapsed": false
   },
   "outputs": [
    {
     "ename": "NameError",
     "evalue": "name 'path_package' is not defined",
     "output_type": "error",
     "traceback": [
      "\u001b[0;31m---------------------------------------------------------------------------\u001b[0m",
      "\u001b[0;31mNameError\u001b[0m                                 Traceback (most recent call last)",
      "\u001b[0;32m<ipython-input-10-ce42426fe0ee>\u001b[0m in \u001b[0;36m<module>\u001b[0;34m()\u001b[0m\n\u001b[1;32m      1\u001b[0m \u001b[0;31m# Germany\u001b[0m\u001b[0;34m\u001b[0m\u001b[0;34m\u001b[0m\u001b[0m\n\u001b[0;32m----> 2\u001b[0;31m DE_re.to_csv(path_package + '/renewable_power_plants_DE.csv',\n\u001b[0m\u001b[1;32m      3\u001b[0m              \u001b[0msep\u001b[0m\u001b[0;34m=\u001b[0m\u001b[0;34m','\u001b[0m\u001b[0;34m,\u001b[0m\u001b[0;34m\u001b[0m\u001b[0m\n\u001b[1;32m      4\u001b[0m              \u001b[0mdecimal\u001b[0m\u001b[0;34m=\u001b[0m\u001b[0;34m'.'\u001b[0m\u001b[0;34m,\u001b[0m\u001b[0;34m\u001b[0m\u001b[0m\n\u001b[1;32m      5\u001b[0m              \u001b[0mdate_format\u001b[0m\u001b[0;34m=\u001b[0m\u001b[0;34m'%Y-%m-%d'\u001b[0m\u001b[0;34m,\u001b[0m\u001b[0;34m\u001b[0m\u001b[0m\n",
      "\u001b[0;31mNameError\u001b[0m: name 'path_package' is not defined"
     ]
    }
   ],
   "source": [
    "# Germany\n",
    "DE_re.to_csv(path_package + '/renewable_power_plants_DE.csv',\n",
    "             sep=',',\n",
    "             decimal='.',\n",
    "             date_format='%Y-%m-%d',\n",
    "             encoding='utf-8',\n",
    "             index=False,\n",
    "             if_exists=\"replace\")"
   ]
  },
  {
   "cell_type": "code",
   "execution_count": 102,
   "metadata": {
    "collapsed": true
   },
   "outputs": [],
   "source": [
    "# Denmark\n",
    "DK_re.to_csv(path_package + '/renewable_power_plants_DK.csv',\n",
    "             sep=',',\n",
    "             decimal='.',\n",
    "             date_format='%Y-%m-%d',\n",
    "             encoding='utf-8',\n",
    "             index=False,\n",
    "             if_exists=\"replace\")"
   ]
  },
  {
   "cell_type": "code",
   "execution_count": 103,
   "metadata": {
    "collapsed": true
   },
   "outputs": [],
   "source": [
    "# France\n",
    "FR_re.to_csv(path_package + '/renewable_power_plants_FR.csv',\n",
    "             sep=',',\n",
    "             decimal='.',\n",
    "             date_format='%Y-%m-%d',\n",
    "             encoding='utf-8',\n",
    "             index=False,\n",
    "             if_exists=\"replace\")"
   ]
  },
  {
   "cell_type": "code",
   "execution_count": 104,
   "metadata": {
    "collapsed": true
   },
   "outputs": [],
   "source": [
    "# Denmark\n",
    "PL_re.to_csv(path_package + '/renewable_power_plants_PL.csv',\n",
    "             sep=',',\n",
    "             decimal='.',\n",
    "             date_format='%Y-%m-%d',\n",
    "             encoding='utf-8',\n",
    "             index=False,\n",
    "             if_exists=\"replace\")"
   ]
  },
  {
   "cell_type": "markdown",
   "metadata": {},
   "source": [
    "** Write XLSX-file**\n",
    "\n",
    "_This process will take some time: 20 min and more_\n",
    "\n",
    "All country power plant list will be written in one xlsx-file. Each country power plant list is written in a separate sheet. As the German power plant list has to many entries for one sheet, it will be split in two. An additional sheet includes the explanations of the marker"
   ]
  },
  {
   "cell_type": "code",
   "execution_count": 19,
   "metadata": {
    "collapsed": true
   },
   "outputs": [],
   "source": [
    "# Read csv of Marker Explanations\n",
    "validation = pd.read_csv('input/validation_marker.csv',\n",
    "                         sep=',', header=0)"
   ]
  },
  {
   "cell_type": "code",
   "execution_count": 22,
   "metadata": {
    "collapsed": false
   },
   "outputs": [
    {
     "ename": "AttributeError",
     "evalue": "'DataFrame' object has no attribute 'to_pickls'",
     "output_type": "error",
     "traceback": [
      "\u001b[0;31m---------------------------------------------------------------------------\u001b[0m",
      "\u001b[0;31mAttributeError\u001b[0m                            Traceback (most recent call last)",
      "\u001b[0;32m<ipython-input-22-036f166fcfc2>\u001b[0m in \u001b[0;36m<module>\u001b[0;34m()\u001b[0m\n\u001b[1;32m      3\u001b[0m \u001b[0mFR_re\u001b[0m\u001b[0;34m.\u001b[0m\u001b[0mto_pickle\u001b[0m\u001b[0;34m(\u001b[0m\u001b[0;34m'FR_re_before_output.pickle'\u001b[0m\u001b[0;34m)\u001b[0m\u001b[0;34m\u001b[0m\u001b[0m\n\u001b[1;32m      4\u001b[0m \u001b[0mPL_re\u001b[0m\u001b[0;34m.\u001b[0m\u001b[0mto_pickle\u001b[0m\u001b[0;34m(\u001b[0m\u001b[0;34m'PL_re_before_output.pickle'\u001b[0m\u001b[0;34m)\u001b[0m\u001b[0;34m\u001b[0m\u001b[0m\n\u001b[0;32m----> 5\u001b[0;31m \u001b[0mEU_re\u001b[0m\u001b[0;34m.\u001b[0m\u001b[0mto_pickls\u001b[0m\u001b[0;34m(\u001b[0m\u001b[0;34m'EU_re_before_output.pickle'\u001b[0m\u001b[0;34m)\u001b[0m\u001b[0;34m\u001b[0m\u001b[0m\n\u001b[0m",
      "\u001b[0;32m/home/frauke/.local/lib/python3.5/site-packages/pandas/core/generic.py\u001b[0m in \u001b[0;36m__getattr__\u001b[0;34m(self, name)\u001b[0m\n\u001b[1;32m   2670\u001b[0m             \u001b[0;32mif\u001b[0m \u001b[0mname\u001b[0m \u001b[0;32min\u001b[0m \u001b[0mself\u001b[0m\u001b[0;34m.\u001b[0m\u001b[0m_info_axis\u001b[0m\u001b[0;34m:\u001b[0m\u001b[0;34m\u001b[0m\u001b[0m\n\u001b[1;32m   2671\u001b[0m                 \u001b[0;32mreturn\u001b[0m \u001b[0mself\u001b[0m\u001b[0;34m[\u001b[0m\u001b[0mname\u001b[0m\u001b[0;34m]\u001b[0m\u001b[0;34m\u001b[0m\u001b[0m\n\u001b[0;32m-> 2672\u001b[0;31m             \u001b[0;32mreturn\u001b[0m \u001b[0mobject\u001b[0m\u001b[0;34m.\u001b[0m\u001b[0m__getattribute__\u001b[0m\u001b[0;34m(\u001b[0m\u001b[0mself\u001b[0m\u001b[0;34m,\u001b[0m \u001b[0mname\u001b[0m\u001b[0;34m)\u001b[0m\u001b[0;34m\u001b[0m\u001b[0m\n\u001b[0m\u001b[1;32m   2673\u001b[0m \u001b[0;34m\u001b[0m\u001b[0m\n\u001b[1;32m   2674\u001b[0m     \u001b[0;32mdef\u001b[0m \u001b[0m__setattr__\u001b[0m\u001b[0;34m(\u001b[0m\u001b[0mself\u001b[0m\u001b[0;34m,\u001b[0m \u001b[0mname\u001b[0m\u001b[0;34m,\u001b[0m \u001b[0mvalue\u001b[0m\u001b[0;34m)\u001b[0m\u001b[0;34m:\u001b[0m\u001b[0;34m\u001b[0m\u001b[0m\n",
      "\u001b[0;31mAttributeError\u001b[0m: 'DataFrame' object has no attribute 'to_pickls'"
     ]
    }
   ],
   "source": [
    "DE_re.to_pickle('DE_re_before_output.pickle')\n",
    "DK_re.to_pickle('DK_re_before_output.pickle')\n",
    "FR_re.to_pickle('FR_re_before_output.pickle')\n",
    "PL_re.to_pickle('PL_re_before_output.pickle')\n",
    "EU_re.to_pickle('EU_re_before_output.pickle')"
   ]
  },
  {
   "cell_type": "code",
   "execution_count": 23,
   "metadata": {
    "collapsed": false
   },
   "outputs": [
    {
     "name": "stdout",
     "output_type": "stream",
     "text": [
      "Preparing writer\n",
      "CPU times: user 0 ns, sys: 4 ms, total: 4 ms\n",
      "Wall time: 23.3 ms\n",
      "Writing DK\n",
      "CPU times: user 1min 51s, sys: 1.21 s, total: 1min 52s\n",
      "Wall time: 1min 57s\n",
      "Writing FR\n",
      "CPU times: user 21.9 s, sys: 12 ms, total: 21.9 s\n",
      "Wall time: 21.9 s\n",
      "Writing PL\n",
      "CPU times: user 292 ms, sys: 0 ns, total: 292 ms\n",
      "Wall time: 292 ms\n",
      "Writing DE part 1\n",
      "CPU times: user 24min 50s, sys: 9.46 s, total: 24min 59s\n",
      "Wall time: 25min 30s\n",
      "Writing validation\n",
      "CPU times: user 0 ns, sys: 8 ms, total: 8 ms\n",
      "Wall time: 31.6 ms\n",
      "Saving...\n",
      "CPU times: user 11min 8s, sys: 10.3 s, total: 11min 18s\n",
      "Wall time: 11min 41s\n",
      "...done!\n"
     ]
    }
   ],
   "source": [
    "print('Preparing writer')\n",
    "# Write the results as xlsx file\n",
    "%time writer = pd.ExcelWriter(path_package + '/renewable_power_plants.xlsx',engine='xlsxwriter',date_format='yyyy-mm-dd')\n",
    "\n",
    "print('Writing DK')\n",
    "%time DK_re.to_excel(writer, index=False, sheet_name='DK')\n",
    "\n",
    "print('Writing FR')\n",
    "%time FR_re.to_excel(writer, index=False, sheet_name='FR')\n",
    "\n",
    "print('Writing PL')\n",
    "%time PL_re.to_excel(writer, index=False, sheet_name='PL')\n",
    "\n",
    "print('Writing DE part 1')\n",
    "%time DE_re[:1000000].to_excel(writer, index=False, sheet_name='DE part-1')\n",
    "\n",
    "#print('Writing DE part 2')\n",
    "#%time DE_re[1000000:].to_excel(writer, index=False, sheet_name='DE part-2')\n",
    "\n",
    "print('Writing validation')\n",
    "# The explanation of validation markers is added as a sheet\n",
    "%time validation.to_excel(writer, index=False, sheet_name='validation_marker')\n",
    "\n",
    "print('Saving...')\n",
    "# Close the Pandas Excel writer and output the Excel file.\n",
    "%time writer.save()\n",
    "print('...done!')"
   ]
  },
  {
   "cell_type": "markdown",
   "metadata": {},
   "source": [
    "**Write SQLite**"
   ]
  },
  {
   "cell_type": "code",
   "execution_count": 28,
   "metadata": {
    "collapsed": false
   },
   "outputs": [],
   "source": [
    "# Write the results to sqlite database\n",
    "EU_re.to_sql('renewable_power_plants_germany',\n",
    "                        sqlite3.connect(path_package +\n",
    "                                        '/renewable_power_plants.sqlite'),\n",
    "                        if_exists=\"replace\")"
   ]
  },
  {
   "cell_type": "markdown",
   "metadata": {},
   "source": [
    "## 9.3 Write time series"
   ]
  },
  {
   "cell_type": "code",
   "execution_count": 70,
   "metadata": {
    "collapsed": false
   },
   "outputs": [],
   "source": [
    "# Write daily cumulated time series as csv\n",
    "timeseries_daily.to_csv(path_package + '/renewable_capacity_timeseries_DE.csv',\n",
    "                        sep=',',\n",
    "                        float_format='%.3f',\n",
    "                        decimal='.',\n",
    "                        date_format='%Y-%m-%dT%H:%M:%S%z',\n",
    "                        encoding='utf-8',\n",
    "                        if_exists=\"replace\")"
   ]
  },
  {
   "cell_type": "markdown",
   "metadata": {
    "collapsed": true
   },
   "source": [
    "## 9.4 Write meta data\n",
    "\n",
    "The data packages meta data are created in the specific JSON format as proposed by the Open Knowledge Foundation. Please see the Frictionless Data project by OKFN (http://data.okfn.org/) and the Data Package specifications (http://dataprotocols.org/data-packages/) for more details.\n",
    "\n",
    "In order to keep the notebook more readable the metadata is written in the human-readable YAML format using a multi-line string and then parse the string into a Python dictionary and save is as a JSON file."
   ]
  },
  {
   "cell_type": "code",
   "execution_count": 73,
   "metadata": {
    "collapsed": false
   },
   "outputs": [],
   "source": [
    "metadata = \"\"\"\n",
    "name: opsd-renewable-power-plants\n",
    "title: List of renewable power plants\n",
    "description: >-\n",
    "    This data package contains a list of renewable energy power plants in lists of \n",
    "    renewable energy-based power plants of Germany, Denmark, France and Poland. \n",
    "    Germany: More than 1.7 million renewable power plant entries, eligible under the \n",
    "    renewable support scheme (EEG). \n",
    "    Denmark: Wind and phovoltaic power plants with a high level of detail. \n",
    "    France: Aggregated capacity and number of installations per energy source per \n",
    "    municipality (Commune). \n",
    "    Poland: Summed capacity and number of installations per energy source \n",
    "    per municipality (Powiat). \n",
    "    Due to different data availability, the power plant lists are of different \n",
    "    accurancy and partly provide different power plant parameter. Due to that, the \n",
    "    lists are provided as seperate csv-files per country and as separate sheets in the\n",
    "    excel file. Additionally, the datapackage includes a daily time series of cumulated\n",
    "    installed capacity per energy source type for Germany. All data processing is \n",
    "    conducted in python and pandas and has been documented in the Jupyter notebooks \n",
    "    linked below. \n",
    "version: \"2016-09-09\"\n",
    "keywords: [master data register,power plants,renewables,germany,denmark,france,poland]\n",
    "geographical-scope: Germany,Denmark,France,Poland\n",
    "resources:\n",
    "    - path: renewable_power_plants_DE.csv\n",
    "      format: csv\n",
    "      schema:         \n",
    "          fields:\n",
    "            - name: commissioning_date\n",
    "              type: date\n",
    "              format: YYYY-MM-DD\n",
    "            - name: decommissioning_date\n",
    "              type: date\n",
    "              format: YYYY-MM-DD\n",
    "            - name: energy_source\n",
    "              description: Type of energy source (e.g. Wind)\n",
    "              type: string\n",
    "            - name: energy_source_subtype\n",
    "              description: Subtype of energy source (e.g. Onshore)\n",
    "              type: string\n",
    "            - name: electrical_capacity_kW\n",
    "              description: Installed electrical capacity in kW\n",
    "              type: number\n",
    "              format: float\n",
    "              unit: kW\n",
    "            - name: thermal_capacity\n",
    "              description: Installed thermal capacity in kW\n",
    "              type: number\n",
    "              format: float\n",
    "              unit: kW\n",
    "            - name: voltage_level\n",
    "              description: Voltage level of grid connection\n",
    "              type: string\n",
    "            - name: tso\n",
    "              description: Name of transmission system operator of the area the plant is located\n",
    "              type: string\n",
    "            - name: dso\n",
    "              description: Name of distribution system operator of the region the plant is located in\n",
    "              type: string\n",
    "            - name: dso_id\n",
    "              description: Company number of German distribution grid operator\n",
    "              type: string\n",
    "            - name: eeg_id\n",
    "              description: Power plant EEG (German feed-in tariff law) remuneration number\n",
    "              type: string\n",
    "            - name: bnetza_id\n",
    "              description: Power plant identification number by BNetzA\n",
    "              type: string\n",
    "            - name: federal_state\n",
    "              description: Name of German administrative level 'Bundesland'\n",
    "              type: string\n",
    "            - name: postcode\n",
    "              description: German zip-code\n",
    "              type: string\n",
    "            - name: municipality_code\n",
    "              description: German Gemeindenummer (municipalitiy number)\n",
    "              type: string\n",
    "            - name: municipality\n",
    "              description: Name of German Gemeinde (municipality)\n",
    "              type: string\n",
    "            - name: address\n",
    "              description: Street name or name of land parcel\n",
    "              type: string\n",
    "            - name: address_number\n",
    "              description: House number or number of land parcel\n",
    "              type: string\n",
    "            - name: utm_zone\n",
    "              description: Universal Transverse Mercator zone value\n",
    "              type: \n",
    "            - name: utm_east\n",
    "              description: Coordinate in Universal Transverse Mercator (east)\n",
    "              type: numeric\n",
    "              format: float\n",
    "            - name: utm_north\n",
    "              description: Coordinate in Universal Transverse Mercator (north)\n",
    "              type: numeric\n",
    "              format: float\n",
    "            - name: latitude\n",
    "              description: Latitude coordinates\n",
    "              type: geopoint\n",
    "              format: lat\n",
    "            - name: longitude\n",
    "              description: Longitude coordinates \n",
    "              type: geopoint\n",
    "              format: lon\n",
    "            - name: data_source\n",
    "              description: Source of database entry\n",
    "              type: string\n",
    "            - name: comment\n",
    "              description: Validation comments\n",
    "              type: string\n",
    "    - path: renewable_power_plants_DK.csv\n",
    "      format: csv\n",
    "      schema:\n",
    "          fields:\n",
    "            - name: commissioning_date\n",
    "              type: date\n",
    "              format: YYYY-MM-DD\n",
    "            - name: energy_source\n",
    "              description: Type of energy source (e.g. Wind)\n",
    "              type: string\n",
    "            - name: energy_source_subtype\n",
    "              description: Subtype of energy source (e.g. Onshore)\n",
    "              type: string\n",
    "            - name: electrical_capacity_kW\n",
    "              description: Installed electrical capacity in kW\n",
    "              type: number\n",
    "              format: float\n",
    "            - name: tso\n",
    "              description: Name of transmission system operator of the area the plant is located\n",
    "              type: string\n",
    "            - name: dso\n",
    "              description: Name of distribution system operator of the region the plant is located in\n",
    "              type: string\n",
    "            - name: gsrn_id\n",
    "              description: Danish wind turbine identifier number (GSRN)\n",
    "              type: number\n",
    "              format: integer\n",
    "            - name: postcode\n",
    "              description: Danish zip-code\n",
    "              type: string\n",
    "            - name: municipality_code\n",
    "              description: Danish 3-digit Kommune-Nr\n",
    "              type: string\n",
    "            - name: municipality\n",
    "              description: Name of Danish Kommune\n",
    "              type: string\n",
    "            - name: address\n",
    "              description: Street name or name of land parcel\n",
    "              type: string\n",
    "            - name: address_number\n",
    "              description: House number or number of land parcel\n",
    "              type: string\n",
    "            - name: utm_east\n",
    "              description: Coordinate in Universal Transverse Mercator (east)\n",
    "              type: numeric\n",
    "              format: float\n",
    "            - name: utm_north\n",
    "              description: Coordinate in Universal Transverse Mercator (north)\n",
    "              type: numeric\n",
    "              format: float\n",
    "            - name: latitude\n",
    "              description: Latitude coordinates\n",
    "              type: geopoint\n",
    "              format: lat\n",
    "            - name: longitude\n",
    "              description: Longitude coordinates \n",
    "              type: geopoint\n",
    "              format: lon\n",
    "            - name: hub_height\n",
    "              description: Wind turbine hub heigth in m\n",
    "              type: numeric\n",
    "              format: float\n",
    "            - name: rotor_diameter\n",
    "              description: Wind turbine rotor diameter in m\n",
    "              type: numeric\n",
    "              format: float\n",
    "            - name: manufacturer\n",
    "              description: Company that has built the wind turbine\n",
    "              type: string\n",
    "            - name: model\n",
    "              description: Wind turbind model type\n",
    "              type: string\n",
    "            - name: data_source\n",
    "              description: Source of database entry\n",
    "              type: string\n",
    "    - path: renewable_power_plants_FR.csv\n",
    "      format: csv\n",
    "      schema:\n",
    "          fields:\n",
    "            - name: municipality_code\n",
    "              description: French 5-digit INSEE code for Communes\n",
    "              type: string\n",
    "            - name: municipality\n",
    "              description: Name of French Commune\n",
    "              type: string\n",
    "            - name: energy_source\n",
    "              description: Type of energy source (e.g. Wind)\n",
    "              type: string\n",
    "            - name: energy_source_subtype\n",
    "              description: Subtype of energy source (e.g. Onshore)\n",
    "              type: string\n",
    "            - name: electrical_capacity_kW\n",
    "              description: Installed electrical capacity in kW\n",
    "              type: number\n",
    "              format: float\n",
    "            - name: number_of_installations\n",
    "              description: Number of installations of the energy source subtype in the municipality\n",
    "              type: number\n",
    "              format: integer\n",
    "            - name: latitude\n",
    "              description: Latitude coordinates\n",
    "              type: geopoint\n",
    "              format: lat\n",
    "            - name: longitude\n",
    "              description: Longitude coordinates \n",
    "              type: geopoint\n",
    "              format: lon\n",
    "            - name: data_source\n",
    "              description: Source of database entry\n",
    "              type: string\n",
    "    - path: renewable_power_plants_PL.csv\n",
    "      format: csv\n",
    "      schema:\n",
    "          fields:\n",
    "            - name: district\n",
    "              description: Name of the Polish powiat\n",
    "              type: string\n",
    "            - name: energy_source\n",
    "              description: Type of energy source (e.g. Wind)\n",
    "              type: string\n",
    "            - name: energy_source_subtype\n",
    "              description: Subtype of energy source (e.g. Onshore)\n",
    "              type: string\n",
    "            - name: electrical_capacity_kW\n",
    "              description: Installed electrical capacity in kW\n",
    "              type: number\n",
    "              format: float\n",
    "            - name: number_of_installations\n",
    "              description: Number of installations of the energy source subtype in the district\n",
    "              type: number\n",
    "              format: integer\n",
    "            - name: data_source\n",
    "              description: Source of database entry\n",
    "              type: string\n",
    "    - path: renewable_power_plants.xlsx\n",
    "      format: xlsx\n",
    "    - path: validation_marker.csv\n",
    "      format: csv\n",
    "      mediatype: text/csv\n",
    "      schema:         \n",
    "          fields:\n",
    "            - name: Validation_Marker\n",
    "              description: Name of validation marker utilized in column comment in the renewable_power_plant_germany.csv\n",
    "              type: string\n",
    "            - name: Explanation\n",
    "              description: Comment explaining meaning of validation marker\n",
    "              type: string\n",
    "    - path: renewable_capacity_germany_timeseries.csv\n",
    "      format: csv\n",
    "      mediatype: text/csv\n",
    "      schema:         \n",
    "          fields:\n",
    "            - name: timestamp\n",
    "              description: Start time of the day\n",
    "              type: datetime\n",
    "              format: YYYY-MM-DDThh:mm:ssZ\n",
    "            - name: capacity_biomass_de\n",
    "              description: Cumulated biomass electrical capacity\n",
    "              type: number\n",
    "            - name: capacity_wind_onshore_de\n",
    "              description: Cumulated wind onshore capacity\n",
    "              type: number\n",
    "            - name: capacity_wind_offshore_de\n",
    "              description: Cumulated wind offshore capacity\n",
    "              type: number\n",
    "            - name: capacity_solar_de\n",
    "              description: Cumulated solar capacity\n",
    "              type: number                \n",
    "            - name: capacity_gas_de\n",
    "              description: Cumulated gas electrical capacity\n",
    "              type: number  \n",
    "            - name: capacity_geothermal_de\n",
    "              description: Cumulated geothermal electrical capacity\n",
    "              type: number \n",
    "            - name: capacity_hydro_de\n",
    "              description: Cumulated hydro capacity\n",
    "              type: number  \n",
    "licenses:\n",
    "    - type: MIT license\n",
    "      url: http://www.opensource.org/licenses/MIT\n",
    "sources:\n",
    "    - name: BNetzA\n",
    "      web: http://www.bundesnetzagentur.de/cln_1422/DE/Sachgebiete/ElektrizitaetundGas/Unternehmen_Institutionen/ErneuerbareEnergien/Anlagenregister/Anlagenregister_Veroeffentlichung/Anlagenregister_Veroeffentlichungen_node.html\n",
    "      source: Bundesnetzagentur register of renewable power plants (excl. PV)\n",
    "    - name: BNetzA_PV\n",
    "      web: http://www.bundesnetzagentur.de/cln_1431/DE/Sachgebiete/ElektrizitaetundGas/Unternehmen_Institutionen/ErneuerbareEnergien/Photovoltaik/DatenMeldgn_EEG-VergSaetze/DatenMeldgn_EEG-VergSaetze_node.html    \n",
    "      source: Bundesnetzagentur register of PV power plants\n",
    "    - name: TransnetBW, TenneT, Amprion, 50Hertz, Netztransparenz.de\n",
    "      web: https://www.netztransparenz.de/de/Anlagenstammdaten.htm\n",
    "      source: Netztransparenz.de - information platform of German TSOs (register of renewable power plants in their control area)\n",
    "    - name: Postleitzahlen Deutschland\n",
    "      web: http://www.suche-postleitzahl.org/downloads\n",
    "      source: Zip codes of Germany linked to geo-information\n",
    "    - name: Energinet.dk\n",
    "      web: http://www.energinet.dk/SiteCollectionDocuments/Danske%20dokumenter/El/SolcelleGraf.xlsx\n",
    "      source: register of Danish wind power plants\n",
    "    - name: Energistyrelsen\n",
    "      web: http://www.ens.dk/sites/ens.dk/files/info/tal-kort/statistik-noegletal/oversigt-energisektoren/stamdataregister-vindmoeller/anlaegprodtilnettet.xls    \n",
    "      source: ens.dk - register of Danish PV power plants\n",
    "    - name: GeoNames\n",
    "      web: http://download.geonames.org/export/zip/DK.zip\n",
    "      source: geonames.org\n",
    "    - name: French Ministery of the Environment, Energy and the Sea\n",
    "      web: http://www.statistiques.developpement-durable.gouv.fr/energie-climat/r/energies-renouvelables.html?tx_ttnews[tt_news]=20647\n",
    "      source: register of renewable power plants by generation type and municipality\n",
    "    - name: OpenDataSoft\n",
    "      web: http://public.opendatasoft.com/explore/dataset/correspondance-code-insee-code-postal/download/'\\\n",
    "           '?format=csv&refine.statut=Commune%20simple&timezone=Europe/Berlin&use_labels_for_header=true\n",
    "      source: Code Postal - Code INSEE\n",
    "    - name: Urzad Regulacji Energetyki (URE)\n",
    "      web: http://www.ure.gov.pl/uremapoze/mapa.html\n",
    "      source: Energy Regulatory Office of Poland\n",
    "maintainers:\n",
    "    - name: Frauke Wiese\n",
    "      email: frauke.wiese@uni-flensburg.de\n",
    "      web: http://open-power-system-data.org/\n",
    "views: True\n",
    "openpowersystemdata-enable-listing: True\n",
    "opsd-jupyter-notebook-url: https://github.com/Open-Power-System-Data/datapackage_renewable_power_plants/blob/2016-08-25/main.ipynb\n",
    "opsd-changes-to-last-version: Included Danish, French and Polish data\n",
    "\"\"\"\n",
    "\n",
    "metadata = yaml.load(metadata)\n",
    "\n",
    "datapackage_json = json.dumps(metadata, indent=4, separators=(',', ': '))\n",
    "\n",
    "# Write the information of the metadata\n",
    "with open(os.path.join(path_package, 'datapackage.json'), 'w') as f:\n",
    "    f.write(datapackage_json)"
   ]
  },
  {
   "cell_type": "code",
   "execution_count": null,
   "metadata": {
    "collapsed": true
   },
   "outputs": [],
   "source": []
  }
 ],
 "metadata": {
  "kernelspec": {
   "display_name": "Python 3",
   "language": "python",
   "name": "python3"
  },
  "language_info": {
   "codemirror_mode": {
    "name": "ipython",
    "version": 3
   },
   "file_extension": ".py",
   "mimetype": "text/x-python",
   "name": "python",
   "nbconvert_exporter": "python",
   "pygments_lexer": "ipython3",
   "version": "3.5.2"
  },
  "latex_envs": {
   "bibliofile": "biblio.bib",
   "cite_by": "apalike",
   "current_citInitial": 1,
   "eqLabelWithNumbers": true,
   "eqNumInitial": 0
  }
 },
 "nbformat": 4,
 "nbformat_minor": 0
}
