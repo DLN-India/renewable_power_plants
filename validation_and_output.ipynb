{
 "cells": [
  {
   "cell_type": "markdown",
   "metadata": {},
   "source": [
    "# Open Power System Data: Renewable Energy Power Plant List\n",
    "\n",
    "## Part 2: Validation and Output\n",
    "\n",
    "Part 1 of the script has downloaded and merged the original data from the sources.\n",
    "\n",
    "Part 2 subsequently checks, validates the list of renewable power plants and creates CSV/XLSX/SQLite files. It also generates a daily timeseries of cumulated installed capacities by energy source.\n",
    "\n",
    "*(Before running this script make sure you ran Part 1.)*\n"
   ]
  },
  {
   "cell_type": "markdown",
   "metadata": {},
   "source": [
    "# Table of contents \n",
    "\n",
    "* [Script Setup](#Script-Setup)\n",
    "* [Load Part 1-Data](#Load-Part-1-Data)\n",
    "* [4 Data Validation ](#4-Data-Validation)\n",
    "    * [4.1 Criteria for Suspect Data](##4.1-Criteria-for-Suspect-Data)\n",
    "    * [4.2 Overview over Suspect Entries](##4.2-Overview-over-Suspect-Entries)\n",
    "\n",
    "* [5. Cleaning Data Frame](#5.-Cleaning-Data-Frame)\n",
    "    * [5.1 Correction of Data](##5.1-Correction-of-Data)\n",
    "    * [5.2 Delete Suspect Data](##5.2-Delete-Suspect-Data)\n",
    "\n",
    "* [6. Time Series, Comparison and Plots](#6-Time-Series,-Comparison-and-Plots)\n",
    "    * [6.1 Creating the Time Series](##6.1-Creating-the-Time-Series)\n",
    "    * [6.2 Comparison Plots with BMWi Data](##6.2-Comparison-Plots-with-BMWi-Data)\n",
    "\n",
    "* [7. Documentation and data package](#7.-Documentation-and-data-package)\n",
    "     * [7.1 Write Power Plant List](##7.1-Write-Power-Plant-List)\n",
    "     * [7.2 Write Time Series](##7.2-Write-Time-Series)\n",
    "     * [7.3 Writing Meta Data](##7.3-Writing-Meta-Data)\n"
   ]
  },
  {
   "cell_type": "markdown",
   "metadata": {},
   "source": [
    "# Script Setup"
   ]
  },
  {
   "cell_type": "code",
   "execution_count": null,
   "metadata": {
    "collapsed": false,
    "scrolled": true
   },
   "outputs": [],
   "source": [
    "# importing all necessary Python libraries for this Script\n",
    "#%matplotlib inline\n",
    "\n",
    "import json\n",
    "import yaml  \n",
    "import posixpath\n",
    "import os\n",
    "import numpy as np\n",
    "import pandas as pd\n",
    "import datetime  \n",
    "import sqlite3 \n",
    "import utm\n",
    "import logging\n",
    "import openpyxl\n",
    "import xlsxwriter\n",
    "from bokeh.charts import Scatter, Line,Bar, show, output_file\n",
    "from bokeh.io import output_notebook\n",
    "output_notebook()\n",
    "\n",
    "# Set up a log\n",
    "logger = logging.getLogger('notebook')\n",
    "logger.setLevel('INFO')\n",
    "nb_root_logger = logging.getLogger()\n",
    "formatter = logging.Formatter('%(asctime)s - %(name)s - %(levelname)s'\\\n",
    "                              '- %(message)s',datefmt='%d %b %Y %H:%M:%S')\n",
    "nb_root_logger.handlers[0].setFormatter(formatter)\n",
    "\n",
    "# Create input and output folders if they don't exist\n",
    "os.makedirs('input/original_data', exist_ok=True)\n",
    "os.makedirs('output', exist_ok=True)\n",
    "os.makedirs('output/datapackage_renewables', exist_ok=True)"
   ]
  },
  {
   "cell_type": "markdown",
   "metadata": {},
   "source": [
    "# Load Part 1-Data"
   ]
  },
  {
   "cell_type": "code",
   "execution_count": null,
   "metadata": {
    "collapsed": false
   },
   "outputs": [],
   "source": [
    "# Read data from script Part 1\n",
    "renewables = pd.read_sql('SELECT* FROM raw_data_output',\n",
    "                          sqlite3.connect('raw_data.sqlite')\n",
    "                        )\n",
    "# Correction of date format (necessary due to SQLite-format)\n",
    "renewables['start_up_date'] = renewables['start_up_date'\n",
    "                                        ].astype('datetime64[ns]')\n",
    "renewables['decommission_date'] = renewables['decommission_date'\n",
    "                                            ].astype('datetime64[ns]')\n",
    "\n",
    "renewables.info()"
   ]
  },
  {
   "cell_type": "markdown",
   "metadata": {
    "collapsed": true
   },
   "source": [
    "# 4 Data Validation \n",
    "\n",
    "-- *Work in progress* --\n",
    "\n",
    "Due to the limitation of information in the data set of Netztransparenz and the BNetzA-PV data set a validation of duplicates is almost impossible until 2014. Reasons are e.g. the shortened EEG remuneration number in the published data (due to data privacy) from 33 to 15 characters and the reduction of the post code on from 5 to 3 characters. Thus there is no unique identifier possible for each individual power plant that would allow the check for duplicates etc.\n",
    "\n",
    "This section checks the data frame for a set of pre-defined criteria and adds markers to the entries. At the end an overview of the marked data is given.\n",
    "\n",
    "\n",
    "## 4.1 Criteria for Suspect Data\n",
    "\n",
    "|Marker| Validation criteria  |\n",
    "|---|----|\n",
    "|**(R_1)** |The data frame overlaps in date of the record until 2014-12-31 because of merging the different data sources. All entries from the BNetzA get a marker because of a very high probability of duplication.|\n",
    "|**(R_2)** |The start_up_date column has no entry (NA/Null)|\n",
    "|**(R_3)**|All power plant entries which do not have \"start up (Inbetriebnahme)\" listed as reason for their entry will get a marker. *<font size=\"2\">Explanation: The BNetzA power plant list entries include a reason for their entry, e.g. \"start up\", \"retrofit\" etc. If another reason than \"start up\" is given it means that the power plant is already existing and thus most likely already included in our data set. Due to the missing unique identifier and no possiblity to check for duplicates it is likely that those entries are duplicates.</font>* |\n",
    "|**(R_4)**|start_up_date of PV system is older than 1975.|\n",
    "|**(R_5)** |energy_source contains '#NV' value.|\n",
    "|**(R_6)** |electrical_capacity is not specified.|\n",
    "|**...**|*more to come*|"
   ]
  },
  {
   "cell_type": "code",
   "execution_count": null,
   "metadata": {
    "collapsed": false
   },
   "outputs": [],
   "source": [
    "# Reorder data frame by start-up date\n",
    "renewables = renewables.ix[pd.to_datetime(renewables.start_up_date\n",
    "                                         ).sort_values().index]"
   ]
  },
  {
   "cell_type": "markdown",
   "metadata": {},
   "source": [
    "**Add marker to data according to criteria (see above)**"
   ]
  },
  {
   "cell_type": "code",
   "execution_count": null,
   "metadata": {
    "collapsed": false
   },
   "outputs": [],
   "source": [
    "# Create empty marker column\n",
    "renewables['comment'] = \"\"\n",
    "\n",
    "# Validation criteria (R_1) for source BNetzA\n",
    "idx_date = renewables[(renewables['start_up_date'] <= '2014-12-31') \n",
    "                      & (renewables['source'] == 'BNetzA')].index\n",
    "\n",
    "renewables.loc[idx_date,'comment'] = (renewables.loc[idx_date,'comment'] \n",
    "                                      + \"R_1, \")\n",
    "\n",
    "# Validation criteria (R_1) for source BNetzA_PV\n",
    "idx_date_pv = renewables[(renewables['start_up_date'] <= '2014-12-31') \n",
    "                    & (renewables['source'] == 'BNetzA_PV')].index\n",
    "\n",
    "renewables.loc[idx_date_pv,'comment'] = (renewables.loc[\n",
    "                                      idx_date_pv,'comment'] + \"R_1, \")\n",
    "\n",
    "# Validation criteria (R_2)\n",
    "idx_date_null = renewables[(renewables['start_up_date'].isnull())].index\n",
    "\n",
    "renewables.loc[idx_date_null,'comment'] = (renewables.loc[\n",
    "                                        idx_date_null,'comment'] + \"R_2, \")\n",
    "\n",
    "# Validation criteria (R_3)\n",
    "idx_not_inst = renewables[(renewables['notification_reason']!= 'Inbetriebnahme')\n",
    "                     & (renewables['source'] == 'BNetzA')].index\n",
    "\n",
    "renewables.loc[idx_not_inst,'comment'] = (renewables.loc[\n",
    "                                       idx_not_inst,'comment'] + \"R_3, \")\n",
    "\n",
    "# Validation criteria (R_4)\n",
    "idx_pv_date = renewables[(renewables['start_up_date'] < '1975-01-01') \n",
    "                   & (renewables['energy_source'] == 'solar')].index\n",
    "\n",
    "renewables.loc[idx_pv_date,'comment'] = (renewables.loc[\n",
    "                                      idx_pv_date,'comment'] + \"R_4, \")\n",
    "\n",
    "# Validation criteria (R_5)\n",
    "idx_nv = renewables[renewables['energy_source'] == '#NV'].index\n",
    "\n",
    "renewables.loc[idx_nv,'comment'] = (renewables.loc[\n",
    "                                 idx_nv,'comment'] + \"R_5, \")\n",
    "\n",
    "# Validation criteria (R_6)\n",
    "idx_capacity = renewables[renewables.electrical_capacity <= 0.0].index\n",
    "\n",
    "renewables.loc[idx_capacity,'comment'] = (renewables.loc[\n",
    "                                       idx_capacity,'comment'] + \"R_6, \")"
   ]
  },
  {
   "cell_type": "markdown",
   "metadata": {},
   "source": [
    "## 4.2 Overview over Suspect Entries"
   ]
  },
  {
   "cell_type": "code",
   "execution_count": null,
   "metadata": {
    "collapsed": false
   },
   "outputs": [],
   "source": [
    "# Count entries\n",
    "renewables.groupby(['comment','source'])['comment'].count()"
   ]
  },
  {
   "cell_type": "code",
   "execution_count": null,
   "metadata": {
    "collapsed": false
   },
   "outputs": [],
   "source": [
    "# Locate suspect entires\n",
    "idx_suspect = renewables[renewables.comment.str.len() >1].index"
   ]
  },
  {
   "cell_type": "code",
   "execution_count": null,
   "metadata": {
    "collapsed": false
   },
   "outputs": [],
   "source": [
    "# Summarize electrical capacity per energy source of suspect data\n",
    "renewables.groupby(['comment','energy_source'])[\n",
    "                                        'electrical_capacity'].sum()/1000"
   ]
  },
  {
   "cell_type": "markdown",
   "metadata": {},
   "source": [
    "# 5 Cleaning Data Frame\n",
    "\n",
    "## 5.1 Correction of Data\n",
    "If hard evidence for systematic data errors exist some data errors will be corrected automatically.\n",
    "\n",
    "*No evidence for systematic data errors found yet*"
   ]
  },
  {
   "cell_type": "markdown",
   "metadata": {},
   "source": [
    "## 5.2 Delete Suspect Data\n",
    "In this section columns for the output version of the data frame will be chosen. Suspect entries are not deleted for the final output but the cleaned version without suspect entries will be used for the timeseries and plots."
   ]
  },
  {
   "cell_type": "code",
   "execution_count": null,
   "metadata": {
    "collapsed": true
   },
   "outputs": [],
   "source": [
    "# create new data frame without suspect entries\n",
    "renewables_clean = renewables.drop(idx_suspect)\n",
    "\n",
    "# define column of data frame\n",
    "\n",
    "df_columns = ['start_up_date','electrical_capacity','energy_source',\n",
    "              'energy_source_subtype','thermal_capacity','postcode','city', \n",
    "              'address','tso','lon','lat','eeg_id','power_plant_id',\n",
    "              'voltage_level','decommission_date','comment','source']"
   ]
  },
  {
   "cell_type": "markdown",
   "metadata": {},
   "source": [
    "**Create the final data frame**"
   ]
  },
  {
   "cell_type": "code",
   "execution_count": null,
   "metadata": {
    "collapsed": false
   },
   "outputs": [],
   "source": [
    "# create final data frame\n",
    "renewables_final = renewables.loc[:, df_columns]\n",
    "\n",
    "renewables_final.reset_index(drop=True)\n",
    "\n",
    "logger.info('Clean final dataframe from not needed columns')"
   ]
  },
  {
   "cell_type": "markdown",
   "metadata": {},
   "source": [
    "**Overview of data frame**\n"
   ]
  },
  {
   "cell_type": "code",
   "execution_count": null,
   "metadata": {
    "collapsed": false
   },
   "outputs": [],
   "source": [
    "# Show structure of data frame\n",
    "renewables_final.info()"
   ]
  },
  {
   "cell_type": "code",
   "execution_count": null,
   "metadata": {
    "collapsed": false
   },
   "outputs": [],
   "source": [
    "# Group and summarize data frame by energy source ans installed capacity\n",
    "renewables_final.groupby(['energy_source'])['electrical_capacity'].sum()/1000"
   ]
  },
  {
   "cell_type": "code",
   "execution_count": null,
   "metadata": {
    "collapsed": false
   },
   "outputs": [],
   "source": [
    "# Group data frame by remaining comments/markers\n",
    "renewables_final.groupby(['comment'])['comment'].count()"
   ]
  },
  {
   "cell_type": "markdown",
   "metadata": {},
   "source": [
    "# 6 Time Series, Comparison and Plots\n",
    "\n",
    "This section\n",
    "* creates a (daily) time series of the cumulated installed capacity by energy source\n",
    "* validates the data by comparing it to a timeseries by the German Federal Ministry for Economic Affairs and Energy (BMWi, Bundesministeriums für Wirtschaft und Energie) [Time series for the development of renewable energies in Germany](http://www.erneuerbare-energien.de/EE/Navigation/DE/Service/Erneuerbare_Energien_in_Zahlen/Zeitreihen/zeitreihen.html)\n",
    "* plots the data.\n",
    "\n",
    "## 6.1 Creating the Time Series\n",
    "**Downloading BMWi time series**\n",
    "If an error message is shown, check if the url_bmwi_stat is still correct. "
   ]
  },
  {
   "cell_type": "code",
   "execution_count": null,
   "metadata": {
    "collapsed": false
   },
   "outputs": [],
   "source": [
    "# Defining URL\n",
    "url_bmwi_stat  ='http://www.erneuerbare-energien.de/EE/Redaktion/DE/'\\\n",
    "                 'Downloads/zeitreihen-zur-entwicklung-der-erneuerbaren-'\\\n",
    "                 'energien-in-deutschland-1990-2015-excel.xlsx;jsessionid='\\\n",
    "                 'FFE958ADA709DCBFDD437C8A8FF7D90B?__blob=publicationFile&v=6'\n",
    "\n",
    "# Reading BMWi data\n",
    "bmwi_stat = pd.ExcelFile(url_bmwi_stat)   \n",
    "bmwi_stat = bmwi_stat.parse('4', skiprows=7, skip_footer=8)\n",
    "\n",
    "# Transform data frame and set column names\n",
    "stat = bmwi_stat.T\n",
    "stat.columns = ['bmwi_hydro', 'bmwi_wind_onshore','bmwi_wind_offshore',\n",
    "                'bmwi_solar','bmwi_biomass','bmwi_biomass_liquid',\n",
    "                'bmwi_biomass_gas','bmwi_sewage_gas', 'bmwi_landfill_gas',\n",
    "                'bmwi_geothermal','bmwi_total']\n",
    "\n",
    "# Drop Null column and set index as year\n",
    "stat = stat.drop(stat.index[[0]])\n",
    "stat.index = pd.to_datetime(stat.index,format=\"%Y\").year"
   ]
  },
  {
   "cell_type": "markdown",
   "metadata": {
    "collapsed": false,
    "scrolled": false
   },
   "source": [
    "**Create daily time series from existing data frame**"
   ]
  },
  {
   "cell_type": "code",
   "execution_count": null,
   "metadata": {
    "collapsed": false
   },
   "outputs": [],
   "source": [
    "# Additional column for chosing energy sources for timeseries\n",
    "renewables_clean['temp_energy_source'] = renewables_clean['energy_source']\n",
    "\n",
    "# Add information if onshore or offshore for wind \n",
    "idx_wind = renewables_clean[renewables_clean.energy_source == 'wind'].index\n",
    "renewables_clean.loc[idx_wind,'temp_energy_source'] = renewables_clean.loc[\n",
    "                                        idx_wind,'energy_source_subtype']\n",
    "\n",
    "# Set energy source of interest\n",
    "energy_sources = ['biomass','wind_onshore','wind_offshore','solar','gas',\n",
    "                  'geothermal','hydro']\n",
    "\n",
    "# Set date range of time series\n",
    "idx_stat = pd.date_range(start='1990-01-01', end='2016-01-01', freq='A')\n",
    "idx_ts = pd.date_range(start='2005-01-01', end='2016-01-31', freq='D')\n",
    "\n",
    "# Set range of time series as index\n",
    "data = pd.DataFrame(index=idx_ts)\n",
    "data_stat = pd.DataFrame(index=idx_stat)\n",
    "\n",
    "# Create cumulated time series per energy source for both time series\n",
    "for gtype in energy_sources:\n",
    "    \n",
    "    temp = renewables_clean[['start_up_date','electrical_capacity'\n",
    "                           ]].loc[renewables_clean['temp_energy_source'].isin(\n",
    "                                   [gtype])]\n",
    "    \n",
    "    temp_ts = temp.set_index('start_up_date')\n",
    "    \n",
    "    # Create cumulated time series per energy_source and year\n",
    "    data_stat['capacity_{0}_de'.format(gtype)]  = (\n",
    "    temp_ts.resample('A', how='sum').cumsum().fillna(method='ffill')/1000)\n",
    "    \n",
    "    # Create cumulated time series per energy_source and day\n",
    "    data['capacity_{0}_de'.format(gtype)] = temp_ts.resample('D',\n",
    "                                   how='sum').cumsum().fillna(method='ffill')/1000\n",
    "    # Set index name\n",
    "    data.index.name = 'timestamp'\n",
    "    \n",
    "data_stat.index = pd.to_datetime(data_stat.index,format=\"%Y\").year"
   ]
  },
  {
   "cell_type": "markdown",
   "metadata": {},
   "source": [
    "## 6.2 Comparison Plots with BMWi Data\n",
    "** Calculate the absolute deviation between both timeseries**"
   ]
  },
  {
   "cell_type": "code",
   "execution_count": null,
   "metadata": {
    "collapsed": true
   },
   "outputs": [],
   "source": [
    "valuation = pd.concat([data_stat, stat], axis=1)\n",
    "valuation = valuation.fillna(0)"
   ]
  },
  {
   "cell_type": "code",
   "execution_count": null,
   "metadata": {
    "collapsed": false
   },
   "outputs": [],
   "source": [
    "# Calculate absolute deviation for each year and energy source\n",
    "\n",
    "valuation['absolute_wind_onshore'] =(valuation['capacity_wind_onshore_de']\n",
    "                                 -valuation['bmwi_wind_onshore']).fillna(0)\n",
    "\n",
    "valuation['absolute_wind_offshore'] =(valuation['capacity_wind_offshore_de']\n",
    "                                 -valuation['bmwi_wind_offshore']).fillna(0)\n",
    "\n",
    "valuation['absolute_solar'] =(valuation['capacity_solar_de']\n",
    "                                  -valuation['bmwi_solar']).fillna(0)\n",
    "\n",
    "valuation['absolute_hydro'] =(valuation['capacity_hydro_de']\n",
    "                                  -valuation['bmwi_hydro']).fillna(0)\n",
    "\n",
    "valuation['absolute_geothermal'] =(valuation['capacity_geothermal_de']\n",
    "                                  -valuation['bmwi_geothermal']).fillna(0)\n",
    "\n",
    "valuation['absolute_biomass'] =(valuation['capacity_biomass_de']\n",
    "                                 -(valuation['bmwi_biomass'] \n",
    "                                  +valuation['bmwi_biomass_liquid']\n",
    "                                  +valuation['bmwi_biomass_gas'])).fillna(0)\n",
    "\n",
    "valuation['absolute_gas'] =(valuation['capacity_gas_de']\n",
    "                                 -(valuation['bmwi_sewage_gas'] \n",
    "                                  +valuation['bmwi_landfill_gas'])).fillna(0)\n",
    "\n",
    "valuation['absolute_total'] =((valuation['capacity_biomass_de']\n",
    "                              +valuation['capacity_wind_onshore_de']\n",
    "                              +valuation['capacity_wind_offshore_de']\n",
    "                              +valuation['capacity_solar_de']\n",
    "                             +valuation['capacity_gas_de']\n",
    "                             +valuation['capacity_geothermal_de']\n",
    "                             +valuation['capacity_hydro_de']\n",
    "                           ) -(valuation['bmwi_total'] )).fillna(0)"
   ]
  },
  {
   "cell_type": "markdown",
   "metadata": {},
   "source": [
    "**Plotting the absolute deviation**\n",
    "\n",
    "The graph shows the cumulative absolute deviation of the electrical capacity in MW between the OPSD data set of renewable power plants and the BMWI statistic from 1990 until 2015.<br>\n",
    "*A positive deviation means the OPSD data set has more capacity than the BMWI statistics.*"
   ]
  },
  {
   "cell_type": "code",
   "execution_count": null,
   "metadata": {
    "collapsed": false
   },
   "outputs": [],
   "source": [
    "#Plot settings for absolute deviation\n",
    "deviation_columns = ['absolute_wind_onshore','absolute_wind_offshore',\n",
    "                     'absolute_solar','absolute_hydro','absolute_biomass',\n",
    "                     'absolute_gas','absolute_total','absolute_geothermal']\n",
    "\n",
    "dataplot = valuation[deviation_columns]\n",
    "\n",
    "deviation = Line(dataplot, \n",
    "                 y = deviation_columns,\n",
    "                 dash = deviation_columns,\n",
    "                 color = deviation_columns,\n",
    "            title=\"Deviation between data set and BMWI statistic\", \n",
    "            ylabel='Deviation in MW', \n",
    "            xlabel='From 1990 till 2015',\n",
    "            legend=True)"
   ]
  },
  {
   "cell_type": "code",
   "execution_count": null,
   "metadata": {
    "collapsed": false
   },
   "outputs": [],
   "source": [
    "# Show Plot for absolute deviation\n",
    "show(deviation)"
   ]
  },
  {
   "cell_type": "markdown",
   "metadata": {},
   "source": [
    "** Calculate the relative deviation between both timeseries**"
   ]
  },
  {
   "cell_type": "code",
   "execution_count": null,
   "metadata": {
    "collapsed": false
   },
   "outputs": [],
   "source": [
    "# Relative deviation\n",
    "valuation['relative_wind_onshore'] =(valuation['absolute_wind_onshore']\n",
    "                            /valuation['bmwi_wind_onshore']).fillna(0)\n",
    "\n",
    "valuation['relative_wind_offshore'] =(valuation['absolute_wind_offshore']\n",
    "                            /valuation['bmwi_wind_offshore']).fillna(0)\n",
    "\n",
    "valuation['relative_solar'] =(valuation['absolute_solar']\n",
    "                            /(valuation['bmwi_solar'] )).fillna(0)\n",
    "\n",
    "valuation['relative_hydro'] =(valuation['absolute_hydro']\n",
    "                            /(valuation['bmwi_hydro'] )).fillna(0)\n",
    "\n",
    "valuation['relative_geothermal'] =(valuation['absolute_geothermal']\n",
    "                            /(valuation['bmwi_geothermal'])).fillna(0)\n",
    "\n",
    "valuation['relative_biomass'] =(valuation['absolute_biomass']\n",
    "                            /(valuation['bmwi_biomass'] )).fillna(0)\n",
    "\n",
    "valuation['relative_gas'] =(valuation['absolute_gas']\n",
    "                            /(valuation['bmwi_sewage_gas'] \n",
    "                             +valuation['bmwi_landfill_gas'])).fillna(0)\n",
    "\n",
    "valuation['relative_total'] =(valuation['absolute_total']\n",
    "                            /(valuation['bmwi_total'] )).fillna(0)"
   ]
  },
  {
   "cell_type": "code",
   "execution_count": null,
   "metadata": {
    "collapsed": false
   },
   "outputs": [],
   "source": [
    "# Plot settings relative deviation\n",
    "relative_column = ['relative_wind_onshore','relative_wind_offshore',\n",
    "                   'relative_solar','relative_hydro','relative_biomass',\n",
    "                   'relative_gas','relative_total']\n",
    "\n",
    "dataplot2 = valuation[relative_column]\n",
    "\n",
    "relative = Line(dataplot2*100, \n",
    "            y = relative_column,\n",
    "            dash = relative_column,\n",
    "            color = relative_column,\n",
    "            title=\"Deviation between data set and BMWI statistic\", \n",
    "            ylabel='Relative difference in percent', \n",
    "            xlabel='From 1990 till 2015',\n",
    "            legend=True)"
   ]
  },
  {
   "cell_type": "markdown",
   "metadata": {},
   "source": [
    "**Plotting the relative deviation**\n",
    "\n",
    "The graph shows the relative difference of the electrical capacity between the OPSD data set of renewable power plants and the BMWI statistic from 1990 until 2015.<br>\n",
    "*A positive value means the OPSD data set has more capacity than the BMWI statistics.*"
   ]
  },
  {
   "cell_type": "code",
   "execution_count": null,
   "metadata": {
    "collapsed": false
   },
   "outputs": [],
   "source": [
    "# Show Plot for relative deviation\n",
    "show(relative)"
   ]
  },
  {
   "cell_type": "markdown",
   "metadata": {},
   "source": [
    "**Saving deviation results in XLSX-file**"
   ]
  },
  {
   "cell_type": "code",
   "execution_count": null,
   "metadata": {
    "collapsed": true
   },
   "outputs": [],
   "source": [
    "# write results as Excel file\n",
    "valuation.to_excel('validation_report.xlsx', \n",
    "                   sheet_name='Capacities_1990_2015')"
   ]
  },
  {
   "cell_type": "markdown",
   "metadata": {},
   "source": [
    "# 7. Documentation and data package\n",
    "This section finally writes the data package:\n",
    "* CSV + XLSX + SQLite of the power plant list\n",
    "* CSV of the time series\n",
    "* Meta data (JSON)"
   ]
  },
  {
   "cell_type": "markdown",
   "metadata": {},
   "source": [
    "## 7.1 Write Power Plant List"
   ]
  },
  {
   "cell_type": "markdown",
   "metadata": {},
   "source": [
    "** Write CSV**"
   ]
  },
  {
   "cell_type": "code",
   "execution_count": null,
   "metadata": {
    "collapsed": true
   },
   "outputs": [],
   "source": [
    "path_package = 'output/datapackage_renewables'\n",
    "\n",
    "os.makedirs(path_package, exist_ok=True)\n",
    "\n",
    "# Wirte the results as csv\n",
    "renewables_final.to_csv(path_package+'/renewable_power_plants_germany.csv',\n",
    "                         sep=',' , \n",
    "                         decimal='.', \n",
    "                         date_format='%Y-%m-%d',\n",
    "                         encoding='utf-8',\n",
    "                         index = False,\n",
    "                         if_exists=\"replace\")"
   ]
  },
  {
   "cell_type": "markdown",
   "metadata": {},
   "source": [
    "** Write XLSX**"
   ]
  },
  {
   "cell_type": "code",
   "execution_count": null,
   "metadata": {
    "collapsed": true
   },
   "outputs": [],
   "source": [
    "# Read csv of Marker Explanations\n",
    "validation = pd.read_csv('input/validation_marker.csv',\n",
    "                         sep = ',', header = 0)"
   ]
  },
  {
   "cell_type": "code",
   "execution_count": null,
   "metadata": {
    "collapsed": true
   },
   "outputs": [],
   "source": [
    "# Write the results as xlsx file\n",
    "writer = pd.ExcelWriter(path_package+'/renewable_power_plants_germany.xlsx', \n",
    "                        engine='xlsxwriter')\n",
    "\n",
    "# Because of the large number of entries we need to splite the data into two sheets\n",
    "# (they don't fit on one single Excel sheet)\n",
    "renewables_final[:1000000].to_excel(writer, \n",
    "                                     index = False,\n",
    "                                    sheet_name='part-1')\n",
    "\n",
    "renewables_final[1000000:].to_excel(writer, \n",
    "                                    index = False,\n",
    "                                    sheet_name='part-2')\n",
    "\n",
    "# The explanation of validation markers is added as a sheet\n",
    "validation.to_excel(writer,\n",
    "                    index = False,\n",
    "                    sheet_name='validation_marker')\n",
    "\n",
    "# Close the Pandas Excel writer and output the Excel file.\n",
    "writer.save()    "
   ]
  },
  {
   "cell_type": "markdown",
   "metadata": {},
   "source": [
    "**Write SQLite**"
   ]
  },
  {
   "cell_type": "code",
   "execution_count": null,
   "metadata": {
    "collapsed": true
   },
   "outputs": [],
   "source": [
    "# Write the results to sqlite database\n",
    "renewables_final.to_sql('renewable_power_plants_germany', \n",
    "                         sqlite3.connect(path_package+\n",
    "                                 '/renewable_power_plants_germany.sqlite'),\n",
    "                         if_exists=\"replace\") "
   ]
  },
  {
   "cell_type": "markdown",
   "metadata": {},
   "source": [
    "## 7.2 Write Time Series"
   ]
  },
  {
   "cell_type": "code",
   "execution_count": null,
   "metadata": {
    "collapsed": false
   },
   "outputs": [],
   "source": [
    "# Write daily cumulated time series as csv\n",
    "data.to_csv(path_package+'/renewable_capacity_germany_timeseries.csv',\n",
    "                         sep=',', decimal='.', \n",
    "                         date_format='%Y-%m-%dT%H:%M:%S%z',\n",
    "                         encoding='utf-8',\n",
    "                         if_exists=\"replace\")"
   ]
  },
  {
   "cell_type": "markdown",
   "metadata": {
    "collapsed": true
   },
   "source": [
    "## 7.3 Writing Meta Data\n",
    "\n",
    "The data packages meta data are created in the specific JSON format as proposed by the Open Knowledge Foundation. Please see the Frictionless Data project by OKFN (http://data.okfn.org/) and the Data Package specifications (http://dataprotocols.org/data-packages/) for more details.\n",
    "\n",
    "In order to keep the notebook more readable the metadata is written in the human-readable YAML format using a multi-line string and then parse the string into a Python dictionary and save is as a JSON file."
   ]
  },
  {
   "cell_type": "code",
   "execution_count": null,
   "metadata": {
    "collapsed": false
   },
   "outputs": [],
   "source": [
    "# The meta data follows the specification at:\n",
    "# http://dataprotocols.org/data-packages/\n",
    "\n",
    "metadata = \"\"\"\n",
    "name: opsd-renewable-energy-power-plants\n",
    "title: List of renewable energy power plants in Germany\n",
    "description: >-\n",
    "    This data package contains a list of all renewable energy power plants in Germany \n",
    "    that are eligible under the renewable support scheme. For each plant, \n",
    "    commissioning data, technical characteristics, and geolocations are provided. \n",
    "    It also contains a time series of cumulated installed capacity by technology \n",
    "    in daily granularity. The data stem from two different sources: \n",
    "    Netztransparenz.de, a joint platform of the German transmission system operators, \n",
    "    and Bundesnetzagentur, the regulator. The data has been extracted, merged, \n",
    "    verified and cleaned. This processing is documented step-by-step in the script linked below.  \n",
    "version: \"2016-06-07\"\n",
    "keywords: [master data register,power plants,renewables,germany]\n",
    "geographical-scope: Germany\n",
    "resources:\n",
    "    - path: renewable_power_plants_germany.csv\n",
    "      format: csv\n",
    "      mediatype: text/csv\n",
    "      schema:         \n",
    "          fields:\n",
    "            - name: start_up_date\n",
    "              description: Date of start up/installation date\n",
    "              type: datetime\n",
    "              format: YYYY-MM-DDThh:mm:ssZ\n",
    "            - name: electrical_capacity\n",
    "              description: Installed electrical capacity in kW\n",
    "              type: number\n",
    "              format: float\n",
    "              unit: kW\n",
    "            - name: energy_source\n",
    "              description: Type of energy source / generation\n",
    "              type: string\n",
    "            - name: energy_source_subtype\n",
    "              description: Subtype of energy source / generation\n",
    "              type: string\n",
    "            - name: thermal_capacity\n",
    "              description: Installed thermal capacity in kW\n",
    "              type: number\n",
    "              format: float\n",
    "              unit: kW\n",
    "            - name: city\n",
    "              description: Name of location\n",
    "              type: string\n",
    "            - name: tso\n",
    "              description: Name of TSO  \n",
    "              type: string    \n",
    "            - name: lon\n",
    "              description: Longitude coordinates\n",
    "              type: geopoint\n",
    "              format: lon\n",
    "            - name: lat\n",
    "              description: Latitude coordinates \n",
    "              type: geopoint\n",
    "              format: lat\n",
    "            - name: eeg_id\n",
    "              description: EEG (German feed-in tariff law) remuneration number\n",
    "              type: string\n",
    "            - name: power_plant_id\n",
    "              description: Power plant identification number by BNetzA\n",
    "              type: string\n",
    "            - name: voltage_level\n",
    "              description: Voltage level of grid connection\n",
    "              type: string \n",
    "            - name: decommission_date\n",
    "              description: Date of decommission\n",
    "              type: datetime\n",
    "              format: YYYY-MM-DDThh:mm:ssZ  \n",
    "            - name: comment\n",
    "              description: Validation comments\n",
    "              type: string \n",
    "            - name: source\n",
    "              description: Source of database entry\n",
    "              type: string\n",
    "              source: TransnetBW, TenneT, Amprion, 50Hertz, BNetzA_PV, BNetzA\n",
    "    - path: renewable_capacity_germany_timeseries.csv\n",
    "      format: csv\n",
    "      mediatype: text/csv\n",
    "      schema:         \n",
    "          fields:\n",
    "            - name: timestamp\n",
    "              description: Start time of the day\n",
    "              type: datetime\n",
    "              format: YYYY-MM-DDThh:mm:ssZ\n",
    "            - name: capacity_biomass_de\n",
    "              description: Cumulated biomass electrical capacity\n",
    "              type: number\n",
    "            - name: capacity_wind_onshore_de\n",
    "              description: Cumulated wind onshore capacity\n",
    "              type: number\n",
    "            - name: capacity_wind_offshore_de\n",
    "              description: Cumulated wind offshore capacity\n",
    "              type: number\n",
    "            - name: capacity_solar_de\n",
    "              description: Cumulated solar capacity\n",
    "              type: number                \n",
    "            - name: capacity_gas_de\n",
    "              description: Cumulated gas electrical capacity\n",
    "              type: number  \n",
    "            - name: capacity_geothermal_de\n",
    "              description: Cumulated geothermal electrical capacity\n",
    "              type: number \n",
    "            - name: capacity_hydro_de\n",
    "              description: Cumulated hydro capacity\n",
    "              type: number  \n",
    "    - path: renewable_power_plants_germany.xlsx\n",
    "      format: xlsx\n",
    "      mediatype: xlsx\n",
    "      schema:         \n",
    "          fields:\n",
    "            - name: start_up_date\n",
    "              description: Date of start up/installation date\n",
    "              type: datetime\n",
    "              format: YYYY-MM-DDThh:mm:ssZ\n",
    "            - name: electrical_capacity\n",
    "              description: Installed electrical capacity in kW\n",
    "              type: number\n",
    "              format: float\n",
    "              unit: kW\n",
    "            - name: energy_source\n",
    "              description: Type of energy source / generation\n",
    "              type: string\n",
    "            - name: energy_source_subtype\n",
    "              description: Subtype of energy source / generation\n",
    "              type: string\n",
    "            - name: thermal_capacity\n",
    "              description: Installed thermal capacity in kW\n",
    "              type: number\n",
    "              format: float\n",
    "              unit: kW\n",
    "            - name: city\n",
    "              description: Name of location\n",
    "              type: string\n",
    "            - name: tso\n",
    "              description: Name of TSO  \n",
    "              type: string    \n",
    "            - name: lon\n",
    "              description: Longitude coordinates\n",
    "              type: geopoint\n",
    "              format: lon\n",
    "            - name: lat\n",
    "              description: Latitude coordinates \n",
    "              type: geopoint\n",
    "              format: lat\n",
    "            - name: eeg_id\n",
    "              description: EEG (German feed-in tariff law) remuneration number\n",
    "              type: string\n",
    "            - name: power_plant_id\n",
    "              description: Power plant identification number by BNetzA\n",
    "              type: string\n",
    "            - name: voltage_level\n",
    "              description: Voltage level of grid connection\n",
    "              type: string \n",
    "            - name: decommission_date\n",
    "              description: Date of decommission\n",
    "              type: datetime\n",
    "              format: YYYY-MM-DDThh:mm:ssZ  \n",
    "            - name: comment\n",
    "              description: Validation comments\n",
    "              type: string \n",
    "            - name: source\n",
    "              description: Source of database entry\n",
    "              type: string\n",
    "              source: TransnetBW, TenneT, Amprion, 50Hertz, BNetzA_PV, BNetzA\n",
    "licenses:\n",
    "    - url: http://example.com/license/url/here\n",
    "      name: License Name Here\n",
    "      version: 1.0\n",
    "      id: license-id-from-open\n",
    "sources:\n",
    "    - name: Bundesnetzagentur - register of renewable power plants (excl. PV)\n",
    "      web: http://www.bundesnetzagentur.de/cln_1422/DE/Sachgebiete/ElektrizitaetundGas/Unternehmen_Institutionen/ErneuerbareEnergien/Anlagenregister/Anlagenregister_Veroeffentlichung/Anlagenregister_Veroeffentlichungen_node.html\n",
    "      source: BNetzA\n",
    "    - name: Bundesnetzagentur - register of PV power plants\n",
    "      web: http://www.bundesnetzagentur.de/cln_1431/DE/Sachgebiete/ElektrizitaetundGas/Unternehmen_Institutionen/ErneuerbareEnergien/Photovoltaik/DatenMeldgn_EEG-VergSaetze/DatenMeldgn_EEG-VergSaetze_node.html    \n",
    "      source: BNetzA_PV\n",
    "    - name: Netztransparenz.de - information platform of German TSOs (register of renewable power plants in their control area)\n",
    "      web: https://www.netztransparenz.de/de/Anlagenstammdaten.htm\n",
    "      source: TransnetBW, TenneT, Amprion, 50Hertz\n",
    "    - name: Postleitzahlen Deutschland - zip codes of Germany linked to geo-information\n",
    "      web: http://www.suche-postleitzahl.org/downloads\n",
    "maintainers:\n",
    "    - name: Frauke Wiese\n",
    "      email: frauke.wiese@uni-flensburg.de\n",
    "      web: http://open-power-system-data.org/\n",
    "views: True\n",
    "openpowersystemdata-enable-listing: True\n",
    "opsd-jupyter-notebook-url: https://github.com/Open-Power-System-Data/datapackage_renewable_power_plants/blob/2016-06-07/main.ipynb\n",
    "opsd-changes-to-last-version: Update of output data (latest version BNetzA-data, suspect data is not deleted any more but marked), corrected minor bugs of format and description\n",
    "\"\"\"\n",
    "\n",
    "metadata = yaml.load(metadata)\n",
    "\n",
    "datapackage_json = json.dumps(metadata, indent=4, separators=(',', ': '))\n",
    "\n",
    "# Write the information of the metadata\n",
    "with open(os.path.join(path_package, 'datapackage.json'), 'w') as f:\n",
    "    f.write(datapackage_json)"
   ]
  }
 ],
 "metadata": {
  "kernelspec": {
   "display_name": "Python 3",
   "language": "python",
   "name": "python3"
  },
  "language_info": {
   "codemirror_mode": {
    "name": "ipython",
    "version": 3
   },
   "file_extension": ".py",
   "mimetype": "text/x-python",
   "name": "python",
   "nbconvert_exporter": "python",
   "pygments_lexer": "ipython3",
   "version": "3.4.3"
  },
  "latex_envs": {
   "bibliofile": "biblio.bib",
   "cite_by": "apalike",
   "current_citInitial": 1,
   "eqLabelWithNumbers": true,
   "eqNumInitial": 0
  }
 },
 "nbformat": 4,
 "nbformat_minor": 0
}
