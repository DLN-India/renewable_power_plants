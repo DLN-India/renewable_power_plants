{
 "cells": [
  {
   "cell_type": "markdown",
   "metadata": {},
   "source": [
    "# Open Power System Data: Renewable Energy Power Plant List\n",
    "\n",
    "\n",
    "## Part 1: Download and Processing the Original Data\n",
    "\n",
    "This script downlads and extracts the original data from the sources and merges them in a single data\n",
    "frame. It subsequently adds the geolocation for each power plant and gives an overview over the\n",
    "structure of the data frame. Finally it saves the data frame to a SQLite file."
   ]
  },
  {
   "cell_type": "markdown",
   "metadata": {},
   "source": [
    "# Table of contents \n",
    "\n",
    "* [1. Script Setup](#1.-Script-Setup)\n",
    "* [2. Download and Data Extraction](#2.-Download-and-Data-Extraction)\n",
    "    * [2.1 Download and Create Individual Data Frames](##-2.1-Download-and-Create-Individual-Data-Frames)\n",
    "    * [2.2 Definition of Data Frame Structure](##-2.2-Definition-of-Data-Frame-Structure)\n",
    "    * [2.3 Merge Data Frames](##2.3-Merge-Data-Frames)\n",
    "    * [2.4 Translation and Summary](##2.4-Translation-and-Summary)\n",
    "* [3 Georeferencing](#3-Georeferencing)\n",
    "    * [3.1 Get Coordinates by Postcode](##-3.1-Get-Coordinates-by-Postcode)\n",
    "    * [3.2 Transform Geoinformation](##3.2-Transform-Geoinformation)\n",
    "\n",
    "\n"
   ]
  },
  {
   "cell_type": "markdown",
   "metadata": {},
   "source": [
    "# 1. Script Setup\n"
   ]
  },
  {
   "cell_type": "code",
   "execution_count": null,
   "metadata": {
    "collapsed": false,
    "scrolled": true
   },
   "outputs": [],
   "source": [
    "# importing all necessary Python libraries for this Script\n",
    "\n",
    "from collections import OrderedDict\n",
    "import io\n",
    "import json\n",
    "import os\n",
    "import subprocess\n",
    "import zipfile\n",
    "import posixpath\n",
    "import urllib.parse\n",
    "import urllib.request\n",
    "import numpy as np\n",
    "import pandas as pd\n",
    "import requests \n",
    "import sqlite3 \n",
    "import logging\n",
    "\n",
    "# Starting from ipython 4.3.0 logging is not directing its ouput to the out cell. It might be operating system related but \n",
    "# until the issue is fixed, we are going to use print(). \n",
    "# Issue on Github: https://github.com/ipython/ipykernel/issues/111\n",
    "\n",
    "# Set up a log \n",
    "logger = logging.getLogger('notebook')\n",
    "logger.setLevel('INFO')\n",
    "nb_root_logger = logging.getLogger()\n",
    "formatter = logging.Formatter('%(asctime)s - %(name)s - %(levelname)s'\\\n",
    "                              '- %(message)s',datefmt='%d %b %Y %H:%M:%S')\n",
    "nb_root_logger.handlers[0].setFormatter(formatter)\n",
    "\n",
    "# Create input and output folders if they don't exist\n",
    "os.makedirs('input/original_data', exist_ok=True)\n",
    "os.makedirs('output', exist_ok=True)\n",
    "os.makedirs('output/datapackage_renewables', exist_ok=True)"
   ]
  },
  {
   "cell_type": "markdown",
   "metadata": {},
   "source": [
    "# 2. Download and Data Extraction"
   ]
  },
  {
   "cell_type": "markdown",
   "metadata": {},
   "source": [
    "The data which will be processed below is provided by the following sources:\n",
    "\n",
    "**1. [Netztransparenz.de](https://www.netztransparenz.de/de/Anlagenstammdaten.htm)** - Official grid transparency platform from the German TSOs (50Hertz, Amprion, TenneT and TransnetBW).\n",
    "\n",
    "**2. Bundesnetzagentur (BNetzA)** - German Federal Network Agency for Electricity, Gas, Telecommunications, Posts and Railway (Data for [roof-mounted PV power plants](http://www.bundesnetzagentur.de/cln_1422/DE/Sachgebiete/ElektrizitaetundGas/Unternehmen_Institutionen/ErneuerbareEnergien/Photovoltaik/DatenMeldgn_EEG-VergSaetze/DatenMeldgn_EEG-VergSaetze_node.html) and for [all other renewable energy power plants](http://www.bundesnetzagentur.de/cln_1412/DE/Sachgebiete/ElektrizitaetundGas/Unternehmen_Institutionen/ErneuerbareEnergien/Anlagenregister/Anlagenregister_Veroeffentlichung/Anlagenregister_Veroeffentlichungen_node.html))"
   ]
  },
  {
   "cell_type": "markdown",
   "metadata": {},
   "source": [
    "## 2.1 Download and Create Individual Data Frames\n",
    "\n",
    "**Specify the source URLs:**"
   ]
  },
  {
   "cell_type": "code",
   "execution_count": null,
   "metadata": {
    "collapsed": false
   },
   "outputs": [],
   "source": [
    "# point URLs to original data\n",
    "url_netztransparenz ='https://www.netztransparenz.de/de/file/'\\\n",
    "                  'Anlagenstammdaten_2014_4UeNB.zip'\n",
    "\n",
    "url_bnetza ='http://www.bundesnetzagentur.de/SharedDocs/Downloads/DE/Sachgebiete/'\\\n",
    "            'Energie/Unternehmen_Institutionen/ErneuerbareEnergien/Anlagenregister/'\\\n",
    "            'VOeFF_Anlagenregister/2016_05_Veroeff_AnlReg.xls?__blob=publicationFile&v=2'\n",
    "        \n",
    "url_bnetza_pv = 'https://www.bundesnetzagentur.de/SharedDocs/Downloads/DE/'\\\n",
    "                'Sachgebiete/Energie/Unternehmen_Institutionen/'\\\n",
    "                'ErneuerbareEnergien/Photovoltaik/Datenmeldungen/'\\\n",
    "                'Meldungen_Aug-Apr2016.xls?__blob=publicationFile&v=2'"
   ]
  },
  {
   "cell_type": "markdown",
   "metadata": {},
   "source": [
    "**Download Data:**"
   ]
  },
  {
   "cell_type": "code",
   "execution_count": null,
   "metadata": {
    "collapsed": false
   },
   "outputs": [],
   "source": [
    "def download_and_cache(url):\n",
    "    \"\"\"This function downloads a file into a folder called \n",
    "    original_data and returns the local filepath.\"\"\"\n",
    "    path = urllib.parse.urlsplit(url).path\n",
    "    filename = posixpath.basename(path)\n",
    "    filepath = \"input/original_data/\" + filename\n",
    "\n",
    "    # check if file exists, if not download it\n",
    "    if not os.path.exists(filepath):\n",
    "        print(\"Downloading file: \", filename)\n",
    "        r = requests.get(url, stream=True)\n",
    "        \n",
    "        chuncksize = 1024\n",
    "        with open(filepath, 'wb') as file:\n",
    "            for chunck in r.iter_content(chuncksize):\n",
    "                file.write(chunck)\n",
    "    else:\n",
    "        print(\"Using local file from\", filepath)\n",
    "    filepath = '' + filepath\n",
    "    return filepath"
   ]
  },
  {
   "cell_type": "markdown",
   "metadata": {},
   "source": [
    "**Unzip and load downloaded data as data frames**\n",
    "\n",
    "To process the provided data [pandas DataFrame](http://pandas.pydata.org/pandas-docs/stable/dsintro.html#dataframe) is applied.<br>\n",
    "*This section of data loading takes approx. 5-15 min. *"
   ]
  },
  {
   "cell_type": "code",
   "execution_count": null,
   "metadata": {
    "collapsed": false
   },
   "outputs": [],
   "source": [
    "# Download all data sets before processing.\n",
    "# load zip file for data from netztransparenz.de\n",
    "netztransparenz_zip = zipfile.ZipFile(download_and_cache(url_netztransparenz))\n",
    "bnetza_xls = download_and_cache(url_bnetza)\n",
    "bnetza_pv_xls = download_and_cache(url_bnetza_pv)"
   ]
  },
  {
   "cell_type": "code",
   "execution_count": null,
   "metadata": {
    "collapsed": false
   },
   "outputs": [],
   "source": [
    "# Get TSO data from zip file\n",
    "print('Reading Amprion_Anlagenstammdaten_2014.csv')\n",
    "amprion_df = pd.read_csv(netztransparenz_zip.open('Amprion_Anlagenstammdaten_2014.csv'),\n",
    "                         sep=';',\n",
    "                         thousands='.',\n",
    "                         decimal=',',\n",
    "                         header=0,\n",
    "                         parse_dates=[11, 12, 13, 14],\n",
    "                         encoding='cp850',\n",
    "                         dayfirst=True,\n",
    "                         low_memory=False)\n",
    "print('Reading 50Hertz_Anlagenstammdaten_2014.csv')\n",
    "hertz_df = pd.read_csv(netztransparenz_zip.open('50Hertz_Anlagenstammdaten_2014.csv'),\n",
    "                       sep=';',\n",
    "                       thousands='.',\n",
    "                       decimal=',',\n",
    "                       header=0,\n",
    "                       parse_dates=[11, 12, 13, 14],\n",
    "                       encoding='cp1252',\n",
    "                       dayfirst=True,\n",
    "                       low_memory=False)\n",
    "\n",
    "print('Reading TenneT_Anlagenstammdaten_2014.csv')\n",
    "tennet_df = pd.read_csv(netztransparenz_zip.open('TenneT_Anlagenstammdaten_2014.csv'),\n",
    "                        sep=';',\n",
    "                        thousands='.',\n",
    "                        decimal=',',\n",
    "                        header=0,\n",
    "                        parse_dates=[11, 12, 13, 14],\n",
    "                        encoding='cp1252',\n",
    "                        dayfirst=True,\n",
    "                        low_memory=False)\n",
    "\n",
    "print('Reading TransnetBW_Anlagenstammdaten_2014.csv')\n",
    "transnetbw_df = pd.read_csv(netztransparenz_zip.open('TransnetBW_Anlagenstammdaten_2014.csv'),\n",
    "                            sep=';',\n",
    "                            thousands='.',\n",
    "                            decimal=',',\n",
    "                            header=0,\n",
    "                            parse_dates=[11, 12, 13, 14],\n",
    "                            encoding='cp1252',\n",
    "                            dayfirst=True,\n",
    "                            low_memory=False)"
   ]
  },
  {
   "cell_type": "code",
   "execution_count": null,
   "metadata": {
    "collapsed": false
   },
   "outputs": [],
   "source": [
    "# Read BNetzA register\n",
    "print('Reading bnetza - 2016_05_Veroeff_AnlReg.xls')\n",
    "bnetza_df = pd.read_excel(bnetza_xls,\n",
    "                          sheetname='Gesamtübersicht',\n",
    "                          header=0,\n",
    "                          converters={'4.9 Postleit-zahl': str})\n",
    "\n",
    "# Read BNetzA-PV register\n",
    "print('Reading bnetza_pv - Meldungen_Aug-Apr2016.xls')\n",
    "bnetza_pv = pd.ExcelFile(bnetza_pv_xls)\n",
    "\n",
    "# Combine all PV BNetzA sheets into one data frame\n",
    "print('Concatenating bnetza_pv')\n",
    "bnetza_pv_df = pd.concat(bnetza_pv.parse(sheet, skiprows=10,\n",
    "                                         converters={'Anlage \\nPLZ': str}\n",
    "                                         ) for sheet in bnetza_pv.sheet_names)\n",
    "\n",
    "# Drop not needed NULL \"Unnamed:\" column\n",
    "bnetza_pv_df = bnetza_pv_df.drop(bnetza_pv_df.columns[[7]], axis=1)"
   ]
  },
  {
   "cell_type": "markdown",
   "metadata": {},
   "source": [
    "## 2.2 Definition of Data Frame Structure\n",
    "\n",
    "**Translation**<br>\n",
    "To standardise the data frame the original column names from the German TSOs and the BNetzA wil be translated and new english column names wil be assigned to the data frame. The unique column names are needed in order to merge the data frames together.<br>\n",
    "The translation list is provided here: **[csv](https://github.com/Open-Power-System-Data/datapackage_renewable_power_plants/blob/master/input/column_translation_list.csv).**"
   ]
  },
  {
   "cell_type": "code",
   "execution_count": null,
   "metadata": {
    "collapsed": false
   },
   "outputs": [],
   "source": [
    "print('Definition of data frame structure')\n",
    "# Get translation list\n",
    "columnnames =pd.read_csv('input/column_translation_list.csv',sep = \",\",\n",
    "                           header=0)\n",
    "\n",
    "columndict = columnnames.set_index('original_name')['column_naming'].to_dict()\n",
    "\n",
    "# Translate columns by list \n",
    "bnetza_pv_df.rename(columns=columndict, inplace=True)\n",
    "bnetza_df.rename(columns=columndict, inplace=True)\n",
    "transnetbw_df.rename(columns=columndict, inplace=True)\n",
    "tennet_df.rename(columns=columndict, inplace=True)\n",
    "amprion_df.rename(columns=columndict, inplace=True)\n",
    "hertz_df.rename(columns=columndict, inplace=True)\n",
    "\n",
    "# Translate special cases separately\n",
    "backslash ={'Anlage \\nBundesland': 'federal_state','Anlage \\nOrt oder Gemarkung': \n",
    "            'city','Anlage \\nPLZ': 'postcode','Anlage \\nStraße oder Flurstück *)': \n",
    "            'address', 'Installierte \\nNennleistung [kWp]': 'electrical_capacity'}\n",
    "\n",
    "bnetza_pv_df.rename(columns = backslash, inplace=True)"
   ]
  },
  {
   "cell_type": "markdown",
   "metadata": {},
   "source": [
    "**Add source names and energy source**<br>\n",
    "In a second step all source names and (for the BNetzA-PV data) the energy source will be added separately to the data frame."
   ]
  },
  {
   "cell_type": "code",
   "execution_count": null,
   "metadata": {
    "collapsed": true
   },
   "outputs": [],
   "source": [
    "# Add source names to the data frames\n",
    "transnetbw_df['source'] = 'TransnetBW'\n",
    "tennet_df['source'] = 'TenneT'\n",
    "amprion_df['source'] = 'Amprion'\n",
    "hertz_df['source'] = '50Hertz'\n",
    "bnetza_df['source'] = 'BNetzA'\n",
    "bnetza_pv_df['source'] = 'BNetzA_PV'\n",
    "\n",
    "# Add for the BNetzA PV data the energy source\n",
    "bnetza_pv_df['energy_source'] = 'solar'"
   ]
  },
  {
   "cell_type": "markdown",
   "metadata": {},
   "source": [
    "## 2.3 Merge Data Frames\n",
    "\n",
    "The individual data frames from the TSOs (Netztransparenz.de) and BNetzA will be merged together.<br>\n",
    "In the last step of this section only the columns of interest will be selected and the final data frame created.\n",
    "\n",
    "**Merge individual data frames**"
   ]
  },
  {
   "cell_type": "code",
   "execution_count": null,
   "metadata": {
    "collapsed": false
   },
   "outputs": [],
   "source": [
    "# Merge data frames\n",
    "dataframes = [transnetbw_df,tennet_df, amprion_df, hertz_df, \n",
    "             bnetza_pv_df,bnetza_df]\n",
    "\n",
    "renewables = pd.concat(dataframes)\n",
    "\n",
    "renewables = renewables.reset_index()"
   ]
  },
  {
   "cell_type": "markdown",
   "metadata": {},
   "source": [
    "**Select columns of our interest**\n",
    "\n",
    "In this section only the columns of interest for the final data frame are selected and the rest will be discarded. "
   ]
  },
  {
   "cell_type": "code",
   "execution_count": null,
   "metadata": {
    "collapsed": false
   },
   "outputs": [],
   "source": [
    "column_interest = ['start_up_date','electrical_capacity','energy_source',\n",
    "                   'thermal_capacity','city', 'postcode','address','tso',\n",
    "                   'dso' ,'utm_zone','utm_east', 'utm_north',\n",
    "                   'notification_reason', 'eeg_id','voltage_level',\n",
    "                   'decommission_date','power_plant_id','source']"
   ]
  },
  {
   "cell_type": "code",
   "execution_count": null,
   "metadata": {
    "collapsed": false
   },
   "outputs": [],
   "source": [
    "renewables = renewables.loc[:, column_interest]\n",
    "renewables.reset_index(drop=True)\n",
    "logger.info('Clean dataframe from unnecessary columns')"
   ]
  },
  {
   "cell_type": "markdown",
   "metadata": {},
   "source": [
    "**First look at the final data frame structure and format**\n",
    "\n",
    "`DataFrame.info()` shows us the number of non-null (non-NA) values in each column, which can serve as a first indicator."
   ]
  },
  {
   "cell_type": "code",
   "execution_count": null,
   "metadata": {
    "collapsed": false
   },
   "outputs": [],
   "source": [
    "renewables.info()"
   ]
  },
  {
   "cell_type": "markdown",
   "metadata": {},
   "source": [
    "## 2.4 Translation and Summary\n",
    "\n",
    "In this section the different German terms for energy source, energy source subtypes and voltage levels will be translated and harmonized across the individual data sources (see [value_translation_list.csv](https://github.com/Open-Power-System-Data/datapackage_renewable_power_plants/blob/master/input/value_translation_list.csv)).\n",
    "\n",
    "The following energy sources and energy source subtypes exist in the data until now. Further specification for subtypes would be desirable but difficult with existing data. Any advice for improvement is welcome.\n",
    "\n",
    "|energy_source|energy_source_subtype|\n",
    "|---|---|\n",
    "|wind|wind_onshore|\n",
    "| |wind_offshore|\n",
    "|solar|solar|\n",
    "| |solar_ground|\n",
    "|gas|gas_sewage|\n",
    "| |gas_landfill|\n",
    "| |gas_mine|\n",
    "|biomass|biomass|\n",
    "|hydro|hydro|\n",
    "|geothermal|geothermal|\n",
    "\n",
    "**Translation**"
   ]
  },
  {
   "cell_type": "code",
   "execution_count": null,
   "metadata": {
    "collapsed": false
   },
   "outputs": [],
   "source": [
    "# Read translation list\n",
    "translation_list = pd.read_csv('input/value_translation_list.csv',\n",
    "                               sep=\",\",\n",
    "                               header=0)\n",
    "# Create dictionnary in order to change values \n",
    "translation_dict = translation_list.set_index('original_name')['opsd_naming'].to_dict()\n",
    "\n",
    "energy_source_dict = translation_list.set_index('energy_source_subtype')['energy_source'].to_dict()\n"
   ]
  },
  {
   "cell_type": "markdown",
   "metadata": {},
   "source": [
    "**Separate and assign energy source and subtypes**"
   ]
  },
  {
   "cell_type": "code",
   "execution_count": null,
   "metadata": {
    "collapsed": false
   },
   "outputs": [],
   "source": [
    "print('replacing..')\n",
    "# Running time: some minutes.%time prints the time required on your computer\n",
    "%time renewables.replace(translation_dict, inplace=True)\n",
    "\n",
    "# Create new column for energy_source_subtype\n",
    "renewables['energy_source_subtype'] = renewables.energy_source\n",
    "\n",
    "# Replace energy source subtype values in the energy_source column\n",
    "renewables.energy_source.replace(energy_source_dict, inplace=True)\n"
   ]
  },
  {
   "cell_type": "markdown",
   "metadata": {},
   "source": [
    "**Summary of data frame**"
   ]
  },
  {
   "cell_type": "code",
   "execution_count": null,
   "metadata": {
    "collapsed": false
   },
   "outputs": [],
   "source": [
    "# Electrical capacity per energy_source (in MW)\n",
    "renewables.groupby(['energy_source'])['electrical_capacity'].sum() / 1000"
   ]
  },
  {
   "cell_type": "code",
   "execution_count": null,
   "metadata": {
    "collapsed": false
   },
   "outputs": [],
   "source": [
    "# Electrical capacity per energy_source_subtype (in MW)\n",
    "renewables.groupby(['energy_source_subtype'])['electrical_capacity'].sum() / 1000"
   ]
  },
  {
   "cell_type": "markdown",
   "metadata": {},
   "source": [
    "# 3 Georeferencing\n",
    "## 3.1 Get Coordinates by Postcode\n",
    "*(for data with no existing geocoordinates)*\n",
    "\n",
    "The available post code in the original data provides a first approximation for the geocoordinates of the RE power plants.<br>\n",
    "The BNetzA data provides the full zip code whereas due to data privacy the TSOs only report the first three digits of the power plant's post code (e.g. 024xx) and no address. Subsequently a centroid of the post code region polygon is used to find the coordinates.\n",
    "\n",
    "With data from\n",
    "*  http://www.suche-postleitzahl.org/downloads?download=plz-gebiete.shp.zip\n",
    "*  http://www.suche-postleitzahl.org/downloads?download_file=plz-3stellig.shp.zip\n",
    "*  http://www.suche-postleitzahl.org/downloads\n",
    "\n",
    "a CSV-file for all existing German post codes with matching geocoordinates has been compiled. The latitude and longitude coordinates were generated by running a PostgreSQL + PostGIS database. Additionally the respective TSO has been added to each post code. *(A Link to the SQL script will follow here later)*\n",
    "\n",
    "*(License: http://www.suche-postleitzahl.org/downloads, Open Database Licence for free use. Source of data: © OpenStreetMap contributors)*"
   ]
  },
  {
   "cell_type": "code",
   "execution_count": null,
   "metadata": {
    "collapsed": false
   },
   "outputs": [],
   "source": [
    "# Read generated postcode/location file\n",
    "postcode = pd.read_csv('input/de_tso_postcode_gps.csv',\n",
    "                       sep=';',\n",
    "                       header=0)\n",
    "\n",
    "# Drop possible duplicates in postcodes\n",
    "postcode.drop_duplicates('postcode', keep='last',inplace=True)\n",
    "\n",
    "# Show first entries\n",
    "postcode.head()"
   ]
  },
  {
   "cell_type": "markdown",
   "metadata": {
    "collapsed": false
   },
   "source": [
    "** Merge geometry information by using the postcode**"
   ]
  },
  {
   "cell_type": "code",
   "execution_count": null,
   "metadata": {
    "collapsed": false
   },
   "outputs": [],
   "source": [
    "# Take postcode and longitude/latitude informations\n",
    "postcode= postcode[[0,3,4]]\n",
    "\n",
    "renewables =renewables.merge(postcode, on=['postcode'],  how='left')"
   ]
  },
  {
   "cell_type": "markdown",
   "metadata": {},
   "source": [
    "## 3.2 Transform Geoinformation\n",
    "*(for data with already existing geoinformation)*\n",
    "\n",
    "In this section the existing geoinformation (in UTM-format) will be transformed into latidude and longitude coordiates as a uniform standard for geoinformation. \n",
    "\n",
    "The BNetzA data set offers UTM Geoinformation with the columns *utm_zone (UTM-Zonenwert)*, *utm_east* and *utm_north*. Most of utm_east-values include the utm_zone-value **32** at the beginning of the number. In order to properly standardize and transform this geoinformation into latitude and longitude it is necessary to remove this utm_zone value. For all UTM entries the utm_zone 32 is used by the BNetzA.\n",
    "\n",
    "\n",
    "|utm_zone|\t utm_east|\t utm_north| comment|\n",
    "|---|---|---| ----|\n",
    "|32|\t413151.72|\t6027467.73| proper coordinates|\n",
    "|32|\t**32**912159.6008|\t5692423.9664| caused error by 32|\n"
   ]
  },
  {
   "cell_type": "markdown",
   "metadata": {},
   "source": [
    "**How many different utm_zone values are in the data set?**"
   ]
  },
  {
   "cell_type": "code",
   "execution_count": null,
   "metadata": {
    "collapsed": false
   },
   "outputs": [],
   "source": [
    "renewables.groupby(['utm_zone'])['utm_zone'].count()"
   ]
  },
  {
   "cell_type": "markdown",
   "metadata": {},
   "source": [
    "**Remove the utm_zone \"32\" from the utm_east value**"
   ]
  },
  {
   "cell_type": "code",
   "execution_count": null,
   "metadata": {
    "collapsed": false
   },
   "outputs": [],
   "source": [
    "# Find entries with 32 value at the beginning\n",
    "ix_32 = (renewables['utm_east'].astype(str).str[:2] == '32')\n",
    "ix_notnull= renewables['utm_east'].notnull()\n",
    "\n",
    "# Remove 32 from utm_east entries\n",
    "renewables.loc[ix_32,'utm_east'] = renewables.loc[ix_32,'utm_east'].astype(str).str[2:].astype(float)"
   ]
  },
  {
   "cell_type": "markdown",
   "metadata": {},
   "source": [
    "**Conversion UTM to lat/lon**"
   ]
  },
  {
   "cell_type": "code",
   "execution_count": null,
   "metadata": {
    "collapsed": true
   },
   "outputs": [],
   "source": [
    "# Convert from UTM values to latitude and longitude coordinates\n",
    "try:\n",
    "    renewables['lonlat'] = renewables.loc[ix_notnull, ['utm_east', 'utm_north', 'utm_zone']].apply(\n",
    "        lambda x: utm.to_latlon(x[0], x[1], x[2], 'U'),\n",
    "        axis=1) \\\n",
    "        .astype(str)\n",
    "    \n",
    "except:\n",
    "    renewables['lonlat'] = np.NaN\n",
    "    \n",
    "lat = []\n",
    "lon = []\n",
    "\n",
    "for row in renewables['lonlat']:\n",
    "    try:\n",
    "        # Split tuple format into the column lat and lon  \n",
    "        row = row.lstrip('(').rstrip(')')\n",
    "        lat.append(row.split(',')[0])\n",
    "        lon.append(row.split(',')[1])\n",
    "    except:\n",
    "        # set NAN \n",
    "        lat.append(np.NaN)\n",
    "        lon.append(np.NaN)\n",
    "          \n",
    "\n",
    "renewables['latitude'] = lat\n",
    "renewables['longitude'] = lon    \n",
    "\n",
    "# Add new values to data frame lon and lat\n",
    "renewables['lon'] = renewables['lon'] = renewables[['longitude', 'lon']].apply(\n",
    "    lambda x: x[1] if pd.isnull(x[0]) else x[0],\n",
    "    axis=1)\n",
    "\n",
    "renewables['lat'] = renewables[['latitude', 'lat']].apply(\n",
    "    lambda x: x[1] if pd.isnull(x[0]) else x[0],\n",
    "    axis=1)\n"
   ]
  },
  {
   "cell_type": "markdown",
   "metadata": {},
   "source": [
    "**Check: missing coordinates by source and type**"
   ]
  },
  {
   "cell_type": "code",
   "execution_count": null,
   "metadata": {
    "collapsed": false
   },
   "outputs": [],
   "source": [
    "print('Missing Coordinates ', renewables.lat.isnull().sum())\n",
    "\n",
    "renewables[renewables.lat.isnull()].groupby(['energy_source',\n",
    "                                             'source']\n",
    "                                            )['source'].count()"
   ]
  },
  {
   "cell_type": "code",
   "execution_count": null,
   "metadata": {
    "collapsed": false,
    "scrolled": false
   },
   "outputs": [],
   "source": [
    "renewables.info()"
   ]
  },
  {
   "cell_type": "markdown",
   "metadata": {},
   "source": [
    " # Save Data Frame\n",
    " \n",
    " Finally the merged data frame will be saved as SQLite file"
   ]
  },
  {
   "cell_type": "code",
   "execution_count": null,
   "metadata": {
    "collapsed": false
   },
   "outputs": [],
   "source": [
    "%time renewables.to_sql('raw_data_output', sqlite3.connect('raw_data.sqlite'), if_exists=\"replace\")  "
   ]
  },
  {
   "cell_type": "markdown",
   "metadata": {},
   "source": [
    "---\n",
    "The check, validation of the renewable power plants list and the Creation of CSV/XLSX/SQLite files can be found in Part 2 of this script. It also generates a daily timeseries of cumulated installed capacities by energy source."
   ]
  },
  {
   "cell_type": "code",
   "execution_count": null,
   "metadata": {
    "collapsed": false
   },
   "outputs": [],
   "source": [
    "# %time renewables.to_csv('raw_data_output.gz', compression='gzip', if_exists=\"replace\")\n",
    "# %time renewables.to_csv('raw_data_output.csv', if_exists=\"replace\")"
   ]
  },
  {
   "cell_type": "code",
   "execution_count": null,
   "metadata": {
    "collapsed": true
   },
   "outputs": [],
   "source": []
  }
 ],
 "metadata": {
  "anaconda-cloud": {},
  "kernelspec": {
   "display_name": "Python 3",
   "language": "python",
   "name": "python3"
  },
  "language_info": {
   "codemirror_mode": {
    "name": "ipython",
    "version": 3
   },
   "file_extension": ".py",
   "mimetype": "text/x-python",
   "name": "python",
   "nbconvert_exporter": "python",
   "pygments_lexer": "ipython3",
   "version": "3.4.3"
  },
  "latex_envs": {
   "bibliofile": "biblio.bib",
   "cite_by": "apalike",
   "current_citInitial": 1,
   "eqLabelWithNumbers": true,
   "eqNumInitial": 0
  }
 },
 "nbformat": 4,
 "nbformat_minor": 0
}
