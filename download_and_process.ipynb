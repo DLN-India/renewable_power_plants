{
 "cells": [
  {
   "cell_type": "markdown",
   "metadata": {
    "collapsed": true
   },
   "source": [
    "# Open Power System Data: Renewable power plants\n",
    "\n",
    "\n",
    "## Part 1: Download and processing of the original data\n",
    "\n",
    "This script downlads and extracts the original data of renewable power plant lists from the data sources, processes and merges them. It subsequently adds the geolocation for each power plant and gives an overview over the structure of the data frame. Finally it saves the data frame."
   ]
  },
  {
   "cell_type": "markdown",
   "metadata": {},
   "source": [
    "# Table of contents \n",
    "\n",
    "* [1. Script setup](#1.-Script-setup)\n",
    "* [2. Settings](#2.-Settings)\n",
    "    * [2.1 Choose download option](#2.1-Choose-download-option)\n",
    "    * [2.2 Download function](#2.2-Download-function)\n",
    "    * [2.3 Setup translation dictionaries](#2.3-Setup-translation-dictionaries)\n",
    "* [3. Download and process per country](#3.-Download-and-process-per-country)\n",
    "    * [3.1 Germany DE](#3.1-Germany-DE)\n",
    "        * [3.1.1 Download and read](#3.1.1-Download-and-read)\n",
    "        * [3.1.2 Translate column names](#3.1.2-Translate-column-names)\n",
    "        * [3.1.3 Add data source and missing information](#3.1.3-Add-data-source-and-missing-information)\n",
    "        * [3.1.4 Merge DataFrames and choose columns](#3.1.4-Add-data-source-and-missing-information)\n",
    "        * [3.1.5 Translate values and harmonize energy source](#3.1.5-Translate-values-and-harmonize-energy-source)\n",
    "        * [3.1.6 Georeferencing](#3.1.6-Georeferencing)\n",
    "        * [3.1.7 Save](#3.1.7-Save)\n",
    "    * [3.2 Denmark DK](#3.2-Denmark-DK)\n",
    "        * [3.2.1 Download and read](#3.2.1-Download-and-read)\n",
    "        * [3.2.2 Add information](#3.2.2-Add-information)\n",
    "        * [3.2.3 Translation](#3.2.3-Translation)\n",
    "        * [3.2.4 Georeferencing](#3.2.4-Georeferencing)\n",
    "        * [3.2.5 Save](#3.2.5-Save)\n",
    "    * [3.3 France FR](#3.3-France-FR)\n",
    "        * [3.3.1 Download and read](#3.3.1-Download-and-read)\n",
    "        * [3.3.2 Add information](#3.3.2-Add-information)\n",
    "        * [3.3.3 Translation](#3.3.3-Translation)\n",
    "        * [3.3.4 Georeferencing](#3.3.4-Georeferencing)\n",
    "        * [3.3.5 Save](#3.3.5-Save)\n",
    "    * [3.4 Poland PL](#3.4-Poland-PL)\n",
    "        * [3.4.1 Download and read](#3.4.1-Download-and-read)\n",
    "        * [3.4.2 Add information](#3.4.2-Add-information)\n",
    "        * [3.4.3 Translation](#3.4.3-Translation)\n",
    "        * [3.4.4 Georeferencing](#3.4.4-Georeferencing)\n",
    "        * [3.4.5 Save](#3.4.5-Save)\n"
   ]
  },
  {
   "cell_type": "markdown",
   "metadata": {},
   "source": [
    "# 1. Script setup\n"
   ]
  },
  {
   "cell_type": "code",
   "execution_count": 4,
   "metadata": {
    "collapsed": false,
    "scrolled": true
   },
   "outputs": [],
   "source": [
    "# importing all necessary Python libraries for this Script\n",
    "\n",
    "from collections import OrderedDict\n",
    "import io\n",
    "import json\n",
    "import os\n",
    "import subprocess\n",
    "import zipfile\n",
    "import posixpath\n",
    "import urllib.parse\n",
    "import urllib.request\n",
    "import numpy as np\n",
    "import pandas as pd\n",
    "import requests \n",
    "import sqlite3 \n",
    "import logging\n",
    "import getpass\n",
    "\n",
    "# Starting from ipython 4.3.0 logging is not directing its ouput to the out cell. It might be operating system related but \n",
    "# until the issue is fixed, we are going to use print(). \n",
    "# Issue on Github: https://github.com/ipython/ipykernel/issues/111\n",
    "\n",
    "# Set up a log \n",
    "logger = logging.getLogger('notebook')\n",
    "logger.setLevel('INFO')\n",
    "nb_root_logger = logging.getLogger()\n",
    "formatter = logging.Formatter('%(asctime)s - %(name)s - %(levelname)s'\\\n",
    "                              '- %(message)s',datefmt='%d %b %Y %H:%M:%S')\n",
    "\n",
    "# Create input and output folders if they don't exist\n",
    "os.makedirs('input/original_data', exist_ok=True)\n",
    "os.makedirs('output', exist_ok=True)\n",
    "os.makedirs('output/renewable_power_plants', exist_ok=True)"
   ]
  },
  {
   "cell_type": "markdown",
   "metadata": {},
   "source": [
    "# 2. Settings"
   ]
  },
  {
   "cell_type": "markdown",
   "metadata": {},
   "source": [
    "## 2.1 Choose download option\n",
    "The original data can either be downloaded from the original data sources as specified below or from the opsd-Server. Default option is to download from the original sources as the aim of the project is to stay as close to original sources as possible. However, if problems with downloads e.g. due to changing urls occur, you can still run the script with the original data from the opsd_server."
   ]
  },
  {
   "cell_type": "code",
   "execution_count": null,
   "metadata": {
    "collapsed": true
   },
   "outputs": [],
   "source": [
    "download_from = 'original_sources'\n",
    "# download_from = 'opsd_server' "
   ]
  },
  {
   "cell_type": "code",
   "execution_count": null,
   "metadata": {
    "collapsed": true
   },
   "outputs": [],
   "source": [
    "if download_from == 'opsd_server'\n",
    "\n",
    "# While OPSD is in beta, we need to supply authentication\n",
    "    password = getpass.getpass('Please enter the beta user password:')\n",
    "    session = requests.session()\n",
    "    session.auth = ('beta', password) \n",
    "\n",
    "# Specify direction to original_data folder on the opsd data server\n",
    "    url_opsd = 'http://data.open-power-system-data.org/renewables_power_plants/'\n",
    "    version = '2016-08-25'\n",
    "    folder = '/original_data'"
   ]
  },
  {
   "cell_type": "markdown",
   "metadata": {},
   "source": [
    "## 2.2 Download function"
   ]
  },
  {
   "cell_type": "code",
   "execution_count": null,
   "metadata": {
    "collapsed": false
   },
   "outputs": [],
   "source": [
    "def download_and_cache(url, session=None):\n",
    "    \"\"\"This function downloads a file into a folder called \n",
    "    original_data and returns the local filepath.\"\"\"\n",
    "    path = urllib.parse.urlsplit(url).path\n",
    "    filename = posixpath.basename(path)\n",
    "    filepath = \"input/original_data/\" + filename\n",
    "\n",
    "    if not session:\n",
    "        session = requests.session()\n",
    "\n",
    "    r = session.get(url)\n",
    "\n",
    "    # check if file exists, if not download it\n",
    "    filepath = \"input/original_data/\" + filename\n",
    "    if not os.path.exists(filepath):\n",
    "        print(\"Downloading file: \", filename)\n",
    "        r = session.get(url, stream=True)\n",
    "\n",
    "        chuncksize = 1024\n",
    "        with open(filepath, 'wb') as file:\n",
    "            for chunck in r.iter_content(chuncksize):\n",
    "                file.write(chunck)\n",
    "    else:\n",
    "        print(\"Using local file from\", filepath)\n",
    "    filepath = '' + filepath\n",
    "    return filepath"
   ]
  },
  {
   "cell_type": "markdown",
   "metadata": {},
   "source": [
    "## 2.3 Setup translation dictionaries\n",
    "\n",
    "Column and value names of the original data sources will be translated to English and standardized across different sources. Standardized column names, e.g. \"electrical_capacity\" are required to merge data in on data frame.<br>\n",
    "The column and the value translation lists are provided in the input folder of the datapackage."
   ]
  },
  {
   "cell_type": "code",
   "execution_count": 19,
   "metadata": {
    "collapsed": false
   },
   "outputs": [],
   "source": [
    "# Get column translation list\n",
    "columnnames = pd.read_csv('input/column_translation_list.csv')"
   ]
  },
  {
   "cell_type": "code",
   "execution_count": 20,
   "metadata": {
    "collapsed": false
   },
   "outputs": [],
   "source": [
    "# Get value translation list\n",
    "valuenames = pd.read_csv('input/value_translation_list.csv')"
   ]
  },
  {
   "cell_type": "code",
   "execution_count": 21,
   "metadata": {
    "collapsed": true
   },
   "outputs": [],
   "source": [
    "# Create dictionnaries to harmonize columns names, values, energy source\n",
    "column_dict = columnnames.set_index('original_name')['opsd_name'].to_dict()\n",
    "value_dict = valuenames.set_index('original_name')['opsd_name'].to_dict()\n",
    "energy_source_dict = valuenames.set_index('opsd_name')['energy_source'].to_dict()"
   ]
  },
  {
   "cell_type": "markdown",
   "metadata": {},
   "source": [
    "# 3. Download and process per country\n",
    "\n",
    "For one country after the other, the original data is downloaded, read, processed, translated, eventually georeferenced and saved. If respective files are already in the local folder, these will be utilized.\n",
    "To process the provided data [pandas DataFrame](http://pandas.pydata.org/pandas-docs/stable/dsintro.html#dataframe) is applied.<br>"
   ]
  },
  {
   "cell_type": "markdown",
   "metadata": {},
   "source": [
    "## 3.1 Germany DE"
   ]
  },
  {
   "cell_type": "markdown",
   "metadata": {},
   "source": [
    "### 3.1.1 Download and read\n",
    "The data which will be processed below is provided by the following data sources:\n",
    "\n",
    "**[Netztransparenz.de](https://www.netztransparenz.de/de/Anlagenstammdaten.htm)** - Official grid transparency platform from the German TSOs (50Hertz, Amprion, TenneT and TransnetBW).\n",
    "\n",
    "**Bundesnetzagentur (BNetzA)** - German Federal Network Agency for Electricity, Gas, Telecommunications, Posts and Railway (Data for [roof-mounted PV power plants](http://www.bundesnetzagentur.de/cln_1422/DE/Sachgebiete/ElektrizitaetundGas/Unternehmen_Institutionen/ErneuerbareEnergien/Photovoltaik/DatenMeldgn_EEG-VergSaetze/DatenMeldgn_EEG-VergSaetze_node.html) and for [all other renewable energy power plants](http://www.bundesnetzagentur.de/cln_1412/DE/Sachgebiete/ElektrizitaetundGas/Unternehmen_Institutionen/ErneuerbareEnergien/Anlagenregister/Anlagenregister_Veroeffentlichung/Anlagenregister_Veroeffentlichungen_node.html))"
   ]
  },
  {
   "cell_type": "code",
   "execution_count": null,
   "metadata": {
    "collapsed": true
   },
   "outputs": [],
   "source": [
    "# point URLs to original data depending on the chosen download option\n",
    "if download_from == 'original_sources':\n",
    "     \n",
    "    url_netztransparenz ='https://www.netztransparenz.de/de/file/Anlagenstammdaten_2015_final.zip'  \n",
    "    url_bnetza ='http://www.bundesnetzagentur.de/SharedDocs/Downloads/DE/Sachgebiete/Energie/Unternehmen_Institutionen/ErneuerbareEnergien/Anlagenregister/VOeFF_Anlagenregister/2016_06_Veroeff_AnlReg.xls?__blob=publicationFile&v=1'\n",
    "    url_bnetza_pv = 'https://www.bundesnetzagentur.de/SharedDocs/Downloads/DE/Sachgebiete/Energie/Unternehmen_Institutionen/ErneuerbareEnergien/Photovoltaik/Datenmeldungen/Meldungen_Aug-Mai2016.xls?__blob=publicationFile&v=2'\n",
    "    \n",
    "else:\n",
    "    url_netztransparenz = (url_opsd + version + folder + '/Netztransparenz/' + 'Anlagenstammdaten_2015.zip')\n",
    "    url_bnetza = (url_opsd + version + folder + '/BNetzA/' + '2016_06_Veroeff_AnlReg.xls')\n",
    "    url_bnetza_pv = (url_opsd + version + folder + '/BNetzA/' + 'Meldungen_Aug-Mai2016.xls')"
   ]
  },
  {
   "cell_type": "code",
   "execution_count": null,
   "metadata": {
    "collapsed": false
   },
   "outputs": [],
   "source": [
    "# Download all data sets before processing.\n",
    "if download_from == 'original_sources':\n",
    "    \n",
    "    netztransparenz_zip = %time zipfile.ZipFile(download_and_cache(url_netztransparenz))\n",
    "    bnetza_xls = %time download_and_cache(url_bnetza)\n",
    "    bnetza_pv_xls = %time download_and_cache(url_bnetza_pv)\n",
    "\n",
    "else:\n",
    "    netztransparenz_zip = %time zipfile.ZipFile(download_and_cache(url_netztransparenz, session))\n",
    "    bnetza_xls = %time download_and_cache(url_bnetza, session)\n",
    "    bnetza_pv_xls = %time download_and_cache(url_bnetza_pv, session)"
   ]
  },
  {
   "cell_type": "code",
   "execution_count": null,
   "metadata": {
    "collapsed": false
   },
   "outputs": [],
   "source": [
    "# Read TSO data from zip file\n",
    "print('Reading Amprion_Anlagenstammdaten_2015.csv')\n",
    "amprion_df = pd.read_csv(netztransparenz_zip.open('Amprion_Anlagenstammdaten_2015.csv'),\n",
    "                         sep=';',\n",
    "                         thousands='.',\n",
    "                         decimal=',',\n",
    "                         header=0,\n",
    "                         parse_dates=[11, 12, 13, 14],\n",
    "                         encoding='cp1252',\n",
    "                         dayfirst=True)\n",
    "\n",
    "print('Reading 50Hertz_Anlagenstammdaten_2015.csv')\n",
    "hertz_df = pd.read_csv(netztransparenz_zip.open('50Hertz_Anlagenstammdaten_2015.csv'),\n",
    "                       sep=';',\n",
    "                       thousands='.',\n",
    "                       decimal=',',\n",
    "                       header=0,\n",
    "                       parse_dates=[11, 12, 13, 14],\n",
    "                       encoding='cp1252',\n",
    "                       dayfirst=True)\n",
    "\n",
    "print('Reading TenneT_Anlagenstammdaten_2015.csv')\n",
    "tennet_df = pd.read_csv(netztransparenz_zip.open('TenneT_Anlagenstammdaten_2015.csv'),\n",
    "                        sep=';',\n",
    "                        thousands='.',\n",
    "                        decimal=',',\n",
    "                        header=0,\n",
    "                        parse_dates=[11, 12, 13, 14],\n",
    "                        encoding='cp1252',\n",
    "                        dayfirst=True)\n",
    "\n",
    "print('Reading TransnetBW_Anlagenstammdaten_2015.csv')\n",
    "transnetbw_df = pd.read_csv(netztransparenz_zip.open('TransnetBW_Anlagenstammdaten_2015.csv'),\n",
    "                            sep=';',\n",
    "                            thousands='.',\n",
    "                            decimal=',',\n",
    "                            header=0,\n",
    "                            parse_dates=[11, 12, 13, 14],\n",
    "                            encoding='cp1252',\n",
    "                            dayfirst=True,\n",
    "                            low_memory=False)"
   ]
  },
  {
   "cell_type": "code",
   "execution_count": null,
   "metadata": {
    "collapsed": false
   },
   "outputs": [],
   "source": [
    "# Read BNetzA register\n",
    "print('Reading bnetza - 2016_06_Veroeff_AnlReg.xls')\n",
    "bnetza_df = pd.read_excel(bnetza_xls,\n",
    "                          sheetname='Gesamtübersicht',\n",
    "                          header=0,\n",
    "                          converters={'4.9 Postleit-zahl': str})\n",
    "\n",
    "# Read BNetzA-PV register\n",
    "print('Reading bnetza_pv - Meldungen_Aug-Mai2016.xls')\n",
    "bnetza_pv = pd.ExcelFile(bnetza_pv_xls)\n",
    "\n",
    "# Combine all PV BNetzA sheets into one data frame\n",
    "print('Concatenating bnetza_pv')\n",
    "bnetza_pv_df = pd.concat(bnetza_pv.parse(sheet, skiprows=10,\n",
    "                                         converters={'Anlage \\nPLZ': str}\n",
    "                                         ) for sheet in bnetza_pv.sheet_names)\n",
    "\n",
    "# Drop not needed NULL \"Unnamed:\" column\n",
    "bnetza_pv_df = bnetza_pv_df.drop(bnetza_pv_df.columns[[7]], axis=1)"
   ]
  },
  {
   "cell_type": "markdown",
   "metadata": {},
   "source": [
    "### 3.1.2 Translate column names\n",
    "To standardise the data frame the original column names from the German TSOs and the BNetzA wil be translated and new english column names wil be assigned to the data frame. The unique column names are required to merge the data frame.<br>\n",
    "The column_translation_list is provided here as csv in the input folder. It is loaded in _2.3 Setup of translation dictionaries_."
   ]
  },
  {
   "cell_type": "code",
   "execution_count": null,
   "metadata": {
    "collapsed": false
   },
   "outputs": [],
   "source": [
    "print('Translation')\n",
    "amprion_df.rename(columns=column_dict, inplace=True)\n",
    "hertz_df.rename(columns=column_dict, inplace=True)\n",
    "tennet_df.rename(columns=column_dict, inplace=True)\n",
    "transnetbw_df.rename(columns=column_dict, inplace=True)\n",
    "bnetza_df.rename(columns=column_dict, inplace=True)\n",
    "bnetza_pv_df.rename(columns=column_dict, inplace=True)"
   ]
  },
  {
   "cell_type": "markdown",
   "metadata": {
    "collapsed": false
   },
   "source": [
    "### 3.1.3 Add data source and missing information\n",
    "All data source names and (for the BNetzA-PV data) the energy source will is added."
   ]
  },
  {
   "cell_type": "code",
   "execution_count": null,
   "metadata": {
    "collapsed": true
   },
   "outputs": [],
   "source": [
    "# Add data source names to the data frames\n",
    "transnetbw_df['data_source'] = 'TransnetBW'\n",
    "tennet_df['data_source'] = 'TenneT'\n",
    "amprion_df['data_source'] = 'Amprion'\n",
    "hertz_df['data_source'] = '50Hertz'\n",
    "bnetza_df['data_source'] = 'BNetzA'\n",
    "bnetza_pv_df['data_source'] = 'BNetzA_PV'\n",
    "\n",
    "# Add for the BNetzA PV data the energy source\n",
    "bnetza_pv_df['energy_source'] = 'solar'"
   ]
  },
  {
   "cell_type": "markdown",
   "metadata": {},
   "source": [
    "### 3.1.4 Merge DataFrames and choose columns\n",
    "\n",
    "The individual data frames from the TSOs (Netztransparenz.de) and BNetzA will be merged together. Only some columns will be selected for further processing."
   ]
  },
  {
   "cell_type": "code",
   "execution_count": 1,
   "metadata": {
    "collapsed": false
   },
   "outputs": [
    {
     "ename": "NameError",
     "evalue": "name 'transnetbw_df' is not defined",
     "output_type": "error",
     "traceback": [
      "\u001b[0;31m---------------------------------------------------------------------------\u001b[0m",
      "\u001b[0;31mNameError\u001b[0m                                 Traceback (most recent call last)",
      "\u001b[0;32m<ipython-input-1-5df45667954c>\u001b[0m in \u001b[0;36m<module>\u001b[0;34m()\u001b[0m\n\u001b[1;32m      1\u001b[0m \u001b[0;31m# Merge DataFrames\u001b[0m\u001b[0;34m\u001b[0m\u001b[0;34m\u001b[0m\u001b[0m\n\u001b[0;32m----> 2\u001b[0;31m dataframes = [transnetbw_df,tennet_df, amprion_df, hertz_df, \n\u001b[0m\u001b[1;32m      3\u001b[0m              bnetza_pv_df,bnetza_df]\n\u001b[1;32m      4\u001b[0m \u001b[0;34m\u001b[0m\u001b[0m\n\u001b[1;32m      5\u001b[0m \u001b[0mrenewables\u001b[0m \u001b[0;34m=\u001b[0m \u001b[0mpd\u001b[0m\u001b[0;34m.\u001b[0m\u001b[0mconcat\u001b[0m\u001b[0;34m(\u001b[0m\u001b[0mdataframes\u001b[0m\u001b[0;34m)\u001b[0m\u001b[0;34m\u001b[0m\u001b[0m\n",
      "\u001b[0;31mNameError\u001b[0m: name 'transnetbw_df' is not defined"
     ]
    }
   ],
   "source": [
    "# Merge DataFrames\n",
    "dataframes = [transnetbw_df, tennet_df, amprion_df, hertz_df, bnetza_pv_df, bnetza_df]\n",
    "renewables = pd.concat(dataframes)\n",
    "renewables = renewables.reset_index()"
   ]
  },
  {
   "cell_type": "code",
   "execution_count": null,
   "metadata": {
    "collapsed": false
   },
   "outputs": [],
   "source": [
    "# Only these columns will be kept for the renewable power plant list output\n",
    "column_interest = ['commissioning_date','decommission_date','energy_source',\n",
    "                   'electrical_capacity','thermal_capacity','voltage_level','tso',\n",
    "                   'dso','dso_id','eeg_id','bnetza_id','federal_state',\n",
    "                   'postcode','municipality_code','municipality','address',\n",
    "                   'utm_zone','utm_east','utm_north','data_source']"
   ]
  },
  {
   "cell_type": "code",
   "execution_count": null,
   "metadata": {
    "collapsed": false
   },
   "outputs": [],
   "source": [
    "# Clean dataframe from columns other than specified above\n",
    "renewables = renewables.loc[:, column_interest]\n",
    "renewables.reset_index(drop=True, inplace=True)"
   ]
  },
  {
   "cell_type": "markdown",
   "metadata": {},
   "source": [
    "**First look at DataFrame structure and format**"
   ]
  },
  {
   "cell_type": "code",
   "execution_count": null,
   "metadata": {
    "collapsed": false,
    "scrolled": true
   },
   "outputs": [],
   "source": [
    "renewables.info()"
   ]
  },
  {
   "cell_type": "markdown",
   "metadata": {},
   "source": [
    "### 3.1.5 Translate values and harmonize energy source\n",
    "Different German terms for energy source, energy source subtypes and voltage levels are translated and harmonized across the individual data sources. The value_translation_list is provided here as csv in the input folder. It is loaded in _2.3 Setup of translation dictionaries_."
   ]
  },
  {
   "cell_type": "code",
   "execution_count": null,
   "metadata": {
    "collapsed": true
   },
   "outputs": [],
   "source": [
    "print('replacing..')\n",
    "# Running time: some minutes. %time prints the time your computer required for this step\n",
    "%time renewables.replace(value_dict, inplace=True)"
   ]
  },
  {
   "cell_type": "markdown",
   "metadata": {},
   "source": [
    "**Separate and assign energy source and subtypes**"
   ]
  },
  {
   "cell_type": "code",
   "execution_count": 28,
   "metadata": {
    "collapsed": false
   },
   "outputs": [
    {
     "data": {
      "text/plain": [
       "{'01 (HöS)': nan,\n",
       " '02 (HöS/HS)': nan,\n",
       " '03 (HS)': nan,\n",
       " '04 (HS/MS)': nan,\n",
       " '05 (MS)': nan,\n",
       " '06 (MS/NS)': nan,\n",
       " '07 (NS)': nan,\n",
       " 'biomass': 'biomass',\n",
       " 'gas_landfill': 'gas',\n",
       " 'gas_mine': 'gas',\n",
       " 'gas_sewage': 'gas',\n",
       " 'geothermal': 'geothermal',\n",
       " 'hydro': 'hydro',\n",
       " 'solar': 'solar',\n",
       " 'solar_ground': 'solar',\n",
       " 'wind_offshore': 'wind',\n",
       " 'wind_onshore': 'wind'}"
      ]
     },
     "execution_count": 28,
     "metadata": {},
     "output_type": "execute_result"
    }
   ],
   "source": [
    "# Zusammenhang energy_source, energy_source_subtype und die Übersetzung darstellen\n",
    "energy_source_dict"
   ]
  },
  {
   "cell_type": "code",
   "execution_count": null,
   "metadata": {
    "collapsed": false
   },
   "outputs": [],
   "source": [
    "# Column energy_source first partly contains subtype information, thus subtype information\n",
    "# are copied to new column for energy_source_subtype\n",
    "renewables['energy_source_subtype'] = renewables['energy_source']\n",
    "\n",
    "# and energy source subtype values in the energy_source column are replaced\n",
    "renewables['energy_source'].replace(energy_source_dict, inplace=True)"
   ]
  },
  {
   "cell_type": "markdown",
   "metadata": {},
   "source": [
    "**Summary of DataFrame**"
   ]
  },
  {
   "cell_type": "code",
   "execution_count": null,
   "metadata": {
    "collapsed": false
   },
   "outputs": [],
   "source": [
    "# Electrical capacity per energy_source (in MW)\n",
    "renewables.groupby(['energy_source'])['electrical_capacity'].sum() / 1000"
   ]
  },
  {
   "cell_type": "code",
   "execution_count": null,
   "metadata": {
    "collapsed": false
   },
   "outputs": [],
   "source": [
    "# Electrical capacity per energy_source_subtype (in MW)\n",
    "renewables.groupby(['energy_source_subtype'])['electrical_capacity'].sum() / 1000"
   ]
  },
  {
   "cell_type": "markdown",
   "metadata": {},
   "source": [
    "### 3.1.6 Georeferencing"
   ]
  },
  {
   "cell_type": "markdown",
   "metadata": {},
   "source": [
    "#### Get coordinates by postcode\n",
    "*(for data with no existing geocoordinates)*\n",
    "\n",
    "The available post code in the original data provides a first approximation for the geocoordinates of the RE power plants.<br>\n",
    "The BNetzA data provides the full zip code whereas due to data privacy the TSOs only report the first three digits of the power plant's post code (e.g. 024xx) and no address. Subsequently a centroid of the post code region polygon is used to find the coordinates.\n",
    "\n",
    "With data from\n",
    "*  http://www.suche-postleitzahl.org/downloads?download=plz-gebiete.shp.zip\n",
    "*  http://www.suche-postleitzahl.org/downloads?download_file=plz-3stellig.shp.zip\n",
    "*  http://www.suche-postleitzahl.org/downloads\n",
    "\n",
    "a CSV-file for all existing German post codes with matching geocoordinates has been compiled. The latitude and longitude coordinates were generated by running a PostgreSQL + PostGIS database. Additionally the respective TSO has been added to each post code. *(A Link to the SQL script will follow here later)*\n",
    "\n",
    "*(License: http://www.suche-postleitzahl.org/downloads, Open Database Licence for free use. Source of data: © OpenStreetMap contributors)*"
   ]
  },
  {
   "cell_type": "code",
   "execution_count": null,
   "metadata": {
    "collapsed": false
   },
   "outputs": [],
   "source": [
    "# Read generated postcode/location file\n",
    "postcode = pd.read_csv('input/de_tso_postcode_gps.csv',\n",
    "                       sep=';',\n",
    "                       header=0)\n",
    "\n",
    "# Drop possible duplicates in postcodes\n",
    "postcode.drop_duplicates('postcode', keep='last',inplace=True)\n",
    "\n",
    "# Show first entries\n",
    "postcode.head()"
   ]
  },
  {
   "cell_type": "markdown",
   "metadata": {
    "collapsed": false
   },
   "source": [
    "** Merge geometry information by using the postcode**"
   ]
  },
  {
   "cell_type": "code",
   "execution_count": null,
   "metadata": {
    "collapsed": false
   },
   "outputs": [],
   "source": [
    "# Take postcode and longitude/latitude informations\n",
    "postcode = postcode[[0,3,4]]\n",
    "\n",
    "renewables = renewables.merge(postcode, on=['postcode'],  how='left')"
   ]
  },
  {
   "cell_type": "markdown",
   "metadata": {},
   "source": [
    "#### Transform geoinformation\n",
    "*(for data with already existing geoinformation)*\n",
    "\n",
    "In this section the existing geoinformation (in UTM-format) will be transformed into latidude and longitude coordiates as a uniform standard for geoinformation. \n",
    "\n",
    "The BNetzA data set offers UTM Geoinformation with the columns *utm_zone (UTM-Zonenwert)*, *utm_east* and *utm_north*. Most of utm_east-values include the utm_zone-value **32** at the beginning of the number. In order to properly standardize and transform this geoinformation into latitude and longitude it is necessary to remove this utm_zone value. For all UTM entries the utm_zone 32 is used by the BNetzA.\n",
    "\n",
    "\n",
    "|utm_zone|\t utm_east|\t utm_north| comment|\n",
    "|---|---|---| ----|\n",
    "|32|\t413151.72|\t6027467.73| proper coordinates|\n",
    "|32|\t**32**912159.6008|\t5692423.9664| caused error by 32|\n"
   ]
  },
  {
   "cell_type": "markdown",
   "metadata": {},
   "source": [
    "**How many different utm_zone values are in the data set?**"
   ]
  },
  {
   "cell_type": "code",
   "execution_count": null,
   "metadata": {
    "collapsed": false
   },
   "outputs": [],
   "source": [
    "renewables.groupby(['utm_zone'])['utm_zone'].count()"
   ]
  },
  {
   "cell_type": "markdown",
   "metadata": {},
   "source": [
    "**Remove the utm_zone \"32\" from the utm_east value**"
   ]
  },
  {
   "cell_type": "code",
   "execution_count": null,
   "metadata": {
    "collapsed": false
   },
   "outputs": [],
   "source": [
    "# Find entries with 32 value at the beginning\n",
    "ix_32 = (renewables['utm_east'].astype(str).str[:2] == '32')\n",
    "ix_notnull = renewables['utm_east'].notnull()\n",
    "\n",
    "# Remove 32 from utm_east entries\n",
    "renewables.loc[ix_32,'utm_east'] = renewables.loc[ix_32,'utm_east'].astype(str).str[2:].astype(float)"
   ]
  },
  {
   "cell_type": "markdown",
   "metadata": {},
   "source": [
    "**Conversion UTM to lat/lon**"
   ]
  },
  {
   "cell_type": "code",
   "execution_count": null,
   "metadata": {
    "collapsed": true
   },
   "outputs": [],
   "source": [
    "# Convert from UTM values to latitude and longitude coordinates\n",
    "try:\n",
    "    renewables['lonlat'] = renewables.loc[ix_notnull, ['utm_east', 'utm_north', 'utm_zone']].apply(\n",
    "        lambda x: utm.to_latlon(x[0], x[1], x[2], 'U'),\n",
    "        axis=1) \\\n",
    "        .astype(str)\n",
    "    \n",
    "except:\n",
    "    renewables['lonlat'] = np.NaN\n",
    "    \n",
    "lat = []\n",
    "lon = []\n",
    "\n",
    "for row in renewables['lonlat']:\n",
    "    try:\n",
    "        # Split tuple format into the column lat and lon  \n",
    "        row = row.lstrip('(').rstrip(')')\n",
    "        lat.append(row.split(',')[0])\n",
    "        lon.append(row.split(',')[1])\n",
    "    except:\n",
    "        # set NaN \n",
    "        lat.append(np.NaN)\n",
    "        lon.append(np.NaN)\n",
    "          \n",
    "\n",
    "renewables['latitude'] = lat\n",
    "renewables['longitude'] = lon    \n",
    "\n",
    "# Add new values to data frame lon and lat\n",
    "renewables['lon'] = renewables[['longitude', 'lon']].apply(\n",
    "    lambda x: x[1] if pd.isnull(x[0]) else x[0],\n",
    "    axis=1)\n",
    "\n",
    "renewables['lat'] = renewables[['latitude', 'lat']].apply(\n",
    "    lambda x: x[1] if pd.isnull(x[0]) else x[0],\n",
    "    axis=1)\n"
   ]
  },
  {
   "cell_type": "markdown",
   "metadata": {},
   "source": [
    "**Check: missing coordinates by data source and type**"
   ]
  },
  {
   "cell_type": "code",
   "execution_count": null,
   "metadata": {
    "collapsed": false
   },
   "outputs": [],
   "source": [
    "print('Missing Coordinates ', renewables.lat.isnull().sum())\n",
    "\n",
    "renewables[renewables.lat.isnull()].groupby(['energy_source',\n",
    "                                             'data_source']\n",
    "                                            )['data_source'].count()"
   ]
  },
  {
   "cell_type": "markdown",
   "metadata": {},
   "source": [
    "### 3.1.7 Save\n",
    " \n",
    "The merged, translated, cleaned, data frame will be saved temporily as a pickle file, which stores a python object fast."
   ]
  },
  {
   "cell_type": "code",
   "execution_count": null,
   "metadata": {
    "collapsed": false
   },
   "outputs": [],
   "source": [
    "renewables.to_pickle('renewables.pickle')"
   ]
  },
  {
   "cell_type": "markdown",
   "metadata": {},
   "source": [
    "## 3.2 Denmark DK"
   ]
  },
  {
   "cell_type": "markdown",
   "metadata": {},
   "source": [
    "### 3.2.1 Download and read\n",
    "The data which will be processed below is provided by the following data sources:\n",
    "\n",
    "** [Energistyrelsen (ens) / Danish Energy Agency](http://www.ens.dk/info/tal-kort/statistik-noegletal/oversigt-energisektoren/stamdataregister-vindmoller)** - The wind turbines register is released by the Danish Energy Agency. \n",
    "\n",
    "** [Energinet.dk](http://www.energinet.dk/DA/El/Engrosmarked/Udtraek-af-markedsdata/Sider/Statistik.aspx)** - The data of solar power plants are released by the leading transmission network operator Denmark.\n",
    "\n",
    "** [geonames.org](http://download.geonames.org/export/zip/?C=N;O=D)** The postcode  data from Denmark is provided by Geonames and licensed under a [Creative Commons Attribution 3.0 license](http://creativecommons.org/licenses/by/3.0/)."
   ]
  },
  {
   "cell_type": "code",
   "execution_count": null,
   "metadata": {
    "collapsed": false
   },
   "outputs": [],
   "source": [
    "# point URLs to original data depending on the chosen download option\n",
    "if download_from == 'original_sources':\n",
    "    \n",
    "    url_DK_ens = 'http://www.ens.dk/sites/ens.dk/files/info/tal-kort/statistik-noegletal/oversigt-energisektoren/stamdataregister-vindmoeller/anlaegprodtilnettet.xls'\n",
    "    url_DK_energinet = 'http://www.energinet.dk/SiteCollectionDocuments/Danske%20dokumenter/El/SolcelleGraf.xlsx'\n",
    "    url_DK_geo = 'http://download.geonames.org/export/zip/DK.zip'\n",
    "\n",
    "else:\n",
    "    url_DK_ens = (url_opsd + version + folder + '/DK/anlaegprodtilnettet.xls')\n",
    "    url_DK_energinet = (url_opsd + version + folder + '/DK/SolcelleGraf.xlsx')\n",
    "    url_DK_geo = (url_opsd + version + folder + 'DK/DK.zip')"
   ]
  },
  {
   "cell_type": "markdown",
   "metadata": {},
   "source": [
    "## 3.3 France FR"
   ]
  },
  {
   "cell_type": "markdown",
   "metadata": {},
   "source": [
    "### 3.3.1 Download and read\n",
    "The data which will be processed below is provided by the following data sources:\n",
    "\n",
    "** [Ministery of the Environment, Energy and the Sea](http://www.statistiques.developpement-durable.gouv.fr/energie-climat/r/energies-renouvelables.html?tx_ttnews%5Btt_news%5D=24638&cHash=d237bf9985fdca39d7d8c5dc84fb95f9)** - Number of installations and installed capacity of the different renewable source for every municipality in France. Service of observation and statistics, survey, date of last update: 15/12/2015.\n",
    "\n",
    "** [OpenDataSoft](https://public.opendatasoft.com/explore/?sort=modified)** A list of French INSEE codes and corresponding coordinates is published under the [Licence Ouverte (Etalab)](https://www.etalab.gouv.fr/licence-ouverte-open-licence)."
   ]
  },
  {
   "cell_type": "code",
   "execution_count": null,
   "metadata": {
    "collapsed": true
   },
   "outputs": [],
   "source": [
    "# point URLs to original data depending on the chosen download option\n",
    "if download_from == 'original_sources':\n",
    "    \n",
    "    url_FR_gouv = \"http://www.statistiques.developpement-durable.gouv.fr/fileadmin/documents/Themes/Energies_et_climat/Les_differentes_energies/Energies_renouvelables/donnees_locales/2014/electricite-renouvelable-par-commune-2014.xls\"\n",
    "    url_FR_geo = 'http://public.opendatasoft.com/explore/dataset/code-postal-code-insee-2015/download/?format=csv&timezone=Europe/Berlin&use_labels_for_header=true'\n",
    "\n",
    "else:\n",
    "    url_FR_gouv = (url_opsd + version + folder + '/FR/electricite-renouvelable-par-commune-2014.xls')\n",
    "    url_FR_geo = (url_opsd + version + folder + 'FR/code-postal-code-insee-2015.csv')"
   ]
  },
  {
   "cell_type": "markdown",
   "metadata": {},
   "source": [
    "## 3.4 Poland PL"
   ]
  },
  {
   "cell_type": "markdown",
   "metadata": {},
   "source": [
    "### 3.4.1 Download and read\n",
    "The data which will be processed below is provided by the following data source:\n",
    "\n",
    "** [Urzad Regulacji Energetyki (URE) / Energy Regulatory Office](http://www.ure.gov.pl/uremapoze/mapa.html)** - Number of installations and installed capacity per energy source of renewable energy. Summed per powiat (districts) ."
   ]
  },
  {
   "cell_type": "code",
   "execution_count": null,
   "metadata": {
    "collapsed": true
   },
   "outputs": [],
   "source": [
    "    url_PL_ure = (url_opsd + version + folder + '/PL/simple.rtf')"
   ]
  },
  {
   "cell_type": "code",
   "execution_count": null,
   "metadata": {
    "collapsed": true
   },
   "outputs": [],
   "source": []
  },
  {
   "cell_type": "markdown",
   "metadata": {},
   "source": [
    "Check and validation of the renewable power plants list as well as the creation of CSV/XLSX/SQLite files can be found in Part 2 of this script. It also generates a daily timeseries of cumulated installed capacities by energy source."
   ]
  },
  {
   "cell_type": "code",
   "execution_count": null,
   "metadata": {
    "collapsed": true
   },
   "outputs": [],
   "source": []
  }
 ],
 "metadata": {
  "anaconda-cloud": {},
  "kernelspec": {
   "display_name": "Python 3",
   "language": "python",
   "name": "python3"
  },
  "language_info": {
   "codemirror_mode": {
    "name": "ipython",
    "version": 3
   },
   "file_extension": ".py",
   "mimetype": "text/x-python",
   "name": "python",
   "nbconvert_exporter": "python",
   "pygments_lexer": "ipython3",
   "version": "3.5.2"
  },
  "latex_envs": {
   "bibliofile": "biblio.bib",
   "cite_by": "apalike",
   "current_citInitial": 1,
   "eqLabelWithNumbers": true,
   "eqNumInitial": 0
  }
 },
 "nbformat": 4,
 "nbformat_minor": 0
}
