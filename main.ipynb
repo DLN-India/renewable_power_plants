{
 "cells": [
  {
   "cell_type": "markdown",
   "metadata": {},
   "source": [
    "# 1. About Open Power System Data\n",
    "This notebook is part of the project [Open Power System Data](http://open-power-system-data.org/). Open Power System Data develops a platform for free and open data for electricity system modeling. We collect, check, process, document, and provide data that are publicly available but currently inconvenient to use. <br>\n",
    "\n",
    "More info on Open Power System Data:\n",
    "* Information on the project on our website: http://open-power-system-data.org/\n",
    "* Data and metadata on our data platform: http://data.open-power-system-data.org/\n",
    "* Data processing scripts on our GitHub page: https://github.com/Open-Power-System-Data\n",
    " \n",
    "# 2. About this notebook\n",
    "This notebook is part of the data package “Renewable energy power plants”. This data package contains a list of renewable energy-based power plants in Germany and daily timeseries of cumulated installed capacities by energy source types. \n",
    " \n",
    "# 3. Data sources\n",
    "This datapackage uses two main data sources.\n",
    "* [Netztransparenz.de](https://www.netztransparenz.de/de/Anlagenstammdaten.htm) - Information platform from the German TSOs\n",
    "> In Germany historically all data has been published mandatorily by the four TSOs (50Hertz, Amprion, Tennet, TransnetBW). This obligation expired in August 2014, nonetheless the TSO reported until the end of 2014 and issued another update in August 2016 for plants commissioned until end of 2015 (which is used in this script).\n",
    "\n",
    "* [BNetzA](http://www.bundesnetzagentur.de/) - The German Federal Network Agency for Electricity, Gas, Telecommunications, Posts and Railway \n",
    "> Since August 2014 the BNetzA is responsible to publish the renewable power plants register. The legal framework for the register is  specified in the EEG 2014 [(German)](http://www.gesetze-im-internet.de/eeg_2014/) [(English)](http://www.res-legal.eu/search-by-country/germany/single/s/res-e/t/promotion/aid/feed-in-tariff-eeg-feed-in-tariff/lastp/135/). All power plants are listed in a new format: two separate MS-Excel and CSV files for roof-mounted PV power plants [\"PV-Datenmeldungen\"](http://www.bundesnetzagentur.de/cln_1422/DE/Sachgebiete/ElektrizitaetundGas/Unternehmen_Institutionen/ErneuerbareEnergien/Photovoltaik/DatenMeldgn_EEG-VergSaetze/DatenMeldgn_EEG-VergSaetze_node.html) and all other renewable power plants [\" Anlagenregister\"](http://www.bundesnetzagentur.de/cln_1412/DE/Sachgebiete/ElektrizitaetundGas/Unternehmen_Institutionen/ErneuerbareEnergien/Anlagenregister/Anlagenregister_Veroeffentlichung/Anlagenregister_Veroeffentlichungen_node.html).\n",
    "\n",
    "A complete list of data sources can be found on our website.\n",
    " \n",
    "# 4. Notation\n",
    "[Table with notation and abbreviations]\n",
    " \n",
    "# 5. License\n",
    "This notebook as well as all other documents in this repository is published under the MIT License. https://opensource.org/licenses/MIT\n",
    " \n",
    "# 6.  Links to the other notebooks of this package\n",
    "Two more notebooks are used to download, process and validate these data:\n",
    "* [Part 1: Download and Process](download_and_process.ipynb): The original data is downloaded from the sources and merged. When running the script, the original downloaded files will be put in the folder input/original_data folder on your computer.\n",
    "* [Part 2: Validation and Output](validation_and_output.ipynb): This notebook subsequently checks, validates the list of renewable power plants and creates CSV/XLSX/SQLite files. It also generates a daily timeseries of cumulated installed capacities by generation types. After running both scripts, the results can be found in the folder output on your computer."
   ]
  }
 ],
 "metadata": {
  "kernelspec": {
   "display_name": "Python 3",
   "language": "python",
   "name": "python3"
  },
  "language_info": {
   "codemirror_mode": {
    "name": "ipython",
    "version": 3
   },
   "file_extension": ".py",
   "mimetype": "text/x-python",
   "name": "python",
   "nbconvert_exporter": "python",
   "pygments_lexer": "ipython3",
   "version": "3.4.3"
  },
  "latex_envs": {
   "bibliofile": "biblio.bib",
   "cite_by": "apalike",
   "current_citInitial": 1,
   "eqLabelWithNumbers": true,
   "eqNumInitial": 0
  }
 },
 "nbformat": 4,
 "nbformat_minor": 0
}
