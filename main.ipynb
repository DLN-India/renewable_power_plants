{
 "cells": [
  {
   "cell_type": "markdown",
   "metadata": {},
   "source": [
    "# Open Power System Data: Renewable energy power plants\n",
    "\n",
    "## About this notebook\n",
    "\n",
    "\n",
    "This Jupyter Notebook is part of the \"Open Power System Data\" Project and written in Python 3. The aim is to extract, merge, clean and verify different sources with data from renewable energy (RE) power plants in Germany. The data are downloaded from two different sources:\n",
    "\n",
    "* [Netztransparenz.de](https://www.netztransparenz.de/de/Anlagenstammdaten.htm) - Information platform from the german TSOs\n",
    "> In Germany historically all data has been published mandatorily by the four TSOs (50Hertz, Amprion, Tennet, TransnetBW). This obligation expired in August 2014, nonetheless the TSO reported until the end of 2014 and issued another update in November 2015 (which is used in this script).\n",
    "\n",
    "* [BNetzA](http://www.bundesnetzagentur.de/) - The German Federal Network Agency for Electricity, Gas, Telecommunications, Posts and Railway \n",
    "> Since August 2014 the BNetzA is responsible to publish the renewable power plants register. The legal framework for the register is  specified in the [EEG 2014 (German)](http://www.gesetze-im-internet.de/eeg_2014/) [(English)](http://www.res-legal.eu/search-by-country/germany/single/s/res-e/t/promotion/aid/feed-in-tariff-eeg-feed-in-tariff/lastp/135/). Furthermore all power plants are listed in a new format: two separate MS-Excel and CSV files for roof-mounted PV power plants [\"PV-Datenmeldungen\"](http://www.bundesnetzagentur.de/cln_1422/DE/Sachgebiete/ElektrizitaetundGas/Unternehmen_Institutionen/ErneuerbareEnergien/Photovoltaik/DatenMeldgn_EEG-VergSaetze/DatenMeldgn_EEG-VergSaetze_node.html) and all other renewable power plants [\" Anlagenregister\"](http://www.bundesnetzagentur.de/cln_1412/DE/Sachgebiete/ElektrizitaetundGas/Unternehmen_Institutionen/ErneuerbareEnergien/Anlagenregister/Anlagenregister_Veroeffentlichung/Anlagenregister_Veroeffentlichungen_node.html) ).\n",
    "\n",
    "This Jupyter Notebook downlads and extracts the original data from the sources and merges them (Part 1). The original downloaded files will be put in the folder datapackage_renewable_power_plants/input/original_data on your computer. <br>\n",
    "\n",
    "Part 2 subsequently checks, validates the list of renewable power plants and creates CSV/XLSX/SQLite files. It also generates a daily timeseries of cumulated installed capacities by generation types. After running both scripts, the results can be found in the folder datapackage_renewable_power_plants/output.\n",
    "\n",
    "\n",
    "## License\n",
    "\n",
    "* This notebook is published under the GNU GPL v3 license. http://www.gnu.org/licenses/gpl-3.0.en.html.\n",
    "* This notebook is developed by the project Open Power System Date (OPSD.) http://open-power-system-data.org/\n",
    "\n",
    "\n",
    "\n",
    "## Links to the Notebooks\n",
    "\n",
    "* [Part 1: Download and Processing](https://github.com/Open-Power-System-Data/datapackage_renewable_power_plants/blob/master/download_and_process.ipynb)\n",
    "* [Part 2: Validation and Output (power plant list and timeseries)](https://github.com/Open-Power-System-Data/datapackage_renewable_power_plants/blob/master/validation_and_output.ipynb)\n"
   ]
  }
 ],
 "metadata": {
  "kernelspec": {
   "display_name": "Python 3",
   "language": "python",
   "name": "python3"
  },
  "language_info": {
   "codemirror_mode": {
    "name": "ipython",
    "version": 3
   },
   "file_extension": ".py",
   "mimetype": "text/x-python",
   "name": "python",
   "nbconvert_exporter": "python",
   "pygments_lexer": "ipython3",
   "version": "3.4.3"
  },
  "latex_envs": {
   "bibliofile": "biblio.bib",
   "cite_by": "apalike",
   "current_citInitial": 1,
   "eqLabelWithNumbers": true,
   "eqNumInitial": 0
  }
 },
 "nbformat": 4,
 "nbformat_minor": 0
}
