{
 "cells": [
  {
   "cell_type": "markdown",
   "metadata": {},
   "source": [
    "# 1. About Open Power System Data \n",
    "This notebook is part of the project [Open Power System Data](http://open-power-system-data.org). Open Power System Data develops a platform for free and open data for electricity system modeling. We collect, check, process, document, and provide data that are publicly available but currently inconvenient to use. \n",
    "More info on Open Power System Data:\n",
    "- [Information on the project on our website](http://open-power-system-data.org)\n",
    "- [Data and metadata on our data platform](http://data.open-power-system-data.org)\n",
    "- [Data processing scripts on our GitHub page](https://github.com/Open-Power-System-Data)\n",
    "\n",
    "# 2. About Jupyter Notebooks and GitHub\n",
    "This file is a [Jupyter Notebook](http://jupyter.org/). A Jupyter Notebook is a file that combines executable programming code with visualizations and comments in markdown format, allowing for an intuitive documentation of the code. We use Jupyter Notebooks for combined coding and documentation. We use Python 3 as programming language. All Notebooks are stored on [GitHub](https://github.com/), a platform for software development, and are publicly available. More information on our IT-concept can be found [here](http://open-power-system-data.org/it). See also our [step-by-step manual](http://open-power-system-data.org/step-by-step) how to use the dataplatform.\n",
    " \n",
    "# 3. About this datapackage\n",
    "We provide data in different chunks, or [datapackages](http://frictionlessdata.io/data-packages/). The one you are looking at right now, [Renewable Power Plants](http://data.open-power-system-data.org/renewables/), contains\n",
    "\n",
    "* lists of renewable energy-based power plants of Germany, Denmark, France and Poland\n",
    "* daily timeseries of cumulated installed capacity per energy source type for Germany.\n",
    "\n",
    "Due to different data availability, the power plant lists are of different accurancy and partly provide different power plant parameter. Due to that, the lists are provided as seperate csv-files per country and as separate sheets in the excel file.\n",
    "\n",
    "* Germany: More than 1.7 million power plant entries, all renewable energy plants supported by the German Renewable Energy Law (EEG)\n",
    "* Denmark: Wind and phovoltaic power plants with a high level of detail\n",
    "* France: Summed capacity and number of installations per energy source per municipality (Commune)\n",
    "* Poland: Summed capacity and number of installations per energy source per municipality (Powiat)\n",
    " \n",
    "# 4. Data sources\n",
    "\n",
    "This datapackage uses the following main data sources.\n",
    "### Germany - DE\n",
    "- [Netztransparenz.de](https://www.netztransparenz.de/de/Anlagenstammdaten.htm) - Information platform from the German TSOs\n",
    "\n",
    ">In Germany historically all data has been published mandatorily by the four TSOs (50Hertz, Amprion, Tennet, TransnetBW). This obligation expired in August 2014, nonetheless the TSO reported until the end of 2014 and issued another update in August 2016 for plants commissioned until end of 2015 (which is used in this script).\n",
    "\n",
    "- [BNetzA](http://www.bundesnetzagentur.de/) - The German Federal Network Agency for Electricity, Gas, Telecommunications, Posts and Railway\n",
    "\n",
    ">Since August 2014 the BNetzA is responsible to publish the renewable power plants register. The legal framework for the register is  specified in the EEG 2014 [(German)](http://www.gesetze-im-internet.de/eeg_2014/) [(English)](http://www.res-legal.eu/search-by-country/germany/single/s/res-e/t/promotion/aid/feed-in-tariff-eeg-feed-in-tariff/lastp/135/). All power plants are listed in a new format: two separate MS-Excel and CSV files for roof-mounted PV power plants [\"PV-Datenmeldungen\"](http://www.bundesnetzagentur.de/cln_1422/DE/Sachgebiete/ElektrizitaetundGas/Unternehmen_Institutionen/ErneuerbareEnergien/Photovoltaik/DatenMeldgn_EEG-VergSaetze/DatenMeldgn_EEG-VergSaetze_node.html) and all other renewable power plants [\" Anlagenregister\"](http://www.bundesnetzagentur.de/cln_1412/DE/Sachgebiete/ElektrizitaetundGas/Unternehmen_Institutionen/ErneuerbareEnergien/Anlagenregister/Anlagenregister_Veroeffentlichung/Anlagenregister_Veroeffentlichungen_node.html).\n",
    "\n",
    "### Denmark - DK\n",
    "\n",
    "- [ens.dk](http://www.ens.dk/) - Energy Agency Denmark \n",
    "    \n",
    ">The Danish Energy Agency publishes a national master data register for wind turbines which was created in collaboration with the transmission system operators. The publication is monthly as an Excel file. The Data set includes all electricity-generating wind turbines with information about technical data, location data and production data.\n",
    "\n",
    "\n",
    "- [Energinet.dk](http://www.energinet.dk/EN/Sider/default.aspx) - Transmission system Operator in Denmark\n",
    "\n",
    ">The photovoltaic statistic, published from Energinet, includes information about location, year of implementing, installed capacity and number of systems. There is an additional overview of the number of plants and installed capacity per  postcode. The publication an  Excel file and dates of publication are not entirely clear.\n",
    "\n",
    "### France - FR\n",
    "- [Ministery of the Environment,Energy and the Sea France](http://www.developpement-durable.gouv.fr/)\n",
    "\n",
    "> The data are annual published on the france [website for statistics](http://www.statistiques.developpement-durable.gouv.fr/energie-climat/r/energies-renouvelables.html?tx_ttnews[tt_news]=20647) as an Excel file. The Excel chart includes number and installed capacity of the different renewable source for every municipality in France. It is limited to the plants which are covered by article 10 of february 2000 by an agreement to a purchase commitment.\n",
    "\n",
    "### Poland - PL\n",
    "- [Urzad Regulacji Energetyki (URE)](http://www.ure.gov.pl/uremapoze/mapa.html) - Energy Regulatory Office of Poland\n",
    "\n",
    "> Number of installations and installed capacity per energy source of renewable energy, summed per powiat (districts) is illustrated on the page and can be downloaded as rtf-file\n",
    "\n",
    "A complete list of data sources is provided on the [datapackage information website](http://data.open-power-system-data.org/renewables/). They are also contained in the JSON file that contains all metadata.\n",
    " \n",
    "# 5. Notation\n",
    "[Table with notation and abbreviations]\n",
    " \n",
    "# 6. License\n",
    "This notebook as well as all other documents in this repository is published under the [MIT License](https://opensource.org/licenses/MIT).\n",
    " \n",
    "# 7.  Links to the other notebooks of this package\n",
    "Two more notebooks are used to download, process and validate these data:\n",
    "* [Part 1: Download and Process](download_and_process.ipynb): The original data is downloaded from the sources and merged. When running the script, the original downloaded files will be put in the folder input/original_data folder on your computer.\n",
    "* [Part 2: Validation and Output](validation_and_output.ipynb): This notebook subsequently checks, validates the list of renewable power plants and creates CSV/XLSX/SQLite files. It also generates a daily timeseries of cumulated installed capacities by generation types. After running both scripts, the results can be found in the folder output on your computer."
   ]
  },
  {
   "cell_type": "code",
   "execution_count": null,
   "metadata": {
    "collapsed": true
   },
   "outputs": [],
   "source": []
  }
 ],
 "metadata": {
  "kernelspec": {
   "display_name": "Python 3",
   "language": "python",
   "name": "python3"
  },
  "language_info": {
   "codemirror_mode": {
    "name": "ipython",
    "version": 3
   },
   "file_extension": ".py",
   "mimetype": "text/x-python",
   "name": "python",
   "nbconvert_exporter": "python",
   "pygments_lexer": "ipython3",
   "version": "3.5.2"
  },
  "latex_envs": {
   "bibliofile": "biblio.bib",
   "cite_by": "apalike",
   "current_citInitial": 1,
   "eqLabelWithNumbers": true,
   "eqNumInitial": 0
  }
 },
 "nbformat": 4,
 "nbformat_minor": 0
}
